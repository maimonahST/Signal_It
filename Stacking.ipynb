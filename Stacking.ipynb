{
  "cells": [
    {
      "cell_type": "markdown",
      "metadata": {
        "id": "view-in-github",
        "colab_type": "text"
      },
      "source": [
        "<a href=\"https://colab.research.google.com/github/maimonahST/GP/blob/main/Stacking.ipynb\" target=\"_parent\"><img src=\"https://colab.research.google.com/assets/colab-badge.svg\" alt=\"Open In Colab\"/></a>"
      ]
    },
    {
      "cell_type": "code",
      "execution_count": 25,
      "metadata": {
        "id": "IBMCjdPYCU97"
      },
      "outputs": [],
      "source": [
        "from sklearn.model_selection import train_test_split, StratifiedKFold\n",
        "from sklearn.ensemble import RandomForestClassifier\n",
        "from sklearn.naive_bayes import BernoulliNB\n",
        "from sklearn.ensemble import AdaBoostClassifier\n",
        "from xgboost import XGBClassifier\n",
        "from sklearn.tree import DecisionTreeClassifier\n",
        "from sklearn.ensemble import RandomForestClassifier\n",
        "from sklearn.metrics import accuracy_score\n",
        "from sklearn.model_selection import cross_val_predict\n",
        "from sklearn.base import clone\n",
        "import numpy as np\n",
        "from sklearn.metrics import accuracy_score, precision_score, recall_score, f1_score, confusion_matrix\n",
        "import seaborn as sns\n",
        "import matplotlib.pyplot as plt\n",
        "from lightgbm import LGBMClassifier\n",
        "\n",
        "import tensorflow as tf\n",
        "from tensorflow.keras.layers import Input, Conv1D, concatenate, Dense, MaxPooling1D, Flatten, GRU, SimpleRNN, LSTM, Dropout\n",
        "from tensorflow.keras.models import Model\n",
        "from tensorflow.keras.optimizers import Adam\n",
        "from tensorflow.keras.callbacks import EarlyStopping\n",
        "from tensorflow.keras.models import Sequential"
      ]
    },
    {
      "cell_type": "code",
      "execution_count": 13,
      "metadata": {
        "id": "qQfHSNjYTdU7"
      },
      "outputs": [],
      "source": [
        "from sklearn.model_selection import GroupKFold\n",
        "from sklearn.base import BaseEstimator, TransformerMixin\n",
        "from sklearn.preprocessing import StandardScaler\n",
        "import numpy as np\n",
        "\n",
        "gkf=GroupKFold()\n",
        "class StandardScaler3D(BaseEstimator,TransformerMixin):\n",
        "    #batch, sequence, channels\n",
        "    def __init__(self):\n",
        "        self.scaler = StandardScaler()\n",
        "\n",
        "    def fit(self,X,y=None):\n",
        "        self.scaler.fit(X.reshape(-1, X.shape[2]))\n",
        "        return self\n",
        "\n",
        "    def transform(self,X):\n",
        "        return self.scaler.transform(X.reshape( -1,X.shape[2])).reshape(X.shape)"
      ]
    },
    {
      "cell_type": "code",
      "source": [
        "def two_splits(data_array , label_array, group_array):\n",
        "\n",
        "  # Split data_array into train and validate\n",
        "  train_groups = []\n",
        "  for train_index, test_index in gkf.split(data_array, label_array, groups=group_array):\n",
        "      X_train, y_train = data_array[train_index],label_array[train_index]\n",
        "      X_test, y_test =data_array[test_index],label_array[test_index]\n",
        "      train_groups = group_array[train_index]\n",
        "\n",
        "      scaler=StandardScaler3D()\n",
        "      X_train=scaler.fit_transform(X_train)\n",
        "      X_test=scaler.transform(X_test)\n",
        "\n",
        "      print(f\"group={np.unique(group_array[train_index])}\")\n",
        "      print(f\"group={np.unique(group_array[test_index])}\")\n",
        "      break\n",
        "\n",
        "  return X_train, X_test, y_train, y_test, train_groups"
      ],
      "metadata": {
        "id": "RMfIYVotC5_b"
      },
      "execution_count": 15,
      "outputs": []
    },
    {
      "cell_type": "code",
      "source": [
        "def block(input):\n",
        "    conv1 = Conv1D(32, 2, strides=2, activation='relu', padding=\"same\")(input)\n",
        "    conv2 = Conv1D(32, 4, strides=2, activation='relu', padding=\"causal\")(input)\n",
        "    conv3 = Conv1D(32, 8, strides=2, activation='relu', padding=\"causal\")(input)\n",
        "    x = concatenate([conv1, conv2, conv3], axis=2)\n",
        "    return x"
      ],
      "metadata": {
        "id": "39marBJ8DEEp"
      },
      "execution_count": 18,
      "outputs": []
    },
    {
      "cell_type": "markdown",
      "metadata": {
        "id": "mELFnPdiSLSs"
      },
      "source": [
        "# ICA"
      ]
    },
    {
      "cell_type": "markdown",
      "metadata": {
        "id": "xq_xkX0gaTRm"
      },
      "source": [
        "**Prepare the data**\n"
      ]
    },
    {
      "cell_type": "code",
      "execution_count": null,
      "metadata": {
        "colab": {
          "base_uri": "https://localhost:8080/"
        },
        "id": "vfdaVd8vJdQL",
        "outputId": "650731c3-9705-48fb-c928-d4abc93e389c"
      },
      "outputs": [
        {
          "output_type": "execute_result",
          "data": {
            "text/plain": [
              "((45, 32, 32), (45,))"
            ]
          },
          "metadata": {},
          "execution_count": 2
        }
      ],
      "source": [
        "X_ica  = np.load('/content/drive/MyDrive/GP/GP-Data/X_ica2.npy')\n",
        "y_ica = np.load('/content/drive/MyDrive/GP/GP-Data/y_ica2.npy')\n",
        "y_ica = y_ica.astype('int')\n",
        "\n",
        "X_ica.shape, y_ica.shape"
      ]
    },
    {
      "cell_type": "code",
      "execution_count": null,
      "metadata": {
        "colab": {
          "base_uri": "https://localhost:8080/"
        },
        "id": "l7D6qnC1PgVp",
        "outputId": "c2947ed7-7395-4ddc-8489-e41ea27d3289"
      },
      "outputs": [
        {
          "output_type": "execute_result",
          "data": {
            "text/plain": [
              "array([0, 1, 2])"
            ]
          },
          "metadata": {},
          "execution_count": 3
        }
      ],
      "source": [
        "np.unique(y_ica)"
      ]
    },
    {
      "cell_type": "code",
      "execution_count": null,
      "metadata": {
        "colab": {
          "base_uri": "https://localhost:8080/"
        },
        "id": "s6IoTEfRJmrR",
        "outputId": "26e78d25-ffdb-4de2-c18e-c0624a384f98"
      },
      "outputs": [
        {
          "output_type": "execute_result",
          "data": {
            "text/plain": [
              "(array([0, 1]), array([0, 1]))"
            ]
          },
          "metadata": {},
          "execution_count": 4
        }
      ],
      "source": [
        "# Load your dataset and split into training and testing sets\n",
        "X_train_ica, X_test_ica, y_train_ica, y_test_ica = train_test_split(X_ica, y_ica, test_size=0.2, random_state=101)\n",
        "\n",
        "\n",
        "y_train_ica[y_train_ica==0] = 1 #Stroke\n",
        "y_train_ica[y_train_ica==2] = 0 #Healthy\n",
        "\n",
        "y_test_ica[y_test_ica==0] = 1 #Stroke\n",
        "y_test_ica[y_test_ica==2] = 0 #Healthy\n",
        "\n",
        "\n",
        "np.unique(y_train_ica), np.unique(y_test_ica)\n"
      ]
    },
    {
      "cell_type": "code",
      "execution_count": null,
      "metadata": {
        "id": "xirwYFrEPJlt",
        "colab": {
          "base_uri": "https://localhost:8080/",
          "height": 365
        },
        "outputId": "139c46f3-0b5e-4711-b5ff-72418e63eeed"
      },
      "outputs": [
        {
          "output_type": "error",
          "ename": "IndexError",
          "evalue": "tuple index out of range",
          "traceback": [
            "\u001b[0;31m---------------------------------------------------------------------------\u001b[0m",
            "\u001b[0;31mIndexError\u001b[0m                                Traceback (most recent call last)",
            "\u001b[0;32m<ipython-input-14-a7a0cfeab56e>\u001b[0m in \u001b[0;36m<cell line: 3>\u001b[0;34m()\u001b[0m\n\u001b[1;32m      1\u001b[0m \u001b[0;31m# Scale the data using StandardScaler\u001b[0m\u001b[0;34m\u001b[0m\u001b[0;34m\u001b[0m\u001b[0m\n\u001b[1;32m      2\u001b[0m \u001b[0mscaler\u001b[0m \u001b[0;34m=\u001b[0m \u001b[0mStandardScaler3D\u001b[0m\u001b[0;34m(\u001b[0m\u001b[0;34m)\u001b[0m\u001b[0;34m\u001b[0m\u001b[0;34m\u001b[0m\u001b[0m\n\u001b[0;32m----> 3\u001b[0;31m \u001b[0mX_train_ica\u001b[0m \u001b[0;34m=\u001b[0m \u001b[0mscaler\u001b[0m\u001b[0;34m.\u001b[0m\u001b[0mfit_transform\u001b[0m\u001b[0;34m(\u001b[0m\u001b[0mX_train_ica\u001b[0m\u001b[0;34m)\u001b[0m\u001b[0;34m\u001b[0m\u001b[0;34m\u001b[0m\u001b[0m\n\u001b[0m\u001b[1;32m      4\u001b[0m \u001b[0mX_test_ica\u001b[0m \u001b[0;34m=\u001b[0m \u001b[0mscaler\u001b[0m\u001b[0;34m.\u001b[0m\u001b[0mtransform\u001b[0m\u001b[0;34m(\u001b[0m\u001b[0mX_test_ica\u001b[0m\u001b[0;34m)\u001b[0m\u001b[0;34m\u001b[0m\u001b[0;34m\u001b[0m\u001b[0m\n\u001b[1;32m      5\u001b[0m \u001b[0;34m\u001b[0m\u001b[0m\n",
            "\u001b[0;32m/usr/local/lib/python3.10/dist-packages/sklearn/utils/_set_output.py\u001b[0m in \u001b[0;36mwrapped\u001b[0;34m(self, X, *args, **kwargs)\u001b[0m\n\u001b[1;32m    138\u001b[0m     \u001b[0;34m@\u001b[0m\u001b[0mwraps\u001b[0m\u001b[0;34m(\u001b[0m\u001b[0mf\u001b[0m\u001b[0;34m)\u001b[0m\u001b[0;34m\u001b[0m\u001b[0;34m\u001b[0m\u001b[0m\n\u001b[1;32m    139\u001b[0m     \u001b[0;32mdef\u001b[0m \u001b[0mwrapped\u001b[0m\u001b[0;34m(\u001b[0m\u001b[0mself\u001b[0m\u001b[0;34m,\u001b[0m \u001b[0mX\u001b[0m\u001b[0;34m,\u001b[0m \u001b[0;34m*\u001b[0m\u001b[0margs\u001b[0m\u001b[0;34m,\u001b[0m \u001b[0;34m**\u001b[0m\u001b[0mkwargs\u001b[0m\u001b[0;34m)\u001b[0m\u001b[0;34m:\u001b[0m\u001b[0;34m\u001b[0m\u001b[0;34m\u001b[0m\u001b[0m\n\u001b[0;32m--> 140\u001b[0;31m         \u001b[0mdata_to_wrap\u001b[0m \u001b[0;34m=\u001b[0m \u001b[0mf\u001b[0m\u001b[0;34m(\u001b[0m\u001b[0mself\u001b[0m\u001b[0;34m,\u001b[0m \u001b[0mX\u001b[0m\u001b[0;34m,\u001b[0m \u001b[0;34m*\u001b[0m\u001b[0margs\u001b[0m\u001b[0;34m,\u001b[0m \u001b[0;34m**\u001b[0m\u001b[0mkwargs\u001b[0m\u001b[0;34m)\u001b[0m\u001b[0;34m\u001b[0m\u001b[0;34m\u001b[0m\u001b[0m\n\u001b[0m\u001b[1;32m    141\u001b[0m         \u001b[0;32mif\u001b[0m \u001b[0misinstance\u001b[0m\u001b[0;34m(\u001b[0m\u001b[0mdata_to_wrap\u001b[0m\u001b[0;34m,\u001b[0m \u001b[0mtuple\u001b[0m\u001b[0;34m)\u001b[0m\u001b[0;34m:\u001b[0m\u001b[0;34m\u001b[0m\u001b[0;34m\u001b[0m\u001b[0m\n\u001b[1;32m    142\u001b[0m             \u001b[0;31m# only wrap the first output for cross decomposition\u001b[0m\u001b[0;34m\u001b[0m\u001b[0;34m\u001b[0m\u001b[0m\n",
            "\u001b[0;32m/usr/local/lib/python3.10/dist-packages/sklearn/base.py\u001b[0m in \u001b[0;36mfit_transform\u001b[0;34m(self, X, y, **fit_params)\u001b[0m\n\u001b[1;32m    876\u001b[0m         \u001b[0;32mif\u001b[0m \u001b[0my\u001b[0m \u001b[0;32mis\u001b[0m \u001b[0;32mNone\u001b[0m\u001b[0;34m:\u001b[0m\u001b[0;34m\u001b[0m\u001b[0;34m\u001b[0m\u001b[0m\n\u001b[1;32m    877\u001b[0m             \u001b[0;31m# fit method of arity 1 (unsupervised transformation)\u001b[0m\u001b[0;34m\u001b[0m\u001b[0;34m\u001b[0m\u001b[0m\n\u001b[0;32m--> 878\u001b[0;31m             \u001b[0;32mreturn\u001b[0m \u001b[0mself\u001b[0m\u001b[0;34m.\u001b[0m\u001b[0mfit\u001b[0m\u001b[0;34m(\u001b[0m\u001b[0mX\u001b[0m\u001b[0;34m,\u001b[0m \u001b[0;34m**\u001b[0m\u001b[0mfit_params\u001b[0m\u001b[0;34m)\u001b[0m\u001b[0;34m.\u001b[0m\u001b[0mtransform\u001b[0m\u001b[0;34m(\u001b[0m\u001b[0mX\u001b[0m\u001b[0;34m)\u001b[0m\u001b[0;34m\u001b[0m\u001b[0;34m\u001b[0m\u001b[0m\n\u001b[0m\u001b[1;32m    879\u001b[0m         \u001b[0;32melse\u001b[0m\u001b[0;34m:\u001b[0m\u001b[0;34m\u001b[0m\u001b[0;34m\u001b[0m\u001b[0m\n\u001b[1;32m    880\u001b[0m             \u001b[0;31m# fit method of arity 2 (supervised transformation)\u001b[0m\u001b[0;34m\u001b[0m\u001b[0;34m\u001b[0m\u001b[0m\n",
            "\u001b[0;32m<ipython-input-6-149e27609a83>\u001b[0m in \u001b[0;36mfit\u001b[0;34m(self, X, y)\u001b[0m\n\u001b[1;32m     11\u001b[0m \u001b[0;34m\u001b[0m\u001b[0m\n\u001b[1;32m     12\u001b[0m     \u001b[0;32mdef\u001b[0m \u001b[0mfit\u001b[0m\u001b[0;34m(\u001b[0m\u001b[0mself\u001b[0m\u001b[0;34m,\u001b[0m\u001b[0mX\u001b[0m\u001b[0;34m,\u001b[0m\u001b[0my\u001b[0m\u001b[0;34m=\u001b[0m\u001b[0;32mNone\u001b[0m\u001b[0;34m)\u001b[0m\u001b[0;34m:\u001b[0m\u001b[0;34m\u001b[0m\u001b[0;34m\u001b[0m\u001b[0m\n\u001b[0;32m---> 13\u001b[0;31m         \u001b[0mself\u001b[0m\u001b[0;34m.\u001b[0m\u001b[0mscaler\u001b[0m\u001b[0;34m.\u001b[0m\u001b[0mfit\u001b[0m\u001b[0;34m(\u001b[0m\u001b[0mX\u001b[0m\u001b[0;34m.\u001b[0m\u001b[0mreshape\u001b[0m\u001b[0;34m(\u001b[0m\u001b[0;34m-\u001b[0m\u001b[0;36m1\u001b[0m\u001b[0;34m,\u001b[0m \u001b[0mX\u001b[0m\u001b[0;34m.\u001b[0m\u001b[0mshape\u001b[0m\u001b[0;34m[\u001b[0m\u001b[0;36m2\u001b[0m\u001b[0;34m]\u001b[0m\u001b[0;34m)\u001b[0m\u001b[0;34m)\u001b[0m\u001b[0;34m\u001b[0m\u001b[0;34m\u001b[0m\u001b[0m\n\u001b[0m\u001b[1;32m     14\u001b[0m         \u001b[0;32mreturn\u001b[0m \u001b[0mself\u001b[0m\u001b[0;34m\u001b[0m\u001b[0;34m\u001b[0m\u001b[0m\n\u001b[1;32m     15\u001b[0m \u001b[0;34m\u001b[0m\u001b[0m\n",
            "\u001b[0;31mIndexError\u001b[0m: tuple index out of range"
          ]
        }
      ],
      "source": [
        "# Scale the data using StandardScaler\n",
        "scaler = StandardScaler3D()\n",
        "X_train_ica = scaler.fit_transform(X_train_ica)\n",
        "X_test_ica = scaler.transform(X_test_ica)\n",
        "\n",
        "# Flatten the data array for ML models\n",
        "X_train_ica = X_train_ica.reshape(X_train_ica.shape[0], -1)\n",
        "X_test_ica = X_test_ica.reshape(X_test_ica.shape[0], -1)\n",
        "y_train_ica = y_train_ica.reshape(y_train_ica.shape[0], -1)\n",
        "y_test_ica = y_test_ica.reshape(y_test_ica.shape[0], -1)\n"
      ]
    },
    {
      "cell_type": "markdown",
      "metadata": {
        "id": "ulvdqUUyCWRP"
      },
      "source": [
        "## Ensemble\n",
        "\n",
        "Ensemble ML models (Bernoulli NB, Adaboost, XGBoost, DT) using several ensemble methods"
      ]
    },
    {
      "cell_type": "code",
      "execution_count": null,
      "metadata": {
        "colab": {
          "base_uri": "https://localhost:8080/",
          "height": 130
        },
        "id": "2UaLJWY78Nx4",
        "outputId": "99d0640e-b785-4011-9991-fc8bb73af8a0"
      },
      "outputs": [
        {
          "output_type": "stream",
          "name": "stderr",
          "text": [
            "/usr/local/lib/python3.10/dist-packages/sklearn/utils/validation.py:1143: DataConversionWarning: A column-vector y was passed when a 1d array was expected. Please change the shape of y to (n_samples, ), for example using ravel().\n",
            "  y = column_or_1d(y, warn=True)\n"
          ]
        },
        {
          "output_type": "execute_result",
          "data": {
            "text/plain": [
              "BernoulliNB(alpha=0.1)"
            ],
            "text/html": [
              "<style>#sk-container-id-6 {color: black;background-color: white;}#sk-container-id-6 pre{padding: 0;}#sk-container-id-6 div.sk-toggleable {background-color: white;}#sk-container-id-6 label.sk-toggleable__label {cursor: pointer;display: block;width: 100%;margin-bottom: 0;padding: 0.3em;box-sizing: border-box;text-align: center;}#sk-container-id-6 label.sk-toggleable__label-arrow:before {content: \"▸\";float: left;margin-right: 0.25em;color: #696969;}#sk-container-id-6 label.sk-toggleable__label-arrow:hover:before {color: black;}#sk-container-id-6 div.sk-estimator:hover label.sk-toggleable__label-arrow:before {color: black;}#sk-container-id-6 div.sk-toggleable__content {max-height: 0;max-width: 0;overflow: hidden;text-align: left;background-color: #f0f8ff;}#sk-container-id-6 div.sk-toggleable__content pre {margin: 0.2em;color: black;border-radius: 0.25em;background-color: #f0f8ff;}#sk-container-id-6 input.sk-toggleable__control:checked~div.sk-toggleable__content {max-height: 200px;max-width: 100%;overflow: auto;}#sk-container-id-6 input.sk-toggleable__control:checked~label.sk-toggleable__label-arrow:before {content: \"▾\";}#sk-container-id-6 div.sk-estimator input.sk-toggleable__control:checked~label.sk-toggleable__label {background-color: #d4ebff;}#sk-container-id-6 div.sk-label input.sk-toggleable__control:checked~label.sk-toggleable__label {background-color: #d4ebff;}#sk-container-id-6 input.sk-hidden--visually {border: 0;clip: rect(1px 1px 1px 1px);clip: rect(1px, 1px, 1px, 1px);height: 1px;margin: -1px;overflow: hidden;padding: 0;position: absolute;width: 1px;}#sk-container-id-6 div.sk-estimator {font-family: monospace;background-color: #f0f8ff;border: 1px dotted black;border-radius: 0.25em;box-sizing: border-box;margin-bottom: 0.5em;}#sk-container-id-6 div.sk-estimator:hover {background-color: #d4ebff;}#sk-container-id-6 div.sk-parallel-item::after {content: \"\";width: 100%;border-bottom: 1px solid gray;flex-grow: 1;}#sk-container-id-6 div.sk-label:hover label.sk-toggleable__label {background-color: #d4ebff;}#sk-container-id-6 div.sk-serial::before {content: \"\";position: absolute;border-left: 1px solid gray;box-sizing: border-box;top: 0;bottom: 0;left: 50%;z-index: 0;}#sk-container-id-6 div.sk-serial {display: flex;flex-direction: column;align-items: center;background-color: white;padding-right: 0.2em;padding-left: 0.2em;position: relative;}#sk-container-id-6 div.sk-item {position: relative;z-index: 1;}#sk-container-id-6 div.sk-parallel {display: flex;align-items: stretch;justify-content: center;background-color: white;position: relative;}#sk-container-id-6 div.sk-item::before, #sk-container-id-6 div.sk-parallel-item::before {content: \"\";position: absolute;border-left: 1px solid gray;box-sizing: border-box;top: 0;bottom: 0;left: 50%;z-index: -1;}#sk-container-id-6 div.sk-parallel-item {display: flex;flex-direction: column;z-index: 1;position: relative;background-color: white;}#sk-container-id-6 div.sk-parallel-item:first-child::after {align-self: flex-end;width: 50%;}#sk-container-id-6 div.sk-parallel-item:last-child::after {align-self: flex-start;width: 50%;}#sk-container-id-6 div.sk-parallel-item:only-child::after {width: 0;}#sk-container-id-6 div.sk-dashed-wrapped {border: 1px dashed gray;margin: 0 0.4em 0.5em 0.4em;box-sizing: border-box;padding-bottom: 0.4em;background-color: white;}#sk-container-id-6 div.sk-label label {font-family: monospace;font-weight: bold;display: inline-block;line-height: 1.2em;}#sk-container-id-6 div.sk-label-container {text-align: center;}#sk-container-id-6 div.sk-container {/* jupyter's `normalize.less` sets `[hidden] { display: none; }` but bootstrap.min.css set `[hidden] { display: none !important; }` so we also need the `!important` here to be able to override the default hidden behavior on the sphinx rendered scikit-learn.org. See: https://github.com/scikit-learn/scikit-learn/issues/21755 */display: inline-block !important;position: relative;}#sk-container-id-6 div.sk-text-repr-fallback {display: none;}</style><div id=\"sk-container-id-6\" class=\"sk-top-container\"><div class=\"sk-text-repr-fallback\"><pre>BernoulliNB(alpha=0.1)</pre><b>In a Jupyter environment, please rerun this cell to show the HTML representation or trust the notebook. <br />On GitHub, the HTML representation is unable to render, please try loading this page with nbviewer.org.</b></div><div class=\"sk-container\" hidden><div class=\"sk-item\"><div class=\"sk-estimator sk-toggleable\"><input class=\"sk-toggleable__control sk-hidden--visually\" id=\"sk-estimator-id-6\" type=\"checkbox\" checked><label for=\"sk-estimator-id-6\" class=\"sk-toggleable__label sk-toggleable__label-arrow\">BernoulliNB</label><div class=\"sk-toggleable__content\"><pre>BernoulliNB(alpha=0.1)</pre></div></div></div></div></div>"
            ]
          },
          "metadata": {},
          "execution_count": 15
        }
      ],
      "source": [
        "# Train ML models (Base models)\n",
        "bernoulli_nb = BernoulliNB(alpha=0.1, binarize = 0.0 , fit_prior = True)\n",
        "bernoulli_nb.fit(X_train_ica, y_train_ica)"
      ]
    },
    {
      "cell_type": "code",
      "execution_count": null,
      "metadata": {
        "colab": {
          "base_uri": "https://localhost:8080/",
          "height": 130
        },
        "id": "eAAN6IcrAMbA",
        "outputId": "3fcab8b8-87a9-41ec-8d89-acb74d728da0"
      },
      "outputs": [
        {
          "output_type": "stream",
          "name": "stderr",
          "text": [
            "/usr/local/lib/python3.10/dist-packages/sklearn/utils/validation.py:1143: DataConversionWarning: A column-vector y was passed when a 1d array was expected. Please change the shape of y to (n_samples, ), for example using ravel().\n",
            "  y = column_or_1d(y, warn=True)\n"
          ]
        },
        {
          "output_type": "execute_result",
          "data": {
            "text/plain": [
              "AdaBoostClassifier(learning_rate=1, n_estimators=200)"
            ],
            "text/html": [
              "<style>#sk-container-id-7 {color: black;background-color: white;}#sk-container-id-7 pre{padding: 0;}#sk-container-id-7 div.sk-toggleable {background-color: white;}#sk-container-id-7 label.sk-toggleable__label {cursor: pointer;display: block;width: 100%;margin-bottom: 0;padding: 0.3em;box-sizing: border-box;text-align: center;}#sk-container-id-7 label.sk-toggleable__label-arrow:before {content: \"▸\";float: left;margin-right: 0.25em;color: #696969;}#sk-container-id-7 label.sk-toggleable__label-arrow:hover:before {color: black;}#sk-container-id-7 div.sk-estimator:hover label.sk-toggleable__label-arrow:before {color: black;}#sk-container-id-7 div.sk-toggleable__content {max-height: 0;max-width: 0;overflow: hidden;text-align: left;background-color: #f0f8ff;}#sk-container-id-7 div.sk-toggleable__content pre {margin: 0.2em;color: black;border-radius: 0.25em;background-color: #f0f8ff;}#sk-container-id-7 input.sk-toggleable__control:checked~div.sk-toggleable__content {max-height: 200px;max-width: 100%;overflow: auto;}#sk-container-id-7 input.sk-toggleable__control:checked~label.sk-toggleable__label-arrow:before {content: \"▾\";}#sk-container-id-7 div.sk-estimator input.sk-toggleable__control:checked~label.sk-toggleable__label {background-color: #d4ebff;}#sk-container-id-7 div.sk-label input.sk-toggleable__control:checked~label.sk-toggleable__label {background-color: #d4ebff;}#sk-container-id-7 input.sk-hidden--visually {border: 0;clip: rect(1px 1px 1px 1px);clip: rect(1px, 1px, 1px, 1px);height: 1px;margin: -1px;overflow: hidden;padding: 0;position: absolute;width: 1px;}#sk-container-id-7 div.sk-estimator {font-family: monospace;background-color: #f0f8ff;border: 1px dotted black;border-radius: 0.25em;box-sizing: border-box;margin-bottom: 0.5em;}#sk-container-id-7 div.sk-estimator:hover {background-color: #d4ebff;}#sk-container-id-7 div.sk-parallel-item::after {content: \"\";width: 100%;border-bottom: 1px solid gray;flex-grow: 1;}#sk-container-id-7 div.sk-label:hover label.sk-toggleable__label {background-color: #d4ebff;}#sk-container-id-7 div.sk-serial::before {content: \"\";position: absolute;border-left: 1px solid gray;box-sizing: border-box;top: 0;bottom: 0;left: 50%;z-index: 0;}#sk-container-id-7 div.sk-serial {display: flex;flex-direction: column;align-items: center;background-color: white;padding-right: 0.2em;padding-left: 0.2em;position: relative;}#sk-container-id-7 div.sk-item {position: relative;z-index: 1;}#sk-container-id-7 div.sk-parallel {display: flex;align-items: stretch;justify-content: center;background-color: white;position: relative;}#sk-container-id-7 div.sk-item::before, #sk-container-id-7 div.sk-parallel-item::before {content: \"\";position: absolute;border-left: 1px solid gray;box-sizing: border-box;top: 0;bottom: 0;left: 50%;z-index: -1;}#sk-container-id-7 div.sk-parallel-item {display: flex;flex-direction: column;z-index: 1;position: relative;background-color: white;}#sk-container-id-7 div.sk-parallel-item:first-child::after {align-self: flex-end;width: 50%;}#sk-container-id-7 div.sk-parallel-item:last-child::after {align-self: flex-start;width: 50%;}#sk-container-id-7 div.sk-parallel-item:only-child::after {width: 0;}#sk-container-id-7 div.sk-dashed-wrapped {border: 1px dashed gray;margin: 0 0.4em 0.5em 0.4em;box-sizing: border-box;padding-bottom: 0.4em;background-color: white;}#sk-container-id-7 div.sk-label label {font-family: monospace;font-weight: bold;display: inline-block;line-height: 1.2em;}#sk-container-id-7 div.sk-label-container {text-align: center;}#sk-container-id-7 div.sk-container {/* jupyter's `normalize.less` sets `[hidden] { display: none; }` but bootstrap.min.css set `[hidden] { display: none !important; }` so we also need the `!important` here to be able to override the default hidden behavior on the sphinx rendered scikit-learn.org. See: https://github.com/scikit-learn/scikit-learn/issues/21755 */display: inline-block !important;position: relative;}#sk-container-id-7 div.sk-text-repr-fallback {display: none;}</style><div id=\"sk-container-id-7\" class=\"sk-top-container\"><div class=\"sk-text-repr-fallback\"><pre>AdaBoostClassifier(learning_rate=1, n_estimators=200)</pre><b>In a Jupyter environment, please rerun this cell to show the HTML representation or trust the notebook. <br />On GitHub, the HTML representation is unable to render, please try loading this page with nbviewer.org.</b></div><div class=\"sk-container\" hidden><div class=\"sk-item\"><div class=\"sk-estimator sk-toggleable\"><input class=\"sk-toggleable__control sk-hidden--visually\" id=\"sk-estimator-id-7\" type=\"checkbox\" checked><label for=\"sk-estimator-id-7\" class=\"sk-toggleable__label sk-toggleable__label-arrow\">AdaBoostClassifier</label><div class=\"sk-toggleable__content\"><pre>AdaBoostClassifier(learning_rate=1, n_estimators=200)</pre></div></div></div></div></div>"
            ]
          },
          "metadata": {},
          "execution_count": 16
        }
      ],
      "source": [
        "Adaboost = AdaBoostClassifier(n_estimators = 200 , learning_rate = 1)\n",
        "Adaboost.fit(X_train_ica, y_train_ica)"
      ]
    },
    {
      "cell_type": "code",
      "execution_count": null,
      "metadata": {
        "colab": {
          "base_uri": "https://localhost:8080/",
          "height": 248
        },
        "id": "XR3q9zrk9iIp",
        "outputId": "04f83a87-05dd-4be2-fa4a-cb26b53cbcfa"
      },
      "outputs": [
        {
          "output_type": "execute_result",
          "data": {
            "text/plain": [
              "XGBClassifier(base_score=None, booster=None, callbacks=None,\n",
              "              colsample_bylevel=None, colsample_bynode=None,\n",
              "              colsample_bytree=None, device=None, early_stopping_rounds=None,\n",
              "              enable_categorical=False, eval_metric=None, feature_types=None,\n",
              "              gamma=None, grow_policy=None, importance_type=None,\n",
              "              interaction_constraints=None, learning_rate=0.01, max_bin=None,\n",
              "              max_cat_threshold=None, max_cat_to_onehot=None,\n",
              "              max_delta_step=None, max_depth=9, max_leaves=None,\n",
              "              min_child_weight=None, missing=nan, monotone_constraints=None,\n",
              "              multi_strategy=None, n_estimators=200, n_jobs=None,\n",
              "              num_parallel_tree=None, random_state=None, ...)"
            ],
            "text/html": [
              "<style>#sk-container-id-8 {color: black;background-color: white;}#sk-container-id-8 pre{padding: 0;}#sk-container-id-8 div.sk-toggleable {background-color: white;}#sk-container-id-8 label.sk-toggleable__label {cursor: pointer;display: block;width: 100%;margin-bottom: 0;padding: 0.3em;box-sizing: border-box;text-align: center;}#sk-container-id-8 label.sk-toggleable__label-arrow:before {content: \"▸\";float: left;margin-right: 0.25em;color: #696969;}#sk-container-id-8 label.sk-toggleable__label-arrow:hover:before {color: black;}#sk-container-id-8 div.sk-estimator:hover label.sk-toggleable__label-arrow:before {color: black;}#sk-container-id-8 div.sk-toggleable__content {max-height: 0;max-width: 0;overflow: hidden;text-align: left;background-color: #f0f8ff;}#sk-container-id-8 div.sk-toggleable__content pre {margin: 0.2em;color: black;border-radius: 0.25em;background-color: #f0f8ff;}#sk-container-id-8 input.sk-toggleable__control:checked~div.sk-toggleable__content {max-height: 200px;max-width: 100%;overflow: auto;}#sk-container-id-8 input.sk-toggleable__control:checked~label.sk-toggleable__label-arrow:before {content: \"▾\";}#sk-container-id-8 div.sk-estimator input.sk-toggleable__control:checked~label.sk-toggleable__label {background-color: #d4ebff;}#sk-container-id-8 div.sk-label input.sk-toggleable__control:checked~label.sk-toggleable__label {background-color: #d4ebff;}#sk-container-id-8 input.sk-hidden--visually {border: 0;clip: rect(1px 1px 1px 1px);clip: rect(1px, 1px, 1px, 1px);height: 1px;margin: -1px;overflow: hidden;padding: 0;position: absolute;width: 1px;}#sk-container-id-8 div.sk-estimator {font-family: monospace;background-color: #f0f8ff;border: 1px dotted black;border-radius: 0.25em;box-sizing: border-box;margin-bottom: 0.5em;}#sk-container-id-8 div.sk-estimator:hover {background-color: #d4ebff;}#sk-container-id-8 div.sk-parallel-item::after {content: \"\";width: 100%;border-bottom: 1px solid gray;flex-grow: 1;}#sk-container-id-8 div.sk-label:hover label.sk-toggleable__label {background-color: #d4ebff;}#sk-container-id-8 div.sk-serial::before {content: \"\";position: absolute;border-left: 1px solid gray;box-sizing: border-box;top: 0;bottom: 0;left: 50%;z-index: 0;}#sk-container-id-8 div.sk-serial {display: flex;flex-direction: column;align-items: center;background-color: white;padding-right: 0.2em;padding-left: 0.2em;position: relative;}#sk-container-id-8 div.sk-item {position: relative;z-index: 1;}#sk-container-id-8 div.sk-parallel {display: flex;align-items: stretch;justify-content: center;background-color: white;position: relative;}#sk-container-id-8 div.sk-item::before, #sk-container-id-8 div.sk-parallel-item::before {content: \"\";position: absolute;border-left: 1px solid gray;box-sizing: border-box;top: 0;bottom: 0;left: 50%;z-index: -1;}#sk-container-id-8 div.sk-parallel-item {display: flex;flex-direction: column;z-index: 1;position: relative;background-color: white;}#sk-container-id-8 div.sk-parallel-item:first-child::after {align-self: flex-end;width: 50%;}#sk-container-id-8 div.sk-parallel-item:last-child::after {align-self: flex-start;width: 50%;}#sk-container-id-8 div.sk-parallel-item:only-child::after {width: 0;}#sk-container-id-8 div.sk-dashed-wrapped {border: 1px dashed gray;margin: 0 0.4em 0.5em 0.4em;box-sizing: border-box;padding-bottom: 0.4em;background-color: white;}#sk-container-id-8 div.sk-label label {font-family: monospace;font-weight: bold;display: inline-block;line-height: 1.2em;}#sk-container-id-8 div.sk-label-container {text-align: center;}#sk-container-id-8 div.sk-container {/* jupyter's `normalize.less` sets `[hidden] { display: none; }` but bootstrap.min.css set `[hidden] { display: none !important; }` so we also need the `!important` here to be able to override the default hidden behavior on the sphinx rendered scikit-learn.org. See: https://github.com/scikit-learn/scikit-learn/issues/21755 */display: inline-block !important;position: relative;}#sk-container-id-8 div.sk-text-repr-fallback {display: none;}</style><div id=\"sk-container-id-8\" class=\"sk-top-container\"><div class=\"sk-text-repr-fallback\"><pre>XGBClassifier(base_score=None, booster=None, callbacks=None,\n",
              "              colsample_bylevel=None, colsample_bynode=None,\n",
              "              colsample_bytree=None, device=None, early_stopping_rounds=None,\n",
              "              enable_categorical=False, eval_metric=None, feature_types=None,\n",
              "              gamma=None, grow_policy=None, importance_type=None,\n",
              "              interaction_constraints=None, learning_rate=0.01, max_bin=None,\n",
              "              max_cat_threshold=None, max_cat_to_onehot=None,\n",
              "              max_delta_step=None, max_depth=9, max_leaves=None,\n",
              "              min_child_weight=None, missing=nan, monotone_constraints=None,\n",
              "              multi_strategy=None, n_estimators=200, n_jobs=None,\n",
              "              num_parallel_tree=None, random_state=None, ...)</pre><b>In a Jupyter environment, please rerun this cell to show the HTML representation or trust the notebook. <br />On GitHub, the HTML representation is unable to render, please try loading this page with nbviewer.org.</b></div><div class=\"sk-container\" hidden><div class=\"sk-item\"><div class=\"sk-estimator sk-toggleable\"><input class=\"sk-toggleable__control sk-hidden--visually\" id=\"sk-estimator-id-8\" type=\"checkbox\" checked><label for=\"sk-estimator-id-8\" class=\"sk-toggleable__label sk-toggleable__label-arrow\">XGBClassifier</label><div class=\"sk-toggleable__content\"><pre>XGBClassifier(base_score=None, booster=None, callbacks=None,\n",
              "              colsample_bylevel=None, colsample_bynode=None,\n",
              "              colsample_bytree=None, device=None, early_stopping_rounds=None,\n",
              "              enable_categorical=False, eval_metric=None, feature_types=None,\n",
              "              gamma=None, grow_policy=None, importance_type=None,\n",
              "              interaction_constraints=None, learning_rate=0.01, max_bin=None,\n",
              "              max_cat_threshold=None, max_cat_to_onehot=None,\n",
              "              max_delta_step=None, max_depth=9, max_leaves=None,\n",
              "              min_child_weight=None, missing=nan, monotone_constraints=None,\n",
              "              multi_strategy=None, n_estimators=200, n_jobs=None,\n",
              "              num_parallel_tree=None, random_state=None, ...)</pre></div></div></div></div></div>"
            ]
          },
          "metadata": {},
          "execution_count": 17
        }
      ],
      "source": [
        "xgboost = XGBClassifier(max_depth=9, n_estimators=200, learning_rate=0.01)\n",
        "xgboost.fit(X_train_ica, y_train_ica)"
      ]
    },
    {
      "cell_type": "code",
      "execution_count": null,
      "metadata": {
        "colab": {
          "base_uri": "https://localhost:8080/",
          "height": 75
        },
        "id": "VgAx5t_Z9g4S",
        "outputId": "987db25b-8fd4-4fc4-f5b9-a1fd97536b32"
      },
      "outputs": [
        {
          "output_type": "execute_result",
          "data": {
            "text/plain": [
              "DecisionTreeClassifier(max_depth=3, min_samples_leaf=5)"
            ],
            "text/html": [
              "<style>#sk-container-id-9 {color: black;background-color: white;}#sk-container-id-9 pre{padding: 0;}#sk-container-id-9 div.sk-toggleable {background-color: white;}#sk-container-id-9 label.sk-toggleable__label {cursor: pointer;display: block;width: 100%;margin-bottom: 0;padding: 0.3em;box-sizing: border-box;text-align: center;}#sk-container-id-9 label.sk-toggleable__label-arrow:before {content: \"▸\";float: left;margin-right: 0.25em;color: #696969;}#sk-container-id-9 label.sk-toggleable__label-arrow:hover:before {color: black;}#sk-container-id-9 div.sk-estimator:hover label.sk-toggleable__label-arrow:before {color: black;}#sk-container-id-9 div.sk-toggleable__content {max-height: 0;max-width: 0;overflow: hidden;text-align: left;background-color: #f0f8ff;}#sk-container-id-9 div.sk-toggleable__content pre {margin: 0.2em;color: black;border-radius: 0.25em;background-color: #f0f8ff;}#sk-container-id-9 input.sk-toggleable__control:checked~div.sk-toggleable__content {max-height: 200px;max-width: 100%;overflow: auto;}#sk-container-id-9 input.sk-toggleable__control:checked~label.sk-toggleable__label-arrow:before {content: \"▾\";}#sk-container-id-9 div.sk-estimator input.sk-toggleable__control:checked~label.sk-toggleable__label {background-color: #d4ebff;}#sk-container-id-9 div.sk-label input.sk-toggleable__control:checked~label.sk-toggleable__label {background-color: #d4ebff;}#sk-container-id-9 input.sk-hidden--visually {border: 0;clip: rect(1px 1px 1px 1px);clip: rect(1px, 1px, 1px, 1px);height: 1px;margin: -1px;overflow: hidden;padding: 0;position: absolute;width: 1px;}#sk-container-id-9 div.sk-estimator {font-family: monospace;background-color: #f0f8ff;border: 1px dotted black;border-radius: 0.25em;box-sizing: border-box;margin-bottom: 0.5em;}#sk-container-id-9 div.sk-estimator:hover {background-color: #d4ebff;}#sk-container-id-9 div.sk-parallel-item::after {content: \"\";width: 100%;border-bottom: 1px solid gray;flex-grow: 1;}#sk-container-id-9 div.sk-label:hover label.sk-toggleable__label {background-color: #d4ebff;}#sk-container-id-9 div.sk-serial::before {content: \"\";position: absolute;border-left: 1px solid gray;box-sizing: border-box;top: 0;bottom: 0;left: 50%;z-index: 0;}#sk-container-id-9 div.sk-serial {display: flex;flex-direction: column;align-items: center;background-color: white;padding-right: 0.2em;padding-left: 0.2em;position: relative;}#sk-container-id-9 div.sk-item {position: relative;z-index: 1;}#sk-container-id-9 div.sk-parallel {display: flex;align-items: stretch;justify-content: center;background-color: white;position: relative;}#sk-container-id-9 div.sk-item::before, #sk-container-id-9 div.sk-parallel-item::before {content: \"\";position: absolute;border-left: 1px solid gray;box-sizing: border-box;top: 0;bottom: 0;left: 50%;z-index: -1;}#sk-container-id-9 div.sk-parallel-item {display: flex;flex-direction: column;z-index: 1;position: relative;background-color: white;}#sk-container-id-9 div.sk-parallel-item:first-child::after {align-self: flex-end;width: 50%;}#sk-container-id-9 div.sk-parallel-item:last-child::after {align-self: flex-start;width: 50%;}#sk-container-id-9 div.sk-parallel-item:only-child::after {width: 0;}#sk-container-id-9 div.sk-dashed-wrapped {border: 1px dashed gray;margin: 0 0.4em 0.5em 0.4em;box-sizing: border-box;padding-bottom: 0.4em;background-color: white;}#sk-container-id-9 div.sk-label label {font-family: monospace;font-weight: bold;display: inline-block;line-height: 1.2em;}#sk-container-id-9 div.sk-label-container {text-align: center;}#sk-container-id-9 div.sk-container {/* jupyter's `normalize.less` sets `[hidden] { display: none; }` but bootstrap.min.css set `[hidden] { display: none !important; }` so we also need the `!important` here to be able to override the default hidden behavior on the sphinx rendered scikit-learn.org. See: https://github.com/scikit-learn/scikit-learn/issues/21755 */display: inline-block !important;position: relative;}#sk-container-id-9 div.sk-text-repr-fallback {display: none;}</style><div id=\"sk-container-id-9\" class=\"sk-top-container\"><div class=\"sk-text-repr-fallback\"><pre>DecisionTreeClassifier(max_depth=3, min_samples_leaf=5)</pre><b>In a Jupyter environment, please rerun this cell to show the HTML representation or trust the notebook. <br />On GitHub, the HTML representation is unable to render, please try loading this page with nbviewer.org.</b></div><div class=\"sk-container\" hidden><div class=\"sk-item\"><div class=\"sk-estimator sk-toggleable\"><input class=\"sk-toggleable__control sk-hidden--visually\" id=\"sk-estimator-id-9\" type=\"checkbox\" checked><label for=\"sk-estimator-id-9\" class=\"sk-toggleable__label sk-toggleable__label-arrow\">DecisionTreeClassifier</label><div class=\"sk-toggleable__content\"><pre>DecisionTreeClassifier(max_depth=3, min_samples_leaf=5)</pre></div></div></div></div></div>"
            ]
          },
          "metadata": {},
          "execution_count": 18
        }
      ],
      "source": [
        "decision_tree = DecisionTreeClassifier(criterion='gini', max_depth=3, min_samples_leaf=5)\n",
        "decision_tree.fit(X_train_ica, y_train_ica)"
      ]
    },
    {
      "cell_type": "code",
      "execution_count": null,
      "metadata": {
        "colab": {
          "base_uri": "https://localhost:8080/",
          "height": 130
        },
        "id": "OANCYlBi-sXc",
        "outputId": "6ce8e86c-51b7-4e41-80cb-1997b9493d8c"
      },
      "outputs": [
        {
          "output_type": "stream",
          "name": "stderr",
          "text": [
            "<ipython-input-19-1edf83764416>:2: DataConversionWarning: A column-vector y was passed when a 1d array was expected. Please change the shape of y to (n_samples,), for example using ravel().\n",
            "  RandomForest.fit(X_train_ica, y_train_ica)\n"
          ]
        },
        {
          "output_type": "execute_result",
          "data": {
            "text/plain": [
              "RandomForestClassifier(max_depth=3, min_samples_leaf=5)"
            ],
            "text/html": [
              "<style>#sk-container-id-10 {color: black;background-color: white;}#sk-container-id-10 pre{padding: 0;}#sk-container-id-10 div.sk-toggleable {background-color: white;}#sk-container-id-10 label.sk-toggleable__label {cursor: pointer;display: block;width: 100%;margin-bottom: 0;padding: 0.3em;box-sizing: border-box;text-align: center;}#sk-container-id-10 label.sk-toggleable__label-arrow:before {content: \"▸\";float: left;margin-right: 0.25em;color: #696969;}#sk-container-id-10 label.sk-toggleable__label-arrow:hover:before {color: black;}#sk-container-id-10 div.sk-estimator:hover label.sk-toggleable__label-arrow:before {color: black;}#sk-container-id-10 div.sk-toggleable__content {max-height: 0;max-width: 0;overflow: hidden;text-align: left;background-color: #f0f8ff;}#sk-container-id-10 div.sk-toggleable__content pre {margin: 0.2em;color: black;border-radius: 0.25em;background-color: #f0f8ff;}#sk-container-id-10 input.sk-toggleable__control:checked~div.sk-toggleable__content {max-height: 200px;max-width: 100%;overflow: auto;}#sk-container-id-10 input.sk-toggleable__control:checked~label.sk-toggleable__label-arrow:before {content: \"▾\";}#sk-container-id-10 div.sk-estimator input.sk-toggleable__control:checked~label.sk-toggleable__label {background-color: #d4ebff;}#sk-container-id-10 div.sk-label input.sk-toggleable__control:checked~label.sk-toggleable__label {background-color: #d4ebff;}#sk-container-id-10 input.sk-hidden--visually {border: 0;clip: rect(1px 1px 1px 1px);clip: rect(1px, 1px, 1px, 1px);height: 1px;margin: -1px;overflow: hidden;padding: 0;position: absolute;width: 1px;}#sk-container-id-10 div.sk-estimator {font-family: monospace;background-color: #f0f8ff;border: 1px dotted black;border-radius: 0.25em;box-sizing: border-box;margin-bottom: 0.5em;}#sk-container-id-10 div.sk-estimator:hover {background-color: #d4ebff;}#sk-container-id-10 div.sk-parallel-item::after {content: \"\";width: 100%;border-bottom: 1px solid gray;flex-grow: 1;}#sk-container-id-10 div.sk-label:hover label.sk-toggleable__label {background-color: #d4ebff;}#sk-container-id-10 div.sk-serial::before {content: \"\";position: absolute;border-left: 1px solid gray;box-sizing: border-box;top: 0;bottom: 0;left: 50%;z-index: 0;}#sk-container-id-10 div.sk-serial {display: flex;flex-direction: column;align-items: center;background-color: white;padding-right: 0.2em;padding-left: 0.2em;position: relative;}#sk-container-id-10 div.sk-item {position: relative;z-index: 1;}#sk-container-id-10 div.sk-parallel {display: flex;align-items: stretch;justify-content: center;background-color: white;position: relative;}#sk-container-id-10 div.sk-item::before, #sk-container-id-10 div.sk-parallel-item::before {content: \"\";position: absolute;border-left: 1px solid gray;box-sizing: border-box;top: 0;bottom: 0;left: 50%;z-index: -1;}#sk-container-id-10 div.sk-parallel-item {display: flex;flex-direction: column;z-index: 1;position: relative;background-color: white;}#sk-container-id-10 div.sk-parallel-item:first-child::after {align-self: flex-end;width: 50%;}#sk-container-id-10 div.sk-parallel-item:last-child::after {align-self: flex-start;width: 50%;}#sk-container-id-10 div.sk-parallel-item:only-child::after {width: 0;}#sk-container-id-10 div.sk-dashed-wrapped {border: 1px dashed gray;margin: 0 0.4em 0.5em 0.4em;box-sizing: border-box;padding-bottom: 0.4em;background-color: white;}#sk-container-id-10 div.sk-label label {font-family: monospace;font-weight: bold;display: inline-block;line-height: 1.2em;}#sk-container-id-10 div.sk-label-container {text-align: center;}#sk-container-id-10 div.sk-container {/* jupyter's `normalize.less` sets `[hidden] { display: none; }` but bootstrap.min.css set `[hidden] { display: none !important; }` so we also need the `!important` here to be able to override the default hidden behavior on the sphinx rendered scikit-learn.org. See: https://github.com/scikit-learn/scikit-learn/issues/21755 */display: inline-block !important;position: relative;}#sk-container-id-10 div.sk-text-repr-fallback {display: none;}</style><div id=\"sk-container-id-10\" class=\"sk-top-container\"><div class=\"sk-text-repr-fallback\"><pre>RandomForestClassifier(max_depth=3, min_samples_leaf=5)</pre><b>In a Jupyter environment, please rerun this cell to show the HTML representation or trust the notebook. <br />On GitHub, the HTML representation is unable to render, please try loading this page with nbviewer.org.</b></div><div class=\"sk-container\" hidden><div class=\"sk-item\"><div class=\"sk-estimator sk-toggleable\"><input class=\"sk-toggleable__control sk-hidden--visually\" id=\"sk-estimator-id-10\" type=\"checkbox\" checked><label for=\"sk-estimator-id-10\" class=\"sk-toggleable__label sk-toggleable__label-arrow\">RandomForestClassifier</label><div class=\"sk-toggleable__content\"><pre>RandomForestClassifier(max_depth=3, min_samples_leaf=5)</pre></div></div></div></div></div>"
            ]
          },
          "metadata": {},
          "execution_count": 19
        }
      ],
      "source": [
        "RandomForest = RandomForestClassifier(n_estimators=100, max_depth=3, min_samples_leaf=5)\n",
        "RandomForest.fit(X_train_ica, y_train_ica)"
      ]
    },
    {
      "cell_type": "code",
      "execution_count": null,
      "metadata": {
        "colab": {
          "base_uri": "https://localhost:8080/"
        },
        "id": "ImA2OKim9KVh",
        "outputId": "cd1ca12b-2d83-41da-b073-974def99d8ca"
      },
      "outputs": [
        {
          "output_type": "execute_result",
          "data": {
            "text/plain": [
              "((9, 1), (9, 1), (9, 1), (9, 1))"
            ]
          },
          "metadata": {},
          "execution_count": 21
        }
      ],
      "source": [
        "# 4. Generate predictions\n",
        "bernoulli_nb_predictions_ica = bernoulli_nb.predict(X_test_ica).reshape(-1, 1)\n",
        "dt_predictions_ica = decision_tree.predict(X_test_ica).reshape(-1, 1)\n",
        "xgboost_predictions_ica = xgboost.predict(X_test_ica).reshape(-1, 1)\n",
        "RandomForest_predictions_ica= RandomForest.predict(X_test_ica).reshape(-1, 1)\n",
        "Adaboost_predictions_ica = Adaboost.predict(X_test_ica).reshape(-1, 1)\n",
        "\n",
        "bernoulli_nb_predictions_ica.shape , dt_predictions_ica.shape , xgboost_predictions_ica.shape, RandomForest_predictions_ica.shape"
      ]
    },
    {
      "cell_type": "markdown",
      "metadata": {
        "id": "0KrBtv8-dr88"
      },
      "source": [
        "#### Voting"
      ]
    },
    {
      "cell_type": "code",
      "execution_count": null,
      "metadata": {
        "colab": {
          "base_uri": "https://localhost:8080/"
        },
        "id": "5W79XUI59KVt",
        "outputId": "299bd84d-7db9-49d9-969c-2361d94c1d1e"
      },
      "outputs": [
        {
          "output_type": "stream",
          "name": "stdout",
          "text": [
            "Ensemble accuracy : 0.8888888888888888\n",
            "Ensemble precision : 1.0\n",
            "Ensemble recall : 0.8333333333333334\n",
            "Ensemble f1 : 0.9090909090909091\n"
          ]
        }
      ],
      "source": [
        "# bernoulli_nb_predictions, xgboost_predictions,dt_predictions,RandomForest_predictions\n",
        "from scipy.stats import mode\n",
        "\n",
        "threshold = 0.5\n",
        "bernoulli_nb_predictions_ica = (bernoulli_nb_predictions_ica >= threshold).astype(int)\n",
        "dt_predictions_ica =  (dt_predictions_ica >= threshold).astype(int)\n",
        "xgboost_predictions_ica =  (xgboost_predictions_ica >= threshold).astype(int)\n",
        "Adaboost_predictions_ica =  (Adaboost_predictions_ica >= threshold).astype(int)\n",
        "\n",
        "\n",
        "\n",
        "ensemble_list_ica = [bernoulli_nb_predictions_ica,\n",
        "                 xgboost_predictions_ica,\n",
        "                 dt_predictions_ica,\n",
        "                 Adaboost_predictions_ica]\n",
        "\n",
        "# Combine predictions\n",
        "ensemble_voting_ica = mode(ensemble_list_ica, axis=0)[0].squeeze()\n",
        "\n",
        "\n",
        "# Compute accuracy using the binary class labels\n",
        "ensemble_accuracy_ica = accuracy_score(y_test_ica, ensemble_voting_ica)\n",
        "precision_ica = precision_score(y_test_ica, ensemble_voting_ica)\n",
        "recall_ica = recall_score(y_test_ica, ensemble_voting_ica)\n",
        "f1_ica = f1_score(y_test_ica, ensemble_voting_ica)\n",
        "\n",
        "print(f'Ensemble accuracy : {ensemble_accuracy_ica}')\n",
        "print(f'Ensemble precision : {precision_ica}')\n",
        "print(f'Ensemble recall : {recall_ica}')\n",
        "print(f'Ensemble f1 : {f1_ica}')\n"
      ]
    },
    {
      "cell_type": "markdown",
      "metadata": {
        "id": "aQ_UHBnCnH7o"
      },
      "source": [
        "#### Stacking"
      ]
    },
    {
      "cell_type": "code",
      "source": [
        "from sklearn.ensemble import RandomForestClassifier\n",
        "from sklearn.linear_model import LogisticRegression\n",
        "import xgboost as xgb\n",
        "\n",
        "\n",
        "bernoulli_nb_train = bernoulli_nb.predict(X_train_ica).reshape(-1, 1)\n",
        "dt_train = decision_tree.predict(X_train_ica).reshape(-1, 1)\n",
        "xgboost_train = xgboost.predict(X_train_ica).reshape(-1, 1)\n",
        "RandomForest_train= RandomForest.predict(X_train_ica).reshape(-1, 1)\n",
        "Adaboost_train = Adaboost.predict(X_train_ica).reshape(-1, 1)\n",
        "\n",
        "\n",
        "#making a new dataset for training our final model by stacking the predictions on the validation data\n",
        "train_stack = np.column_stack((bernoulli_nb_train,\n",
        "                               dt_train,\n",
        "                               xgboost_train,\n",
        "                               Adaboost_train))\n",
        "\n",
        "#making the final test set for our final model by stacking the predictions on the test data\n",
        "test_stack = np.column_stack((bernoulli_nb_predictions_ica,\n",
        "                              xgboost_predictions_ica,\n",
        "                              dt_predictions_ica,\n",
        "                              Adaboost_predictions_ica))\n",
        "\n",
        "\n",
        "final_model = RandomForestClassifier()\n",
        "\n",
        "#training the final model on the stacked predictions\n",
        "final_model.fit(train_stack,y_train_ica)\n",
        "\n",
        "final_predictions = final_model.predict(test_stack)\n",
        "\n",
        "# Compute accuracy using the binary class labels\n",
        "ensemble_accuracy_ica = accuracy_score(y_test_ica, final_predictions)\n",
        "precision_ica = precision_score(y_test_ica, final_predictions)\n",
        "recall_ica = recall_score(y_test_ica, final_predictions)\n",
        "f1_ica = f1_score(y_test_ica, final_predictions)\n",
        "\n",
        "print(f'Ensemble accuracy : {ensemble_accuracy_ica}')\n",
        "print(f'Ensemble precision : {precision_ica}')\n",
        "print(f'Ensemble recall : {recall_ica}')\n",
        "print(f'Ensemble f1 : {f1_ica}')"
      ],
      "metadata": {
        "colab": {
          "base_uri": "https://localhost:8080/"
        },
        "id": "4bhKsBfdUVyJ",
        "outputId": "c5eee685-22ef-4dbd-b269-6d2d6a83f7c6"
      },
      "execution_count": null,
      "outputs": [
        {
          "output_type": "stream",
          "name": "stdout",
          "text": [
            "Ensemble accuracy : 0.8888888888888888\n",
            "Ensemble precision : 1.0\n",
            "Ensemble recall : 0.8333333333333334\n",
            "Ensemble f1 : 0.9090909090909091\n"
          ]
        },
        {
          "output_type": "stream",
          "name": "stderr",
          "text": [
            "<ipython-input-23-eb5337c8d226>:29: DataConversionWarning: A column-vector y was passed when a 1d array was expected. Please change the shape of y to (n_samples,), for example using ravel().\n",
            "  final_model.fit(train_stack,y_train_ica)\n"
          ]
        }
      ]
    },
    {
      "cell_type": "markdown",
      "metadata": {
        "id": "VKCG0JibSRMu"
      },
      "source": [
        "# Epochs"
      ]
    },
    {
      "cell_type": "code",
      "execution_count": null,
      "metadata": {
        "id": "5UvBrMRqSVRd"
      },
      "outputs": [],
      "source": [
        "\n",
        "\n"
      ]
    },
    {
      "cell_type": "code",
      "execution_count": null,
      "metadata": {
        "colab": {
          "base_uri": "https://localhost:8080/"
        },
        "id": "XCGnOM-dSYiq",
        "outputId": "0a8d2102-3d7e-4985-c44f-527aeaacf98b"
      },
      "outputs": [
        {
          "output_type": "execute_result",
          "data": {
            "text/plain": [
              "((7150, 1250, 33), (7150,), (7150,))"
            ]
          },
          "metadata": {},
          "execution_count": 26
        }
      ],
      "source": [
        "data_array = np.load('/content/drive/MyDrive/GP/GP-Data/data_array.npy')\n",
        "label_array = np.load('/content/drive/MyDrive/GP/GP-Data/label_array.npy')\n",
        "group_array = np.load('/content/drive/MyDrive/GP/GP-Data/group_array.npy')\n",
        "\n",
        "label_array = label_array.astype('int')\n",
        "\n",
        "data_array.shape, label_array.shape, group_array.shape"
      ]
    },
    {
      "cell_type": "code",
      "execution_count": null,
      "metadata": {
        "colab": {
          "base_uri": "https://localhost:8080/"
        },
        "id": "ZJQJzExxSYir",
        "outputId": "7da98761-e0d6-4715-c443-d643dc5d0856"
      },
      "outputs": [
        {
          "output_type": "execute_result",
          "data": {
            "text/plain": [
              "array([0, 1, 2])"
            ]
          },
          "metadata": {},
          "execution_count": 27
        }
      ],
      "source": [
        "np.unique(label_array)"
      ]
    },
    {
      "cell_type": "code",
      "execution_count": null,
      "metadata": {
        "colab": {
          "base_uri": "https://localhost:8080/"
        },
        "id": "OZhiB8oPSYis",
        "outputId": "82744266-ac13-423d-d283-02363a17fb6e"
      },
      "outputs": [
        {
          "output_type": "stream",
          "name": "stdout",
          "text": [
            "group=[ 0  1  2  3  4  5  6  7  8 10 11 12 13 15 16 18 19 20 22 23 25 27 28 29\n",
            " 30 31 34 36 37 38 39 40 41 42 43 44 45 46 47]\n",
            "group=[ 9 14 17 21 24 26 32 33 35]\n"
          ]
        }
      ],
      "source": [
        "# Load your dataset and split into training and testing sets\n",
        "X_train, X_test, y_train, y_test, _= two_splits(data_array, label_array, group_array)\n",
        "\n",
        "\n",
        "y_train[y_train==0] = 1 #Stroke\n",
        "y_train[y_train==2] = 0 #Healthy\n",
        "\n",
        "y_test[y_test==0] = 1 #Stroke\n",
        "y_test[y_test==2] = 0 #Healthy\n"
      ]
    },
    {
      "cell_type": "code",
      "execution_count": null,
      "metadata": {
        "colab": {
          "base_uri": "https://localhost:8080/"
        },
        "id": "as4srslWSYis",
        "outputId": "42024714-c2d9-4dd4-cc0a-01414c40b2eb"
      },
      "outputs": [
        {
          "output_type": "execute_result",
          "data": {
            "text/plain": [
              "(array([0, 1]), array([0, 1]))"
            ]
          },
          "metadata": {},
          "execution_count": 30
        }
      ],
      "source": [
        "np.unique(y_train), np.unique(y_test)"
      ]
    },
    {
      "cell_type": "code",
      "execution_count": null,
      "metadata": {
        "id": "8DjBWI4ASYis"
      },
      "outputs": [],
      "source": [
        "# Flatten the data array for ML models\n",
        "X_train = X_train.reshape(X_train.shape[0], -1)\n",
        "X_test = X_test.reshape(X_test.shape[0], -1)\n",
        "# y_train = y_train.reshape(y_train.shape[0], -1)\n",
        "# y_test = y_test.reshape(y_test.shape[0], -1)"
      ]
    },
    {
      "cell_type": "code",
      "source": [],
      "metadata": {
        "id": "Cjo0fL53Xw_6"
      },
      "execution_count": null,
      "outputs": []
    },
    {
      "cell_type": "code",
      "execution_count": null,
      "metadata": {
        "colab": {
          "base_uri": "https://localhost:8080/",
          "height": 75
        },
        "outputId": "6a630a7b-27e1-4492-816d-84d27321ab34",
        "id": "zXIZU7CBXxec"
      },
      "outputs": [
        {
          "output_type": "execute_result",
          "data": {
            "text/plain": [
              "BernoulliNB(alpha=0.1)"
            ],
            "text/html": [
              "<style>#sk-container-id-11 {color: black;background-color: white;}#sk-container-id-11 pre{padding: 0;}#sk-container-id-11 div.sk-toggleable {background-color: white;}#sk-container-id-11 label.sk-toggleable__label {cursor: pointer;display: block;width: 100%;margin-bottom: 0;padding: 0.3em;box-sizing: border-box;text-align: center;}#sk-container-id-11 label.sk-toggleable__label-arrow:before {content: \"▸\";float: left;margin-right: 0.25em;color: #696969;}#sk-container-id-11 label.sk-toggleable__label-arrow:hover:before {color: black;}#sk-container-id-11 div.sk-estimator:hover label.sk-toggleable__label-arrow:before {color: black;}#sk-container-id-11 div.sk-toggleable__content {max-height: 0;max-width: 0;overflow: hidden;text-align: left;background-color: #f0f8ff;}#sk-container-id-11 div.sk-toggleable__content pre {margin: 0.2em;color: black;border-radius: 0.25em;background-color: #f0f8ff;}#sk-container-id-11 input.sk-toggleable__control:checked~div.sk-toggleable__content {max-height: 200px;max-width: 100%;overflow: auto;}#sk-container-id-11 input.sk-toggleable__control:checked~label.sk-toggleable__label-arrow:before {content: \"▾\";}#sk-container-id-11 div.sk-estimator input.sk-toggleable__control:checked~label.sk-toggleable__label {background-color: #d4ebff;}#sk-container-id-11 div.sk-label input.sk-toggleable__control:checked~label.sk-toggleable__label {background-color: #d4ebff;}#sk-container-id-11 input.sk-hidden--visually {border: 0;clip: rect(1px 1px 1px 1px);clip: rect(1px, 1px, 1px, 1px);height: 1px;margin: -1px;overflow: hidden;padding: 0;position: absolute;width: 1px;}#sk-container-id-11 div.sk-estimator {font-family: monospace;background-color: #f0f8ff;border: 1px dotted black;border-radius: 0.25em;box-sizing: border-box;margin-bottom: 0.5em;}#sk-container-id-11 div.sk-estimator:hover {background-color: #d4ebff;}#sk-container-id-11 div.sk-parallel-item::after {content: \"\";width: 100%;border-bottom: 1px solid gray;flex-grow: 1;}#sk-container-id-11 div.sk-label:hover label.sk-toggleable__label {background-color: #d4ebff;}#sk-container-id-11 div.sk-serial::before {content: \"\";position: absolute;border-left: 1px solid gray;box-sizing: border-box;top: 0;bottom: 0;left: 50%;z-index: 0;}#sk-container-id-11 div.sk-serial {display: flex;flex-direction: column;align-items: center;background-color: white;padding-right: 0.2em;padding-left: 0.2em;position: relative;}#sk-container-id-11 div.sk-item {position: relative;z-index: 1;}#sk-container-id-11 div.sk-parallel {display: flex;align-items: stretch;justify-content: center;background-color: white;position: relative;}#sk-container-id-11 div.sk-item::before, #sk-container-id-11 div.sk-parallel-item::before {content: \"\";position: absolute;border-left: 1px solid gray;box-sizing: border-box;top: 0;bottom: 0;left: 50%;z-index: -1;}#sk-container-id-11 div.sk-parallel-item {display: flex;flex-direction: column;z-index: 1;position: relative;background-color: white;}#sk-container-id-11 div.sk-parallel-item:first-child::after {align-self: flex-end;width: 50%;}#sk-container-id-11 div.sk-parallel-item:last-child::after {align-self: flex-start;width: 50%;}#sk-container-id-11 div.sk-parallel-item:only-child::after {width: 0;}#sk-container-id-11 div.sk-dashed-wrapped {border: 1px dashed gray;margin: 0 0.4em 0.5em 0.4em;box-sizing: border-box;padding-bottom: 0.4em;background-color: white;}#sk-container-id-11 div.sk-label label {font-family: monospace;font-weight: bold;display: inline-block;line-height: 1.2em;}#sk-container-id-11 div.sk-label-container {text-align: center;}#sk-container-id-11 div.sk-container {/* jupyter's `normalize.less` sets `[hidden] { display: none; }` but bootstrap.min.css set `[hidden] { display: none !important; }` so we also need the `!important` here to be able to override the default hidden behavior on the sphinx rendered scikit-learn.org. See: https://github.com/scikit-learn/scikit-learn/issues/21755 */display: inline-block !important;position: relative;}#sk-container-id-11 div.sk-text-repr-fallback {display: none;}</style><div id=\"sk-container-id-11\" class=\"sk-top-container\"><div class=\"sk-text-repr-fallback\"><pre>BernoulliNB(alpha=0.1)</pre><b>In a Jupyter environment, please rerun this cell to show the HTML representation or trust the notebook. <br />On GitHub, the HTML representation is unable to render, please try loading this page with nbviewer.org.</b></div><div class=\"sk-container\" hidden><div class=\"sk-item\"><div class=\"sk-estimator sk-toggleable\"><input class=\"sk-toggleable__control sk-hidden--visually\" id=\"sk-estimator-id-11\" type=\"checkbox\" checked><label for=\"sk-estimator-id-11\" class=\"sk-toggleable__label sk-toggleable__label-arrow\">BernoulliNB</label><div class=\"sk-toggleable__content\"><pre>BernoulliNB(alpha=0.1)</pre></div></div></div></div></div>"
            ]
          },
          "metadata": {},
          "execution_count": 32
        }
      ],
      "source": [
        "# Train ML models (Base models)\n",
        "bernoulli_nb = BernoulliNB(alpha=0.1, binarize = 0.0 , fit_prior = True)\n",
        "bernoulli_nb.fit(X_train, y_train)"
      ]
    },
    {
      "cell_type": "code",
      "execution_count": null,
      "metadata": {
        "colab": {
          "base_uri": "https://localhost:8080/",
          "height": 75
        },
        "outputId": "c63f7efc-b876-41e2-cc03-bef10b511e44",
        "id": "gHPyzOJVXxed"
      },
      "outputs": [
        {
          "output_type": "execute_result",
          "data": {
            "text/plain": [
              "AdaBoostClassifier(learning_rate=1, n_estimators=200)"
            ],
            "text/html": [
              "<style>#sk-container-id-12 {color: black;background-color: white;}#sk-container-id-12 pre{padding: 0;}#sk-container-id-12 div.sk-toggleable {background-color: white;}#sk-container-id-12 label.sk-toggleable__label {cursor: pointer;display: block;width: 100%;margin-bottom: 0;padding: 0.3em;box-sizing: border-box;text-align: center;}#sk-container-id-12 label.sk-toggleable__label-arrow:before {content: \"▸\";float: left;margin-right: 0.25em;color: #696969;}#sk-container-id-12 label.sk-toggleable__label-arrow:hover:before {color: black;}#sk-container-id-12 div.sk-estimator:hover label.sk-toggleable__label-arrow:before {color: black;}#sk-container-id-12 div.sk-toggleable__content {max-height: 0;max-width: 0;overflow: hidden;text-align: left;background-color: #f0f8ff;}#sk-container-id-12 div.sk-toggleable__content pre {margin: 0.2em;color: black;border-radius: 0.25em;background-color: #f0f8ff;}#sk-container-id-12 input.sk-toggleable__control:checked~div.sk-toggleable__content {max-height: 200px;max-width: 100%;overflow: auto;}#sk-container-id-12 input.sk-toggleable__control:checked~label.sk-toggleable__label-arrow:before {content: \"▾\";}#sk-container-id-12 div.sk-estimator input.sk-toggleable__control:checked~label.sk-toggleable__label {background-color: #d4ebff;}#sk-container-id-12 div.sk-label input.sk-toggleable__control:checked~label.sk-toggleable__label {background-color: #d4ebff;}#sk-container-id-12 input.sk-hidden--visually {border: 0;clip: rect(1px 1px 1px 1px);clip: rect(1px, 1px, 1px, 1px);height: 1px;margin: -1px;overflow: hidden;padding: 0;position: absolute;width: 1px;}#sk-container-id-12 div.sk-estimator {font-family: monospace;background-color: #f0f8ff;border: 1px dotted black;border-radius: 0.25em;box-sizing: border-box;margin-bottom: 0.5em;}#sk-container-id-12 div.sk-estimator:hover {background-color: #d4ebff;}#sk-container-id-12 div.sk-parallel-item::after {content: \"\";width: 100%;border-bottom: 1px solid gray;flex-grow: 1;}#sk-container-id-12 div.sk-label:hover label.sk-toggleable__label {background-color: #d4ebff;}#sk-container-id-12 div.sk-serial::before {content: \"\";position: absolute;border-left: 1px solid gray;box-sizing: border-box;top: 0;bottom: 0;left: 50%;z-index: 0;}#sk-container-id-12 div.sk-serial {display: flex;flex-direction: column;align-items: center;background-color: white;padding-right: 0.2em;padding-left: 0.2em;position: relative;}#sk-container-id-12 div.sk-item {position: relative;z-index: 1;}#sk-container-id-12 div.sk-parallel {display: flex;align-items: stretch;justify-content: center;background-color: white;position: relative;}#sk-container-id-12 div.sk-item::before, #sk-container-id-12 div.sk-parallel-item::before {content: \"\";position: absolute;border-left: 1px solid gray;box-sizing: border-box;top: 0;bottom: 0;left: 50%;z-index: -1;}#sk-container-id-12 div.sk-parallel-item {display: flex;flex-direction: column;z-index: 1;position: relative;background-color: white;}#sk-container-id-12 div.sk-parallel-item:first-child::after {align-self: flex-end;width: 50%;}#sk-container-id-12 div.sk-parallel-item:last-child::after {align-self: flex-start;width: 50%;}#sk-container-id-12 div.sk-parallel-item:only-child::after {width: 0;}#sk-container-id-12 div.sk-dashed-wrapped {border: 1px dashed gray;margin: 0 0.4em 0.5em 0.4em;box-sizing: border-box;padding-bottom: 0.4em;background-color: white;}#sk-container-id-12 div.sk-label label {font-family: monospace;font-weight: bold;display: inline-block;line-height: 1.2em;}#sk-container-id-12 div.sk-label-container {text-align: center;}#sk-container-id-12 div.sk-container {/* jupyter's `normalize.less` sets `[hidden] { display: none; }` but bootstrap.min.css set `[hidden] { display: none !important; }` so we also need the `!important` here to be able to override the default hidden behavior on the sphinx rendered scikit-learn.org. See: https://github.com/scikit-learn/scikit-learn/issues/21755 */display: inline-block !important;position: relative;}#sk-container-id-12 div.sk-text-repr-fallback {display: none;}</style><div id=\"sk-container-id-12\" class=\"sk-top-container\"><div class=\"sk-text-repr-fallback\"><pre>AdaBoostClassifier(learning_rate=1, n_estimators=200)</pre><b>In a Jupyter environment, please rerun this cell to show the HTML representation or trust the notebook. <br />On GitHub, the HTML representation is unable to render, please try loading this page with nbviewer.org.</b></div><div class=\"sk-container\" hidden><div class=\"sk-item\"><div class=\"sk-estimator sk-toggleable\"><input class=\"sk-toggleable__control sk-hidden--visually\" id=\"sk-estimator-id-12\" type=\"checkbox\" checked><label for=\"sk-estimator-id-12\" class=\"sk-toggleable__label sk-toggleable__label-arrow\">AdaBoostClassifier</label><div class=\"sk-toggleable__content\"><pre>AdaBoostClassifier(learning_rate=1, n_estimators=200)</pre></div></div></div></div></div>"
            ]
          },
          "metadata": {},
          "execution_count": 33
        }
      ],
      "source": [
        "Adaboost = AdaBoostClassifier(n_estimators = 200 , learning_rate = 1)\n",
        "Adaboost.fit(X_train, y_train)"
      ]
    },
    {
      "cell_type": "code",
      "execution_count": null,
      "metadata": {
        "colab": {
          "base_uri": "https://localhost:8080/",
          "height": 248
        },
        "outputId": "8438c2b7-5273-4952-df34-73cf23bd2eee",
        "id": "mDlCTL3RXxee"
      },
      "outputs": [
        {
          "output_type": "execute_result",
          "data": {
            "text/plain": [
              "XGBClassifier(base_score=None, booster=None, callbacks=None,\n",
              "              colsample_bylevel=None, colsample_bynode=None,\n",
              "              colsample_bytree=None, device=None, early_stopping_rounds=None,\n",
              "              enable_categorical=False, eval_metric=None, feature_types=None,\n",
              "              gamma=None, grow_policy=None, importance_type=None,\n",
              "              interaction_constraints=None, learning_rate=0.01, max_bin=None,\n",
              "              max_cat_threshold=None, max_cat_to_onehot=None,\n",
              "              max_delta_step=None, max_depth=9, max_leaves=None,\n",
              "              min_child_weight=None, missing=nan, monotone_constraints=None,\n",
              "              multi_strategy=None, n_estimators=200, n_jobs=None,\n",
              "              num_parallel_tree=None, random_state=None, ...)"
            ],
            "text/html": [
              "<style>#sk-container-id-13 {color: black;background-color: white;}#sk-container-id-13 pre{padding: 0;}#sk-container-id-13 div.sk-toggleable {background-color: white;}#sk-container-id-13 label.sk-toggleable__label {cursor: pointer;display: block;width: 100%;margin-bottom: 0;padding: 0.3em;box-sizing: border-box;text-align: center;}#sk-container-id-13 label.sk-toggleable__label-arrow:before {content: \"▸\";float: left;margin-right: 0.25em;color: #696969;}#sk-container-id-13 label.sk-toggleable__label-arrow:hover:before {color: black;}#sk-container-id-13 div.sk-estimator:hover label.sk-toggleable__label-arrow:before {color: black;}#sk-container-id-13 div.sk-toggleable__content {max-height: 0;max-width: 0;overflow: hidden;text-align: left;background-color: #f0f8ff;}#sk-container-id-13 div.sk-toggleable__content pre {margin: 0.2em;color: black;border-radius: 0.25em;background-color: #f0f8ff;}#sk-container-id-13 input.sk-toggleable__control:checked~div.sk-toggleable__content {max-height: 200px;max-width: 100%;overflow: auto;}#sk-container-id-13 input.sk-toggleable__control:checked~label.sk-toggleable__label-arrow:before {content: \"▾\";}#sk-container-id-13 div.sk-estimator input.sk-toggleable__control:checked~label.sk-toggleable__label {background-color: #d4ebff;}#sk-container-id-13 div.sk-label input.sk-toggleable__control:checked~label.sk-toggleable__label {background-color: #d4ebff;}#sk-container-id-13 input.sk-hidden--visually {border: 0;clip: rect(1px 1px 1px 1px);clip: rect(1px, 1px, 1px, 1px);height: 1px;margin: -1px;overflow: hidden;padding: 0;position: absolute;width: 1px;}#sk-container-id-13 div.sk-estimator {font-family: monospace;background-color: #f0f8ff;border: 1px dotted black;border-radius: 0.25em;box-sizing: border-box;margin-bottom: 0.5em;}#sk-container-id-13 div.sk-estimator:hover {background-color: #d4ebff;}#sk-container-id-13 div.sk-parallel-item::after {content: \"\";width: 100%;border-bottom: 1px solid gray;flex-grow: 1;}#sk-container-id-13 div.sk-label:hover label.sk-toggleable__label {background-color: #d4ebff;}#sk-container-id-13 div.sk-serial::before {content: \"\";position: absolute;border-left: 1px solid gray;box-sizing: border-box;top: 0;bottom: 0;left: 50%;z-index: 0;}#sk-container-id-13 div.sk-serial {display: flex;flex-direction: column;align-items: center;background-color: white;padding-right: 0.2em;padding-left: 0.2em;position: relative;}#sk-container-id-13 div.sk-item {position: relative;z-index: 1;}#sk-container-id-13 div.sk-parallel {display: flex;align-items: stretch;justify-content: center;background-color: white;position: relative;}#sk-container-id-13 div.sk-item::before, #sk-container-id-13 div.sk-parallel-item::before {content: \"\";position: absolute;border-left: 1px solid gray;box-sizing: border-box;top: 0;bottom: 0;left: 50%;z-index: -1;}#sk-container-id-13 div.sk-parallel-item {display: flex;flex-direction: column;z-index: 1;position: relative;background-color: white;}#sk-container-id-13 div.sk-parallel-item:first-child::after {align-self: flex-end;width: 50%;}#sk-container-id-13 div.sk-parallel-item:last-child::after {align-self: flex-start;width: 50%;}#sk-container-id-13 div.sk-parallel-item:only-child::after {width: 0;}#sk-container-id-13 div.sk-dashed-wrapped {border: 1px dashed gray;margin: 0 0.4em 0.5em 0.4em;box-sizing: border-box;padding-bottom: 0.4em;background-color: white;}#sk-container-id-13 div.sk-label label {font-family: monospace;font-weight: bold;display: inline-block;line-height: 1.2em;}#sk-container-id-13 div.sk-label-container {text-align: center;}#sk-container-id-13 div.sk-container {/* jupyter's `normalize.less` sets `[hidden] { display: none; }` but bootstrap.min.css set `[hidden] { display: none !important; }` so we also need the `!important` here to be able to override the default hidden behavior on the sphinx rendered scikit-learn.org. See: https://github.com/scikit-learn/scikit-learn/issues/21755 */display: inline-block !important;position: relative;}#sk-container-id-13 div.sk-text-repr-fallback {display: none;}</style><div id=\"sk-container-id-13\" class=\"sk-top-container\"><div class=\"sk-text-repr-fallback\"><pre>XGBClassifier(base_score=None, booster=None, callbacks=None,\n",
              "              colsample_bylevel=None, colsample_bynode=None,\n",
              "              colsample_bytree=None, device=None, early_stopping_rounds=None,\n",
              "              enable_categorical=False, eval_metric=None, feature_types=None,\n",
              "              gamma=None, grow_policy=None, importance_type=None,\n",
              "              interaction_constraints=None, learning_rate=0.01, max_bin=None,\n",
              "              max_cat_threshold=None, max_cat_to_onehot=None,\n",
              "              max_delta_step=None, max_depth=9, max_leaves=None,\n",
              "              min_child_weight=None, missing=nan, monotone_constraints=None,\n",
              "              multi_strategy=None, n_estimators=200, n_jobs=None,\n",
              "              num_parallel_tree=None, random_state=None, ...)</pre><b>In a Jupyter environment, please rerun this cell to show the HTML representation or trust the notebook. <br />On GitHub, the HTML representation is unable to render, please try loading this page with nbviewer.org.</b></div><div class=\"sk-container\" hidden><div class=\"sk-item\"><div class=\"sk-estimator sk-toggleable\"><input class=\"sk-toggleable__control sk-hidden--visually\" id=\"sk-estimator-id-13\" type=\"checkbox\" checked><label for=\"sk-estimator-id-13\" class=\"sk-toggleable__label sk-toggleable__label-arrow\">XGBClassifier</label><div class=\"sk-toggleable__content\"><pre>XGBClassifier(base_score=None, booster=None, callbacks=None,\n",
              "              colsample_bylevel=None, colsample_bynode=None,\n",
              "              colsample_bytree=None, device=None, early_stopping_rounds=None,\n",
              "              enable_categorical=False, eval_metric=None, feature_types=None,\n",
              "              gamma=None, grow_policy=None, importance_type=None,\n",
              "              interaction_constraints=None, learning_rate=0.01, max_bin=None,\n",
              "              max_cat_threshold=None, max_cat_to_onehot=None,\n",
              "              max_delta_step=None, max_depth=9, max_leaves=None,\n",
              "              min_child_weight=None, missing=nan, monotone_constraints=None,\n",
              "              multi_strategy=None, n_estimators=200, n_jobs=None,\n",
              "              num_parallel_tree=None, random_state=None, ...)</pre></div></div></div></div></div>"
            ]
          },
          "metadata": {},
          "execution_count": 34
        }
      ],
      "source": [
        "xgboost = XGBClassifier(max_depth=9, n_estimators=200, learning_rate=0.01)\n",
        "xgboost.fit(X_train, y_train)"
      ]
    },
    {
      "cell_type": "code",
      "execution_count": null,
      "metadata": {
        "id": "PdWZymWgXxee"
      },
      "outputs": [],
      "source": [
        "decision_tree = DecisionTreeClassifier(criterion='gini', max_depth=3, min_samples_leaf=5)\n",
        "decision_tree.fit(X_train, y_train)"
      ]
    },
    {
      "cell_type": "code",
      "execution_count": null,
      "metadata": {
        "colab": {
          "base_uri": "https://localhost:8080/",
          "height": 75
        },
        "outputId": "cabbd081-126a-465f-d845-ad7bae0edc0b",
        "id": "vJYdFVYVXxee"
      },
      "outputs": [
        {
          "data": {
            "text/html": [
              "<style>#sk-container-id-15 {color: black;background-color: white;}#sk-container-id-15 pre{padding: 0;}#sk-container-id-15 div.sk-toggleable {background-color: white;}#sk-container-id-15 label.sk-toggleable__label {cursor: pointer;display: block;width: 100%;margin-bottom: 0;padding: 0.3em;box-sizing: border-box;text-align: center;}#sk-container-id-15 label.sk-toggleable__label-arrow:before {content: \"▸\";float: left;margin-right: 0.25em;color: #696969;}#sk-container-id-15 label.sk-toggleable__label-arrow:hover:before {color: black;}#sk-container-id-15 div.sk-estimator:hover label.sk-toggleable__label-arrow:before {color: black;}#sk-container-id-15 div.sk-toggleable__content {max-height: 0;max-width: 0;overflow: hidden;text-align: left;background-color: #f0f8ff;}#sk-container-id-15 div.sk-toggleable__content pre {margin: 0.2em;color: black;border-radius: 0.25em;background-color: #f0f8ff;}#sk-container-id-15 input.sk-toggleable__control:checked~div.sk-toggleable__content {max-height: 200px;max-width: 100%;overflow: auto;}#sk-container-id-15 input.sk-toggleable__control:checked~label.sk-toggleable__label-arrow:before {content: \"▾\";}#sk-container-id-15 div.sk-estimator input.sk-toggleable__control:checked~label.sk-toggleable__label {background-color: #d4ebff;}#sk-container-id-15 div.sk-label input.sk-toggleable__control:checked~label.sk-toggleable__label {background-color: #d4ebff;}#sk-container-id-15 input.sk-hidden--visually {border: 0;clip: rect(1px 1px 1px 1px);clip: rect(1px, 1px, 1px, 1px);height: 1px;margin: -1px;overflow: hidden;padding: 0;position: absolute;width: 1px;}#sk-container-id-15 div.sk-estimator {font-family: monospace;background-color: #f0f8ff;border: 1px dotted black;border-radius: 0.25em;box-sizing: border-box;margin-bottom: 0.5em;}#sk-container-id-15 div.sk-estimator:hover {background-color: #d4ebff;}#sk-container-id-15 div.sk-parallel-item::after {content: \"\";width: 100%;border-bottom: 1px solid gray;flex-grow: 1;}#sk-container-id-15 div.sk-label:hover label.sk-toggleable__label {background-color: #d4ebff;}#sk-container-id-15 div.sk-serial::before {content: \"\";position: absolute;border-left: 1px solid gray;box-sizing: border-box;top: 0;bottom: 0;left: 50%;z-index: 0;}#sk-container-id-15 div.sk-serial {display: flex;flex-direction: column;align-items: center;background-color: white;padding-right: 0.2em;padding-left: 0.2em;position: relative;}#sk-container-id-15 div.sk-item {position: relative;z-index: 1;}#sk-container-id-15 div.sk-parallel {display: flex;align-items: stretch;justify-content: center;background-color: white;position: relative;}#sk-container-id-15 div.sk-item::before, #sk-container-id-15 div.sk-parallel-item::before {content: \"\";position: absolute;border-left: 1px solid gray;box-sizing: border-box;top: 0;bottom: 0;left: 50%;z-index: -1;}#sk-container-id-15 div.sk-parallel-item {display: flex;flex-direction: column;z-index: 1;position: relative;background-color: white;}#sk-container-id-15 div.sk-parallel-item:first-child::after {align-self: flex-end;width: 50%;}#sk-container-id-15 div.sk-parallel-item:last-child::after {align-self: flex-start;width: 50%;}#sk-container-id-15 div.sk-parallel-item:only-child::after {width: 0;}#sk-container-id-15 div.sk-dashed-wrapped {border: 1px dashed gray;margin: 0 0.4em 0.5em 0.4em;box-sizing: border-box;padding-bottom: 0.4em;background-color: white;}#sk-container-id-15 div.sk-label label {font-family: monospace;font-weight: bold;display: inline-block;line-height: 1.2em;}#sk-container-id-15 div.sk-label-container {text-align: center;}#sk-container-id-15 div.sk-container {/* jupyter's `normalize.less` sets `[hidden] { display: none; }` but bootstrap.min.css set `[hidden] { display: none !important; }` so we also need the `!important` here to be able to override the default hidden behavior on the sphinx rendered scikit-learn.org. See: https://github.com/scikit-learn/scikit-learn/issues/21755 */display: inline-block !important;position: relative;}#sk-container-id-15 div.sk-text-repr-fallback {display: none;}</style><div id=\"sk-container-id-15\" class=\"sk-top-container\"><div class=\"sk-text-repr-fallback\"><pre>RandomForestClassifier(max_depth=3, min_samples_leaf=5)</pre><b>In a Jupyter environment, please rerun this cell to show the HTML representation or trust the notebook. <br />On GitHub, the HTML representation is unable to render, please try loading this page with nbviewer.org.</b></div><div class=\"sk-container\" hidden><div class=\"sk-item\"><div class=\"sk-estimator sk-toggleable\"><input class=\"sk-toggleable__control sk-hidden--visually\" id=\"sk-estimator-id-15\" type=\"checkbox\" checked><label for=\"sk-estimator-id-15\" class=\"sk-toggleable__label sk-toggleable__label-arrow\">RandomForestClassifier</label><div class=\"sk-toggleable__content\"><pre>RandomForestClassifier(max_depth=3, min_samples_leaf=5)</pre></div></div></div></div></div>"
            ],
            "text/plain": [
              "RandomForestClassifier(max_depth=3, min_samples_leaf=5)"
            ]
          },
          "execution_count": 36,
          "metadata": {},
          "output_type": "execute_result"
        }
      ],
      "source": [
        "RandomForest = RandomForestClassifier(n_estimators=100, max_depth=3, min_samples_leaf=5)\n",
        "RandomForest.fit(X_train, y_train)"
      ]
    },
    {
      "cell_type": "code",
      "execution_count": null,
      "metadata": {
        "id": "1fJlYAhyXxef"
      },
      "outputs": [],
      "source": [
        "# 4. Generate predictions\n",
        "bernoulli_nb_predictions_train  = bernoulli_nb.predict(X_train).reshape(-1, 1)\n",
        "dt_predictions_train            = decision_tree.predict(X_train).reshape(-1, 1)\n",
        "xgboost_predictions_train       = xgboost.predict(X_train).reshape(-1, 1)\n",
        "RandomForest_predictions_train  = RandomForest.predict(X_train).reshape(-1, 1)\n",
        "Adaboost_predictions_train      = Adaboost.predict(X_train).reshape(-1, 1)\n",
        "\n",
        "\n",
        "bernoulli_nb_predictions_test   = bernoulli_nb.predict(X_test).reshape(-1, 1)\n",
        "dt_predictions_test             = decision_tree.predict(X_test).reshape(-1, 1)\n",
        "xgboost_predictions_test        = xgboost.predict(X_test).reshape(-1, 1)\n",
        "RandomForest_predictions_test   = RandomForest.predict(X_test).reshape(-1, 1)\n",
        "Adaboost_predictions_test       = Adaboost.predict(X_test).reshape(-1, 1)\n",
        "\n"
      ]
    },
    {
      "cell_type": "markdown",
      "source": [
        "### Stacking ML only"
      ],
      "metadata": {
        "id": "-FpRLveSXktb"
      }
    },
    {
      "cell_type": "code",
      "execution_count": null,
      "metadata": {
        "id": "fE5OZXo7HRuL",
        "colab": {
          "base_uri": "https://localhost:8080/"
        },
        "outputId": "638f060c-2eab-48d2-d5a7-60a3b4a1a7d3"
      },
      "outputs": [
        {
          "output_type": "stream",
          "name": "stdout",
          "text": [
            "Ensemble accuracy : 0.6854663774403471\n",
            "Ensemble precision : 0.6881878209831255\n",
            "Ensemble recall : 0.989451476793249\n",
            "Ensemble f1 : 0.8117697966248377\n"
          ]
        }
      ],
      "source": [
        "#making a new dataset for training our final model by stacking the predictions on the validation data\n",
        "train_stack = np.column_stack((bernoulli_nb_predictions_train,\n",
        "                               xgboost_predictions_train,\n",
        "                               Adaboost_predictions_train))\n",
        "\n",
        "#making the final test set for our final model by stacking the predictions on the test data\n",
        "test_stack = np.column_stack((bernoulli_nb_predictions_test,\n",
        "                              xgboost_predictions_test,\n",
        "                              Adaboost_predictions_test))\n",
        "\n",
        "\n",
        "final_model = RandomForestClassifier()\n",
        "\n",
        "#training the final model on the stacked predictions\n",
        "final_model.fit(train_stack,y_train)\n",
        "\n",
        "final_predictions = final_model.predict(test_stack)\n",
        "\n",
        "# Compute accuracy using the binary class labels\n",
        "ensemble_accuracy = accuracy_score(y_test, final_predictions)\n",
        "precision         = precision_score(y_test, final_predictions)\n",
        "recall            = recall_score(y_test, final_predictions)\n",
        "f1                = f1_score(y_test, final_predictions)\n",
        "\n",
        "print(f'Ensemble accuracy : {ensemble_accuracy}')\n",
        "print(f'Ensemble precision : {precision}')\n",
        "print(f'Ensemble recall : {recall}')\n",
        "print(f'Ensemble f1 : {f1}')"
      ]
    },
    {
      "cell_type": "markdown",
      "metadata": {
        "id": "DkAo5FUBHTeo"
      },
      "source": [
        "## Ensemble DL and ML"
      ]
    },
    {
      "cell_type": "code",
      "execution_count": 11,
      "metadata": {
        "id": "qd4YEglpKVqi"
      },
      "outputs": [],
      "source": []
    },
    {
      "cell_type": "code",
      "execution_count": null,
      "metadata": {
        "colab": {
          "base_uri": "https://localhost:8080/"
        },
        "id": "Q33oXb0mIT_0",
        "outputId": "94bf202f-8c2e-4586-896b-d8af2da20b33"
      },
      "outputs": [
        {
          "output_type": "stream",
          "name": "stdout",
          "text": [
            "group=[ 0  1  2  3  4  5  6  7  8 10 11 12 13 15 16 18 19 20 22 23 25 27 28 29\n",
            " 30 31 34 36 37 38 39 40 41 42 43 44 45 46 47]\n",
            "group=[ 9 14 17 21 24 26 32 33 35]\n"
          ]
        }
      ],
      "source": [
        "# 1. Preprocess the data for both ML and DL models\n",
        "\n",
        "# Load your dataset and split into training and testing sets\n",
        "X_train, X_test, y_train, y_test, train_groups = two_splits(data_array, label_array, group_array)\n",
        "\n",
        "\n",
        "y_train[y_train==0] = 1 #Stroke\n",
        "y_train[y_train==2] = 0 #Healthy\n",
        "\n",
        "y_test[y_test==0] = 1 #Stroke\n",
        "y_test[y_test==2] = 0 #Healthy"
      ]
    },
    {
      "cell_type": "code",
      "source": [
        "X_train_ml, y_train_ml = X_train.reshape(X_train.shape[0], -1), y_train"
      ],
      "metadata": {
        "id": "K7O7cuIx-fMf"
      },
      "execution_count": null,
      "outputs": []
    },
    {
      "cell_type": "code",
      "execution_count": null,
      "metadata": {
        "colab": {
          "base_uri": "https://localhost:8080/",
          "height": 75
        },
        "id": "ajCqEPlUH0sY",
        "outputId": "c80a7aa6-4af7-4282-e505-91997b4c9cc4"
      },
      "outputs": [
        {
          "data": {
            "text/html": [
              "<style>#sk-container-id-2 {color: black;background-color: white;}#sk-container-id-2 pre{padding: 0;}#sk-container-id-2 div.sk-toggleable {background-color: white;}#sk-container-id-2 label.sk-toggleable__label {cursor: pointer;display: block;width: 100%;margin-bottom: 0;padding: 0.3em;box-sizing: border-box;text-align: center;}#sk-container-id-2 label.sk-toggleable__label-arrow:before {content: \"▸\";float: left;margin-right: 0.25em;color: #696969;}#sk-container-id-2 label.sk-toggleable__label-arrow:hover:before {color: black;}#sk-container-id-2 div.sk-estimator:hover label.sk-toggleable__label-arrow:before {color: black;}#sk-container-id-2 div.sk-toggleable__content {max-height: 0;max-width: 0;overflow: hidden;text-align: left;background-color: #f0f8ff;}#sk-container-id-2 div.sk-toggleable__content pre {margin: 0.2em;color: black;border-radius: 0.25em;background-color: #f0f8ff;}#sk-container-id-2 input.sk-toggleable__control:checked~div.sk-toggleable__content {max-height: 200px;max-width: 100%;overflow: auto;}#sk-container-id-2 input.sk-toggleable__control:checked~label.sk-toggleable__label-arrow:before {content: \"▾\";}#sk-container-id-2 div.sk-estimator input.sk-toggleable__control:checked~label.sk-toggleable__label {background-color: #d4ebff;}#sk-container-id-2 div.sk-label input.sk-toggleable__control:checked~label.sk-toggleable__label {background-color: #d4ebff;}#sk-container-id-2 input.sk-hidden--visually {border: 0;clip: rect(1px 1px 1px 1px);clip: rect(1px, 1px, 1px, 1px);height: 1px;margin: -1px;overflow: hidden;padding: 0;position: absolute;width: 1px;}#sk-container-id-2 div.sk-estimator {font-family: monospace;background-color: #f0f8ff;border: 1px dotted black;border-radius: 0.25em;box-sizing: border-box;margin-bottom: 0.5em;}#sk-container-id-2 div.sk-estimator:hover {background-color: #d4ebff;}#sk-container-id-2 div.sk-parallel-item::after {content: \"\";width: 100%;border-bottom: 1px solid gray;flex-grow: 1;}#sk-container-id-2 div.sk-label:hover label.sk-toggleable__label {background-color: #d4ebff;}#sk-container-id-2 div.sk-serial::before {content: \"\";position: absolute;border-left: 1px solid gray;box-sizing: border-box;top: 0;bottom: 0;left: 50%;z-index: 0;}#sk-container-id-2 div.sk-serial {display: flex;flex-direction: column;align-items: center;background-color: white;padding-right: 0.2em;padding-left: 0.2em;position: relative;}#sk-container-id-2 div.sk-item {position: relative;z-index: 1;}#sk-container-id-2 div.sk-parallel {display: flex;align-items: stretch;justify-content: center;background-color: white;position: relative;}#sk-container-id-2 div.sk-item::before, #sk-container-id-2 div.sk-parallel-item::before {content: \"\";position: absolute;border-left: 1px solid gray;box-sizing: border-box;top: 0;bottom: 0;left: 50%;z-index: -1;}#sk-container-id-2 div.sk-parallel-item {display: flex;flex-direction: column;z-index: 1;position: relative;background-color: white;}#sk-container-id-2 div.sk-parallel-item:first-child::after {align-self: flex-end;width: 50%;}#sk-container-id-2 div.sk-parallel-item:last-child::after {align-self: flex-start;width: 50%;}#sk-container-id-2 div.sk-parallel-item:only-child::after {width: 0;}#sk-container-id-2 div.sk-dashed-wrapped {border: 1px dashed gray;margin: 0 0.4em 0.5em 0.4em;box-sizing: border-box;padding-bottom: 0.4em;background-color: white;}#sk-container-id-2 div.sk-label label {font-family: monospace;font-weight: bold;display: inline-block;line-height: 1.2em;}#sk-container-id-2 div.sk-label-container {text-align: center;}#sk-container-id-2 div.sk-container {/* jupyter's `normalize.less` sets `[hidden] { display: none; }` but bootstrap.min.css set `[hidden] { display: none !important; }` so we also need the `!important` here to be able to override the default hidden behavior on the sphinx rendered scikit-learn.org. See: https://github.com/scikit-learn/scikit-learn/issues/21755 */display: inline-block !important;position: relative;}#sk-container-id-2 div.sk-text-repr-fallback {display: none;}</style><div id=\"sk-container-id-2\" class=\"sk-top-container\"><div class=\"sk-text-repr-fallback\"><pre>DecisionTreeClassifier(max_depth=3, min_samples_leaf=5)</pre><b>In a Jupyter environment, please rerun this cell to show the HTML representation or trust the notebook. <br />On GitHub, the HTML representation is unable to render, please try loading this page with nbviewer.org.</b></div><div class=\"sk-container\" hidden><div class=\"sk-item\"><div class=\"sk-estimator sk-toggleable\"><input class=\"sk-toggleable__control sk-hidden--visually\" id=\"sk-estimator-id-2\" type=\"checkbox\" checked><label for=\"sk-estimator-id-2\" class=\"sk-toggleable__label sk-toggleable__label-arrow\">DecisionTreeClassifier</label><div class=\"sk-toggleable__content\"><pre>DecisionTreeClassifier(max_depth=3, min_samples_leaf=5)</pre></div></div></div></div></div>"
            ],
            "text/plain": [
              "DecisionTreeClassifier(max_depth=3, min_samples_leaf=5)"
            ]
          },
          "execution_count": 43,
          "metadata": {},
          "output_type": "execute_result"
        }
      ],
      "source": [
        "# 2. Train ML models\n",
        "\n",
        "# bernoulli_nb = BernoulliNB(alpha=0.1, binarize = 0.0 , fit_prior = True))\n",
        "# bernoulli_nb.fit(X_train_ml, y_train_ml)\n",
        "\n",
        "decision_tree = DecisionTreeClassifier(criterion='gini', max_depth=3, min_samples_leaf=5)\n",
        "decision_tree.fit(X_train_ml, y_train_ml)\n",
        "\n"
      ]
    },
    {
      "cell_type": "code",
      "execution_count": null,
      "metadata": {
        "colab": {
          "base_uri": "https://localhost:8080/",
          "height": 248
        },
        "id": "pWFEyu8je63r",
        "outputId": "cbee4397-24be-4715-8590-76951dc0c585"
      },
      "outputs": [
        {
          "data": {
            "text/html": [
              "<style>#sk-container-id-3 {color: black;background-color: white;}#sk-container-id-3 pre{padding: 0;}#sk-container-id-3 div.sk-toggleable {background-color: white;}#sk-container-id-3 label.sk-toggleable__label {cursor: pointer;display: block;width: 100%;margin-bottom: 0;padding: 0.3em;box-sizing: border-box;text-align: center;}#sk-container-id-3 label.sk-toggleable__label-arrow:before {content: \"▸\";float: left;margin-right: 0.25em;color: #696969;}#sk-container-id-3 label.sk-toggleable__label-arrow:hover:before {color: black;}#sk-container-id-3 div.sk-estimator:hover label.sk-toggleable__label-arrow:before {color: black;}#sk-container-id-3 div.sk-toggleable__content {max-height: 0;max-width: 0;overflow: hidden;text-align: left;background-color: #f0f8ff;}#sk-container-id-3 div.sk-toggleable__content pre {margin: 0.2em;color: black;border-radius: 0.25em;background-color: #f0f8ff;}#sk-container-id-3 input.sk-toggleable__control:checked~div.sk-toggleable__content {max-height: 200px;max-width: 100%;overflow: auto;}#sk-container-id-3 input.sk-toggleable__control:checked~label.sk-toggleable__label-arrow:before {content: \"▾\";}#sk-container-id-3 div.sk-estimator input.sk-toggleable__control:checked~label.sk-toggleable__label {background-color: #d4ebff;}#sk-container-id-3 div.sk-label input.sk-toggleable__control:checked~label.sk-toggleable__label {background-color: #d4ebff;}#sk-container-id-3 input.sk-hidden--visually {border: 0;clip: rect(1px 1px 1px 1px);clip: rect(1px, 1px, 1px, 1px);height: 1px;margin: -1px;overflow: hidden;padding: 0;position: absolute;width: 1px;}#sk-container-id-3 div.sk-estimator {font-family: monospace;background-color: #f0f8ff;border: 1px dotted black;border-radius: 0.25em;box-sizing: border-box;margin-bottom: 0.5em;}#sk-container-id-3 div.sk-estimator:hover {background-color: #d4ebff;}#sk-container-id-3 div.sk-parallel-item::after {content: \"\";width: 100%;border-bottom: 1px solid gray;flex-grow: 1;}#sk-container-id-3 div.sk-label:hover label.sk-toggleable__label {background-color: #d4ebff;}#sk-container-id-3 div.sk-serial::before {content: \"\";position: absolute;border-left: 1px solid gray;box-sizing: border-box;top: 0;bottom: 0;left: 50%;z-index: 0;}#sk-container-id-3 div.sk-serial {display: flex;flex-direction: column;align-items: center;background-color: white;padding-right: 0.2em;padding-left: 0.2em;position: relative;}#sk-container-id-3 div.sk-item {position: relative;z-index: 1;}#sk-container-id-3 div.sk-parallel {display: flex;align-items: stretch;justify-content: center;background-color: white;position: relative;}#sk-container-id-3 div.sk-item::before, #sk-container-id-3 div.sk-parallel-item::before {content: \"\";position: absolute;border-left: 1px solid gray;box-sizing: border-box;top: 0;bottom: 0;left: 50%;z-index: -1;}#sk-container-id-3 div.sk-parallel-item {display: flex;flex-direction: column;z-index: 1;position: relative;background-color: white;}#sk-container-id-3 div.sk-parallel-item:first-child::after {align-self: flex-end;width: 50%;}#sk-container-id-3 div.sk-parallel-item:last-child::after {align-self: flex-start;width: 50%;}#sk-container-id-3 div.sk-parallel-item:only-child::after {width: 0;}#sk-container-id-3 div.sk-dashed-wrapped {border: 1px dashed gray;margin: 0 0.4em 0.5em 0.4em;box-sizing: border-box;padding-bottom: 0.4em;background-color: white;}#sk-container-id-3 div.sk-label label {font-family: monospace;font-weight: bold;display: inline-block;line-height: 1.2em;}#sk-container-id-3 div.sk-label-container {text-align: center;}#sk-container-id-3 div.sk-container {/* jupyter's `normalize.less` sets `[hidden] { display: none; }` but bootstrap.min.css set `[hidden] { display: none !important; }` so we also need the `!important` here to be able to override the default hidden behavior on the sphinx rendered scikit-learn.org. See: https://github.com/scikit-learn/scikit-learn/issues/21755 */display: inline-block !important;position: relative;}#sk-container-id-3 div.sk-text-repr-fallback {display: none;}</style><div id=\"sk-container-id-3\" class=\"sk-top-container\"><div class=\"sk-text-repr-fallback\"><pre>XGBClassifier(base_score=None, booster=None, callbacks=None,\n",
              "              colsample_bylevel=None, colsample_bynode=None,\n",
              "              colsample_bytree=None, device=None, early_stopping_rounds=None,\n",
              "              enable_categorical=False, eval_metric=None, feature_types=None,\n",
              "              gamma=None, grow_policy=None, importance_type=None,\n",
              "              interaction_constraints=None, learning_rate=0.1, max_bin=None,\n",
              "              max_cat_threshold=None, max_cat_to_onehot=None,\n",
              "              max_delta_step=None, max_depth=3, max_leaves=None,\n",
              "              min_child_weight=None, missing=nan, monotone_constraints=None,\n",
              "              multi_strategy=None, n_estimators=200, n_jobs=None,\n",
              "              num_parallel_tree=None, random_state=42, ...)</pre><b>In a Jupyter environment, please rerun this cell to show the HTML representation or trust the notebook. <br />On GitHub, the HTML representation is unable to render, please try loading this page with nbviewer.org.</b></div><div class=\"sk-container\" hidden><div class=\"sk-item\"><div class=\"sk-estimator sk-toggleable\"><input class=\"sk-toggleable__control sk-hidden--visually\" id=\"sk-estimator-id-3\" type=\"checkbox\" checked><label for=\"sk-estimator-id-3\" class=\"sk-toggleable__label sk-toggleable__label-arrow\">XGBClassifier</label><div class=\"sk-toggleable__content\"><pre>XGBClassifier(base_score=None, booster=None, callbacks=None,\n",
              "              colsample_bylevel=None, colsample_bynode=None,\n",
              "              colsample_bytree=None, device=None, early_stopping_rounds=None,\n",
              "              enable_categorical=False, eval_metric=None, feature_types=None,\n",
              "              gamma=None, grow_policy=None, importance_type=None,\n",
              "              interaction_constraints=None, learning_rate=0.1, max_bin=None,\n",
              "              max_cat_threshold=None, max_cat_to_onehot=None,\n",
              "              max_delta_step=None, max_depth=3, max_leaves=None,\n",
              "              min_child_weight=None, missing=nan, monotone_constraints=None,\n",
              "              multi_strategy=None, n_estimators=200, n_jobs=None,\n",
              "              num_parallel_tree=None, random_state=42, ...)</pre></div></div></div></div></div>"
            ],
            "text/plain": [
              "XGBClassifier(base_score=None, booster=None, callbacks=None,\n",
              "              colsample_bylevel=None, colsample_bynode=None,\n",
              "              colsample_bytree=None, device=None, early_stopping_rounds=None,\n",
              "              enable_categorical=False, eval_metric=None, feature_types=None,\n",
              "              gamma=None, grow_policy=None, importance_type=None,\n",
              "              interaction_constraints=None, learning_rate=0.1, max_bin=None,\n",
              "              max_cat_threshold=None, max_cat_to_onehot=None,\n",
              "              max_delta_step=None, max_depth=3, max_leaves=None,\n",
              "              min_child_weight=None, missing=nan, monotone_constraints=None,\n",
              "              multi_strategy=None, n_estimators=200, n_jobs=None,\n",
              "              num_parallel_tree=None, random_state=42, ...)"
            ]
          },
          "execution_count": 86,
          "metadata": {},
          "output_type": "execute_result"
        }
      ],
      "source": [
        "xgboost = XGBClassifier(max_depth=3, n_estimators=200, learning_rate=0.1, random_state=42)\n",
        "xgboost.fit(X_train_ml, y_train_ml)"
      ]
    },
    {
      "cell_type": "code",
      "execution_count": null,
      "metadata": {
        "colab": {
          "base_uri": "https://localhost:8080/"
        },
        "id": "bKCmyuyeLhi0",
        "outputId": "72a85fe8-408f-4a30-efd4-11c0dd77f35e"
      },
      "outputs": [
        {
          "output_type": "stream",
          "name": "stdout",
          "text": [
            "group=[ 0  2  3  5  6  7 10 11 12 13 15 16 18 20 22 23 25 27 28 30 31 34 36 38\n",
            " 39 40 41 42 43 44 46 47]\n",
            "group=[ 1  4  8 19 29 37 45]\n"
          ]
        }
      ],
      "source": [
        "# DL\n",
        "X_train_dl, X_val_dl, y_train_dl, y_val_dl, _ = two_splits(X_train, y_train, train_groups)"
      ]
    },
    {
      "cell_type": "code",
      "execution_count": null,
      "metadata": {
        "colab": {
          "base_uri": "https://localhost:8080/"
        },
        "id": "rF7Hbu88W6ty",
        "outputId": "6ed49e72-fc99-4a98-af2f-bd06b281a182"
      },
      "outputs": [
        {
          "output_type": "execute_result",
          "data": {
            "text/plain": [
              "((4728, 1250, 33), (4728,), (1039, 1250, 33), (1039,))"
            ]
          },
          "metadata": {},
          "execution_count": 45
        }
      ],
      "source": [
        "X_train_dl.shape, y_train_dl.shape, X_val_dl.shape, y_val_dl.shape"
      ]
    },
    {
      "cell_type": "code",
      "execution_count": null,
      "metadata": {
        "colab": {
          "base_uri": "https://localhost:8080/"
        },
        "id": "UwNu8OR-Ioe6",
        "outputId": "5dc84b12-30ce-411e-fbf6-d38b8bf6bc17"
      },
      "outputs": [
        {
          "output_type": "stream",
          "name": "stdout",
          "text": [
            "Epoch 1/70\n",
            "36/36 [==============================] - 13s 130ms/step - loss: 0.6888 - accuracy: 0.5791 - val_loss: 0.6903 - val_accuracy: 0.5544\n",
            "Epoch 2/70\n",
            "36/36 [==============================] - 1s 38ms/step - loss: 0.6650 - accuracy: 0.6036 - val_loss: 0.6893 - val_accuracy: 0.5515\n",
            "Epoch 3/70\n",
            "36/36 [==============================] - 1s 38ms/step - loss: 0.6498 - accuracy: 0.6191 - val_loss: 0.6895 - val_accuracy: 0.5563\n",
            "Epoch 4/70\n",
            "36/36 [==============================] - 1s 38ms/step - loss: 0.6346 - accuracy: 0.6436 - val_loss: 0.6896 - val_accuracy: 0.5573\n",
            "Epoch 5/70\n",
            "36/36 [==============================] - 1s 38ms/step - loss: 0.6186 - accuracy: 0.6548 - val_loss: 0.6878 - val_accuracy: 0.5650\n",
            "Epoch 6/70\n",
            "36/36 [==============================] - 1s 38ms/step - loss: 0.5967 - accuracy: 0.6887 - val_loss: 0.6864 - val_accuracy: 0.5659\n",
            "Epoch 7/70\n",
            "36/36 [==============================] - 1s 38ms/step - loss: 0.5704 - accuracy: 0.7250 - val_loss: 0.6898 - val_accuracy: 0.5794\n",
            "Epoch 8/70\n",
            "36/36 [==============================] - 1s 39ms/step - loss: 0.5351 - accuracy: 0.7606 - val_loss: 0.6742 - val_accuracy: 0.5890\n",
            "Epoch 9/70\n",
            "36/36 [==============================] - 1s 40ms/step - loss: 0.5045 - accuracy: 0.7769 - val_loss: 0.6698 - val_accuracy: 0.5890\n",
            "Epoch 10/70\n",
            "36/36 [==============================] - 1s 39ms/step - loss: 0.4474 - accuracy: 0.8386 - val_loss: 0.6446 - val_accuracy: 0.6208\n",
            "Epoch 11/70\n",
            "36/36 [==============================] - 1s 40ms/step - loss: 0.3991 - accuracy: 0.8570 - val_loss: 0.6156 - val_accuracy: 0.6449\n",
            "Epoch 12/70\n",
            "36/36 [==============================] - 1s 39ms/step - loss: 0.3496 - accuracy: 0.8765 - val_loss: 0.6235 - val_accuracy: 0.6526\n",
            "Epoch 13/70\n",
            "36/36 [==============================] - 1s 39ms/step - loss: 0.3060 - accuracy: 0.8970 - val_loss: 0.5727 - val_accuracy: 0.7045\n",
            "Epoch 14/70\n",
            "36/36 [==============================] - 1s 40ms/step - loss: 0.2657 - accuracy: 0.9126 - val_loss: 0.5534 - val_accuracy: 0.7180\n",
            "Epoch 15/70\n",
            "36/36 [==============================] - 1s 39ms/step - loss: 0.2331 - accuracy: 0.9251 - val_loss: 0.5240 - val_accuracy: 0.7372\n",
            "Epoch 16/70\n",
            "36/36 [==============================] - 1s 38ms/step - loss: 0.2123 - accuracy: 0.9253 - val_loss: 0.5121 - val_accuracy: 0.7555\n",
            "Epoch 17/70\n",
            "36/36 [==============================] - 1s 39ms/step - loss: 0.1808 - accuracy: 0.9444 - val_loss: 0.5094 - val_accuracy: 0.7555\n",
            "Epoch 18/70\n",
            "36/36 [==============================] - 1s 39ms/step - loss: 0.1459 - accuracy: 0.9624 - val_loss: 0.5294 - val_accuracy: 0.7401\n",
            "Epoch 19/70\n",
            "36/36 [==============================] - 1s 39ms/step - loss: 0.1272 - accuracy: 0.9685 - val_loss: 0.5065 - val_accuracy: 0.7584\n",
            "Epoch 20/70\n",
            "36/36 [==============================] - 1s 39ms/step - loss: 0.1116 - accuracy: 0.9765 - val_loss: 0.5161 - val_accuracy: 0.7555\n",
            "Epoch 21/70\n",
            "36/36 [==============================] - 1s 39ms/step - loss: 0.0914 - accuracy: 0.9814 - val_loss: 0.5190 - val_accuracy: 0.7623\n",
            "Epoch 22/70\n",
            "36/36 [==============================] - 1s 39ms/step - loss: 0.0858 - accuracy: 0.9822 - val_loss: 0.5653 - val_accuracy: 0.7411\n",
            "Epoch 23/70\n",
            "36/36 [==============================] - 1s 39ms/step - loss: 0.0689 - accuracy: 0.9875 - val_loss: 0.5372 - val_accuracy: 0.7613\n",
            "Epoch 24/70\n",
            "36/36 [==============================] - 1s 40ms/step - loss: 0.0590 - accuracy: 0.9905 - val_loss: 0.5629 - val_accuracy: 0.7536\n"
          ]
        }
      ],
      "source": [
        "# 3. Train DL models\n",
        "\n",
        "# Define the input layer with a shape of (1250, 33)\n",
        "input_layer = Input(shape=(1250, 33))\n",
        "\n",
        "# Create the first block\n",
        "block1 = block(input_layer)\n",
        "\n",
        "# Create the second block using the 'block' function with the output of the first block as input\n",
        "block2 = block(block1)\n",
        "\n",
        "# Create the third block using the 'block' function with the output of the second block as input\n",
        "block3 = block(block2)\n",
        "\n",
        "cnn_out1 = Conv1D(32, 3, activation='relu', padding='same')(block3)\n",
        "cnn_out2 = Conv1D(32, 3, activation='relu', padding='same')(cnn_out1)\n",
        "cnn_out3 = MaxPooling1D(pool_size=2)(cnn_out2)\n",
        "cnn_out4 = Flatten()(cnn_out3)\n",
        "\n",
        "# Create a Dense layer with 1 unit and sigmoid activation for binary classification\n",
        "predictions = Dense(1, activation='sigmoid')(cnn_out4)\n",
        "\n",
        "# Define the model with 'input_layer' as the input and 'predictions' as the output\n",
        "CNN = Model(inputs=input_layer, outputs=predictions)\n",
        "\n",
        "# Specify the Adam optimizer with a learning rate of 0.0001\n",
        "optimizer = Adam(learning_rate=0.0001)\n",
        "\n",
        "# Compile the model with binary crossentropy loss and accuracy as the evaluation metric\n",
        "CNN.compile(optimizer=optimizer, loss='binary_crossentropy', metrics=['accuracy'])\n",
        "\n",
        "# Define early stopping callback\n",
        "early_stopping = EarlyStopping(monitor='val_loss', patience=5, restore_best_weights=True)\n",
        "\n",
        "# Train the model using training features and labels\n",
        "hist = CNN.fit(X_train_dl, y_train_dl, epochs=70, batch_size=132, validation_data= (X_val_dl, y_val_dl), callbacks=[early_stopping])\n"
      ]
    },
    {
      "cell_type": "code",
      "execution_count": null,
      "metadata": {
        "colab": {
          "base_uri": "https://localhost:8080/"
        },
        "id": "6tfBt9HOJ7Nw",
        "outputId": "ff030ee5-eb1a-461b-85e7-dbeab220ac9e"
      },
      "outputs": [
        {
          "output_type": "stream",
          "name": "stdout",
          "text": [
            "Epoch 1/70\n",
            "36/36 [==============================] - 11s 106ms/step - loss: 0.6806 - accuracy: 0.5825 - val_loss: 0.6845 - val_accuracy: 0.5775\n",
            "Epoch 2/70\n",
            "36/36 [==============================] - 2s 58ms/step - loss: 0.6690 - accuracy: 0.5941 - val_loss: 0.6840 - val_accuracy: 0.5765\n",
            "Epoch 3/70\n",
            "36/36 [==============================] - 2s 56ms/step - loss: 0.6597 - accuracy: 0.5990 - val_loss: 0.6827 - val_accuracy: 0.5804\n",
            "Epoch 4/70\n",
            "36/36 [==============================] - 2s 58ms/step - loss: 0.6424 - accuracy: 0.6178 - val_loss: 0.6804 - val_accuracy: 0.5611\n",
            "Epoch 5/70\n",
            "36/36 [==============================] - 2s 57ms/step - loss: 0.6145 - accuracy: 0.6527 - val_loss: 0.6793 - val_accuracy: 0.5650\n",
            "Epoch 6/70\n",
            "36/36 [==============================] - 2s 56ms/step - loss: 0.5685 - accuracy: 0.6992 - val_loss: 0.6833 - val_accuracy: 0.5784\n",
            "Epoch 7/70\n",
            "36/36 [==============================] - 2s 57ms/step - loss: 0.5095 - accuracy: 0.7434 - val_loss: 0.6846 - val_accuracy: 0.6006\n",
            "Epoch 8/70\n",
            "36/36 [==============================] - 2s 61ms/step - loss: 0.4635 - accuracy: 0.7843 - val_loss: 0.7102 - val_accuracy: 0.5804\n",
            "Epoch 9/70\n",
            "36/36 [==============================] - 2s 60ms/step - loss: 0.4036 - accuracy: 0.8151 - val_loss: 0.7471 - val_accuracy: 0.5852\n",
            "Epoch 10/70\n",
            "36/36 [==============================] - 2s 60ms/step - loss: 0.3509 - accuracy: 0.8462 - val_loss: 0.7426 - val_accuracy: 0.6025\n"
          ]
        }
      ],
      "source": [
        "# Define the input layer with a shape of (1250, 33)\n",
        "input = Input(shape=(1250, 33))\n",
        "\n",
        "# Create the first block\n",
        "block1 = block(input)\n",
        "\n",
        "# Create the second block using the 'block' function with the output of the first block as input\n",
        "block2 = block(block1)\n",
        "\n",
        "# Create the third block using the 'block' function with the output of the second block as input\n",
        "block3 = block(block2)\n",
        "\n",
        "\n",
        "gru_out1 = GRU(32,activation='tanh',return_sequences=True)(block3)\n",
        "gru_out2 = GRU(32,activation='tanh',return_sequences=True)(gru_out1)\n",
        "gru_out = concatenate([gru_out1,gru_out2],axis=2)\n",
        "gru_out3 = GRU(32,activation='tanh',return_sequences=True)(gru_out)\n",
        "gru_out = concatenate([gru_out1,gru_out2,gru_out3])\n",
        "gru_out4 = GRU(32,activation='tanh')(gru_out)\n",
        "\n",
        "\n",
        "# Create a Dense layer with 1 unit and sigmoid activation for binary classification\n",
        "predictions = Dense(1, activation='sigmoid')(gru_out4)\n",
        "\n",
        "# Define the model with 'input' as the input and 'predictions' as the output\n",
        "CNN_GRU = Model(inputs=input, outputs=predictions)\n",
        "\n",
        "# Specify the Adam optimizer with a learning rate of 0.0001\n",
        "optimizer = Adam(learning_rate=0.0001)\n",
        "\n",
        "# Compile the model with binary crossentropy loss and accuracy as the evaluation metric\n",
        "CNN_GRU.compile(optimizer=optimizer, loss='binary_crossentropy', metrics=['accuracy'])\n",
        "\n",
        "\n",
        "# Define early stopping callback\n",
        "early_stopping = EarlyStopping(monitor='val_loss', patience=5, restore_best_weights=True)\n",
        "\n",
        "# Train the model using training features and labels\n",
        "hist = CNN_GRU.fit(X_train_dl, y_train_dl, epochs=70, batch_size=132,\n",
        "                   validation_data= (X_val_dl, y_val_dl), callbacks=early_stopping)"
      ]
    },
    {
      "cell_type": "code",
      "execution_count": null,
      "metadata": {
        "colab": {
          "base_uri": "https://localhost:8080/"
        },
        "id": "KWcdzKlmQj9q",
        "outputId": "727b1160-6d95-471f-dbd3-3f7fdc5abf33"
      },
      "outputs": [
        {
          "output_type": "stream",
          "name": "stdout",
          "text": [
            "Epoch 1/100\n",
            "36/36 [==============================] - 56s 2s/step - loss: 0.6816 - accuracy: 0.5802 - val_loss: 0.7153 - val_accuracy: 0.5197\n",
            "Epoch 2/100\n",
            "36/36 [==============================] - 50s 1s/step - loss: 0.6403 - accuracy: 0.6320 - val_loss: 0.7171 - val_accuracy: 0.5140\n",
            "Epoch 3/100\n",
            "36/36 [==============================] - 51s 1s/step - loss: 0.6097 - accuracy: 0.6717 - val_loss: 0.7203 - val_accuracy: 0.5120\n",
            "Epoch 4/100\n",
            "36/36 [==============================] - 50s 1s/step - loss: 0.5784 - accuracy: 0.7064 - val_loss: 0.7249 - val_accuracy: 0.5034\n"
          ]
        }
      ],
      "source": [
        "RNN = Sequential()\n",
        "RNN.add(SimpleRNN(128, input_shape=(1250, 33), return_sequences=True))  # RNN layer with 128 units and return sequences\n",
        "RNN.add(SimpleRNN(128))  # Additional RNN layer with 128 units\n",
        "RNN.add(Dense(64, activation='relu'))  # Dense layer with 64 units and ReLU activation\n",
        "RNN.add(Dense(1, activation='sigmoid'))  # Output layer with sigmoid activation\n",
        "\n",
        "# Compile the model\n",
        "\n",
        "optimizer = tf.keras.optimizers.Adam(learning_rate=0.0001)\n",
        "RNN.compile(loss='binary_crossentropy', optimizer=optimizer, metrics=['accuracy'])\n",
        "\n",
        "# Define early stopping callback\n",
        "early_stopping = EarlyStopping(monitor='val_loss', patience=3, restore_best_weights=True)\n",
        "\n",
        "# Train the model\n",
        "history=RNN.fit(X_train_dl, y_train_dl, epochs=100, batch_size=132,validation_data= (X_val_dl, y_val_dl), callbacks=[early_stopping])\n"
      ]
    },
    {
      "cell_type": "code",
      "execution_count": null,
      "metadata": {
        "colab": {
          "base_uri": "https://localhost:8080/"
        },
        "id": "9Q7YjNAsHSfM",
        "outputId": "e8184a90-5feb-456e-9951-5868e9b88bcf"
      },
      "outputs": [
        {
          "output_type": "stream",
          "name": "stdout",
          "text": [
            "181/181 [==============================] - 1s 5ms/step\n",
            "181/181 [==============================] - 2s 11ms/step\n",
            "181/181 [==============================] - 29s 158ms/step\n",
            "44/44 [==============================] - 0s 5ms/step\n",
            "44/44 [==============================] - 1s 13ms/step\n",
            "44/44 [==============================] - 7s 162ms/step\n"
          ]
        }
      ],
      "source": [
        "# 4. Generate predictions\n",
        "X_test_ml, X_test_dl = X_test.reshape(X_test.shape[0], -1), X_test\n",
        "\n",
        "xgboost_predictions_train = xgboost.predict(X_train_ml).reshape(-1, 1)\n",
        "dt_predictions_train = decision_tree.predict(X_train_ml).reshape(-1, 1)\n",
        "CNN_predictions_train = CNN.predict(X_train).reshape(-1, 1)\n",
        "CNN_GRU_predictions_train = CNN_GRU.predict(X_train).reshape(-1, 1)\n",
        "RNN_predictions_train = RNN.predict(X_train).reshape(-1, 1)\n",
        "\n",
        "\n",
        "xgboost_predictions_test = xgboost.predict(X_test_ml).reshape(-1, 1)\n",
        "dt_predictions_test = decision_tree.predict(X_test_ml).reshape(-1, 1)\n",
        "CNN_predictions_test = CNN.predict(X_test_dl).reshape(-1, 1)\n",
        "CNN_GRU_predictions_test = CNN_GRU.predict(X_test_dl).reshape(-1, 1)\n",
        "RNN_predictions_test = RNN.predict(X_test_dl).reshape(-1, 1)\n"
      ]
    },
    {
      "cell_type": "code",
      "source": [
        "# xgboost\n",
        "ensemble_accuracy = accuracy_score(y_test, xgboost_predictions_test)\n",
        "precision         = precision_score(y_test, xgboost_predictions_test)\n",
        "recall            = recall_score(y_test, xgboost_predictions_test)\n",
        "f1                = f1_score(y_test, xgboost_predictions_test)\n",
        "\n",
        "print(f'xgboost accuracy : {ensemble_accuracy}')\n",
        "print(f'xgboost precision : {precision}')\n",
        "print(f'xgboost recall : {recall}')\n",
        "print(f'xgboost f1 : {f1}')\n",
        "\n",
        "\n",
        "# dt\n",
        "ensemble_accuracy = accuracy_score(y_test, dt_predictions_test)\n",
        "precision         = precision_score(y_test, dt_predictions_test)\n",
        "recall            = recall_score(y_test, dt_predictions_test)\n",
        "f1                = f1_score(y_test, dt_predictions_test)\n",
        "\n",
        "print(f'dt accuracy : {ensemble_accuracy}')\n",
        "print(f'dt precision : {precision}')\n",
        "print(f'dt recall : {recall}')\n",
        "print(f'dt f1 : {f1}')\n",
        "\n",
        "\n",
        "# CNN\n",
        "threshhold = 0.5\n",
        "CNN_predictions_test = np.where(CNN_predictions_test > threshhold, 1, 0)\n",
        "ensemble_accuracy = accuracy_score(y_test, CNN_predictions_test)\n",
        "precision         = precision_score(y_test, CNN_predictions_test)\n",
        "recall            = recall_score(y_test, CNN_predictions_test)\n",
        "f1                = f1_score(y_test, CNN_predictions_test)\n",
        "\n",
        "print(f'CNN accuracy : {ensemble_accuracy}')\n",
        "print(f'CNN precision : {precision}')\n",
        "print(f'CNN recall : {recall}')\n",
        "print(f'CNN f1 : {f1}')\n",
        "\n",
        "\n",
        "# CNN-GRU\n",
        "threshhold = 0.5\n",
        "CNN_GRU_predictions_test = np.where(CNN_GRU_predictions_test > threshhold, 1, 0)\n",
        "ensemble_accuracy = accuracy_score(y_test, CNN_predictions_test)\n",
        "precision         = precision_score(y_test, CNN_predictions_test)\n",
        "recall            = recall_score(y_test, CNN_predictions_test)\n",
        "f1                = f1_score(y_test, CNN_predictions_test)\n",
        "\n",
        "print(f'CNN-GRU accuracy : {ensemble_accuracy}')\n",
        "print(f'CNN-GRU precision : {precision}')\n",
        "print(f'CNN-GRU recall : {recall}')\n",
        "print(f'CNN-GRU f1 : {f1}')\n",
        "\n",
        "# RNN\n",
        "threshhold = 0.5\n",
        "RNN_predictions_test = np.where(RNN_predictions_test > threshhold, 1, 0)\n",
        "ensemble_accuracy = accuracy_score(y_test, RNN_predictions_test)\n",
        "precision         = precision_score(y_test, RNN_predictions_test)\n",
        "recall            = recall_score(y_test, RNN_predictions_test)\n",
        "f1                = f1_score(y_test, RNN_predictions_test)\n",
        "\n",
        "print(f'RNN accuracy : {ensemble_accuracy}')\n",
        "print(f'RNN precision : {precision}')\n",
        "print(f'RNN recall : {recall}')\n",
        "print(f'RNN f1 : {f1}')\n"
      ],
      "metadata": {
        "colab": {
          "base_uri": "https://localhost:8080/"
        },
        "id": "n7bM2sgMADT9",
        "outputId": "3d9209b2-b6b8-436e-f367-ed0780917db3"
      },
      "execution_count": null,
      "outputs": [
        {
          "output_type": "stream",
          "name": "stdout",
          "text": [
            "xgboost accuracy : 0.7845263919016631\n",
            "xgboost precision : 0.8472222222222222\n",
            "xgboost recall : 0.8364978902953587\n",
            "xgboost f1 : 0.8418259023354565\n",
            "dt accuracy : 0.6789587852494577\n",
            "dt precision : 0.8103448275862069\n",
            "dt recall : 0.6940928270042194\n",
            "dt f1 : 0.7477272727272727\n",
            "CNN accuracy : 0.6681127982646421\n",
            "CNN precision : 0.7643243243243243\n",
            "CNN recall : 0.7457805907172996\n",
            "CNN f1 : 0.7549386011745862\n",
            "CNN-GRU accuracy : 0.6681127982646421\n",
            "CNN-GRU precision : 0.7643243243243243\n",
            "CNN-GRU recall : 0.7457805907172996\n",
            "CNN-GRU f1 : 0.7549386011745862\n",
            "RNN accuracy : 0.6362979031091829\n",
            "RNN precision : 0.6943231441048034\n",
            "RNN recall : 0.8386075949367089\n",
            "RNN f1 : 0.7596751075011945\n"
          ]
        }
      ]
    },
    {
      "cell_type": "code",
      "source": [
        "#making a new dataset for training our final model by stacking the predictions on the validation data\n",
        "train_stack = np.column_stack((xgboost_predictions_train,\n",
        "                               dt_predictions_train,\n",
        "                               CNN_predictions_train,\n",
        "                               CNN_GRU_predictions_train,\n",
        "                               RNN_predictions_train))\n",
        "\n",
        "#making the final test set for our final model by stacking the predictions on the test data\n",
        "test_stack = np.column_stack((xgboost_predictions_test,\n",
        "                              dt_predictions_test,\n",
        "                              CNN_predictions_test,\n",
        "                              CNN_GRU_predictions_test,\n",
        "                              RNN_predictions_test))\n",
        "\n",
        "\n",
        "final_model = RandomForestClassifier(n_estimators=200)\n",
        "\n",
        "#training the final model on the stacked predictions\n",
        "final_model.fit(train_stack,y_train)\n",
        "\n",
        "final_predictions = final_model.predict(test_stack)\n",
        "\n",
        "# Compute accuracy using the binary class labels\n",
        "ensemble_accuracy = accuracy_score(y_test, final_predictions)\n",
        "precision         = precision_score(y_test, final_predictions)\n",
        "recall            = recall_score(y_test, final_predictions)\n",
        "f1                = f1_score(y_test, final_predictions)\n",
        "\n",
        "print(f'Ensemble accuracy : {ensemble_accuracy}')\n",
        "print(f'Ensemble precision : {precision}')\n",
        "print(f'Ensemble recall : {recall}')\n",
        "print(f'Ensemble f1 : {f1}')"
      ],
      "metadata": {
        "colab": {
          "base_uri": "https://localhost:8080/"
        },
        "id": "NtRY3iJP98uX",
        "outputId": "62ad1ff6-9fff-4e63-81f3-f2018d56f99f"
      },
      "execution_count": null,
      "outputs": [
        {
          "output_type": "stream",
          "name": "stdout",
          "text": [
            "Ensemble accuracy : 0.7845263919016631\n",
            "Ensemble precision : 0.8472222222222222\n",
            "Ensemble recall : 0.8364978902953587\n",
            "Ensemble f1 : 0.8418259023354565\n"
          ]
        }
      ]
    },
    {
      "cell_type": "markdown",
      "metadata": {
        "id": "tFr_GtVhJf9T"
      },
      "source": [
        "# DT Data"
      ]
    },
    {
      "cell_type": "code",
      "execution_count": 10,
      "metadata": {
        "colab": {
          "base_uri": "https://localhost:8080/"
        },
        "id": "YUO3SiJeJj-v",
        "outputId": "c563599e-dd6c-41ff-acb1-4365609a2bba"
      },
      "outputs": [
        {
          "output_type": "execute_result",
          "data": {
            "text/plain": [
              "((7150, 1250, 33), (7150,), (7150,))"
            ]
          },
          "metadata": {},
          "execution_count": 10
        }
      ],
      "source": [
        "data_array = np.load('/content/drive/MyDrive/GP/GP-Data/data_array.npy')\n",
        "label_array = np.load('/content/drive/MyDrive/GP/GP-Data/label_array.npy')\n",
        "group_array = np.load('/content/drive/MyDrive/GP/GP-Data/group_array.npy')\n",
        "\n",
        "label_array = label_array.astype('int')\n",
        "\n",
        "data_array.shape, label_array.shape, group_array.shape"
      ]
    },
    {
      "cell_type": "code",
      "execution_count": 16,
      "metadata": {
        "colab": {
          "base_uri": "https://localhost:8080/"
        },
        "id": "fB7_ck1LJsB2",
        "outputId": "7df510d6-cfd0-4528-b264-636b18749437"
      },
      "outputs": [
        {
          "output_type": "stream",
          "name": "stdout",
          "text": [
            "group=[ 0  1  2  3  4  5  6  7  8 10 11 12 13 15 16 18 19 20 22 23 25 27 28 29\n",
            " 30 31 34 36 37 38 39 40 41 42 43 44 45 46 47]\n",
            "group=[ 9 14 17 21 24 26 32 33 35]\n"
          ]
        }
      ],
      "source": [
        "# Load your dataset and split into training and testing sets\n",
        "X_train, X_test, y_train, y_test, train_groups = two_splits(data_array, label_array, group_array)\n",
        "\n",
        "\n",
        "y_train[y_train==0] = 1 #Stroke\n",
        "y_train[y_train==2] = 0 #Healthy\n",
        "\n",
        "y_test[y_test==0] = 1 #Stroke\n",
        "y_test[y_test==2] = 0 #Healthy"
      ]
    },
    {
      "cell_type": "code",
      "execution_count": 19,
      "metadata": {
        "id": "oqHPIKZ6MdAQ"
      },
      "outputs": [],
      "source": [
        "X_train_ml = X_train.reshape(X_train.shape[0], -1)\n",
        "X_test_ml = X_test.reshape(X_test.shape[0], -1)"
      ]
    },
    {
      "cell_type": "code",
      "execution_count": 20,
      "metadata": {
        "id": "vTI-98PNKi_E"
      },
      "outputs": [],
      "source": [
        "## featuers reduction using DT\n",
        "from sklearn.tree import DecisionTreeClassifier\n",
        "from sklearn.feature_selection import SelectFromModel\n",
        "from sklearn.neighbors import KNeighborsClassifier\n",
        "from sklearn.metrics import accuracy_score, precision_score, recall_score, f1_score\n",
        "\n",
        "def select_features_with_decision_tree(X_train, y_train, X_test, y_test, threshold=0.1):\n",
        "    tree_params = {'criterion': 'gini', 'max_depth': 3, 'min_samples_leaf': 5}\n",
        "    # Train a Decision Tree Classifier\n",
        "    dt_classifier = DecisionTreeClassifier(**tree_params)\n",
        "\n",
        "    # Train a Decision Tree classifier to select important features\n",
        "    #dt = DecisionTreeClassifier(random_state=42)\n",
        "    dt_classifier.fit(X_train, y_train)\n",
        "\n",
        "    # Select features based on importance using the trained Decision Tree\n",
        "    sfm = SelectFromModel(dt_classifier, threshold=0.1)\n",
        "    sfm.fit(X_train, y_train)\n",
        "\n",
        "    # Transform the training and testing data to include only the selected features\n",
        "    X_train_selected = sfm.transform(X_train)\n",
        "    X_test_selected = sfm.transform(X_test)\n",
        "\n",
        "    return X_train_selected, X_test_selected\n",
        "\n",
        "\n",
        "\n",
        "\n",
        "X_train_selected , X_test_selected = select_features_with_decision_tree(X_train_ml,\n",
        "                                                                        y_train,\n",
        "                                                                        X_test_ml,\n",
        "                                                                        y_test)\n"
      ]
    },
    {
      "cell_type": "code",
      "execution_count": 21,
      "metadata": {
        "colab": {
          "base_uri": "https://localhost:8080/"
        },
        "id": "Ev8IZyObegux",
        "outputId": "b025f782-ae1c-4857-d12f-6d967d931b42"
      },
      "outputs": [
        {
          "output_type": "execute_result",
          "data": {
            "text/plain": [
              "((5767, 4), (1383, 4))"
            ]
          },
          "metadata": {},
          "execution_count": 21
        }
      ],
      "source": [
        "X_train_selected.shape , X_test_selected.shape"
      ]
    },
    {
      "cell_type": "code",
      "execution_count": 29,
      "metadata": {
        "colab": {
          "base_uri": "https://localhost:8080/",
          "height": 75
        },
        "id": "7VaLJRtAKRJP",
        "outputId": "8358a30e-1999-4f95-dfa1-a0d0130b1dbf"
      },
      "outputs": [
        {
          "output_type": "execute_result",
          "data": {
            "text/plain": [
              "DecisionTreeClassifier(max_depth=3, min_samples_leaf=5)"
            ],
            "text/html": [
              "<style>#sk-container-id-5 {color: black;background-color: white;}#sk-container-id-5 pre{padding: 0;}#sk-container-id-5 div.sk-toggleable {background-color: white;}#sk-container-id-5 label.sk-toggleable__label {cursor: pointer;display: block;width: 100%;margin-bottom: 0;padding: 0.3em;box-sizing: border-box;text-align: center;}#sk-container-id-5 label.sk-toggleable__label-arrow:before {content: \"▸\";float: left;margin-right: 0.25em;color: #696969;}#sk-container-id-5 label.sk-toggleable__label-arrow:hover:before {color: black;}#sk-container-id-5 div.sk-estimator:hover label.sk-toggleable__label-arrow:before {color: black;}#sk-container-id-5 div.sk-toggleable__content {max-height: 0;max-width: 0;overflow: hidden;text-align: left;background-color: #f0f8ff;}#sk-container-id-5 div.sk-toggleable__content pre {margin: 0.2em;color: black;border-radius: 0.25em;background-color: #f0f8ff;}#sk-container-id-5 input.sk-toggleable__control:checked~div.sk-toggleable__content {max-height: 200px;max-width: 100%;overflow: auto;}#sk-container-id-5 input.sk-toggleable__control:checked~label.sk-toggleable__label-arrow:before {content: \"▾\";}#sk-container-id-5 div.sk-estimator input.sk-toggleable__control:checked~label.sk-toggleable__label {background-color: #d4ebff;}#sk-container-id-5 div.sk-label input.sk-toggleable__control:checked~label.sk-toggleable__label {background-color: #d4ebff;}#sk-container-id-5 input.sk-hidden--visually {border: 0;clip: rect(1px 1px 1px 1px);clip: rect(1px, 1px, 1px, 1px);height: 1px;margin: -1px;overflow: hidden;padding: 0;position: absolute;width: 1px;}#sk-container-id-5 div.sk-estimator {font-family: monospace;background-color: #f0f8ff;border: 1px dotted black;border-radius: 0.25em;box-sizing: border-box;margin-bottom: 0.5em;}#sk-container-id-5 div.sk-estimator:hover {background-color: #d4ebff;}#sk-container-id-5 div.sk-parallel-item::after {content: \"\";width: 100%;border-bottom: 1px solid gray;flex-grow: 1;}#sk-container-id-5 div.sk-label:hover label.sk-toggleable__label {background-color: #d4ebff;}#sk-container-id-5 div.sk-serial::before {content: \"\";position: absolute;border-left: 1px solid gray;box-sizing: border-box;top: 0;bottom: 0;left: 50%;z-index: 0;}#sk-container-id-5 div.sk-serial {display: flex;flex-direction: column;align-items: center;background-color: white;padding-right: 0.2em;padding-left: 0.2em;position: relative;}#sk-container-id-5 div.sk-item {position: relative;z-index: 1;}#sk-container-id-5 div.sk-parallel {display: flex;align-items: stretch;justify-content: center;background-color: white;position: relative;}#sk-container-id-5 div.sk-item::before, #sk-container-id-5 div.sk-parallel-item::before {content: \"\";position: absolute;border-left: 1px solid gray;box-sizing: border-box;top: 0;bottom: 0;left: 50%;z-index: -1;}#sk-container-id-5 div.sk-parallel-item {display: flex;flex-direction: column;z-index: 1;position: relative;background-color: white;}#sk-container-id-5 div.sk-parallel-item:first-child::after {align-self: flex-end;width: 50%;}#sk-container-id-5 div.sk-parallel-item:last-child::after {align-self: flex-start;width: 50%;}#sk-container-id-5 div.sk-parallel-item:only-child::after {width: 0;}#sk-container-id-5 div.sk-dashed-wrapped {border: 1px dashed gray;margin: 0 0.4em 0.5em 0.4em;box-sizing: border-box;padding-bottom: 0.4em;background-color: white;}#sk-container-id-5 div.sk-label label {font-family: monospace;font-weight: bold;display: inline-block;line-height: 1.2em;}#sk-container-id-5 div.sk-label-container {text-align: center;}#sk-container-id-5 div.sk-container {/* jupyter's `normalize.less` sets `[hidden] { display: none; }` but bootstrap.min.css set `[hidden] { display: none !important; }` so we also need the `!important` here to be able to override the default hidden behavior on the sphinx rendered scikit-learn.org. See: https://github.com/scikit-learn/scikit-learn/issues/21755 */display: inline-block !important;position: relative;}#sk-container-id-5 div.sk-text-repr-fallback {display: none;}</style><div id=\"sk-container-id-5\" class=\"sk-top-container\"><div class=\"sk-text-repr-fallback\"><pre>DecisionTreeClassifier(max_depth=3, min_samples_leaf=5)</pre><b>In a Jupyter environment, please rerun this cell to show the HTML representation or trust the notebook. <br />On GitHub, the HTML representation is unable to render, please try loading this page with nbviewer.org.</b></div><div class=\"sk-container\" hidden><div class=\"sk-item\"><div class=\"sk-estimator sk-toggleable\"><input class=\"sk-toggleable__control sk-hidden--visually\" id=\"sk-estimator-id-5\" type=\"checkbox\" checked><label for=\"sk-estimator-id-5\" class=\"sk-toggleable__label sk-toggleable__label-arrow\">DecisionTreeClassifier</label><div class=\"sk-toggleable__content\"><pre>DecisionTreeClassifier(max_depth=3, min_samples_leaf=5)</pre></div></div></div></div></div>"
            ]
          },
          "metadata": {},
          "execution_count": 29
        }
      ],
      "source": [
        "# 2. Train ML models\n",
        "decision_tree = DecisionTreeClassifier(criterion='gini', max_depth=3, min_samples_leaf=5)\n",
        "decision_tree.fit(X_train_selected, y_train)"
      ]
    },
    {
      "cell_type": "code",
      "execution_count": 30,
      "metadata": {
        "colab": {
          "base_uri": "https://localhost:8080/",
          "height": 248
        },
        "id": "0vzAdmJMKRJa",
        "outputId": "b605cfe4-54c9-4228-8115-2d17db7596de"
      },
      "outputs": [
        {
          "output_type": "execute_result",
          "data": {
            "text/plain": [
              "XGBClassifier(base_score=None, booster=None, callbacks=None,\n",
              "              colsample_bylevel=None, colsample_bynode=None,\n",
              "              colsample_bytree=None, device=None, early_stopping_rounds=None,\n",
              "              enable_categorical=False, eval_metric=None, feature_types=None,\n",
              "              gamma=None, grow_policy=None, importance_type=None,\n",
              "              interaction_constraints=None, learning_rate=0.1, max_bin=None,\n",
              "              max_cat_threshold=None, max_cat_to_onehot=None,\n",
              "              max_delta_step=None, max_depth=3, max_leaves=None,\n",
              "              min_child_weight=None, missing=nan, monotone_constraints=None,\n",
              "              multi_strategy=None, n_estimators=200, n_jobs=None,\n",
              "              num_parallel_tree=None, random_state=42, ...)"
            ],
            "text/html": [
              "<style>#sk-container-id-6 {color: black;background-color: white;}#sk-container-id-6 pre{padding: 0;}#sk-container-id-6 div.sk-toggleable {background-color: white;}#sk-container-id-6 label.sk-toggleable__label {cursor: pointer;display: block;width: 100%;margin-bottom: 0;padding: 0.3em;box-sizing: border-box;text-align: center;}#sk-container-id-6 label.sk-toggleable__label-arrow:before {content: \"▸\";float: left;margin-right: 0.25em;color: #696969;}#sk-container-id-6 label.sk-toggleable__label-arrow:hover:before {color: black;}#sk-container-id-6 div.sk-estimator:hover label.sk-toggleable__label-arrow:before {color: black;}#sk-container-id-6 div.sk-toggleable__content {max-height: 0;max-width: 0;overflow: hidden;text-align: left;background-color: #f0f8ff;}#sk-container-id-6 div.sk-toggleable__content pre {margin: 0.2em;color: black;border-radius: 0.25em;background-color: #f0f8ff;}#sk-container-id-6 input.sk-toggleable__control:checked~div.sk-toggleable__content {max-height: 200px;max-width: 100%;overflow: auto;}#sk-container-id-6 input.sk-toggleable__control:checked~label.sk-toggleable__label-arrow:before {content: \"▾\";}#sk-container-id-6 div.sk-estimator input.sk-toggleable__control:checked~label.sk-toggleable__label {background-color: #d4ebff;}#sk-container-id-6 div.sk-label input.sk-toggleable__control:checked~label.sk-toggleable__label {background-color: #d4ebff;}#sk-container-id-6 input.sk-hidden--visually {border: 0;clip: rect(1px 1px 1px 1px);clip: rect(1px, 1px, 1px, 1px);height: 1px;margin: -1px;overflow: hidden;padding: 0;position: absolute;width: 1px;}#sk-container-id-6 div.sk-estimator {font-family: monospace;background-color: #f0f8ff;border: 1px dotted black;border-radius: 0.25em;box-sizing: border-box;margin-bottom: 0.5em;}#sk-container-id-6 div.sk-estimator:hover {background-color: #d4ebff;}#sk-container-id-6 div.sk-parallel-item::after {content: \"\";width: 100%;border-bottom: 1px solid gray;flex-grow: 1;}#sk-container-id-6 div.sk-label:hover label.sk-toggleable__label {background-color: #d4ebff;}#sk-container-id-6 div.sk-serial::before {content: \"\";position: absolute;border-left: 1px solid gray;box-sizing: border-box;top: 0;bottom: 0;left: 50%;z-index: 0;}#sk-container-id-6 div.sk-serial {display: flex;flex-direction: column;align-items: center;background-color: white;padding-right: 0.2em;padding-left: 0.2em;position: relative;}#sk-container-id-6 div.sk-item {position: relative;z-index: 1;}#sk-container-id-6 div.sk-parallel {display: flex;align-items: stretch;justify-content: center;background-color: white;position: relative;}#sk-container-id-6 div.sk-item::before, #sk-container-id-6 div.sk-parallel-item::before {content: \"\";position: absolute;border-left: 1px solid gray;box-sizing: border-box;top: 0;bottom: 0;left: 50%;z-index: -1;}#sk-container-id-6 div.sk-parallel-item {display: flex;flex-direction: column;z-index: 1;position: relative;background-color: white;}#sk-container-id-6 div.sk-parallel-item:first-child::after {align-self: flex-end;width: 50%;}#sk-container-id-6 div.sk-parallel-item:last-child::after {align-self: flex-start;width: 50%;}#sk-container-id-6 div.sk-parallel-item:only-child::after {width: 0;}#sk-container-id-6 div.sk-dashed-wrapped {border: 1px dashed gray;margin: 0 0.4em 0.5em 0.4em;box-sizing: border-box;padding-bottom: 0.4em;background-color: white;}#sk-container-id-6 div.sk-label label {font-family: monospace;font-weight: bold;display: inline-block;line-height: 1.2em;}#sk-container-id-6 div.sk-label-container {text-align: center;}#sk-container-id-6 div.sk-container {/* jupyter's `normalize.less` sets `[hidden] { display: none; }` but bootstrap.min.css set `[hidden] { display: none !important; }` so we also need the `!important` here to be able to override the default hidden behavior on the sphinx rendered scikit-learn.org. See: https://github.com/scikit-learn/scikit-learn/issues/21755 */display: inline-block !important;position: relative;}#sk-container-id-6 div.sk-text-repr-fallback {display: none;}</style><div id=\"sk-container-id-6\" class=\"sk-top-container\"><div class=\"sk-text-repr-fallback\"><pre>XGBClassifier(base_score=None, booster=None, callbacks=None,\n",
              "              colsample_bylevel=None, colsample_bynode=None,\n",
              "              colsample_bytree=None, device=None, early_stopping_rounds=None,\n",
              "              enable_categorical=False, eval_metric=None, feature_types=None,\n",
              "              gamma=None, grow_policy=None, importance_type=None,\n",
              "              interaction_constraints=None, learning_rate=0.1, max_bin=None,\n",
              "              max_cat_threshold=None, max_cat_to_onehot=None,\n",
              "              max_delta_step=None, max_depth=3, max_leaves=None,\n",
              "              min_child_weight=None, missing=nan, monotone_constraints=None,\n",
              "              multi_strategy=None, n_estimators=200, n_jobs=None,\n",
              "              num_parallel_tree=None, random_state=42, ...)</pre><b>In a Jupyter environment, please rerun this cell to show the HTML representation or trust the notebook. <br />On GitHub, the HTML representation is unable to render, please try loading this page with nbviewer.org.</b></div><div class=\"sk-container\" hidden><div class=\"sk-item\"><div class=\"sk-estimator sk-toggleable\"><input class=\"sk-toggleable__control sk-hidden--visually\" id=\"sk-estimator-id-6\" type=\"checkbox\" checked><label for=\"sk-estimator-id-6\" class=\"sk-toggleable__label sk-toggleable__label-arrow\">XGBClassifier</label><div class=\"sk-toggleable__content\"><pre>XGBClassifier(base_score=None, booster=None, callbacks=None,\n",
              "              colsample_bylevel=None, colsample_bynode=None,\n",
              "              colsample_bytree=None, device=None, early_stopping_rounds=None,\n",
              "              enable_categorical=False, eval_metric=None, feature_types=None,\n",
              "              gamma=None, grow_policy=None, importance_type=None,\n",
              "              interaction_constraints=None, learning_rate=0.1, max_bin=None,\n",
              "              max_cat_threshold=None, max_cat_to_onehot=None,\n",
              "              max_delta_step=None, max_depth=3, max_leaves=None,\n",
              "              min_child_weight=None, missing=nan, monotone_constraints=None,\n",
              "              multi_strategy=None, n_estimators=200, n_jobs=None,\n",
              "              num_parallel_tree=None, random_state=42, ...)</pre></div></div></div></div></div>"
            ]
          },
          "metadata": {},
          "execution_count": 30
        }
      ],
      "source": [
        "xgboost = XGBClassifier(max_depth=3, n_estimators=200, learning_rate=0.1, random_state=42)\n",
        "xgboost.fit(X_train_selected, y_train)"
      ]
    },
    {
      "cell_type": "code",
      "execution_count": 31,
      "metadata": {
        "colab": {
          "base_uri": "https://localhost:8080/",
          "height": 75
        },
        "id": "Ql7P36heNLFl",
        "outputId": "7b83c86e-4da3-4aae-c269-645dea8a5d6c"
      },
      "outputs": [
        {
          "output_type": "execute_result",
          "data": {
            "text/plain": [
              "KNeighborsClassifier()"
            ],
            "text/html": [
              "<style>#sk-container-id-7 {color: black;background-color: white;}#sk-container-id-7 pre{padding: 0;}#sk-container-id-7 div.sk-toggleable {background-color: white;}#sk-container-id-7 label.sk-toggleable__label {cursor: pointer;display: block;width: 100%;margin-bottom: 0;padding: 0.3em;box-sizing: border-box;text-align: center;}#sk-container-id-7 label.sk-toggleable__label-arrow:before {content: \"▸\";float: left;margin-right: 0.25em;color: #696969;}#sk-container-id-7 label.sk-toggleable__label-arrow:hover:before {color: black;}#sk-container-id-7 div.sk-estimator:hover label.sk-toggleable__label-arrow:before {color: black;}#sk-container-id-7 div.sk-toggleable__content {max-height: 0;max-width: 0;overflow: hidden;text-align: left;background-color: #f0f8ff;}#sk-container-id-7 div.sk-toggleable__content pre {margin: 0.2em;color: black;border-radius: 0.25em;background-color: #f0f8ff;}#sk-container-id-7 input.sk-toggleable__control:checked~div.sk-toggleable__content {max-height: 200px;max-width: 100%;overflow: auto;}#sk-container-id-7 input.sk-toggleable__control:checked~label.sk-toggleable__label-arrow:before {content: \"▾\";}#sk-container-id-7 div.sk-estimator input.sk-toggleable__control:checked~label.sk-toggleable__label {background-color: #d4ebff;}#sk-container-id-7 div.sk-label input.sk-toggleable__control:checked~label.sk-toggleable__label {background-color: #d4ebff;}#sk-container-id-7 input.sk-hidden--visually {border: 0;clip: rect(1px 1px 1px 1px);clip: rect(1px, 1px, 1px, 1px);height: 1px;margin: -1px;overflow: hidden;padding: 0;position: absolute;width: 1px;}#sk-container-id-7 div.sk-estimator {font-family: monospace;background-color: #f0f8ff;border: 1px dotted black;border-radius: 0.25em;box-sizing: border-box;margin-bottom: 0.5em;}#sk-container-id-7 div.sk-estimator:hover {background-color: #d4ebff;}#sk-container-id-7 div.sk-parallel-item::after {content: \"\";width: 100%;border-bottom: 1px solid gray;flex-grow: 1;}#sk-container-id-7 div.sk-label:hover label.sk-toggleable__label {background-color: #d4ebff;}#sk-container-id-7 div.sk-serial::before {content: \"\";position: absolute;border-left: 1px solid gray;box-sizing: border-box;top: 0;bottom: 0;left: 50%;z-index: 0;}#sk-container-id-7 div.sk-serial {display: flex;flex-direction: column;align-items: center;background-color: white;padding-right: 0.2em;padding-left: 0.2em;position: relative;}#sk-container-id-7 div.sk-item {position: relative;z-index: 1;}#sk-container-id-7 div.sk-parallel {display: flex;align-items: stretch;justify-content: center;background-color: white;position: relative;}#sk-container-id-7 div.sk-item::before, #sk-container-id-7 div.sk-parallel-item::before {content: \"\";position: absolute;border-left: 1px solid gray;box-sizing: border-box;top: 0;bottom: 0;left: 50%;z-index: -1;}#sk-container-id-7 div.sk-parallel-item {display: flex;flex-direction: column;z-index: 1;position: relative;background-color: white;}#sk-container-id-7 div.sk-parallel-item:first-child::after {align-self: flex-end;width: 50%;}#sk-container-id-7 div.sk-parallel-item:last-child::after {align-self: flex-start;width: 50%;}#sk-container-id-7 div.sk-parallel-item:only-child::after {width: 0;}#sk-container-id-7 div.sk-dashed-wrapped {border: 1px dashed gray;margin: 0 0.4em 0.5em 0.4em;box-sizing: border-box;padding-bottom: 0.4em;background-color: white;}#sk-container-id-7 div.sk-label label {font-family: monospace;font-weight: bold;display: inline-block;line-height: 1.2em;}#sk-container-id-7 div.sk-label-container {text-align: center;}#sk-container-id-7 div.sk-container {/* jupyter's `normalize.less` sets `[hidden] { display: none; }` but bootstrap.min.css set `[hidden] { display: none !important; }` so we also need the `!important` here to be able to override the default hidden behavior on the sphinx rendered scikit-learn.org. See: https://github.com/scikit-learn/scikit-learn/issues/21755 */display: inline-block !important;position: relative;}#sk-container-id-7 div.sk-text-repr-fallback {display: none;}</style><div id=\"sk-container-id-7\" class=\"sk-top-container\"><div class=\"sk-text-repr-fallback\"><pre>KNeighborsClassifier()</pre><b>In a Jupyter environment, please rerun this cell to show the HTML representation or trust the notebook. <br />On GitHub, the HTML representation is unable to render, please try loading this page with nbviewer.org.</b></div><div class=\"sk-container\" hidden><div class=\"sk-item\"><div class=\"sk-estimator sk-toggleable\"><input class=\"sk-toggleable__control sk-hidden--visually\" id=\"sk-estimator-id-7\" type=\"checkbox\" checked><label for=\"sk-estimator-id-7\" class=\"sk-toggleable__label sk-toggleable__label-arrow\">KNeighborsClassifier</label><div class=\"sk-toggleable__content\"><pre>KNeighborsClassifier()</pre></div></div></div></div></div>"
            ]
          },
          "metadata": {},
          "execution_count": 31
        }
      ],
      "source": [
        "knn = KNeighborsClassifier(n_neighbors=5, weights='uniform')\n",
        "knn.fit(X_train_selected, y_train)"
      ]
    },
    {
      "cell_type": "code",
      "source": [
        "lgbm_classifier = LGBMClassifier(max_depth= -1, n_estimators=200, learning_rate=0.01, subsample = 0.8, colsample_bytree = 0.8 )\n",
        "lgbm_classifier.fit(X_train_selected, y_train)\n"
      ],
      "metadata": {
        "colab": {
          "base_uri": "https://localhost:8080/",
          "height": 235
        },
        "id": "EPV_W0I8FHGr",
        "outputId": "64f502eb-ca88-43fe-f81e-0f6651dd84e9"
      },
      "execution_count": 27,
      "outputs": [
        {
          "output_type": "stream",
          "name": "stdout",
          "text": [
            "[LightGBM] [Info] Number of positive: 3406, number of negative: 2361\n",
            "[LightGBM] [Info] Auto-choosing col-wise multi-threading, the overhead of testing was 0.000325 seconds.\n",
            "You can set `force_col_wise=true` to remove the overhead.\n",
            "[LightGBM] [Info] Total Bins 230\n",
            "[LightGBM] [Info] Number of data points in the train set: 5767, number of used features: 4\n",
            "[LightGBM] [Info] [binary:BoostFromScore]: pavg=0.590602 -> initscore=0.366453\n",
            "[LightGBM] [Info] Start training from score 0.366453\n",
            "[LightGBM] [Warning] No further splits with positive gain, best gain: -inf\n"
          ]
        },
        {
          "output_type": "execute_result",
          "data": {
            "text/plain": [
              "LGBMClassifier(colsample_bytree=0.8, learning_rate=0.01, n_estimators=200,\n",
              "               subsample=0.8)"
            ],
            "text/html": [
              "<style>#sk-container-id-4 {color: black;background-color: white;}#sk-container-id-4 pre{padding: 0;}#sk-container-id-4 div.sk-toggleable {background-color: white;}#sk-container-id-4 label.sk-toggleable__label {cursor: pointer;display: block;width: 100%;margin-bottom: 0;padding: 0.3em;box-sizing: border-box;text-align: center;}#sk-container-id-4 label.sk-toggleable__label-arrow:before {content: \"▸\";float: left;margin-right: 0.25em;color: #696969;}#sk-container-id-4 label.sk-toggleable__label-arrow:hover:before {color: black;}#sk-container-id-4 div.sk-estimator:hover label.sk-toggleable__label-arrow:before {color: black;}#sk-container-id-4 div.sk-toggleable__content {max-height: 0;max-width: 0;overflow: hidden;text-align: left;background-color: #f0f8ff;}#sk-container-id-4 div.sk-toggleable__content pre {margin: 0.2em;color: black;border-radius: 0.25em;background-color: #f0f8ff;}#sk-container-id-4 input.sk-toggleable__control:checked~div.sk-toggleable__content {max-height: 200px;max-width: 100%;overflow: auto;}#sk-container-id-4 input.sk-toggleable__control:checked~label.sk-toggleable__label-arrow:before {content: \"▾\";}#sk-container-id-4 div.sk-estimator input.sk-toggleable__control:checked~label.sk-toggleable__label {background-color: #d4ebff;}#sk-container-id-4 div.sk-label input.sk-toggleable__control:checked~label.sk-toggleable__label {background-color: #d4ebff;}#sk-container-id-4 input.sk-hidden--visually {border: 0;clip: rect(1px 1px 1px 1px);clip: rect(1px, 1px, 1px, 1px);height: 1px;margin: -1px;overflow: hidden;padding: 0;position: absolute;width: 1px;}#sk-container-id-4 div.sk-estimator {font-family: monospace;background-color: #f0f8ff;border: 1px dotted black;border-radius: 0.25em;box-sizing: border-box;margin-bottom: 0.5em;}#sk-container-id-4 div.sk-estimator:hover {background-color: #d4ebff;}#sk-container-id-4 div.sk-parallel-item::after {content: \"\";width: 100%;border-bottom: 1px solid gray;flex-grow: 1;}#sk-container-id-4 div.sk-label:hover label.sk-toggleable__label {background-color: #d4ebff;}#sk-container-id-4 div.sk-serial::before {content: \"\";position: absolute;border-left: 1px solid gray;box-sizing: border-box;top: 0;bottom: 0;left: 50%;z-index: 0;}#sk-container-id-4 div.sk-serial {display: flex;flex-direction: column;align-items: center;background-color: white;padding-right: 0.2em;padding-left: 0.2em;position: relative;}#sk-container-id-4 div.sk-item {position: relative;z-index: 1;}#sk-container-id-4 div.sk-parallel {display: flex;align-items: stretch;justify-content: center;background-color: white;position: relative;}#sk-container-id-4 div.sk-item::before, #sk-container-id-4 div.sk-parallel-item::before {content: \"\";position: absolute;border-left: 1px solid gray;box-sizing: border-box;top: 0;bottom: 0;left: 50%;z-index: -1;}#sk-container-id-4 div.sk-parallel-item {display: flex;flex-direction: column;z-index: 1;position: relative;background-color: white;}#sk-container-id-4 div.sk-parallel-item:first-child::after {align-self: flex-end;width: 50%;}#sk-container-id-4 div.sk-parallel-item:last-child::after {align-self: flex-start;width: 50%;}#sk-container-id-4 div.sk-parallel-item:only-child::after {width: 0;}#sk-container-id-4 div.sk-dashed-wrapped {border: 1px dashed gray;margin: 0 0.4em 0.5em 0.4em;box-sizing: border-box;padding-bottom: 0.4em;background-color: white;}#sk-container-id-4 div.sk-label label {font-family: monospace;font-weight: bold;display: inline-block;line-height: 1.2em;}#sk-container-id-4 div.sk-label-container {text-align: center;}#sk-container-id-4 div.sk-container {/* jupyter's `normalize.less` sets `[hidden] { display: none; }` but bootstrap.min.css set `[hidden] { display: none !important; }` so we also need the `!important` here to be able to override the default hidden behavior on the sphinx rendered scikit-learn.org. See: https://github.com/scikit-learn/scikit-learn/issues/21755 */display: inline-block !important;position: relative;}#sk-container-id-4 div.sk-text-repr-fallback {display: none;}</style><div id=\"sk-container-id-4\" class=\"sk-top-container\"><div class=\"sk-text-repr-fallback\"><pre>LGBMClassifier(colsample_bytree=0.8, learning_rate=0.01, n_estimators=200,\n",
              "               subsample=0.8)</pre><b>In a Jupyter environment, please rerun this cell to show the HTML representation or trust the notebook. <br />On GitHub, the HTML representation is unable to render, please try loading this page with nbviewer.org.</b></div><div class=\"sk-container\" hidden><div class=\"sk-item\"><div class=\"sk-estimator sk-toggleable\"><input class=\"sk-toggleable__control sk-hidden--visually\" id=\"sk-estimator-id-4\" type=\"checkbox\" checked><label for=\"sk-estimator-id-4\" class=\"sk-toggleable__label sk-toggleable__label-arrow\">LGBMClassifier</label><div class=\"sk-toggleable__content\"><pre>LGBMClassifier(colsample_bytree=0.8, learning_rate=0.01, n_estimators=200,\n",
              "               subsample=0.8)</pre></div></div></div></div></div>"
            ]
          },
          "metadata": {},
          "execution_count": 27
        }
      ]
    },
    {
      "cell_type": "code",
      "source": [
        "# 4. Generate predictions\n",
        "X_test_ml, X_test_dl = X_test.reshape(X_test.shape[0], -1), X_test\n",
        "\n",
        "xgboost_predictions_train = xgboost.predict(X_train_selected).reshape(-1, 1)\n",
        "dt_predictions_train = decision_tree.predict(X_train_selected).reshape(-1, 1)\n",
        "knn_predictions_train = knn.predict(X_train_selected).reshape(-1, 1)\n",
        "lgbm_predictions_train = lgbm_classifier.predict(X_train_selected).reshape(-1, 1)\n",
        "\n",
        "\n",
        "xgboost_predictions_test = xgboost.predict(X_test_selected).reshape(-1, 1)\n",
        "dt_predictions_test = decision_tree.predict(X_test_selected).reshape(-1, 1)\n",
        "knn_predictions_test = knn.predict(X_test_selected).reshape(-1, 1)\n",
        "lgbm_predictions_test = lgbm_classifier.predict(X_test_selected).reshape(-1, 1)\n",
        "\n"
      ],
      "metadata": {
        "id": "BO5Sf9cfG4KL"
      },
      "execution_count": 32,
      "outputs": []
    },
    {
      "cell_type": "code",
      "source": [
        "# xgboost\n",
        "ensemble_accuracy = accuracy_score(y_test, xgboost_predictions_test)\n",
        "precision         = precision_score(y_test, xgboost_predictions_test)\n",
        "recall            = recall_score(y_test, xgboost_predictions_test)\n",
        "f1                = f1_score(y_test, xgboost_predictions_test)\n",
        "\n",
        "print(f'xgboost accuracy : {ensemble_accuracy}')\n",
        "print(f'xgboost precision : {precision}')\n",
        "print(f'xgboost recall : {recall}')\n",
        "print(f'xgboost f1 : {f1}')\n",
        "\n",
        "\n",
        "# dt\n",
        "ensemble_accuracy = accuracy_score(y_test, dt_predictions_test)\n",
        "precision         = precision_score(y_test, dt_predictions_test)\n",
        "recall            = recall_score(y_test, dt_predictions_test)\n",
        "f1                = f1_score(y_test, dt_predictions_test)\n",
        "\n",
        "print(f'dt accuracy : {ensemble_accuracy}')\n",
        "print(f'dt precision : {precision}')\n",
        "print(f'dt recall : {recall}')\n",
        "print(f'dt f1 : {f1}')\n",
        "\n",
        "\n",
        "# KNN\n",
        "ensemble_accuracy = accuracy_score(y_test, knn_predictions_test)\n",
        "precision         = precision_score(y_test, knn_predictions_test)\n",
        "recall            = recall_score(y_test, knn_predictions_test)\n",
        "f1                = f1_score(y_test, knn_predictions_test)\n",
        "\n",
        "\n",
        "print(f'KNN accuracy : {ensemble_accuracy}')\n",
        "print(f'KNN precision : {precision}')\n",
        "print(f'KNN recall : {recall}')\n",
        "print(f'KNN f1 : {f1}')\n",
        "\n",
        "\n",
        "# lgbm\n",
        "ensemble_accuracy = accuracy_score(y_test, lgbm_predictions_test)\n",
        "precision         = precision_score(y_test, lgbm_predictions_test)\n",
        "recall            = recall_score(y_test, lgbm_predictions_test)\n",
        "f1                = f1_score(y_test, lgbm_predictions_test)\n",
        "\n",
        "print(f'lgbm accuracy : {ensemble_accuracy}')\n",
        "print(f'lgbm precision : {precision}')\n",
        "print(f'lgbm recall : {recall}')\n",
        "print(f'lgbm f1 : {f1}')\n",
        "\n"
      ],
      "metadata": {
        "colab": {
          "base_uri": "https://localhost:8080/"
        },
        "id": "K5-f21BxGRTE",
        "outputId": "4fe3b56c-710a-41f2-a885-ee1ddc738dd0"
      },
      "execution_count": 33,
      "outputs": [
        {
          "output_type": "stream",
          "name": "stdout",
          "text": [
            "xgboost accuracy : 0.6789587852494577\n",
            "xgboost precision : 0.8134328358208955\n",
            "xgboost recall : 0.689873417721519\n",
            "xgboost f1 : 0.7465753424657535\n",
            "dt accuracy : 0.6789587852494577\n",
            "dt precision : 0.8103448275862069\n",
            "dt recall : 0.6940928270042194\n",
            "dt f1 : 0.7477272727272727\n",
            "KNN accuracy : 0.779464931308749\n",
            "KNN precision : 0.8445873526259379\n",
            "KNN recall : 0.8312236286919831\n",
            "KNN f1 : 0.837852206273259\n",
            "lgbm accuracy : 0.6767895878524945\n",
            "lgbm precision : 0.8096415327564895\n",
            "lgbm recall : 0.6909282700421941\n",
            "lgbm f1 : 0.7455890722822995\n"
          ]
        }
      ]
    },
    {
      "cell_type": "code",
      "source": [
        "from sklearn.ensemble import RandomForestClassifier\n",
        "from sklearn.linear_model import LogisticRegression\n",
        "import xgboost as xgb\n",
        "\n",
        "\n",
        "\n",
        "\n",
        "#making a new dataset for training our final model by stacking the predictions on the validation data\n",
        "train_stack = np.column_stack((xgboost_predictions_train,\n",
        "                               dt_predictions_train,\n",
        "                               knn_predictions_train,\n",
        "                               lgbm_predictions_train))\n",
        "\n",
        "#making the final test set for our final model by stacking the predictions on the test data\n",
        "test_stack = np.column_stack((xgboost_predictions_test,\n",
        "                               dt_predictions_test,\n",
        "                               knn_predictions_test,\n",
        "                               lgbm_predictions_test))\n",
        "\n",
        "\n",
        "final_model = RandomForestClassifier(n_estimators= 200)\n",
        "\n",
        "#training the final model on the stacked predictions\n",
        "final_model.fit(train_stack, y_train)\n",
        "\n",
        "final_predictions = final_model.predict(test_stack)\n",
        "\n",
        "# Compute accuracy using the binary class labels\n",
        "ensemble_accuracy_dt = accuracy_score(y_test, final_predictions)\n",
        "precision_dt = precision_score(y_test, final_predictions)\n",
        "recall_dt = recall_score(y_test, final_predictions)\n",
        "f1_dt = f1_score(y_test, final_predictions)\n",
        "\n",
        "print(f'Ensemble accuracy : {ensemble_accuracy_dt}')\n",
        "print(f'Ensemble precision : {precision_dt}')\n",
        "print(f'Ensemble recall : {recall_dt}')\n",
        "print(f'Ensemble f1 : {f1_dt}')"
      ],
      "metadata": {
        "colab": {
          "base_uri": "https://localhost:8080/"
        },
        "id": "ORmLqwbvHyFP",
        "outputId": "4acda6c0-c019-459e-dabd-2c9a771e33f2"
      },
      "execution_count": 34,
      "outputs": [
        {
          "output_type": "stream",
          "name": "stdout",
          "text": [
            "Ensemble accuracy : 0.6789587852494577\n",
            "Ensemble precision : 0.8134328358208955\n",
            "Ensemble recall : 0.689873417721519\n",
            "Ensemble f1 : 0.7465753424657535\n"
          ]
        }
      ]
    },
    {
      "cell_type": "code",
      "source": [],
      "metadata": {
        "id": "d_2YFj2DHsv9"
      },
      "execution_count": null,
      "outputs": []
    },
    {
      "cell_type": "markdown",
      "source": [
        "# Mixed data"
      ],
      "metadata": {
        "id": "BPyo1jZpFBBo"
      }
    },
    {
      "cell_type": "code",
      "execution_count": 35,
      "metadata": {
        "colab": {
          "base_uri": "https://localhost:8080/"
        },
        "id": "u6b-qBtYKRJa",
        "outputId": "b6a10101-7ea2-4e11-c323-b01fd0eb1918"
      },
      "outputs": [
        {
          "output_type": "stream",
          "name": "stdout",
          "text": [
            "group=[ 0  2  3  5  6  7 10 11 12 13 15 16 18 20 22 23 25 27 28 30 31 34 36 38\n",
            " 39 40 41 42 43 44 46 47]\n",
            "group=[ 1  4  8 19 29 37 45]\n"
          ]
        }
      ],
      "source": [
        "# DL\n",
        "X_train_dl, X_val_dl, y_train_dl, y_val_dl, _ = two_splits(X_train, y_train, train_groups)"
      ]
    },
    {
      "cell_type": "code",
      "execution_count": 36,
      "metadata": {
        "colab": {
          "base_uri": "https://localhost:8080/"
        },
        "id": "8j89fHGoKRJa",
        "outputId": "f8b207d5-93bf-4a6a-fde0-8c27d7c0eed2"
      },
      "outputs": [
        {
          "output_type": "execute_result",
          "data": {
            "text/plain": [
              "((4728, 1250, 33), (4728,), (1039, 1250, 33), (1039,))"
            ]
          },
          "metadata": {},
          "execution_count": 36
        }
      ],
      "source": [
        "X_train_dl.shape, y_train_dl.shape, X_val_dl.shape, y_val_dl.shape"
      ]
    },
    {
      "cell_type": "code",
      "execution_count": 37,
      "metadata": {
        "id": "REznsOAgKRJb"
      },
      "outputs": [],
      "source": [
        "def block(input):\n",
        "    conv1 = Conv1D(32, 2, strides=2, activation='relu', padding=\"same\")(input)\n",
        "    conv2 = Conv1D(32, 4, strides=2, activation='relu', padding=\"causal\")(input)\n",
        "    conv3 = Conv1D(32, 8, strides=2, activation='relu', padding=\"causal\")(input)\n",
        "    x = concatenate([conv1, conv2, conv3], axis=2)\n",
        "    return x"
      ]
    },
    {
      "cell_type": "code",
      "execution_count": 40,
      "metadata": {
        "colab": {
          "base_uri": "https://localhost:8080/"
        },
        "id": "r8--VKwUKRJb",
        "outputId": "c88f79bf-4f34-42a2-d032-abfd78723876"
      },
      "outputs": [
        {
          "output_type": "stream",
          "name": "stdout",
          "text": [
            "Epoch 1/20\n",
            "36/36 [==============================] - 14s 137ms/step - loss: 0.6947 - accuracy: 0.5664 - val_loss: 0.6985 - val_accuracy: 0.5525\n",
            "Epoch 2/20\n",
            "36/36 [==============================] - 1s 39ms/step - loss: 0.6667 - accuracy: 0.6003 - val_loss: 0.7003 - val_accuracy: 0.5602\n",
            "Epoch 3/20\n",
            "36/36 [==============================] - 1s 40ms/step - loss: 0.6474 - accuracy: 0.6231 - val_loss: 0.6977 - val_accuracy: 0.5544\n",
            "Epoch 4/20\n",
            "36/36 [==============================] - 1s 39ms/step - loss: 0.6264 - accuracy: 0.6508 - val_loss: 0.6987 - val_accuracy: 0.5303\n",
            "Epoch 5/20\n",
            "36/36 [==============================] - 1s 40ms/step - loss: 0.6026 - accuracy: 0.6838 - val_loss: 0.6948 - val_accuracy: 0.5428\n",
            "Epoch 6/20\n",
            "36/36 [==============================] - 1s 40ms/step - loss: 0.5750 - accuracy: 0.7073 - val_loss: 0.6890 - val_accuracy: 0.5582\n",
            "Epoch 7/20\n",
            "36/36 [==============================] - 1s 40ms/step - loss: 0.5300 - accuracy: 0.7843 - val_loss: 0.6898 - val_accuracy: 0.5852\n",
            "Epoch 8/20\n",
            "36/36 [==============================] - 1s 40ms/step - loss: 0.4729 - accuracy: 0.8242 - val_loss: 0.6608 - val_accuracy: 0.5881\n",
            "Epoch 9/20\n",
            "36/36 [==============================] - 1s 39ms/step - loss: 0.4040 - accuracy: 0.8591 - val_loss: 0.6290 - val_accuracy: 0.6266\n",
            "Epoch 10/20\n",
            "36/36 [==============================] - 1s 39ms/step - loss: 0.3472 - accuracy: 0.8697 - val_loss: 0.6307 - val_accuracy: 0.6497\n",
            "Epoch 11/20\n",
            "36/36 [==============================] - 1s 41ms/step - loss: 0.3020 - accuracy: 0.8890 - val_loss: 0.5662 - val_accuracy: 0.7074\n",
            "Epoch 12/20\n",
            "36/36 [==============================] - 1s 40ms/step - loss: 0.2569 - accuracy: 0.9110 - val_loss: 0.5564 - val_accuracy: 0.7238\n",
            "Epoch 13/20\n",
            "36/36 [==============================] - 1s 40ms/step - loss: 0.2281 - accuracy: 0.9160 - val_loss: 0.5460 - val_accuracy: 0.6959\n",
            "Epoch 14/20\n",
            "36/36 [==============================] - 1s 39ms/step - loss: 0.1849 - accuracy: 0.9444 - val_loss: 0.5314 - val_accuracy: 0.7055\n",
            "Epoch 15/20\n",
            "36/36 [==============================] - 1s 40ms/step - loss: 0.1562 - accuracy: 0.9575 - val_loss: 0.6134 - val_accuracy: 0.6747\n",
            "Epoch 16/20\n",
            "36/36 [==============================] - 1s 40ms/step - loss: 0.1322 - accuracy: 0.9653 - val_loss: 0.5284 - val_accuracy: 0.7093\n",
            "Epoch 17/20\n",
            "36/36 [==============================] - 1s 40ms/step - loss: 0.1052 - accuracy: 0.9769 - val_loss: 0.5280 - val_accuracy: 0.7218\n",
            "Epoch 18/20\n",
            "36/36 [==============================] - 1s 39ms/step - loss: 0.0959 - accuracy: 0.9780 - val_loss: 0.5379 - val_accuracy: 0.7228\n",
            "Epoch 19/20\n",
            "36/36 [==============================] - 1s 40ms/step - loss: 0.0740 - accuracy: 0.9869 - val_loss: 0.5552 - val_accuracy: 0.7084\n",
            "Epoch 20/20\n",
            "36/36 [==============================] - 1s 39ms/step - loss: 0.0621 - accuracy: 0.9913 - val_loss: 0.5679 - val_accuracy: 0.7122\n"
          ]
        }
      ],
      "source": [
        "# 3. Train DL models\n",
        "\n",
        "# Define the input layer with a shape of (1250, 33)\n",
        "input_layer = Input(shape=(1250,33))\n",
        "\n",
        "# Create the first block\n",
        "block1 = block(input_layer)\n",
        "\n",
        "# Create the second block using the 'block' function with the output of the first block as input\n",
        "block2 = block(block1)\n",
        "\n",
        "# Create the third block using the 'block' function with the output of the second block as input\n",
        "block3 = block(block2)\n",
        "\n",
        "cnn_out1 = Conv1D(32, 3, activation='tanh', padding='same')(block3)\n",
        "cnn_out2 = Conv1D(32, 3, activation='tanh', padding='same')(cnn_out1)\n",
        "cnn_out3 = MaxPooling1D(pool_size=2)(cnn_out2)\n",
        "cnn_out4 = Flatten()(cnn_out3)\n",
        "\n",
        "# Create a Dense layer with 1 unit and sigmoid activation for binary classification\n",
        "predictions = Dense(1, activation='sigmoid')(cnn_out4)\n",
        "\n",
        "# Define the model with 'input_layer' as the input and 'predictions' as the output\n",
        "CNN = Model(inputs=input_layer, outputs=predictions)\n",
        "\n",
        "# Specify the Adam optimizer with a learning rate of 0.0001\n",
        "optimizer = Adam(learning_rate=0.0001)\n",
        "\n",
        "# Compile the model with binary crossentropy loss and accuracy as the evaluation metric\n",
        "CNN.compile(optimizer=optimizer, loss='binary_crossentropy', metrics=['accuracy'])\n",
        "\n",
        "# Define early stopping callback\n",
        "early_stopping = EarlyStopping(monitor='val_loss', patience=5, restore_best_weights=True)\n",
        "\n",
        "# Train the model using training features and labels\n",
        "hist = CNN.fit(X_train_dl, y_train_dl, epochs=20, batch_size=132, validation_data= (X_val_dl, y_val_dl), callbacks=[early_stopping])\n"
      ]
    },
    {
      "cell_type": "code",
      "execution_count": 42,
      "metadata": {
        "id": "9gGQJHnCKRJb",
        "colab": {
          "base_uri": "https://localhost:8080/"
        },
        "outputId": "04bcc3cf-613b-4312-82db-48edb20ccb17"
      },
      "outputs": [
        {
          "output_type": "stream",
          "name": "stdout",
          "text": [
            "Epoch 1/100\n",
            "36/36 [==============================] - 12s 104ms/step - loss: 0.6747 - accuracy: 0.5895 - val_loss: 0.6770 - val_accuracy: 0.5756\n",
            "Epoch 2/100\n",
            "36/36 [==============================] - 2s 57ms/step - loss: 0.5565 - accuracy: 0.7035 - val_loss: 0.6582 - val_accuracy: 0.6121\n",
            "Epoch 3/100\n",
            "36/36 [==============================] - 2s 57ms/step - loss: 0.3793 - accuracy: 0.8238 - val_loss: 0.5921 - val_accuracy: 0.6795\n",
            "Epoch 4/100\n",
            "36/36 [==============================] - 2s 57ms/step - loss: 0.2392 - accuracy: 0.9031 - val_loss: 0.5106 - val_accuracy: 0.7584\n",
            "Epoch 5/100\n",
            "36/36 [==============================] - 2s 57ms/step - loss: 0.0968 - accuracy: 0.9676 - val_loss: 0.6600 - val_accuracy: 0.7709\n",
            "Epoch 6/100\n",
            "36/36 [==============================] - 2s 57ms/step - loss: 0.1806 - accuracy: 0.9321 - val_loss: 0.5959 - val_accuracy: 0.7719\n",
            "Epoch 7/100\n",
            "36/36 [==============================] - 2s 57ms/step - loss: 0.0295 - accuracy: 0.9926 - val_loss: 0.6731 - val_accuracy: 0.7729\n",
            "Epoch 8/100\n",
            "36/36 [==============================] - 2s 58ms/step - loss: 0.0112 - accuracy: 0.9977 - val_loss: 0.8445 - val_accuracy: 0.7883\n",
            "Epoch 9/100\n",
            "36/36 [==============================] - 2s 59ms/step - loss: 0.0108 - accuracy: 0.9975 - val_loss: 0.8098 - val_accuracy: 0.7863\n"
          ]
        }
      ],
      "source": [
        "# Define the input layer with a shape of (1250, 33)\n",
        "input = Input(shape=(1250, 33))\n",
        "\n",
        "# Create the first block\n",
        "block1 = block(input)\n",
        "\n",
        "# Create the second block using the 'block' function with the output of the first block as input\n",
        "block2 = block(block1)\n",
        "\n",
        "# Create the third block using the 'block' function with the output of the second block as input\n",
        "block3 = block(block2)\n",
        "\n",
        "\n",
        "gru_out1 = GRU(32,activation='tanh',return_sequences=True)(block3)\n",
        "gru_out2 = GRU(32,activation='tanh',return_sequences=True)(gru_out1)\n",
        "gru_out = concatenate([gru_out1,gru_out2],axis=2)\n",
        "gru_out3 = GRU(32,activation='tanh',return_sequences=True)(gru_out)\n",
        "gru_out = concatenate([gru_out1,gru_out2,gru_out3])\n",
        "gru_out4 = GRU(32,activation='tanh')(gru_out)\n",
        "\n",
        "\n",
        "# Create a Dense layer with 1 unit and sigmoid activation for binary classification\n",
        "predictions = Dense(1, activation='sigmoid')(gru_out4)\n",
        "\n",
        "# Define the model with 'input' as the input and 'predictions' as the output\n",
        "CNN_GRU = Model(inputs=input, outputs=predictions)\n",
        "\n",
        "# Specify the Adam optimizer with a learning rate of 0.0001\n",
        "optimizer = Adam(learning_rate=0.001)\n",
        "\n",
        "# Compile the model with binary crossentropy loss and accuracy as the evaluation metric\n",
        "CNN_GRU.compile(optimizer=optimizer, loss='binary_crossentropy', metrics=['accuracy'])\n",
        "\n",
        "\n",
        "# Define early stopping callback\n",
        "early_stopping = EarlyStopping(monitor='val_loss', patience=5, restore_best_weights=True)\n",
        "\n",
        "# Train the model using training features and labels\n",
        "hist = CNN_GRU.fit(X_train_dl, y_train_dl, epochs=100, batch_size=128,\n",
        "                   validation_data= (X_val_dl, y_val_dl), callbacks=early_stopping)\n"
      ]
    },
    {
      "cell_type": "code",
      "execution_count": 53,
      "metadata": {
        "id": "TIs7cyH_Cyz7",
        "colab": {
          "base_uri": "https://localhost:8080/"
        },
        "outputId": "baa36bdb-461a-480c-8b83-24029cd027d1"
      },
      "outputs": [
        {
          "output_type": "stream",
          "name": "stdout",
          "text": [
            "181/181 [==============================] - 1s 5ms/step\n",
            "181/181 [==============================] - 2s 12ms/step\n",
            "44/44 [==============================] - 0s 4ms/step\n",
            "44/44 [==============================] - 1s 12ms/step\n"
          ]
        },
        {
          "output_type": "execute_result",
          "data": {
            "text/plain": [
              "((1383, 1), (1383, 1), (1383, 1))"
            ]
          },
          "metadata": {},
          "execution_count": 53
        }
      ],
      "source": [
        "# 4. Generate predictions\n",
        "X_test_ml, X_test_dl = X_test.reshape(X_test.shape[0], -1), X_test\n",
        "\n",
        "\n",
        "knn_predictions_train = knn.predict(X_train_selected).reshape(-1, 1)\n",
        "CNN_predictions_train = CNN.predict(X_train).reshape(-1, 1)\n",
        "CNN_GRU_predictions_train = CNN_GRU.predict(X_train).reshape(-1, 1)\n",
        "\n",
        "knn_predictions_test = knn.predict(X_test_selected).reshape(-1, 1)\n",
        "CNN_predictions_test = CNN.predict(X_test_dl).reshape(-1, 1)\n",
        "CNN_GRU_predictions_test = CNN_GRU.predict(X_test_dl).reshape(-1, 1)\n",
        "\n",
        "\n",
        "knn_predictions_test.shape, CNN_predictions_test.shape, CNN_GRU_predictions_test.shape"
      ]
    },
    {
      "cell_type": "code",
      "source": [
        "# KNN\n",
        "ensemble_accuracy = accuracy_score(y_test, knn_predictions_test)\n",
        "precision         = precision_score(y_test, knn_predictions_test)\n",
        "recall            = recall_score(y_test, knn_predictions_test)\n",
        "f1                = f1_score(y_test, knn_predictions_test)\n",
        "\n",
        "\n",
        "print(f'KNN accuracy : {ensemble_accuracy}')\n",
        "print(f'KNN precision : {precision}')\n",
        "print(f'KNN recall : {recall}')\n",
        "print(f'KNN f1 : {f1}')\n",
        "\n",
        "\n",
        "\n",
        "# CNN\n",
        "threshhold = 0.5\n",
        "CNN_predictions_test = np.where(CNN_predictions_test > threshhold, 1, 0)\n",
        "ensemble_accuracy = accuracy_score(y_test, CNN_predictions_test)\n",
        "precision         = precision_score(y_test, CNN_predictions_test)\n",
        "recall            = recall_score(y_test, CNN_predictions_test)\n",
        "f1                = f1_score(y_test, CNN_predictions_test)\n",
        "\n",
        "print(f'CNN accuracy : {ensemble_accuracy}')\n",
        "print(f'CNN precision : {precision}')\n",
        "print(f'CNN recall : {recall}')\n",
        "print(f'CNN f1 : {f1}')\n",
        "\n",
        "\n",
        "# CNN-GRU\n",
        "threshhold = 0.5\n",
        "CNN_GRU_predictions_test = np.where(CNN_GRU_predictions_test > threshhold, 1, 0)\n",
        "ensemble_accuracy = accuracy_score(y_test, CNN_predictions_test)\n",
        "precision         = precision_score(y_test, CNN_predictions_test)\n",
        "recall            = recall_score(y_test, CNN_predictions_test)\n",
        "f1                = f1_score(y_test, CNN_predictions_test)\n",
        "\n",
        "print(f'CNN-GRU accuracy : {ensemble_accuracy}')\n",
        "print(f'CNN-GRU precision : {precision}')\n",
        "print(f'CNN-GRU recall : {recall}')\n",
        "print(f'CNN-GRU f1 : {f1}')\n",
        "\n"
      ],
      "metadata": {
        "id": "bve0cpVgCy0N",
        "colab": {
          "base_uri": "https://localhost:8080/"
        },
        "outputId": "1eba584a-63f2-43dd-eddb-4117afd7c83f"
      },
      "execution_count": 54,
      "outputs": [
        {
          "output_type": "stream",
          "name": "stdout",
          "text": [
            "KNN accuracy : 0.779464931308749\n",
            "KNN precision : 0.8445873526259379\n",
            "KNN recall : 0.8312236286919831\n",
            "KNN f1 : 0.837852206273259\n",
            "CNN accuracy : 0.6334056399132321\n",
            "CNN precision : 0.7373519913885899\n",
            "CNN recall : 0.7225738396624473\n",
            "CNN f1 : 0.7298881193393714\n",
            "CNN-GRU accuracy : 0.6334056399132321\n",
            "CNN-GRU precision : 0.7373519913885899\n",
            "CNN-GRU recall : 0.7225738396624473\n",
            "CNN-GRU f1 : 0.7298881193393714\n"
          ]
        }
      ]
    },
    {
      "cell_type": "code",
      "source": [
        "from sklearn.ensemble import RandomForestClassifier\n",
        "from sklearn.linear_model import LogisticRegression\n",
        "import xgboost as xgb\n",
        "\n",
        "\n",
        "\n",
        "#making a new dataset for training our final model by stacking the predictions on the validation data\n",
        "train_stack = np.column_stack((knn_predictions_train,\n",
        "                               CNN_predictions_train,\n",
        "                               CNN_GRU_predictions_train))\n",
        "\n",
        "#making the final test set for our final model by stacking the predictions on the test data\n",
        "test_stack = np.column_stack((knn_predictions_test,\n",
        "                               CNN_predictions_test,\n",
        "                               CNN_GRU_predictions_test))\n",
        "\n",
        "\n",
        "final_model = RandomForestClassifier(n_estimators= 200)\n",
        "\n",
        "#training the final model on the stacked predictions\n",
        "final_model.fit(train_stack, y_train)\n",
        "\n",
        "final_predictions = final_model.predict(test_stack)\n",
        "\n",
        "# Compute accuracy using the binary class labels\n",
        "ensemble_accuracy_dt = accuracy_score(y_test, final_predictions)\n",
        "precision_dt = precision_score(y_test, final_predictions)\n",
        "recall_dt = recall_score(y_test, final_predictions)\n",
        "f1_dt = f1_score(y_test, final_predictions)\n",
        "\n",
        "print(f'Ensemble accuracy : {ensemble_accuracy_dt}')\n",
        "print(f'Ensemble precision : {precision_dt}')\n",
        "print(f'Ensemble recall : {recall_dt}')\n",
        "print(f'Ensemble f1 : {f1_dt}')"
      ],
      "metadata": {
        "colab": {
          "base_uri": "https://localhost:8080/"
        },
        "id": "Ri9gFJVlOH0m",
        "outputId": "ae7a0b30-7f39-4da8-ab63-c902536fb0fa"
      },
      "execution_count": 59,
      "outputs": [
        {
          "output_type": "stream",
          "name": "stdout",
          "text": [
            "Ensemble accuracy : 0.7093275488069414\n",
            "Ensemble precision : 0.7820247933884298\n",
            "Ensemble recall : 0.7985232067510548\n",
            "Ensemble f1 : 0.790187891440501\n"
          ]
        }
      ]
    },
    {
      "cell_type": "code",
      "source": [],
      "metadata": {
        "id": "Sx6wHDohPTOi"
      },
      "execution_count": null,
      "outputs": []
    }
  ],
  "metadata": {
    "accelerator": "GPU",
    "colab": {
      "collapsed_sections": [
        "mELFnPdiSLSs",
        "VKCG0JibSRMu",
        "-FpRLveSXktb",
        "tFr_GtVhJf9T"
      ],
      "gpuType": "T4",
      "machine_shape": "hm",
      "provenance": [],
      "toc_visible": true,
      "mount_file_id": "1WC6xgDA8kyR-4rfF2kImqV31t6M8hYxc",
      "authorship_tag": "ABX9TyO9BLYKmEEIo32+tpljGRU4",
      "include_colab_link": true
    },
    "kernelspec": {
      "display_name": "Python 3",
      "name": "python3"
    },
    "language_info": {
      "name": "python"
    }
  },
  "nbformat": 4,
  "nbformat_minor": 0
}