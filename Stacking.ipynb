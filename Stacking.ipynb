{
  "cells": [
    {
      "cell_type": "markdown",
      "metadata": {
        "id": "view-in-github",
        "colab_type": "text"
      },
      "source": [
        "<a href=\"https://colab.research.google.com/github/maimonahST/Signal_It/blob/main/Stacking.ipynb\" target=\"_parent\"><img src=\"https://colab.research.google.com/assets/colab-badge.svg\" alt=\"Open In Colab\"/></a>"
      ]
    },
    {
      "cell_type": "code",
      "execution_count": 88,
      "metadata": {
        "id": "IBMCjdPYCU97"
      },
      "outputs": [],
      "source": [
        "from sklearn.model_selection import train_test_split, StratifiedKFold\n",
        "from sklearn.ensemble import RandomForestClassifier\n",
        "from sklearn.naive_bayes import BernoulliNB\n",
        "from sklearn.ensemble import AdaBoostClassifier\n",
        "from xgboost import XGBClassifier\n",
        "from sklearn.tree import DecisionTreeClassifier\n",
        "from sklearn.ensemble import RandomForestClassifier\n",
        "from sklearn.metrics import accuracy_score\n",
        "from sklearn.model_selection import cross_val_predict\n",
        "from sklearn.base import clone\n",
        "import numpy as np\n",
        "from sklearn.metrics import accuracy_score, precision_score, recall_score, f1_score, confusion_matrix\n",
        "import seaborn as sns\n",
        "import matplotlib.pyplot as plt\n",
        "from lightgbm import LGBMClassifier\n",
        "\n",
        "import tensorflow as tf\n",
        "from tensorflow.keras.layers import Input, Conv1D, concatenate, Dense, MaxPooling1D, Flatten, GRU, SimpleRNN, LSTM, Dropout\n",
        "from tensorflow.keras.models import Model\n",
        "from tensorflow.keras.optimizers import Adam\n",
        "from tensorflow.keras.callbacks import EarlyStopping\n",
        "from tensorflow.keras.models import Sequential"
      ]
    },
    {
      "cell_type": "code",
      "execution_count": 89,
      "metadata": {
        "id": "qQfHSNjYTdU7"
      },
      "outputs": [],
      "source": [
        "from sklearn.model_selection import GroupKFold\n",
        "from sklearn.base import BaseEstimator, TransformerMixin\n",
        "from sklearn.preprocessing import StandardScaler\n",
        "import numpy as np\n",
        "\n",
        "gkf=GroupKFold()\n",
        "class StandardScaler3D(BaseEstimator,TransformerMixin):\n",
        "    #batch, sequence, channels\n",
        "    def __init__(self):\n",
        "        self.scaler = StandardScaler()\n",
        "\n",
        "    def fit(self,X,y=None):\n",
        "        self.scaler.fit(X.reshape(-1, X.shape[2]))\n",
        "        return self\n",
        "\n",
        "    def transform(self,X):\n",
        "        return self.scaler.transform(X.reshape( -1,X.shape[2])).reshape(X.shape)"
      ]
    },
    {
      "cell_type": "code",
      "source": [
        "def two_splits(data_array , label_array, group_array):\n",
        "\n",
        "  # Split data_array into train and validate\n",
        "  train_groups = []\n",
        "  for train_index, test_index in gkf.split(data_array, label_array, groups=group_array):\n",
        "      X_train, y_train = data_array[train_index],label_array[train_index]\n",
        "      X_test, y_test =data_array[test_index],label_array[test_index]\n",
        "      train_groups = group_array[train_index]\n",
        "\n",
        "      scaler=StandardScaler3D()\n",
        "      X_train=scaler.fit_transform(X_train)\n",
        "      X_test=scaler.transform(X_test)\n",
        "\n",
        "      print(f\"group={np.unique(group_array[train_index])}\")\n",
        "      print(f\"group={np.unique(group_array[test_index])}\")\n",
        "      break\n",
        "\n",
        "  return X_train, X_test, y_train, y_test, train_groups"
      ],
      "metadata": {
        "id": "RMfIYVotC5_b"
      },
      "execution_count": 90,
      "outputs": []
    },
    {
      "cell_type": "code",
      "source": [
        "def block(input):\n",
        "    conv1 = Conv1D(32, 2, strides=2, activation='relu', padding=\"same\")(input)\n",
        "    conv2 = Conv1D(32, 4, strides=2, activation='relu', padding=\"causal\")(input)\n",
        "    conv3 = Conv1D(32, 8, strides=2, activation='relu', padding=\"causal\")(input)\n",
        "    x = concatenate([conv1, conv2, conv3], axis=2)\n",
        "    return x"
      ],
      "metadata": {
        "id": "39marBJ8DEEp"
      },
      "execution_count": 91,
      "outputs": []
    },
    {
      "cell_type": "code",
      "source": [
        "from sklearn.metrics import accuracy_score, precision_score, recall_score, f1_score\n",
        "from sklearn.metrics import confusion_matrix\n",
        "from sklearn.metrics import classification_report\n",
        "import matplotlib.pyplot as plt\n",
        "import seaborn as sns\n",
        "\n",
        "\n",
        "\n",
        "def fit_and_evaluate(X_train, y_train, X_test, y_test,model):\n",
        "\n",
        "  model.fit(X_train, y_train)\n",
        "\n",
        "  # Predictions on the test set\n",
        "  y_pred = model.predict(X_test)\n",
        "\n",
        "  # Calculate evaluation metrics\n",
        "  accuracy = accuracy_score(y_test, y_pred)\n",
        "  precision = precision_score(y_test, y_pred, average='weighted')\n",
        "  recall = recall_score(y_test, y_pred, average='weighted')\n",
        "  f1 = f1_score(y_test, y_pred, average='weighted')\n",
        "\n",
        "\n",
        "  # Print the results\n",
        "  print(\"Accuracy:\", accuracy)\n",
        "  print(\"Recall:\", recall)\n",
        "  print(\"Precision:\", precision)\n",
        "  print(\"F1-score:\", f1)\n",
        "\n",
        "\n",
        "  print(\"Classification Report (Test):\\n\", classification_report(y_test, y_pred))\n",
        "\n",
        "  # Compute the confusion matrix for the test set\n",
        "  cm_test = confusion_matrix(y_test, y_pred)\n",
        "\n",
        "  # Plot the confusion matrix for the test set\n",
        "  plt.figure(figsize=(8, 6))\n",
        "  sns.heatmap(cm_test, annot=True, fmt=\"d\", cmap=\"Blues\", cbar=False)\n",
        "  plt.xlabel(\"Predicted Label\")\n",
        "  plt.ylabel(\"True Label\")\n",
        "  plt.title(f\"Confusion Matrix for Decision Tree {model.__class__}\")\n",
        "  plt.show()\n",
        "\n",
        "  return model\n",
        "\n",
        "\n",
        "\n",
        "\n",
        "def evaluate(model, X_test, y_test):\n",
        "\n",
        "  # Predictions on the test set\n",
        "  y_pred = model.predict(X_test)\n",
        "  y_pred = (y_pred > 0.5).astype(int)\n",
        "\n",
        "  # Calculate evaluation metrics\n",
        "  accuracy = accuracy_score(y_test, y_pred)\n",
        "  precision = precision_score(y_test, y_pred, average='weighted')\n",
        "  recall = recall_score(y_test, y_pred, average='weighted')\n",
        "  f1 = f1_score(y_test, y_pred, average='weighted')\n",
        "\n",
        "\n",
        "  # Print the results\n",
        "  print(\"Accuracy:\", accuracy)\n",
        "  print(\"Recall:\", recall)\n",
        "  print(\"Precision:\", precision)\n",
        "  print(\"F1-score:\", f1)\n",
        "\n",
        "\n",
        "  print(\"Classification Report (Test):\\n\", classification_report(y_test, y_pred))\n",
        "\n",
        "  # Compute the confusion matrix for the test set\n",
        "  cm_test = confusion_matrix(y_test, y_pred)\n",
        "\n",
        "  # Plot the confusion matrix for the test set\n",
        "  plt.figure(figsize=(8, 6))\n",
        "  sns.heatmap(cm_test, annot=True, fmt=\"d\", cmap=\"Blues\", cbar=False)\n",
        "  plt.xlabel(\"Predicted Label\")\n",
        "  plt.ylabel(\"True Label\")\n",
        "  plt.title(f\"Confusion Matrix for Decision Tree {model.__class__}\")\n",
        "  plt.show()\n",
        "\n",
        "  return\n",
        "\n",
        "\n",
        "\n",
        "def plot_history(hist):\n",
        "  plt.plot(hist.history['accuracy'])\n",
        "  plt.plot(hist.history['val_accuracy'])\n",
        "  plt.title('Model accuracy')\n",
        "  plt.ylabel('Accuracy')\n",
        "  plt.xlabel('Epoch')\n",
        "  plt.legend(['Train', 'Validation'], loc='upper left')\n",
        "  plt.show()\n",
        "\n",
        "  plt.plot(hist.history['loss'])\n",
        "  plt.plot(hist.history['val_loss'])\n",
        "  plt.title('Model loss')\n",
        "  plt.ylabel('Loss')\n",
        "  plt.xlabel('Epoch')\n",
        "  plt.legend(['Train', 'Validation'], loc='upper left')\n",
        "  plt.show()"
      ],
      "metadata": {
        "id": "4h0Jd8vsYhaD"
      },
      "execution_count": 92,
      "outputs": []
    },
    {
      "cell_type": "markdown",
      "metadata": {
        "id": "mELFnPdiSLSs"
      },
      "source": [
        "# ICA"
      ]
    },
    {
      "cell_type": "markdown",
      "metadata": {
        "id": "xq_xkX0gaTRm"
      },
      "source": [
        "**Prepare the data**\n"
      ]
    },
    {
      "cell_type": "code",
      "source": [
        "from sklearn.model_selection import train_test_split\n",
        "import numpy as np\n",
        "\n",
        "\n",
        "# Step 1: Load the data\n",
        "X = np.load('/content/drive/MyDrive/GP/GP-Data/X_ica2.npy')\n",
        "y = np.load('/content/drive/MyDrive/GP/GP-Data/y_ica2.npy')\n",
        "\n",
        "y = y.astype('int')\n",
        "\n",
        "print(X.shape, y.shape)\n",
        "\n",
        "# Step 2: Convert multicalss to binary\n",
        "y[y==0] = 1 #Stroke\n",
        "y[y==2] = 0 #Healthy\n",
        "\n",
        "\n",
        "# Step 3: Split the data into train and test\n",
        "X_train, X_test, y_train, y_test = train_test_split(X, y, test_size=0.2, random_state=101)\n",
        "\n"
      ],
      "metadata": {
        "colab": {
          "base_uri": "https://localhost:8080/"
        },
        "id": "y91FSveFe-9X",
        "outputId": "f5d7ced6-52a0-4da8-86f5-cec4033dc163"
      },
      "execution_count": 25,
      "outputs": [
        {
          "output_type": "stream",
          "name": "stdout",
          "text": [
            "(45, 32, 32) (45,)\n"
          ]
        }
      ]
    },
    {
      "cell_type": "code",
      "source": [],
      "metadata": {
        "id": "QfIU9e2ZfEmZ"
      },
      "execution_count": null,
      "outputs": []
    },
    {
      "cell_type": "code",
      "execution_count": 26,
      "metadata": {
        "id": "xirwYFrEPJlt"
      },
      "outputs": [],
      "source": [
        "# Flatten the data array for ML models\n",
        "X_train_ica_ml = X_train.reshape(X_train.shape[0], -1)\n",
        "X_test_ica_ml = X_test.reshape(X_test.shape[0], -1)\n",
        "y_train_ica_ml = y_train.reshape(y_train.shape[0], -1)\n",
        "y_test_ica_ml = y_test.reshape(y_test.shape[0], -1)\n"
      ]
    },
    {
      "cell_type": "markdown",
      "metadata": {
        "id": "ulvdqUUyCWRP"
      },
      "source": [
        "##  Train Indivedual Models\n",
        "\n",
        "Ensemble ML models (Bernoulli NB, Adaboost, XGBoost, DT) using several ensemble methods"
      ]
    },
    {
      "cell_type": "markdown",
      "source": [
        "### ML"
      ],
      "metadata": {
        "id": "sl5kDeCZd1IQ"
      }
    },
    {
      "cell_type": "code",
      "execution_count": 27,
      "metadata": {
        "colab": {
          "base_uri": "https://localhost:8080/",
          "height": 75
        },
        "id": "2UaLJWY78Nx4",
        "outputId": "765ff771-04c9-4291-e870-37bfb02a525b"
      },
      "outputs": [
        {
          "output_type": "execute_result",
          "data": {
            "text/plain": [
              "BernoulliNB(alpha=0.1)"
            ],
            "text/html": [
              "<style>#sk-container-id-6 {color: black;background-color: white;}#sk-container-id-6 pre{padding: 0;}#sk-container-id-6 div.sk-toggleable {background-color: white;}#sk-container-id-6 label.sk-toggleable__label {cursor: pointer;display: block;width: 100%;margin-bottom: 0;padding: 0.3em;box-sizing: border-box;text-align: center;}#sk-container-id-6 label.sk-toggleable__label-arrow:before {content: \"▸\";float: left;margin-right: 0.25em;color: #696969;}#sk-container-id-6 label.sk-toggleable__label-arrow:hover:before {color: black;}#sk-container-id-6 div.sk-estimator:hover label.sk-toggleable__label-arrow:before {color: black;}#sk-container-id-6 div.sk-toggleable__content {max-height: 0;max-width: 0;overflow: hidden;text-align: left;background-color: #f0f8ff;}#sk-container-id-6 div.sk-toggleable__content pre {margin: 0.2em;color: black;border-radius: 0.25em;background-color: #f0f8ff;}#sk-container-id-6 input.sk-toggleable__control:checked~div.sk-toggleable__content {max-height: 200px;max-width: 100%;overflow: auto;}#sk-container-id-6 input.sk-toggleable__control:checked~label.sk-toggleable__label-arrow:before {content: \"▾\";}#sk-container-id-6 div.sk-estimator input.sk-toggleable__control:checked~label.sk-toggleable__label {background-color: #d4ebff;}#sk-container-id-6 div.sk-label input.sk-toggleable__control:checked~label.sk-toggleable__label {background-color: #d4ebff;}#sk-container-id-6 input.sk-hidden--visually {border: 0;clip: rect(1px 1px 1px 1px);clip: rect(1px, 1px, 1px, 1px);height: 1px;margin: -1px;overflow: hidden;padding: 0;position: absolute;width: 1px;}#sk-container-id-6 div.sk-estimator {font-family: monospace;background-color: #f0f8ff;border: 1px dotted black;border-radius: 0.25em;box-sizing: border-box;margin-bottom: 0.5em;}#sk-container-id-6 div.sk-estimator:hover {background-color: #d4ebff;}#sk-container-id-6 div.sk-parallel-item::after {content: \"\";width: 100%;border-bottom: 1px solid gray;flex-grow: 1;}#sk-container-id-6 div.sk-label:hover label.sk-toggleable__label {background-color: #d4ebff;}#sk-container-id-6 div.sk-serial::before {content: \"\";position: absolute;border-left: 1px solid gray;box-sizing: border-box;top: 0;bottom: 0;left: 50%;z-index: 0;}#sk-container-id-6 div.sk-serial {display: flex;flex-direction: column;align-items: center;background-color: white;padding-right: 0.2em;padding-left: 0.2em;position: relative;}#sk-container-id-6 div.sk-item {position: relative;z-index: 1;}#sk-container-id-6 div.sk-parallel {display: flex;align-items: stretch;justify-content: center;background-color: white;position: relative;}#sk-container-id-6 div.sk-item::before, #sk-container-id-6 div.sk-parallel-item::before {content: \"\";position: absolute;border-left: 1px solid gray;box-sizing: border-box;top: 0;bottom: 0;left: 50%;z-index: -1;}#sk-container-id-6 div.sk-parallel-item {display: flex;flex-direction: column;z-index: 1;position: relative;background-color: white;}#sk-container-id-6 div.sk-parallel-item:first-child::after {align-self: flex-end;width: 50%;}#sk-container-id-6 div.sk-parallel-item:last-child::after {align-self: flex-start;width: 50%;}#sk-container-id-6 div.sk-parallel-item:only-child::after {width: 0;}#sk-container-id-6 div.sk-dashed-wrapped {border: 1px dashed gray;margin: 0 0.4em 0.5em 0.4em;box-sizing: border-box;padding-bottom: 0.4em;background-color: white;}#sk-container-id-6 div.sk-label label {font-family: monospace;font-weight: bold;display: inline-block;line-height: 1.2em;}#sk-container-id-6 div.sk-label-container {text-align: center;}#sk-container-id-6 div.sk-container {/* jupyter's `normalize.less` sets `[hidden] { display: none; }` but bootstrap.min.css set `[hidden] { display: none !important; }` so we also need the `!important` here to be able to override the default hidden behavior on the sphinx rendered scikit-learn.org. See: https://github.com/scikit-learn/scikit-learn/issues/21755 */display: inline-block !important;position: relative;}#sk-container-id-6 div.sk-text-repr-fallback {display: none;}</style><div id=\"sk-container-id-6\" class=\"sk-top-container\"><div class=\"sk-text-repr-fallback\"><pre>BernoulliNB(alpha=0.1)</pre><b>In a Jupyter environment, please rerun this cell to show the HTML representation or trust the notebook. <br />On GitHub, the HTML representation is unable to render, please try loading this page with nbviewer.org.</b></div><div class=\"sk-container\" hidden><div class=\"sk-item\"><div class=\"sk-estimator sk-toggleable\"><input class=\"sk-toggleable__control sk-hidden--visually\" id=\"sk-estimator-id-6\" type=\"checkbox\" checked><label for=\"sk-estimator-id-6\" class=\"sk-toggleable__label sk-toggleable__label-arrow\">BernoulliNB</label><div class=\"sk-toggleable__content\"><pre>BernoulliNB(alpha=0.1)</pre></div></div></div></div></div>"
            ]
          },
          "metadata": {},
          "execution_count": 27
        }
      ],
      "source": [
        "# Train ML models (Base models)\n",
        "bernoulli_nb = BernoulliNB(alpha=0.1, binarize = 0.0 , fit_prior = True)\n",
        "bernoulli_nb.fit(X_train_ica_ml, y_train)"
      ]
    },
    {
      "cell_type": "code",
      "execution_count": 28,
      "metadata": {
        "colab": {
          "base_uri": "https://localhost:8080/",
          "height": 75
        },
        "id": "eAAN6IcrAMbA",
        "outputId": "838452f3-93d4-4aa6-dfd7-30ffab75c3e4"
      },
      "outputs": [
        {
          "output_type": "execute_result",
          "data": {
            "text/plain": [
              "AdaBoostClassifier(learning_rate=1, n_estimators=200)"
            ],
            "text/html": [
              "<style>#sk-container-id-7 {color: black;background-color: white;}#sk-container-id-7 pre{padding: 0;}#sk-container-id-7 div.sk-toggleable {background-color: white;}#sk-container-id-7 label.sk-toggleable__label {cursor: pointer;display: block;width: 100%;margin-bottom: 0;padding: 0.3em;box-sizing: border-box;text-align: center;}#sk-container-id-7 label.sk-toggleable__label-arrow:before {content: \"▸\";float: left;margin-right: 0.25em;color: #696969;}#sk-container-id-7 label.sk-toggleable__label-arrow:hover:before {color: black;}#sk-container-id-7 div.sk-estimator:hover label.sk-toggleable__label-arrow:before {color: black;}#sk-container-id-7 div.sk-toggleable__content {max-height: 0;max-width: 0;overflow: hidden;text-align: left;background-color: #f0f8ff;}#sk-container-id-7 div.sk-toggleable__content pre {margin: 0.2em;color: black;border-radius: 0.25em;background-color: #f0f8ff;}#sk-container-id-7 input.sk-toggleable__control:checked~div.sk-toggleable__content {max-height: 200px;max-width: 100%;overflow: auto;}#sk-container-id-7 input.sk-toggleable__control:checked~label.sk-toggleable__label-arrow:before {content: \"▾\";}#sk-container-id-7 div.sk-estimator input.sk-toggleable__control:checked~label.sk-toggleable__label {background-color: #d4ebff;}#sk-container-id-7 div.sk-label input.sk-toggleable__control:checked~label.sk-toggleable__label {background-color: #d4ebff;}#sk-container-id-7 input.sk-hidden--visually {border: 0;clip: rect(1px 1px 1px 1px);clip: rect(1px, 1px, 1px, 1px);height: 1px;margin: -1px;overflow: hidden;padding: 0;position: absolute;width: 1px;}#sk-container-id-7 div.sk-estimator {font-family: monospace;background-color: #f0f8ff;border: 1px dotted black;border-radius: 0.25em;box-sizing: border-box;margin-bottom: 0.5em;}#sk-container-id-7 div.sk-estimator:hover {background-color: #d4ebff;}#sk-container-id-7 div.sk-parallel-item::after {content: \"\";width: 100%;border-bottom: 1px solid gray;flex-grow: 1;}#sk-container-id-7 div.sk-label:hover label.sk-toggleable__label {background-color: #d4ebff;}#sk-container-id-7 div.sk-serial::before {content: \"\";position: absolute;border-left: 1px solid gray;box-sizing: border-box;top: 0;bottom: 0;left: 50%;z-index: 0;}#sk-container-id-7 div.sk-serial {display: flex;flex-direction: column;align-items: center;background-color: white;padding-right: 0.2em;padding-left: 0.2em;position: relative;}#sk-container-id-7 div.sk-item {position: relative;z-index: 1;}#sk-container-id-7 div.sk-parallel {display: flex;align-items: stretch;justify-content: center;background-color: white;position: relative;}#sk-container-id-7 div.sk-item::before, #sk-container-id-7 div.sk-parallel-item::before {content: \"\";position: absolute;border-left: 1px solid gray;box-sizing: border-box;top: 0;bottom: 0;left: 50%;z-index: -1;}#sk-container-id-7 div.sk-parallel-item {display: flex;flex-direction: column;z-index: 1;position: relative;background-color: white;}#sk-container-id-7 div.sk-parallel-item:first-child::after {align-self: flex-end;width: 50%;}#sk-container-id-7 div.sk-parallel-item:last-child::after {align-self: flex-start;width: 50%;}#sk-container-id-7 div.sk-parallel-item:only-child::after {width: 0;}#sk-container-id-7 div.sk-dashed-wrapped {border: 1px dashed gray;margin: 0 0.4em 0.5em 0.4em;box-sizing: border-box;padding-bottom: 0.4em;background-color: white;}#sk-container-id-7 div.sk-label label {font-family: monospace;font-weight: bold;display: inline-block;line-height: 1.2em;}#sk-container-id-7 div.sk-label-container {text-align: center;}#sk-container-id-7 div.sk-container {/* jupyter's `normalize.less` sets `[hidden] { display: none; }` but bootstrap.min.css set `[hidden] { display: none !important; }` so we also need the `!important` here to be able to override the default hidden behavior on the sphinx rendered scikit-learn.org. See: https://github.com/scikit-learn/scikit-learn/issues/21755 */display: inline-block !important;position: relative;}#sk-container-id-7 div.sk-text-repr-fallback {display: none;}</style><div id=\"sk-container-id-7\" class=\"sk-top-container\"><div class=\"sk-text-repr-fallback\"><pre>AdaBoostClassifier(learning_rate=1, n_estimators=200)</pre><b>In a Jupyter environment, please rerun this cell to show the HTML representation or trust the notebook. <br />On GitHub, the HTML representation is unable to render, please try loading this page with nbviewer.org.</b></div><div class=\"sk-container\" hidden><div class=\"sk-item\"><div class=\"sk-estimator sk-toggleable\"><input class=\"sk-toggleable__control sk-hidden--visually\" id=\"sk-estimator-id-7\" type=\"checkbox\" checked><label for=\"sk-estimator-id-7\" class=\"sk-toggleable__label sk-toggleable__label-arrow\">AdaBoostClassifier</label><div class=\"sk-toggleable__content\"><pre>AdaBoostClassifier(learning_rate=1, n_estimators=200)</pre></div></div></div></div></div>"
            ]
          },
          "metadata": {},
          "execution_count": 28
        }
      ],
      "source": [
        "Adaboost = AdaBoostClassifier(n_estimators = 200 , learning_rate = 1)\n",
        "Adaboost.fit(X_train_ica_ml, y_train)"
      ]
    },
    {
      "cell_type": "code",
      "execution_count": 29,
      "metadata": {
        "colab": {
          "base_uri": "https://localhost:8080/",
          "height": 248
        },
        "id": "XR3q9zrk9iIp",
        "outputId": "b42a6f03-5426-4f2c-c2c6-ece64f0d565e"
      },
      "outputs": [
        {
          "output_type": "execute_result",
          "data": {
            "text/plain": [
              "XGBClassifier(base_score=None, booster=None, callbacks=None,\n",
              "              colsample_bylevel=None, colsample_bynode=None,\n",
              "              colsample_bytree=None, device=None, early_stopping_rounds=None,\n",
              "              enable_categorical=False, eval_metric=None, feature_types=None,\n",
              "              gamma=None, grow_policy=None, importance_type=None,\n",
              "              interaction_constraints=None, learning_rate=0.01, max_bin=None,\n",
              "              max_cat_threshold=None, max_cat_to_onehot=None,\n",
              "              max_delta_step=None, max_depth=9, max_leaves=None,\n",
              "              min_child_weight=None, missing=nan, monotone_constraints=None,\n",
              "              multi_strategy=None, n_estimators=200, n_jobs=None,\n",
              "              num_parallel_tree=None, random_state=None, ...)"
            ],
            "text/html": [
              "<style>#sk-container-id-8 {color: black;background-color: white;}#sk-container-id-8 pre{padding: 0;}#sk-container-id-8 div.sk-toggleable {background-color: white;}#sk-container-id-8 label.sk-toggleable__label {cursor: pointer;display: block;width: 100%;margin-bottom: 0;padding: 0.3em;box-sizing: border-box;text-align: center;}#sk-container-id-8 label.sk-toggleable__label-arrow:before {content: \"▸\";float: left;margin-right: 0.25em;color: #696969;}#sk-container-id-8 label.sk-toggleable__label-arrow:hover:before {color: black;}#sk-container-id-8 div.sk-estimator:hover label.sk-toggleable__label-arrow:before {color: black;}#sk-container-id-8 div.sk-toggleable__content {max-height: 0;max-width: 0;overflow: hidden;text-align: left;background-color: #f0f8ff;}#sk-container-id-8 div.sk-toggleable__content pre {margin: 0.2em;color: black;border-radius: 0.25em;background-color: #f0f8ff;}#sk-container-id-8 input.sk-toggleable__control:checked~div.sk-toggleable__content {max-height: 200px;max-width: 100%;overflow: auto;}#sk-container-id-8 input.sk-toggleable__control:checked~label.sk-toggleable__label-arrow:before {content: \"▾\";}#sk-container-id-8 div.sk-estimator input.sk-toggleable__control:checked~label.sk-toggleable__label {background-color: #d4ebff;}#sk-container-id-8 div.sk-label input.sk-toggleable__control:checked~label.sk-toggleable__label {background-color: #d4ebff;}#sk-container-id-8 input.sk-hidden--visually {border: 0;clip: rect(1px 1px 1px 1px);clip: rect(1px, 1px, 1px, 1px);height: 1px;margin: -1px;overflow: hidden;padding: 0;position: absolute;width: 1px;}#sk-container-id-8 div.sk-estimator {font-family: monospace;background-color: #f0f8ff;border: 1px dotted black;border-radius: 0.25em;box-sizing: border-box;margin-bottom: 0.5em;}#sk-container-id-8 div.sk-estimator:hover {background-color: #d4ebff;}#sk-container-id-8 div.sk-parallel-item::after {content: \"\";width: 100%;border-bottom: 1px solid gray;flex-grow: 1;}#sk-container-id-8 div.sk-label:hover label.sk-toggleable__label {background-color: #d4ebff;}#sk-container-id-8 div.sk-serial::before {content: \"\";position: absolute;border-left: 1px solid gray;box-sizing: border-box;top: 0;bottom: 0;left: 50%;z-index: 0;}#sk-container-id-8 div.sk-serial {display: flex;flex-direction: column;align-items: center;background-color: white;padding-right: 0.2em;padding-left: 0.2em;position: relative;}#sk-container-id-8 div.sk-item {position: relative;z-index: 1;}#sk-container-id-8 div.sk-parallel {display: flex;align-items: stretch;justify-content: center;background-color: white;position: relative;}#sk-container-id-8 div.sk-item::before, #sk-container-id-8 div.sk-parallel-item::before {content: \"\";position: absolute;border-left: 1px solid gray;box-sizing: border-box;top: 0;bottom: 0;left: 50%;z-index: -1;}#sk-container-id-8 div.sk-parallel-item {display: flex;flex-direction: column;z-index: 1;position: relative;background-color: white;}#sk-container-id-8 div.sk-parallel-item:first-child::after {align-self: flex-end;width: 50%;}#sk-container-id-8 div.sk-parallel-item:last-child::after {align-self: flex-start;width: 50%;}#sk-container-id-8 div.sk-parallel-item:only-child::after {width: 0;}#sk-container-id-8 div.sk-dashed-wrapped {border: 1px dashed gray;margin: 0 0.4em 0.5em 0.4em;box-sizing: border-box;padding-bottom: 0.4em;background-color: white;}#sk-container-id-8 div.sk-label label {font-family: monospace;font-weight: bold;display: inline-block;line-height: 1.2em;}#sk-container-id-8 div.sk-label-container {text-align: center;}#sk-container-id-8 div.sk-container {/* jupyter's `normalize.less` sets `[hidden] { display: none; }` but bootstrap.min.css set `[hidden] { display: none !important; }` so we also need the `!important` here to be able to override the default hidden behavior on the sphinx rendered scikit-learn.org. See: https://github.com/scikit-learn/scikit-learn/issues/21755 */display: inline-block !important;position: relative;}#sk-container-id-8 div.sk-text-repr-fallback {display: none;}</style><div id=\"sk-container-id-8\" class=\"sk-top-container\"><div class=\"sk-text-repr-fallback\"><pre>XGBClassifier(base_score=None, booster=None, callbacks=None,\n",
              "              colsample_bylevel=None, colsample_bynode=None,\n",
              "              colsample_bytree=None, device=None, early_stopping_rounds=None,\n",
              "              enable_categorical=False, eval_metric=None, feature_types=None,\n",
              "              gamma=None, grow_policy=None, importance_type=None,\n",
              "              interaction_constraints=None, learning_rate=0.01, max_bin=None,\n",
              "              max_cat_threshold=None, max_cat_to_onehot=None,\n",
              "              max_delta_step=None, max_depth=9, max_leaves=None,\n",
              "              min_child_weight=None, missing=nan, monotone_constraints=None,\n",
              "              multi_strategy=None, n_estimators=200, n_jobs=None,\n",
              "              num_parallel_tree=None, random_state=None, ...)</pre><b>In a Jupyter environment, please rerun this cell to show the HTML representation or trust the notebook. <br />On GitHub, the HTML representation is unable to render, please try loading this page with nbviewer.org.</b></div><div class=\"sk-container\" hidden><div class=\"sk-item\"><div class=\"sk-estimator sk-toggleable\"><input class=\"sk-toggleable__control sk-hidden--visually\" id=\"sk-estimator-id-8\" type=\"checkbox\" checked><label for=\"sk-estimator-id-8\" class=\"sk-toggleable__label sk-toggleable__label-arrow\">XGBClassifier</label><div class=\"sk-toggleable__content\"><pre>XGBClassifier(base_score=None, booster=None, callbacks=None,\n",
              "              colsample_bylevel=None, colsample_bynode=None,\n",
              "              colsample_bytree=None, device=None, early_stopping_rounds=None,\n",
              "              enable_categorical=False, eval_metric=None, feature_types=None,\n",
              "              gamma=None, grow_policy=None, importance_type=None,\n",
              "              interaction_constraints=None, learning_rate=0.01, max_bin=None,\n",
              "              max_cat_threshold=None, max_cat_to_onehot=None,\n",
              "              max_delta_step=None, max_depth=9, max_leaves=None,\n",
              "              min_child_weight=None, missing=nan, monotone_constraints=None,\n",
              "              multi_strategy=None, n_estimators=200, n_jobs=None,\n",
              "              num_parallel_tree=None, random_state=None, ...)</pre></div></div></div></div></div>"
            ]
          },
          "metadata": {},
          "execution_count": 29
        }
      ],
      "source": [
        "xgboost = XGBClassifier(max_depth=9, n_estimators=200, learning_rate=0.01)\n",
        "xgboost.fit(X_train_ica_ml, y_train)"
      ]
    },
    {
      "cell_type": "code",
      "execution_count": 30,
      "metadata": {
        "colab": {
          "base_uri": "https://localhost:8080/",
          "height": 75
        },
        "id": "VgAx5t_Z9g4S",
        "outputId": "46f6b57c-cd81-4720-bfd4-1e9936224d6b"
      },
      "outputs": [
        {
          "output_type": "execute_result",
          "data": {
            "text/plain": [
              "DecisionTreeClassifier(max_depth=3, min_samples_leaf=5)"
            ],
            "text/html": [
              "<style>#sk-container-id-9 {color: black;background-color: white;}#sk-container-id-9 pre{padding: 0;}#sk-container-id-9 div.sk-toggleable {background-color: white;}#sk-container-id-9 label.sk-toggleable__label {cursor: pointer;display: block;width: 100%;margin-bottom: 0;padding: 0.3em;box-sizing: border-box;text-align: center;}#sk-container-id-9 label.sk-toggleable__label-arrow:before {content: \"▸\";float: left;margin-right: 0.25em;color: #696969;}#sk-container-id-9 label.sk-toggleable__label-arrow:hover:before {color: black;}#sk-container-id-9 div.sk-estimator:hover label.sk-toggleable__label-arrow:before {color: black;}#sk-container-id-9 div.sk-toggleable__content {max-height: 0;max-width: 0;overflow: hidden;text-align: left;background-color: #f0f8ff;}#sk-container-id-9 div.sk-toggleable__content pre {margin: 0.2em;color: black;border-radius: 0.25em;background-color: #f0f8ff;}#sk-container-id-9 input.sk-toggleable__control:checked~div.sk-toggleable__content {max-height: 200px;max-width: 100%;overflow: auto;}#sk-container-id-9 input.sk-toggleable__control:checked~label.sk-toggleable__label-arrow:before {content: \"▾\";}#sk-container-id-9 div.sk-estimator input.sk-toggleable__control:checked~label.sk-toggleable__label {background-color: #d4ebff;}#sk-container-id-9 div.sk-label input.sk-toggleable__control:checked~label.sk-toggleable__label {background-color: #d4ebff;}#sk-container-id-9 input.sk-hidden--visually {border: 0;clip: rect(1px 1px 1px 1px);clip: rect(1px, 1px, 1px, 1px);height: 1px;margin: -1px;overflow: hidden;padding: 0;position: absolute;width: 1px;}#sk-container-id-9 div.sk-estimator {font-family: monospace;background-color: #f0f8ff;border: 1px dotted black;border-radius: 0.25em;box-sizing: border-box;margin-bottom: 0.5em;}#sk-container-id-9 div.sk-estimator:hover {background-color: #d4ebff;}#sk-container-id-9 div.sk-parallel-item::after {content: \"\";width: 100%;border-bottom: 1px solid gray;flex-grow: 1;}#sk-container-id-9 div.sk-label:hover label.sk-toggleable__label {background-color: #d4ebff;}#sk-container-id-9 div.sk-serial::before {content: \"\";position: absolute;border-left: 1px solid gray;box-sizing: border-box;top: 0;bottom: 0;left: 50%;z-index: 0;}#sk-container-id-9 div.sk-serial {display: flex;flex-direction: column;align-items: center;background-color: white;padding-right: 0.2em;padding-left: 0.2em;position: relative;}#sk-container-id-9 div.sk-item {position: relative;z-index: 1;}#sk-container-id-9 div.sk-parallel {display: flex;align-items: stretch;justify-content: center;background-color: white;position: relative;}#sk-container-id-9 div.sk-item::before, #sk-container-id-9 div.sk-parallel-item::before {content: \"\";position: absolute;border-left: 1px solid gray;box-sizing: border-box;top: 0;bottom: 0;left: 50%;z-index: -1;}#sk-container-id-9 div.sk-parallel-item {display: flex;flex-direction: column;z-index: 1;position: relative;background-color: white;}#sk-container-id-9 div.sk-parallel-item:first-child::after {align-self: flex-end;width: 50%;}#sk-container-id-9 div.sk-parallel-item:last-child::after {align-self: flex-start;width: 50%;}#sk-container-id-9 div.sk-parallel-item:only-child::after {width: 0;}#sk-container-id-9 div.sk-dashed-wrapped {border: 1px dashed gray;margin: 0 0.4em 0.5em 0.4em;box-sizing: border-box;padding-bottom: 0.4em;background-color: white;}#sk-container-id-9 div.sk-label label {font-family: monospace;font-weight: bold;display: inline-block;line-height: 1.2em;}#sk-container-id-9 div.sk-label-container {text-align: center;}#sk-container-id-9 div.sk-container {/* jupyter's `normalize.less` sets `[hidden] { display: none; }` but bootstrap.min.css set `[hidden] { display: none !important; }` so we also need the `!important` here to be able to override the default hidden behavior on the sphinx rendered scikit-learn.org. See: https://github.com/scikit-learn/scikit-learn/issues/21755 */display: inline-block !important;position: relative;}#sk-container-id-9 div.sk-text-repr-fallback {display: none;}</style><div id=\"sk-container-id-9\" class=\"sk-top-container\"><div class=\"sk-text-repr-fallback\"><pre>DecisionTreeClassifier(max_depth=3, min_samples_leaf=5)</pre><b>In a Jupyter environment, please rerun this cell to show the HTML representation or trust the notebook. <br />On GitHub, the HTML representation is unable to render, please try loading this page with nbviewer.org.</b></div><div class=\"sk-container\" hidden><div class=\"sk-item\"><div class=\"sk-estimator sk-toggleable\"><input class=\"sk-toggleable__control sk-hidden--visually\" id=\"sk-estimator-id-9\" type=\"checkbox\" checked><label for=\"sk-estimator-id-9\" class=\"sk-toggleable__label sk-toggleable__label-arrow\">DecisionTreeClassifier</label><div class=\"sk-toggleable__content\"><pre>DecisionTreeClassifier(max_depth=3, min_samples_leaf=5)</pre></div></div></div></div></div>"
            ]
          },
          "metadata": {},
          "execution_count": 30
        }
      ],
      "source": [
        "decision_tree = DecisionTreeClassifier(criterion='gini', max_depth=3, min_samples_leaf=5)\n",
        "decision_tree.fit(X_train_ica_ml, y_train)"
      ]
    },
    {
      "cell_type": "code",
      "execution_count": 31,
      "metadata": {
        "colab": {
          "base_uri": "https://localhost:8080/",
          "height": 75
        },
        "id": "OANCYlBi-sXc",
        "outputId": "925e52ad-0e68-4700-b213-ead7b59ec64f"
      },
      "outputs": [
        {
          "output_type": "execute_result",
          "data": {
            "text/plain": [
              "RandomForestClassifier(max_depth=3, min_samples_leaf=5)"
            ],
            "text/html": [
              "<style>#sk-container-id-10 {color: black;background-color: white;}#sk-container-id-10 pre{padding: 0;}#sk-container-id-10 div.sk-toggleable {background-color: white;}#sk-container-id-10 label.sk-toggleable__label {cursor: pointer;display: block;width: 100%;margin-bottom: 0;padding: 0.3em;box-sizing: border-box;text-align: center;}#sk-container-id-10 label.sk-toggleable__label-arrow:before {content: \"▸\";float: left;margin-right: 0.25em;color: #696969;}#sk-container-id-10 label.sk-toggleable__label-arrow:hover:before {color: black;}#sk-container-id-10 div.sk-estimator:hover label.sk-toggleable__label-arrow:before {color: black;}#sk-container-id-10 div.sk-toggleable__content {max-height: 0;max-width: 0;overflow: hidden;text-align: left;background-color: #f0f8ff;}#sk-container-id-10 div.sk-toggleable__content pre {margin: 0.2em;color: black;border-radius: 0.25em;background-color: #f0f8ff;}#sk-container-id-10 input.sk-toggleable__control:checked~div.sk-toggleable__content {max-height: 200px;max-width: 100%;overflow: auto;}#sk-container-id-10 input.sk-toggleable__control:checked~label.sk-toggleable__label-arrow:before {content: \"▾\";}#sk-container-id-10 div.sk-estimator input.sk-toggleable__control:checked~label.sk-toggleable__label {background-color: #d4ebff;}#sk-container-id-10 div.sk-label input.sk-toggleable__control:checked~label.sk-toggleable__label {background-color: #d4ebff;}#sk-container-id-10 input.sk-hidden--visually {border: 0;clip: rect(1px 1px 1px 1px);clip: rect(1px, 1px, 1px, 1px);height: 1px;margin: -1px;overflow: hidden;padding: 0;position: absolute;width: 1px;}#sk-container-id-10 div.sk-estimator {font-family: monospace;background-color: #f0f8ff;border: 1px dotted black;border-radius: 0.25em;box-sizing: border-box;margin-bottom: 0.5em;}#sk-container-id-10 div.sk-estimator:hover {background-color: #d4ebff;}#sk-container-id-10 div.sk-parallel-item::after {content: \"\";width: 100%;border-bottom: 1px solid gray;flex-grow: 1;}#sk-container-id-10 div.sk-label:hover label.sk-toggleable__label {background-color: #d4ebff;}#sk-container-id-10 div.sk-serial::before {content: \"\";position: absolute;border-left: 1px solid gray;box-sizing: border-box;top: 0;bottom: 0;left: 50%;z-index: 0;}#sk-container-id-10 div.sk-serial {display: flex;flex-direction: column;align-items: center;background-color: white;padding-right: 0.2em;padding-left: 0.2em;position: relative;}#sk-container-id-10 div.sk-item {position: relative;z-index: 1;}#sk-container-id-10 div.sk-parallel {display: flex;align-items: stretch;justify-content: center;background-color: white;position: relative;}#sk-container-id-10 div.sk-item::before, #sk-container-id-10 div.sk-parallel-item::before {content: \"\";position: absolute;border-left: 1px solid gray;box-sizing: border-box;top: 0;bottom: 0;left: 50%;z-index: -1;}#sk-container-id-10 div.sk-parallel-item {display: flex;flex-direction: column;z-index: 1;position: relative;background-color: white;}#sk-container-id-10 div.sk-parallel-item:first-child::after {align-self: flex-end;width: 50%;}#sk-container-id-10 div.sk-parallel-item:last-child::after {align-self: flex-start;width: 50%;}#sk-container-id-10 div.sk-parallel-item:only-child::after {width: 0;}#sk-container-id-10 div.sk-dashed-wrapped {border: 1px dashed gray;margin: 0 0.4em 0.5em 0.4em;box-sizing: border-box;padding-bottom: 0.4em;background-color: white;}#sk-container-id-10 div.sk-label label {font-family: monospace;font-weight: bold;display: inline-block;line-height: 1.2em;}#sk-container-id-10 div.sk-label-container {text-align: center;}#sk-container-id-10 div.sk-container {/* jupyter's `normalize.less` sets `[hidden] { display: none; }` but bootstrap.min.css set `[hidden] { display: none !important; }` so we also need the `!important` here to be able to override the default hidden behavior on the sphinx rendered scikit-learn.org. See: https://github.com/scikit-learn/scikit-learn/issues/21755 */display: inline-block !important;position: relative;}#sk-container-id-10 div.sk-text-repr-fallback {display: none;}</style><div id=\"sk-container-id-10\" class=\"sk-top-container\"><div class=\"sk-text-repr-fallback\"><pre>RandomForestClassifier(max_depth=3, min_samples_leaf=5)</pre><b>In a Jupyter environment, please rerun this cell to show the HTML representation or trust the notebook. <br />On GitHub, the HTML representation is unable to render, please try loading this page with nbviewer.org.</b></div><div class=\"sk-container\" hidden><div class=\"sk-item\"><div class=\"sk-estimator sk-toggleable\"><input class=\"sk-toggleable__control sk-hidden--visually\" id=\"sk-estimator-id-10\" type=\"checkbox\" checked><label for=\"sk-estimator-id-10\" class=\"sk-toggleable__label sk-toggleable__label-arrow\">RandomForestClassifier</label><div class=\"sk-toggleable__content\"><pre>RandomForestClassifier(max_depth=3, min_samples_leaf=5)</pre></div></div></div></div></div>"
            ]
          },
          "metadata": {},
          "execution_count": 31
        }
      ],
      "source": [
        "RandomForest = RandomForestClassifier(n_estimators=100, max_depth=3, min_samples_leaf=5)\n",
        "RandomForest.fit(X_train_ica_ml, y_train)"
      ]
    },
    {
      "cell_type": "code",
      "source": [],
      "metadata": {
        "id": "-_otNw6-Xm-N"
      },
      "execution_count": null,
      "outputs": []
    },
    {
      "cell_type": "markdown",
      "source": [
        "### DL"
      ],
      "metadata": {
        "id": "iclNjb74Xt3f"
      }
    },
    {
      "cell_type": "code",
      "execution_count": 32,
      "metadata": {
        "colab": {
          "base_uri": "https://localhost:8080/"
        },
        "id": "nCQEjSPGe__M",
        "outputId": "731f0f7a-bec0-4de0-c1fd-7c02870bdff3"
      },
      "outputs": [
        {
          "output_type": "execute_result",
          "data": {
            "text/plain": [
              "((28, 32, 32), (8, 32, 32), (28,), (9,))"
            ]
          },
          "metadata": {},
          "execution_count": 32
        }
      ],
      "source": [
        "X_train_dl, X_val, y_train_dl, y_val = train_test_split(X_train, y_train, test_size=0.2, random_state=42)\n",
        "\n",
        "X_train_dl.shape, X_val.shape, y_train_dl.shape, y_test.shape"
      ]
    },
    {
      "cell_type": "code",
      "execution_count": 33,
      "metadata": {
        "id": "e3g7b-mHcCTV"
      },
      "outputs": [],
      "source": [
        "scalar = StandardScaler3D()\n",
        "\n",
        "X_train_dl = scalar.fit_transform(X_train_dl)\n",
        "X_val = scalar.transform(X_val)\n",
        "X_test_dl = scalar.transform(X_test)\n"
      ]
    },
    {
      "cell_type": "markdown",
      "metadata": {
        "id": "cO6t-jqnq4Lr"
      },
      "source": [
        "#### CNN"
      ]
    },
    {
      "cell_type": "code",
      "execution_count": 34,
      "metadata": {
        "colab": {
          "base_uri": "https://localhost:8080/",
          "height": 1000
        },
        "outputId": "93d75813-e2ac-4b7f-97af-1c51c41df123",
        "id": "QKNhWDdZq4Ls"
      },
      "outputs": [
        {
          "output_type": "stream",
          "name": "stdout",
          "text": [
            "Epoch 1/70\n",
            "1/1 [==============================] - 3s 3s/step - loss: 0.7064 - accuracy: 0.4643 - val_loss: 0.7417 - val_accuracy: 0.3750\n",
            "Epoch 2/70\n",
            "1/1 [==============================] - 0s 42ms/step - loss: 0.5624 - accuracy: 0.8571 - val_loss: 0.7913 - val_accuracy: 0.3750\n",
            "Epoch 3/70\n",
            "1/1 [==============================] - 0s 42ms/step - loss: 0.4746 - accuracy: 0.8929 - val_loss: 0.8347 - val_accuracy: 0.3750\n",
            "Epoch 4/70\n",
            "1/1 [==============================] - 0s 44ms/step - loss: 0.4019 - accuracy: 0.9286 - val_loss: 0.8575 - val_accuracy: 0.3750\n",
            "Epoch 5/70\n",
            "1/1 [==============================] - 0s 45ms/step - loss: 0.3347 - accuracy: 1.0000 - val_loss: 0.8876 - val_accuracy: 0.3750\n",
            "Epoch 6/70\n",
            "1/1 [==============================] - 0s 50ms/step - loss: 0.2735 - accuracy: 1.0000 - val_loss: 0.9379 - val_accuracy: 0.3750\n",
            "1/1 [==============================] - 0s 213ms/step\n",
            "Accuracy: 0.7777777777777778\n",
            "Recall: 0.7777777777777778\n",
            "Precision: 0.8333333333333334\n",
            "F1-score: 0.738095238095238\n",
            "Classification Report (Test):\n",
            "               precision    recall  f1-score   support\n",
            "\n",
            "           0       1.00      0.33      0.50         3\n",
            "           1       0.75      1.00      0.86         6\n",
            "\n",
            "    accuracy                           0.78         9\n",
            "   macro avg       0.88      0.67      0.68         9\n",
            "weighted avg       0.83      0.78      0.74         9\n",
            "\n"
          ]
        },
        {
          "output_type": "display_data",
          "data": {
            "text/plain": [
              "<Figure size 800x600 with 1 Axes>"
            ],
            "image/png": "[encoded data removed]"
          },
          "metadata": {}
        },
        {
          "output_type": "display_data",
          "data": {
            "text/plain": [
              "<Figure size 640x480 with 1 Axes>"
            ],
            "image/png": "[encoded data removed]"
          },
          "metadata": {}
        },
        {
          "output_type": "display_data",
          "data": {
            "text/plain": [
              "<Figure size 640x480 with 1 Axes>"
            ],
            "image/png": "[encoded data removed]"
          },
          "metadata": {}
        }
      ],
      "source": [
        "import tensorflow as tf\n",
        "from tensorflow.keras.layers import Input,Dense,concatenate,Flatten,GRU,Conv1D, MaxPooling1D\n",
        "from tensorflow.keras.models import Model\n",
        "from tensorflow.keras.optimizers import Adam,SGD\n",
        "from tensorflow.keras.callbacks import EarlyStopping\n",
        "\n",
        "def block(input):\n",
        "    conv1 = Conv1D(32, 2, strides=2, activation='relu', padding=\"same\")(input)\n",
        "    conv2 = Conv1D(32, 4, strides=2, activation='relu', padding=\"causal\")(input)\n",
        "    conv3 = Conv1D(32, 8, strides=2, activation='relu', padding=\"causal\")(input)\n",
        "    x = concatenate([conv1, conv2, conv3], axis=2)\n",
        "    return x\n",
        "\n",
        "# Define the input layer with a shape of (32, 32)\n",
        "input_layer = Input(shape=(32, 32))\n",
        "\n",
        "# Create the first block\n",
        "block1 = block(input_layer)\n",
        "\n",
        "# Create the second block using the 'block' function with the output of the first block as input\n",
        "block2 = block(block1)\n",
        "\n",
        "# Create the third block using the 'block' function with the output of the second block as input\n",
        "block3 = block(block2)\n",
        "\n",
        "cnn_out1 = Conv1D(32, 3, activation='relu', padding='same')(block3)\n",
        "cnn_out2 = Conv1D(32, 3, activation='relu', padding='same')(cnn_out1)\n",
        "cnn_out3 = MaxPooling1D(pool_size=2)(cnn_out2)\n",
        "cnn_out4 = Flatten()(cnn_out3)\n",
        "\n",
        "# Create a Dense layer with 1 unit and sigmoid activation for binary classification\n",
        "predictions = Dense(1, activation='sigmoid')(cnn_out4)\n",
        "\n",
        "# Define the model with 'input_layer' as the input and 'predictions' as the output\n",
        "cnn_model = Model(inputs=input_layer, outputs=predictions)\n",
        "\n",
        "# Specify the Adam optimizer with a learning rate of 0.0001\n",
        "optimizer = Adam(learning_rate=0.001)\n",
        "\n",
        "# Compile the model with binary crossentropy loss and accuracy as the evaluation metric\n",
        "cnn_model.compile(optimizer=optimizer, loss='binary_crossentropy', metrics=['accuracy'])\n",
        "\n",
        "# Define early stopping callback\n",
        "early_stopping = EarlyStopping(monitor='val_loss', patience=5, restore_best_weights=True)\n",
        "\n",
        "# Train the model using training features and labels\n",
        "hist = cnn_model.fit(X_train_dl, y_train_dl, epochs=70, batch_size=64,\n",
        "                 validation_data=(X_val, y_val), callbacks=[early_stopping])\n",
        "\n",
        "# evaluate the model\n",
        "evaluate(cnn_model,  X_test_dl, y_test)\n",
        "\n",
        "\n",
        "# plot model accuracy and loss of training and validation\n",
        "plot_history(hist)"
      ]
    },
    {
      "cell_type": "markdown",
      "metadata": {
        "id": "JAGghKEbq4Ls"
      },
      "source": [
        "#### LSTM"
      ]
    },
    {
      "cell_type": "code",
      "execution_count": 36,
      "metadata": {
        "colab": {
          "base_uri": "https://localhost:8080/",
          "height": 1000
        },
        "outputId": "2b6d7351-557f-4dcc-a880-46d912754161",
        "id": "oCgts2A3q4Ls"
      },
      "outputs": [
        {
          "output_type": "stream",
          "name": "stdout",
          "text": [
            "Epoch 1/30\n",
            "3/3 [==============================] - 5s 498ms/step - loss: 0.6978 - accuracy: 0.4286 - val_loss: 0.6968 - val_accuracy: 0.5000\n",
            "Epoch 2/30\n",
            "3/3 [==============================] - 0s 42ms/step - loss: 0.6810 - accuracy: 0.6429 - val_loss: 0.7024 - val_accuracy: 0.5000\n",
            "Epoch 3/30\n",
            "3/3 [==============================] - 0s 42ms/step - loss: 0.6691 - accuracy: 0.6786 - val_loss: 0.7079 - val_accuracy: 0.5000\n",
            "Epoch 4/30\n",
            "3/3 [==============================] - 0s 45ms/step - loss: 0.6647 - accuracy: 0.6429 - val_loss: 0.7135 - val_accuracy: 0.5000\n",
            "Epoch 5/30\n",
            "3/3 [==============================] - 0s 41ms/step - loss: 0.6454 - accuracy: 0.6786 - val_loss: 0.7210 - val_accuracy: 0.5000\n",
            "Epoch 6/30\n",
            "3/3 [==============================] - 0s 49ms/step - loss: 0.6144 - accuracy: 0.7500 - val_loss: 0.7292 - val_accuracy: 0.3750\n",
            "1/1 [==============================] - 1s 756ms/step\n",
            "Accuracy: 0.8888888888888888\n",
            "Recall: 0.8888888888888888\n",
            "Precision: 0.9047619047619047\n",
            "F1-score: 0.882051282051282\n",
            "Classification Report (Test):\n",
            "               precision    recall  f1-score   support\n",
            "\n",
            "           0       1.00      0.67      0.80         3\n",
            "           1       0.86      1.00      0.92         6\n",
            "\n",
            "    accuracy                           0.89         9\n",
            "   macro avg       0.93      0.83      0.86         9\n",
            "weighted avg       0.90      0.89      0.88         9\n",
            "\n"
          ]
        },
        {
          "output_type": "display_data",
          "data": {
            "text/plain": [
              "<Figure size 800x600 with 1 Axes>"
            ],
            "image/png": "[encoded data removed]"
          },
          "metadata": {}
        },
        {
          "output_type": "display_data",
          "data": {
            "text/plain": [
              "<Figure size 640x480 with 1 Axes>"
            ],
            "image/png": "[encoded data removed]"
          },
          "metadata": {}
        },
        {
          "output_type": "display_data",
          "data": {
            "text/plain": [
              "<Figure size 640x480 with 1 Axes>"
            ],
            "image/png": "[encoded data removed]"
          },
          "metadata": {}
        }
      ],
      "source": [
        "from tensorflow.keras.models import Sequential\n",
        "from tensorflow.keras.layers import LSTM, Dense, Dropout\n",
        "from tensorflow.keras.callbacks import EarlyStopping\n",
        "from tensorflow.keras.optimizers import SGD, Adam\n",
        "\n",
        "lstm_model = Sequential()\n",
        "lstm_model.add(LSTM(units = 50, return_sequences = True, input_shape = (32, 32)))\n",
        "lstm_model.add(Dropout(0.2))\n",
        "lstm_model.add(LSTM(units = 25))\n",
        "lstm_model.add(Dropout(0.2))\n",
        "lstm_model.add(Dense(units = 1, activation = 'sigmoid'))\n",
        "optimizer = Adam(learning_rate=0.001)\n",
        "lstm_model.compile(optimizer = optimizer, loss = 'binary_crossentropy', metrics = ['accuracy'])\n",
        "\n",
        "# Define early stopping callback\n",
        "early_stopping = EarlyStopping(monitor='val_loss', patience=5, restore_best_weights=True)\n",
        "\n",
        "hist = lstm_model.fit(X_train_dl, y_train_dl, epochs=30, batch_size=10, validation_data=(X_val, y_val), callbacks=[early_stopping])\n",
        "\n",
        "# Evaluate the model\n",
        "evaluate(lstm_model, X_test_dl, y_test)\n",
        "\n",
        "# Plot the history\n",
        "plot_history(hist)"
      ]
    },
    {
      "cell_type": "markdown",
      "metadata": {
        "id": "cs7VHV_pq4Ls"
      },
      "source": [
        "#### CNN+LSTM"
      ]
    },
    {
      "cell_type": "code",
      "execution_count": 37,
      "metadata": {
        "colab": {
          "base_uri": "https://localhost:8080/",
          "height": 1000
        },
        "outputId": "d5fb25bb-5897-4c7b-b584-086c68510861",
        "id": "BwqwTpRgq4Lt"
      },
      "outputs": [
        {
          "output_type": "stream",
          "name": "stdout",
          "text": [
            "Epoch 1/70\n",
            "1/1 [==============================] - 4s 4s/step - loss: 0.6921 - accuracy: 0.4286 - val_loss: 0.6982 - val_accuracy: 0.3750\n",
            "Epoch 2/70\n",
            "1/1 [==============================] - 0s 48ms/step - loss: 0.6494 - accuracy: 0.7500 - val_loss: 0.7372 - val_accuracy: 0.3750\n",
            "Epoch 3/70\n",
            "1/1 [==============================] - 0s 49ms/step - loss: 0.6227 - accuracy: 0.6429 - val_loss: 0.7635 - val_accuracy: 0.3750\n",
            "Epoch 4/70\n",
            "1/1 [==============================] - 0s 50ms/step - loss: 0.5994 - accuracy: 0.6429 - val_loss: 0.7703 - val_accuracy: 0.3750\n",
            "Epoch 5/70\n",
            "1/1 [==============================] - 0s 47ms/step - loss: 0.5706 - accuracy: 0.6429 - val_loss: 0.7604 - val_accuracy: 0.3750\n",
            "Epoch 6/70\n",
            "1/1 [==============================] - 0s 58ms/step - loss: 0.5352 - accuracy: 0.7143 - val_loss: 0.7407 - val_accuracy: 0.3750\n",
            "1/1 [==============================] - 0s 494ms/step\n",
            "Accuracy: 0.7777777777777778\n",
            "Recall: 0.7777777777777778\n",
            "Precision: 0.8333333333333334\n",
            "F1-score: 0.738095238095238\n",
            "Classification Report (Test):\n",
            "               precision    recall  f1-score   support\n",
            "\n",
            "           0       1.00      0.33      0.50         3\n",
            "           1       0.75      1.00      0.86         6\n",
            "\n",
            "    accuracy                           0.78         9\n",
            "   macro avg       0.88      0.67      0.68         9\n",
            "weighted avg       0.83      0.78      0.74         9\n",
            "\n"
          ]
        },
        {
          "output_type": "display_data",
          "data": {
            "text/plain": [
              "<Figure size 800x600 with 1 Axes>"
            ],
            "image/png": "[encoded data removed]"
          },
          "metadata": {}
        },
        {
          "output_type": "display_data",
          "data": {
            "text/plain": [
              "<Figure size 640x480 with 1 Axes>"
            ],
            "image/png": "[encoded data removed]"
          },
          "metadata": {}
        },
        {
          "output_type": "display_data",
          "data": {
            "text/plain": [
              "<Figure size 640x480 with 1 Axes>"
            ],
            "image/png": "[encoded data removed]"
          },
          "metadata": {}
        }
      ],
      "source": [
        "from tensorflow.keras.layers import Input, Conv1D, concatenate, Dense, MaxPooling1D, Flatten, LSTM\n",
        "from tensorflow.keras.models import Model\n",
        "from tensorflow.keras.optimizers import Adam, SGD\n",
        "from tensorflow.keras.callbacks import EarlyStopping\n",
        "\n",
        "# Define the input layer with a shape of (32, 32)\n",
        "input_layer = Input(shape=(32, 32))\n",
        "\n",
        "# Convolutional Block\n",
        "conv1 = Conv1D(32, 2, strides=2, activation='relu', padding=\"same\")(input_layer)\n",
        "conv2 = Conv1D(32, 4, strides=2, activation='relu', padding=\"causal\")(input_layer)\n",
        "conv3 = Conv1D(32, 8, strides=2, activation='relu', padding=\"causal\")(input_layer)\n",
        "cnn_output = concatenate([conv1, conv2, conv3], axis=2)\n",
        "\n",
        "# LSTM Layer\n",
        "lstm_layer = LSTM(50)(cnn_output)\n",
        "\n",
        "# Fully Connected Layers\n",
        "dense1 = Dense(32, activation='tanh')(lstm_layer)\n",
        "\n",
        "# Output Layer\n",
        "predictions = Dense(1, activation='sigmoid')(dense1)\n",
        "\n",
        "# Create the model\n",
        "cnnlstm_model = Model(inputs=input_layer, outputs=predictions)\n",
        "\n",
        "# Compile the model\n",
        "optimizer = Adam(learning_rate=0.001)\n",
        "cnnlstm_model.compile(optimizer=optimizer, loss='binary_crossentropy', metrics=['accuracy'])\n",
        "\n",
        "# Define early stopping callback\n",
        "early_stopping = EarlyStopping(monitor='val_loss', patience=5, restore_best_weights=True)\n",
        "\n",
        "\n",
        "hist = cnnlstm_model.fit(X_train_dl, y_train_dl, epochs=70,\n",
        "                 batch_size=64, validation_data=(X_val, y_val), callbacks=[early_stopping])\n",
        "\n",
        "# Evaluate the model\n",
        "evaluate(cnnlstm_model,X_test_dl, y_test)\n",
        "\n",
        "# Plot the history\n",
        "plot_history(hist)"
      ]
    },
    {
      "cell_type": "markdown",
      "metadata": {
        "id": "KdLgINnrq4Lt"
      },
      "source": [
        "#### CNN+GRU"
      ]
    },
    {
      "cell_type": "code",
      "execution_count": 39,
      "metadata": {
        "colab": {
          "base_uri": "https://localhost:8080/",
          "height": 1000
        },
        "outputId": "8e1b9ec8-18c3-4d01-dec4-c627d5715367",
        "id": "5ib4TSXWq4Lu"
      },
      "outputs": [
        {
          "output_type": "stream",
          "name": "stdout",
          "text": [
            "Epoch 1/70\n",
            "1/1 [==============================] - 11s 11s/step - loss: 0.7636 - accuracy: 0.3929 - val_loss: 0.7225 - val_accuracy: 0.3750\n",
            "Epoch 2/70\n",
            "1/1 [==============================] - 0s 56ms/step - loss: 0.6408 - accuracy: 0.6786 - val_loss: 0.8231 - val_accuracy: 0.3750\n",
            "Epoch 3/70\n",
            "1/1 [==============================] - 0s 64ms/step - loss: 0.6053 - accuracy: 0.6071 - val_loss: 0.8901 - val_accuracy: 0.3750\n",
            "Epoch 4/70\n",
            "1/1 [==============================] - 0s 61ms/step - loss: 0.5767 - accuracy: 0.6071 - val_loss: 0.9058 - val_accuracy: 0.3750\n",
            "Epoch 5/70\n",
            "1/1 [==============================] - 0s 57ms/step - loss: 0.5232 - accuracy: 0.6071 - val_loss: 0.8829 - val_accuracy: 0.3750\n",
            "Epoch 6/70\n",
            "1/1 [==============================] - 0s 71ms/step - loss: 0.4536 - accuracy: 0.7500 - val_loss: 0.8448 - val_accuracy: 0.3750\n",
            "1/1 [==============================] - 2s 2s/step\n",
            "Accuracy: 0.7777777777777778\n",
            "Recall: 0.7777777777777778\n",
            "Precision: 0.7777777777777778\n",
            "F1-score: 0.7777777777777778\n",
            "Classification Report (Test):\n",
            "               precision    recall  f1-score   support\n",
            "\n",
            "           0       0.67      0.67      0.67         3\n",
            "           1       0.83      0.83      0.83         6\n",
            "\n",
            "    accuracy                           0.78         9\n",
            "   macro avg       0.75      0.75      0.75         9\n",
            "weighted avg       0.78      0.78      0.78         9\n",
            "\n"
          ]
        },
        {
          "output_type": "display_data",
          "data": {
            "text/plain": [
              "<Figure size 800x600 with 1 Axes>"
            ],
            "image/png": "[encoded data removed]"
          },
          "metadata": {}
        }
      ],
      "source": [
        "import tensorflow as tf\n",
        "from tensorflow.keras.layers import Input,Dense,concatenate,Flatten,GRU,Conv1D\n",
        "from tensorflow.keras.models import Model\n",
        "from tensorflow.keras.optimizers import Adam\n",
        "from tensorflow.keras.callbacks import EarlyStopping\n",
        "\n",
        "#resource:https://github.com/dll-ncai/eeg_pre-diagnostic_screening/blob/master/code/chrononet/chrono.py\n",
        "\n",
        "def block(input):\n",
        "\n",
        "  \"\"\"\n",
        "    Create a block consisting of three parallel convolutional layers followed by concatenation.\n",
        "\n",
        "    Parameters:\n",
        "    - input: Input tensor.\n",
        "\n",
        "    Returns:\n",
        "    - Concatenated tensor resulting from the parallel convolutional layers.\n",
        "    \"\"\"\n",
        "\n",
        "  conv1 = Conv1D(32, 2, strides=2,activation='relu',padding=\"same\")(input)\n",
        "  conv2 = Conv1D(32, 4, strides=2,activation='relu',padding=\"causal\")(input)\n",
        "  conv3 = Conv1D(32, 8, strides=2,activation='relu',padding=\"causal\")(input)\n",
        "  x = concatenate([conv1,conv2,conv3],axis=2)\n",
        "  return x\n",
        "\n",
        "# Define the input layer with a shape of (32, 32)\n",
        "input = Input(shape=(32, 32))\n",
        "\n",
        "# Create the first block\n",
        "block1 = block(input)\n",
        "\n",
        "# Create the second block using the 'block' function with the output of the first block as input\n",
        "block2 = block(block1)\n",
        "\n",
        "# Create the third block using the 'block' function with the output of the second block as input\n",
        "block3 = block(block2)\n",
        "\n",
        "gru_out1 = GRU(32,activation='tanh',return_sequences=True)(block3)\n",
        "gru_out2 = GRU(32,activation='tanh',return_sequences=True)(gru_out1)\n",
        "gru_out = concatenate([gru_out1,gru_out2],axis=2)\n",
        "gru_out3 = GRU(32,activation='tanh',return_sequences=True)(gru_out)\n",
        "gru_out = concatenate([gru_out1,gru_out2,gru_out3])\n",
        "gru_out4 = GRU(32,activation='tanh')(gru_out)\n",
        "\n",
        "# Create a Dense layer with 1 unit and sigmoid activation for binary classification\n",
        "predictions = Dense(1, activation='sigmoid')(gru_out4)\n",
        "\n",
        "# Define the model with 'input' as the input and 'predictions' as the output\n",
        "CNNGRU_model = Model(inputs=input, outputs=predictions)\n",
        "\n",
        "# Specify the Adam optimizer with a learning rate of 0.0001\n",
        "optimizer = Adam(learning_rate=0.001)\n",
        "\n",
        "# Compile the model with binary crossentropy loss and accuracy as the evaluation metric\n",
        "CNNGRU_model.compile(optimizer=optimizer, loss='binary_crossentropy', metrics=['accuracy'])\n",
        "\n",
        "# Define early stopping callback\n",
        "early_stopping = EarlyStopping(monitor='val_loss', patience=5, restore_best_weights=True)\n",
        "\n",
        "hist = CNNGRU_model.fit(X_train_dl, y_train_dl, epochs = 70, batch_size = 32,\n",
        "                 validation_data=(X_val, y_val), callbacks=[early_stopping])\n",
        "\n",
        "# Evaluate the model\n",
        "evaluate(CNNGRU_model, X_test_dl, y_test)\n",
        "\n",
        "# Plot the history\n",
        "# plot_history(hist)"
      ]
    },
    {
      "cell_type": "markdown",
      "metadata": {
        "id": "pURvCXWvq4Lu"
      },
      "source": [
        "#### RNN"
      ]
    },
    {
      "cell_type": "code",
      "execution_count": 49,
      "metadata": {
        "colab": {
          "base_uri": "https://localhost:8080/",
          "height": 1000
        },
        "outputId": "be3f7a3c-e735-4470-bce3-f73115506c38",
        "id": "hhm06rISq4Lu"
      },
      "outputs": [
        {
          "output_type": "stream",
          "name": "stdout",
          "text": [
            "Epoch 1/70\n",
            "1/1 [==============================] - 2s 2s/step - loss: 0.7003 - accuracy: 0.5714 - val_loss: 0.6480 - val_accuracy: 0.5000\n",
            "Epoch 2/70\n",
            "1/1 [==============================] - 0s 55ms/step - loss: 0.4563 - accuracy: 0.8571 - val_loss: 0.6498 - val_accuracy: 0.6250\n",
            "Epoch 3/70\n",
            "1/1 [==============================] - 0s 52ms/step - loss: 0.3135 - accuracy: 1.0000 - val_loss: 0.6526 - val_accuracy: 0.6250\n",
            "Epoch 4/70\n",
            "1/1 [==============================] - 0s 56ms/step - loss: 0.2235 - accuracy: 1.0000 - val_loss: 0.6553 - val_accuracy: 0.5000\n",
            "1/1 [==============================] - 0s 257ms/step\n",
            "Accuracy: 0.3333333333333333\n",
            "Recall: 0.3333333333333333\n",
            "Precision: 0.4\n",
            "F1-score: 0.35000000000000003\n",
            "Classification Report (Test):\n",
            "               precision    recall  f1-score   support\n",
            "\n",
            "           0       0.20      0.33      0.25         3\n",
            "           1       0.50      0.33      0.40         6\n",
            "\n",
            "    accuracy                           0.33         9\n",
            "   macro avg       0.35      0.33      0.33         9\n",
            "weighted avg       0.40      0.33      0.35         9\n",
            "\n"
          ]
        },
        {
          "output_type": "display_data",
          "data": {
            "text/plain": [
              "<Figure size 800x600 with 1 Axes>"
            ],
            "image/png": "[encoded data removed]"
          },
          "metadata": {}
        },
        {
          "output_type": "display_data",
          "data": {
            "text/plain": [
              "<Figure size 640x480 with 1 Axes>"
            ],
            "image/png": "[encoded data removed]"
          },
          "metadata": {}
        },
        {
          "output_type": "display_data",
          "data": {
            "text/plain": [
              "<Figure size 640x480 with 1 Axes>"
            ],
            "image/png": "[encoded data removed]"
          },
          "metadata": {}
        }
      ],
      "source": [
        "from tensorflow.keras.layers import Input\n",
        "from tensorflow.keras.models import Sequential\n",
        "from tensorflow.keras.layers import SimpleRNN, Dense\n",
        "from tensorflow.keras.callbacks import EarlyStopping\n",
        "from tensorflow.keras.optimizers import Adam\n",
        "import tensorflow as tf\n",
        "\n",
        "input_shape = (32, 32)  # Define input shape as a tuple\n",
        "\n",
        "def create_model(input_shape):\n",
        "    model = Sequential()\n",
        "    model.add(SimpleRNN(128, input_shape=input_shape, return_sequences=True))  # RNN layer with 128 units and return sequences\n",
        "    model.add(SimpleRNN(128))  # Additional RNN layer with 128 units\n",
        "    model.add(Dense(64, activation='relu'))  # Dense layer with 64 units and ReLU activation\n",
        "    model.add(Dense(1, activation='sigmoid'))  # Output layer with sigmoid activation\n",
        "\n",
        "    return model\n",
        "\n",
        "# Pass input shape tuple to the create_model function\n",
        "rnn_model = create_model(input_shape)\n",
        "\n",
        "optimizer = tf.keras.optimizers.Adam(learning_rate=0.001)\n",
        "rnn_model.compile(loss='binary_crossentropy', optimizer=optimizer, metrics=['accuracy'])\n",
        "\n",
        "early_stopping = EarlyStopping(monitor='val_loss', patience=3, restore_best_weights=True)\n",
        "\n",
        "hist = rnn_model.fit(X_train_dl, y_train_dl, epochs=70, batch_size=64, validation_data=(X_val, y_val), callbacks=[early_stopping])\n",
        "\n",
        "# Evaluate the model\n",
        "evaluate(rnn_model, X_test_dl, y_test)\n",
        "\n",
        "# Plot the history\n",
        "plot_history(hist)"
      ]
    },
    {
      "cell_type": "markdown",
      "metadata": {
        "id": "0KrBtv8-dr88"
      },
      "source": [
        "### Voting"
      ]
    },
    {
      "cell_type": "code",
      "source": [
        "# 4. Generate predictions\n",
        "bernoulli_nb_predictions_ica = bernoulli_nb.predict(X_test_ica_ml).reshape(-1, 1)\n",
        "dt_predictions_ica = decision_tree.predict(X_test_ica_ml).reshape(-1, 1)\n",
        "xgboost_predictions_ica = xgboost.predict(X_test_ica_ml).reshape(-1, 1)\n",
        "RandomForest_predictions_ica= RandomForest.predict(X_test_ica_ml).reshape(-1, 1)\n",
        "Adaboost_predictions_ica = Adaboost.predict(X_test_ica_ml).reshape(-1, 1)\n",
        "\n",
        "cnn_model_predictions_ica = cnn_model.predict(X_test_dl).reshape(-1, 1)\n",
        "lstm_model_predictions_ica = lstm_model.predict(X_test_dl).reshape(-1, 1)\n",
        "cnnlstm_model_predictions_ica = cnnlstm_model.predict(X_test_dl).reshape(-1, 1)\n",
        "cnngru_model_predictions_ica = CNNGRU_model.predict(X_test_dl).reshape(-1, 1)\n",
        "rnn_model_predictions_ica = rnn_model.predict(X_test_dl).reshape(-1, 1)\n",
        "\n",
        "\n",
        "bernoulli_nb_predictions_ica.shape , dt_predictions_ica.shape , xgboost_predictions_ica.shape, RandomForest_predictions_ica.shape"
      ],
      "metadata": {
        "colab": {
          "base_uri": "https://localhost:8080/"
        },
        "id": "C3wbkA5FZ0f6",
        "outputId": "d15c7b47-ace1-48e6-9087-70cf86acdf94"
      },
      "execution_count": 56,
      "outputs": [
        {
          "output_type": "stream",
          "name": "stdout",
          "text": [
            "1/1 [==============================] - 0s 24ms/step\n",
            "1/1 [==============================] - 0s 28ms/step\n",
            "1/1 [==============================] - 0s 24ms/step\n",
            "1/1 [==============================] - 0s 26ms/step\n",
            "1/1 [==============================] - 0s 27ms/step\n"
          ]
        },
        {
          "output_type": "execute_result",
          "data": {
            "text/plain": [
              "((9, 1), (9, 1), (9, 1), (9, 1))"
            ]
          },
          "metadata": {},
          "execution_count": 56
        }
      ]
    },
    {
      "cell_type": "code",
      "execution_count": 70,
      "metadata": {
        "colab": {
          "base_uri": "https://localhost:8080/"
        },
        "id": "5W79XUI59KVt",
        "outputId": "e2ae73b4-741d-4ccc-fc4a-f9e69568c7ce"
      },
      "outputs": [
        {
          "output_type": "stream",
          "name": "stdout",
          "text": [
            "Ensemble accuracy : 0.8888888888888888\n",
            "Ensemble precision : 0.8571428571428571\n",
            "Ensemble recall : 1.0\n",
            "Ensemble f1 : 0.923076923076923\n"
          ]
        }
      ],
      "source": [
        "# bernoulli_nb_predictions, xgboost_predictions,dt_predictions,RandomForest_predictions\n",
        "from scipy.stats import mode\n",
        "\n",
        "threshold = 0.5\n",
        "bernoulli_nb_predictions_ica = (bernoulli_nb_predictions_ica >= threshold).astype(int)\n",
        "dt_predictions_ica =  (dt_predictions_ica >= threshold).astype(int)\n",
        "xgboost_predictions_ica =  (xgboost_predictions_ica >= threshold).astype(int)\n",
        "Adaboost_predictions_ica =  (Adaboost_predictions_ica >= threshold).astype(int)\n",
        "\n",
        "cnn_model_predictions_ica =  (cnn_model_predictions_ica >= threshold).astype(int)\n",
        "lstm_model_predictions_ica =  (lstm_model_predictions_ica >= threshold).astype(int)\n",
        "cnnlstm_model_predictions_ica =  (cnnlstm_model_predictions_ica >= threshold).astype(int)\n",
        "cnngru_model_predictions_ica =  (cnngru_model_predictions_ica >= threshold).astype(int)\n",
        "rnn_model_predictions_ica =  (rnn_model_predictions_ica >= threshold).astype(int)\n",
        "\n",
        "\n",
        "\n",
        "ensemble_list_ica = [xgboost_predictions_ica,\n",
        "                    dt_predictions_ica,\n",
        "                    cnn_model_predictions_ica,\n",
        "                    lstm_model_predictions_ica,\n",
        "                    cnnlstm_model_predictions_ica,\n",
        "                    cnngru_model_predictions_ica]\n",
        "\n",
        "# Combine predictions\n",
        "ensemble_voting_ica = mode(ensemble_list_ica, axis=0)[0].squeeze()\n",
        "\n",
        "\n",
        "# Compute accuracy using the binary class labels\n",
        "ensemble_accuracy_ica = accuracy_score(y_test, ensemble_voting_ica)\n",
        "precision_ica = precision_score(y_test, ensemble_voting_ica)\n",
        "recall_ica = recall_score(y_test, ensemble_voting_ica)\n",
        "f1_ica = f1_score(y_test, ensemble_voting_ica)\n",
        "\n",
        "print(f'Ensemble accuracy : {ensemble_accuracy_ica}')\n",
        "print(f'Ensemble precision : {precision_ica}')\n",
        "print(f'Ensemble recall : {recall_ica}')\n",
        "print(f'Ensemble f1 : {f1_ica}')\n"
      ]
    },
    {
      "cell_type": "markdown",
      "metadata": {
        "id": "aQ_UHBnCnH7o"
      },
      "source": [
        "### Stacking"
      ]
    },
    {
      "cell_type": "code",
      "source": [
        "from sklearn.ensemble import RandomForestClassifier\n",
        "from sklearn.linear_model import LogisticRegression\n",
        "import xgboost as xgb\n",
        "\n",
        "\n",
        "bernoulli_nb_train = bernoulli_nb.predict(X_train_ica_ml).reshape(-1, 1)\n",
        "dt_train = decision_tree.predict(X_train_ica_ml).reshape(-1, 1)\n",
        "xgboost_train = xgboost.predict(X_train_ica_ml).reshape(-1, 1)\n",
        "RandomForest_train= RandomForest.predict(X_train_ica_ml).reshape(-1, 1)\n",
        "Adaboost_train = Adaboost.predict(X_train_ica_ml).reshape(-1, 1)\n",
        "\n",
        "cnn_model_train = cnn_model.predict(X_train).reshape(-1, 1)\n",
        "lstm_model_train = lstm_model.predict(X_train).reshape(-1, 1)\n",
        "cnnlstm_model_train = cnnlstm_model.predict(X_train).reshape(-1, 1)\n",
        "cnngru_model_train = CNNGRU_model.predict(X_train).reshape(-1, 1)\n",
        "rnn_model_train = rnn_model.predict(X_train).reshape(-1, 1)\n",
        "\n",
        "# lstm_model_train,\n",
        "#                                cnnlstm_model_train,\n",
        "#                                cnngru_model_train,\n",
        "#                                rnn_model_train\n",
        "#making a new dataset for training our final model by stacking the predictions on the validation data\n",
        "train_stack = np.column_stack((dt_train,\n",
        "                               xgboost_train,\n",
        "                               cnn_model_train,\n",
        "                               lstm_model_train,\n",
        "                               cnnlstm_model_train,\n",
        "                               cnngru_model_train))\n",
        "\n",
        "\n",
        "# lstm_model_train,\n",
        "#                                cnnlstm_model_train,\n",
        "#                                cnngru_model_train,\n",
        "#                                rnn_model_train\n",
        "\n",
        "#making the final test set for our final model by stacking the predictions on the test data\n",
        "test_stack = np.column_stack((dt_predictions_ica,\n",
        "                              xgboost_predictions_ica,\n",
        "                              cnn_model_predictions_ica,\n",
        "                              lstm_model_predictions_ica,\n",
        "                              cnnlstm_model_predictions_ica,\n",
        "                              cnngru_model_predictions_ica))\n",
        "\n",
        "final_model = LogisticRegression()\n",
        "\n",
        "\n",
        "#training the final model on the stacked predictions\n",
        "final_model.fit(train_stack,y_train)\n",
        "\n",
        "final_predictions = final_model.predict(test_stack)\n",
        "\n",
        "# Compute accuracy using the binary class labels\n",
        "ensemble_accuracy_ica = accuracy_score(y_test, final_predictions)\n",
        "precision_ica = precision_score(y_test, final_predictions)\n",
        "recall_ica = recall_score(y_test, final_predictions)\n",
        "f1_ica = f1_score(y_test, final_predictions)\n",
        "\n",
        "print(f'Ensemble accuracy : {ensemble_accuracy_ica}')\n",
        "print(f'Ensemble precision : {precision_ica}')\n",
        "print(f'Ensemble recall : {recall_ica}')\n",
        "print(f'Ensemble f1 : {f1_ica}')"
      ],
      "metadata": {
        "colab": {
          "base_uri": "https://localhost:8080/"
        },
        "id": "4bhKsBfdUVyJ",
        "outputId": "4588a536-178b-494b-f8aa-c19aa0ec8396"
      },
      "execution_count": 85,
      "outputs": [
        {
          "output_type": "stream",
          "name": "stdout",
          "text": [
            "2/2 [==============================] - 0s 6ms/step\n",
            "2/2 [==============================] - 0s 11ms/step\n",
            "2/2 [==============================] - 0s 6ms/step\n",
            "2/2 [==============================] - 0s 8ms/step\n",
            "2/2 [==============================] - 0s 9ms/step\n",
            "Ensemble accuracy : 0.8888888888888888\n",
            "Ensemble precision : 0.8571428571428571\n",
            "Ensemble recall : 1.0\n",
            "Ensemble f1 : 0.923076923076923\n"
          ]
        }
      ]
    },
    {
      "cell_type": "markdown",
      "metadata": {
        "id": "VKCG0JibSRMu"
      },
      "source": [
        "# Epochs"
      ]
    },
    {
      "cell_type": "code",
      "execution_count": null,
      "metadata": {
        "colab": {
          "base_uri": "https://localhost:8080/"
        },
        "id": "XCGnOM-dSYiq",
        "outputId": "0a8d2102-3d7e-4985-c44f-527aeaacf98b"
      },
      "outputs": [
        {
          "output_type": "execute_result",
          "data": {
            "text/plain": [
              "((7150, 1250, 33), (7150,), (7150,))"
            ]
          },
          "metadata": {},
          "execution_count": 26
        }
      ],
      "source": [
        "data_array = np.load('/content/drive/MyDrive/GP/GP-Data/data_array.npy')\n",
        "label_array = np.load('/content/drive/MyDrive/GP/GP-Data/label_array.npy')\n",
        "group_array = np.load('/content/drive/MyDrive/GP/GP-Data/group_array.npy')\n",
        "\n",
        "label_array = label_array.astype('int')\n",
        "\n",
        "data_array.shape, label_array.shape, group_array.shape"
      ]
    },
    {
      "cell_type": "code",
      "execution_count": null,
      "metadata": {
        "colab": {
          "base_uri": "https://localhost:8080/"
        },
        "id": "ZJQJzExxSYir",
        "outputId": "7da98761-e0d6-4715-c443-d643dc5d0856"
      },
      "outputs": [
        {
          "output_type": "execute_result",
          "data": {
            "text/plain": [
              "array([0, 1, 2])"
            ]
          },
          "metadata": {},
          "execution_count": 27
        }
      ],
      "source": [
        "np.unique(label_array)"
      ]
    },
    {
      "cell_type": "code",
      "execution_count": null,
      "metadata": {
        "colab": {
          "base_uri": "https://localhost:8080/"
        },
        "id": "OZhiB8oPSYis",
        "outputId": "82744266-ac13-423d-d283-02363a17fb6e"
      },
      "outputs": [
        {
          "output_type": "stream",
          "name": "stdout",
          "text": [
            "group=[ 0  1  2  3  4  5  6  7  8 10 11 12 13 15 16 18 19 20 22 23 25 27 28 29\n",
            " 30 31 34 36 37 38 39 40 41 42 43 44 45 46 47]\n",
            "group=[ 9 14 17 21 24 26 32 33 35]\n"
          ]
        }
      ],
      "source": [
        "# Load your dataset and split into training and testing sets\n",
        "X_train, X_test, y_train, y_test, _= two_splits(data_array, label_array, group_array)\n",
        "\n",
        "\n",
        "y_train[y_train==0] = 1 #Stroke\n",
        "y_train[y_train==2] = 0 #Healthy\n",
        "\n",
        "y_test[y_test==0] = 1 #Stroke\n",
        "y_test[y_test==2] = 0 #Healthy\n"
      ]
    },
    {
      "cell_type": "code",
      "execution_count": null,
      "metadata": {
        "colab": {
          "base_uri": "https://localhost:8080/"
        },
        "id": "as4srslWSYis",
        "outputId": "42024714-c2d9-4dd4-cc0a-01414c40b2eb"
      },
      "outputs": [
        {
          "output_type": "execute_result",
          "data": {
            "text/plain": [
              "(array([0, 1]), array([0, 1]))"
            ]
          },
          "metadata": {},
          "execution_count": 30
        }
      ],
      "source": [
        "np.unique(y_train), np.unique(y_test)"
      ]
    },
    {
      "cell_type": "code",
      "execution_count": null,
      "metadata": {
        "id": "8DjBWI4ASYis"
      },
      "outputs": [],
      "source": [
        "# Flatten the data array for ML models\n",
        "X_train = X_train.reshape(X_train.shape[0], -1)\n",
        "X_test = X_test.reshape(X_test.shape[0], -1)\n",
        "# y_train = y_train.reshape(y_train.shape[0], -1)\n",
        "# y_test = y_test.reshape(y_test.shape[0], -1)"
      ]
    },
    {
      "cell_type": "code",
      "source": [],
      "metadata": {
        "id": "Cjo0fL53Xw_6"
      },
      "execution_count": null,
      "outputs": []
    },
    {
      "cell_type": "code",
      "execution_count": null,
      "metadata": {
        "colab": {
          "base_uri": "https://localhost:8080/",
          "height": 75
        },
        "outputId": "6a630a7b-27e1-4492-816d-84d27321ab34",
        "id": "zXIZU7CBXxec"
      },
      "outputs": [
        {
          "output_type": "execute_result",
          "data": {
            "text/plain": [
              "BernoulliNB(alpha=0.1)"
            ],
            "text/html": [
              "<style>#sk-container-id-11 {color: black;background-color: white;}#sk-container-id-11 pre{padding: 0;}#sk-container-id-11 div.sk-toggleable {background-color: white;}#sk-container-id-11 label.sk-toggleable__label {cursor: pointer;display: block;width: 100%;margin-bottom: 0;padding: 0.3em;box-sizing: border-box;text-align: center;}#sk-container-id-11 label.sk-toggleable__label-arrow:before {content: \"▸\";float: left;margin-right: 0.25em;color: #696969;}#sk-container-id-11 label.sk-toggleable__label-arrow:hover:before {color: black;}#sk-container-id-11 div.sk-estimator:hover label.sk-toggleable__label-arrow:before {color: black;}#sk-container-id-11 div.sk-toggleable__content {max-height: 0;max-width: 0;overflow: hidden;text-align: left;background-color: #f0f8ff;}#sk-container-id-11 div.sk-toggleable__content pre {margin: 0.2em;color: black;border-radius: 0.25em;background-color: #f0f8ff;}#sk-container-id-11 input.sk-toggleable__control:checked~div.sk-toggleable__content {max-height: 200px;max-width: 100%;overflow: auto;}#sk-container-id-11 input.sk-toggleable__control:checked~label.sk-toggleable__label-arrow:before {content: \"▾\";}#sk-container-id-11 div.sk-estimator input.sk-toggleable__control:checked~label.sk-toggleable__label {background-color: #d4ebff;}#sk-container-id-11 div.sk-label input.sk-toggleable__control:checked~label.sk-toggleable__label {background-color: #d4ebff;}#sk-container-id-11 input.sk-hidden--visually {border: 0;clip: rect(1px 1px 1px 1px);clip: rect(1px, 1px, 1px, 1px);height: 1px;margin: -1px;overflow: hidden;padding: 0;position: absolute;width: 1px;}#sk-container-id-11 div.sk-estimator {font-family: monospace;background-color: #f0f8ff;border: 1px dotted black;border-radius: 0.25em;box-sizing: border-box;margin-bottom: 0.5em;}#sk-container-id-11 div.sk-estimator:hover {background-color: #d4ebff;}#sk-container-id-11 div.sk-parallel-item::after {content: \"\";width: 100%;border-bottom: 1px solid gray;flex-grow: 1;}#sk-container-id-11 div.sk-label:hover label.sk-toggleable__label {background-color: #d4ebff;}#sk-container-id-11 div.sk-serial::before {content: \"\";position: absolute;border-left: 1px solid gray;box-sizing: border-box;top: 0;bottom: 0;left: 50%;z-index: 0;}#sk-container-id-11 div.sk-serial {display: flex;flex-direction: column;align-items: center;background-color: white;padding-right: 0.2em;padding-left: 0.2em;position: relative;}#sk-container-id-11 div.sk-item {position: relative;z-index: 1;}#sk-container-id-11 div.sk-parallel {display: flex;align-items: stretch;justify-content: center;background-color: white;position: relative;}#sk-container-id-11 div.sk-item::before, #sk-container-id-11 div.sk-parallel-item::before {content: \"\";position: absolute;border-left: 1px solid gray;box-sizing: border-box;top: 0;bottom: 0;left: 50%;z-index: -1;}#sk-container-id-11 div.sk-parallel-item {display: flex;flex-direction: column;z-index: 1;position: relative;background-color: white;}#sk-container-id-11 div.sk-parallel-item:first-child::after {align-self: flex-end;width: 50%;}#sk-container-id-11 div.sk-parallel-item:last-child::after {align-self: flex-start;width: 50%;}#sk-container-id-11 div.sk-parallel-item:only-child::after {width: 0;}#sk-container-id-11 div.sk-dashed-wrapped {border: 1px dashed gray;margin: 0 0.4em 0.5em 0.4em;box-sizing: border-box;padding-bottom: 0.4em;background-color: white;}#sk-container-id-11 div.sk-label label {font-family: monospace;font-weight: bold;display: inline-block;line-height: 1.2em;}#sk-container-id-11 div.sk-label-container {text-align: center;}#sk-container-id-11 div.sk-container {/* jupyter's `normalize.less` sets `[hidden] { display: none; }` but bootstrap.min.css set `[hidden] { display: none !important; }` so we also need the `!important` here to be able to override the default hidden behavior on the sphinx rendered scikit-learn.org. See: https://github.com/scikit-learn/scikit-learn/issues/21755 */display: inline-block !important;position: relative;}#sk-container-id-11 div.sk-text-repr-fallback {display: none;}</style><div id=\"sk-container-id-11\" class=\"sk-top-container\"><div class=\"sk-text-repr-fallback\"><pre>BernoulliNB(alpha=0.1)</pre><b>In a Jupyter environment, please rerun this cell to show the HTML representation or trust the notebook. <br />On GitHub, the HTML representation is unable to render, please try loading this page with nbviewer.org.</b></div><div class=\"sk-container\" hidden><div class=\"sk-item\"><div class=\"sk-estimator sk-toggleable\"><input class=\"sk-toggleable__control sk-hidden--visually\" id=\"sk-estimator-id-11\" type=\"checkbox\" checked><label for=\"sk-estimator-id-11\" class=\"sk-toggleable__label sk-toggleable__label-arrow\">BernoulliNB</label><div class=\"sk-toggleable__content\"><pre>BernoulliNB(alpha=0.1)</pre></div></div></div></div></div>"
            ]
          },
          "metadata": {},
          "execution_count": 32
        }
      ],
      "source": [
        "# Train ML models (Base models)\n",
        "bernoulli_nb = BernoulliNB(alpha=0.1, binarize = 0.0 , fit_prior = True)\n",
        "bernoulli_nb.fit(X_train, y_train)"
      ]
    },
    {
      "cell_type": "code",
      "execution_count": null,
      "metadata": {
        "colab": {
          "base_uri": "https://localhost:8080/",
          "height": 75
        },
        "outputId": "c63f7efc-b876-41e2-cc03-bef10b511e44",
        "id": "gHPyzOJVXxed"
      },
      "outputs": [
        {
          "output_type": "execute_result",
          "data": {
            "text/plain": [
              "AdaBoostClassifier(learning_rate=1, n_estimators=200)"
            ],
            "text/html": [
              "<style>#sk-container-id-12 {color: black;background-color: white;}#sk-container-id-12 pre{padding: 0;}#sk-container-id-12 div.sk-toggleable {background-color: white;}#sk-container-id-12 label.sk-toggleable__label {cursor: pointer;display: block;width: 100%;margin-bottom: 0;padding: 0.3em;box-sizing: border-box;text-align: center;}#sk-container-id-12 label.sk-toggleable__label-arrow:before {content: \"▸\";float: left;margin-right: 0.25em;color: #696969;}#sk-container-id-12 label.sk-toggleable__label-arrow:hover:before {color: black;}#sk-container-id-12 div.sk-estimator:hover label.sk-toggleable__label-arrow:before {color: black;}#sk-container-id-12 div.sk-toggleable__content {max-height: 0;max-width: 0;overflow: hidden;text-align: left;background-color: #f0f8ff;}#sk-container-id-12 div.sk-toggleable__content pre {margin: 0.2em;color: black;border-radius: 0.25em;background-color: #f0f8ff;}#sk-container-id-12 input.sk-toggleable__control:checked~div.sk-toggleable__content {max-height: 200px;max-width: 100%;overflow: auto;}#sk-container-id-12 input.sk-toggleable__control:checked~label.sk-toggleable__label-arrow:before {content: \"▾\";}#sk-container-id-12 div.sk-estimator input.sk-toggleable__control:checked~label.sk-toggleable__label {background-color: #d4ebff;}#sk-container-id-12 div.sk-label input.sk-toggleable__control:checked~label.sk-toggleable__label {background-color: #d4ebff;}#sk-container-id-12 input.sk-hidden--visually {border: 0;clip: rect(1px 1px 1px 1px);clip: rect(1px, 1px, 1px, 1px);height: 1px;margin: -1px;overflow: hidden;padding: 0;position: absolute;width: 1px;}#sk-container-id-12 div.sk-estimator {font-family: monospace;background-color: #f0f8ff;border: 1px dotted black;border-radius: 0.25em;box-sizing: border-box;margin-bottom: 0.5em;}#sk-container-id-12 div.sk-estimator:hover {background-color: #d4ebff;}#sk-container-id-12 div.sk-parallel-item::after {content: \"\";width: 100%;border-bottom: 1px solid gray;flex-grow: 1;}#sk-container-id-12 div.sk-label:hover label.sk-toggleable__label {background-color: #d4ebff;}#sk-container-id-12 div.sk-serial::before {content: \"\";position: absolute;border-left: 1px solid gray;box-sizing: border-box;top: 0;bottom: 0;left: 50%;z-index: 0;}#sk-container-id-12 div.sk-serial {display: flex;flex-direction: column;align-items: center;background-color: white;padding-right: 0.2em;padding-left: 0.2em;position: relative;}#sk-container-id-12 div.sk-item {position: relative;z-index: 1;}#sk-container-id-12 div.sk-parallel {display: flex;align-items: stretch;justify-content: center;background-color: white;position: relative;}#sk-container-id-12 div.sk-item::before, #sk-container-id-12 div.sk-parallel-item::before {content: \"\";position: absolute;border-left: 1px solid gray;box-sizing: border-box;top: 0;bottom: 0;left: 50%;z-index: -1;}#sk-container-id-12 div.sk-parallel-item {display: flex;flex-direction: column;z-index: 1;position: relative;background-color: white;}#sk-container-id-12 div.sk-parallel-item:first-child::after {align-self: flex-end;width: 50%;}#sk-container-id-12 div.sk-parallel-item:last-child::after {align-self: flex-start;width: 50%;}#sk-container-id-12 div.sk-parallel-item:only-child::after {width: 0;}#sk-container-id-12 div.sk-dashed-wrapped {border: 1px dashed gray;margin: 0 0.4em 0.5em 0.4em;box-sizing: border-box;padding-bottom: 0.4em;background-color: white;}#sk-container-id-12 div.sk-label label {font-family: monospace;font-weight: bold;display: inline-block;line-height: 1.2em;}#sk-container-id-12 div.sk-label-container {text-align: center;}#sk-container-id-12 div.sk-container {/* jupyter's `normalize.less` sets `[hidden] { display: none; }` but bootstrap.min.css set `[hidden] { display: none !important; }` so we also need the `!important` here to be able to override the default hidden behavior on the sphinx rendered scikit-learn.org. See: https://github.com/scikit-learn/scikit-learn/issues/21755 */display: inline-block !important;position: relative;}#sk-container-id-12 div.sk-text-repr-fallback {display: none;}</style><div id=\"sk-container-id-12\" class=\"sk-top-container\"><div class=\"sk-text-repr-fallback\"><pre>AdaBoostClassifier(learning_rate=1, n_estimators=200)</pre><b>In a Jupyter environment, please rerun this cell to show the HTML representation or trust the notebook. <br />On GitHub, the HTML representation is unable to render, please try loading this page with nbviewer.org.</b></div><div class=\"sk-container\" hidden><div class=\"sk-item\"><div class=\"sk-estimator sk-toggleable\"><input class=\"sk-toggleable__control sk-hidden--visually\" id=\"sk-estimator-id-12\" type=\"checkbox\" checked><label for=\"sk-estimator-id-12\" class=\"sk-toggleable__label sk-toggleable__label-arrow\">AdaBoostClassifier</label><div class=\"sk-toggleable__content\"><pre>AdaBoostClassifier(learning_rate=1, n_estimators=200)</pre></div></div></div></div></div>"
            ]
          },
          "metadata": {},
          "execution_count": 33
        }
      ],
      "source": [
        "Adaboost = AdaBoostClassifier(n_estimators = 200 , learning_rate = 1)\n",
        "Adaboost.fit(X_train, y_train)"
      ]
    },
    {
      "cell_type": "code",
      "execution_count": null,
      "metadata": {
        "colab": {
          "base_uri": "https://localhost:8080/",
          "height": 248
        },
        "outputId": "8438c2b7-5273-4952-df34-73cf23bd2eee",
        "id": "mDlCTL3RXxee"
      },
      "outputs": [
        {
          "output_type": "execute_result",
          "data": {
            "text/plain": [
              "XGBClassifier(base_score=None, booster=None, callbacks=None,\n",
              "              colsample_bylevel=None, colsample_bynode=None,\n",
              "              colsample_bytree=None, device=None, early_stopping_rounds=None,\n",
              "              enable_categorical=False, eval_metric=None, feature_types=None,\n",
              "              gamma=None, grow_policy=None, importance_type=None,\n",
              "              interaction_constraints=None, learning_rate=0.01, max_bin=None,\n",
              "              max_cat_threshold=None, max_cat_to_onehot=None,\n",
              "              max_delta_step=None, max_depth=9, max_leaves=None,\n",
              "              min_child_weight=None, missing=nan, monotone_constraints=None,\n",
              "              multi_strategy=None, n_estimators=200, n_jobs=None,\n",
              "              num_parallel_tree=None, random_state=None, ...)"
            ],
            "text/html": [
              "<style>#sk-container-id-13 {color: black;background-color: white;}#sk-container-id-13 pre{padding: 0;}#sk-container-id-13 div.sk-toggleable {background-color: white;}#sk-container-id-13 label.sk-toggleable__label {cursor: pointer;display: block;width: 100%;margin-bottom: 0;padding: 0.3em;box-sizing: border-box;text-align: center;}#sk-container-id-13 label.sk-toggleable__label-arrow:before {content: \"▸\";float: left;margin-right: 0.25em;color: #696969;}#sk-container-id-13 label.sk-toggleable__label-arrow:hover:before {color: black;}#sk-container-id-13 div.sk-estimator:hover label.sk-toggleable__label-arrow:before {color: black;}#sk-container-id-13 div.sk-toggleable__content {max-height: 0;max-width: 0;overflow: hidden;text-align: left;background-color: #f0f8ff;}#sk-container-id-13 div.sk-toggleable__content pre {margin: 0.2em;color: black;border-radius: 0.25em;background-color: #f0f8ff;}#sk-container-id-13 input.sk-toggleable__control:checked~div.sk-toggleable__content {max-height: 200px;max-width: 100%;overflow: auto;}#sk-container-id-13 input.sk-toggleable__control:checked~label.sk-toggleable__label-arrow:before {content: \"▾\";}#sk-container-id-13 div.sk-estimator input.sk-toggleable__control:checked~label.sk-toggleable__label {background-color: #d4ebff;}#sk-container-id-13 div.sk-label input.sk-toggleable__control:checked~label.sk-toggleable__label {background-color: #d4ebff;}#sk-container-id-13 input.sk-hidden--visually {border: 0;clip: rect(1px 1px 1px 1px);clip: rect(1px, 1px, 1px, 1px);height: 1px;margin: -1px;overflow: hidden;padding: 0;position: absolute;width: 1px;}#sk-container-id-13 div.sk-estimator {font-family: monospace;background-color: #f0f8ff;border: 1px dotted black;border-radius: 0.25em;box-sizing: border-box;margin-bottom: 0.5em;}#sk-container-id-13 div.sk-estimator:hover {background-color: #d4ebff;}#sk-container-id-13 div.sk-parallel-item::after {content: \"\";width: 100%;border-bottom: 1px solid gray;flex-grow: 1;}#sk-container-id-13 div.sk-label:hover label.sk-toggleable__label {background-color: #d4ebff;}#sk-container-id-13 div.sk-serial::before {content: \"\";position: absolute;border-left: 1px solid gray;box-sizing: border-box;top: 0;bottom: 0;left: 50%;z-index: 0;}#sk-container-id-13 div.sk-serial {display: flex;flex-direction: column;align-items: center;background-color: white;padding-right: 0.2em;padding-left: 0.2em;position: relative;}#sk-container-id-13 div.sk-item {position: relative;z-index: 1;}#sk-container-id-13 div.sk-parallel {display: flex;align-items: stretch;justify-content: center;background-color: white;position: relative;}#sk-container-id-13 div.sk-item::before, #sk-container-id-13 div.sk-parallel-item::before {content: \"\";position: absolute;border-left: 1px solid gray;box-sizing: border-box;top: 0;bottom: 0;left: 50%;z-index: -1;}#sk-container-id-13 div.sk-parallel-item {display: flex;flex-direction: column;z-index: 1;position: relative;background-color: white;}#sk-container-id-13 div.sk-parallel-item:first-child::after {align-self: flex-end;width: 50%;}#sk-container-id-13 div.sk-parallel-item:last-child::after {align-self: flex-start;width: 50%;}#sk-container-id-13 div.sk-parallel-item:only-child::after {width: 0;}#sk-container-id-13 div.sk-dashed-wrapped {border: 1px dashed gray;margin: 0 0.4em 0.5em 0.4em;box-sizing: border-box;padding-bottom: 0.4em;background-color: white;}#sk-container-id-13 div.sk-label label {font-family: monospace;font-weight: bold;display: inline-block;line-height: 1.2em;}#sk-container-id-13 div.sk-label-container {text-align: center;}#sk-container-id-13 div.sk-container {/* jupyter's `normalize.less` sets `[hidden] { display: none; }` but bootstrap.min.css set `[hidden] { display: none !important; }` so we also need the `!important` here to be able to override the default hidden behavior on the sphinx rendered scikit-learn.org. See: https://github.com/scikit-learn/scikit-learn/issues/21755 */display: inline-block !important;position: relative;}#sk-container-id-13 div.sk-text-repr-fallback {display: none;}</style><div id=\"sk-container-id-13\" class=\"sk-top-container\"><div class=\"sk-text-repr-fallback\"><pre>XGBClassifier(base_score=None, booster=None, callbacks=None,\n",
              "              colsample_bylevel=None, colsample_bynode=None,\n",
              "              colsample_bytree=None, device=None, early_stopping_rounds=None,\n",
              "              enable_categorical=False, eval_metric=None, feature_types=None,\n",
              "              gamma=None, grow_policy=None, importance_type=None,\n",
              "              interaction_constraints=None, learning_rate=0.01, max_bin=None,\n",
              "              max_cat_threshold=None, max_cat_to_onehot=None,\n",
              "              max_delta_step=None, max_depth=9, max_leaves=None,\n",
              "              min_child_weight=None, missing=nan, monotone_constraints=None,\n",
              "              multi_strategy=None, n_estimators=200, n_jobs=None,\n",
              "              num_parallel_tree=None, random_state=None, ...)</pre><b>In a Jupyter environment, please rerun this cell to show the HTML representation or trust the notebook. <br />On GitHub, the HTML representation is unable to render, please try loading this page with nbviewer.org.</b></div><div class=\"sk-container\" hidden><div class=\"sk-item\"><div class=\"sk-estimator sk-toggleable\"><input class=\"sk-toggleable__control sk-hidden--visually\" id=\"sk-estimator-id-13\" type=\"checkbox\" checked><label for=\"sk-estimator-id-13\" class=\"sk-toggleable__label sk-toggleable__label-arrow\">XGBClassifier</label><div class=\"sk-toggleable__content\"><pre>XGBClassifier(base_score=None, booster=None, callbacks=None,\n",
              "              colsample_bylevel=None, colsample_bynode=None,\n",
              "              colsample_bytree=None, device=None, early_stopping_rounds=None,\n",
              "              enable_categorical=False, eval_metric=None, feature_types=None,\n",
              "              gamma=None, grow_policy=None, importance_type=None,\n",
              "              interaction_constraints=None, learning_rate=0.01, max_bin=None,\n",
              "              max_cat_threshold=None, max_cat_to_onehot=None,\n",
              "              max_delta_step=None, max_depth=9, max_leaves=None,\n",
              "              min_child_weight=None, missing=nan, monotone_constraints=None,\n",
              "              multi_strategy=None, n_estimators=200, n_jobs=None,\n",
              "              num_parallel_tree=None, random_state=None, ...)</pre></div></div></div></div></div>"
            ]
          },
          "metadata": {},
          "execution_count": 34
        }
      ],
      "source": [
        "xgboost = XGBClassifier(max_depth=9, n_estimators=200, learning_rate=0.01)\n",
        "xgboost.fit(X_train, y_train)"
      ]
    },
    {
      "cell_type": "code",
      "execution_count": null,
      "metadata": {
        "id": "PdWZymWgXxee"
      },
      "outputs": [],
      "source": [
        "decision_tree = DecisionTreeClassifier(criterion='gini', max_depth=3, min_samples_leaf=5)\n",
        "decision_tree.fit(X_train, y_train)"
      ]
    },
    {
      "cell_type": "code",
      "execution_count": null,
      "metadata": {
        "colab": {
          "base_uri": "https://localhost:8080/",
          "height": 75
        },
        "outputId": "cabbd081-126a-465f-d845-ad7bae0edc0b",
        "id": "vJYdFVYVXxee"
      },
      "outputs": [
        {
          "data": {
            "text/html": [
              "<style>#sk-container-id-15 {color: black;background-color: white;}#sk-container-id-15 pre{padding: 0;}#sk-container-id-15 div.sk-toggleable {background-color: white;}#sk-container-id-15 label.sk-toggleable__label {cursor: pointer;display: block;width: 100%;margin-bottom: 0;padding: 0.3em;box-sizing: border-box;text-align: center;}#sk-container-id-15 label.sk-toggleable__label-arrow:before {content: \"▸\";float: left;margin-right: 0.25em;color: #696969;}#sk-container-id-15 label.sk-toggleable__label-arrow:hover:before {color: black;}#sk-container-id-15 div.sk-estimator:hover label.sk-toggleable__label-arrow:before {color: black;}#sk-container-id-15 div.sk-toggleable__content {max-height: 0;max-width: 0;overflow: hidden;text-align: left;background-color: #f0f8ff;}#sk-container-id-15 div.sk-toggleable__content pre {margin: 0.2em;color: black;border-radius: 0.25em;background-color: #f0f8ff;}#sk-container-id-15 input.sk-toggleable__control:checked~div.sk-toggleable__content {max-height: 200px;max-width: 100%;overflow: auto;}#sk-container-id-15 input.sk-toggleable__control:checked~label.sk-toggleable__label-arrow:before {content: \"▾\";}#sk-container-id-15 div.sk-estimator input.sk-toggleable__control:checked~label.sk-toggleable__label {background-color: #d4ebff;}#sk-container-id-15 div.sk-label input.sk-toggleable__control:checked~label.sk-toggleable__label {background-color: #d4ebff;}#sk-container-id-15 input.sk-hidden--visually {border: 0;clip: rect(1px 1px 1px 1px);clip: rect(1px, 1px, 1px, 1px);height: 1px;margin: -1px;overflow: hidden;padding: 0;position: absolute;width: 1px;}#sk-container-id-15 div.sk-estimator {font-family: monospace;background-color: #f0f8ff;border: 1px dotted black;border-radius: 0.25em;box-sizing: border-box;margin-bottom: 0.5em;}#sk-container-id-15 div.sk-estimator:hover {background-color: #d4ebff;}#sk-container-id-15 div.sk-parallel-item::after {content: \"\";width: 100%;border-bottom: 1px solid gray;flex-grow: 1;}#sk-container-id-15 div.sk-label:hover label.sk-toggleable__label {background-color: #d4ebff;}#sk-container-id-15 div.sk-serial::before {content: \"\";position: absolute;border-left: 1px solid gray;box-sizing: border-box;top: 0;bottom: 0;left: 50%;z-index: 0;}#sk-container-id-15 div.sk-serial {display: flex;flex-direction: column;align-items: center;background-color: white;padding-right: 0.2em;padding-left: 0.2em;position: relative;}#sk-container-id-15 div.sk-item {position: relative;z-index: 1;}#sk-container-id-15 div.sk-parallel {display: flex;align-items: stretch;justify-content: center;background-color: white;position: relative;}#sk-container-id-15 div.sk-item::before, #sk-container-id-15 div.sk-parallel-item::before {content: \"\";position: absolute;border-left: 1px solid gray;box-sizing: border-box;top: 0;bottom: 0;left: 50%;z-index: -1;}#sk-container-id-15 div.sk-parallel-item {display: flex;flex-direction: column;z-index: 1;position: relative;background-color: white;}#sk-container-id-15 div.sk-parallel-item:first-child::after {align-self: flex-end;width: 50%;}#sk-container-id-15 div.sk-parallel-item:last-child::after {align-self: flex-start;width: 50%;}#sk-container-id-15 div.sk-parallel-item:only-child::after {width: 0;}#sk-container-id-15 div.sk-dashed-wrapped {border: 1px dashed gray;margin: 0 0.4em 0.5em 0.4em;box-sizing: border-box;padding-bottom: 0.4em;background-color: white;}#sk-container-id-15 div.sk-label label {font-family: monospace;font-weight: bold;display: inline-block;line-height: 1.2em;}#sk-container-id-15 div.sk-label-container {text-align: center;}#sk-container-id-15 div.sk-container {/* jupyter's `normalize.less` sets `[hidden] { display: none; }` but bootstrap.min.css set `[hidden] { display: none !important; }` so we also need the `!important` here to be able to override the default hidden behavior on the sphinx rendered scikit-learn.org. See: https://github.com/scikit-learn/scikit-learn/issues/21755 */display: inline-block !important;position: relative;}#sk-container-id-15 div.sk-text-repr-fallback {display: none;}</style><div id=\"sk-container-id-15\" class=\"sk-top-container\"><div class=\"sk-text-repr-fallback\"><pre>RandomForestClassifier(max_depth=3, min_samples_leaf=5)</pre><b>In a Jupyter environment, please rerun this cell to show the HTML representation or trust the notebook. <br />On GitHub, the HTML representation is unable to render, please try loading this page with nbviewer.org.</b></div><div class=\"sk-container\" hidden><div class=\"sk-item\"><div class=\"sk-estimator sk-toggleable\"><input class=\"sk-toggleable__control sk-hidden--visually\" id=\"sk-estimator-id-15\" type=\"checkbox\" checked><label for=\"sk-estimator-id-15\" class=\"sk-toggleable__label sk-toggleable__label-arrow\">RandomForestClassifier</label><div class=\"sk-toggleable__content\"><pre>RandomForestClassifier(max_depth=3, min_samples_leaf=5)</pre></div></div></div></div></div>"
            ],
            "text/plain": [
              "RandomForestClassifier(max_depth=3, min_samples_leaf=5)"
            ]
          },
          "execution_count": 36,
          "metadata": {},
          "output_type": "execute_result"
        }
      ],
      "source": [
        "RandomForest = RandomForestClassifier(n_estimators=100, max_depth=3, min_samples_leaf=5)\n",
        "RandomForest.fit(X_train, y_train)"
      ]
    },
    {
      "cell_type": "code",
      "execution_count": null,
      "metadata": {
        "id": "1fJlYAhyXxef"
      },
      "outputs": [],
      "source": [
        "# 4. Generate predictions\n",
        "bernoulli_nb_predictions_train  = bernoulli_nb.predict(X_train).reshape(-1, 1)\n",
        "dt_predictions_train            = decision_tree.predict(X_train).reshape(-1, 1)\n",
        "xgboost_predictions_train       = xgboost.predict(X_train).reshape(-1, 1)\n",
        "RandomForest_predictions_train  = RandomForest.predict(X_train).reshape(-1, 1)\n",
        "Adaboost_predictions_train      = Adaboost.predict(X_train).reshape(-1, 1)\n",
        "\n",
        "\n",
        "bernoulli_nb_predictions_test   = bernoulli_nb.predict(X_test).reshape(-1, 1)\n",
        "dt_predictions_test             = decision_tree.predict(X_test).reshape(-1, 1)\n",
        "xgboost_predictions_test        = xgboost.predict(X_test).reshape(-1, 1)\n",
        "RandomForest_predictions_test   = RandomForest.predict(X_test).reshape(-1, 1)\n",
        "Adaboost_predictions_test       = Adaboost.predict(X_test).reshape(-1, 1)\n",
        "\n"
      ]
    },
    {
      "cell_type": "markdown",
      "source": [
        "### Stacking ML only"
      ],
      "metadata": {
        "id": "-FpRLveSXktb"
      }
    },
    {
      "cell_type": "code",
      "execution_count": null,
      "metadata": {
        "id": "fE5OZXo7HRuL",
        "colab": {
          "base_uri": "https://localhost:8080/"
        },
        "outputId": "638f060c-2eab-48d2-d5a7-60a3b4a1a7d3"
      },
      "outputs": [
        {
          "output_type": "stream",
          "name": "stdout",
          "text": [
            "Ensemble accuracy : 0.6854663774403471\n",
            "Ensemble precision : 0.6881878209831255\n",
            "Ensemble recall : 0.989451476793249\n",
            "Ensemble f1 : 0.8117697966248377\n"
          ]
        }
      ],
      "source": [
        "#making a new dataset for training our final model by stacking the predictions on the validation data\n",
        "train_stack = np.column_stack((bernoulli_nb_predictions_train,\n",
        "                               xgboost_predictions_train,\n",
        "                               Adaboost_predictions_train))\n",
        "\n",
        "#making the final test set for our final model by stacking the predictions on the test data\n",
        "test_stack = np.column_stack((bernoulli_nb_predictions_test,\n",
        "                              xgboost_predictions_test,\n",
        "                              Adaboost_predictions_test))\n",
        "\n",
        "\n",
        "final_model = RandomForestClassifier()\n",
        "\n",
        "#training the final model on the stacked predictions\n",
        "final_model.fit(train_stack,y_train)\n",
        "\n",
        "final_predictions = final_model.predict(test_stack)\n",
        "\n",
        "# Compute accuracy using the binary class labels\n",
        "ensemble_accuracy = accuracy_score(y_test, final_predictions)\n",
        "precision         = precision_score(y_test, final_predictions)\n",
        "recall            = recall_score(y_test, final_predictions)\n",
        "f1                = f1_score(y_test, final_predictions)\n",
        "\n",
        "print(f'Ensemble accuracy : {ensemble_accuracy}')\n",
        "print(f'Ensemble precision : {precision}')\n",
        "print(f'Ensemble recall : {recall}')\n",
        "print(f'Ensemble f1 : {f1}')"
      ]
    },
    {
      "cell_type": "markdown",
      "metadata": {
        "id": "DkAo5FUBHTeo"
      },
      "source": [
        "## Ensemble DL and ML"
      ]
    },
    {
      "cell_type": "code",
      "execution_count": null,
      "metadata": {
        "id": "qd4YEglpKVqi"
      },
      "outputs": [],
      "source": []
    },
    {
      "cell_type": "code",
      "execution_count": null,
      "metadata": {
        "colab": {
          "base_uri": "https://localhost:8080/"
        },
        "id": "Q33oXb0mIT_0",
        "outputId": "94bf202f-8c2e-4586-896b-d8af2da20b33"
      },
      "outputs": [
        {
          "output_type": "stream",
          "name": "stdout",
          "text": [
            "group=[ 0  1  2  3  4  5  6  7  8 10 11 12 13 15 16 18 19 20 22 23 25 27 28 29\n",
            " 30 31 34 36 37 38 39 40 41 42 43 44 45 46 47]\n",
            "group=[ 9 14 17 21 24 26 32 33 35]\n"
          ]
        }
      ],
      "source": [
        "# 1. Preprocess the data for both ML and DL models\n",
        "\n",
        "# Load your dataset and split into training and testing sets\n",
        "X_train, X_test, y_train, y_test, train_groups = two_splits(data_array, label_array, group_array)\n",
        "\n",
        "\n",
        "y_train[y_train==0] = 1 #Stroke\n",
        "y_train[y_train==2] = 0 #Healthy\n",
        "\n",
        "y_test[y_test==0] = 1 #Stroke\n",
        "y_test[y_test==2] = 0 #Healthy"
      ]
    },
    {
      "cell_type": "code",
      "source": [
        "X_train_ml, y_train_ml = X_train.reshape(X_train.shape[0], -1), y_train"
      ],
      "metadata": {
        "id": "K7O7cuIx-fMf"
      },
      "execution_count": null,
      "outputs": []
    },
    {
      "cell_type": "code",
      "execution_count": null,
      "metadata": {
        "colab": {
          "base_uri": "https://localhost:8080/",
          "height": 75
        },
        "id": "ajCqEPlUH0sY",
        "outputId": "c80a7aa6-4af7-4282-e505-91997b4c9cc4"
      },
      "outputs": [
        {
          "data": {
            "text/html": [
              "<style>#sk-container-id-2 {color: black;background-color: white;}#sk-container-id-2 pre{padding: 0;}#sk-container-id-2 div.sk-toggleable {background-color: white;}#sk-container-id-2 label.sk-toggleable__label {cursor: pointer;display: block;width: 100%;margin-bottom: 0;padding: 0.3em;box-sizing: border-box;text-align: center;}#sk-container-id-2 label.sk-toggleable__label-arrow:before {content: \"▸\";float: left;margin-right: 0.25em;color: #696969;}#sk-container-id-2 label.sk-toggleable__label-arrow:hover:before {color: black;}#sk-container-id-2 div.sk-estimator:hover label.sk-toggleable__label-arrow:before {color: black;}#sk-container-id-2 div.sk-toggleable__content {max-height: 0;max-width: 0;overflow: hidden;text-align: left;background-color: #f0f8ff;}#sk-container-id-2 div.sk-toggleable__content pre {margin: 0.2em;color: black;border-radius: 0.25em;background-color: #f0f8ff;}#sk-container-id-2 input.sk-toggleable__control:checked~div.sk-toggleable__content {max-height: 200px;max-width: 100%;overflow: auto;}#sk-container-id-2 input.sk-toggleable__control:checked~label.sk-toggleable__label-arrow:before {content: \"▾\";}#sk-container-id-2 div.sk-estimator input.sk-toggleable__control:checked~label.sk-toggleable__label {background-color: #d4ebff;}#sk-container-id-2 div.sk-label input.sk-toggleable__control:checked~label.sk-toggleable__label {background-color: #d4ebff;}#sk-container-id-2 input.sk-hidden--visually {border: 0;clip: rect(1px 1px 1px 1px);clip: rect(1px, 1px, 1px, 1px);height: 1px;margin: -1px;overflow: hidden;padding: 0;position: absolute;width: 1px;}#sk-container-id-2 div.sk-estimator {font-family: monospace;background-color: #f0f8ff;border: 1px dotted black;border-radius: 0.25em;box-sizing: border-box;margin-bottom: 0.5em;}#sk-container-id-2 div.sk-estimator:hover {background-color: #d4ebff;}#sk-container-id-2 div.sk-parallel-item::after {content: \"\";width: 100%;border-bottom: 1px solid gray;flex-grow: 1;}#sk-container-id-2 div.sk-label:hover label.sk-toggleable__label {background-color: #d4ebff;}#sk-container-id-2 div.sk-serial::before {content: \"\";position: absolute;border-left: 1px solid gray;box-sizing: border-box;top: 0;bottom: 0;left: 50%;z-index: 0;}#sk-container-id-2 div.sk-serial {display: flex;flex-direction: column;align-items: center;background-color: white;padding-right: 0.2em;padding-left: 0.2em;position: relative;}#sk-container-id-2 div.sk-item {position: relative;z-index: 1;}#sk-container-id-2 div.sk-parallel {display: flex;align-items: stretch;justify-content: center;background-color: white;position: relative;}#sk-container-id-2 div.sk-item::before, #sk-container-id-2 div.sk-parallel-item::before {content: \"\";position: absolute;border-left: 1px solid gray;box-sizing: border-box;top: 0;bottom: 0;left: 50%;z-index: -1;}#sk-container-id-2 div.sk-parallel-item {display: flex;flex-direction: column;z-index: 1;position: relative;background-color: white;}#sk-container-id-2 div.sk-parallel-item:first-child::after {align-self: flex-end;width: 50%;}#sk-container-id-2 div.sk-parallel-item:last-child::after {align-self: flex-start;width: 50%;}#sk-container-id-2 div.sk-parallel-item:only-child::after {width: 0;}#sk-container-id-2 div.sk-dashed-wrapped {border: 1px dashed gray;margin: 0 0.4em 0.5em 0.4em;box-sizing: border-box;padding-bottom: 0.4em;background-color: white;}#sk-container-id-2 div.sk-label label {font-family: monospace;font-weight: bold;display: inline-block;line-height: 1.2em;}#sk-container-id-2 div.sk-label-container {text-align: center;}#sk-container-id-2 div.sk-container {/* jupyter's `normalize.less` sets `[hidden] { display: none; }` but bootstrap.min.css set `[hidden] { display: none !important; }` so we also need the `!important` here to be able to override the default hidden behavior on the sphinx rendered scikit-learn.org. See: https://github.com/scikit-learn/scikit-learn/issues/21755 */display: inline-block !important;position: relative;}#sk-container-id-2 div.sk-text-repr-fallback {display: none;}</style><div id=\"sk-container-id-2\" class=\"sk-top-container\"><div class=\"sk-text-repr-fallback\"><pre>DecisionTreeClassifier(max_depth=3, min_samples_leaf=5)</pre><b>In a Jupyter environment, please rerun this cell to show the HTML representation or trust the notebook. <br />On GitHub, the HTML representation is unable to render, please try loading this page with nbviewer.org.</b></div><div class=\"sk-container\" hidden><div class=\"sk-item\"><div class=\"sk-estimator sk-toggleable\"><input class=\"sk-toggleable__control sk-hidden--visually\" id=\"sk-estimator-id-2\" type=\"checkbox\" checked><label for=\"sk-estimator-id-2\" class=\"sk-toggleable__label sk-toggleable__label-arrow\">DecisionTreeClassifier</label><div class=\"sk-toggleable__content\"><pre>DecisionTreeClassifier(max_depth=3, min_samples_leaf=5)</pre></div></div></div></div></div>"
            ],
            "text/plain": [
              "DecisionTreeClassifier(max_depth=3, min_samples_leaf=5)"
            ]
          },
          "execution_count": 43,
          "metadata": {},
          "output_type": "execute_result"
        }
      ],
      "source": [
        "# 2. Train ML models\n",
        "\n",
        "# bernoulli_nb = BernoulliNB(alpha=0.1, binarize = 0.0 , fit_prior = True))\n",
        "# bernoulli_nb.fit(X_train_ml, y_train_ml)\n",
        "\n",
        "decision_tree = DecisionTreeClassifier(criterion='gini', max_depth=3, min_samples_leaf=5)\n",
        "decision_tree.fit(X_train_ml, y_train_ml)\n",
        "\n"
      ]
    },
    {
      "cell_type": "code",
      "execution_count": null,
      "metadata": {
        "colab": {
          "base_uri": "https://localhost:8080/",
          "height": 248
        },
        "id": "pWFEyu8je63r",
        "outputId": "cbee4397-24be-4715-8590-76951dc0c585"
      },
      "outputs": [
        {
          "data": {
            "text/html": [
              "<style>#sk-container-id-3 {color: black;background-color: white;}#sk-container-id-3 pre{padding: 0;}#sk-container-id-3 div.sk-toggleable {background-color: white;}#sk-container-id-3 label.sk-toggleable__label {cursor: pointer;display: block;width: 100%;margin-bottom: 0;padding: 0.3em;box-sizing: border-box;text-align: center;}#sk-container-id-3 label.sk-toggleable__label-arrow:before {content: \"▸\";float: left;margin-right: 0.25em;color: #696969;}#sk-container-id-3 label.sk-toggleable__label-arrow:hover:before {color: black;}#sk-container-id-3 div.sk-estimator:hover label.sk-toggleable__label-arrow:before {color: black;}#sk-container-id-3 div.sk-toggleable__content {max-height: 0;max-width: 0;overflow: hidden;text-align: left;background-color: #f0f8ff;}#sk-container-id-3 div.sk-toggleable__content pre {margin: 0.2em;color: black;border-radius: 0.25em;background-color: #f0f8ff;}#sk-container-id-3 input.sk-toggleable__control:checked~div.sk-toggleable__content {max-height: 200px;max-width: 100%;overflow: auto;}#sk-container-id-3 input.sk-toggleable__control:checked~label.sk-toggleable__label-arrow:before {content: \"▾\";}#sk-container-id-3 div.sk-estimator input.sk-toggleable__control:checked~label.sk-toggleable__label {background-color: #d4ebff;}#sk-container-id-3 div.sk-label input.sk-toggleable__control:checked~label.sk-toggleable__label {background-color: #d4ebff;}#sk-container-id-3 input.sk-hidden--visually {border: 0;clip: rect(1px 1px 1px 1px);clip: rect(1px, 1px, 1px, 1px);height: 1px;margin: -1px;overflow: hidden;padding: 0;position: absolute;width: 1px;}#sk-container-id-3 div.sk-estimator {font-family: monospace;background-color: #f0f8ff;border: 1px dotted black;border-radius: 0.25em;box-sizing: border-box;margin-bottom: 0.5em;}#sk-container-id-3 div.sk-estimator:hover {background-color: #d4ebff;}#sk-container-id-3 div.sk-parallel-item::after {content: \"\";width: 100%;border-bottom: 1px solid gray;flex-grow: 1;}#sk-container-id-3 div.sk-label:hover label.sk-toggleable__label {background-color: #d4ebff;}#sk-container-id-3 div.sk-serial::before {content: \"\";position: absolute;border-left: 1px solid gray;box-sizing: border-box;top: 0;bottom: 0;left: 50%;z-index: 0;}#sk-container-id-3 div.sk-serial {display: flex;flex-direction: column;align-items: center;background-color: white;padding-right: 0.2em;padding-left: 0.2em;position: relative;}#sk-container-id-3 div.sk-item {position: relative;z-index: 1;}#sk-container-id-3 div.sk-parallel {display: flex;align-items: stretch;justify-content: center;background-color: white;position: relative;}#sk-container-id-3 div.sk-item::before, #sk-container-id-3 div.sk-parallel-item::before {content: \"\";position: absolute;border-left: 1px solid gray;box-sizing: border-box;top: 0;bottom: 0;left: 50%;z-index: -1;}#sk-container-id-3 div.sk-parallel-item {display: flex;flex-direction: column;z-index: 1;position: relative;background-color: white;}#sk-container-id-3 div.sk-parallel-item:first-child::after {align-self: flex-end;width: 50%;}#sk-container-id-3 div.sk-parallel-item:last-child::after {align-self: flex-start;width: 50%;}#sk-container-id-3 div.sk-parallel-item:only-child::after {width: 0;}#sk-container-id-3 div.sk-dashed-wrapped {border: 1px dashed gray;margin: 0 0.4em 0.5em 0.4em;box-sizing: border-box;padding-bottom: 0.4em;background-color: white;}#sk-container-id-3 div.sk-label label {font-family: monospace;font-weight: bold;display: inline-block;line-height: 1.2em;}#sk-container-id-3 div.sk-label-container {text-align: center;}#sk-container-id-3 div.sk-container {/* jupyter's `normalize.less` sets `[hidden] { display: none; }` but bootstrap.min.css set `[hidden] { display: none !important; }` so we also need the `!important` here to be able to override the default hidden behavior on the sphinx rendered scikit-learn.org. See: https://github.com/scikit-learn/scikit-learn/issues/21755 */display: inline-block !important;position: relative;}#sk-container-id-3 div.sk-text-repr-fallback {display: none;}</style><div id=\"sk-container-id-3\" class=\"sk-top-container\"><div class=\"sk-text-repr-fallback\"><pre>XGBClassifier(base_score=None, booster=None, callbacks=None,\n",
              "              colsample_bylevel=None, colsample_bynode=None,\n",
              "              colsample_bytree=None, device=None, early_stopping_rounds=None,\n",
              "              enable_categorical=False, eval_metric=None, feature_types=None,\n",
              "              gamma=None, grow_policy=None, importance_type=None,\n",
              "              interaction_constraints=None, learning_rate=0.1, max_bin=None,\n",
              "              max_cat_threshold=None, max_cat_to_onehot=None,\n",
              "              max_delta_step=None, max_depth=3, max_leaves=None,\n",
              "              min_child_weight=None, missing=nan, monotone_constraints=None,\n",
              "              multi_strategy=None, n_estimators=200, n_jobs=None,\n",
              "              num_parallel_tree=None, random_state=42, ...)</pre><b>In a Jupyter environment, please rerun this cell to show the HTML representation or trust the notebook. <br />On GitHub, the HTML representation is unable to render, please try loading this page with nbviewer.org.</b></div><div class=\"sk-container\" hidden><div class=\"sk-item\"><div class=\"sk-estimator sk-toggleable\"><input class=\"sk-toggleable__control sk-hidden--visually\" id=\"sk-estimator-id-3\" type=\"checkbox\" checked><label for=\"sk-estimator-id-3\" class=\"sk-toggleable__label sk-toggleable__label-arrow\">XGBClassifier</label><div class=\"sk-toggleable__content\"><pre>XGBClassifier(base_score=None, booster=None, callbacks=None,\n",
              "              colsample_bylevel=None, colsample_bynode=None,\n",
              "              colsample_bytree=None, device=None, early_stopping_rounds=None,\n",
              "              enable_categorical=False, eval_metric=None, feature_types=None,\n",
              "              gamma=None, grow_policy=None, importance_type=None,\n",
              "              interaction_constraints=None, learning_rate=0.1, max_bin=None,\n",
              "              max_cat_threshold=None, max_cat_to_onehot=None,\n",
              "              max_delta_step=None, max_depth=3, max_leaves=None,\n",
              "              min_child_weight=None, missing=nan, monotone_constraints=None,\n",
              "              multi_strategy=None, n_estimators=200, n_jobs=None,\n",
              "              num_parallel_tree=None, random_state=42, ...)</pre></div></div></div></div></div>"
            ],
            "text/plain": [
              "XGBClassifier(base_score=None, booster=None, callbacks=None,\n",
              "              colsample_bylevel=None, colsample_bynode=None,\n",
              "              colsample_bytree=None, device=None, early_stopping_rounds=None,\n",
              "              enable_categorical=False, eval_metric=None, feature_types=None,\n",
              "              gamma=None, grow_policy=None, importance_type=None,\n",
              "              interaction_constraints=None, learning_rate=0.1, max_bin=None,\n",
              "              max_cat_threshold=None, max_cat_to_onehot=None,\n",
              "              max_delta_step=None, max_depth=3, max_leaves=None,\n",
              "              min_child_weight=None, missing=nan, monotone_constraints=None,\n",
              "              multi_strategy=None, n_estimators=200, n_jobs=None,\n",
              "              num_parallel_tree=None, random_state=42, ...)"
            ]
          },
          "execution_count": 86,
          "metadata": {},
          "output_type": "execute_result"
        }
      ],
      "source": [
        "xgboost = XGBClassifier(max_depth=3, n_estimators=200, learning_rate=0.1, random_state=42)\n",
        "xgboost.fit(X_train_ml, y_train_ml)"
      ]
    },
    {
      "cell_type": "code",
      "execution_count": null,
      "metadata": {
        "colab": {
          "base_uri": "https://localhost:8080/"
        },
        "id": "bKCmyuyeLhi0",
        "outputId": "72a85fe8-408f-4a30-efd4-11c0dd77f35e"
      },
      "outputs": [
        {
          "output_type": "stream",
          "name": "stdout",
          "text": [
            "group=[ 0  2  3  5  6  7 10 11 12 13 15 16 18 20 22 23 25 27 28 30 31 34 36 38\n",
            " 39 40 41 42 43 44 46 47]\n",
            "group=[ 1  4  8 19 29 37 45]\n"
          ]
        }
      ],
      "source": [
        "# DL\n",
        "X_train_dl, X_val_dl, y_train_dl, y_val_dl, _ = two_splits(X_train, y_train, train_groups)"
      ]
    },
    {
      "cell_type": "code",
      "execution_count": null,
      "metadata": {
        "colab": {
          "base_uri": "https://localhost:8080/"
        },
        "id": "rF7Hbu88W6ty",
        "outputId": "6ed49e72-fc99-4a98-af2f-bd06b281a182"
      },
      "outputs": [
        {
          "output_type": "execute_result",
          "data": {
            "text/plain": [
              "((4728, 1250, 33), (4728,), (1039, 1250, 33), (1039,))"
            ]
          },
          "metadata": {},
          "execution_count": 45
        }
      ],
      "source": [
        "X_train_dl.shape, y_train_dl.shape, X_val_dl.shape, y_val_dl.shape"
      ]
    },
    {
      "cell_type": "code",
      "execution_count": null,
      "metadata": {
        "colab": {
          "base_uri": "https://localhost:8080/"
        },
        "id": "UwNu8OR-Ioe6",
        "outputId": "5dc84b12-30ce-411e-fbf6-d38b8bf6bc17"
      },
      "outputs": [
        {
          "output_type": "stream",
          "name": "stdout",
          "text": [
            "Epoch 1/70\n",
            "36/36 [==============================] - 13s 130ms/step - loss: 0.6888 - accuracy: 0.5791 - val_loss: 0.6903 - val_accuracy: 0.5544\n",
            "Epoch 2/70\n",
            "36/36 [==============================] - 1s 38ms/step - loss: 0.6650 - accuracy: 0.6036 - val_loss: 0.6893 - val_accuracy: 0.5515\n",
            "Epoch 3/70\n",
            "36/36 [==============================] - 1s 38ms/step - loss: 0.6498 - accuracy: 0.6191 - val_loss: 0.6895 - val_accuracy: 0.5563\n",
            "Epoch 4/70\n",
            "36/36 [==============================] - 1s 38ms/step - loss: 0.6346 - accuracy: 0.6436 - val_loss: 0.6896 - val_accuracy: 0.5573\n",
            "Epoch 5/70\n",
            "36/36 [==============================] - 1s 38ms/step - loss: 0.6186 - accuracy: 0.6548 - val_loss: 0.6878 - val_accuracy: 0.5650\n",
            "Epoch 6/70\n",
            "36/36 [==============================] - 1s 38ms/step - loss: 0.5967 - accuracy: 0.6887 - val_loss: 0.6864 - val_accuracy: 0.5659\n",
            "Epoch 7/70\n",
            "36/36 [==============================] - 1s 38ms/step - loss: 0.5704 - accuracy: 0.7250 - val_loss: 0.6898 - val_accuracy: 0.5794\n",
            "Epoch 8/70\n",
            "36/36 [==============================] - 1s 39ms/step - loss: 0.5351 - accuracy: 0.7606 - val_loss: 0.6742 - val_accuracy: 0.5890\n",
            "Epoch 9/70\n",
            "36/36 [==============================] - 1s 40ms/step - loss: 0.5045 - accuracy: 0.7769 - val_loss: 0.6698 - val_accuracy: 0.5890\n",
            "Epoch 10/70\n",
            "36/36 [==============================] - 1s 39ms/step - loss: 0.4474 - accuracy: 0.8386 - val_loss: 0.6446 - val_accuracy: 0.6208\n",
            "Epoch 11/70\n",
            "36/36 [==============================] - 1s 40ms/step - loss: 0.3991 - accuracy: 0.8570 - val_loss: 0.6156 - val_accuracy: 0.6449\n",
            "Epoch 12/70\n",
            "36/36 [==============================] - 1s 39ms/step - loss: 0.3496 - accuracy: 0.8765 - val_loss: 0.6235 - val_accuracy: 0.6526\n",
            "Epoch 13/70\n",
            "36/36 [==============================] - 1s 39ms/step - loss: 0.3060 - accuracy: 0.8970 - val_loss: 0.5727 - val_accuracy: 0.7045\n",
            "Epoch 14/70\n",
            "36/36 [==============================] - 1s 40ms/step - loss: 0.2657 - accuracy: 0.9126 - val_loss: 0.5534 - val_accuracy: 0.7180\n",
            "Epoch 15/70\n",
            "36/36 [==============================] - 1s 39ms/step - loss: 0.2331 - accuracy: 0.9251 - val_loss: 0.5240 - val_accuracy: 0.7372\n",
            "Epoch 16/70\n",
            "36/36 [==============================] - 1s 38ms/step - loss: 0.2123 - accuracy: 0.9253 - val_loss: 0.5121 - val_accuracy: 0.7555\n",
            "Epoch 17/70\n",
            "36/36 [==============================] - 1s 39ms/step - loss: 0.1808 - accuracy: 0.9444 - val_loss: 0.5094 - val_accuracy: 0.7555\n",
            "Epoch 18/70\n",
            "36/36 [==============================] - 1s 39ms/step - loss: 0.1459 - accuracy: 0.9624 - val_loss: 0.5294 - val_accuracy: 0.7401\n",
            "Epoch 19/70\n",
            "36/36 [==============================] - 1s 39ms/step - loss: 0.1272 - accuracy: 0.9685 - val_loss: 0.5065 - val_accuracy: 0.7584\n",
            "Epoch 20/70\n",
            "36/36 [==============================] - 1s 39ms/step - loss: 0.1116 - accuracy: 0.9765 - val_loss: 0.5161 - val_accuracy: 0.7555\n",
            "Epoch 21/70\n",
            "36/36 [==============================] - 1s 39ms/step - loss: 0.0914 - accuracy: 0.9814 - val_loss: 0.5190 - val_accuracy: 0.7623\n",
            "Epoch 22/70\n",
            "36/36 [==============================] - 1s 39ms/step - loss: 0.0858 - accuracy: 0.9822 - val_loss: 0.5653 - val_accuracy: 0.7411\n",
            "Epoch 23/70\n",
            "36/36 [==============================] - 1s 39ms/step - loss: 0.0689 - accuracy: 0.9875 - val_loss: 0.5372 - val_accuracy: 0.7613\n",
            "Epoch 24/70\n",
            "36/36 [==============================] - 1s 40ms/step - loss: 0.0590 - accuracy: 0.9905 - val_loss: 0.5629 - val_accuracy: 0.7536\n"
          ]
        }
      ],
      "source": [
        "# 3. Train DL models\n",
        "\n",
        "# Define the input layer with a shape of (1250, 33)\n",
        "input_layer = Input(shape=(1250, 33))\n",
        "\n",
        "# Create the first block\n",
        "block1 = block(input_layer)\n",
        "\n",
        "# Create the second block using the 'block' function with the output of the first block as input\n",
        "block2 = block(block1)\n",
        "\n",
        "# Create the third block using the 'block' function with the output of the second block as input\n",
        "block3 = block(block2)\n",
        "\n",
        "cnn_out1 = Conv1D(32, 3, activation='relu', padding='same')(block3)\n",
        "cnn_out2 = Conv1D(32, 3, activation='relu', padding='same')(cnn_out1)\n",
        "cnn_out3 = MaxPooling1D(pool_size=2)(cnn_out2)\n",
        "cnn_out4 = Flatten()(cnn_out3)\n",
        "\n",
        "# Create a Dense layer with 1 unit and sigmoid activation for binary classification\n",
        "predictions = Dense(1, activation='sigmoid')(cnn_out4)\n",
        "\n",
        "# Define the model with 'input_layer' as the input and 'predictions' as the output\n",
        "CNN = Model(inputs=input_layer, outputs=predictions)\n",
        "\n",
        "# Specify the Adam optimizer with a learning rate of 0.0001\n",
        "optimizer = Adam(learning_rate=0.0001)\n",
        "\n",
        "# Compile the model with binary crossentropy loss and accuracy as the evaluation metric\n",
        "CNN.compile(optimizer=optimizer, loss='binary_crossentropy', metrics=['accuracy'])\n",
        "\n",
        "# Define early stopping callback\n",
        "early_stopping = EarlyStopping(monitor='val_loss', patience=5, restore_best_weights=True)\n",
        "\n",
        "# Train the model using training features and labels\n",
        "hist = CNN.fit(X_train_dl, y_train_dl, epochs=70, batch_size=132, validation_data= (X_val_dl, y_val_dl), callbacks=[early_stopping])\n"
      ]
    },
    {
      "cell_type": "code",
      "execution_count": null,
      "metadata": {
        "colab": {
          "base_uri": "https://localhost:8080/"
        },
        "id": "6tfBt9HOJ7Nw",
        "outputId": "ff030ee5-eb1a-461b-85e7-dbeab220ac9e"
      },
      "outputs": [
        {
          "output_type": "stream",
          "name": "stdout",
          "text": [
            "Epoch 1/70\n",
            "36/36 [==============================] - 11s 106ms/step - loss: 0.6806 - accuracy: 0.5825 - val_loss: 0.6845 - val_accuracy: 0.5775\n",
            "Epoch 2/70\n",
            "36/36 [==============================] - 2s 58ms/step - loss: 0.6690 - accuracy: 0.5941 - val_loss: 0.6840 - val_accuracy: 0.5765\n",
            "Epoch 3/70\n",
            "36/36 [==============================] - 2s 56ms/step - loss: 0.6597 - accuracy: 0.5990 - val_loss: 0.6827 - val_accuracy: 0.5804\n",
            "Epoch 4/70\n",
            "36/36 [==============================] - 2s 58ms/step - loss: 0.6424 - accuracy: 0.6178 - val_loss: 0.6804 - val_accuracy: 0.5611\n",
            "Epoch 5/70\n",
            "36/36 [==============================] - 2s 57ms/step - loss: 0.6145 - accuracy: 0.6527 - val_loss: 0.6793 - val_accuracy: 0.5650\n",
            "Epoch 6/70\n",
            "36/36 [==============================] - 2s 56ms/step - loss: 0.5685 - accuracy: 0.6992 - val_loss: 0.6833 - val_accuracy: 0.5784\n",
            "Epoch 7/70\n",
            "36/36 [==============================] - 2s 57ms/step - loss: 0.5095 - accuracy: 0.7434 - val_loss: 0.6846 - val_accuracy: 0.6006\n",
            "Epoch 8/70\n",
            "36/36 [==============================] - 2s 61ms/step - loss: 0.4635 - accuracy: 0.7843 - val_loss: 0.7102 - val_accuracy: 0.5804\n",
            "Epoch 9/70\n",
            "36/36 [==============================] - 2s 60ms/step - loss: 0.4036 - accuracy: 0.8151 - val_loss: 0.7471 - val_accuracy: 0.5852\n",
            "Epoch 10/70\n",
            "36/36 [==============================] - 2s 60ms/step - loss: 0.3509 - accuracy: 0.8462 - val_loss: 0.7426 - val_accuracy: 0.6025\n"
          ]
        }
      ],
      "source": [
        "# Define the input layer with a shape of (1250, 33)\n",
        "input = Input(shape=(1250, 33))\n",
        "\n",
        "# Create the first block\n",
        "block1 = block(input)\n",
        "\n",
        "# Create the second block using the 'block' function with the output of the first block as input\n",
        "block2 = block(block1)\n",
        "\n",
        "# Create the third block using the 'block' function with the output of the second block as input\n",
        "block3 = block(block2)\n",
        "\n",
        "\n",
        "gru_out1 = GRU(32,activation='tanh',return_sequences=True)(block3)\n",
        "gru_out2 = GRU(32,activation='tanh',return_sequences=True)(gru_out1)\n",
        "gru_out = concatenate([gru_out1,gru_out2],axis=2)\n",
        "gru_out3 = GRU(32,activation='tanh',return_sequences=True)(gru_out)\n",
        "gru_out = concatenate([gru_out1,gru_out2,gru_out3])\n",
        "gru_out4 = GRU(32,activation='tanh')(gru_out)\n",
        "\n",
        "\n",
        "# Create a Dense layer with 1 unit and sigmoid activation for binary classification\n",
        "predictions = Dense(1, activation='sigmoid')(gru_out4)\n",
        "\n",
        "# Define the model with 'input' as the input and 'predictions' as the output\n",
        "CNN_GRU = Model(inputs=input, outputs=predictions)\n",
        "\n",
        "# Specify the Adam optimizer with a learning rate of 0.0001\n",
        "optimizer = Adam(learning_rate=0.0001)\n",
        "\n",
        "# Compile the model with binary crossentropy loss and accuracy as the evaluation metric\n",
        "CNN_GRU.compile(optimizer=optimizer, loss='binary_crossentropy', metrics=['accuracy'])\n",
        "\n",
        "\n",
        "# Define early stopping callback\n",
        "early_stopping = EarlyStopping(monitor='val_loss', patience=5, restore_best_weights=True)\n",
        "\n",
        "# Train the model using training features and labels\n",
        "hist = CNN_GRU.fit(X_train_dl, y_train_dl, epochs=70, batch_size=132,\n",
        "                   validation_data= (X_val_dl, y_val_dl), callbacks=early_stopping)"
      ]
    },
    {
      "cell_type": "code",
      "execution_count": null,
      "metadata": {
        "colab": {
          "base_uri": "https://localhost:8080/"
        },
        "id": "KWcdzKlmQj9q",
        "outputId": "727b1160-6d95-471f-dbd3-3f7fdc5abf33"
      },
      "outputs": [
        {
          "output_type": "stream",
          "name": "stdout",
          "text": [
            "Epoch 1/100\n",
            "36/36 [==============================] - 56s 2s/step - loss: 0.6816 - accuracy: 0.5802 - val_loss: 0.7153 - val_accuracy: 0.5197\n",
            "Epoch 2/100\n",
            "36/36 [==============================] - 50s 1s/step - loss: 0.6403 - accuracy: 0.6320 - val_loss: 0.7171 - val_accuracy: 0.5140\n",
            "Epoch 3/100\n",
            "36/36 [==============================] - 51s 1s/step - loss: 0.6097 - accuracy: 0.6717 - val_loss: 0.7203 - val_accuracy: 0.5120\n",
            "Epoch 4/100\n",
            "36/36 [==============================] - 50s 1s/step - loss: 0.5784 - accuracy: 0.7064 - val_loss: 0.7249 - val_accuracy: 0.5034\n"
          ]
        }
      ],
      "source": [
        "RNN = Sequential()\n",
        "RNN.add(SimpleRNN(128, input_shape=(1250, 33), return_sequences=True))  # RNN layer with 128 units and return sequences\n",
        "RNN.add(SimpleRNN(128))  # Additional RNN layer with 128 units\n",
        "RNN.add(Dense(64, activation='relu'))  # Dense layer with 64 units and ReLU activation\n",
        "RNN.add(Dense(1, activation='sigmoid'))  # Output layer with sigmoid activation\n",
        "\n",
        "# Compile the model\n",
        "\n",
        "optimizer = tf.keras.optimizers.Adam(learning_rate=0.0001)\n",
        "RNN.compile(loss='binary_crossentropy', optimizer=optimizer, metrics=['accuracy'])\n",
        "\n",
        "# Define early stopping callback\n",
        "early_stopping = EarlyStopping(monitor='val_loss', patience=3, restore_best_weights=True)\n",
        "\n",
        "# Train the model\n",
        "history=RNN.fit(X_train_dl, y_train_dl, epochs=100, batch_size=132,validation_data= (X_val_dl, y_val_dl), callbacks=[early_stopping])\n"
      ]
    },
    {
      "cell_type": "code",
      "execution_count": null,
      "metadata": {
        "colab": {
          "base_uri": "https://localhost:8080/"
        },
        "id": "9Q7YjNAsHSfM",
        "outputId": "e8184a90-5feb-456e-9951-5868e9b88bcf"
      },
      "outputs": [
        {
          "output_type": "stream",
          "name": "stdout",
          "text": [
            "181/181 [==============================] - 1s 5ms/step\n",
            "181/181 [==============================] - 2s 11ms/step\n",
            "181/181 [==============================] - 29s 158ms/step\n",
            "44/44 [==============================] - 0s 5ms/step\n",
            "44/44 [==============================] - 1s 13ms/step\n",
            "44/44 [==============================] - 7s 162ms/step\n"
          ]
        }
      ],
      "source": [
        "# 4. Generate predictions\n",
        "X_test_ml, X_test_dl = X_test.reshape(X_test.shape[0], -1), X_test\n",
        "\n",
        "xgboost_predictions_train = xgboost.predict(X_train_ml).reshape(-1, 1)\n",
        "dt_predictions_train = decision_tree.predict(X_train_ml).reshape(-1, 1)\n",
        "CNN_predictions_train = CNN.predict(X_train).reshape(-1, 1)\n",
        "CNN_GRU_predictions_train = CNN_GRU.predict(X_train).reshape(-1, 1)\n",
        "RNN_predictions_train = RNN.predict(X_train).reshape(-1, 1)\n",
        "\n",
        "\n",
        "xgboost_predictions_test = xgboost.predict(X_test_ml).reshape(-1, 1)\n",
        "dt_predictions_test = decision_tree.predict(X_test_ml).reshape(-1, 1)\n",
        "CNN_predictions_test = CNN.predict(X_test_dl).reshape(-1, 1)\n",
        "CNN_GRU_predictions_test = CNN_GRU.predict(X_test_dl).reshape(-1, 1)\n",
        "RNN_predictions_test = RNN.predict(X_test_dl).reshape(-1, 1)\n"
      ]
    },
    {
      "cell_type": "code",
      "source": [
        "# xgboost\n",
        "ensemble_accuracy = accuracy_score(y_test, xgboost_predictions_test)\n",
        "precision         = precision_score(y_test, xgboost_predictions_test)\n",
        "recall            = recall_score(y_test, xgboost_predictions_test)\n",
        "f1                = f1_score(y_test, xgboost_predictions_test)\n",
        "\n",
        "print(f'xgboost accuracy : {ensemble_accuracy}')\n",
        "print(f'xgboost precision : {precision}')\n",
        "print(f'xgboost recall : {recall}')\n",
        "print(f'xgboost f1 : {f1}')\n",
        "\n",
        "\n",
        "# dt\n",
        "ensemble_accuracy = accuracy_score(y_test, dt_predictions_test)\n",
        "precision         = precision_score(y_test, dt_predictions_test)\n",
        "recall            = recall_score(y_test, dt_predictions_test)\n",
        "f1                = f1_score(y_test, dt_predictions_test)\n",
        "\n",
        "print(f'dt accuracy : {ensemble_accuracy}')\n",
        "print(f'dt precision : {precision}')\n",
        "print(f'dt recall : {recall}')\n",
        "print(f'dt f1 : {f1}')\n",
        "\n",
        "\n",
        "# CNN\n",
        "threshhold = 0.5\n",
        "CNN_predictions_test = np.where(CNN_predictions_test > threshhold, 1, 0)\n",
        "ensemble_accuracy = accuracy_score(y_test, CNN_predictions_test)\n",
        "precision         = precision_score(y_test, CNN_predictions_test)\n",
        "recall            = recall_score(y_test, CNN_predictions_test)\n",
        "f1                = f1_score(y_test, CNN_predictions_test)\n",
        "\n",
        "print(f'CNN accuracy : {ensemble_accuracy}')\n",
        "print(f'CNN precision : {precision}')\n",
        "print(f'CNN recall : {recall}')\n",
        "print(f'CNN f1 : {f1}')\n",
        "\n",
        "\n",
        "# CNN-GRU\n",
        "threshhold = 0.5\n",
        "CNN_GRU_predictions_test = np.where(CNN_GRU_predictions_test > threshhold, 1, 0)\n",
        "ensemble_accuracy = accuracy_score(y_test, CNN_predictions_test)\n",
        "precision         = precision_score(y_test, CNN_predictions_test)\n",
        "recall            = recall_score(y_test, CNN_predictions_test)\n",
        "f1                = f1_score(y_test, CNN_predictions_test)\n",
        "\n",
        "print(f'CNN-GRU accuracy : {ensemble_accuracy}')\n",
        "print(f'CNN-GRU precision : {precision}')\n",
        "print(f'CNN-GRU recall : {recall}')\n",
        "print(f'CNN-GRU f1 : {f1}')\n",
        "\n",
        "# RNN\n",
        "threshhold = 0.5\n",
        "RNN_predictions_test = np.where(RNN_predictions_test > threshhold, 1, 0)\n",
        "ensemble_accuracy = accuracy_score(y_test, RNN_predictions_test)\n",
        "precision         = precision_score(y_test, RNN_predictions_test)\n",
        "recall            = recall_score(y_test, RNN_predictions_test)\n",
        "f1                = f1_score(y_test, RNN_predictions_test)\n",
        "\n",
        "print(f'RNN accuracy : {ensemble_accuracy}')\n",
        "print(f'RNN precision : {precision}')\n",
        "print(f'RNN recall : {recall}')\n",
        "print(f'RNN f1 : {f1}')\n"
      ],
      "metadata": {
        "colab": {
          "base_uri": "https://localhost:8080/"
        },
        "id": "n7bM2sgMADT9",
        "outputId": "3d9209b2-b6b8-436e-f367-ed0780917db3"
      },
      "execution_count": null,
      "outputs": [
        {
          "output_type": "stream",
          "name": "stdout",
          "text": [
            "xgboost accuracy : 0.7845263919016631\n",
            "xgboost precision : 0.8472222222222222\n",
            "xgboost recall : 0.8364978902953587\n",
            "xgboost f1 : 0.8418259023354565\n",
            "dt accuracy : 0.6789587852494577\n",
            "dt precision : 0.8103448275862069\n",
            "dt recall : 0.6940928270042194\n",
            "dt f1 : 0.7477272727272727\n",
            "CNN accuracy : 0.6681127982646421\n",
            "CNN precision : 0.7643243243243243\n",
            "CNN recall : 0.7457805907172996\n",
            "CNN f1 : 0.7549386011745862\n",
            "CNN-GRU accuracy : 0.6681127982646421\n",
            "CNN-GRU precision : 0.7643243243243243\n",
            "CNN-GRU recall : 0.7457805907172996\n",
            "CNN-GRU f1 : 0.7549386011745862\n",
            "RNN accuracy : 0.6362979031091829\n",
            "RNN precision : 0.6943231441048034\n",
            "RNN recall : 0.8386075949367089\n",
            "RNN f1 : 0.7596751075011945\n"
          ]
        }
      ]
    },
    {
      "cell_type": "code",
      "source": [
        "#making a new dataset for training our final model by stacking the predictions on the validation data\n",
        "train_stack = np.column_stack((xgboost_predictions_train,\n",
        "                               dt_predictions_train,\n",
        "                               CNN_predictions_train,\n",
        "                               CNN_GRU_predictions_train,\n",
        "                               RNN_predictions_train))\n",
        "\n",
        "#making the final test set for our final model by stacking the predictions on the test data\n",
        "test_stack = np.column_stack((xgboost_predictions_test,\n",
        "                              dt_predictions_test,\n",
        "                              CNN_predictions_test,\n",
        "                              CNN_GRU_predictions_test,\n",
        "                              RNN_predictions_test))\n",
        "\n",
        "\n",
        "final_model = RandomForestClassifier(n_estimators=200)\n",
        "\n",
        "#training the final model on the stacked predictions\n",
        "final_model.fit(train_stack,y_train)\n",
        "\n",
        "final_predictions = final_model.predict(test_stack)\n",
        "\n",
        "# Compute accuracy using the binary class labels\n",
        "ensemble_accuracy = accuracy_score(y_test, final_predictions)\n",
        "precision         = precision_score(y_test, final_predictions)\n",
        "recall            = recall_score(y_test, final_predictions)\n",
        "f1                = f1_score(y_test, final_predictions)\n",
        "\n",
        "print(f'Ensemble accuracy : {ensemble_accuracy}')\n",
        "print(f'Ensemble precision : {precision}')\n",
        "print(f'Ensemble recall : {recall}')\n",
        "print(f'Ensemble f1 : {f1}')"
      ],
      "metadata": {
        "colab": {
          "base_uri": "https://localhost:8080/"
        },
        "id": "NtRY3iJP98uX",
        "outputId": "62ad1ff6-9fff-4e63-81f3-f2018d56f99f"
      },
      "execution_count": null,
      "outputs": [
        {
          "output_type": "stream",
          "name": "stdout",
          "text": [
            "Ensemble accuracy : 0.7845263919016631\n",
            "Ensemble precision : 0.8472222222222222\n",
            "Ensemble recall : 0.8364978902953587\n",
            "Ensemble f1 : 0.8418259023354565\n"
          ]
        }
      ]
    },
    {
      "cell_type": "markdown",
      "source": [
        "# DT 7 with DL"
      ],
      "metadata": {
        "id": "TRbVlyr9rVB2"
      }
    },
    {
      "cell_type": "code",
      "source": [
        "from glob import glob\n",
        "import scipy.io\n",
        "import torch.nn as nn\n",
        "import torch\n",
        "import numpy as np\n",
        "\n",
        "X_train = np.load('/content/drive/MyDrive/GP/GP-Data/DT_Dataset/X_train7.npy')\n",
        "X_val = np.load('/content/drive/MyDrive/GP/GP-Data/DT_Dataset/X_validate7.npy')\n",
        "X_test = np.load('/content/drive/MyDrive/GP/GP-Data/DT_Dataset/X_test7.npy')\n",
        "y_train = np.load('/content/drive/MyDrive/GP/GP-Data/DT_Dataset/y_train7.npy')\n",
        "y_val = np.load('/content/drive/MyDrive/GP/GP-Data/DT_Dataset/y_validate7.npy')\n",
        "y_test = np.load('/content/drive/MyDrive/GP/GP-Data/DT_Dataset/y_test7.npy')\n",
        "\n",
        "\n",
        "X_train.shape, X_val.shape, X_test.shape, y_train.shape, y_val.shape, y_test.shape"
      ],
      "metadata": {
        "id": "d_2YFj2DHsv9",
        "colab": {
          "base_uri": "https://localhost:8080/"
        },
        "outputId": "ebbe5581-62ca-400a-8d8b-c899d04c3e47"
      },
      "execution_count": 210,
      "outputs": [
        {
          "output_type": "execute_result",
          "data": {
            "text/plain": [
              "((4728, 7), (1039, 7), (1383, 7), (4728, 1), (1039, 1), (1383, 1))"
            ]
          },
          "metadata": {},
          "execution_count": 210
        }
      ]
    },
    {
      "cell_type": "markdown",
      "source": [
        "### CNN  (BEST)"
      ],
      "metadata": {
        "id": "vZ-22khx4P2J"
      }
    },
    {
      "cell_type": "code",
      "source": [
        "import tensorflow as tf\n",
        "from tensorflow.keras.layers import Input, Conv1D, concatenate, Dense, MaxPooling1D, Flatten\n",
        "from tensorflow.keras.models import Model\n",
        "from tensorflow.keras.optimizers import Adam\n",
        "from tensorflow.keras.callbacks import EarlyStopping\n",
        "from sklearn.model_selection import StratifiedKFold\n",
        "\n",
        "def block(input):\n",
        "    conv1 = Conv1D(32, 2, strides=2, activation='relu', padding=\"same\")(input)\n",
        "    conv2 = Conv1D(32, 4, strides=2, activation='relu', padding=\"causal\")(input)\n",
        "    conv3 = Conv1D(32, 8, strides=2, activation='relu', padding=\"causal\")(input)\n",
        "    x = concatenate([conv1, conv2, conv3], axis=2)\n",
        "    return x\n",
        "\n",
        "# Define the input layer\n",
        "input_layer = Input(shape=(7, 1))\n",
        "\n",
        "# Create the first block\n",
        "\n",
        "block1 = block(input_layer)\n",
        "\n",
        "# Create the second block using the 'block' function with the output of the first block as input\n",
        "block2 = block(block1)\n",
        "\n",
        "# Create the third block using the 'block' function with the output of the second block as input\n",
        "block3 = block(block2)\n",
        "\n",
        "cnn_out1 = Conv1D(32, 3, activation='relu', padding='same')(block3)\n",
        "cnn_out2 = Conv1D(32, 3, activation='relu', padding='same')(cnn_out1)\n",
        "cnn_out3 = MaxPooling1D(pool_size=1)(cnn_out2)\n",
        "cnn_out4 = Flatten()(cnn_out3)\n",
        "\n",
        "# Create a Dense layer with 1 unit and sigmoid activation for binary classification\n",
        "predictions = Dense(1, activation='sigmoid')(cnn_out4)\n",
        "\n",
        "# Define the model with 'input_layer' as the input and 'predictions' as the output\n",
        "cnn_model = Model(inputs=input_layer, outputs=predictions)\n",
        "\n",
        "# Specify the Adam optimizer with a learning rate of 0.0001\n",
        "optimizer = Adam(learning_rate=0.0001)\n",
        "\n",
        "# Compile the model with binary crossentropy loss and accuracy as the evaluation metric\n",
        "cnn_model.compile(optimizer=optimizer, loss='binary_crossentropy', metrics=['accuracy'])\n",
        "\n",
        "# Define early stopping callback\n",
        "early_stopping = EarlyStopping(monitor='val_loss', patience=5, restore_best_weights=True)\n",
        "#X_trainD, X_testD, X_valD = select_features_with_decision_tree(X_train, y_train, X_test, y_test,X_val,y_val)\n",
        "hist = cnn_model.fit(X_train, y_train, epochs=70, batch_size=64,\n",
        "                     validation_data=(X_val, y_val), callbacks=[early_stopping])\n"
      ],
      "metadata": {
        "colab": {
          "base_uri": "https://localhost:8080/"
        },
        "id": "9Oze9frEmTas",
        "outputId": "25148e11-9163-462d-f2d8-f66548cc3809"
      },
      "execution_count": 211,
      "outputs": [
        {
          "output_type": "stream",
          "name": "stdout",
          "text": [
            "Epoch 1/70\n",
            "74/74 [==============================] - 4s 13ms/step - loss: 0.6909 - accuracy: 0.5899 - val_loss: 0.6897 - val_accuracy: 0.5775\n",
            "Epoch 2/70\n",
            "74/74 [==============================] - 1s 8ms/step - loss: 0.6857 - accuracy: 0.5935 - val_loss: 0.6847 - val_accuracy: 0.5775\n",
            "Epoch 3/70\n",
            "74/74 [==============================] - 1s 8ms/step - loss: 0.6780 - accuracy: 0.5935 - val_loss: 0.6785 - val_accuracy: 0.5775\n",
            "Epoch 4/70\n",
            "74/74 [==============================] - 1s 8ms/step - loss: 0.6691 - accuracy: 0.5935 - val_loss: 0.6723 - val_accuracy: 0.5775\n",
            "Epoch 5/70\n",
            "74/74 [==============================] - 1s 8ms/step - loss: 0.6561 - accuracy: 0.5935 - val_loss: 0.6615 - val_accuracy: 0.5775\n",
            "Epoch 6/70\n",
            "74/74 [==============================] - 1s 7ms/step - loss: 0.6327 - accuracy: 0.5956 - val_loss: 0.6400 - val_accuracy: 0.5784\n",
            "Epoch 7/70\n",
            "74/74 [==============================] - 1s 8ms/step - loss: 0.5955 - accuracy: 0.7124 - val_loss: 0.6189 - val_accuracy: 0.5775\n",
            "Epoch 8/70\n",
            "74/74 [==============================] - 1s 7ms/step - loss: 0.5555 - accuracy: 0.7587 - val_loss: 0.5783 - val_accuracy: 0.5861\n",
            "Epoch 9/70\n",
            "74/74 [==============================] - 1s 8ms/step - loss: 0.5170 - accuracy: 0.7707 - val_loss: 0.5649 - val_accuracy: 0.5852\n",
            "Epoch 10/70\n",
            "74/74 [==============================] - 1s 8ms/step - loss: 0.4863 - accuracy: 0.7646 - val_loss: 0.5488 - val_accuracy: 0.7161\n",
            "Epoch 11/70\n",
            "74/74 [==============================] - 1s 8ms/step - loss: 0.4594 - accuracy: 0.7576 - val_loss: 0.5555 - val_accuracy: 0.7122\n",
            "Epoch 12/70\n",
            "74/74 [==============================] - 1s 8ms/step - loss: 0.4358 - accuracy: 0.7695 - val_loss: 0.5814 - val_accuracy: 0.7170\n",
            "Epoch 13/70\n",
            "74/74 [==============================] - 1s 8ms/step - loss: 0.4161 - accuracy: 0.7917 - val_loss: 0.6173 - val_accuracy: 0.7055\n",
            "Epoch 14/70\n",
            "74/74 [==============================] - 1s 8ms/step - loss: 0.3945 - accuracy: 0.8166 - val_loss: 0.6714 - val_accuracy: 0.7151\n",
            "Epoch 15/70\n",
            "74/74 [==============================] - 1s 7ms/step - loss: 0.3777 - accuracy: 0.8397 - val_loss: 0.7268 - val_accuracy: 0.7103\n"
          ]
        }
      ]
    },
    {
      "cell_type": "code",
      "source": [
        "\n",
        "from sklearn.metrics import accuracy_score, recall_score, precision_score, f1_score\n",
        "\n",
        "# Predict on test data\n",
        "y_pred = cnn_model.predict(X_test)\n",
        "\n",
        "# Convert probabilities to binary predictions\n",
        "#y_pred_binary = [int(round(p[0])) for p in y_pred]\n",
        "\n",
        "\n",
        "#y_pred = hist.model.predict(test_features)\n",
        "y_pred_binary = (y_pred > 0.5).astype(int)\n",
        "\n",
        "# Calculate accuracy, recall, precision, and F1-score\n",
        "accuracy = accuracy_score(y_test, y_pred_binary)\n",
        "recall = recall_score(y_test, y_pred_binary)\n",
        "precision = precision_score(y_test, y_pred_binary)\n",
        "f1_score = f1_score(y_test, y_pred_binary)\n",
        "\n",
        "# Print the results\n",
        "print(\"Accuracy:\", accuracy)\n",
        "print(\"Recall:\", recall)\n",
        "print(\"Precision:\", precision)\n",
        "print(\"F1-score:\", f1_score)"
      ],
      "metadata": {
        "colab": {
          "base_uri": "https://localhost:8080/"
        },
        "id": "70jMWpX3t-OQ",
        "outputId": "6d9bb10c-4f63-4525-ff31-1d29b0ff19ae"
      },
      "execution_count": 212,
      "outputs": [
        {
          "output_type": "stream",
          "name": "stdout",
          "text": [
            "44/44 [==============================] - 0s 3ms/step\n",
            "Accuracy: 0.7707881417208966\n",
            "Recall: 0.8280590717299579\n",
            "Precision: 0.8359957401490948\n",
            "F1-score: 0.8320084790673027\n"
          ]
        }
      ]
    },
    {
      "cell_type": "markdown",
      "source": [
        "### CNN-LSTM (BEST)"
      ],
      "metadata": {
        "id": "qDAA-ip95kr-"
      }
    },
    {
      "cell_type": "code",
      "source": [
        "from tensorflow.keras.layers import Input, Conv1D, concatenate, Dense, MaxPooling1D, Flatten, LSTM\n",
        "from tensorflow.keras.models import Model\n",
        "from tensorflow.keras.optimizers import Adam, SGD\n",
        "from tensorflow.keras.callbacks import EarlyStopping\n",
        "\n",
        "# Define the input layer with a shape of (1250, 33)\n",
        "input_layer = Input(shape=(7, 1))\n",
        "\n",
        "# Convolutional Block\n",
        "conv1 = Conv1D(32, 2, strides=2, activation='relu', padding=\"same\")(input_layer)\n",
        "conv2 = Conv1D(32, 4, strides=2, activation='relu', padding=\"causal\")(input_layer)\n",
        "conv3 = Conv1D(32, 8, strides=2, activation='relu', padding=\"causal\")(input_layer)\n",
        "cnn_output = concatenate([conv1, conv2, conv3], axis=2)\n",
        "\n",
        "# LSTM Layer\n",
        "lstm_layer = LSTM(100)(cnn_output)\n",
        "\n",
        "# Fully Connected Layers\n",
        "dense1 = Dense(32, activation='tanh')(lstm_layer)\n",
        "\n",
        "# Output Layer\n",
        "predictions = Dense(1, activation='sigmoid')(dense1)\n",
        "\n",
        "# Create the model\n",
        "CNN_LSTM = Model(inputs=input_layer, outputs=predictions)\n",
        "\n",
        "# Compile the model\n",
        "optimizer = Adam(learning_rate=0.001)\n",
        "CNN_LSTM.compile(optimizer=optimizer, loss='binary_crossentropy', metrics=['accuracy'])\n",
        "\n",
        "# Define early stopping callback\n",
        "early_stopping = EarlyStopping(monitor='val_loss', patience=5, restore_best_weights=True)\n",
        "\n",
        "\n",
        "hist = CNN_LSTM.fit(X_train, y_train, epochs=10, batch_size=64, validation_data=(X_val, y_val))\n"
      ],
      "metadata": {
        "colab": {
          "base_uri": "https://localhost:8080/"
        },
        "outputId": "1100e23a-21c9-4b29-d1e8-52301fe51917",
        "id": "7WvW80X96GpI"
      },
      "execution_count": 213,
      "outputs": [
        {
          "output_type": "stream",
          "name": "stdout",
          "text": [
            "Epoch 1/10\n",
            "74/74 [==============================] - 4s 19ms/step - loss: 0.6686 - accuracy: 0.5986 - val_loss: 0.6676 - val_accuracy: 0.5765\n",
            "Epoch 2/10\n",
            "74/74 [==============================] - 1s 10ms/step - loss: 0.5480 - accuracy: 0.7280 - val_loss: 0.5712 - val_accuracy: 0.8402\n",
            "Epoch 3/10\n",
            "74/74 [==============================] - 1s 10ms/step - loss: 0.4992 - accuracy: 0.7631 - val_loss: 0.5865 - val_accuracy: 0.7132\n",
            "Epoch 4/10\n",
            "74/74 [==============================] - 1s 11ms/step - loss: 0.4792 - accuracy: 0.7633 - val_loss: 0.6519 - val_accuracy: 0.5775\n",
            "Epoch 5/10\n",
            "74/74 [==============================] - 1s 10ms/step - loss: 0.4302 - accuracy: 0.7716 - val_loss: 0.7648 - val_accuracy: 0.5813\n",
            "Epoch 6/10\n",
            "74/74 [==============================] - 1s 11ms/step - loss: 0.3555 - accuracy: 0.7953 - val_loss: 1.5434 - val_accuracy: 0.5775\n",
            "Epoch 7/10\n",
            "74/74 [==============================] - 1s 10ms/step - loss: 0.3068 - accuracy: 0.8452 - val_loss: 1.7518 - val_accuracy: 0.5784\n",
            "Epoch 8/10\n",
            "74/74 [==============================] - 1s 10ms/step - loss: 0.2437 - accuracy: 0.8750 - val_loss: 1.7804 - val_accuracy: 0.5794\n",
            "Epoch 9/10\n",
            "74/74 [==============================] - 1s 10ms/step - loss: 0.2127 - accuracy: 0.8940 - val_loss: 1.9317 - val_accuracy: 0.5871\n",
            "Epoch 10/10\n",
            "74/74 [==============================] - 1s 10ms/step - loss: 0.1893 - accuracy: 0.8964 - val_loss: 2.3966 - val_accuracy: 0.5804\n"
          ]
        }
      ]
    },
    {
      "cell_type": "code",
      "source": [
        "\n",
        "from sklearn.metrics import accuracy_score, recall_score, precision_score, f1_score\n",
        "\n",
        "# Predict on test data\n",
        "y_pred = CNN_LSTM.predict(X_test)\n",
        "\n",
        "# Convert probabilities to binary predictions\n",
        "#y_pred_binary = [int(round(p[0])) for p in y_pred]\n",
        "\n",
        "\n",
        "#y_pred = hist.model.predict(test_features)\n",
        "y_pred_binary = (y_pred > 0.5).astype(int)\n",
        "\n",
        "# Calculate accuracy, recall, precision, and F1-score\n",
        "accuracy = accuracy_score(y_test, y_pred_binary)\n",
        "recall = recall_score(y_test, y_pred_binary)\n",
        "precision = precision_score(y_test, y_pred_binary)\n",
        "f1_score = f1_score(y_test, y_pred_binary)\n",
        "\n",
        "# Print the results\n",
        "print(\"Accuracy:\", accuracy)\n",
        "print(\"Recall:\", recall)\n",
        "print(\"Precision:\", precision)\n",
        "print(\"F1-score:\", f1_score)"
      ],
      "metadata": {
        "colab": {
          "base_uri": "https://localhost:8080/"
        },
        "outputId": "0ca7ca3a-0059-419f-c3fa-ebe110afab01",
        "id": "yCnBeefT6GpS"
      },
      "execution_count": 214,
      "outputs": [
        {
          "output_type": "stream",
          "name": "stdout",
          "text": [
            "44/44 [==============================] - 1s 4ms/step\n",
            "Accuracy: 0.8647866955892987\n",
            "Recall: 0.9588607594936709\n",
            "Precision: 0.8599810785241249\n",
            "F1-score: 0.9067331670822942\n"
          ]
        }
      ]
    },
    {
      "cell_type": "markdown",
      "source": [
        "### CNN+GRU"
      ],
      "metadata": {
        "id": "uvzxHGRT6gW5"
      }
    },
    {
      "cell_type": "code",
      "source": [
        "import tensorflow as tf\n",
        "from tensorflow.keras.layers import Input,Dense,concatenate,Flatten,GRU,Conv1D\n",
        "from tensorflow.keras.models import Model\n",
        "from tensorflow.keras.optimizers import Adam\n",
        "from tensorflow.keras.callbacks import EarlyStopping\n",
        "\n",
        "#resource:https://github.com/dll-ncai/eeg_pre-diagnostic_screening/blob/master/code/chrononet/chrono.py\n",
        "\n",
        "def block(input):\n",
        "\n",
        "  \"\"\"\n",
        "    Create a block consisting of three parallel convolutional layers followed by concatenation.\n",
        "\n",
        "    Parameters:\n",
        "    - input: Input tensor.\n",
        "\n",
        "    Returns:\n",
        "    - Concatenated tensor resulting from the parallel convolutional layers.\n",
        "    \"\"\"\n",
        "\n",
        "  conv1 = Conv1D(32, 2, strides=2,activation='relu',padding=\"same\")(input)\n",
        "  conv2 = Conv1D(32, 4, strides=2,activation='relu',padding=\"causal\")(input)\n",
        "  conv3 = Conv1D(32, 8, strides=2,activation='relu',padding=\"causal\")(input)\n",
        "  x = concatenate([conv1,conv2,conv3],axis=2)\n",
        "  return x\n",
        "\n",
        "# Define the input layer with a shape of (1250, 33)\n",
        "input = Input(shape=(7, 1))\n",
        "\n",
        "# Create the first block\n",
        "block1 = block(input)\n",
        "\n",
        "# Create the second block using the 'block' function with the output of the first block as input\n",
        "block2 = block(block1)\n",
        "\n",
        "# Create the third block using the 'block' function with the output of the second block as input\n",
        "block3 = block(block2)\n",
        "\n",
        "gru_out1 = GRU(32,activation='tanh',return_sequences=True)(block3)\n",
        "gru_out2 = GRU(32,activation='tanh',return_sequences=True)(gru_out1)\n",
        "gru_out = concatenate([gru_out1,gru_out2],axis=2)\n",
        "gru_out3 = GRU(32,activation='tanh',return_sequences=True)(gru_out)\n",
        "gru_out = concatenate([gru_out1,gru_out2,gru_out3])\n",
        "gru_out4 = GRU(32,activation='tanh')(gru_out)\n",
        "\n",
        "# Create a Dense layer with 1 unit and sigmoid activation for binary classification\n",
        "predictions = Dense(1, activation='sigmoid')(gru_out4)\n",
        "\n",
        "# Define the model with 'input' as the input and 'predictions' as the output\n",
        "cnn_gru = Model(inputs=input, outputs=predictions)\n",
        "\n",
        "# Specify the Adam optimizer with a learning rate of 0.0001\n",
        "optimizer = Adam(learning_rate=0.001)\n",
        "\n",
        "# Compile the model with binary crossentropy loss and accuracy as the evaluation metric\n",
        "cnn_gru.compile(optimizer=optimizer, loss='binary_crossentropy', metrics=['accuracy'])\n",
        "\n",
        "# Define early stopping callback\n",
        "early_stopping = EarlyStopping(monitor='val_loss', patience=5, restore_best_weights=True)\n",
        "\n",
        "hist = cnn_gru.fit(X_train, y_train, epochs=70, batch_size=64, validation_data=(X_val, y_val), callbacks=[early_stopping])"
      ],
      "metadata": {
        "colab": {
          "base_uri": "https://localhost:8080/"
        },
        "id": "o329DFvME4E9",
        "outputId": "ba0f0199-0167-46cc-b730-33b56d1b2ec9"
      },
      "execution_count": 215,
      "outputs": [
        {
          "output_type": "stream",
          "name": "stdout",
          "text": [
            "Epoch 1/70\n",
            "74/74 [==============================] - 12s 36ms/step - loss: 0.6468 - accuracy: 0.6155 - val_loss: 0.5092 - val_accuracy: 0.7199\n",
            "Epoch 2/70\n",
            "74/74 [==============================] - 1s 14ms/step - loss: 0.4486 - accuracy: 0.7642 - val_loss: 0.7704 - val_accuracy: 0.5775\n",
            "Epoch 3/70\n",
            "74/74 [==============================] - 1s 14ms/step - loss: 0.3092 - accuracy: 0.8636 - val_loss: 1.5079 - val_accuracy: 0.7103\n",
            "Epoch 4/70\n",
            "74/74 [==============================] - 1s 14ms/step - loss: 0.2046 - accuracy: 0.9080 - val_loss: 1.9512 - val_accuracy: 0.7103\n",
            "Epoch 5/70\n",
            "74/74 [==============================] - 1s 14ms/step - loss: 0.1090 - accuracy: 0.9533 - val_loss: 2.6384 - val_accuracy: 0.5813\n",
            "Epoch 6/70\n",
            "74/74 [==============================] - 1s 16ms/step - loss: 0.0610 - accuracy: 0.9689 - val_loss: 3.0110 - val_accuracy: 0.5852\n"
          ]
        }
      ]
    },
    {
      "cell_type": "code",
      "source": [
        "from sklearn.metrics import accuracy_score, recall_score, precision_score, f1_score\n",
        "\n",
        "# Predict on test data\n",
        "y_pred = cnn_gru.predict(X_test)\n",
        "\n",
        "# Convert probabilities to binary predictions\n",
        "#y_pred_binary = [int(round(p[0])) for p in y_pred]\n",
        "\n",
        "\n",
        "#y_pred = hist.model.predict(test_features)\n",
        "y_pred_binary = (y_pred > 0.5).astype(int)\n",
        "\n",
        "# Calculate accuracy, recall, precision, and F1-score\n",
        "accuracy = accuracy_score(y_test, y_pred_binary)\n",
        "recall = recall_score(y_test, y_pred_binary)\n",
        "precision = precision_score(y_test, y_pred_binary)\n",
        "f1_score = f1_score(y_test, y_pred_binary)\n",
        "\n",
        "# Print the results\n",
        "print(\"Accuracy:\", accuracy)\n",
        "print(\"Recall:\", recall)\n",
        "print(\"Precision:\", precision)\n",
        "print(\"F1-score:\", f1_score)"
      ],
      "metadata": {
        "colab": {
          "base_uri": "https://localhost:8080/"
        },
        "id": "6WD8SF5OGcCo",
        "outputId": "edbe61e8-be29-4107-dfe3-5619bf37b297"
      },
      "execution_count": 216,
      "outputs": [
        {
          "output_type": "stream",
          "name": "stdout",
          "text": [
            "44/44 [==============================] - 2s 5ms/step\n",
            "Accuracy: 0.7563268257411424\n",
            "Recall: 0.8027426160337553\n",
            "Precision: 0.8353457738748628\n",
            "F1-score: 0.8187197417966648\n"
          ]
        }
      ]
    },
    {
      "cell_type": "markdown",
      "source": [
        "### RNN"
      ],
      "metadata": {
        "id": "9Ig2XYBa7O74"
      }
    },
    {
      "cell_type": "code",
      "source": [
        "from tensorflow.keras.layers import Input\n",
        "from tensorflow.keras.models import Sequential\n",
        "from tensorflow.keras.layers import SimpleRNN, Dense\n",
        "from tensorflow.keras.callbacks import EarlyStopping\n",
        "from tensorflow.keras.optimizers import Adam\n",
        "import tensorflow as tf\n",
        "\n",
        "input_shape = (7, 1)  # Define input shape as a tuple\n",
        "\n",
        "def create_model(input_shape):\n",
        "    model = Sequential()\n",
        "    model.add(SimpleRNN(128, input_shape=input_shape, return_sequences=True))  # RNN layer with 128 units and return sequences\n",
        "    model.add(SimpleRNN(128))  # Additional RNN layer with 128 units\n",
        "    model.add(Dense(64, activation='relu'))  # Dense layer with 64 units and ReLU activation\n",
        "    model.add(Dense(1, activation='sigmoid'))  # Output layer with sigmoid activation\n",
        "\n",
        "    return model\n",
        "\n",
        "# Pass input shape tuple to the create_model function\n",
        "rnn = create_model(input_shape)\n",
        "\n",
        "optimizer = tf.keras.optimizers.Adam(learning_rate=0.0001)\n",
        "rnn.compile(loss='binary_crossentropy', optimizer=optimizer, metrics=['accuracy'])\n",
        "\n",
        "early_stopping = EarlyStopping(monitor='val_loss', patience=3, restore_best_weights=True)\n",
        "\n",
        "hist = rnn.fit(X_train, y_train, epochs=70, batch_size=64, validation_data=(X_val, y_val), callbacks=[early_stopping])\n"
      ],
      "metadata": {
        "colab": {
          "base_uri": "https://localhost:8080/"
        },
        "id": "5XMDU50Qx1Lc",
        "outputId": "71f8ecf5-2dd1-45c9-b93a-bea100365eef"
      },
      "execution_count": 217,
      "outputs": [
        {
          "output_type": "stream",
          "name": "stdout",
          "text": [
            "Epoch 1/70\n",
            "74/74 [==============================] - 3s 14ms/step - loss: 0.6293 - accuracy: 0.6923 - val_loss: 0.6038 - val_accuracy: 0.7122\n",
            "Epoch 2/70\n",
            "74/74 [==============================] - 1s 9ms/step - loss: 0.5380 - accuracy: 0.7379 - val_loss: 0.5313 - val_accuracy: 0.7190\n",
            "Epoch 3/70\n",
            "74/74 [==============================] - 1s 9ms/step - loss: 0.5003 - accuracy: 0.7453 - val_loss: 0.5594 - val_accuracy: 0.5833\n",
            "Epoch 4/70\n",
            "74/74 [==============================] - 1s 9ms/step - loss: 0.4644 - accuracy: 0.7559 - val_loss: 0.6520 - val_accuracy: 0.5784\n",
            "Epoch 5/70\n",
            "74/74 [==============================] - 1s 9ms/step - loss: 0.4272 - accuracy: 0.7815 - val_loss: 0.6428 - val_accuracy: 0.7084\n"
          ]
        }
      ]
    },
    {
      "cell_type": "code",
      "source": [
        "\n",
        "from sklearn.metrics import accuracy_score, recall_score, precision_score, f1_score\n",
        "\n",
        "# Predict on test data\n",
        "y_pred = hist.model.predict(X_test)\n",
        "\n",
        "# Convert probabilities to binary predictions\n",
        "#y_pred_binary = [int(round(p[0])) for p in y_pred]\n",
        "\n",
        "\n",
        "#y_pred = hist.model.predict(test_features)\n",
        "y_pred_binary = (y_pred > 0.5).astype(int)\n",
        "\n",
        "# Calculate accuracy, recall, precision, and F1-score\n",
        "accuracy = accuracy_score(y_test, y_pred_binary)\n",
        "recall = recall_score(y_test, y_pred_binary)\n",
        "precision = precision_score(y_test, y_pred_binary)\n",
        "f1_score = f1_score(y_test, y_pred_binary)\n",
        "\n",
        "# Print the results\n",
        "print(\"Accuracy:\", accuracy)\n",
        "print(\"Recall:\", recall)\n",
        "print(\"Precision:\", precision)\n",
        "print(\"F1-score:\", f1_score)"
      ],
      "metadata": {
        "colab": {
          "base_uri": "https://localhost:8080/"
        },
        "id": "ayi1XIugx8_M",
        "outputId": "4aa5fa94-a71f-4975-d36d-f8d150ff08cc"
      },
      "execution_count": 218,
      "outputs": [
        {
          "output_type": "stream",
          "name": "stdout",
          "text": [
            "44/44 [==============================] - 0s 3ms/step\n",
            "Accuracy: 0.7686189443239335\n",
            "Recall: 0.8322784810126582\n",
            "Precision: 0.8305263157894737\n",
            "F1-score: 0.8314014752370917\n"
          ]
        }
      ]
    },
    {
      "cell_type": "code",
      "source": [],
      "metadata": {
        "id": "214Sx9a5uge1"
      },
      "execution_count": null,
      "outputs": []
    },
    {
      "cell_type": "markdown",
      "source": [
        "## Ensemble\n"
      ],
      "metadata": {
        "id": "_5moh3_YumZj"
      }
    },
    {
      "cell_type": "code",
      "source": [
        "y_test.dtype"
      ],
      "metadata": {
        "colab": {
          "base_uri": "https://localhost:8080/"
        },
        "id": "2jBTtrIfwYpm",
        "outputId": "f8e4f9da-c0cf-44ab-f3c0-cfc1f17997a8"
      },
      "execution_count": 131,
      "outputs": [
        {
          "output_type": "execute_result",
          "data": {
            "text/plain": [
              "dtype('int64')"
            ]
          },
          "metadata": {},
          "execution_count": 131
        }
      ]
    },
    {
      "cell_type": "code",
      "source": [
        "from scipy.stats import mode\n",
        "from sklearn.metrics import accuracy_score, recall_score, precision_score, f1_score\n",
        "\n",
        "threshold = 0.5\n",
        "\n",
        "cnn_pred = cnn_model.predict(X_test).reshape(-1, 1)\n",
        "cnnlstm_pred = CNN_LSTM.predict(X_test).reshape(-1, 1)\n",
        "cnngru_pred = cnn_gru.predict(X_test).reshape(-1, 1)\n",
        "rnn_pred = rnn.predict(X_test).reshape(-1, 1)\n",
        "\n",
        "\n",
        "cnn_pred =  (cnn_pred >= threshold).astype(int)\n",
        "cnnlstm_pred =  (cnnlstm_pred >= threshold).astype(int)\n",
        "cnngru_pred =  (cnngru_pred >= threshold).astype(int)\n",
        "rnn_pred =  (rnn_pred >= threshold).astype(int)\n",
        "\n",
        "\n",
        "\n",
        "ensemble_list = [cnn_pred, cnnlstm_pred, cnngru_pred, rnn_pred]\n",
        "\n",
        "# Combine predictions\n",
        "ensemble_voting = mode(ensemble_list, axis=0)[0].squeeze()\n",
        "\n",
        "\n",
        "# Compute accuracy using the binary class labels\n",
        "ensemble_accuracy = accuracy_score(y_test, ensemble_voting)\n",
        "precision         = precision_score(y_test, ensemble_voting)\n",
        "recall            = recall_score(y_test, ensemble_voting)\n",
        "f1                = f1_score(y_test, ensemble_voting)\n",
        "\n",
        "print(f'Ensemble accuracy : {ensemble_accuracy}')\n",
        "print(f'Ensemble precision : {precision}')\n",
        "print(f'Ensemble recall : {recall}')\n",
        "print(f'Ensemble f1 : {f1}')"
      ],
      "metadata": {
        "colab": {
          "base_uri": "https://localhost:8080/"
        },
        "id": "RER3ckcquort",
        "outputId": "da7ba6a7-bded-48a4-82ce-9b1ce965e180"
      },
      "execution_count": 219,
      "outputs": [
        {
          "output_type": "stream",
          "name": "stdout",
          "text": [
            "44/44 [==============================] - 0s 3ms/step\n",
            "44/44 [==============================] - 0s 3ms/step\n",
            "44/44 [==============================] - 0s 5ms/step\n",
            "44/44 [==============================] - 0s 3ms/step\n",
            "Ensemble accuracy : 0.767172812725958\n",
            "Ensemble precision : 0.8365591397849462\n",
            "Ensemble recall : 0.820675105485232\n",
            "Ensemble f1 : 0.8285410010649626\n"
          ]
        }
      ]
    },
    {
      "cell_type": "code",
      "source": [
        "from sklearn.ensemble import RandomForestClassifier\n",
        "from sklearn.linear_model import LogisticRegression\n",
        "import xgboost as xgb\n",
        "from sklearn.svm import SVC\n",
        "from sklearn.neighbors import KNeighborsClassifier\n",
        "from sklearn.ensemble import GradientBoostingClassifier\n",
        "\n",
        "\n",
        "cnn_tr = cnn_model.predict(X_train).reshape(-1, 1)\n",
        "cnnlstm_tr = CNN_LSTM.predict(X_train).reshape(-1, 1)\n",
        "cnngru_tr = cnn_gru.predict(X_train).reshape(-1, 1)\n",
        "rnn_tr = rnn.predict(X_train).reshape(-1, 1)\n",
        "\n",
        "\n",
        "cnn_tr =  (cnn_tr >= threshold).astype(int)\n",
        "cnnlstm_tr =  (cnnlstm_tr >= threshold).astype(int)\n",
        "cnngru_tr =  (cnngru_tr >= threshold).astype(int)\n",
        "rnn_tr =  (rnn_tr >= threshold).astype(int)\n",
        "\n",
        "\n",
        "\n",
        "cnn_pred = cnn_model.predict(X_test).reshape(-1, 1)\n",
        "cnnlstm_pred = CNN_LSTM.predict(X_test).reshape(-1, 1)\n",
        "cnngru_pred = cnn_gru.predict(X_test).reshape(-1, 1)\n",
        "rnn_pred = rnn.predict(X_test).reshape(-1, 1)\n",
        "\n",
        "\n",
        "cnn_pred =  (cnn_pred >= threshold).astype(int)\n",
        "cnnlstm_pred =  (cnnlstm_pred >= threshold).astype(int)\n",
        "cnngru_pred =  (cnngru_pred >= threshold).astype(int)\n",
        "rnn_pred =  (rnn_pred >= threshold).astype(int)\n",
        "\n",
        "\n",
        "#\n",
        "train_stack = np.column_stack((cnn_tr,\n",
        "                               cnnlstm_tr,\n",
        "                               cnngru_tr,\n",
        "                               rnn_tr))\n",
        "\n",
        "#\n",
        "test_stack = np.column_stack((cnn_pred,\n",
        "                              cnnlstm_pred,\n",
        "                              cnngru_pred,\n",
        "                              rnn_pred))\n",
        "\n",
        "final_model = LogisticRegression()\n",
        "\n",
        "\n",
        "#training the final model on the stacked predictions\n",
        "final_model.fit(train_stack,y_train)\n",
        "\n",
        "final_predictions = final_model.predict(test_stack)\n",
        "\n",
        "# Compute accuracy using the binary class labels\n",
        "ensemble_accuracy_ica = accuracy_score(y_test, final_predictions)\n",
        "precision_ica = precision_score(y_test, final_predictions)\n",
        "recall_ica = recall_score(y_test, final_predictions)\n",
        "f1_ica = f1_score(y_test, final_predictions)\n",
        "\n",
        "print(f'Ensemble accuracy : {ensemble_accuracy_ica}')\n",
        "print(f'Ensemble precision : {precision_ica}')\n",
        "print(f'Ensemble recall : {recall_ica}')\n",
        "print(f'Ensemble f1 : {f1_ica}')"
      ],
      "metadata": {
        "colab": {
          "base_uri": "https://localhost:8080/"
        },
        "id": "72Hj2zX0wpTA",
        "outputId": "c43d0ca8-e182-482b-deba-390316ffa148"
      },
      "execution_count": 231,
      "outputs": [
        {
          "output_type": "stream",
          "name": "stdout",
          "text": [
            "148/148 [==============================] - 0s 3ms/step\n",
            "148/148 [==============================] - 1s 4ms/step\n",
            "148/148 [==============================] - 1s 5ms/step\n",
            "148/148 [==============================] - 1s 3ms/step\n",
            "44/44 [==============================] - 0s 3ms/step\n",
            "44/44 [==============================] - 0s 3ms/step\n",
            "44/44 [==============================] - 0s 4ms/step\n",
            "44/44 [==============================] - 0s 3ms/step\n",
            "Ensemble accuracy : 0.8647866955892987\n",
            "Ensemble precision : 0.8599810785241249\n",
            "Ensemble recall : 0.9588607594936709\n",
            "Ensemble f1 : 0.9067331670822942\n"
          ]
        },
        {
          "output_type": "stream",
          "name": "stderr",
          "text": [
            "/usr/local/lib/python3.10/dist-packages/sklearn/utils/validation.py:1143: DataConversionWarning: A column-vector y was passed when a 1d array was expected. Please change the shape of y to (n_samples, ), for example using ravel().\n",
            "  y = column_or_1d(y, warn=True)\n"
          ]
        }
      ]
    },
    {
      "cell_type": "code",
      "source": [],
      "metadata": {
        "id": "4C55zOSy0awn"
      },
      "execution_count": null,
      "outputs": []
    }
  ],
  "metadata": {
    "colab": {
      "collapsed_sections": [
        "mELFnPdiSLSs",
        "VKCG0JibSRMu",
        "-FpRLveSXktb",
        "tFr_GtVhJf9T"
      ],
      "machine_shape": "hm",
      "provenance": [],
      "toc_visible": true,
      "mount_file_id": "https://github.com/maimonahST/GP/blob/main/Stacking.ipynb",
      "authorship_tag": "ABX9TyMCuXKRLhX/oBTrE/xhCHRW",
      "include_colab_link": true
    },
    "kernelspec": {
      "display_name": "Python 3",
      "name": "python3"
    },
    "language_info": {
      "name": "python"
    }
  },
  "nbformat": 4,
  "nbformat_minor": 0
}