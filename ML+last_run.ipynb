{
  "nbformat": 4,
  "nbformat_minor": 0,
  "metadata": {
    "colab": {
      "provenance": []
    },
    "kernelspec": {
      "name": "python3",
      "display_name": "Python 3"
    },
    "language_info": {
      "name": "python"
    }
  },
  "cells": [
    {
      "cell_type": "code",
      "execution_count": 1,
      "metadata": {
        "id": "WLMyImcqaGIo"
      },
      "outputs": [],
      "source": [
        "from sklearn.metrics import confusion_matrix\n",
        "from sklearn.metrics import accuracy_score, classification_report\n",
        "import matplotlib.pyplot as plt\n",
        "import seaborn as sns\n",
        "from glob import glob\n",
        "import scipy.io\n",
        "import torch.nn as nn\n",
        "import torch\n",
        "import numpy as np\n",
        "from sklearn.model_selection import GroupKFold,LeaveOneGroupOut\n",
        "from sklearn.preprocessing import StandardScaler\n",
        "from sklearn.base import TransformerMixin,BaseEstimator\n",
        "from sklearn.metrics import confusion_matrix, ConfusionMatrixDisplay\n",
        "from sklearn.metrics import ConfusionMatrixDisplay"
      ]
    },
    {
      "cell_type": "code",
      "source": [
        "from google.colab import drive\n",
        "drive.mount('/content/drive')"
      ],
      "metadata": {
        "colab": {
          "base_uri": "https://localhost:8080/"
        },
        "id": "85zZDDBGaOo0",
        "outputId": "ed7198c4-f0d7-43f6-8b34-872010d3c7a8"
      },
      "execution_count": 2,
      "outputs": [
        {
          "output_type": "stream",
          "name": "stdout",
          "text": [
            "Mounted at /content/drive\n"
          ]
        }
      ]
    },
    {
      "cell_type": "code",
      "source": [
        "from glob import glob\n",
        "import scipy.io\n",
        "import torch.nn as nn\n",
        "import torch\n",
        "import numpy as np\n",
        "\n",
        "data_array = np.load('/content/drive/MyDrive/GP-Data/data_array.npy')\n",
        "label_array = np.load('/content/drive/MyDrive/GP-Data/label_array.npy')\n",
        "group_array = np.load('/content/drive/MyDrive/GP-Data/group_array.npy')\n",
        "\n",
        "print(data_array.shape,label_array.shape,group_array.shape)"
      ],
      "metadata": {
        "colab": {
          "base_uri": "https://localhost:8080/"
        },
        "id": "e35wwgOzaROL",
        "outputId": "18733ba6-1444-4125-f140-5472f487bff2"
      },
      "execution_count": 2,
      "outputs": [
        {
          "output_type": "stream",
          "name": "stdout",
          "text": [
            "(7150, 1250, 33) (7150,) (7150,)\n"
          ]
        }
      ]
    },
    {
      "cell_type": "code",
      "source": [
        "gkf=GroupKFold()\n",
        "class StandardScaler3D(BaseEstimator,TransformerMixin):\n",
        "    #batch, sequence, channels\n",
        "    def __init__(self):\n",
        "        self.scaler = StandardScaler()\n",
        "\n",
        "    def fit(self,X,y=None):\n",
        "        self.scaler.fit(X.reshape(-1, X.shape[2]))\n",
        "        return self\n",
        "\n",
        "    def transform(self,X):\n",
        "        return self.scaler.transform(X.reshape( -1,X.shape[2])).reshape(X.shape)\n",
        "\n",
        "\n",
        "def three_splits(data_array , label_array, group_array):\n",
        "\n",
        "  # Split data_array into train and validate\n",
        "  train_groups = []\n",
        "  for train_index, test_index in gkf.split(data_array, label_array, groups=group_array):\n",
        "      train_features, train_label = data_array[train_index],label_array[train_index]\n",
        "      X_test, y_test =data_array[test_index],label_array[test_index]\n",
        "      train_groups = group_array[train_index]\n",
        "\n",
        "      scaler=StandardScaler3D()\n",
        "      train_features=scaler.fit_transform(train_features)\n",
        "      X_test=scaler.transform(X_test)\n",
        "\n",
        "      print(f\"group={np.unique(group_array[train_index])}\")\n",
        "      print(f\"group={np.unique(group_array[test_index])}\")\n",
        "      break\n",
        "\n",
        "  # Split train_features into train and val\n",
        "  for train_index, val_index in gkf.split(train_features, train_label, groups= train_groups):\n",
        "      X_train, y_train =train_features[train_index],train_label[train_index]\n",
        "      X_val, y_val =train_features[val_index],train_label[val_index]\n",
        "\n",
        "      print(f\"group={np.unique(group_array[train_index])}\")\n",
        "      print(f\"group={np.unique(group_array[val_index])}\")\n",
        "\n",
        "      break\n",
        "\n",
        "  return X_train, X_val, X_test, y_train, y_val, y_test\n",
        "\n",
        "\n",
        "\n",
        "\n",
        "def two_splits(data_array , label_array, group_array):\n",
        "\n",
        "  # Split data_array into train and validate\n",
        "  train_groups = []\n",
        "  for train_index, test_index in gkf.split(data_array, label_array, groups=group_array):\n",
        "      X_train, y_train = data_array[train_index],label_array[train_index]\n",
        "      X_test, y_test =data_array[test_index],label_array[test_index]\n",
        "      train_groups = group_array[train_index]\n",
        "\n",
        "      scaler=StandardScaler3D()\n",
        "      X_train=scaler.fit_transform(X_train)\n",
        "      X_test=scaler.transform(X_test)\n",
        "\n",
        "      print(f\"group={np.unique(group_array[train_index])}\")\n",
        "      print(f\"group={np.unique(group_array[test_index])}\")\n",
        "      break\n",
        "\n",
        "  return X_train, X_test, y_train, y_test\n",
        "\n",
        "\n",
        "# X_train, X_val, X_test, y_train, y_val, y_test = three_splits(data_array , label_array, group_array)\n",
        "\n",
        "X_train, X_test, y_train, y_test = two_splits(data_array , label_array, group_array)\n",
        "\n",
        "# convert the problem from multiclass classification to binary classification\n",
        "# make haemorrhage and schaemia classes as one\n",
        "\n",
        "y_train[y_train==0] = 1\n",
        "y_train[y_train==2] = 0\n",
        "\n",
        "# y_val[y_val==0] = 1\n",
        "# y_val[y_val==2] = 0\n",
        "\n",
        "y_test[y_test==0] = 1\n",
        "y_test[y_test==2] = 0"
      ],
      "metadata": {
        "colab": {
          "base_uri": "https://localhost:8080/"
        },
        "id": "a9iYiX4aaaYZ",
        "outputId": "efe69917-d2f8-44d1-c2d5-3b839f18c6ca"
      },
      "execution_count": 3,
      "outputs": [
        {
          "output_type": "stream",
          "name": "stdout",
          "text": [
            "group=[ 0  1  2  3  4  5  6  7  8 10 11 12 13 15 16 18 19 20 22 23 25 27 28 29\n",
            " 30 31 34 36 37 38 39 40 41 42 43 44 45 46 47]\n",
            "group=[ 9 14 17 21 24 26 32 33 35]\n"
          ]
        }
      ]
    },
    {
      "cell_type": "code",
      "source": [
        "# Flatten the data array for ML models\n",
        "X_train = X_train.reshape(X_train.shape[0], -1)\n",
        "# X_val = X_val.reshape(X_val.shape[0], -1)\n",
        "X_test = X_test.reshape(X_test.shape[0], -1)\n",
        "y_train = y_train.reshape(y_train.shape[0], -1)\n",
        "# y_val = y_val.reshape(y_val.shape[0], -1)\n",
        "y_test = y_test.reshape(y_test.shape[0], -1)"
      ],
      "metadata": {
        "id": "uNQrF9Ty1gkt"
      },
      "execution_count": 4,
      "outputs": []
    },
    {
      "cell_type": "markdown",
      "source": [
        "**KNN after found the hyperparameters with GridSearch**"
      ],
      "metadata": {
        "id": "joQx2AQe24YN"
      }
    },
    {
      "cell_type": "code",
      "source": [
        "def fit_and_evaluate(X_train, y_train, X_test, y_test,model):\n",
        "\n",
        "  model.fit(X_train, y_train)\n",
        "\n",
        "  # Predictions on the test set\n",
        "  y_pred = model.predict(X_test)\n",
        "\n",
        "  # Calculate evaluation metrics\n",
        "  accuracy = accuracy_score(y_test, y_pred)\n",
        "  precision = precision_score(y_test, y_pred, average='weighted')\n",
        "  recall = recall_score(y_test, y_pred, average='weighted')\n",
        "  f1 = f1_score(y_test, y_pred, average='weighted')\n",
        "\n",
        "\n",
        "  # Print the results\n",
        "  print(\"Accuracy:\", accuracy)\n",
        "  print(\"Recall:\", recall)\n",
        "  print(\"Precision:\", precision)\n",
        "  print(\"F1-score:\", f1)\n",
        "\n",
        "\n",
        "  print(\"Classification Report (Test):\\n\", classification_report(y_test, y_pred))\n",
        "\n",
        "  # Compute the confusion matrix for the test set\n",
        "  cm_test = confusion_matrix(y_test, y_pred)\n",
        "\n",
        "  # Plot the confusion matrix for the test set\n",
        "  plt.figure(figsize=(8, 6))\n",
        "  sns.heatmap(cm_test, annot=True, fmt=\"d\", cmap=\"Blues\", cbar=False)\n",
        "  plt.xlabel(\"Predicted Label\")\n",
        "  plt.ylabel(\"True Label\")\n",
        "  plt.title(f\"Confusion Matrix for Decision Tree {model.__class__}\")\n",
        "  plt.show()\n",
        "\n",
        "  return model"
      ],
      "metadata": {
        "id": "6pn4XMi605sp"
      },
      "execution_count": 8,
      "outputs": []
    },
    {
      "cell_type": "code",
      "source": [
        "from sklearn.neighbors import KNeighborsClassifier\n",
        "from sklearn.metrics import accuracy_score, precision_score, recall_score, f1_score\n",
        "\n",
        "model=fit_and_evaluate(X_train, y_train,X_test , y_test,KNeighborsClassifier(algorithm='auto', n_neighbors=15, weights='uniform'))\n"
      ],
      "metadata": {
        "colab": {
          "base_uri": "https://localhost:8080/",
          "height": 870
        },
        "id": "Qk43Tzs4ad4a",
        "outputId": "d9e5d981-208c-4a11-ca76-5682b098f810"
      },
      "execution_count": 11,
      "outputs": [
        {
          "output_type": "stream",
          "name": "stderr",
          "text": [
            "/usr/local/lib/python3.10/dist-packages/sklearn/neighbors/_classification.py:215: DataConversionWarning: A column-vector y was passed when a 1d array was expected. Please change the shape of y to (n_samples,), for example using ravel().\n",
            "  return self._fit(X, y)\n"
          ]
        },
        {
          "output_type": "stream",
          "name": "stdout",
          "text": [
            "Accuracy: 0.6109906001446131\n",
            "Recall: 0.6109906001446131\n",
            "Precision: 0.5957017497240352\n",
            "F1-score: 0.6022247189256205\n",
            "Classification Report (Test):\n",
            "               precision    recall  f1-score   support\n",
            "\n",
            "           0       0.36      0.31      0.33       435\n",
            "           1       0.70      0.75      0.73       948\n",
            "\n",
            "    accuracy                           0.61      1383\n",
            "   macro avg       0.53      0.53      0.53      1383\n",
            "weighted avg       0.60      0.61      0.60      1383\n",
            "\n"
          ]
        },
        {
          "output_type": "display_data",
          "data": {
            "text/plain": [
              "<Figure size 800x600 with 1 Axes>"
            ],
            "image/png": "[encoded data removed]"
          },
          "metadata": {}
        }
      ]
    },
    {
      "cell_type": "code",
      "source": [
        "import joblib\n",
        "\n",
        "# Specify the full path including the filename and .joblib extension\n",
        "model_path = '/content/drive/MyDrive/GP-Trail/knnWithHayperParameter.joblib'\n",
        "\n",
        "# Save your model\n",
        "joblib.dump(model, model_path)"
      ],
      "metadata": {
        "colab": {
          "base_uri": "https://localhost:8080/"
        },
        "id": "ZRGMoSNeah0F",
        "outputId": "cba60174-db33-4b02-8d03-68ddf78684e6"
      },
      "execution_count": 12,
      "outputs": [
        {
          "output_type": "execute_result",
          "data": {
            "text/plain": [
              "['/content/drive/MyDrive/GP-Trail/knnWithHayperParameter.joblib']"
            ]
          },
          "metadata": {},
          "execution_count": 12
        }
      ]
    },
    {
      "cell_type": "markdown",
      "source": [
        "**KNN with DT**"
      ],
      "metadata": {
        "id": "0olGyDlv3BEN"
      }
    },
    {
      "cell_type": "code",
      "source": [
        "from sklearn.tree import DecisionTreeClassifier\n",
        "from sklearn.feature_selection import SelectFromModel\n",
        "\n",
        "def select_features_with_decision_tree(model,X_train, y_train, X_test, y_test, threshold=0.1):\n",
        "    tree_params = {'criterion': 'gini', 'max_depth': 3, 'min_samples_leaf': 5}\n",
        "    # Train a Decision Tree Classifier\n",
        "    dt_classifier = DecisionTreeClassifier(**tree_params)\n",
        "\n",
        "    # Train a Decision Tree classifier to select important features\n",
        "    dt = DecisionTreeClassifier(random_state=42)\n",
        "    dt.fit(X_train, y_train)\n",
        "\n",
        "    # Select features based on importance using the trained Decision Tree\n",
        "    sfm = SelectFromModel(dt, threshold=0.1)\n",
        "    sfm.fit(X_train, y_train)\n",
        "\n",
        "    # Transform the training and testing data to include only the selected features\n",
        "    X_train_selected = sfm.transform(X_train)\n",
        "    X_test_selected = sfm.transform(X_test)\n",
        "\n",
        "    print(X_train_selected)\n",
        "    print(X_test_selected)\n",
        "    print(\"-------------------------\")\n",
        "    # Get indices of selected features\n",
        "    selected_feature_indices = sfm.get_support(indices=True)\n",
        "\n",
        "    # Get names of selected features\n",
        "    selected_feature_names = [f\"Feature {i+1}\" for i in selected_feature_indices]\n",
        "\n",
        "    # Print selected features\n",
        "    print(\"Selected Features:\")\n",
        "    for feature in selected_feature_names:\n",
        "        print(feature)\n",
        "\n",
        "    model2=fit_and_evaluate(X_train_selected,y_train,X_test_selected,y_test,model)\n",
        "    return model2\n",
        "\n",
        ""
      ],
      "metadata": {
        "id": "O8oVUM1B2SlQ"
      },
      "execution_count": 10,
      "outputs": []
    },
    {
      "cell_type": "code",
      "source": [
        "def fit_and_evaluate(X_train, y_train, X_test, y_test,model):\n",
        "\n",
        "  model.fit(X_train, y_train)\n",
        "\n",
        "  # Predictions on the test set\n",
        "  y_pred = model.predict(X_test)\n",
        "\n",
        "  # Calculate evaluation metrics\n",
        "  accuracy = accuracy_score(y_test, y_pred)\n",
        "  precision = precision_score(y_test, y_pred, average='weighted')\n",
        "  recall = recall_score(y_test, y_pred, average='weighted')\n",
        "  f1 = f1_score(y_test, y_pred, average='weighted')\n",
        "\n",
        "\n",
        "  # Print the results\n",
        "  print(\"Accuracy:\", accuracy)\n",
        "  print(\"Recall:\", recall)\n",
        "  print(\"Precision:\", precision)\n",
        "  print(\"F1-score:\", f1)\n",
        "\n",
        "\n",
        "  print(\"Classification Report (Test):\\n\", classification_report(y_test, y_pred))\n",
        "\n",
        "  # Compute the confusion matrix for the test set\n",
        "  cm_test = confusion_matrix(y_test, y_pred)\n",
        "\n",
        "  # Plot the confusion matrix for the test set\n",
        "  plt.figure(figsize=(8, 6))\n",
        "  sns.heatmap(cm_test, annot=True, fmt=\"d\", cmap=\"Blues\", cbar=False)\n",
        "  plt.xlabel(\"Predicted Label\")\n",
        "  plt.ylabel(\"True Label\")\n",
        "  plt.title(f\"Confusion Matrix for Decision Tree {model.__class__}\")\n",
        "  plt.show()\n",
        "\n",
        "  return model"
      ],
      "metadata": {
        "id": "yo2PnsDE5Wng"
      },
      "execution_count": 6,
      "outputs": []
    },
    {
      "cell_type": "code",
      "source": [
        "from sklearn.neighbors import KNeighborsClassifier\n",
        "from sklearn.metrics import accuracy_score, precision_score, recall_score, f1_score\n",
        "\n",
        "model=select_features_with_decision_tree(KNeighborsClassifier(algorithm='auto', n_neighbors=15, weights='uniform'),X_train, y_train,X_test , y_test)\n"
      ],
      "metadata": {
        "colab": {
          "base_uri": "https://localhost:8080/",
          "height": 1000
        },
        "id": "RMXP_2Vo8CrS",
        "outputId": "5c4cf310-2708-467b-843e-748f30543d0b"
      },
      "execution_count": 11,
      "outputs": [
        {
          "output_type": "stream",
          "name": "stdout",
          "text": [
            "[[-3.92122071 -4.19766329 -4.14916175 -4.19766329]\n",
            " [-3.92122071 -4.19766329 -4.14916175 -4.19766329]\n",
            " [-3.92122071  0.18658284  0.1705135   0.18658284]\n",
            " ...\n",
            " [-0.17531763 -0.12309218 -0.08673444 -0.15129016]\n",
            " [-0.17531763 -0.12309218 -0.08673444 -0.15129016]\n",
            " [-0.17531763  8.73954447 -0.08673444 -0.15129016]]\n",
            "[[-1.47669020e-01 -3.20702906e-13 -1.20165967e-01 -8.46864627e-02]\n",
            " [-1.47669020e-01 -3.20702906e-13 -1.20165967e-01 -8.46864627e-02]\n",
            " [-1.47669020e-01 -3.20702906e-13 -1.20165967e-01 -8.46864627e-02]\n",
            " ...\n",
            " [-8.61341994e-02 -1.22234380e-01 -1.95253142e-01 -1.50228465e-01]\n",
            " [-8.61341994e-02 -1.22234380e-01 -1.95253142e-01 -1.50228465e-01]\n",
            " [-8.61341994e-02 -1.22234380e-01 -1.95253142e-01 -1.50228465e-01]]\n",
            "-------------------------\n",
            "Selected Features:\n",
            "Feature 8217\n",
            "Feature 20790\n",
            "Feature 32934\n",
            "Feature 34749\n",
            "Accuracy: 0.7744034707158352\n",
            "Recall: 0.7744034707158352\n",
            "Precision: 0.7764634856357852\n",
            "F1-score: 0.7753507741486777\n",
            "Classification Report (Test):\n",
            "               precision    recall  f1-score   support\n",
            "\n",
            "           0       0.64      0.66      0.65       435\n",
            "           1       0.84      0.83      0.83       948\n",
            "\n",
            "    accuracy                           0.77      1383\n",
            "   macro avg       0.74      0.74      0.74      1383\n",
            "weighted avg       0.78      0.77      0.78      1383\n",
            "\n"
          ]
        },
        {
          "output_type": "stream",
          "name": "stderr",
          "text": [
            "/usr/local/lib/python3.10/dist-packages/sklearn/neighbors/_classification.py:215: DataConversionWarning: A column-vector y was passed when a 1d array was expected. Please change the shape of y to (n_samples,), for example using ravel().\n",
            "  return self._fit(X, y)\n"
          ]
        },
        {
          "output_type": "display_data",
          "data": {
            "text/plain": [
              "<Figure size 800x600 with 1 Axes>"
            ],
            "image/png": "[encoded data removed]"
          },
          "metadata": {}
        }
      ]
    },
    {
      "cell_type": "code",
      "source": [
        "import joblib\n",
        "\n",
        "# Specify the full path including the filename and .joblib extension\n",
        "model_path = '/content/drive/MyDrive/GP-Trail/knnWithHayperParameter_DT.joblib'\n",
        "\n",
        "# Save your model\n",
        "joblib.dump(model, model_path)"
      ],
      "metadata": {
        "colab": {
          "base_uri": "https://localhost:8080/"
        },
        "id": "CWUYr6qQ8UZE",
        "outputId": "fd62c72d-abb5-4578-8bfd-627034d2fb8a"
      },
      "execution_count": 12,
      "outputs": [
        {
          "output_type": "execute_result",
          "data": {
            "text/plain": [
              "['/content/drive/MyDrive/GP-Trail/knnWithHayperParameter_DT.joblib']"
            ]
          },
          "metadata": {},
          "execution_count": 12
        }
      ]
    },
    {
      "cell_type": "code",
      "source": [],
      "metadata": {
        "id": "MgUj4841DF8s"
      },
      "execution_count": null,
      "outputs": []
    }
  ]
}