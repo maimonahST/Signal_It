{
  "nbformat": 4,
  "nbformat_minor": 0,
  "metadata": {
    "colab": {
      "provenance": [],
      "collapsed_sections": [
        "mELFnPdiSLSs"
      ],
      "machine_shape": "hm",
      "gpuType": "T4",
      "mount_file_id": "1WC6xgDA8kyR-4rfF2kImqV31t6M8hYxc",
      "authorship_tag": "ABX9TyPbiUabPkpBNLGXwbWouRtf",
      "include_colab_link": true
    },
    "kernelspec": {
      "name": "python3",
      "display_name": "Python 3"
    },
    "language_info": {
      "name": "python"
    },
    "accelerator": "GPU"
  },
  "cells": [
    {
      "cell_type": "markdown",
      "metadata": {
        "id": "view-in-github",
        "colab_type": "text"
      },
      "source": [
        "<a href=\"https://colab.research.google.com/github/maimonahST/GP/blob/main/Stacking%2Bbagging.ipynb\" target=\"_parent\"><img src=\"https://colab.research.google.com/assets/colab-badge.svg\" alt=\"Open In Colab\"/></a>"
      ]
    },
    {
      "cell_type": "code",
      "execution_count": 1,
      "metadata": {
        "id": "IBMCjdPYCU97"
      },
      "outputs": [],
      "source": [
        "from sklearn.model_selection import train_test_split, StratifiedKFold\n",
        "from sklearn.ensemble import RandomForestClassifier\n",
        "from sklearn.naive_bayes import BernoulliNB\n",
        "from sklearn.ensemble import AdaBoostClassifier\n",
        "from xgboost import XGBClassifier\n",
        "from sklearn.tree import DecisionTreeClassifier\n",
        "from sklearn.metrics import accuracy_score\n",
        "from sklearn.model_selection import cross_val_predict\n",
        "from sklearn.base import clone\n",
        "import numpy as np\n",
        "from sklearn.metrics import accuracy_score, precision_score, recall_score, f1_score, confusion_matrix\n",
        "import seaborn as sns\n",
        "import matplotlib.pyplot as plt"
      ]
    },
    {
      "cell_type": "code",
      "source": [
        "from sklearn.model_selection import GroupKFold\n",
        "from sklearn.base import BaseEstimator, TransformerMixin\n",
        "from sklearn.preprocessing import StandardScaler\n",
        "import numpy as np\n",
        "\n",
        "gkf=GroupKFold()\n",
        "class StandardScaler3D(BaseEstimator,TransformerMixin):\n",
        "    #batch, sequence, channels\n",
        "    def __init__(self):\n",
        "        self.scaler = StandardScaler()\n",
        "\n",
        "    def fit(self,X,y=None):\n",
        "        self.scaler.fit(X.reshape(-1, X.shape[2]))\n",
        "        return self\n",
        "\n",
        "    def transform(self,X):\n",
        "        return self.scaler.transform(X.reshape( -1,X.shape[2])).reshape(X.shape)"
      ],
      "metadata": {
        "id": "qQfHSNjYTdU7"
      },
      "execution_count": 2,
      "outputs": []
    },
    {
      "cell_type": "markdown",
      "source": [
        "# ICA"
      ],
      "metadata": {
        "id": "mELFnPdiSLSs"
      }
    },
    {
      "cell_type": "code",
      "source": [
        "X = np.load('/content/drive/MyDrive/GP/GP-Data/X_ica2.npy')\n",
        "y = np.load('/content/drive/MyDrive/GP/GP-Data/y_ica2.npy')\n",
        "y = y.astype('int')\n",
        "\n",
        "X.shape, y.shape"
      ],
      "metadata": {
        "colab": {
          "base_uri": "https://localhost:8080/"
        },
        "id": "vfdaVd8vJdQL",
        "outputId": "189f3440-e108-484b-8424-e9f2a978c50b"
      },
      "execution_count": 31,
      "outputs": [
        {
          "output_type": "execute_result",
          "data": {
            "text/plain": [
              "((45, 32, 32), (45,))"
            ]
          },
          "metadata": {},
          "execution_count": 31
        }
      ]
    },
    {
      "cell_type": "code",
      "source": [
        "np.unique(y)"
      ],
      "metadata": {
        "colab": {
          "base_uri": "https://localhost:8080/"
        },
        "id": "l7D6qnC1PgVp",
        "outputId": "9c652147-65b5-4784-e6bb-e20b2eb08dc7"
      },
      "execution_count": 32,
      "outputs": [
        {
          "output_type": "execute_result",
          "data": {
            "text/plain": [
              "array([0, 1, 2])"
            ]
          },
          "metadata": {},
          "execution_count": 32
        }
      ]
    },
    {
      "cell_type": "code",
      "source": [
        "# Load your dataset and split into training and testing sets\n",
        "X_train, X_test, y_train, y_test = train_test_split(X, y, test_size=0.2, random_state=101)\n",
        "\n",
        "\n",
        "y_train[y_train==0] = 1 #Stroke\n",
        "y_train[y_train==2] = 0 #Healthy\n",
        "\n",
        "y_test[y_test==0] = 1 #Stroke\n",
        "y_test[y_test==2] = 0 #Healthy\n"
      ],
      "metadata": {
        "id": "s6IoTEfRJmrR"
      },
      "execution_count": 52,
      "outputs": []
    },
    {
      "cell_type": "code",
      "source": [
        "np.unique(y_train), np.unique(y_test)"
      ],
      "metadata": {
        "colab": {
          "base_uri": "https://localhost:8080/"
        },
        "id": "Ap24XH1wPAfr",
        "outputId": "074ff3cb-1d19-4f78-dbd6-22a30b0220c6"
      },
      "execution_count": 53,
      "outputs": [
        {
          "output_type": "execute_result",
          "data": {
            "text/plain": [
              "(array([0, 1]), array([0, 1]))"
            ]
          },
          "metadata": {},
          "execution_count": 53
        }
      ]
    },
    {
      "cell_type": "code",
      "source": [
        "# Scale the data using StandardScaler\n",
        "scaler = StandardScaler3D()\n",
        "X_train = scaler.fit_transform(X_train)\n",
        "X_test = scaler.transform(X_test)\n",
        "\n",
        "# Flatten the data array for ML models\n",
        "X_train = X_train.reshape(X_train.shape[0], -1)\n",
        "X_test = X_test.reshape(X_test.shape[0], -1)\n",
        "y_train = y_train.reshape(y_train.shape[0], -1)\n",
        "y_test = y_test.reshape(y_test.shape[0], -1)\n"
      ],
      "metadata": {
        "id": "xirwYFrEPJlt"
      },
      "execution_count": 55,
      "outputs": []
    },
    {
      "cell_type": "markdown",
      "source": [
        "## Ensemble\n",
        "\n",
        "Ensemble ML models (Bernoulli NB, Adaboost, XGBoost, DT)"
      ],
      "metadata": {
        "id": "ulvdqUUyCWRP"
      }
    },
    {
      "cell_type": "code",
      "source": [
        "# Stacking (Stacked Generalization)\n",
        "# Initialize base models\n",
        "base_models = [\n",
        "    ('bernoulli_nb', BernoulliNB(alpha=0.1, binarize = 0.0 , fit_prior = True)),\n",
        "    ('adaboost', AdaBoostClassifier(n_estimators = 200, learning_rate = 1.0)),\n",
        "    ('xgboost', XGBClassifier(max_depth = 9, n_estimators = 100, learning_rate = 0.01  )),\n",
        "    ('decision_tree', DecisionTreeClassifier(criterion = 'gini', max_depth = 3, min_samples_leaf = 5))\n",
        "]\n",
        "\n",
        "# Initialize meta-model\n",
        "meta_model = DecisionTreeClassifier()\n",
        "\n",
        "# Initialize empty arrays to store predictions from base models\n",
        "X_train_meta = np.zeros((len(X_train), len(base_models)))\n",
        "X_test_meta = np.zeros((len(X_test), len(base_models)))\n",
        "\n",
        "# Generate meta-features from base models using cross-validation\n",
        "for i, (_, model) in enumerate(base_models):\n",
        "    y_pred_train = cross_val_predict(model, X_train, y_train, cv=5)\n",
        "    y_pred_test = model.fit(X_train, y_train).predict(X_test)\n",
        "    X_train_meta[:, i] = y_pred_train\n",
        "    X_test_meta[:, i] = y_pred_test\n",
        "\n",
        "# Train meta-model on meta-features\n",
        "meta_model.fit(X_train_meta, y_train)\n",
        "\n",
        "# Make predictions using meta-model\n",
        "y_pred_meta_train = meta_model.predict(X_train_meta)\n",
        "y_pred_meta_test = meta_model.predict(X_test_meta)\n",
        "\n",
        "# Calculate evaluation metrics\n",
        "accuracy_train = accuracy_score(y_train, y_pred_meta_train)\n",
        "accuracy_test = accuracy_score(y_test, y_pred_meta_test)\n",
        "precision_test = precision_score(y_test, y_pred_meta_test, average='weighted')\n",
        "recall_test = recall_score(y_test, y_pred_meta_test, average='weighted')\n",
        "f1_score_test = f1_score(y_test, y_pred_meta_test, average='weighted')\n",
        "\n",
        "print(\"Stacking Accuracy on Train Set:\", accuracy_train)\n",
        "print(\"Stacking Accuracy on Test Set:\", accuracy_test)\n",
        "print(\"Stacking Precision on Test Set:\", precision_test)\n",
        "print(\"Stacking Recall on Test Set:\", recall_test)\n",
        "print(\"Stacking F1 Score on Test Set:\", f1_score_test)\n",
        "\n",
        "# Confusion Matrix\n",
        "cm = confusion_matrix(y_test, y_pred_meta_test)\n",
        "plt.figure(figsize=(8, 6))\n",
        "sns.heatmap(cm, annot=True, fmt=\"d\", cmap=\"Blues\", cbar=False)\n",
        "plt.xlabel(\"Predicted\")\n",
        "plt.ylabel(\"Actual\")\n",
        "plt.title(\"Confusion Matrix\")\n",
        "plt.show()"
      ],
      "metadata": {
        "colab": {
          "base_uri": "https://localhost:8080/",
          "height": 1000
        },
        "id": "3HKfJMj_CZyb",
        "outputId": "b5290194-6412-428a-e546-45eda94149c6"
      },
      "execution_count": 56,
      "outputs": [
        {
          "output_type": "stream",
          "name": "stderr",
          "text": [
            "/usr/local/lib/python3.10/dist-packages/sklearn/utils/validation.py:1143: DataConversionWarning: A column-vector y was passed when a 1d array was expected. Please change the shape of y to (n_samples, ), for example using ravel().\n",
            "  y = column_or_1d(y, warn=True)\n",
            "/usr/local/lib/python3.10/dist-packages/sklearn/utils/validation.py:1143: DataConversionWarning: A column-vector y was passed when a 1d array was expected. Please change the shape of y to (n_samples, ), for example using ravel().\n",
            "  y = column_or_1d(y, warn=True)\n",
            "/usr/local/lib/python3.10/dist-packages/sklearn/utils/validation.py:1143: DataConversionWarning: A column-vector y was passed when a 1d array was expected. Please change the shape of y to (n_samples, ), for example using ravel().\n",
            "  y = column_or_1d(y, warn=True)\n",
            "/usr/local/lib/python3.10/dist-packages/sklearn/utils/validation.py:1143: DataConversionWarning: A column-vector y was passed when a 1d array was expected. Please change the shape of y to (n_samples, ), for example using ravel().\n",
            "  y = column_or_1d(y, warn=True)\n",
            "/usr/local/lib/python3.10/dist-packages/sklearn/utils/validation.py:1143: DataConversionWarning: A column-vector y was passed when a 1d array was expected. Please change the shape of y to (n_samples, ), for example using ravel().\n",
            "  y = column_or_1d(y, warn=True)\n",
            "/usr/local/lib/python3.10/dist-packages/sklearn/utils/validation.py:1143: DataConversionWarning: A column-vector y was passed when a 1d array was expected. Please change the shape of y to (n_samples, ), for example using ravel().\n",
            "  y = column_or_1d(y, warn=True)\n",
            "/usr/local/lib/python3.10/dist-packages/sklearn/utils/validation.py:1143: DataConversionWarning: A column-vector y was passed when a 1d array was expected. Please change the shape of y to (n_samples, ), for example using ravel().\n",
            "  y = column_or_1d(y, warn=True)\n",
            "/usr/local/lib/python3.10/dist-packages/sklearn/utils/validation.py:1143: DataConversionWarning: A column-vector y was passed when a 1d array was expected. Please change the shape of y to (n_samples, ), for example using ravel().\n",
            "  y = column_or_1d(y, warn=True)\n",
            "/usr/local/lib/python3.10/dist-packages/sklearn/utils/validation.py:1143: DataConversionWarning: A column-vector y was passed when a 1d array was expected. Please change the shape of y to (n_samples, ), for example using ravel().\n",
            "  y = column_or_1d(y, warn=True)\n",
            "/usr/local/lib/python3.10/dist-packages/sklearn/utils/validation.py:1143: DataConversionWarning: A column-vector y was passed when a 1d array was expected. Please change the shape of y to (n_samples, ), for example using ravel().\n",
            "  y = column_or_1d(y, warn=True)\n",
            "/usr/local/lib/python3.10/dist-packages/sklearn/utils/validation.py:1143: DataConversionWarning: A column-vector y was passed when a 1d array was expected. Please change the shape of y to (n_samples, ), for example using ravel().\n",
            "  y = column_or_1d(y, warn=True)\n",
            "/usr/local/lib/python3.10/dist-packages/sklearn/utils/validation.py:1143: DataConversionWarning: A column-vector y was passed when a 1d array was expected. Please change the shape of y to (n_samples, ), for example using ravel().\n",
            "  y = column_or_1d(y, warn=True)\n"
          ]
        },
        {
          "output_type": "stream",
          "name": "stdout",
          "text": [
            "Stacking Accuracy on Train Set: 0.7777777777777778\n",
            "Stacking Accuracy on Test Set: 0.7777777777777778\n",
            "Stacking Precision on Test Set: 0.7777777777777778\n",
            "Stacking Recall on Test Set: 0.7777777777777778\n",
            "Stacking F1 Score on Test Set: 0.7777777777777778\n"
          ]
        },
        {
          "output_type": "display_data",
          "data": {
            "text/plain": [
              "<Figure size 800x600 with 1 Axes>"
            ],
            "image/png": "[encoded data removed]"
          },
          "metadata": {}
        }
      ]
    },
    {
      "cell_type": "code",
      "source": [
        "# Stacking (Stacked Generalization)\n",
        "# Initialize base models\n",
        "base_models = [\n",
        "    ('bernoulli_nb', BernoulliNB(alpha=0.1, binarize = 0.0 , fit_prior = True)),\n",
        "    ('adaboost', AdaBoostClassifier(n_estimators = 200, learning_rate = 1.0)),\n",
        "    ('xgboost', XGBClassifier(max_depth = 9, n_estimators = 200, learning_rate = 0.01  )),\n",
        "    ('decision_tree', DecisionTreeClassifier(criterion = 'gini', max_depth = 3, min_samples_leaf = 5))\n",
        "]\n",
        "\n",
        "# Initialize meta-model\n",
        "meta_model = RandomForestClassifier(n_estimators=200, random_state=42)\n",
        "\n",
        "# Initialize empty arrays to store predictions from base models\n",
        "X_train_meta = np.zeros((len(X_train), len(base_models)))\n",
        "X_test_meta = np.zeros((len(X_test), len(base_models)))\n",
        "\n",
        "# Generate meta-features from base models using cross-validation\n",
        "for i, (_, model) in enumerate(base_models):\n",
        "    y_pred_train = cross_val_predict(model, X_train, y_train, cv=20)\n",
        "    y_pred_test = model.fit(X_train, y_train).predict(X_test)\n",
        "    X_train_meta[:, i] = y_pred_train\n",
        "    X_test_meta[:, i] = y_pred_test\n",
        "\n",
        "# Train meta-model on meta-features\n",
        "meta_model.fit(X_train_meta, y_train)\n",
        "\n",
        "# Make predictions using meta-model\n",
        "y_pred_meta_train = meta_model.predict(X_train_meta)\n",
        "y_pred_meta_test = meta_model.predict(X_test_meta)\n",
        "\n",
        "# Calculate evaluation metrics\n",
        "accuracy_train = accuracy_score(y_train, y_pred_meta_train)\n",
        "accuracy_test = accuracy_score(y_test, y_pred_meta_test)\n",
        "precision_test_W = precision_score(y_test, y_pred_meta_test, average='weighted')\n",
        "recall_test_W = recall_score(y_test, y_pred_meta_test, average='weighted')\n",
        "f1_score_test_W = f1_score(y_test, y_pred_meta_test, average='weighted')\n",
        "\n",
        "precision_test_I = precision_score(y_test, y_pred_meta_test, average='micro')\n",
        "recall_test_I = recall_score(y_test, y_pred_meta_test, average='micro')\n",
        "f1_score_test_I = f1_score(y_test, y_pred_meta_test, average='micro')\n",
        "\n",
        "\n",
        "precision_test_A = precision_score(y_test, y_pred_meta_test, average='macro')\n",
        "recall_test_A = recall_score(y_test, y_pred_meta_test, average='macro')\n",
        "f1_score_test_A = f1_score(y_test, y_pred_meta_test, average='macro')\n",
        "\n",
        "print(\"Stacking Accuracy on Train Set:\", accuracy_train)\n",
        "print(\"Stacking Accuracy on Test Set:\", accuracy_test)\n",
        "print(\"Stacking Precision on Test Set(weighted):\", precision_test_W)\n",
        "print(\"Stacking Recall on Test Set(weighted):\", recall_test_W)\n",
        "print(f\"Stacking F1 Score on Test Set(weighted):{f1_score_test_W} \\n\")\n",
        "\n",
        "\n",
        "print(\"Stacking Precision on Test Set(micro):\", precision_test_I)\n",
        "print(\"Stacking Recall on Test Set(micro):\", recall_test_I)\n",
        "print(f\"Stacking F1 Score on Test Set(micro): {f1_score_test_I} \\n\")\n",
        "\n",
        "print(\"Stacking Precision on Test Set(macro):\", precision_test_A)\n",
        "print(\"Stacking Recall on Test Set(macro):\", recall_test_A)\n",
        "print(f\"Stacking F1 Score on Test Set(macro): {f1_score_test_A} \\n\")\n",
        "\n",
        "# Confusion Matrix\n",
        "cm = confusion_matrix(y_test, y_pred_meta_test)\n",
        "plt.figure(figsize=(8, 6))\n",
        "sns.heatmap(cm, annot=True, fmt=\"d\", cmap=\"Blues\", cbar=False)\n",
        "plt.xlabel(\"Predicted\")\n",
        "plt.ylabel(\"Actual\")\n",
        "plt.title(\"Confusion Matrix\")\n",
        "plt.show()"
      ],
      "metadata": {
        "colab": {
          "base_uri": "https://localhost:8080/",
          "height": 1000
        },
        "id": "2Mea1OWfC8cY",
        "outputId": "621e92db-5a0d-4100-b272-eb641eeaf51f"
      },
      "execution_count": 61,
      "outputs": [
        {
          "output_type": "stream",
          "name": "stderr",
          "text": [
            "/usr/local/lib/python3.10/dist-packages/sklearn/model_selection/_split.py:700: UserWarning: The least populated class in y has only 16 members, which is less than n_splits=20.\n",
            "  warnings.warn(\n",
            "/usr/local/lib/python3.10/dist-packages/sklearn/utils/validation.py:1143: DataConversionWarning: A column-vector y was passed when a 1d array was expected. Please change the shape of y to (n_samples, ), for example using ravel().\n",
            "  y = column_or_1d(y, warn=True)\n",
            "/usr/local/lib/python3.10/dist-packages/sklearn/utils/validation.py:1143: DataConversionWarning: A column-vector y was passed when a 1d array was expected. Please change the shape of y to (n_samples, ), for example using ravel().\n",
            "  y = column_or_1d(y, warn=True)\n",
            "/usr/local/lib/python3.10/dist-packages/sklearn/utils/validation.py:1143: DataConversionWarning: A column-vector y was passed when a 1d array was expected. Please change the shape of y to (n_samples, ), for example using ravel().\n",
            "  y = column_or_1d(y, warn=True)\n",
            "/usr/local/lib/python3.10/dist-packages/sklearn/utils/validation.py:1143: DataConversionWarning: A column-vector y was passed when a 1d array was expected. Please change the shape of y to (n_samples, ), for example using ravel().\n",
            "  y = column_or_1d(y, warn=True)\n",
            "/usr/local/lib/python3.10/dist-packages/sklearn/utils/validation.py:1143: DataConversionWarning: A column-vector y was passed when a 1d array was expected. Please change the shape of y to (n_samples, ), for example using ravel().\n",
            "  y = column_or_1d(y, warn=True)\n",
            "/usr/local/lib/python3.10/dist-packages/sklearn/utils/validation.py:1143: DataConversionWarning: A column-vector y was passed when a 1d array was expected. Please change the shape of y to (n_samples, ), for example using ravel().\n",
            "  y = column_or_1d(y, warn=True)\n",
            "/usr/local/lib/python3.10/dist-packages/sklearn/utils/validation.py:1143: DataConversionWarning: A column-vector y was passed when a 1d array was expected. Please change the shape of y to (n_samples, ), for example using ravel().\n",
            "  y = column_or_1d(y, warn=True)\n",
            "/usr/local/lib/python3.10/dist-packages/sklearn/utils/validation.py:1143: DataConversionWarning: A column-vector y was passed when a 1d array was expected. Please change the shape of y to (n_samples, ), for example using ravel().\n",
            "  y = column_or_1d(y, warn=True)\n",
            "/usr/local/lib/python3.10/dist-packages/sklearn/utils/validation.py:1143: DataConversionWarning: A column-vector y was passed when a 1d array was expected. Please change the shape of y to (n_samples, ), for example using ravel().\n",
            "  y = column_or_1d(y, warn=True)\n",
            "/usr/local/lib/python3.10/dist-packages/sklearn/utils/validation.py:1143: DataConversionWarning: A column-vector y was passed when a 1d array was expected. Please change the shape of y to (n_samples, ), for example using ravel().\n",
            "  y = column_or_1d(y, warn=True)\n",
            "/usr/local/lib/python3.10/dist-packages/sklearn/utils/validation.py:1143: DataConversionWarning: A column-vector y was passed when a 1d array was expected. Please change the shape of y to (n_samples, ), for example using ravel().\n",
            "  y = column_or_1d(y, warn=True)\n",
            "/usr/local/lib/python3.10/dist-packages/sklearn/utils/validation.py:1143: DataConversionWarning: A column-vector y was passed when a 1d array was expected. Please change the shape of y to (n_samples, ), for example using ravel().\n",
            "  y = column_or_1d(y, warn=True)\n",
            "/usr/local/lib/python3.10/dist-packages/sklearn/utils/validation.py:1143: DataConversionWarning: A column-vector y was passed when a 1d array was expected. Please change the shape of y to (n_samples, ), for example using ravel().\n",
            "  y = column_or_1d(y, warn=True)\n",
            "/usr/local/lib/python3.10/dist-packages/sklearn/utils/validation.py:1143: DataConversionWarning: A column-vector y was passed when a 1d array was expected. Please change the shape of y to (n_samples, ), for example using ravel().\n",
            "  y = column_or_1d(y, warn=True)\n",
            "/usr/local/lib/python3.10/dist-packages/sklearn/utils/validation.py:1143: DataConversionWarning: A column-vector y was passed when a 1d array was expected. Please change the shape of y to (n_samples, ), for example using ravel().\n",
            "  y = column_or_1d(y, warn=True)\n",
            "/usr/local/lib/python3.10/dist-packages/sklearn/utils/validation.py:1143: DataConversionWarning: A column-vector y was passed when a 1d array was expected. Please change the shape of y to (n_samples, ), for example using ravel().\n",
            "  y = column_or_1d(y, warn=True)\n",
            "/usr/local/lib/python3.10/dist-packages/sklearn/utils/validation.py:1143: DataConversionWarning: A column-vector y was passed when a 1d array was expected. Please change the shape of y to (n_samples, ), for example using ravel().\n",
            "  y = column_or_1d(y, warn=True)\n",
            "/usr/local/lib/python3.10/dist-packages/sklearn/utils/validation.py:1143: DataConversionWarning: A column-vector y was passed when a 1d array was expected. Please change the shape of y to (n_samples, ), for example using ravel().\n",
            "  y = column_or_1d(y, warn=True)\n",
            "/usr/local/lib/python3.10/dist-packages/sklearn/utils/validation.py:1143: DataConversionWarning: A column-vector y was passed when a 1d array was expected. Please change the shape of y to (n_samples, ), for example using ravel().\n",
            "  y = column_or_1d(y, warn=True)\n",
            "/usr/local/lib/python3.10/dist-packages/sklearn/utils/validation.py:1143: DataConversionWarning: A column-vector y was passed when a 1d array was expected. Please change the shape of y to (n_samples, ), for example using ravel().\n",
            "  y = column_or_1d(y, warn=True)\n",
            "/usr/local/lib/python3.10/dist-packages/sklearn/utils/validation.py:1143: DataConversionWarning: A column-vector y was passed when a 1d array was expected. Please change the shape of y to (n_samples, ), for example using ravel().\n",
            "  y = column_or_1d(y, warn=True)\n",
            "/usr/local/lib/python3.10/dist-packages/sklearn/model_selection/_split.py:700: UserWarning: The least populated class in y has only 16 members, which is less than n_splits=20.\n",
            "  warnings.warn(\n",
            "/usr/local/lib/python3.10/dist-packages/sklearn/utils/validation.py:1143: DataConversionWarning: A column-vector y was passed when a 1d array was expected. Please change the shape of y to (n_samples, ), for example using ravel().\n",
            "  y = column_or_1d(y, warn=True)\n",
            "/usr/local/lib/python3.10/dist-packages/sklearn/utils/validation.py:1143: DataConversionWarning: A column-vector y was passed when a 1d array was expected. Please change the shape of y to (n_samples, ), for example using ravel().\n",
            "  y = column_or_1d(y, warn=True)\n",
            "/usr/local/lib/python3.10/dist-packages/sklearn/utils/validation.py:1143: DataConversionWarning: A column-vector y was passed when a 1d array was expected. Please change the shape of y to (n_samples, ), for example using ravel().\n",
            "  y = column_or_1d(y, warn=True)\n",
            "/usr/local/lib/python3.10/dist-packages/sklearn/utils/validation.py:1143: DataConversionWarning: A column-vector y was passed when a 1d array was expected. Please change the shape of y to (n_samples, ), for example using ravel().\n",
            "  y = column_or_1d(y, warn=True)\n",
            "/usr/local/lib/python3.10/dist-packages/sklearn/utils/validation.py:1143: DataConversionWarning: A column-vector y was passed when a 1d array was expected. Please change the shape of y to (n_samples, ), for example using ravel().\n",
            "  y = column_or_1d(y, warn=True)\n",
            "/usr/local/lib/python3.10/dist-packages/sklearn/utils/validation.py:1143: DataConversionWarning: A column-vector y was passed when a 1d array was expected. Please change the shape of y to (n_samples, ), for example using ravel().\n",
            "  y = column_or_1d(y, warn=True)\n",
            "/usr/local/lib/python3.10/dist-packages/sklearn/utils/validation.py:1143: DataConversionWarning: A column-vector y was passed when a 1d array was expected. Please change the shape of y to (n_samples, ), for example using ravel().\n",
            "  y = column_or_1d(y, warn=True)\n",
            "/usr/local/lib/python3.10/dist-packages/sklearn/utils/validation.py:1143: DataConversionWarning: A column-vector y was passed when a 1d array was expected. Please change the shape of y to (n_samples, ), for example using ravel().\n",
            "  y = column_or_1d(y, warn=True)\n",
            "/usr/local/lib/python3.10/dist-packages/sklearn/utils/validation.py:1143: DataConversionWarning: A column-vector y was passed when a 1d array was expected. Please change the shape of y to (n_samples, ), for example using ravel().\n",
            "  y = column_or_1d(y, warn=True)\n",
            "/usr/local/lib/python3.10/dist-packages/sklearn/utils/validation.py:1143: DataConversionWarning: A column-vector y was passed when a 1d array was expected. Please change the shape of y to (n_samples, ), for example using ravel().\n",
            "  y = column_or_1d(y, warn=True)\n",
            "/usr/local/lib/python3.10/dist-packages/sklearn/utils/validation.py:1143: DataConversionWarning: A column-vector y was passed when a 1d array was expected. Please change the shape of y to (n_samples, ), for example using ravel().\n",
            "  y = column_or_1d(y, warn=True)\n",
            "/usr/local/lib/python3.10/dist-packages/sklearn/utils/validation.py:1143: DataConversionWarning: A column-vector y was passed when a 1d array was expected. Please change the shape of y to (n_samples, ), for example using ravel().\n",
            "  y = column_or_1d(y, warn=True)\n",
            "/usr/local/lib/python3.10/dist-packages/sklearn/utils/validation.py:1143: DataConversionWarning: A column-vector y was passed when a 1d array was expected. Please change the shape of y to (n_samples, ), for example using ravel().\n",
            "  y = column_or_1d(y, warn=True)\n",
            "/usr/local/lib/python3.10/dist-packages/sklearn/utils/validation.py:1143: DataConversionWarning: A column-vector y was passed when a 1d array was expected. Please change the shape of y to (n_samples, ), for example using ravel().\n",
            "  y = column_or_1d(y, warn=True)\n",
            "/usr/local/lib/python3.10/dist-packages/sklearn/utils/validation.py:1143: DataConversionWarning: A column-vector y was passed when a 1d array was expected. Please change the shape of y to (n_samples, ), for example using ravel().\n",
            "  y = column_or_1d(y, warn=True)\n",
            "/usr/local/lib/python3.10/dist-packages/sklearn/utils/validation.py:1143: DataConversionWarning: A column-vector y was passed when a 1d array was expected. Please change the shape of y to (n_samples, ), for example using ravel().\n",
            "  y = column_or_1d(y, warn=True)\n",
            "/usr/local/lib/python3.10/dist-packages/sklearn/utils/validation.py:1143: DataConversionWarning: A column-vector y was passed when a 1d array was expected. Please change the shape of y to (n_samples, ), for example using ravel().\n",
            "  y = column_or_1d(y, warn=True)\n",
            "/usr/local/lib/python3.10/dist-packages/sklearn/utils/validation.py:1143: DataConversionWarning: A column-vector y was passed when a 1d array was expected. Please change the shape of y to (n_samples, ), for example using ravel().\n",
            "  y = column_or_1d(y, warn=True)\n",
            "/usr/local/lib/python3.10/dist-packages/sklearn/utils/validation.py:1143: DataConversionWarning: A column-vector y was passed when a 1d array was expected. Please change the shape of y to (n_samples, ), for example using ravel().\n",
            "  y = column_or_1d(y, warn=True)\n",
            "/usr/local/lib/python3.10/dist-packages/sklearn/utils/validation.py:1143: DataConversionWarning: A column-vector y was passed when a 1d array was expected. Please change the shape of y to (n_samples, ), for example using ravel().\n",
            "  y = column_or_1d(y, warn=True)\n",
            "/usr/local/lib/python3.10/dist-packages/sklearn/utils/validation.py:1143: DataConversionWarning: A column-vector y was passed when a 1d array was expected. Please change the shape of y to (n_samples, ), for example using ravel().\n",
            "  y = column_or_1d(y, warn=True)\n",
            "/usr/local/lib/python3.10/dist-packages/sklearn/model_selection/_split.py:700: UserWarning: The least populated class in y has only 16 members, which is less than n_splits=20.\n",
            "  warnings.warn(\n",
            "/usr/local/lib/python3.10/dist-packages/sklearn/model_selection/_split.py:700: UserWarning: The least populated class in y has only 16 members, which is less than n_splits=20.\n",
            "  warnings.warn(\n",
            "<ipython-input-61-329cfbe78319>:25: DataConversionWarning: A column-vector y was passed when a 1d array was expected. Please change the shape of y to (n_samples,), for example using ravel().\n",
            "  meta_model.fit(X_train_meta, y_train)\n"
          ]
        },
        {
          "output_type": "stream",
          "name": "stdout",
          "text": [
            "Stacking Accuracy on Train Set: 0.7222222222222222\n",
            "Stacking Accuracy on Test Set: 0.7777777777777778\n",
            "Stacking Precision on Test Set(weighted): 0.7777777777777778\n",
            "Stacking Recall on Test Set(weighted): 0.7777777777777778\n",
            "Stacking F1 Score on Test Set(weighted):0.7777777777777778 \n",
            "\n",
            "Stacking Precision on Test Set(micro): 0.7777777777777778\n",
            "Stacking Recall on Test Set(micro): 0.7777777777777778\n",
            "Stacking F1 Score on Test Set(micro): 0.7777777777777778 \n",
            "\n",
            "Stacking Precision on Test Set(macro): 0.75\n",
            "Stacking Recall on Test Set(macro): 0.75\n",
            "Stacking F1 Score on Test Set(macro): 0.75 \n",
            "\n"
          ]
        },
        {
          "output_type": "display_data",
          "data": {
            "text/plain": [
              "<Figure size 800x600 with 1 Axes>"
            ],
            "image/png": "[encoded data removed]"
          },
          "metadata": {}
        }
      ]
    },
    {
      "cell_type": "code",
      "source": [
        "# Stacking (Stacked Generalization)\n",
        "# Initialize base models\n",
        "base_models = [\n",
        "    ('bernoulli_nb', BernoulliNB(alpha=0.1, binarize = 0.0 , fit_prior = True)),\n",
        "    ('adaboost', AdaBoostClassifier(n_estimators = 200, learning_rate = 1.0)),\n",
        "    ('xgboost', XGBClassifier(max_depth = 9, n_estimators = 200, learning_rate = 0.01  )),\n",
        "    ('decision_tree', DecisionTreeClassifier(criterion = 'gini', max_depth = 3, min_samples_leaf = 5))\n",
        "]\n",
        "\n",
        "# Initialize meta-model\n",
        "meta_model = DecisionTreeClassifier()\n",
        "\n",
        "# Initialize empty arrays to store predictions from base models\n",
        "X_train_meta = np.zeros((len(X_train), len(base_models)))\n",
        "X_test_meta = np.zeros((len(X_test), len(base_models)))\n",
        "\n",
        "# Generate meta-features from base models using cross-validation\n",
        "for i, (_, model) in enumerate(base_models):\n",
        "    y_pred_train = cross_val_predict(model, X_train, y_train, cv=10)\n",
        "    y_pred_test = model.fit(X_train, y_train).predict(X_test)\n",
        "    X_train_meta[:, i] = y_pred_train\n",
        "    X_test_meta[:, i] = y_pred_test\n",
        "\n",
        "# Train meta-model on meta-features\n",
        "meta_model.fit(X_train_meta, y_train)\n",
        "\n",
        "# Make predictions using meta-model\n",
        "y_pred_meta_train = meta_model.predict(X_train_meta)\n",
        "y_pred_meta_test = meta_model.predict(X_test_meta)\n",
        "\n",
        "# Calculate evaluation metrics\n",
        "accuracy_train = accuracy_score(y_train, y_pred_meta_train)\n",
        "accuracy_test = accuracy_score(y_test, y_pred_meta_test)\n",
        "precision_test_W = precision_score(y_test, y_pred_meta_test, average='weighted')\n",
        "recall_test_W = recall_score(y_test, y_pred_meta_test, average='weighted')\n",
        "f1_score_test_W = f1_score(y_test, y_pred_meta_test, average='weighted')\n",
        "\n",
        "precision_test_I = precision_score(y_test, y_pred_meta_test, average='micro')\n",
        "recall_test_I = recall_score(y_test, y_pred_meta_test, average='micro')\n",
        "f1_score_test_I = f1_score(y_test, y_pred_meta_test, average='micro')\n",
        "\n",
        "\n",
        "precision_test_A = precision_score(y_test, y_pred_meta_test, average='macro')\n",
        "recall_test_A = recall_score(y_test, y_pred_meta_test, average='macro')\n",
        "f1_score_test_A = f1_score(y_test, y_pred_meta_test, average='macro')\n",
        "\n",
        "print(\"Stacking Accuracy on Train Set:\", accuracy_train)\n",
        "print(\"Stacking Accuracy on Test Set:\", accuracy_test)\n",
        "print(\"Stacking Precision on Test Set(weighted):\", precision_test_W)\n",
        "print(\"Stacking Recall on Test Set(weighted):\", recall_test_W)\n",
        "print(f\"Stacking F1 Score on Test Set(weighted):{f1_score_test_W} \\n\")\n",
        "\n",
        "\n",
        "print(\"Stacking Precision on Test Set(micro):\", precision_test_I)\n",
        "print(\"Stacking Recall on Test Set(micro):\", recall_test_I)\n",
        "print(f\"Stacking F1 Score on Test Set(micro): {f1_score_test_I} \\n\")\n",
        "\n",
        "print(\"Stacking Precision on Test Set(macro):\", precision_test_A)\n",
        "print(\"Stacking Recall on Test Set(macro):\", recall_test_A)\n",
        "print(f\"Stacking F1 Score on Test Set(macro): {f1_score_test_A} \\n\")\n",
        "\n",
        "# Confusion Matrix\n",
        "cm = confusion_matrix(y_test, y_pred_meta_test)\n",
        "plt.figure(figsize=(8, 6))\n",
        "sns.heatmap(cm, annot=True, fmt=\"d\", cmap=\"Blues\", cbar=False)\n",
        "plt.xlabel(\"Predicted\")\n",
        "plt.ylabel(\"Actual\")\n",
        "plt.title(\"Confusion Matrix\")\n",
        "plt.show()"
      ],
      "metadata": {
        "colab": {
          "base_uri": "https://localhost:8080/",
          "height": 1000
        },
        "id": "LydNyOP3NU6u",
        "outputId": "28449512-6f23-4001-da88-ee892c90d4d8"
      },
      "execution_count": 63,
      "outputs": [
        {
          "output_type": "stream",
          "name": "stderr",
          "text": [
            "/usr/local/lib/python3.10/dist-packages/sklearn/utils/validation.py:1143: DataConversionWarning: A column-vector y was passed when a 1d array was expected. Please change the shape of y to (n_samples, ), for example using ravel().\n",
            "  y = column_or_1d(y, warn=True)\n",
            "/usr/local/lib/python3.10/dist-packages/sklearn/utils/validation.py:1143: DataConversionWarning: A column-vector y was passed when a 1d array was expected. Please change the shape of y to (n_samples, ), for example using ravel().\n",
            "  y = column_or_1d(y, warn=True)\n",
            "/usr/local/lib/python3.10/dist-packages/sklearn/utils/validation.py:1143: DataConversionWarning: A column-vector y was passed when a 1d array was expected. Please change the shape of y to (n_samples, ), for example using ravel().\n",
            "  y = column_or_1d(y, warn=True)\n",
            "/usr/local/lib/python3.10/dist-packages/sklearn/utils/validation.py:1143: DataConversionWarning: A column-vector y was passed when a 1d array was expected. Please change the shape of y to (n_samples, ), for example using ravel().\n",
            "  y = column_or_1d(y, warn=True)\n",
            "/usr/local/lib/python3.10/dist-packages/sklearn/utils/validation.py:1143: DataConversionWarning: A column-vector y was passed when a 1d array was expected. Please change the shape of y to (n_samples, ), for example using ravel().\n",
            "  y = column_or_1d(y, warn=True)\n",
            "/usr/local/lib/python3.10/dist-packages/sklearn/utils/validation.py:1143: DataConversionWarning: A column-vector y was passed when a 1d array was expected. Please change the shape of y to (n_samples, ), for example using ravel().\n",
            "  y = column_or_1d(y, warn=True)\n",
            "/usr/local/lib/python3.10/dist-packages/sklearn/utils/validation.py:1143: DataConversionWarning: A column-vector y was passed when a 1d array was expected. Please change the shape of y to (n_samples, ), for example using ravel().\n",
            "  y = column_or_1d(y, warn=True)\n",
            "/usr/local/lib/python3.10/dist-packages/sklearn/utils/validation.py:1143: DataConversionWarning: A column-vector y was passed when a 1d array was expected. Please change the shape of y to (n_samples, ), for example using ravel().\n",
            "  y = column_or_1d(y, warn=True)\n",
            "/usr/local/lib/python3.10/dist-packages/sklearn/utils/validation.py:1143: DataConversionWarning: A column-vector y was passed when a 1d array was expected. Please change the shape of y to (n_samples, ), for example using ravel().\n",
            "  y = column_or_1d(y, warn=True)\n",
            "/usr/local/lib/python3.10/dist-packages/sklearn/utils/validation.py:1143: DataConversionWarning: A column-vector y was passed when a 1d array was expected. Please change the shape of y to (n_samples, ), for example using ravel().\n",
            "  y = column_or_1d(y, warn=True)\n",
            "/usr/local/lib/python3.10/dist-packages/sklearn/utils/validation.py:1143: DataConversionWarning: A column-vector y was passed when a 1d array was expected. Please change the shape of y to (n_samples, ), for example using ravel().\n",
            "  y = column_or_1d(y, warn=True)\n",
            "/usr/local/lib/python3.10/dist-packages/sklearn/utils/validation.py:1143: DataConversionWarning: A column-vector y was passed when a 1d array was expected. Please change the shape of y to (n_samples, ), for example using ravel().\n",
            "  y = column_or_1d(y, warn=True)\n",
            "/usr/local/lib/python3.10/dist-packages/sklearn/utils/validation.py:1143: DataConversionWarning: A column-vector y was passed when a 1d array was expected. Please change the shape of y to (n_samples, ), for example using ravel().\n",
            "  y = column_or_1d(y, warn=True)\n",
            "/usr/local/lib/python3.10/dist-packages/sklearn/utils/validation.py:1143: DataConversionWarning: A column-vector y was passed when a 1d array was expected. Please change the shape of y to (n_samples, ), for example using ravel().\n",
            "  y = column_or_1d(y, warn=True)\n",
            "/usr/local/lib/python3.10/dist-packages/sklearn/utils/validation.py:1143: DataConversionWarning: A column-vector y was passed when a 1d array was expected. Please change the shape of y to (n_samples, ), for example using ravel().\n",
            "  y = column_or_1d(y, warn=True)\n",
            "/usr/local/lib/python3.10/dist-packages/sklearn/utils/validation.py:1143: DataConversionWarning: A column-vector y was passed when a 1d array was expected. Please change the shape of y to (n_samples, ), for example using ravel().\n",
            "  y = column_or_1d(y, warn=True)\n",
            "/usr/local/lib/python3.10/dist-packages/sklearn/utils/validation.py:1143: DataConversionWarning: A column-vector y was passed when a 1d array was expected. Please change the shape of y to (n_samples, ), for example using ravel().\n",
            "  y = column_or_1d(y, warn=True)\n",
            "/usr/local/lib/python3.10/dist-packages/sklearn/utils/validation.py:1143: DataConversionWarning: A column-vector y was passed when a 1d array was expected. Please change the shape of y to (n_samples, ), for example using ravel().\n",
            "  y = column_or_1d(y, warn=True)\n",
            "/usr/local/lib/python3.10/dist-packages/sklearn/utils/validation.py:1143: DataConversionWarning: A column-vector y was passed when a 1d array was expected. Please change the shape of y to (n_samples, ), for example using ravel().\n",
            "  y = column_or_1d(y, warn=True)\n",
            "/usr/local/lib/python3.10/dist-packages/sklearn/utils/validation.py:1143: DataConversionWarning: A column-vector y was passed when a 1d array was expected. Please change the shape of y to (n_samples, ), for example using ravel().\n",
            "  y = column_or_1d(y, warn=True)\n",
            "/usr/local/lib/python3.10/dist-packages/sklearn/utils/validation.py:1143: DataConversionWarning: A column-vector y was passed when a 1d array was expected. Please change the shape of y to (n_samples, ), for example using ravel().\n",
            "  y = column_or_1d(y, warn=True)\n",
            "/usr/local/lib/python3.10/dist-packages/sklearn/utils/validation.py:1143: DataConversionWarning: A column-vector y was passed when a 1d array was expected. Please change the shape of y to (n_samples, ), for example using ravel().\n",
            "  y = column_or_1d(y, warn=True)\n"
          ]
        },
        {
          "output_type": "stream",
          "name": "stdout",
          "text": [
            "Stacking Accuracy on Train Set: 0.8055555555555556\n",
            "Stacking Accuracy on Test Set: 0.7777777777777778\n",
            "Stacking Precision on Test Set(weighted): 0.7777777777777778\n",
            "Stacking Recall on Test Set(weighted): 0.7777777777777778\n",
            "Stacking F1 Score on Test Set(weighted):0.7777777777777778 \n",
            "\n",
            "Stacking Precision on Test Set(micro): 0.7777777777777778\n",
            "Stacking Recall on Test Set(micro): 0.7777777777777778\n",
            "Stacking F1 Score on Test Set(micro): 0.7777777777777778 \n",
            "\n",
            "Stacking Precision on Test Set(macro): 0.75\n",
            "Stacking Recall on Test Set(macro): 0.75\n",
            "Stacking F1 Score on Test Set(macro): 0.75 \n",
            "\n"
          ]
        },
        {
          "output_type": "display_data",
          "data": {
            "text/plain": [
              "<Figure size 800x600 with 1 Axes>"
            ],
            "image/png": "[encoded data removed]"
          },
          "metadata": {}
        }
      ]
    },
    {
      "cell_type": "markdown",
      "source": [
        "# Epochs"
      ],
      "metadata": {
        "id": "VKCG0JibSRMu"
      }
    },
    {
      "cell_type": "code",
      "source": [
        "def two_splits(data_array , label_array, group_array):\n",
        "\n",
        "  # Split data_array into train and validate\n",
        "  train_groups = []\n",
        "  for train_index, test_index in gkf.split(data_array, label_array, groups=group_array):\n",
        "      X_train, y_train = data_array[train_index],label_array[train_index]\n",
        "      X_test, y_test =data_array[test_index],label_array[test_index]\n",
        "      train_groups = group_array[train_index]\n",
        "\n",
        "      scaler=StandardScaler3D()\n",
        "      X_train=scaler.fit_transform(X_train)\n",
        "      X_test=scaler.transform(X_test)\n",
        "\n",
        "      print(f\"group={np.unique(group_array[train_index])}\")\n",
        "      print(f\"group={np.unique(group_array[test_index])}\")\n",
        "      break\n",
        "\n",
        "  return X_train, X_test, y_train, y_test\n"
      ],
      "metadata": {
        "id": "5UvBrMRqSVRd"
      },
      "execution_count": 3,
      "outputs": []
    },
    {
      "cell_type": "code",
      "source": [
        "data_array = np.load('/content/drive/MyDrive/GP/GP-Data/data_array.npy')\n",
        "label_array = np.load('/content/drive/MyDrive/GP/GP-Data/label_array.npy')\n",
        "group_array = np.load('/content/drive/MyDrive/GP/GP-Data/group_array.npy')\n",
        "\n",
        "label_array = label_array.astype('int')\n",
        "\n",
        "data_array.shape, label_array.shape, group_array.shape"
      ],
      "metadata": {
        "colab": {
          "base_uri": "https://localhost:8080/"
        },
        "outputId": "a6953b7f-1e41-403e-94b3-b7a9caf4e6a4",
        "id": "XCGnOM-dSYiq"
      },
      "execution_count": 4,
      "outputs": [
        {
          "output_type": "execute_result",
          "data": {
            "text/plain": [
              "((7150, 1250, 33), (7150,), (7150,))"
            ]
          },
          "metadata": {},
          "execution_count": 4
        }
      ]
    },
    {
      "cell_type": "code",
      "source": [
        "np.unique(label_array)"
      ],
      "metadata": {
        "colab": {
          "base_uri": "https://localhost:8080/"
        },
        "outputId": "198b20ab-a82c-457b-8aeb-5844163c854f",
        "id": "ZJQJzExxSYir"
      },
      "execution_count": 5,
      "outputs": [
        {
          "output_type": "execute_result",
          "data": {
            "text/plain": [
              "array([0, 1, 2])"
            ]
          },
          "metadata": {},
          "execution_count": 5
        }
      ]
    },
    {
      "cell_type": "code",
      "source": [
        "# Load your dataset and split into training and testing sets\n",
        "X_train, X_test, y_train, y_test = two_splits(data_array, label_array, group_array)\n",
        "\n",
        "\n",
        "y_train[y_train==0] = 1 #Stroke\n",
        "y_train[y_train==2] = 0 #Healthy\n",
        "\n",
        "y_test[y_test==0] = 1 #Stroke\n",
        "y_test[y_test==2] = 0 #Healthy\n"
      ],
      "metadata": {
        "colab": {
          "base_uri": "https://localhost:8080/"
        },
        "id": "OZhiB8oPSYis",
        "outputId": "a681e001-015a-4bcf-ca8c-48fee3066d2d"
      },
      "execution_count": 5,
      "outputs": [
        {
          "output_type": "stream",
          "name": "stdout",
          "text": [
            "group=[ 0  1  2  3  4  6  7  8 10 11 13 15 16 17 18 19 20 22 23 24 25 26 27 28\n",
            " 29 30 31 32 33 34 36 37 39 41 42 43 44 46 47]\n",
            "group=[ 5  9 12 14 21 35 38 40 45]\n"
          ]
        }
      ]
    },
    {
      "cell_type": "code",
      "source": [
        "np.unique(y_train), np.unique(y_test)"
      ],
      "metadata": {
        "colab": {
          "base_uri": "https://localhost:8080/"
        },
        "outputId": "4cf53318-072c-4456-93d4-a54361841832",
        "id": "as4srslWSYis"
      },
      "execution_count": 66,
      "outputs": [
        {
          "output_type": "execute_result",
          "data": {
            "text/plain": [
              "(array([0, 1]), array([0, 1]))"
            ]
          },
          "metadata": {},
          "execution_count": 66
        }
      ]
    },
    {
      "cell_type": "code",
      "source": [
        "# Flatten the data array for ML models\n",
        "X_train = X_train.reshape(X_train.shape[0], -1)\n",
        "X_test = X_test.reshape(X_test.shape[0], -1)\n",
        "# y_train = y_train.reshape(y_train.shape[0], -1)\n",
        "# y_test = y_test.reshape(y_test.shape[0], -1)"
      ],
      "metadata": {
        "id": "8DjBWI4ASYis"
      },
      "execution_count": 6,
      "outputs": []
    },
    {
      "cell_type": "code",
      "source": [
        "# Stacking (Stacked Generalization)\n",
        "# Initialize base models\n",
        "base_models = [\n",
        "    ('bernoulli_nb', BernoulliNB(alpha=0.1, binarize = 0.0 , fit_prior = True)),\n",
        "    ('adaboost', AdaBoostClassifier(n_estimators = 200, learning_rate = 1.0)),\n",
        "    ('xgboost', XGBClassifier(max_depth = 9, n_estimators = 200, learning_rate = 0.01  )),\n",
        "    ('decision_tree', DecisionTreeClassifier(criterion = 'gini', max_depth = 3, min_samples_leaf = 5))\n",
        "]\n",
        "\n",
        "# Initialize meta-model\n",
        "meta_model = DecisionTreeClassifier()\n",
        "\n",
        "# Initialize empty arrays to store predictions from base models\n",
        "X_train_meta = np.zeros((len(X_train), len(base_models)))\n",
        "X_test_meta = np.zeros((len(X_test), len(base_models)))\n",
        "\n",
        "# Generate meta-features from base models using cross-validation\n",
        "for i, (_, model) in enumerate(base_models):\n",
        "    y_pred_train = cross_val_predict(model, X_train, y_train, cv=10)\n",
        "    y_pred_test = model.fit(X_train, y_train).predict(X_test)\n",
        "    X_train_meta[:, i] = y_pred_train\n",
        "    X_test_meta[:, i] = y_pred_test\n",
        "\n",
        "# Train meta-model on meta-features\n",
        "meta_model.fit(X_train_meta, y_train)\n",
        "\n",
        "# Make predictions using meta-model\n",
        "y_pred_meta_train = meta_model.predict(X_train_meta)\n",
        "y_pred_meta_test = meta_model.predict(X_test_meta)\n",
        "\n",
        "# Calculate evaluation metrics\n",
        "accuracy_train = accuracy_score(y_train, y_pred_meta_train)\n",
        "accuracy_test = accuracy_score(y_test, y_pred_meta_test)\n",
        "precision_test_W = precision_score(y_test, y_pred_meta_test, average='weighted')\n",
        "recall_test_W = recall_score(y_test, y_pred_meta_test, average='weighted')\n",
        "f1_score_test_W = f1_score(y_test, y_pred_meta_test, average='weighted')\n",
        "\n",
        "precision_test_I = precision_score(y_test, y_pred_meta_test, average='micro')\n",
        "recall_test_I = recall_score(y_test, y_pred_meta_test, average='micro')\n",
        "f1_score_test_I = f1_score(y_test, y_pred_meta_test, average='micro')\n",
        "\n",
        "\n",
        "precision_test_A = precision_score(y_test, y_pred_meta_test, average='macro')\n",
        "recall_test_A = recall_score(y_test, y_pred_meta_test, average='macro')\n",
        "f1_score_test_A = f1_score(y_test, y_pred_meta_test, average='macro')\n",
        "\n",
        "print(\"Stacking Accuracy on Train Set:\", accuracy_train)\n",
        "print(\"Stacking Accuracy on Test Set:\", accuracy_test)\n",
        "print(\"Stacking Precision on Test Set(weighted):\", precision_test_W)\n",
        "print(\"Stacking Recall on Test Set(weighted):\", recall_test_W)\n",
        "print(f\"Stacking F1 Score on Test Set(weighted):{f1_score_test_W} \\n\")\n",
        "\n",
        "\n",
        "print(\"Stacking Precision on Test Set(micro):\", precision_test_I)\n",
        "print(\"Stacking Recall on Test Set(micro):\", recall_test_I)\n",
        "print(f\"Stacking F1 Score on Test Set(micro): {f1_score_test_I} \\n\")\n",
        "\n",
        "print(\"Stacking Precision on Test Set(macro):\", precision_test_A)\n",
        "print(\"Stacking Recall on Test Set(macro):\", recall_test_A)\n",
        "print(f\"Stacking F1 Score on Test Set(macro): {f1_score_test_A} \\n\")\n",
        "\n",
        "# Confusion Matrix\n",
        "cm = confusion_matrix(y_test, y_pred_meta_test)\n",
        "plt.figure(figsize=(8, 6))\n",
        "sns.heatmap(cm, annot=True, fmt=\"d\", cmap=\"Blues\", cbar=False)\n",
        "plt.xlabel(\"Predicted\")\n",
        "plt.ylabel(\"Actual\")\n",
        "plt.title(\"Confusion Matrix\")\n",
        "plt.show()"
      ],
      "metadata": {
        "colab": {
          "base_uri": "https://localhost:8080/",
          "height": 365
        },
        "id": "4sG9v14CVdv7",
        "outputId": "66b082ea-b5d0-443d-f13a-15123630f26a"
      },
      "execution_count": 8,
      "outputs": [
        {
          "output_type": "error",
          "ename": "KeyboardInterrupt",
          "evalue": "",
          "traceback": [
            "\u001b[0;31m---------------------------------------------------------------------------\u001b[0m",
            "\u001b[0;31mKeyboardInterrupt\u001b[0m                         Traceback (most recent call last)",
            "\u001b[0;32m<ipython-input-8-052d3b452a53>\u001b[0m in \u001b[0;36m<cell line: 18>\u001b[0;34m()\u001b[0m\n\u001b[1;32m     17\u001b[0m \u001b[0;31m# Generate meta-features from base models using cross-validation\u001b[0m\u001b[0;34m\u001b[0m\u001b[0;34m\u001b[0m\u001b[0m\n\u001b[1;32m     18\u001b[0m \u001b[0;32mfor\u001b[0m \u001b[0mi\u001b[0m\u001b[0;34m,\u001b[0m \u001b[0;34m(\u001b[0m\u001b[0m_\u001b[0m\u001b[0;34m,\u001b[0m \u001b[0mmodel\u001b[0m\u001b[0;34m)\u001b[0m \u001b[0;32min\u001b[0m \u001b[0menumerate\u001b[0m\u001b[0;34m(\u001b[0m\u001b[0mbase_models\u001b[0m\u001b[0;34m)\u001b[0m\u001b[0;34m:\u001b[0m\u001b[0;34m\u001b[0m\u001b[0;34m\u001b[0m\u001b[0m\n\u001b[0;32m---> 19\u001b[0;31m     \u001b[0my_pred_train\u001b[0m \u001b[0;34m=\u001b[0m \u001b[0mcross_val_predict\u001b[0m\u001b[0;34m(\u001b[0m\u001b[0mmodel\u001b[0m\u001b[0;34m,\u001b[0m \u001b[0mX_train\u001b[0m\u001b[0;34m,\u001b[0m \u001b[0my_train\u001b[0m\u001b[0;34m,\u001b[0m \u001b[0mcv\u001b[0m\u001b[0;34m=\u001b[0m\u001b[0;36m10\u001b[0m\u001b[0;34m)\u001b[0m\u001b[0;34m\u001b[0m\u001b[0;34m\u001b[0m\u001b[0m\n\u001b[0m\u001b[1;32m     20\u001b[0m     \u001b[0my_pred_test\u001b[0m \u001b[0;34m=\u001b[0m \u001b[0mmodel\u001b[0m\u001b[0;34m.\u001b[0m\u001b[0mfit\u001b[0m\u001b[0;34m(\u001b[0m\u001b[0mX_train\u001b[0m\u001b[0;34m,\u001b[0m \u001b[0my_train\u001b[0m\u001b[0;34m)\u001b[0m\u001b[0;34m.\u001b[0m\u001b[0mpredict\u001b[0m\u001b[0;34m(\u001b[0m\u001b[0mX_test\u001b[0m\u001b[0;34m)\u001b[0m\u001b[0;34m\u001b[0m\u001b[0;34m\u001b[0m\u001b[0m\n\u001b[1;32m     21\u001b[0m     \u001b[0mX_train_meta\u001b[0m\u001b[0;34m[\u001b[0m\u001b[0;34m:\u001b[0m\u001b[0;34m,\u001b[0m \u001b[0mi\u001b[0m\u001b[0;34m]\u001b[0m \u001b[0;34m=\u001b[0m \u001b[0my_pred_train\u001b[0m\u001b[0;34m\u001b[0m\u001b[0;34m\u001b[0m\u001b[0m\n",
            "\u001b[0;32m/usr/local/lib/python3.10/dist-packages/sklearn/model_selection/_validation.py\u001b[0m in \u001b[0;36mcross_val_predict\u001b[0;34m(estimator, X, y, groups, cv, n_jobs, verbose, fit_params, pre_dispatch, method)\u001b[0m\n\u001b[1;32m    984\u001b[0m     \u001b[0;31m# independent, and that it is pickle-able.\u001b[0m\u001b[0;34m\u001b[0m\u001b[0;34m\u001b[0m\u001b[0m\n\u001b[1;32m    985\u001b[0m     \u001b[0mparallel\u001b[0m \u001b[0;34m=\u001b[0m \u001b[0mParallel\u001b[0m\u001b[0;34m(\u001b[0m\u001b[0mn_jobs\u001b[0m\u001b[0;34m=\u001b[0m\u001b[0mn_jobs\u001b[0m\u001b[0;34m,\u001b[0m \u001b[0mverbose\u001b[0m\u001b[0;34m=\u001b[0m\u001b[0mverbose\u001b[0m\u001b[0;34m,\u001b[0m \u001b[0mpre_dispatch\u001b[0m\u001b[0;34m=\u001b[0m\u001b[0mpre_dispatch\u001b[0m\u001b[0;34m)\u001b[0m\u001b[0;34m\u001b[0m\u001b[0;34m\u001b[0m\u001b[0m\n\u001b[0;32m--> 986\u001b[0;31m     predictions = parallel(\n\u001b[0m\u001b[1;32m    987\u001b[0m         delayed(_fit_and_predict)(\n\u001b[1;32m    988\u001b[0m             \u001b[0mclone\u001b[0m\u001b[0;34m(\u001b[0m\u001b[0mestimator\u001b[0m\u001b[0;34m)\u001b[0m\u001b[0;34m,\u001b[0m \u001b[0mX\u001b[0m\u001b[0;34m,\u001b[0m \u001b[0my\u001b[0m\u001b[0;34m,\u001b[0m \u001b[0mtrain\u001b[0m\u001b[0;34m,\u001b[0m \u001b[0mtest\u001b[0m\u001b[0;34m,\u001b[0m \u001b[0mverbose\u001b[0m\u001b[0;34m,\u001b[0m \u001b[0mfit_params\u001b[0m\u001b[0;34m,\u001b[0m \u001b[0mmethod\u001b[0m\u001b[0;34m\u001b[0m\u001b[0;34m\u001b[0m\u001b[0m\n",
            "\u001b[0;32m/usr/local/lib/python3.10/dist-packages/sklearn/utils/parallel.py\u001b[0m in \u001b[0;36m__call__\u001b[0;34m(self, iterable)\u001b[0m\n\u001b[1;32m     61\u001b[0m             \u001b[0;32mfor\u001b[0m \u001b[0mdelayed_func\u001b[0m\u001b[0;34m,\u001b[0m \u001b[0margs\u001b[0m\u001b[0;34m,\u001b[0m \u001b[0mkwargs\u001b[0m \u001b[0;32min\u001b[0m \u001b[0miterable\u001b[0m\u001b[0;34m\u001b[0m\u001b[0;34m\u001b[0m\u001b[0m\n\u001b[1;32m     62\u001b[0m         )\n\u001b[0;32m---> 63\u001b[0;31m         \u001b[0;32mreturn\u001b[0m \u001b[0msuper\u001b[0m\u001b[0;34m(\u001b[0m\u001b[0;34m)\u001b[0m\u001b[0;34m.\u001b[0m\u001b[0m__call__\u001b[0m\u001b[0;34m(\u001b[0m\u001b[0miterable_with_config\u001b[0m\u001b[0;34m)\u001b[0m\u001b[0;34m\u001b[0m\u001b[0;34m\u001b[0m\u001b[0m\n\u001b[0m\u001b[1;32m     64\u001b[0m \u001b[0;34m\u001b[0m\u001b[0m\n\u001b[1;32m     65\u001b[0m \u001b[0;34m\u001b[0m\u001b[0m\n",
            "\u001b[0;32m/usr/local/lib/python3.10/dist-packages/joblib/parallel.py\u001b[0m in \u001b[0;36m__call__\u001b[0;34m(self, iterable)\u001b[0m\n\u001b[1;32m   1861\u001b[0m             \u001b[0moutput\u001b[0m \u001b[0;34m=\u001b[0m \u001b[0mself\u001b[0m\u001b[0;34m.\u001b[0m\u001b[0m_get_sequential_output\u001b[0m\u001b[0;34m(\u001b[0m\u001b[0miterable\u001b[0m\u001b[0;34m)\u001b[0m\u001b[0;34m\u001b[0m\u001b[0;34m\u001b[0m\u001b[0m\n\u001b[1;32m   1862\u001b[0m             \u001b[0mnext\u001b[0m\u001b[0;34m(\u001b[0m\u001b[0moutput\u001b[0m\u001b[0;34m)\u001b[0m\u001b[0;34m\u001b[0m\u001b[0;34m\u001b[0m\u001b[0m\n\u001b[0;32m-> 1863\u001b[0;31m             \u001b[0;32mreturn\u001b[0m \u001b[0moutput\u001b[0m \u001b[0;32mif\u001b[0m \u001b[0mself\u001b[0m\u001b[0;34m.\u001b[0m\u001b[0mreturn_generator\u001b[0m \u001b[0;32melse\u001b[0m \u001b[0mlist\u001b[0m\u001b[0;34m(\u001b[0m\u001b[0moutput\u001b[0m\u001b[0;34m)\u001b[0m\u001b[0;34m\u001b[0m\u001b[0;34m\u001b[0m\u001b[0m\n\u001b[0m\u001b[1;32m   1864\u001b[0m \u001b[0;34m\u001b[0m\u001b[0m\n\u001b[1;32m   1865\u001b[0m         \u001b[0;31m# Let's create an ID that uniquely identifies the current call. If the\u001b[0m\u001b[0;34m\u001b[0m\u001b[0;34m\u001b[0m\u001b[0m\n",
            "\u001b[0;32m/usr/local/lib/python3.10/dist-packages/joblib/parallel.py\u001b[0m in \u001b[0;36m_get_sequential_output\u001b[0;34m(self, iterable)\u001b[0m\n\u001b[1;32m   1790\u001b[0m                 \u001b[0mself\u001b[0m\u001b[0;34m.\u001b[0m\u001b[0mn_dispatched_batches\u001b[0m \u001b[0;34m+=\u001b[0m \u001b[0;36m1\u001b[0m\u001b[0;34m\u001b[0m\u001b[0;34m\u001b[0m\u001b[0m\n\u001b[1;32m   1791\u001b[0m                 \u001b[0mself\u001b[0m\u001b[0;34m.\u001b[0m\u001b[0mn_dispatched_tasks\u001b[0m \u001b[0;34m+=\u001b[0m \u001b[0;36m1\u001b[0m\u001b[0;34m\u001b[0m\u001b[0;34m\u001b[0m\u001b[0m\n\u001b[0;32m-> 1792\u001b[0;31m                 \u001b[0mres\u001b[0m \u001b[0;34m=\u001b[0m \u001b[0mfunc\u001b[0m\u001b[0;34m(\u001b[0m\u001b[0;34m*\u001b[0m\u001b[0margs\u001b[0m\u001b[0;34m,\u001b[0m \u001b[0;34m**\u001b[0m\u001b[0mkwargs\u001b[0m\u001b[0;34m)\u001b[0m\u001b[0;34m\u001b[0m\u001b[0;34m\u001b[0m\u001b[0m\n\u001b[0m\u001b[1;32m   1793\u001b[0m                 \u001b[0mself\u001b[0m\u001b[0;34m.\u001b[0m\u001b[0mn_completed_tasks\u001b[0m \u001b[0;34m+=\u001b[0m \u001b[0;36m1\u001b[0m\u001b[0;34m\u001b[0m\u001b[0;34m\u001b[0m\u001b[0m\n\u001b[1;32m   1794\u001b[0m                 \u001b[0mself\u001b[0m\u001b[0;34m.\u001b[0m\u001b[0mprint_progress\u001b[0m\u001b[0;34m(\u001b[0m\u001b[0;34m)\u001b[0m\u001b[0;34m\u001b[0m\u001b[0;34m\u001b[0m\u001b[0m\n",
            "\u001b[0;32m/usr/local/lib/python3.10/dist-packages/sklearn/utils/parallel.py\u001b[0m in \u001b[0;36m__call__\u001b[0;34m(self, *args, **kwargs)\u001b[0m\n\u001b[1;32m    121\u001b[0m             \u001b[0mconfig\u001b[0m \u001b[0;34m=\u001b[0m \u001b[0;34m{\u001b[0m\u001b[0;34m}\u001b[0m\u001b[0;34m\u001b[0m\u001b[0;34m\u001b[0m\u001b[0m\n\u001b[1;32m    122\u001b[0m         \u001b[0;32mwith\u001b[0m \u001b[0mconfig_context\u001b[0m\u001b[0;34m(\u001b[0m\u001b[0;34m**\u001b[0m\u001b[0mconfig\u001b[0m\u001b[0;34m)\u001b[0m\u001b[0;34m:\u001b[0m\u001b[0;34m\u001b[0m\u001b[0;34m\u001b[0m\u001b[0m\n\u001b[0;32m--> 123\u001b[0;31m             \u001b[0;32mreturn\u001b[0m \u001b[0mself\u001b[0m\u001b[0;34m.\u001b[0m\u001b[0mfunction\u001b[0m\u001b[0;34m(\u001b[0m\u001b[0;34m*\u001b[0m\u001b[0margs\u001b[0m\u001b[0;34m,\u001b[0m \u001b[0;34m**\u001b[0m\u001b[0mkwargs\u001b[0m\u001b[0;34m)\u001b[0m\u001b[0;34m\u001b[0m\u001b[0;34m\u001b[0m\u001b[0m\n\u001b[0m",
            "\u001b[0;32m/usr/local/lib/python3.10/dist-packages/sklearn/model_selection/_validation.py\u001b[0m in \u001b[0;36m_fit_and_predict\u001b[0;34m(estimator, X, y, train, test, verbose, fit_params, method)\u001b[0m\n\u001b[1;32m   1066\u001b[0m         \u001b[0mestimator\u001b[0m\u001b[0;34m.\u001b[0m\u001b[0mfit\u001b[0m\u001b[0;34m(\u001b[0m\u001b[0mX_train\u001b[0m\u001b[0;34m,\u001b[0m \u001b[0;34m**\u001b[0m\u001b[0mfit_params\u001b[0m\u001b[0;34m)\u001b[0m\u001b[0;34m\u001b[0m\u001b[0;34m\u001b[0m\u001b[0m\n\u001b[1;32m   1067\u001b[0m     \u001b[0;32melse\u001b[0m\u001b[0;34m:\u001b[0m\u001b[0;34m\u001b[0m\u001b[0;34m\u001b[0m\u001b[0m\n\u001b[0;32m-> 1068\u001b[0;31m         \u001b[0mestimator\u001b[0m\u001b[0;34m.\u001b[0m\u001b[0mfit\u001b[0m\u001b[0;34m(\u001b[0m\u001b[0mX_train\u001b[0m\u001b[0;34m,\u001b[0m \u001b[0my_train\u001b[0m\u001b[0;34m,\u001b[0m \u001b[0;34m**\u001b[0m\u001b[0mfit_params\u001b[0m\u001b[0;34m)\u001b[0m\u001b[0;34m\u001b[0m\u001b[0;34m\u001b[0m\u001b[0m\n\u001b[0m\u001b[1;32m   1069\u001b[0m     \u001b[0mfunc\u001b[0m \u001b[0;34m=\u001b[0m \u001b[0mgetattr\u001b[0m\u001b[0;34m(\u001b[0m\u001b[0mestimator\u001b[0m\u001b[0;34m,\u001b[0m \u001b[0mmethod\u001b[0m\u001b[0;34m)\u001b[0m\u001b[0;34m\u001b[0m\u001b[0;34m\u001b[0m\u001b[0m\n\u001b[1;32m   1070\u001b[0m     \u001b[0mpredictions\u001b[0m \u001b[0;34m=\u001b[0m \u001b[0mfunc\u001b[0m\u001b[0;34m(\u001b[0m\u001b[0mX_test\u001b[0m\u001b[0;34m)\u001b[0m\u001b[0;34m\u001b[0m\u001b[0;34m\u001b[0m\u001b[0m\n",
            "\u001b[0;32m/usr/local/lib/python3.10/dist-packages/sklearn/ensemble/_weight_boosting.py\u001b[0m in \u001b[0;36mfit\u001b[0;34m(self, X, y, sample_weight)\u001b[0m\n\u001b[1;32m    160\u001b[0m \u001b[0;34m\u001b[0m\u001b[0m\n\u001b[1;32m    161\u001b[0m             \u001b[0;31m# Boosting step\u001b[0m\u001b[0;34m\u001b[0m\u001b[0;34m\u001b[0m\u001b[0m\n\u001b[0;32m--> 162\u001b[0;31m             sample_weight, estimator_weight, estimator_error = self._boost(\n\u001b[0m\u001b[1;32m    163\u001b[0m                 \u001b[0miboost\u001b[0m\u001b[0;34m,\u001b[0m \u001b[0mX\u001b[0m\u001b[0;34m,\u001b[0m \u001b[0my\u001b[0m\u001b[0;34m,\u001b[0m \u001b[0msample_weight\u001b[0m\u001b[0;34m,\u001b[0m \u001b[0mrandom_state\u001b[0m\u001b[0;34m\u001b[0m\u001b[0;34m\u001b[0m\u001b[0m\n\u001b[1;32m    164\u001b[0m             )\n",
            "\u001b[0;32m/usr/local/lib/python3.10/dist-packages/sklearn/ensemble/_weight_boosting.py\u001b[0m in \u001b[0;36m_boost\u001b[0;34m(self, iboost, X, y, sample_weight, random_state)\u001b[0m\n\u001b[1;32m    567\u001b[0m         \"\"\"\n\u001b[1;32m    568\u001b[0m         \u001b[0;32mif\u001b[0m \u001b[0mself\u001b[0m\u001b[0;34m.\u001b[0m\u001b[0malgorithm\u001b[0m \u001b[0;34m==\u001b[0m \u001b[0;34m\"SAMME.R\"\u001b[0m\u001b[0;34m:\u001b[0m\u001b[0;34m\u001b[0m\u001b[0;34m\u001b[0m\u001b[0m\n\u001b[0;32m--> 569\u001b[0;31m             \u001b[0;32mreturn\u001b[0m \u001b[0mself\u001b[0m\u001b[0;34m.\u001b[0m\u001b[0m_boost_real\u001b[0m\u001b[0;34m(\u001b[0m\u001b[0miboost\u001b[0m\u001b[0;34m,\u001b[0m \u001b[0mX\u001b[0m\u001b[0;34m,\u001b[0m \u001b[0my\u001b[0m\u001b[0;34m,\u001b[0m \u001b[0msample_weight\u001b[0m\u001b[0;34m,\u001b[0m \u001b[0mrandom_state\u001b[0m\u001b[0;34m)\u001b[0m\u001b[0;34m\u001b[0m\u001b[0;34m\u001b[0m\u001b[0m\n\u001b[0m\u001b[1;32m    570\u001b[0m \u001b[0;34m\u001b[0m\u001b[0m\n\u001b[1;32m    571\u001b[0m         \u001b[0;32melse\u001b[0m\u001b[0;34m:\u001b[0m  \u001b[0;31m# elif self.algorithm == \"SAMME\":\u001b[0m\u001b[0;34m\u001b[0m\u001b[0;34m\u001b[0m\u001b[0m\n",
            "\u001b[0;32m/usr/local/lib/python3.10/dist-packages/sklearn/ensemble/_weight_boosting.py\u001b[0m in \u001b[0;36m_boost_real\u001b[0;34m(self, iboost, X, y, sample_weight, random_state)\u001b[0m\n\u001b[1;32m    576\u001b[0m         \u001b[0mestimator\u001b[0m \u001b[0;34m=\u001b[0m \u001b[0mself\u001b[0m\u001b[0;34m.\u001b[0m\u001b[0m_make_estimator\u001b[0m\u001b[0;34m(\u001b[0m\u001b[0mrandom_state\u001b[0m\u001b[0;34m=\u001b[0m\u001b[0mrandom_state\u001b[0m\u001b[0;34m)\u001b[0m\u001b[0;34m\u001b[0m\u001b[0;34m\u001b[0m\u001b[0m\n\u001b[1;32m    577\u001b[0m \u001b[0;34m\u001b[0m\u001b[0m\n\u001b[0;32m--> 578\u001b[0;31m         \u001b[0mestimator\u001b[0m\u001b[0;34m.\u001b[0m\u001b[0mfit\u001b[0m\u001b[0;34m(\u001b[0m\u001b[0mX\u001b[0m\u001b[0;34m,\u001b[0m \u001b[0my\u001b[0m\u001b[0;34m,\u001b[0m \u001b[0msample_weight\u001b[0m\u001b[0;34m=\u001b[0m\u001b[0msample_weight\u001b[0m\u001b[0;34m)\u001b[0m\u001b[0;34m\u001b[0m\u001b[0;34m\u001b[0m\u001b[0m\n\u001b[0m\u001b[1;32m    579\u001b[0m \u001b[0;34m\u001b[0m\u001b[0m\n\u001b[1;32m    580\u001b[0m         \u001b[0my_predict_proba\u001b[0m \u001b[0;34m=\u001b[0m \u001b[0mestimator\u001b[0m\u001b[0;34m.\u001b[0m\u001b[0mpredict_proba\u001b[0m\u001b[0;34m(\u001b[0m\u001b[0mX\u001b[0m\u001b[0;34m)\u001b[0m\u001b[0;34m\u001b[0m\u001b[0;34m\u001b[0m\u001b[0m\n",
            "\u001b[0;32m/usr/local/lib/python3.10/dist-packages/sklearn/tree/_classes.py\u001b[0m in \u001b[0;36mfit\u001b[0;34m(self, X, y, sample_weight, check_input)\u001b[0m\n\u001b[1;32m    887\u001b[0m         \"\"\"\n\u001b[1;32m    888\u001b[0m \u001b[0;34m\u001b[0m\u001b[0m\n\u001b[0;32m--> 889\u001b[0;31m         super().fit(\n\u001b[0m\u001b[1;32m    890\u001b[0m             \u001b[0mX\u001b[0m\u001b[0;34m,\u001b[0m\u001b[0;34m\u001b[0m\u001b[0;34m\u001b[0m\u001b[0m\n\u001b[1;32m    891\u001b[0m             \u001b[0my\u001b[0m\u001b[0;34m,\u001b[0m\u001b[0;34m\u001b[0m\u001b[0;34m\u001b[0m\u001b[0m\n",
            "\u001b[0;32m/usr/local/lib/python3.10/dist-packages/sklearn/tree/_classes.py\u001b[0m in \u001b[0;36mfit\u001b[0;34m(self, X, y, sample_weight, check_input)\u001b[0m\n\u001b[1;32m    377\u001b[0m             )\n\u001b[1;32m    378\u001b[0m \u001b[0;34m\u001b[0m\u001b[0m\n\u001b[0;32m--> 379\u001b[0;31m         \u001b[0mbuilder\u001b[0m\u001b[0;34m.\u001b[0m\u001b[0mbuild\u001b[0m\u001b[0;34m(\u001b[0m\u001b[0mself\u001b[0m\u001b[0;34m.\u001b[0m\u001b[0mtree_\u001b[0m\u001b[0;34m,\u001b[0m \u001b[0mX\u001b[0m\u001b[0;34m,\u001b[0m \u001b[0my\u001b[0m\u001b[0;34m,\u001b[0m \u001b[0msample_weight\u001b[0m\u001b[0;34m)\u001b[0m\u001b[0;34m\u001b[0m\u001b[0;34m\u001b[0m\u001b[0m\n\u001b[0m\u001b[1;32m    380\u001b[0m \u001b[0;34m\u001b[0m\u001b[0m\n\u001b[1;32m    381\u001b[0m         \u001b[0;32mif\u001b[0m \u001b[0mself\u001b[0m\u001b[0;34m.\u001b[0m\u001b[0mn_outputs_\u001b[0m \u001b[0;34m==\u001b[0m \u001b[0;36m1\u001b[0m \u001b[0;32mand\u001b[0m \u001b[0mis_classifier\u001b[0m\u001b[0;34m(\u001b[0m\u001b[0mself\u001b[0m\u001b[0;34m)\u001b[0m\u001b[0;34m:\u001b[0m\u001b[0;34m\u001b[0m\u001b[0;34m\u001b[0m\u001b[0m\n",
            "\u001b[0;31mKeyboardInterrupt\u001b[0m: "
          ]
        }
      ]
    },
    {
      "cell_type": "code",
      "source": [
        "from sklearn.ensemble import BaggingClassifier\n",
        "\n",
        "# Initialize base models\n",
        "base_models = [\n",
        "    ('bernoulli_nb', BernoulliNB(alpha=0.1, binarize=0.0, fit_prior=True)),\n",
        "    ('adaboost', AdaBoostClassifier(n_estimators=100, learning_rate=1.0)),\n",
        "    ('xgboost', XGBClassifier(max_depth=9, n_estimators=100, learning_rate=0.01)),\n",
        "    ('decision_tree', DecisionTreeClassifier(criterion='gini', max_depth=3, min_samples_leaf=5))\n",
        "]\n",
        "\n",
        "# Initialize meta-model\n",
        "meta_model = DecisionTreeClassifier()\n",
        "\n",
        "# Initialize empty arrays to store predictions from base models\n",
        "X_train_meta = np.zeros((len(X_train), len(base_models)))\n",
        "X_test_meta = np.zeros((len(X_test), len(base_models)))\n",
        "\n",
        "# Generate meta-features from base models using bagging\n",
        "for i, (_, model) in enumerate(base_models):\n",
        "    bagging_model = BaggingClassifier(base_estimator=model, n_estimators=10, random_state=42)\n",
        "    y_pred_train = bagging_model.fit(X_train, y_train).predict(X_train)\n",
        "    y_pred_test = bagging_model.predict(X_test)\n",
        "    X_train_meta[:, i] = y_pred_train\n",
        "    X_test_meta[:, i] = y_pred_test\n",
        "\n",
        "# Train meta-model on meta-features\n",
        "meta_model.fit(X_train_meta, y_train)\n",
        "\n",
        "# Make predictions using meta-model\n",
        "y_pred_meta_train = meta_model.predict(X_train_meta)\n",
        "y_pred_meta_test = meta_model.predict(X_test_meta)\n",
        "\n",
        "# Calculate evaluation metrics\n",
        "accuracy_train = accuracy_score(y_train, y_pred_meta_train)\n",
        "accuracy_test = accuracy_score(y_test, y_pred_meta_test)\n",
        "precision_test_W = precision_score(y_test, y_pred_meta_test, average='weighted')\n",
        "recall_test_W = recall_score(y_test, y_pred_meta_test, average='weighted')\n",
        "f1_score_test_W = f1_score(y_test, y_pred_meta_test, average='weighted')\n",
        "\n",
        "precision_test_I = precision_score(y_test, y_pred_meta_test, average='micro')\n",
        "recall_test_I = recall_score(y_test, y_pred_meta_test, average='micro')\n",
        "f1_score_test_I = f1_score(y_test, y_pred_meta_test, average='micro')\n",
        "\n",
        "precision_test_A = precision_score(y_test, y_pred_meta_test, average='macro')\n",
        "recall_test_A = recall_score(y_test, y_pred_meta_test, average='macro')\n",
        "f1_score_test_A = f1_score(y_test, y_pred_meta_test, average='macro')\n",
        "\n",
        "print(\"Bagging Accuracy on Train Set:\", accuracy_train)\n",
        "print(\"Bagging Accuracy on Test Set:\", accuracy_test)\n",
        "print(\"Bagging Precision on Test Set(weighted):\", precision_test_W)\n",
        "print(\"Bagging Recall on Test Set(weighted):\", recall_test_W)\n",
        "print(f\"Bagging F1 Score on Test Set(weighted):{f1_score_test_W} \\n\")\n",
        "\n",
        "print(\"Bagging Precision on Test Set(micro):\", precision_test_I)\n",
        "print(\"Bagging Recall on Test Set(micro):\", recall_test_I)\n",
        "print(f\"Bagging F1 Score on Test Set(micro): {f1_score_test_I} \\n\")\n",
        "\n",
        "print(\"Bagging Precision on Test Set(macro):\", precision_test_A)\n",
        "print(\"Bagging Recall on Test Set(macro):\", recall_test_A)\n",
        "print(f\"Bagging F1 Score on Test Set(macro): {f1_score_test_A} \\n\")\n",
        "\n",
        "# Confusion Matrix\n",
        "cm = confusion_matrix(y_test, y_pred_meta_test)\n",
        "plt.figure(figsize=(8, 6))\n",
        "sns.heatmap(cm, annot=True, fmt=\"d\", cmap=\"Blues\", cbar=False)\n",
        "plt.xlabel(\"Predicted\")\n",
        "plt.ylabel(\"Actual\")\n",
        "plt.title(\"Confusion Matrix\")\n",
        "plt.show()\n"
      ],
      "metadata": {
        "colab": {
          "base_uri": "https://localhost:8080/",
          "height": 977
        },
        "id": "szSxFRbZ3DwW",
        "outputId": "08a0f59b-0ffa-48de-873b-b53613093a3d"
      },
      "execution_count": 9,
      "outputs": [
        {
          "output_type": "stream",
          "name": "stderr",
          "text": [
            "/usr/local/lib/python3.10/dist-packages/sklearn/ensemble/_base.py:166: FutureWarning: `base_estimator` was renamed to `estimator` in version 1.2 and will be removed in 1.4.\n",
            "  warnings.warn(\n",
            "/usr/local/lib/python3.10/dist-packages/sklearn/ensemble/_base.py:166: FutureWarning: `base_estimator` was renamed to `estimator` in version 1.2 and will be removed in 1.4.\n",
            "  warnings.warn(\n",
            "/usr/local/lib/python3.10/dist-packages/sklearn/ensemble/_base.py:166: FutureWarning: `base_estimator` was renamed to `estimator` in version 1.2 and will be removed in 1.4.\n",
            "  warnings.warn(\n",
            "/usr/local/lib/python3.10/dist-packages/sklearn/ensemble/_base.py:166: FutureWarning: `base_estimator` was renamed to `estimator` in version 1.2 and will be removed in 1.4.\n",
            "  warnings.warn(\n"
          ]
        },
        {
          "output_type": "stream",
          "name": "stdout",
          "text": [
            "Bagging Accuracy on Train Set: 1.0\n",
            "Bagging Accuracy on Test Set: 0.40997830802603036\n",
            "Bagging Precision on Test Set(weighted): 0.38788366867133406\n",
            "Bagging Recall on Test Set(weighted): 0.40997830802603036\n",
            "Bagging F1 Score on Test Set(weighted):0.39862506257300184 \n",
            "\n",
            "Bagging Precision on Test Set(micro): 0.40997830802603036\n",
            "Bagging Recall on Test Set(micro): 0.40997830802603036\n",
            "Bagging F1 Score on Test Set(micro): 0.4099783080260304 \n",
            "\n",
            "Bagging Precision on Test Set(macro): 0.28293413173652693\n",
            "Bagging Recall on Test Set(macro): 0.2990506329113924\n",
            "Bagging F1 Score on Test Set(macro): 0.2907692307692308 \n",
            "\n"
          ]
        },
        {
          "output_type": "display_data",
          "data": {
            "text/plain": [
              "<Figure size 800x600 with 1 Axes>"
            ],
            "image/png": "[encoded data removed]"
          },
          "metadata": {}
        }
      ]
    },
    {
      "cell_type": "code",
      "source": [
        "from sklearn.ensemble import BaggingClassifier\n",
        "\n",
        "# Initialize base models\n",
        "base_models = [\n",
        "    ('bernoulli_nb', BernoulliNB(alpha=0.1, binarize=0.0, fit_prior=True)),\n",
        "    ('adaboost', AdaBoostClassifier(n_estimators=50, learning_rate=1.0)),\n",
        "    ('xgboost', XGBClassifier(max_depth=9, n_estimators=100, learning_rate=0.01)),\n",
        "    ('decision_tree', DecisionTreeClassifier(criterion='gini', max_depth=3, min_samples_leaf=5))\n",
        "]\n",
        "\n",
        "# Initialize meta-model\n",
        "meta_model = DecisionTreeClassifier()\n",
        "\n",
        "# Initialize empty arrays to store predictions from base models\n",
        "X_train_meta = np.zeros((len(X_train), len(base_models)))\n",
        "X_test_meta = np.zeros((len(X_test), len(base_models)))\n",
        "\n",
        "# Generate meta-features from base models using bagging\n",
        "for i, (_, model) in enumerate(base_models):\n",
        "    bagging_model = BaggingClassifier(base_estimator=model, n_estimators=10, random_state=42)\n",
        "    y_pred_train = bagging_model.fit(X_train, y_train).predict(X_train)\n",
        "    y_pred_test = bagging_model.predict(X_test)\n",
        "    X_train_meta[:, i] = y_pred_train\n",
        "    X_test_meta[:, i] = y_pred_test\n",
        "\n",
        "# Train meta-model on meta-features\n",
        "meta_model.fit(X_train_meta, y_train)\n",
        "\n",
        "# Make predictions using meta-model\n",
        "y_pred_meta_train = meta_model.predict(X_train_meta)\n",
        "y_pred_meta_test = meta_model.predict(X_test_meta)\n",
        "\n",
        "# Calculate evaluation metrics\n",
        "accuracy_train = accuracy_score(y_train, y_pred_meta_train)\n",
        "accuracy_test = accuracy_score(y_test, y_pred_meta_test)\n",
        "precision_test_W = precision_score(y_test, y_pred_meta_test, average='weighted')\n",
        "recall_test_W = recall_score(y_test, y_pred_meta_test, average='weighted')\n",
        "f1_score_test_W = f1_score(y_test, y_pred_meta_test, average='weighted')\n",
        "\n",
        "precision_test_I = precision_score(y_test, y_pred_meta_test, average='micro')\n",
        "recall_test_I = recall_score(y_test, y_pred_meta_test, average='micro')\n",
        "f1_score_test_I = f1_score(y_test, y_pred_meta_test, average='micro')\n",
        "\n",
        "precision_test_A = precision_score(y_test, y_pred_meta_test, average='macro')\n",
        "recall_test_A = recall_score(y_test, y_pred_meta_test, average='macro')\n",
        "f1_score_test_A = f1_score(y_test, y_pred_meta_test, average='macro')\n",
        "\n",
        "print(\"Bagging Accuracy on Train Set:\", accuracy_train)\n",
        "print(\"Bagging Accuracy on Test Set:\", accuracy_test)\n",
        "print(\"Bagging Precision on Test Set(weighted):\", precision_test_W)\n",
        "print(\"Bagging Recall on Test Set(weighted):\", recall_test_W)\n",
        "print(f\"Bagging F1 Score on Test Set(weighted):{f1_score_test_W} \\n\")\n",
        "\n",
        "print(\"Bagging Precision on Test Set(micro):\", precision_test_I)\n",
        "print(\"Bagging Recall on Test Set(micro):\", recall_test_I)\n",
        "print(f\"Bagging F1 Score on Test Set(micro): {f1_score_test_I} \\n\")\n",
        "\n",
        "print(\"Bagging Precision on Test Set(macro):\", precision_test_A)\n",
        "print(\"Bagging Recall on Test Set(macro):\", recall_test_A)\n",
        "print(f\"Bagging F1 Score on Test Set(macro): {f1_score_test_A} \\n\")\n",
        "\n",
        "# Confusion Matrix\n",
        "cm = confusion_matrix(y_test, y_pred_meta_test)\n",
        "plt.figure(figsize=(8, 6))\n",
        "sns.heatmap(cm, annot=True, fmt=\"d\", cmap=\"Blues\", cbar=False)\n",
        "plt.xlabel(\"Predicted\")\n",
        "plt.ylabel(\"Actual\")\n",
        "plt.title(\"Confusion Matrix\")\n",
        "plt.show()\n"
      ],
      "metadata": {
        "id": "kCCYRgQRj_8P"
      },
      "execution_count": null,
      "outputs": []
    },
    {
      "cell_type": "code",
      "source": [
        "from sklearn.ensemble import BaggingClassifier\n",
        "from sklearn.model_selection import cross_val_score, GridSearchCV\n",
        "from sklearn.metrics import make_scorer, accuracy_score, precision_score, recall_score, f1_score\n",
        "from sklearn.preprocessing import StandardScaler\n",
        "from sklearn.pipeline import Pipeline\n",
        "import numpy as np\n",
        "\n",
        "# Define base models with hyperparameters\n",
        "base_models = {\n",
        "    'bernoulli_nb': BernoulliNB(),\n",
        "    'adaboost': AdaBoostClassifier(),\n",
        "    'xgboost': XGBClassifier(),\n",
        "    'decision_tree': DecisionTreeClassifier()\n",
        "}\n",
        "\n",
        "# Define meta-model with hyperparameters\n",
        "meta_model = DecisionTreeClassifier()\n",
        "\n",
        "# Initialize empty arrays to store predictions from base models\n",
        "X_train_meta = np.zeros((len(X_train), len(base_models)))\n",
        "X_test_meta = np.zeros((len(X_test), len(base_models)))\n",
        "\n",
        "# Generate meta-features from base models using cross-validation\n",
        "for i, (name, model) in enumerate(base_models.items()):\n",
        "    pipeline = Pipeline([('scaler', StandardScaler()), ('model', model)])\n",
        "    scores = cross_val_score(pipeline, X_train, y_train, cv=5, scoring='accuracy')\n",
        "    print(f\"{name} Mean Accuracy: {scores.mean()}, Std: {scores.std()}\")\n",
        "    pipeline.fit(X_train, y_train)\n",
        "    y_pred_train = pipeline.predict(X_train)\n",
        "    y_pred_test = pipeline.predict(X_test)\n",
        "    X_train_meta[:, i] = y_pred_train\n",
        "    X_test_meta[:, i] = y_pred_test\n",
        "\n",
        "# Train meta-model on meta-features\n",
        "meta_model.fit(X_train_meta, y_train)\n",
        "\n",
        "# Make predictions using meta-model\n",
        "y_pred_meta_train = meta_model.predict(X_train_meta)\n",
        "y_pred_meta_test = meta_model.predict(X_test_meta)\n",
        "\n",
        "# Calculate evaluation metrics\n",
        "accuracy_train = accuracy_score(y_train, y_pred_meta_train)\n",
        "accuracy_test = accuracy_score(y_test, y_pred_meta_test)\n",
        "precision_test = precision_score(y_test, y_pred_meta_test, average='weighted')\n",
        "recall_test = recall_score(y_test, y_pred_meta_test, average='weighted')\n",
        "f1_score_test = f1_score(y_test, y_pred_meta_test, average='weighted')\n",
        "\n",
        "print(\"Stacking Accuracy on Train Set:\", accuracy_train)\n",
        "print(\"Stacking Accuracy on Test Set:\", accuracy_test)\n",
        "print(\"Stacking Precision on Test Set (weighted):\", precision_test)\n",
        "print(\"Stacking Recall on Test Set (weighted):\", recall_test)\n",
        "print(\"Stacking F1 Score on Test Set (weighted):\", f1_score_test)\n",
        "\n",
        "# Confusion Matrix\n",
        "cm = confusion_matrix(y_test, y_pred_meta_test)\n",
        "plt.figure(figsize=(8, 6))\n",
        "sns.heatmap(cm, annot=True, fmt=\"d\", cmap=\"Blues\", cbar=False)\n",
        "plt.xlabel(\"Predicted\")\n",
        "plt.ylabel(\"Actual\")\n",
        "plt.title(\"Confusion Matrix\")\n",
        "plt.show()"
      ],
      "metadata": {
        "colab": {
          "base_uri": "https://localhost:8080/",
          "height": 725
        },
        "id": "oRmDeb--qDIT",
        "outputId": "d225c55b-285d-415c-c404-5a323a0c72f1"
      },
      "execution_count": 7,
      "outputs": [
        {
          "output_type": "stream",
          "name": "stdout",
          "text": [
            "bernoulli_nb Mean Accuracy: 0.6249360796415349, Std: 0.003789002189786558\n",
            "adaboost Mean Accuracy: 0.5141081738393251, Std: 0.1460023759714937\n",
            "xgboost Mean Accuracy: 0.5460107834133247, Std: 0.09815093566328614\n",
            "decision_tree Mean Accuracy: 0.5647469264867027, Std: 0.12223927336738474\n",
            "Stacking Accuracy on Train Set: 1.0\n",
            "Stacking Accuracy on Test Set: 0.47216196673897326\n",
            "Stacking Precision on Test Set (weighted): 0.344825204230147\n",
            "Stacking Recall on Test Set (weighted): 0.47216196673897326\n",
            "Stacking F1 Score on Test Set (weighted): 0.38672955556085126\n"
          ]
        },
        {
          "output_type": "display_data",
          "data": {
            "text/plain": [
              "<Figure size 800x600 with 1 Axes>"
            ],
            "image/png": "[encoded data removed]"
          },
          "metadata": {}
        }
      ]
    }
  ]
}