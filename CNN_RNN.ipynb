{
  "cells": [
    {
      "cell_type": "markdown",
      "metadata": {
        "id": "view-in-github",
        "colab_type": "text"
      },
      "source": [
        "<a href=\"https://colab.research.google.com/github/maimonahST/GP/blob/main/CNN_RNN.ipynb\" target=\"_parent\"><img src=\"https://colab.research.google.com/assets/colab-badge.svg\" alt=\"Open In Colab\"/></a>"
      ]
    },
    {
      "cell_type": "code",
      "execution_count": null,
      "metadata": {
        "id": "0WYpZFj0SAGF"
      },
      "outputs": [],
      "source": [
        "from glob import glob\n",
        "import scipy.io\n",
        "import torch.nn as nn\n",
        "import torch\n",
        "import numpy as np"
      ]
    },
    {
      "cell_type": "code",
      "source": [
        "from google.colab import drive\n",
        "drive.mount('/content/drive')"
      ],
      "metadata": {
        "colab": {
          "base_uri": "https://localhost:8080/"
        },
        "id": "aQUqPg2VI0Dl",
        "outputId": "f8b0b59f-9b43-4d12-8e41-b9c37891feb9"
      },
      "execution_count": null,
      "outputs": [
        {
          "output_type": "stream",
          "name": "stdout",
          "text": [
            "Mounted at /content/drive\n"
          ]
        }
      ]
    },
    {
      "cell_type": "markdown",
      "source": [
        "# Load the data"
      ],
      "metadata": {
        "id": "Co_7R6E6uVp2"
      }
    },
    {
      "cell_type": "code",
      "source": [
        "\n",
        "import numpy as np\n",
        "data_array = np.load('/content/drive/MyDrive/GP/GP-Data/data_array.npy')\n",
        "label_array = np.load('/content/drive/MyDrive/GP/GP-Data/label_array.npy')\n",
        "group_array = np.load('/content/drive/MyDrive/GP/GP-Data/group_array.npy')\n",
        "\n",
        "\n",
        "print(data_array.shape,label_array.shape,group_array.shape)"
      ],
      "metadata": {
        "colab": {
          "base_uri": "https://localhost:8080/"
        },
        "id": "WVEN4QdXIpL4",
        "outputId": "f4bc3651-9629-4f67-9319-7c720865e1f7"
      },
      "execution_count": null,
      "outputs": [
        {
          "output_type": "stream",
          "name": "stdout",
          "text": [
            "(7150, 1250, 33) (7150,) (7150,)\n"
          ]
        }
      ]
    },
    {
      "cell_type": "markdown",
      "source": [
        "# Prepare the data for traning"
      ],
      "metadata": {
        "id": "6GqhpJ5FueSI"
      }
    },
    {
      "cell_type": "code",
      "source": [
        "# convert the problem from multiclass classification to binary classification\n",
        "# make haemorrhage and schaemia classes as one\n",
        "label_array = label_array.astype('int')\n",
        "label_array[label_array==1] = 0\n",
        "label_array[label_array==2] = 1"
      ],
      "metadata": {
        "id": "3KmPxB1bMtVS"
      },
      "execution_count": null,
      "outputs": []
    },
    {
      "cell_type": "code",
      "execution_count": null,
      "metadata": {
        "id": "AAnzVQfTSJKM"
      },
      "outputs": [],
      "source": [
        "from sklearn.model_selection import GroupKFold,LeaveOneGroupOut\n",
        "from sklearn.preprocessing import StandardScaler\n",
        "gkf=GroupKFold()\n",
        "from sklearn.base import TransformerMixin,BaseEstimator\n",
        "from sklearn.preprocessing import StandardScaler\n",
        "class StandardScaler3D(BaseEstimator,TransformerMixin):\n",
        "    #batch, sequence, channels\n",
        "    def __init__(self):\n",
        "        self.scaler = StandardScaler()\n",
        "\n",
        "    def fit(self,X,y=None):\n",
        "        self.scaler.fit(X.reshape(-1, X.shape[2]))\n",
        "        return self\n",
        "\n",
        "    def transform(self,X):\n",
        "        return self.scaler.transform(X.reshape( -1,X.shape[2])).reshape(X.shape)"
      ]
    },
    {
      "cell_type": "markdown",
      "source": [
        "## Split the data into Training ,Testing and Validation"
      ],
      "metadata": {
        "id": "gHRBU97gup1Y"
      }
    },
    {
      "cell_type": "code",
      "execution_count": null,
      "metadata": {
        "id": "7e712vJdSO9o"
      },
      "outputs": [],
      "source": [
        "# Split data_array into train and validate\n",
        "\n",
        "for train_index, val_index in gkf.split(data_array, label_array, groups=group_array):\n",
        "    train_features, train_label = data_array[train_index],label_array[train_index]\n",
        "    val_features, val_labels = data_array[val_index],label_array[val_index]\n",
        "    train_groups = group_array[train_index]\n",
        "    scaler=StandardScaler3D()\n",
        "    train_features=scaler.fit_transform(train_features)\n",
        "    val_features=scaler.transform(val_features)\n",
        "    break\n",
        "\n"
      ]
    },
    {
      "cell_type": "code",
      "source": [
        "# Split train_features into train and test\n",
        "for train_index, test_index in gkf.split(train_features, train_label, groups= train_groups):\n",
        "    train_features,train_labels=data_array[train_index],label_array[train_index]\n",
        "    test_features,test_labels=data_array[test_index],label_array[test_index]\n",
        "\n",
        "    break"
      ],
      "metadata": {
        "id": "ytvl9ubzlhje"
      },
      "execution_count": null,
      "outputs": []
    },
    {
      "cell_type": "code",
      "source": [
        "# data spliting percentage\n",
        "train_p = train_features.shape[0]/data_array.shape[0]\n",
        "test_p = test_features.shape[0]/data_array.shape[0]\n",
        "val_p = val_features.shape[0]/data_array.shape[0]\n",
        "\n",
        "print(f'train_p: {train_p}, test_p: {test_p}, val_p: {val_p}')\n",
        "\n",
        "print(\"total: \",train_p + test_p + val_p)"
      ],
      "metadata": {
        "colab": {
          "base_uri": "https://localhost:8080/"
        },
        "id": "_DjykmqIwO3Q",
        "outputId": "8cf0eb54-c588-46d4-bf5e-c54ab008fdf1"
      },
      "execution_count": null,
      "outputs": [
        {
          "output_type": "stream",
          "name": "stdout",
          "text": [
            "train_p: 0.6612587412587413, test_p: 0.1453146853146853, val_p: 0.19342657342657343\n",
            "total:  1.0\n"
          ]
        }
      ]
    },
    {
      "cell_type": "markdown",
      "source": [
        "# CNN-RNN Model"
      ],
      "metadata": {
        "id": "IWrMI_cryRRN"
      }
    },
    {
      "cell_type": "code",
      "execution_count": 3,
      "metadata": {
        "id": "vFGk_WWWSWH6"
      },
      "outputs": [],
      "source": [
        "import tensorflow as tf\n",
        "from tensorflow.keras.layers import Input,Dense,concatenate,Flatten,GRU,Conv1D\n",
        "from tensorflow.keras.models import Model\n",
        "from tensorflow.keras.optimizers import Adam\n",
        "from tensorflow.keras.callbacks import EarlyStopping\n",
        "\n",
        "#resource:https://github.com/dll-ncai/eeg_pre-diagnostic_screening/blob/master/code/chrononet/chrono.py"
      ]
    },
    {
      "cell_type": "code",
      "execution_count": 4,
      "metadata": {
        "id": "vOsC028GSb8i"
      },
      "outputs": [],
      "source": [
        "def block(input):\n",
        "\n",
        "  \"\"\"\n",
        "    Create a block consisting of three parallel convolutional layers followed by concatenation.\n",
        "\n",
        "    Parameters:\n",
        "    - input: Input tensor.\n",
        "\n",
        "    Returns:\n",
        "    - Concatenated tensor resulting from the parallel convolutional layers.\n",
        "    \"\"\"\n",
        "\n",
        "  conv1 = Conv1D(32, 2, strides=2,activation='relu',padding=\"same\")(input)\n",
        "  conv2 = Conv1D(32, 4, strides=2,activation='relu',padding=\"causal\")(input)\n",
        "  conv3 = Conv1D(32, 8, strides=2,activation='relu',padding=\"causal\")(input)\n",
        "  x = concatenate([conv1,conv2,conv3],axis=2)\n",
        "  return x"
      ]
    },
    {
      "cell_type": "code",
      "execution_count": 5,
      "metadata": {
        "id": "7XggtOvBTQkp"
      },
      "outputs": [],
      "source": [
        "# Define the input layer with a shape of (1250, 33)\n",
        "input = Input(shape=(1250, 33))\n",
        "\n",
        "# Create the first block\n",
        "block1 = block(input)\n",
        "\n",
        "# Create the second block using the 'block' function with the output of the first block as input\n",
        "block2 = block(block1)\n",
        "\n",
        "# Create the third block using the 'block' function with the output of the second block as input\n",
        "block3 = block(block2)"
      ]
    },
    {
      "cell_type": "code",
      "execution_count": 6,
      "metadata": {
        "id": "6mTRZIVYTkvy"
      },
      "outputs": [],
      "source": [
        "gru_out1 = GRU(32,activation='tanh',return_sequences=True)(block3)\n",
        "gru_out2 = GRU(32,activation='tanh',return_sequences=True)(gru_out1)\n",
        "gru_out = concatenate([gru_out1,gru_out2],axis=2)\n",
        "gru_out3 = GRU(32,activation='tanh',return_sequences=True)(gru_out)\n",
        "gru_out = concatenate([gru_out1,gru_out2,gru_out3])\n",
        "gru_out4 = GRU(32,activation='tanh')(gru_out)\n"
      ]
    },
    {
      "cell_type": "code",
      "execution_count": 7,
      "metadata": {
        "id": "r6WI9hnkUpsA"
      },
      "outputs": [],
      "source": [
        "\n",
        "\n",
        "# Create a Dense layer with 1 unit and sigmoid activation for binary classification\n",
        "predictions = Dense(1, activation='sigmoid')(gru_out4)\n",
        "\n",
        "# Define the model with 'input' as the input and 'predictions' as the output\n",
        "model = Model(inputs=input, outputs=predictions)\n",
        "\n",
        "# Specify the Adam optimizer with a learning rate of 0.0001\n",
        "optimizer = Adam(learning_rate=0.0001)\n",
        "\n",
        "# Compile the model with binary crossentropy loss and accuracy as the evaluation metric\n",
        "model.compile(optimizer=optimizer, loss='binary_crossentropy', metrics=['accuracy'])\n"
      ]
    },
    {
      "cell_type": "code",
      "source": [
        "model.summary()"
      ],
      "metadata": {
        "colab": {
          "base_uri": "https://localhost:8080/"
        },
        "id": "rjXNCL803mbK",
        "outputId": "e641014c-86e1-4121-cf8a-8aeb01eec89f"
      },
      "execution_count": 8,
      "outputs": [
        {
          "output_type": "stream",
          "name": "stdout",
          "text": [
            "Model: \"model\"\n",
            "__________________________________________________________________________________________________\n",
            " Layer (type)                Output Shape                 Param #   Connected to                  \n",
            "==================================================================================================\n",
            " input_1 (InputLayer)        [(None, 1250, 33)]           0         []                            \n",
            "                                                                                                  \n",
            " conv1d (Conv1D)             (None, 625, 32)              2144      ['input_1[0][0]']             \n",
            "                                                                                                  \n",
            " conv1d_1 (Conv1D)           (None, 625, 32)              4256      ['input_1[0][0]']             \n",
            "                                                                                                  \n",
            " conv1d_2 (Conv1D)           (None, 625, 32)              8480      ['input_1[0][0]']             \n",
            "                                                                                                  \n",
            " concatenate (Concatenate)   (None, 625, 96)              0         ['conv1d[0][0]',              \n",
            "                                                                     'conv1d_1[0][0]',            \n",
            "                                                                     'conv1d_2[0][0]']            \n",
            "                                                                                                  \n",
            " conv1d_3 (Conv1D)           (None, 313, 32)              6176      ['concatenate[0][0]']         \n",
            "                                                                                                  \n",
            " conv1d_4 (Conv1D)           (None, 313, 32)              12320     ['concatenate[0][0]']         \n",
            "                                                                                                  \n",
            " conv1d_5 (Conv1D)           (None, 313, 32)              24608     ['concatenate[0][0]']         \n",
            "                                                                                                  \n",
            " concatenate_1 (Concatenate  (None, 313, 96)              0         ['conv1d_3[0][0]',            \n",
            " )                                                                   'conv1d_4[0][0]',            \n",
            "                                                                     'conv1d_5[0][0]']            \n",
            "                                                                                                  \n",
            " conv1d_6 (Conv1D)           (None, 157, 32)              6176      ['concatenate_1[0][0]']       \n",
            "                                                                                                  \n",
            " conv1d_7 (Conv1D)           (None, 157, 32)              12320     ['concatenate_1[0][0]']       \n",
            "                                                                                                  \n",
            " conv1d_8 (Conv1D)           (None, 157, 32)              24608     ['concatenate_1[0][0]']       \n",
            "                                                                                                  \n",
            " concatenate_2 (Concatenate  (None, 157, 96)              0         ['conv1d_6[0][0]',            \n",
            " )                                                                   'conv1d_7[0][0]',            \n",
            "                                                                     'conv1d_8[0][0]']            \n",
            "                                                                                                  \n",
            " gru (GRU)                   (None, 157, 32)              12480     ['concatenate_2[0][0]']       \n",
            "                                                                                                  \n",
            " gru_1 (GRU)                 (None, 157, 32)              6336      ['gru[0][0]']                 \n",
            "                                                                                                  \n",
            " concatenate_3 (Concatenate  (None, 157, 64)              0         ['gru[0][0]',                 \n",
            " )                                                                   'gru_1[0][0]']               \n",
            "                                                                                                  \n",
            " gru_2 (GRU)                 (None, 157, 32)              9408      ['concatenate_3[0][0]']       \n",
            "                                                                                                  \n",
            " concatenate_4 (Concatenate  (None, 157, 96)              0         ['gru[0][0]',                 \n",
            " )                                                                   'gru_1[0][0]',               \n",
            "                                                                     'gru_2[0][0]']               \n",
            "                                                                                                  \n",
            " gru_3 (GRU)                 (None, 32)                   12480     ['concatenate_4[0][0]']       \n",
            "                                                                                                  \n",
            " dense (Dense)               (None, 1)                    33        ['gru_3[0][0]']               \n",
            "                                                                                                  \n",
            "==================================================================================================\n",
            "Total params: 141825 (554.00 KB)\n",
            "Trainable params: 141825 (554.00 KB)\n",
            "Non-trainable params: 0 (0.00 Byte)\n",
            "__________________________________________________________________________________________________\n"
          ]
        }
      ]
    },
    {
      "cell_type": "code",
      "execution_count": null,
      "metadata": {
        "colab": {
          "base_uri": "https://localhost:8080/"
        },
        "id": "muxtU_LHU66K",
        "outputId": "12e00eba-d809-4d4e-a3dc-dc46f1b75eae"
      },
      "outputs": [
        {
          "output_type": "stream",
          "name": "stdout",
          "text": [
            "Epoch 1/50\n",
            "36/36 [==============================] - 25s 142ms/step - loss: 0.5959 - accuracy: 0.7301 - val_loss: 0.6344 - val_accuracy: 0.6855\n",
            "Epoch 2/50\n",
            "36/36 [==============================] - 2s 66ms/step - loss: 0.5840 - accuracy: 0.7318 - val_loss: 0.6310 - val_accuracy: 0.6855\n",
            "Epoch 3/50\n",
            "36/36 [==============================] - 2s 62ms/step - loss: 0.5799 - accuracy: 0.7318 - val_loss: 0.6279 - val_accuracy: 0.6855\n",
            "Epoch 4/50\n",
            "36/36 [==============================] - 2s 62ms/step - loss: 0.5745 - accuracy: 0.7318 - val_loss: 0.6175 - val_accuracy: 0.6855\n",
            "Epoch 5/50\n",
            "36/36 [==============================] - 2s 62ms/step - loss: 0.5664 - accuracy: 0.7320 - val_loss: 0.6032 - val_accuracy: 0.6862\n",
            "Epoch 6/50\n",
            "36/36 [==============================] - 2s 62ms/step - loss: 0.5542 - accuracy: 0.7333 - val_loss: 0.5843 - val_accuracy: 0.6913\n",
            "Epoch 7/50\n",
            "36/36 [==============================] - 2s 64ms/step - loss: 0.5318 - accuracy: 0.7390 - val_loss: 0.5769 - val_accuracy: 0.6941\n",
            "Epoch 8/50\n",
            "36/36 [==============================] - 2s 63ms/step - loss: 0.5020 - accuracy: 0.7574 - val_loss: 0.5238 - val_accuracy: 0.7411\n",
            "Epoch 9/50\n",
            "36/36 [==============================] - 2s 63ms/step - loss: 0.4588 - accuracy: 0.7834 - val_loss: 0.4664 - val_accuracy: 0.7968\n",
            "Epoch 10/50\n",
            "36/36 [==============================] - 2s 63ms/step - loss: 0.4011 - accuracy: 0.8268 - val_loss: 0.4798 - val_accuracy: 0.7766\n",
            "Epoch 11/50\n",
            "36/36 [==============================] - 2s 63ms/step - loss: 0.3421 - accuracy: 0.8572 - val_loss: 0.3503 - val_accuracy: 0.8677\n",
            "Epoch 12/50\n",
            "36/36 [==============================] - 2s 62ms/step - loss: 0.2885 - accuracy: 0.8818 - val_loss: 0.3039 - val_accuracy: 0.8959\n",
            "Epoch 13/50\n",
            "36/36 [==============================] - 2s 63ms/step - loss: 0.2434 - accuracy: 0.9059 - val_loss: 0.2978 - val_accuracy: 0.8995\n",
            "Epoch 14/50\n",
            "36/36 [==============================] - 2s 64ms/step - loss: 0.1965 - accuracy: 0.9264 - val_loss: 0.2340 - val_accuracy: 0.9270\n",
            "Epoch 15/50\n",
            "36/36 [==============================] - 2s 63ms/step - loss: 0.1461 - accuracy: 0.9514 - val_loss: 0.2133 - val_accuracy: 0.9429\n",
            "Epoch 16/50\n",
            "36/36 [==============================] - 2s 63ms/step - loss: 0.1239 - accuracy: 0.9581 - val_loss: 0.1880 - val_accuracy: 0.9508\n",
            "Epoch 17/50\n",
            "36/36 [==============================] - 2s 63ms/step - loss: 0.0939 - accuracy: 0.9689 - val_loss: 0.1920 - val_accuracy: 0.9573\n",
            "Epoch 18/50\n",
            "36/36 [==============================] - 2s 63ms/step - loss: 0.0715 - accuracy: 0.9784 - val_loss: 0.1754 - val_accuracy: 0.9624\n",
            "Epoch 19/50\n",
            "36/36 [==============================] - 2s 64ms/step - loss: 0.0452 - accuracy: 0.9890 - val_loss: 0.1771 - val_accuracy: 0.9646\n",
            "Epoch 20/50\n",
            "36/36 [==============================] - 2s 64ms/step - loss: 0.0297 - accuracy: 0.9947 - val_loss: 0.1987 - val_accuracy: 0.9610\n",
            "Epoch 21/50\n",
            "36/36 [==============================] - 2s 64ms/step - loss: 0.0375 - accuracy: 0.9875 - val_loss: 0.1605 - val_accuracy: 0.9689\n",
            "Epoch 22/50\n",
            "36/36 [==============================] - 2s 63ms/step - loss: 0.0181 - accuracy: 0.9981 - val_loss: 0.1878 - val_accuracy: 0.9653\n",
            "Epoch 23/50\n",
            "36/36 [==============================] - 2s 63ms/step - loss: 0.0122 - accuracy: 0.9994 - val_loss: 0.1801 - val_accuracy: 0.9667\n",
            "Epoch 24/50\n",
            "36/36 [==============================] - 2s 64ms/step - loss: 0.0098 - accuracy: 0.9994 - val_loss: 0.1909 - val_accuracy: 0.9646\n",
            "Epoch 25/50\n",
            "36/36 [==============================] - 2s 64ms/step - loss: 0.0073 - accuracy: 0.9996 - val_loss: 0.1857 - val_accuracy: 0.9682\n",
            "Epoch 26/50\n",
            "36/36 [==============================] - 2s 65ms/step - loss: 0.0062 - accuracy: 0.9998 - val_loss: 0.1867 - val_accuracy: 0.9689\n"
          ]
        }
      ],
      "source": [
        "# Define early stopping callback\n",
        "early_stopping = EarlyStopping(monitor='val_loss', patience=5, restore_best_weights=True)\n",
        "\n",
        "# Train the model using training features and labels\n",
        "hist = model.fit(train_features, train_labels, epochs=50, batch_size=132, validation_data=(val_features, val_labels), callbacks=early_stopping)\n",
        "\n"
      ]
    },
    {
      "cell_type": "markdown",
      "source": [
        "# Evaluate model performance"
      ],
      "metadata": {
        "id": "zDtpcbBay4d0"
      }
    },
    {
      "cell_type": "code",
      "source": [
        "# plot model accuracy and loss of training and validation\n",
        "\n",
        "import matplotlib.pyplot as plt\n",
        "plt.plot(hist.history['accuracy'])\n",
        "plt.plot(hist.history['val_accuracy'])\n",
        "plt.title('Model accuracy')\n",
        "plt.ylabel('Accuracy')\n",
        "plt.xlabel('Epoch')\n",
        "plt.legend(['Train', 'Validation'], loc='upper left')\n",
        "plt.show()\n",
        "\n",
        "plt.plot(hist.history['loss'])\n",
        "plt.plot(hist.history['val_loss'])\n",
        "plt.title('Model loss')\n",
        "plt.ylabel('Loss')\n",
        "plt.xlabel('Epoch')\n",
        "plt.legend(['Train', 'Validation'], loc='upper left')\n",
        "plt.show()\n"
      ],
      "metadata": {
        "colab": {
          "base_uri": "https://localhost:8080/",
          "height": 927
        },
        "id": "5j_ztBpfLFfw",
        "outputId": "052fb843-1fd1-4ba0-97b8-0df15807a71a"
      },
      "execution_count": null,
      "outputs": [
        {
          "output_type": "display_data",
          "data": {
            "text/plain": [
              "<Figure size 640x480 with 1 Axes>"
            ],
            "image/png": "[encoded data removed]"
          },
          "metadata": {}
        },
        {
          "output_type": "display_data",
          "data": {
            "text/plain": [
              "<Figure size 640x480 with 1 Axes>"
            ],
            "image/png": "[encoded data removed]"
          },
          "metadata": {}
        }
      ]
    },
    {
      "cell_type": "code",
      "source": [
        "from sklearn.metrics import confusion_matrix, ConfusionMatrixDisplay\n",
        "import numpy as np\n",
        "import matplotlib.pyplot as plt\n",
        "\n",
        "print(\"Average Confusion Matrix:\")\n",
        "\n",
        "y_pred = model.predict(test_features)\n",
        "y_pred = (y_pred > 0.5).astype(int)\n",
        "cm = confusion_matrix(test_labels, y_pred)\n",
        "\n",
        "# Print or use the results as needed\n",
        "# Calculate confusion matrix\n",
        "cm_display = ConfusionMatrixDisplay(confusion_matrix=cm, display_labels=[\"Negative\", \"Positive\"])\n",
        "\n",
        "# Plot confusion matrix\n",
        "plt.figure(figsize=(8, 6))\n",
        "cm_display.plot(cmap='Blues', values_format='.1f')\n",
        "plt.title('Confusion Matrix')\n",
        "plt.xlabel('Predicted Label')\n",
        "plt.ylabel('True Label')\n",
        "plt.show()"
      ],
      "metadata": {
        "colab": {
          "base_uri": "https://localhost:8080/",
          "height": 526
        },
        "id": "2qhe06z1SaZ9",
        "outputId": "58c8f150-ced2-43da-999f-00ab66e3abd8"
      },
      "execution_count": null,
      "outputs": [
        {
          "output_type": "stream",
          "name": "stdout",
          "text": [
            "Average Confusion Matrix:\n",
            "33/33 [==============================] - 3s 18ms/step\n"
          ]
        },
        {
          "output_type": "display_data",
          "data": {
            "text/plain": [
              "<Figure size 800x600 with 0 Axes>"
            ]
          },
          "metadata": {}
        },
        {
          "output_type": "display_data",
          "data": {
            "text/plain": [
              "<Figure size 640x480 with 2 Axes>"
            ],
            "image/png": "[encoded data removed]"
          },
          "metadata": {}
        }
      ]
    },
    {
      "cell_type": "code",
      "source": [
        "from sklearn.metrics import classification_report\n",
        "# Generate classification report\n",
        "report = classification_report(test_labels.ravel(), y_pred.ravel())\n",
        "\n",
        "# Print the report\n",
        "print(report)"
      ],
      "metadata": {
        "colab": {
          "base_uri": "https://localhost:8080/"
        },
        "id": "n5ymbgLhnSRi",
        "outputId": "80108421-6477-4075-edee-edc3eff1a081"
      },
      "execution_count": null,
      "outputs": [
        {
          "output_type": "stream",
          "name": "stdout",
          "text": [
            "              precision    recall  f1-score   support\n",
            "\n",
            "           0       0.91      0.82      0.86       894\n",
            "           1       0.32      0.53      0.40       145\n",
            "\n",
            "    accuracy                           0.78      1039\n",
            "   macro avg       0.62      0.67      0.63      1039\n",
            "weighted avg       0.83      0.78      0.80      1039\n",
            "\n"
          ]
        }
      ]
    },
    {
      "cell_type": "code",
      "source": [
        "import numpy as np\n",
        "from sklearn.metrics import precision_score, recall_score, confusion_matrix\n",
        "\n",
        "\n",
        "# Extract values from confusion matrix\n",
        "true_positives = cm[1, 1]\n",
        "false_positives = cm[0, 1]\n",
        "false_negatives = cm[1, 0]\n",
        "\n",
        "# Calculate precision, recall, and F1 score\n",
        "precision = true_positives / (true_positives + false_positives) if (true_positives + false_positives) != 0 else 0\n",
        "recall = true_positives / (true_positives + false_negatives) if (true_positives + false_negatives) != 0 else 0\n",
        "f1 = 2 * (precision * recall) / (precision + recall) if (precision + recall) != 0 else 0\n",
        "\n",
        "# Print the results\n",
        "print(f'Precision: {precision:.4f}')\n",
        "print(f'Recall: {recall:.4f}')\n",
        "print(f'F1 Score: {f1:.4f}')\n"
      ],
      "metadata": {
        "id": "jtk4pItUnxL2",
        "colab": {
          "base_uri": "https://localhost:8080/"
        },
        "outputId": "44438e30-cac6-4fb6-c402-fa3aadc02b06"
      },
      "execution_count": null,
      "outputs": [
        {
          "output_type": "stream",
          "name": "stdout",
          "text": [
            "Precision: 0.3208\n",
            "Recall: 0.5310\n",
            "F1 Score: 0.4000\n"
          ]
        }
      ]
    }
  ],
  "metadata": {
    "accelerator": "GPU",
    "colab": {
      "collapsed_sections": [
        "Co_7R6E6uVp2",
        "6GqhpJ5FueSI",
        "IWrMI_cryRRN",
        "zDtpcbBay4d0"
      ],
      "provenance": [],
      "machine_shape": "hm",
      "gpuType": "T4",
      "include_colab_link": true
    },
    "kernelspec": {
      "display_name": "Python 3",
      "name": "python3"
    },
    "language_info": {
      "name": "python"
    }
  },
  "nbformat": 4,
  "nbformat_minor": 0
}