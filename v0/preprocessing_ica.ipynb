{
  "nbformat": 4,
  "nbformat_minor": 0,
  "metadata": {
    "colab": {
      "provenance": [],
      "authorship_tag": "ABX9TyMMIdjOOIcDaaqU0fIKbhpz",
      "include_colab_link": true
    },
    "kernelspec": {
      "name": "python3",
      "display_name": "Python 3"
    },
    "language_info": {
      "name": "python"
    }
  },
  "cells": [
    {
      "cell_type": "markdown",
      "metadata": {
        "id": "view-in-github",
        "colab_type": "text"
      },
      "source": [
        "<a href=\"https://colab.research.google.com/github/maimonahST/GP/blob/main/preprocessing_ica.ipynb\" target=\"_parent\"><img src=\"https://colab.research.google.com/assets/colab-badge.svg\" alt=\"Open In Colab\"/></a>"
      ]
    },
    {
      "cell_type": "code",
      "execution_count": null,
      "metadata": {
        "id": "h2ZSlaYK8Y9o"
      },
      "outputs": [],
      "source": [
        "! pip install mne"
      ]
    },
    {
      "cell_type": "code",
      "source": [
        "from glob import glob\n",
        "import mne\n",
        "import numpy as np\n",
        "from scipy import stats\n",
        "from tqdm import tqdm\n",
        "from sklearn.preprocessing import StandardScaler\n",
        "\n",
        "\n",
        "def read_data(file_path):\n",
        "    raw = mne.io.read_raw_bdf(file_path, preload=True)\n",
        "\n",
        "    # Apply ICA to remove artifacts\n",
        "    ica = mne.preprocessing.ICA(n_components=32, random_state=42)\n",
        "    raw.resample(250)\n",
        "    raw.filter(5, 25)\n",
        "    ica.fit(raw)\n",
        "    # cleaned_data = ica.apply(raw)\n",
        "\n",
        "    # # Create epochs from the cleaned data\n",
        "    # events = mne.make_fixed_length_events(cleaned_data, duration=5)\n",
        "    # epochs = mne.Epochs(cleaned_data, events, tmin=0, tmax=5, baseline=None, detrend=1, preload=True)\n",
        "\n",
        "    # Extract features (you may need to customize this step based on your specific needs)\n",
        "    features = ica.get_components()\n",
        "\n",
        "    return features\n",
        "\n",
        "def process_data(filepaths, label):\n",
        "    epochs_array = []\n",
        "    epochs_label = []\n",
        "\n",
        "\n",
        "    for file_path in tqdm(filepaths, desc=f\"Processing {label} data\"):\n",
        "\n",
        "        array = read_data(file_path)\n",
        "        epochs_array.append(array)\n",
        "        epochs_label.append(label*len(array))\n",
        "        # epochs_group.extend([c] * len(array))\n",
        "\n",
        "\n",
        "    return epochs_array, epochs_label\n",
        "\n",
        "# Filepaths\n",
        "haemorrhage_filepaths = glob('/content/drive/MyDrive/GP/GP-Data/Haemorrhage/*.bdf')\n",
        "ischaemia_filepaths = glob('/content/drive/MyDrive/GP/GP-Data/Ischaemia/*.bdf')\n",
        "subject_filepaths = glob('/content/drive/MyDrive/GP/GP-Data/Subjects/*.bdf')\n",
        "\n",
        "# Process data in chunks\n",
        "chunk_size = 1\n",
        "\n",
        "# data_list = []\n",
        "# label_list = []\n",
        "groups_list = []\n",
        "\n",
        "count = 0\n",
        "\n",
        "\n",
        "haemorrhage_epochs_array = []\n",
        "haemorrhage_epochs_label = []\n",
        "for i in range(0, len(haemorrhage_filepaths), chunk_size):\n",
        "    chunk_filepaths = haemorrhage_filepaths[i:i + chunk_size]\n",
        "    chunk_array, chunk_label = process_data(chunk_filepaths, label=0)\n",
        "    haemorrhage_epochs_array.extend(chunk_array)\n",
        "    haemorrhage_epochs_label.extend(chunk_label)\n",
        "    # groups_list.extend(chunk_group)\n",
        "    # count += 1\n",
        "\n",
        "    # if count > 2:\n",
        "    #   break\n",
        "\n",
        "ischaemia_epochs_array = []\n",
        "ischaemia_epochs_label = []\n",
        "for i in range(0, len(ischaemia_filepaths), chunk_size):\n",
        "    chunk_filepaths = ischaemia_filepaths[i:i + chunk_size]\n",
        "    chunk_array, chunk_label = process_data(chunk_filepaths, label=1)\n",
        "    ischaemia_epochs_array.extend(chunk_array)\n",
        "    ischaemia_epochs_label.extend(chunk_label)\n",
        "    # groups_list.extend(chunk_group)\n",
        "    # count += 1\n",
        "\n",
        "subject_epochs_array = []\n",
        "subject_epochs_label = []\n",
        "for i in range(0, len(subject_filepaths), chunk_size):\n",
        "    chunk_filepaths = subject_filepaths[i:i + chunk_size]\n",
        "    chunk_array, chunk_label = process_data(chunk_filepaths, label=2)\n",
        "    subject_epochs_array.extend(chunk_array)\n",
        "    subject_epochs_label.extend(chunk_label)\n",
        "    # groups_list.extend(chunk_group)\n",
        "    # count += 1\n",
        "\n"
      ],
      "metadata": {
        "colab": {
          "base_uri": "https://localhost:8080/"
        },
        "id": "bhlLeKFereYX",
        "outputId": "fef745f8-5482-493f-a19f-7afff5f5be34"
      },
      "execution_count": null,
      "outputs": [
        {
          "output_type": "stream",
          "name": "stderr",
          "text": [
            "\rProcessing 0 data:   0%|          | 0/1 [00:00<?, ?it/s]"
          ]
        },
        {
          "output_type": "stream",
          "name": "stdout",
          "text": [
            "Extracting EDF parameters from /content/drive/MyDrive/GP/GP-Data/Haemorrhage/P2_TD1.bdf...\n",
            "BDF file detected\n",
            "Setting channel info structure...\n",
            "Creating raw.info structure...\n",
            "Reading 0 ... 12238847  =      0.000 ...   747.000 secs...\n",
            "Trigger channel Status has a non-zero initial value of {initial_value} (consider using initial_event=True to detect this event)\n",
            "22491 events found on stim channel Status\n",
            "Event IDs: [65284 65288 65296 65297 65301 65304 65305 65309 65311 65312 65313 65328\n",
            " 65329 65336]\n"
          ]
        },
        {
          "output_type": "stream",
          "name": "stderr",
          "text": [
            "<ipython-input-25-ceac70ad00ab>:16: RuntimeWarning: Fiducial point nasion not found, assuming identity unknown to head transformation\n",
            "  raw.set_montage(custom_montage)\n"
          ]
        },
        {
          "output_type": "stream",
          "name": "stdout",
          "text": [
            "Trigger channel Status has a non-zero initial value of {initial_value} (consider using initial_event=True to detect this event)\n",
            "2889 events found on stim channel Status\n",
            "Event IDs: [65296 65297 65305 65312 65313 65328 65329]\n",
            "Not setting metadata\n",
            "152 matching events found\n",
            "No baseline correction applied\n",
            "0 projection items activated\n",
            "Using data from preloaded Raw for 152 events and 1251 original time points ...\n",
            "0 bad epochs dropped\n",
            "Fitting ICA to data using 32 channels (please be patient, this may take a while)\n"
          ]
        },
        {
          "output_type": "stream",
          "name": "stderr",
          "text": [
            "<ipython-input-25-ceac70ad00ab>:29: RuntimeWarning: The data has not been high-pass filtered. For good ICA performance, it should be high-pass filtered (e.g., with a 1.0 Hz lower bound) before fitting ICA.\n",
            "  ica.fit(epochs)\n"
          ]
        },
        {
          "output_type": "stream",
          "name": "stdout",
          "text": [
            "Selecting by number: 32 components\n",
            "Fitting ICA took 23.2s.\n",
            "Applying ICA to Epochs instance\n",
            "    Transforming to ICA space (32 components)\n",
            "    Zeroing out 0 ICA components\n",
            "    Projecting back using 32 PCA components\n"
          ]
        },
        {
          "output_type": "stream",
          "name": "stderr",
          "text": [
            "<ipython-input-25-ceac70ad00ab>:30: FutureWarning: The current default of copy=False will change to copy=True in 1.7. Set the value of copy explicitly to avoid this warning\n",
            "  features = ica.apply(epochs.copy()).get_data()\n",
            "Processing 0 data: 100%|██████████| 1/1 [01:07<00:00, 67.92s/it]\n",
            "Processing 0 data:   0%|          | 0/1 [00:00<?, ?it/s]"
          ]
        },
        {
          "output_type": "stream",
          "name": "stdout",
          "text": [
            "Extracting EDF parameters from /content/drive/MyDrive/GP/GP-Data/Haemorrhage/P3_TD1.bdf...\n",
            "BDF file detected\n",
            "Setting channel info structure...\n",
            "Creating raw.info structure...\n",
            "Reading 0 ... 11649023  =      0.000 ...   711.000 secs...\n",
            "Trigger channel Status has a non-zero initial value of {initial_value} (consider using initial_event=True to detect this event)\n",
            "22496 events found on stim channel Status\n",
            "Event IDs: [65281 65284 65296 65297 65301 65304 65305 65309 65311]\n"
          ]
        },
        {
          "output_type": "stream",
          "name": "stderr",
          "text": [
            "<ipython-input-25-ceac70ad00ab>:16: RuntimeWarning: Fiducial point nasion not found, assuming identity unknown to head transformation\n",
            "  raw.set_montage(custom_montage)\n"
          ]
        },
        {
          "output_type": "stream",
          "name": "stdout",
          "text": [
            "Trigger channel Status has a non-zero initial value of {initial_value} (consider using initial_event=True to detect this event)\n",
            "2826 events found on stim channel Status\n",
            "Event IDs: [65281 65296 65297]\n",
            "Not setting metadata\n",
            "145 matching events found\n",
            "No baseline correction applied\n",
            "0 projection items activated\n",
            "Using data from preloaded Raw for 145 events and 1251 original time points ...\n",
            "0 bad epochs dropped\n",
            "Fitting ICA to data using 32 channels (please be patient, this may take a while)\n"
          ]
        },
        {
          "output_type": "stream",
          "name": "stderr",
          "text": [
            "<ipython-input-25-ceac70ad00ab>:29: RuntimeWarning: The data has not been high-pass filtered. For good ICA performance, it should be high-pass filtered (e.g., with a 1.0 Hz lower bound) before fitting ICA.\n",
            "  ica.fit(epochs)\n"
          ]
        },
        {
          "output_type": "stream",
          "name": "stdout",
          "text": [
            "Selecting by number: 32 components\n",
            "Fitting ICA took 31.0s.\n",
            "Applying ICA to Epochs instance\n",
            "    Transforming to ICA space (32 components)\n",
            "    Zeroing out 0 ICA components\n",
            "    Projecting back using 32 PCA components\n"
          ]
        },
        {
          "output_type": "stream",
          "name": "stderr",
          "text": [
            "<ipython-input-25-ceac70ad00ab>:30: FutureWarning: The current default of copy=False will change to copy=True in 1.7. Set the value of copy explicitly to avoid this warning\n",
            "  features = ica.apply(epochs.copy()).get_data()\n",
            "Processing 0 data: 100%|██████████| 1/1 [01:13<00:00, 73.34s/it]\n",
            "Processing 0 data:   0%|          | 0/1 [00:00<?, ?it/s]"
          ]
        },
        {
          "output_type": "stream",
          "name": "stdout",
          "text": [
            "Extracting EDF parameters from /content/drive/MyDrive/GP/GP-Data/Haemorrhage/P5_TD1.bdf...\n",
            "BDF file detected\n",
            "Setting channel info structure...\n",
            "Creating raw.info structure...\n",
            "Reading 0 ... 12058623  =      0.000 ...   736.000 secs...\n",
            "Trigger channel Status has a non-zero initial value of {initial_value} (consider using initial_event=True to detect this event)\n",
            "22486 events found on stim channel Status\n",
            "Event IDs: [65281 65284 65294 65296 65297 65301 65304 65305 65309 65311]\n"
          ]
        },
        {
          "output_type": "stream",
          "name": "stderr",
          "text": [
            "<ipython-input-25-ceac70ad00ab>:16: RuntimeWarning: Fiducial point nasion not found, assuming identity unknown to head transformation\n",
            "  raw.set_montage(custom_montage)\n"
          ]
        },
        {
          "output_type": "stream",
          "name": "stdout",
          "text": [
            "Trigger channel Status has a non-zero initial value of {initial_value} (consider using initial_event=True to detect this event)\n",
            "2902 events found on stim channel Status\n",
            "Event IDs: [65281 65296 65297 65311]\n",
            "Not setting metadata\n",
            "150 matching events found\n",
            "No baseline correction applied\n",
            "0 projection items activated\n",
            "Using data from preloaded Raw for 150 events and 1251 original time points ...\n",
            "0 bad epochs dropped\n",
            "Fitting ICA to data using 32 channels (please be patient, this may take a while)\n"
          ]
        },
        {
          "output_type": "stream",
          "name": "stderr",
          "text": [
            "<ipython-input-25-ceac70ad00ab>:29: RuntimeWarning: The data has not been high-pass filtered. For good ICA performance, it should be high-pass filtered (e.g., with a 1.0 Hz lower bound) before fitting ICA.\n",
            "  ica.fit(epochs)\n"
          ]
        },
        {
          "output_type": "stream",
          "name": "stdout",
          "text": [
            "Selecting by number: 32 components\n",
            "Fitting ICA took 26.0s.\n",
            "Applying ICA to Epochs instance\n",
            "    Transforming to ICA space (32 components)\n",
            "    Zeroing out 0 ICA components\n",
            "    Projecting back using 32 PCA components\n"
          ]
        },
        {
          "output_type": "stream",
          "name": "stderr",
          "text": [
            "<ipython-input-25-ceac70ad00ab>:30: FutureWarning: The current default of copy=False will change to copy=True in 1.7. Set the value of copy explicitly to avoid this warning\n",
            "  features = ica.apply(epochs.copy()).get_data()\n",
            "Processing 0 data: 100%|██████████| 1/1 [01:30<00:00, 90.55s/it]\n",
            "Processing 0 data:   0%|          | 0/1 [00:00<?, ?it/s]"
          ]
        },
        {
          "output_type": "stream",
          "name": "stdout",
          "text": [
            "Extracting EDF parameters from /content/drive/MyDrive/GP/GP-Data/Haemorrhage/P10_TD1.bdf...\n",
            "BDF file detected\n",
            "Setting channel info structure...\n",
            "Creating raw.info structure...\n",
            "Reading 0 ... 11730943  =      0.000 ...   716.000 secs...\n",
            "Trigger channel Status has a non-zero initial value of {initial_value} (consider using initial_event=True to detect this event)\n",
            "22474 events found on stim channel Status\n",
            "Event IDs: [65281 65284 65286 65296 65297 65301 65304 65305 65309 65311]\n"
          ]
        },
        {
          "output_type": "stream",
          "name": "stderr",
          "text": [
            "<ipython-input-25-ceac70ad00ab>:16: RuntimeWarning: Fiducial point nasion not found, assuming identity unknown to head transformation\n",
            "  raw.set_montage(custom_montage)\n"
          ]
        },
        {
          "output_type": "stream",
          "name": "stdout",
          "text": [
            "Trigger channel Status has a non-zero initial value of {initial_value} (consider using initial_event=True to detect this event)\n",
            "2752 events found on stim channel Status\n",
            "Event IDs: [65281 65296 65297]\n",
            "Not setting metadata\n",
            "146 matching events found\n",
            "No baseline correction applied\n",
            "0 projection items activated\n",
            "Using data from preloaded Raw for 146 events and 1251 original time points ...\n",
            "0 bad epochs dropped\n",
            "Fitting ICA to data using 32 channels (please be patient, this may take a while)\n"
          ]
        },
        {
          "output_type": "stream",
          "name": "stderr",
          "text": [
            "<ipython-input-25-ceac70ad00ab>:29: RuntimeWarning: The data has not been high-pass filtered. For good ICA performance, it should be high-pass filtered (e.g., with a 1.0 Hz lower bound) before fitting ICA.\n",
            "  ica.fit(epochs)\n"
          ]
        },
        {
          "output_type": "stream",
          "name": "stdout",
          "text": [
            "Selecting by number: 32 components\n",
            "Fitting ICA took 20.8s.\n",
            "Applying ICA to Epochs instance\n",
            "    Transforming to ICA space (32 components)\n",
            "    Zeroing out 0 ICA components\n",
            "    Projecting back using 32 PCA components\n"
          ]
        },
        {
          "output_type": "stream",
          "name": "stderr",
          "text": [
            "<ipython-input-25-ceac70ad00ab>:30: FutureWarning: The current default of copy=False will change to copy=True in 1.7. Set the value of copy explicitly to avoid this warning\n",
            "  features = ica.apply(epochs.copy()).get_data()\n",
            "Processing 0 data: 100%|██████████| 1/1 [01:08<00:00, 68.28s/it]\n",
            "Processing 0 data:   0%|          | 0/1 [00:00<?, ?it/s]"
          ]
        },
        {
          "output_type": "stream",
          "name": "stdout",
          "text": [
            "Extracting EDF parameters from /content/drive/MyDrive/GP/GP-Data/Haemorrhage/P11_TD1.bdf...\n",
            "BDF file detected\n",
            "Setting channel info structure...\n",
            "Creating raw.info structure...\n",
            "Reading 0 ... 11632639  =      0.000 ...   710.000 secs...\n",
            "Trigger channel Status has a non-zero initial value of {initial_value} (consider using initial_event=True to detect this event)\n",
            "22482 events found on stim channel Status\n",
            "Event IDs: [65281 65284 65296 65297 65301 65304 65305 65309 65311]\n"
          ]
        },
        {
          "output_type": "stream",
          "name": "stderr",
          "text": [
            "<ipython-input-25-ceac70ad00ab>:16: RuntimeWarning: Fiducial point nasion not found, assuming identity unknown to head transformation\n",
            "  raw.set_montage(custom_montage)\n"
          ]
        },
        {
          "output_type": "stream",
          "name": "stdout",
          "text": [
            "Trigger channel Status has a non-zero initial value of {initial_value} (consider using initial_event=True to detect this event)\n",
            "2845 events found on stim channel Status\n",
            "Event IDs: [65281 65296 65297]\n",
            "Not setting metadata\n",
            "144 matching events found\n",
            "No baseline correction applied\n",
            "0 projection items activated\n",
            "Using data from preloaded Raw for 144 events and 1251 original time points ...\n",
            "0 bad epochs dropped\n",
            "Fitting ICA to data using 32 channels (please be patient, this may take a while)\n"
          ]
        },
        {
          "output_type": "stream",
          "name": "stderr",
          "text": [
            "<ipython-input-25-ceac70ad00ab>:29: RuntimeWarning: The data has not been high-pass filtered. For good ICA performance, it should be high-pass filtered (e.g., with a 1.0 Hz lower bound) before fitting ICA.\n",
            "  ica.fit(epochs)\n"
          ]
        },
        {
          "output_type": "stream",
          "name": "stdout",
          "text": [
            "Selecting by number: 32 components\n",
            "Fitting ICA took 17.5s.\n",
            "Applying ICA to Epochs instance\n",
            "    Transforming to ICA space (32 components)\n",
            "    Zeroing out 0 ICA components\n",
            "    Projecting back using 32 PCA components\n"
          ]
        },
        {
          "output_type": "stream",
          "name": "stderr",
          "text": [
            "<ipython-input-25-ceac70ad00ab>:30: FutureWarning: The current default of copy=False will change to copy=True in 1.7. Set the value of copy explicitly to avoid this warning\n",
            "  features = ica.apply(epochs.copy()).get_data()\n",
            "Processing 0 data: 100%|██████████| 1/1 [01:02<00:00, 62.76s/it]\n",
            "Processing 0 data:   0%|          | 0/1 [00:00<?, ?it/s]"
          ]
        },
        {
          "output_type": "stream",
          "name": "stdout",
          "text": [
            "Extracting EDF parameters from /content/drive/MyDrive/GP/GP-Data/Haemorrhage/P14_TD1.bdf...\n",
            "BDF file detected\n",
            "Setting channel info structure...\n",
            "Creating raw.info structure...\n",
            "Reading 0 ... 11649023  =      0.000 ...   711.000 secs...\n",
            "Trigger channel Status has a non-zero initial value of {initial_value} (consider using initial_event=True to detect this event)\n",
            "22483 events found on stim channel Status\n",
            "Event IDs: [65281 65284 65296 65297 65301 65304 65305 65309 65311 65312 65313 65328\n",
            " 65329]\n"
          ]
        },
        {
          "output_type": "stream",
          "name": "stderr",
          "text": [
            "<ipython-input-25-ceac70ad00ab>:16: RuntimeWarning: Fiducial point nasion not found, assuming identity unknown to head transformation\n",
            "  raw.set_montage(custom_montage)\n"
          ]
        },
        {
          "output_type": "stream",
          "name": "stdout",
          "text": [
            "Trigger channel Status has a non-zero initial value of {initial_value} (consider using initial_event=True to detect this event)\n",
            "2787 events found on stim channel Status\n",
            "Event IDs: [65281 65296 65297 65312 65313 65328 65329]\n",
            "Not setting metadata\n",
            "145 matching events found\n",
            "No baseline correction applied\n",
            "0 projection items activated\n",
            "Using data from preloaded Raw for 145 events and 1251 original time points ...\n",
            "0 bad epochs dropped\n",
            "Fitting ICA to data using 32 channels (please be patient, this may take a while)\n"
          ]
        },
        {
          "output_type": "stream",
          "name": "stderr",
          "text": [
            "<ipython-input-25-ceac70ad00ab>:29: RuntimeWarning: The data has not been high-pass filtered. For good ICA performance, it should be high-pass filtered (e.g., with a 1.0 Hz lower bound) before fitting ICA.\n",
            "  ica.fit(epochs)\n"
          ]
        },
        {
          "output_type": "stream",
          "name": "stdout",
          "text": [
            "Selecting by number: 32 components\n",
            "Fitting ICA took 16.8s.\n",
            "Applying ICA to Epochs instance\n",
            "    Transforming to ICA space (32 components)\n",
            "    Zeroing out 0 ICA components\n",
            "    Projecting back using 32 PCA components\n"
          ]
        },
        {
          "output_type": "stream",
          "name": "stderr",
          "text": [
            "<ipython-input-25-ceac70ad00ab>:30: FutureWarning: The current default of copy=False will change to copy=True in 1.7. Set the value of copy explicitly to avoid this warning\n",
            "  features = ica.apply(epochs.copy()).get_data()\n",
            "Processing 0 data: 100%|██████████| 1/1 [01:00<00:00, 60.85s/it]\n",
            "Processing 0 data:   0%|          | 0/1 [00:00<?, ?it/s]"
          ]
        },
        {
          "output_type": "stream",
          "name": "stdout",
          "text": [
            "Extracting EDF parameters from /content/drive/MyDrive/GP/GP-Data/Haemorrhage/P6b_TD2.bdf...\n",
            "BDF file detected\n",
            "Setting channel info structure...\n",
            "Creating raw.info structure...\n",
            "Reading 0 ... 11698175  =      0.000 ...   714.000 secs...\n",
            "Trigger channel Status has a non-zero initial value of {initial_value} (consider using initial_event=True to detect this event)\n",
            "22484 events found on stim channel Status\n",
            "Event IDs: [65281 65284 65296 65297 65301 65304 65305 65309 65311]\n"
          ]
        },
        {
          "output_type": "stream",
          "name": "stderr",
          "text": [
            "<ipython-input-25-ceac70ad00ab>:16: RuntimeWarning: Fiducial point nasion not found, assuming identity unknown to head transformation\n",
            "  raw.set_montage(custom_montage)\n"
          ]
        },
        {
          "output_type": "stream",
          "name": "stdout",
          "text": [
            "Trigger channel Status has a non-zero initial value of {initial_value} (consider using initial_event=True to detect this event)\n",
            "2903 events found on stim channel Status\n",
            "Event IDs: [65281 65296 65297 65311]\n",
            "Not setting metadata\n",
            "145 matching events found\n",
            "No baseline correction applied\n",
            "0 projection items activated\n",
            "Using data from preloaded Raw for 145 events and 1251 original time points ...\n",
            "0 bad epochs dropped\n",
            "Fitting ICA to data using 32 channels (please be patient, this may take a while)\n"
          ]
        },
        {
          "output_type": "stream",
          "name": "stderr",
          "text": [
            "<ipython-input-25-ceac70ad00ab>:29: RuntimeWarning: The data has not been high-pass filtered. For good ICA performance, it should be high-pass filtered (e.g., with a 1.0 Hz lower bound) before fitting ICA.\n",
            "  ica.fit(epochs)\n"
          ]
        },
        {
          "output_type": "stream",
          "name": "stdout",
          "text": [
            "Selecting by number: 32 components\n",
            "Fitting ICA took 26.9s.\n",
            "Applying ICA to Epochs instance\n",
            "    Transforming to ICA space (32 components)\n",
            "    Zeroing out 0 ICA components\n",
            "    Projecting back using 32 PCA components\n"
          ]
        },
        {
          "output_type": "stream",
          "name": "stderr",
          "text": [
            "<ipython-input-25-ceac70ad00ab>:30: FutureWarning: The current default of copy=False will change to copy=True in 1.7. Set the value of copy explicitly to avoid this warning\n",
            "  features = ica.apply(epochs.copy()).get_data()\n",
            "Processing 0 data: 100%|██████████| 1/1 [01:11<00:00, 71.57s/it]\n",
            "Processing 0 data:   0%|          | 0/1 [00:00<?, ?it/s]"
          ]
        },
        {
          "output_type": "stream",
          "name": "stdout",
          "text": [
            "Extracting EDF parameters from /content/drive/MyDrive/GP/GP-Data/Haemorrhage/P17_TD1.bdf...\n",
            "BDF file detected\n",
            "Setting channel info structure...\n",
            "Creating raw.info structure...\n",
            "Reading 0 ... 12189695  =      0.000 ...   744.000 secs...\n",
            "Trigger channel Status has a non-zero initial value of {initial_value} (consider using initial_event=True to detect this event)\n",
            "22483 events found on stim channel Status\n",
            "Event IDs: [65281 65282 65284 65296 65297 65301 65304 65305 65309 65311]\n"
          ]
        },
        {
          "output_type": "stream",
          "name": "stderr",
          "text": [
            "<ipython-input-25-ceac70ad00ab>:16: RuntimeWarning: Fiducial point nasion not found, assuming identity unknown to head transformation\n",
            "  raw.set_montage(custom_montage)\n"
          ]
        },
        {
          "output_type": "stream",
          "name": "stdout",
          "text": [
            "Trigger channel Status has a non-zero initial value of {initial_value} (consider using initial_event=True to detect this event)\n",
            "2799 events found on stim channel Status\n",
            "Event IDs: [65281 65296 65297 65301]\n",
            "Not setting metadata\n",
            "151 matching events found\n",
            "No baseline correction applied\n",
            "0 projection items activated\n",
            "Using data from preloaded Raw for 151 events and 1251 original time points ...\n",
            "0 bad epochs dropped\n",
            "Fitting ICA to data using 32 channels (please be patient, this may take a while)\n"
          ]
        },
        {
          "output_type": "stream",
          "name": "stderr",
          "text": [
            "<ipython-input-25-ceac70ad00ab>:29: RuntimeWarning: The data has not been high-pass filtered. For good ICA performance, it should be high-pass filtered (e.g., with a 1.0 Hz lower bound) before fitting ICA.\n",
            "  ica.fit(epochs)\n"
          ]
        },
        {
          "output_type": "stream",
          "name": "stdout",
          "text": [
            "Selecting by number: 32 components\n",
            "Fitting ICA took 28.3s.\n",
            "Applying ICA to Epochs instance\n",
            "    Transforming to ICA space (32 components)\n",
            "    Zeroing out 0 ICA components\n",
            "    Projecting back using 32 PCA components\n"
          ]
        },
        {
          "output_type": "stream",
          "name": "stderr",
          "text": [
            "<ipython-input-25-ceac70ad00ab>:30: FutureWarning: The current default of copy=False will change to copy=True in 1.7. Set the value of copy explicitly to avoid this warning\n",
            "  features = ica.apply(epochs.copy()).get_data()\n",
            "Processing 0 data: 100%|██████████| 1/1 [01:15<00:00, 75.42s/it]\n",
            "Processing 0 data:   0%|          | 0/1 [00:00<?, ?it/s]"
          ]
        },
        {
          "output_type": "stream",
          "name": "stdout",
          "text": [
            "Extracting EDF parameters from /content/drive/MyDrive/GP/GP-Data/Haemorrhage/P20_TD1.bdf...\n",
            "BDF file detected\n",
            "Setting channel info structure...\n",
            "Creating raw.info structure...\n",
            "Reading 0 ... 11616255  =      0.000 ...   709.000 secs...\n",
            "Trigger channel Status has a non-zero initial value of {initial_value} (consider using initial_event=True to detect this event)\n",
            "22481 events found on stim channel Status\n",
            "Event IDs: [65281 65284 65296 65297 65301 65304 65305 65309 65311]\n"
          ]
        },
        {
          "output_type": "stream",
          "name": "stderr",
          "text": [
            "<ipython-input-25-ceac70ad00ab>:16: RuntimeWarning: Fiducial point nasion not found, assuming identity unknown to head transformation\n",
            "  raw.set_montage(custom_montage)\n"
          ]
        },
        {
          "output_type": "stream",
          "name": "stdout",
          "text": [
            "Trigger channel Status has a non-zero initial value of {initial_value} (consider using initial_event=True to detect this event)\n",
            "2862 events found on stim channel Status\n",
            "Event IDs: [65281 65296 65297 65309]\n",
            "Not setting metadata\n",
            "144 matching events found\n",
            "No baseline correction applied\n",
            "0 projection items activated\n",
            "Using data from preloaded Raw for 144 events and 1251 original time points ...\n",
            "0 bad epochs dropped\n",
            "Fitting ICA to data using 32 channels (please be patient, this may take a while)\n"
          ]
        },
        {
          "output_type": "stream",
          "name": "stderr",
          "text": [
            "<ipython-input-25-ceac70ad00ab>:29: RuntimeWarning: The data has not been high-pass filtered. For good ICA performance, it should be high-pass filtered (e.g., with a 1.0 Hz lower bound) before fitting ICA.\n",
            "  ica.fit(epochs)\n"
          ]
        },
        {
          "output_type": "stream",
          "name": "stdout",
          "text": [
            "Selecting by number: 32 components\n",
            "Fitting ICA took 28.7s.\n",
            "Applying ICA to Epochs instance\n",
            "    Transforming to ICA space (32 components)\n",
            "    Zeroing out 0 ICA components\n",
            "    Projecting back using 32 PCA components\n"
          ]
        },
        {
          "output_type": "stream",
          "name": "stderr",
          "text": [
            "<ipython-input-25-ceac70ad00ab>:30: FutureWarning: The current default of copy=False will change to copy=True in 1.7. Set the value of copy explicitly to avoid this warning\n",
            "  features = ica.apply(epochs.copy()).get_data()\n",
            "Processing 0 data: 100%|██████████| 1/1 [01:11<00:00, 71.29s/it]\n",
            "Processing 0 data:   0%|          | 0/1 [00:00<?, ?it/s]"
          ]
        },
        {
          "output_type": "stream",
          "name": "stdout",
          "text": [
            "Extracting EDF parameters from /content/drive/MyDrive/GP/GP-Data/Haemorrhage/P23a_TD1.bdf...\n",
            "BDF file detected\n",
            "Setting channel info structure...\n",
            "Creating raw.info structure...\n",
            "Reading 0 ... 11681791  =      0.000 ...   713.000 secs...\n",
            "Trigger channel Status has a non-zero initial value of {initial_value} (consider using initial_event=True to detect this event)\n",
            "22490 events found on stim channel Status\n",
            "Event IDs: [65281 65284 65296 65297 65301 65304 65305 65309 65311]\n"
          ]
        },
        {
          "output_type": "stream",
          "name": "stderr",
          "text": [
            "<ipython-input-25-ceac70ad00ab>:16: RuntimeWarning: Fiducial point nasion not found, assuming identity unknown to head transformation\n",
            "  raw.set_montage(custom_montage)\n"
          ]
        },
        {
          "output_type": "stream",
          "name": "stdout",
          "text": [
            "Trigger channel Status has a non-zero initial value of {initial_value} (consider using initial_event=True to detect this event)\n",
            "2821 events found on stim channel Status\n",
            "Event IDs: [65281 65296 65297 65304 65311]\n",
            "Not setting metadata\n",
            "145 matching events found\n",
            "No baseline correction applied\n",
            "0 projection items activated\n",
            "Using data from preloaded Raw for 145 events and 1251 original time points ...\n",
            "0 bad epochs dropped\n",
            "Fitting ICA to data using 32 channels (please be patient, this may take a while)\n"
          ]
        },
        {
          "output_type": "stream",
          "name": "stderr",
          "text": [
            "<ipython-input-25-ceac70ad00ab>:29: RuntimeWarning: The data has not been high-pass filtered. For good ICA performance, it should be high-pass filtered (e.g., with a 1.0 Hz lower bound) before fitting ICA.\n",
            "  ica.fit(epochs)\n"
          ]
        },
        {
          "output_type": "stream",
          "name": "stdout",
          "text": [
            "Selecting by number: 32 components\n",
            "Fitting ICA took 26.3s.\n",
            "Applying ICA to Epochs instance\n",
            "    Transforming to ICA space (32 components)\n",
            "    Zeroing out 0 ICA components\n",
            "    Projecting back using 32 PCA components\n"
          ]
        },
        {
          "output_type": "stream",
          "name": "stderr",
          "text": [
            "<ipython-input-25-ceac70ad00ab>:30: FutureWarning: The current default of copy=False will change to copy=True in 1.7. Set the value of copy explicitly to avoid this warning\n",
            "  features = ica.apply(epochs.copy()).get_data()\n",
            "Processing 0 data: 100%|██████████| 1/1 [01:08<00:00, 68.93s/it]\n",
            "Processing 0 data:   0%|          | 0/1 [00:00<?, ?it/s]"
          ]
        },
        {
          "output_type": "stream",
          "name": "stdout",
          "text": [
            "Extracting EDF parameters from /content/drive/MyDrive/GP/GP-Data/Haemorrhage/P24_TD1.bdf...\n",
            "BDF file detected\n",
            "Setting channel info structure...\n",
            "Creating raw.info structure...\n",
            "Reading 0 ... 11812863  =      0.000 ...   721.000 secs...\n",
            "Trigger channel Status has a non-zero initial value of {initial_value} (consider using initial_event=True to detect this event)\n",
            "22475 events found on stim channel Status\n",
            "Event IDs: [65281 65284 65296 65297 65301 65304 65305 65309 65311]\n"
          ]
        },
        {
          "output_type": "stream",
          "name": "stderr",
          "text": [
            "<ipython-input-25-ceac70ad00ab>:16: RuntimeWarning: Fiducial point nasion not found, assuming identity unknown to head transformation\n",
            "  raw.set_montage(custom_montage)\n"
          ]
        },
        {
          "output_type": "stream",
          "name": "stdout",
          "text": [
            "Trigger channel Status has a non-zero initial value of {initial_value} (consider using initial_event=True to detect this event)\n",
            "2886 events found on stim channel Status\n",
            "Event IDs: [65281 65296 65297 65309]\n",
            "Not setting metadata\n",
            "147 matching events found\n",
            "No baseline correction applied\n",
            "0 projection items activated\n",
            "Using data from preloaded Raw for 147 events and 1251 original time points ...\n",
            "0 bad epochs dropped\n",
            "Fitting ICA to data using 32 channels (please be patient, this may take a while)\n"
          ]
        },
        {
          "output_type": "stream",
          "name": "stderr",
          "text": [
            "<ipython-input-25-ceac70ad00ab>:29: RuntimeWarning: The data has not been high-pass filtered. For good ICA performance, it should be high-pass filtered (e.g., with a 1.0 Hz lower bound) before fitting ICA.\n",
            "  ica.fit(epochs)\n"
          ]
        },
        {
          "output_type": "stream",
          "name": "stdout",
          "text": [
            "Selecting by number: 32 components\n",
            "Fitting ICA took 23.1s.\n",
            "Applying ICA to Epochs instance\n",
            "    Transforming to ICA space (32 components)\n",
            "    Zeroing out 0 ICA components\n",
            "    Projecting back using 32 PCA components\n"
          ]
        },
        {
          "output_type": "stream",
          "name": "stderr",
          "text": [
            "<ipython-input-25-ceac70ad00ab>:30: FutureWarning: The current default of copy=False will change to copy=True in 1.7. Set the value of copy explicitly to avoid this warning\n",
            "  features = ica.apply(epochs.copy()).get_data()\n",
            "Processing 0 data: 100%|██████████| 1/1 [01:07<00:00, 67.02s/it]\n",
            "Processing 0 data:   0%|          | 0/1 [00:00<?, ?it/s]"
          ]
        },
        {
          "output_type": "stream",
          "name": "stdout",
          "text": [
            "Extracting EDF parameters from /content/drive/MyDrive/GP/GP-Data/Haemorrhage/P23b_TD1.bdf...\n",
            "BDF file detected\n",
            "Setting channel info structure...\n",
            "Creating raw.info structure...\n",
            "Reading 0 ... 17498111  =      0.000 ...  1068.000 secs...\n"
          ]
        },
        {
          "output_type": "stream",
          "name": "stderr",
          "text": [
            "<ipython-input-25-ceac70ad00ab>:16: RuntimeWarning: Fiducial point nasion not found, assuming identity unknown to head transformation\n",
            "  raw.set_montage(custom_montage)\n"
          ]
        },
        {
          "output_type": "stream",
          "name": "stdout",
          "text": [
            "Trigger channel Status has a non-zero initial value of {initial_value} (consider using initial_event=True to detect this event)\n",
            "22476 events found on stim channel Status\n",
            "Event IDs: [65281 65284 65296 65297 65301 65304 65305 65309 65311]\n",
            "Trigger channel Status has a non-zero initial value of {initial_value} (consider using initial_event=True to detect this event)\n",
            "2920 events found on stim channel Status\n",
            "Event IDs: [65281 65296 65297 65311]\n",
            "Not setting metadata\n",
            "217 matching events found\n",
            "No baseline correction applied\n",
            "0 projection items activated\n",
            "Using data from preloaded Raw for 217 events and 1251 original time points ...\n",
            "0 bad epochs dropped\n",
            "Fitting ICA to data using 32 channels (please be patient, this may take a while)\n"
          ]
        },
        {
          "output_type": "stream",
          "name": "stderr",
          "text": [
            "<ipython-input-25-ceac70ad00ab>:29: RuntimeWarning: The data has not been high-pass filtered. For good ICA performance, it should be high-pass filtered (e.g., with a 1.0 Hz lower bound) before fitting ICA.\n",
            "  ica.fit(epochs)\n"
          ]
        },
        {
          "output_type": "stream",
          "name": "stdout",
          "text": [
            "Selecting by number: 32 components\n",
            "Fitting ICA took 30.9s.\n",
            "Applying ICA to Epochs instance\n",
            "    Transforming to ICA space (32 components)\n",
            "    Zeroing out 0 ICA components\n",
            "    Projecting back using 32 PCA components\n"
          ]
        },
        {
          "output_type": "stream",
          "name": "stderr",
          "text": [
            "<ipython-input-25-ceac70ad00ab>:30: FutureWarning: The current default of copy=False will change to copy=True in 1.7. Set the value of copy explicitly to avoid this warning\n",
            "  features = ica.apply(epochs.copy()).get_data()\n",
            "Processing 0 data: 100%|██████████| 1/1 [02:12<00:00, 132.59s/it]\n",
            "Processing 1 data:   0%|          | 0/1 [00:00<?, ?it/s]"
          ]
        },
        {
          "output_type": "stream",
          "name": "stdout",
          "text": [
            "Extracting EDF parameters from /content/drive/MyDrive/GP/GP-Data/Ischaemia/P1_TD1.bdf...\n",
            "BDF file detected\n",
            "Setting channel info structure...\n",
            "Creating raw.info structure...\n",
            "Reading 0 ... 11599871  =      0.000 ...   708.000 secs...\n"
          ]
        },
        {
          "output_type": "stream",
          "name": "stderr",
          "text": [
            "<ipython-input-25-ceac70ad00ab>:16: RuntimeWarning: Fiducial point nasion not found, assuming identity unknown to head transformation\n",
            "  raw.set_montage(custom_montage)\n"
          ]
        },
        {
          "output_type": "stream",
          "name": "stdout",
          "text": [
            "Trigger channel Status has a non-zero initial value of {initial_value} (consider using initial_event=True to detect this event)\n",
            "22488 events found on stim channel Status\n",
            "Event IDs: [65281 65284 65296 65297 65301 65304 65305 65309 65311]\n",
            "Trigger channel Status has a non-zero initial value of {initial_value} (consider using initial_event=True to detect this event)\n",
            "2825 events found on stim channel Status\n",
            "Event IDs: [65281 65296 65297 65304 65311]\n",
            "Not setting metadata\n",
            "144 matching events found\n",
            "No baseline correction applied\n",
            "0 projection items activated\n",
            "Using data from preloaded Raw for 144 events and 1251 original time points ...\n",
            "0 bad epochs dropped\n",
            "Fitting ICA to data using 32 channels (please be patient, this may take a while)\n"
          ]
        },
        {
          "output_type": "stream",
          "name": "stderr",
          "text": [
            "<ipython-input-25-ceac70ad00ab>:29: RuntimeWarning: The data has not been high-pass filtered. For good ICA performance, it should be high-pass filtered (e.g., with a 1.0 Hz lower bound) before fitting ICA.\n",
            "  ica.fit(epochs)\n"
          ]
        },
        {
          "output_type": "stream",
          "name": "stdout",
          "text": [
            "Selecting by number: 32 components\n",
            "Fitting ICA took 19.0s.\n",
            "Applying ICA to Epochs instance\n",
            "    Transforming to ICA space (32 components)\n",
            "    Zeroing out 0 ICA components\n",
            "    Projecting back using 32 PCA components\n"
          ]
        },
        {
          "output_type": "stream",
          "name": "stderr",
          "text": [
            "<ipython-input-25-ceac70ad00ab>:30: FutureWarning: The current default of copy=False will change to copy=True in 1.7. Set the value of copy explicitly to avoid this warning\n",
            "  features = ica.apply(epochs.copy()).get_data()\n",
            "Processing 1 data: 100%|██████████| 1/1 [01:06<00:00, 66.65s/it]\n",
            "Processing 1 data:   0%|          | 0/1 [00:00<?, ?it/s]"
          ]
        },
        {
          "output_type": "stream",
          "name": "stdout",
          "text": [
            "Extracting EDF parameters from /content/drive/MyDrive/GP/GP-Data/Ischaemia/P4a_TD1.bdf...\n",
            "BDF file detected\n",
            "Setting channel info structure...\n",
            "Creating raw.info structure...\n",
            "Reading 0 ... 11698175  =      0.000 ...   714.000 secs...\n"
          ]
        },
        {
          "output_type": "stream",
          "name": "stderr",
          "text": [
            "<ipython-input-25-ceac70ad00ab>:16: RuntimeWarning: Fiducial point nasion not found, assuming identity unknown to head transformation\n",
            "  raw.set_montage(custom_montage)\n"
          ]
        },
        {
          "output_type": "stream",
          "name": "stdout",
          "text": [
            "Trigger channel Status has a non-zero initial value of {initial_value} (consider using initial_event=True to detect this event)\n",
            "22490 events found on stim channel Status\n",
            "Event IDs: [65281 65284 65296 65297 65301 65304 65305 65309 65311]\n",
            "Trigger channel Status has a non-zero initial value of {initial_value} (consider using initial_event=True to detect this event)\n",
            "2823 events found on stim channel Status\n",
            "Event IDs: [65281 65296 65297]\n",
            "Not setting metadata\n",
            "145 matching events found\n",
            "No baseline correction applied\n",
            "0 projection items activated\n",
            "Using data from preloaded Raw for 145 events and 1251 original time points ...\n",
            "0 bad epochs dropped\n",
            "Fitting ICA to data using 32 channels (please be patient, this may take a while)\n"
          ]
        },
        {
          "output_type": "stream",
          "name": "stderr",
          "text": [
            "<ipython-input-25-ceac70ad00ab>:29: RuntimeWarning: The data has not been high-pass filtered. For good ICA performance, it should be high-pass filtered (e.g., with a 1.0 Hz lower bound) before fitting ICA.\n",
            "  ica.fit(epochs)\n"
          ]
        },
        {
          "output_type": "stream",
          "name": "stdout",
          "text": [
            "Selecting by number: 32 components\n",
            "Fitting ICA took 18.0s.\n",
            "Applying ICA to Epochs instance\n",
            "    Transforming to ICA space (32 components)\n",
            "    Zeroing out 0 ICA components\n",
            "    Projecting back using 32 PCA components\n"
          ]
        },
        {
          "output_type": "stream",
          "name": "stderr",
          "text": [
            "<ipython-input-25-ceac70ad00ab>:30: FutureWarning: The current default of copy=False will change to copy=True in 1.7. Set the value of copy explicitly to avoid this warning\n",
            "  features = ica.apply(epochs.copy()).get_data()\n",
            "Processing 1 data: 100%|██████████| 1/1 [01:05<00:00, 65.40s/it]\n",
            "Processing 1 data:   0%|          | 0/1 [00:00<?, ?it/s]"
          ]
        },
        {
          "output_type": "stream",
          "name": "stdout",
          "text": [
            "Extracting EDF parameters from /content/drive/MyDrive/GP/GP-Data/Ischaemia/P4b_TD1.bdf...\n",
            "BDF file detected\n",
            "Setting channel info structure...\n",
            "Creating raw.info structure...\n",
            "Reading 0 ... 11665407  =      0.000 ...   712.000 secs...\n",
            "Trigger channel Status has a non-zero initial value of {initial_value} (consider using initial_event=True to detect this event)\n",
            "22478 events found on stim channel Status\n",
            "Event IDs: [65281 65284 65296 65297 65301 65304 65305 65309 65311]\n"
          ]
        },
        {
          "output_type": "stream",
          "name": "stderr",
          "text": [
            "<ipython-input-25-ceac70ad00ab>:16: RuntimeWarning: Fiducial point nasion not found, assuming identity unknown to head transformation\n",
            "  raw.set_montage(custom_montage)\n"
          ]
        },
        {
          "output_type": "stream",
          "name": "stdout",
          "text": [
            "Trigger channel Status has a non-zero initial value of {initial_value} (consider using initial_event=True to detect this event)\n",
            "2866 events found on stim channel Status\n",
            "Event IDs: [65281 65296 65297]\n",
            "Not setting metadata\n",
            "145 matching events found\n",
            "No baseline correction applied\n",
            "0 projection items activated\n",
            "Using data from preloaded Raw for 145 events and 1251 original time points ...\n",
            "0 bad epochs dropped\n",
            "Fitting ICA to data using 32 channels (please be patient, this may take a while)\n"
          ]
        },
        {
          "output_type": "stream",
          "name": "stderr",
          "text": [
            "<ipython-input-25-ceac70ad00ab>:29: RuntimeWarning: The data has not been high-pass filtered. For good ICA performance, it should be high-pass filtered (e.g., with a 1.0 Hz lower bound) before fitting ICA.\n",
            "  ica.fit(epochs)\n"
          ]
        },
        {
          "output_type": "stream",
          "name": "stdout",
          "text": [
            "Selecting by number: 32 components\n",
            "Fitting ICA took 20.3s.\n",
            "Applying ICA to Epochs instance\n",
            "    Transforming to ICA space (32 components)\n",
            "    Zeroing out 0 ICA components\n",
            "    Projecting back using 32 PCA components\n"
          ]
        },
        {
          "output_type": "stream",
          "name": "stderr",
          "text": [
            "<ipython-input-25-ceac70ad00ab>:30: FutureWarning: The current default of copy=False will change to copy=True in 1.7. Set the value of copy explicitly to avoid this warning\n",
            "  features = ica.apply(epochs.copy()).get_data()\n",
            "Processing 1 data: 100%|██████████| 1/1 [01:06<00:00, 66.99s/it]\n",
            "Processing 1 data:   0%|          | 0/1 [00:00<?, ?it/s]"
          ]
        },
        {
          "output_type": "stream",
          "name": "stdout",
          "text": [
            "Extracting EDF parameters from /content/drive/MyDrive/GP/GP-Data/Ischaemia/P9_TD1.bdf...\n",
            "BDF file detected\n",
            "Setting channel info structure...\n",
            "Creating raw.info structure...\n",
            "Reading 0 ... 13107199  =      0.000 ...   800.000 secs...\n",
            "Trigger channel Status has a non-zero initial value of {initial_value} (consider using initial_event=True to detect this event)\n",
            "22477 events found on stim channel Status\n"
          ]
        },
        {
          "output_type": "stream",
          "name": "stderr",
          "text": [
            "<ipython-input-25-ceac70ad00ab>:16: RuntimeWarning: Fiducial point nasion not found, assuming identity unknown to head transformation\n",
            "  raw.set_montage(custom_montage)\n"
          ]
        },
        {
          "output_type": "stream",
          "name": "stdout",
          "text": [
            "Event IDs: [ 65281  65284  65296  65297  65301  65304  65305  65309  65311 130816]\n",
            "Trigger channel Status has a non-zero initial value of {initial_value} (consider using initial_event=True to detect this event)\n",
            "2867 events found on stim channel Status\n",
            "Event IDs: [ 65281  65296  65297  65311 130816]\n",
            "Not setting metadata\n",
            "163 matching events found\n",
            "No baseline correction applied\n",
            "0 projection items activated\n",
            "Using data from preloaded Raw for 163 events and 1251 original time points ...\n",
            "0 bad epochs dropped\n",
            "Fitting ICA to data using 32 channels (please be patient, this may take a while)\n"
          ]
        },
        {
          "output_type": "stream",
          "name": "stderr",
          "text": [
            "<ipython-input-25-ceac70ad00ab>:29: RuntimeWarning: The data has not been high-pass filtered. For good ICA performance, it should be high-pass filtered (e.g., with a 1.0 Hz lower bound) before fitting ICA.\n",
            "  ica.fit(epochs)\n"
          ]
        },
        {
          "output_type": "stream",
          "name": "stdout",
          "text": [
            "Selecting by number: 32 components\n",
            "Fitting ICA took 31.6s.\n",
            "Applying ICA to Epochs instance\n",
            "    Transforming to ICA space (32 components)\n",
            "    Zeroing out 0 ICA components\n",
            "    Projecting back using 32 PCA components\n"
          ]
        },
        {
          "output_type": "stream",
          "name": "stderr",
          "text": [
            "<ipython-input-25-ceac70ad00ab>:30: FutureWarning: The current default of copy=False will change to copy=True in 1.7. Set the value of copy explicitly to avoid this warning\n",
            "  features = ica.apply(epochs.copy()).get_data()\n",
            "Processing 1 data: 100%|██████████| 1/1 [01:18<00:00, 78.03s/it]\n",
            "Processing 1 data:   0%|          | 0/1 [00:00<?, ?it/s]"
          ]
        },
        {
          "output_type": "stream",
          "name": "stdout",
          "text": [
            "Extracting EDF parameters from /content/drive/MyDrive/GP/GP-Data/Ischaemia/P12a_TD2.bdf...\n",
            "BDF file detected\n",
            "Setting channel info structure...\n",
            "Creating raw.info structure...\n",
            "Reading 0 ... 11730943  =      0.000 ...   716.000 secs...\n",
            "Trigger channel Status has a non-zero initial value of {initial_value} (consider using initial_event=True to detect this event)\n",
            "22485 events found on stim channel Status\n",
            "Event IDs: [65281 65284 65296 65297 65301 65304 65305 65309 65311]\n"
          ]
        },
        {
          "output_type": "stream",
          "name": "stderr",
          "text": [
            "<ipython-input-25-ceac70ad00ab>:16: RuntimeWarning: Fiducial point nasion not found, assuming identity unknown to head transformation\n",
            "  raw.set_montage(custom_montage)\n"
          ]
        },
        {
          "output_type": "stream",
          "name": "stdout",
          "text": [
            "Trigger channel Status has a non-zero initial value of {initial_value} (consider using initial_event=True to detect this event)\n",
            "2821 events found on stim channel Status\n",
            "Event IDs: [65281 65282 65296 65297]\n",
            "Not setting metadata\n",
            "146 matching events found\n",
            "No baseline correction applied\n",
            "0 projection items activated\n",
            "Using data from preloaded Raw for 146 events and 1251 original time points ...\n",
            "0 bad epochs dropped\n",
            "Fitting ICA to data using 32 channels (please be patient, this may take a while)\n"
          ]
        },
        {
          "output_type": "stream",
          "name": "stderr",
          "text": [
            "<ipython-input-25-ceac70ad00ab>:29: RuntimeWarning: The data has not been high-pass filtered. For good ICA performance, it should be high-pass filtered (e.g., with a 1.0 Hz lower bound) before fitting ICA.\n",
            "  ica.fit(epochs)\n"
          ]
        },
        {
          "output_type": "stream",
          "name": "stdout",
          "text": [
            "Selecting by number: 32 components\n",
            "Fitting ICA took 20.6s.\n",
            "Applying ICA to Epochs instance\n",
            "    Transforming to ICA space (32 components)\n",
            "    Zeroing out 0 ICA components\n",
            "    Projecting back using 32 PCA components\n"
          ]
        },
        {
          "output_type": "stream",
          "name": "stderr",
          "text": [
            "<ipython-input-25-ceac70ad00ab>:30: FutureWarning: The current default of copy=False will change to copy=True in 1.7. Set the value of copy explicitly to avoid this warning\n",
            "  features = ica.apply(epochs.copy()).get_data()\n",
            "Processing 1 data: 100%|██████████| 1/1 [01:05<00:00, 65.23s/it]\n",
            "Processing 1 data:   0%|          | 0/1 [00:00<?, ?it/s]"
          ]
        },
        {
          "output_type": "stream",
          "name": "stdout",
          "text": [
            "Extracting EDF parameters from /content/drive/MyDrive/GP/GP-Data/Ischaemia/P12b_TD1.bdf...\n",
            "BDF file detected\n",
            "Setting channel info structure...\n",
            "Creating raw.info structure...\n",
            "Reading 0 ... 11763711  =      0.000 ...   718.000 secs...\n",
            "Trigger channel Status has a non-zero initial value of {initial_value} (consider using initial_event=True to detect this event)\n",
            "22486 events found on stim channel Status\n",
            "Event IDs: [65281 65284 65296 65297 65301 65304 65305 65309 65311]\n"
          ]
        },
        {
          "output_type": "stream",
          "name": "stderr",
          "text": [
            "<ipython-input-25-ceac70ad00ab>:16: RuntimeWarning: Fiducial point nasion not found, assuming identity unknown to head transformation\n",
            "  raw.set_montage(custom_montage)\n"
          ]
        },
        {
          "output_type": "stream",
          "name": "stdout",
          "text": [
            "Trigger channel Status has a non-zero initial value of {initial_value} (consider using initial_event=True to detect this event)\n",
            "2828 events found on stim channel Status\n",
            "Event IDs: [65281 65296 65297 65311]\n",
            "Not setting metadata\n",
            "146 matching events found\n",
            "No baseline correction applied\n",
            "0 projection items activated\n",
            "Using data from preloaded Raw for 146 events and 1251 original time points ...\n",
            "0 bad epochs dropped\n",
            "Fitting ICA to data using 32 channels (please be patient, this may take a while)\n"
          ]
        },
        {
          "output_type": "stream",
          "name": "stderr",
          "text": [
            "<ipython-input-25-ceac70ad00ab>:29: RuntimeWarning: The data has not been high-pass filtered. For good ICA performance, it should be high-pass filtered (e.g., with a 1.0 Hz lower bound) before fitting ICA.\n",
            "  ica.fit(epochs)\n"
          ]
        },
        {
          "output_type": "stream",
          "name": "stdout",
          "text": [
            "Selecting by number: 32 components\n",
            "Fitting ICA took 18.7s.\n",
            "Applying ICA to Epochs instance\n",
            "    Transforming to ICA space (32 components)\n",
            "    Zeroing out 0 ICA components\n",
            "    Projecting back using 32 PCA components\n"
          ]
        },
        {
          "output_type": "stream",
          "name": "stderr",
          "text": [
            "<ipython-input-25-ceac70ad00ab>:30: FutureWarning: The current default of copy=False will change to copy=True in 1.7. Set the value of copy explicitly to avoid this warning\n",
            "  features = ica.apply(epochs.copy()).get_data()\n",
            "Processing 1 data: 100%|██████████| 1/1 [01:03<00:00, 63.85s/it]\n",
            "Processing 1 data:   0%|          | 0/1 [00:00<?, ?it/s]"
          ]
        },
        {
          "output_type": "stream",
          "name": "stdout",
          "text": [
            "Extracting EDF parameters from /content/drive/MyDrive/GP/GP-Data/Ischaemia/P15_TD1.bdf...\n",
            "BDF file detected\n",
            "Setting channel info structure...\n",
            "Creating raw.info structure...\n",
            "Reading 0 ... 11632639  =      0.000 ...   710.000 secs...\n",
            "Trigger channel Status has a non-zero initial value of {initial_value} (consider using initial_event=True to detect this event)\n",
            "22480 events found on stim channel Status\n",
            "Event IDs: [65281 65284 65296 65297 65301 65304 65305 65309 65311]\n"
          ]
        },
        {
          "output_type": "stream",
          "name": "stderr",
          "text": [
            "<ipython-input-25-ceac70ad00ab>:16: RuntimeWarning: Fiducial point nasion not found, assuming identity unknown to head transformation\n",
            "  raw.set_montage(custom_montage)\n"
          ]
        },
        {
          "output_type": "stream",
          "name": "stdout",
          "text": [
            "Trigger channel Status has a non-zero initial value of {initial_value} (consider using initial_event=True to detect this event)\n",
            "2803 events found on stim channel Status\n",
            "Event IDs: [65281 65296 65297 65309]\n",
            "Not setting metadata\n",
            "144 matching events found\n",
            "No baseline correction applied\n",
            "0 projection items activated\n",
            "Using data from preloaded Raw for 144 events and 1251 original time points ...\n",
            "0 bad epochs dropped\n",
            "Fitting ICA to data using 32 channels (please be patient, this may take a while)\n"
          ]
        },
        {
          "output_type": "stream",
          "name": "stderr",
          "text": [
            "<ipython-input-25-ceac70ad00ab>:29: RuntimeWarning: The data has not been high-pass filtered. For good ICA performance, it should be high-pass filtered (e.g., with a 1.0 Hz lower bound) before fitting ICA.\n",
            "  ica.fit(epochs)\n"
          ]
        },
        {
          "output_type": "stream",
          "name": "stdout",
          "text": [
            "Selecting by number: 32 components\n",
            "Fitting ICA took 23.7s.\n",
            "Applying ICA to Epochs instance\n",
            "    Transforming to ICA space (32 components)\n",
            "    Zeroing out 0 ICA components\n",
            "    Projecting back using 32 PCA components\n"
          ]
        },
        {
          "output_type": "stream",
          "name": "stderr",
          "text": [
            "<ipython-input-25-ceac70ad00ab>:30: FutureWarning: The current default of copy=False will change to copy=True in 1.7. Set the value of copy explicitly to avoid this warning\n",
            "  features = ica.apply(epochs.copy()).get_data()\n",
            "Processing 1 data: 100%|██████████| 1/1 [01:08<00:00, 68.15s/it]\n",
            "Processing 1 data:   0%|          | 0/1 [00:00<?, ?it/s]"
          ]
        },
        {
          "output_type": "stream",
          "name": "stdout",
          "text": [
            "Extracting EDF parameters from /content/drive/MyDrive/GP/GP-Data/Ischaemia/P16_TD1.bdf...\n",
            "BDF file detected\n",
            "Setting channel info structure...\n",
            "Creating raw.info structure...\n",
            "Reading 0 ... 11698175  =      0.000 ...   714.000 secs...\n",
            "Trigger channel Status has a non-zero initial value of {initial_value} (consider using initial_event=True to detect this event)\n",
            "22482 events found on stim channel Status\n",
            "Event IDs: [65281 65284 65285 65296 65297 65301 65304 65305 65309 65311]\n"
          ]
        },
        {
          "output_type": "stream",
          "name": "stderr",
          "text": [
            "<ipython-input-25-ceac70ad00ab>:16: RuntimeWarning: Fiducial point nasion not found, assuming identity unknown to head transformation\n",
            "  raw.set_montage(custom_montage)\n"
          ]
        },
        {
          "output_type": "stream",
          "name": "stdout",
          "text": [
            "Trigger channel Status has a non-zero initial value of {initial_value} (consider using initial_event=True to detect this event)\n",
            "2884 events found on stim channel Status\n",
            "Event IDs: [65281 65282 65296 65297]\n",
            "Not setting metadata\n",
            "145 matching events found\n",
            "No baseline correction applied\n",
            "0 projection items activated\n",
            "Using data from preloaded Raw for 145 events and 1251 original time points ...\n",
            "0 bad epochs dropped\n",
            "Fitting ICA to data using 32 channels (please be patient, this may take a while)\n"
          ]
        },
        {
          "output_type": "stream",
          "name": "stderr",
          "text": [
            "<ipython-input-25-ceac70ad00ab>:29: RuntimeWarning: The data has not been high-pass filtered. For good ICA performance, it should be high-pass filtered (e.g., with a 1.0 Hz lower bound) before fitting ICA.\n",
            "  ica.fit(epochs)\n"
          ]
        },
        {
          "output_type": "stream",
          "name": "stdout",
          "text": [
            "Selecting by number: 32 components\n",
            "Fitting ICA took 28.2s.\n",
            "Applying ICA to Epochs instance\n",
            "    Transforming to ICA space (32 components)\n",
            "    Zeroing out 0 ICA components\n",
            "    Projecting back using 32 PCA components\n"
          ]
        },
        {
          "output_type": "stream",
          "name": "stderr",
          "text": [
            "<ipython-input-25-ceac70ad00ab>:30: FutureWarning: The current default of copy=False will change to copy=True in 1.7. Set the value of copy explicitly to avoid this warning\n",
            "  features = ica.apply(epochs.copy()).get_data()\n",
            "Processing 1 data: 100%|██████████| 1/1 [01:16<00:00, 76.97s/it]\n",
            "Processing 1 data:   0%|          | 0/1 [00:00<?, ?it/s]"
          ]
        },
        {
          "output_type": "stream",
          "name": "stdout",
          "text": [
            "Extracting EDF parameters from /content/drive/MyDrive/GP/GP-Data/Ischaemia/P19a_TD1.bdf...\n",
            "BDF file detected\n",
            "Setting channel info structure...\n",
            "Creating raw.info structure...\n",
            "Reading 0 ... 11649023  =      0.000 ...   711.000 secs...\n"
          ]
        },
        {
          "output_type": "stream",
          "name": "stderr",
          "text": [
            "<ipython-input-25-ceac70ad00ab>:16: RuntimeWarning: Fiducial point nasion not found, assuming identity unknown to head transformation\n",
            "  raw.set_montage(custom_montage)\n"
          ]
        },
        {
          "output_type": "stream",
          "name": "stdout",
          "text": [
            "Trigger channel Status has a non-zero initial value of {initial_value} (consider using initial_event=True to detect this event)\n",
            "22475 events found on stim channel Status\n",
            "Event IDs: [65281 65284 65296 65297 65301 65304 65305 65309 65311]\n",
            "Trigger channel Status has a non-zero initial value of {initial_value} (consider using initial_event=True to detect this event)\n",
            "2791 events found on stim channel Status\n",
            "Event IDs: [65281 65296 65297]\n",
            "Not setting metadata\n",
            "145 matching events found\n",
            "No baseline correction applied\n",
            "0 projection items activated\n",
            "Using data from preloaded Raw for 145 events and 1251 original time points ...\n",
            "0 bad epochs dropped\n",
            "Fitting ICA to data using 32 channels (please be patient, this may take a while)\n"
          ]
        },
        {
          "output_type": "stream",
          "name": "stderr",
          "text": [
            "<ipython-input-25-ceac70ad00ab>:29: RuntimeWarning: The data has not been high-pass filtered. For good ICA performance, it should be high-pass filtered (e.g., with a 1.0 Hz lower bound) before fitting ICA.\n",
            "  ica.fit(epochs)\n"
          ]
        },
        {
          "output_type": "stream",
          "name": "stdout",
          "text": [
            "Selecting by number: 32 components\n",
            "Fitting ICA took 23.8s.\n",
            "Applying ICA to Epochs instance\n",
            "    Transforming to ICA space (32 components)\n",
            "    Zeroing out 0 ICA components\n",
            "    Projecting back using 32 PCA components\n"
          ]
        },
        {
          "output_type": "stream",
          "name": "stderr",
          "text": [
            "<ipython-input-25-ceac70ad00ab>:30: FutureWarning: The current default of copy=False will change to copy=True in 1.7. Set the value of copy explicitly to avoid this warning\n",
            "  features = ica.apply(epochs.copy()).get_data()\n",
            "Processing 1 data: 100%|██████████| 1/1 [01:13<00:00, 73.80s/it]\n",
            "Processing 1 data:   0%|          | 0/1 [00:00<?, ?it/s]"
          ]
        },
        {
          "output_type": "stream",
          "name": "stdout",
          "text": [
            "Extracting EDF parameters from /content/drive/MyDrive/GP/GP-Data/Ischaemia/P18_TD1.bdf...\n",
            "BDF file detected\n",
            "Setting channel info structure...\n",
            "Creating raw.info structure...\n",
            "Reading 0 ... 11681791  =      0.000 ...   713.000 secs...\n"
          ]
        },
        {
          "output_type": "stream",
          "name": "stderr",
          "text": [
            "<ipython-input-25-ceac70ad00ab>:16: RuntimeWarning: Fiducial point nasion not found, assuming identity unknown to head transformation\n",
            "  raw.set_montage(custom_montage)\n"
          ]
        },
        {
          "output_type": "stream",
          "name": "stdout",
          "text": [
            "Trigger channel Status has a non-zero initial value of {initial_value} (consider using initial_event=True to detect this event)\n",
            "22481 events found on stim channel Status\n",
            "Event IDs: [65281 65284 65296 65297 65301 65304 65305 65309 65311]\n",
            "Trigger channel Status has a non-zero initial value of {initial_value} (consider using initial_event=True to detect this event)\n",
            "2918 events found on stim channel Status\n",
            "Event IDs: [65281 65296 65297 65311]\n",
            "Not setting metadata\n",
            "145 matching events found\n",
            "No baseline correction applied\n",
            "0 projection items activated\n",
            "Using data from preloaded Raw for 145 events and 1251 original time points ...\n",
            "0 bad epochs dropped\n",
            "Fitting ICA to data using 32 channels (please be patient, this may take a while)\n"
          ]
        },
        {
          "output_type": "stream",
          "name": "stderr",
          "text": [
            "<ipython-input-25-ceac70ad00ab>:29: RuntimeWarning: The data has not been high-pass filtered. For good ICA performance, it should be high-pass filtered (e.g., with a 1.0 Hz lower bound) before fitting ICA.\n",
            "  ica.fit(epochs)\n"
          ]
        },
        {
          "output_type": "stream",
          "name": "stdout",
          "text": [
            "Selecting by number: 32 components\n",
            "Fitting ICA took 18.8s.\n",
            "Applying ICA to Epochs instance\n",
            "    Transforming to ICA space (32 components)\n",
            "    Zeroing out 0 ICA components\n",
            "    Projecting back using 32 PCA components\n"
          ]
        },
        {
          "output_type": "stream",
          "name": "stderr",
          "text": [
            "<ipython-input-25-ceac70ad00ab>:30: FutureWarning: The current default of copy=False will change to copy=True in 1.7. Set the value of copy explicitly to avoid this warning\n",
            "  features = ica.apply(epochs.copy()).get_data()\n",
            "Processing 1 data: 100%|██████████| 1/1 [01:04<00:00, 64.87s/it]\n",
            "Processing 1 data:   0%|          | 0/1 [00:00<?, ?it/s]"
          ]
        },
        {
          "output_type": "stream",
          "name": "stdout",
          "text": [
            "Extracting EDF parameters from /content/drive/MyDrive/GP/GP-Data/Ischaemia/P19b_TD1.bdf...\n",
            "BDF file detected\n",
            "Setting channel info structure...\n",
            "Creating raw.info structure...\n",
            "Reading 0 ... 11616255  =      0.000 ...   709.000 secs...\n",
            "Trigger channel Status has a non-zero initial value of {initial_value} (consider using initial_event=True to detect this event)\n",
            "22497 events found on stim channel Status\n",
            "Event IDs: [65281 65284 65292 65296 65297 65301 65304 65305 65309 65311]\n"
          ]
        },
        {
          "output_type": "stream",
          "name": "stderr",
          "text": [
            "<ipython-input-25-ceac70ad00ab>:16: RuntimeWarning: Fiducial point nasion not found, assuming identity unknown to head transformation\n",
            "  raw.set_montage(custom_montage)\n"
          ]
        },
        {
          "output_type": "stream",
          "name": "stdout",
          "text": [
            "Trigger channel Status has a non-zero initial value of {initial_value} (consider using initial_event=True to detect this event)\n",
            "2932 events found on stim channel Status\n",
            "Event IDs: [65281 65296 65297 65309]\n",
            "Not setting metadata\n",
            "144 matching events found\n",
            "No baseline correction applied\n",
            "0 projection items activated\n",
            "Using data from preloaded Raw for 144 events and 1251 original time points ...\n",
            "0 bad epochs dropped\n",
            "Fitting ICA to data using 32 channels (please be patient, this may take a while)\n"
          ]
        },
        {
          "output_type": "stream",
          "name": "stderr",
          "text": [
            "<ipython-input-25-ceac70ad00ab>:29: RuntimeWarning: The data has not been high-pass filtered. For good ICA performance, it should be high-pass filtered (e.g., with a 1.0 Hz lower bound) before fitting ICA.\n",
            "  ica.fit(epochs)\n"
          ]
        },
        {
          "output_type": "stream",
          "name": "stdout",
          "text": [
            "Selecting by number: 32 components\n",
            "Fitting ICA took 16.9s.\n",
            "Applying ICA to Epochs instance\n",
            "    Transforming to ICA space (32 components)\n",
            "    Zeroing out 0 ICA components\n",
            "    Projecting back using 32 PCA components\n"
          ]
        },
        {
          "output_type": "stream",
          "name": "stderr",
          "text": [
            "<ipython-input-25-ceac70ad00ab>:30: FutureWarning: The current default of copy=False will change to copy=True in 1.7. Set the value of copy explicitly to avoid this warning\n",
            "  features = ica.apply(epochs.copy()).get_data()\n",
            "Processing 1 data: 100%|██████████| 1/1 [00:59<00:00, 59.74s/it]\n",
            "Processing 1 data:   0%|          | 0/1 [00:00<?, ?it/s]"
          ]
        },
        {
          "output_type": "stream",
          "name": "stdout",
          "text": [
            "Extracting EDF parameters from /content/drive/MyDrive/GP/GP-Data/Ischaemia/P25a_TD1.bdf...\n",
            "BDF file detected\n",
            "Setting channel info structure...\n",
            "Creating raw.info structure...\n",
            "Reading 0 ... 11747327  =      0.000 ...   717.000 secs...\n",
            "Trigger channel Status has a non-zero initial value of {initial_value} (consider using initial_event=True to detect this event)\n",
            "22479 events found on stim channel Status\n",
            "Event IDs: [65281 65284 65296 65297 65301 65304 65305 65309 65311]\n"
          ]
        },
        {
          "output_type": "stream",
          "name": "stderr",
          "text": [
            "<ipython-input-25-ceac70ad00ab>:16: RuntimeWarning: Fiducial point nasion not found, assuming identity unknown to head transformation\n",
            "  raw.set_montage(custom_montage)\n"
          ]
        },
        {
          "output_type": "stream",
          "name": "stdout",
          "text": [
            "Trigger channel Status has a non-zero initial value of {initial_value} (consider using initial_event=True to detect this event)\n",
            "2848 events found on stim channel Status\n",
            "Event IDs: [65281 65282 65296 65297]\n",
            "Not setting metadata\n",
            "146 matching events found\n",
            "No baseline correction applied\n",
            "0 projection items activated\n",
            "Using data from preloaded Raw for 146 events and 1251 original time points ...\n",
            "0 bad epochs dropped\n",
            "Fitting ICA to data using 32 channels (please be patient, this may take a while)\n"
          ]
        },
        {
          "output_type": "stream",
          "name": "stderr",
          "text": [
            "<ipython-input-25-ceac70ad00ab>:29: RuntimeWarning: The data has not been high-pass filtered. For good ICA performance, it should be high-pass filtered (e.g., with a 1.0 Hz lower bound) before fitting ICA.\n",
            "  ica.fit(epochs)\n"
          ]
        },
        {
          "output_type": "stream",
          "name": "stdout",
          "text": [
            "Selecting by number: 32 components\n",
            "Fitting ICA took 20.1s.\n",
            "Applying ICA to Epochs instance\n",
            "    Transforming to ICA space (32 components)\n",
            "    Zeroing out 0 ICA components\n",
            "    Projecting back using 32 PCA components\n"
          ]
        },
        {
          "output_type": "stream",
          "name": "stderr",
          "text": [
            "<ipython-input-25-ceac70ad00ab>:30: FutureWarning: The current default of copy=False will change to copy=True in 1.7. Set the value of copy explicitly to avoid this warning\n",
            "  features = ica.apply(epochs.copy()).get_data()\n",
            "Processing 1 data: 100%|██████████| 1/1 [01:03<00:00, 63.56s/it]\n",
            "Processing 1 data:   0%|          | 0/1 [00:00<?, ?it/s]"
          ]
        },
        {
          "output_type": "stream",
          "name": "stdout",
          "text": [
            "Extracting EDF parameters from /content/drive/MyDrive/GP/GP-Data/Ischaemia/P25b_TD1.bdf...\n",
            "BDF file detected\n",
            "Setting channel info structure...\n",
            "Creating raw.info structure...\n",
            "Reading 0 ... 11649023  =      0.000 ...   711.000 secs...\n"
          ]
        },
        {
          "output_type": "stream",
          "name": "stderr",
          "text": [
            "<ipython-input-25-ceac70ad00ab>:16: RuntimeWarning: Fiducial point nasion not found, assuming identity unknown to head transformation\n",
            "  raw.set_montage(custom_montage)\n"
          ]
        },
        {
          "output_type": "stream",
          "name": "stdout",
          "text": [
            "Trigger channel Status has a non-zero initial value of {initial_value} (consider using initial_event=True to detect this event)\n",
            "22486 events found on stim channel Status\n",
            "Event IDs: [65281 65284 65296 65297 65301 65304 65305 65309 65311]\n",
            "Trigger channel Status has a non-zero initial value of {initial_value} (consider using initial_event=True to detect this event)\n",
            "2876 events found on stim channel Status\n",
            "Event IDs: [65281 65296 65297]\n",
            "Not setting metadata\n",
            "145 matching events found\n",
            "No baseline correction applied\n",
            "0 projection items activated\n",
            "Using data from preloaded Raw for 145 events and 1251 original time points ...\n",
            "0 bad epochs dropped\n",
            "Fitting ICA to data using 32 channels (please be patient, this may take a while)\n"
          ]
        },
        {
          "output_type": "stream",
          "name": "stderr",
          "text": [
            "<ipython-input-25-ceac70ad00ab>:29: RuntimeWarning: The data has not been high-pass filtered. For good ICA performance, it should be high-pass filtered (e.g., with a 1.0 Hz lower bound) before fitting ICA.\n",
            "  ica.fit(epochs)\n"
          ]
        },
        {
          "output_type": "stream",
          "name": "stdout",
          "text": [
            "Selecting by number: 32 components\n",
            "Fitting ICA took 23.4s.\n",
            "Applying ICA to Epochs instance\n",
            "    Transforming to ICA space (32 components)\n",
            "    Zeroing out 0 ICA components\n",
            "    Projecting back using 32 PCA components\n"
          ]
        },
        {
          "output_type": "stream",
          "name": "stderr",
          "text": [
            "<ipython-input-25-ceac70ad00ab>:30: FutureWarning: The current default of copy=False will change to copy=True in 1.7. Set the value of copy explicitly to avoid this warning\n",
            "  features = ica.apply(epochs.copy()).get_data()\n",
            "Processing 1 data: 100%|██████████| 1/1 [01:07<00:00, 67.80s/it]\n",
            "Processing 1 data:   0%|          | 0/1 [00:00<?, ?it/s]"
          ]
        },
        {
          "output_type": "stream",
          "name": "stdout",
          "text": [
            "Extracting EDF parameters from /content/drive/MyDrive/GP/GP-Data/Ischaemia/P26_TD1.bdf...\n",
            "BDF file detected\n",
            "Setting channel info structure...\n",
            "Creating raw.info structure...\n",
            "Reading 0 ... 12206079  =      0.000 ...   745.000 secs...\n",
            "Trigger channel Status has a non-zero initial value of {initial_value} (consider using initial_event=True to detect this event)\n",
            "22481 events found on stim channel Status\n"
          ]
        },
        {
          "output_type": "stream",
          "name": "stderr",
          "text": [
            "<ipython-input-25-ceac70ad00ab>:16: RuntimeWarning: Fiducial point nasion not found, assuming identity unknown to head transformation\n",
            "  raw.set_montage(custom_montage)\n"
          ]
        },
        {
          "output_type": "stream",
          "name": "stdout",
          "text": [
            "Event IDs: [65281 65282 65284 65296 65297 65301 65304 65305 65309 65311]\n",
            "Trigger channel Status has a non-zero initial value of {initial_value} (consider using initial_event=True to detect this event)\n",
            "2864 events found on stim channel Status\n",
            "Event IDs: [65281 65296 65297 65309]\n",
            "Not setting metadata\n",
            "152 matching events found\n",
            "No baseline correction applied\n",
            "0 projection items activated\n",
            "Using data from preloaded Raw for 152 events and 1251 original time points ...\n",
            "0 bad epochs dropped\n",
            "Fitting ICA to data using 32 channels (please be patient, this may take a while)\n"
          ]
        },
        {
          "output_type": "stream",
          "name": "stderr",
          "text": [
            "<ipython-input-25-ceac70ad00ab>:29: RuntimeWarning: The data has not been high-pass filtered. For good ICA performance, it should be high-pass filtered (e.g., with a 1.0 Hz lower bound) before fitting ICA.\n",
            "  ica.fit(epochs)\n"
          ]
        },
        {
          "output_type": "stream",
          "name": "stdout",
          "text": [
            "Selecting by number: 32 components\n",
            "Fitting ICA took 16.6s.\n",
            "Applying ICA to Epochs instance\n",
            "    Transforming to ICA space (32 components)\n",
            "    Zeroing out 0 ICA components\n",
            "    Projecting back using 32 PCA components\n"
          ]
        },
        {
          "output_type": "stream",
          "name": "stderr",
          "text": [
            "<ipython-input-25-ceac70ad00ab>:30: FutureWarning: The current default of copy=False will change to copy=True in 1.7. Set the value of copy explicitly to avoid this warning\n",
            "  features = ica.apply(epochs.copy()).get_data()\n",
            "Processing 1 data: 100%|██████████| 1/1 [01:02<00:00, 62.08s/it]\n",
            "Processing 2 data:   0%|          | 0/1 [00:00<?, ?it/s]"
          ]
        },
        {
          "output_type": "stream",
          "name": "stdout",
          "text": [
            "Extracting EDF parameters from /content/drive/MyDrive/GP/GP-Data/Subjects/S1a_TD1.bdf...\n",
            "BDF file detected\n",
            "Setting channel info structure...\n",
            "Creating raw.info structure...\n",
            "Reading 0 ... 12042239  =      0.000 ...   735.000 secs...\n",
            "Trigger channel Status has a non-zero initial value of {initial_value} (consider using initial_event=True to detect this event)\n",
            "22474 events found on stim channel Status\n",
            "Event IDs: [65281 65284 65296 65297 65301 65304 65305 65309 65311]\n"
          ]
        },
        {
          "output_type": "stream",
          "name": "stderr",
          "text": [
            "<ipython-input-25-ceac70ad00ab>:16: RuntimeWarning: Fiducial point nasion not found, assuming identity unknown to head transformation\n",
            "  raw.set_montage(custom_montage)\n"
          ]
        },
        {
          "output_type": "stream",
          "name": "stdout",
          "text": [
            "Trigger channel Status has a non-zero initial value of {initial_value} (consider using initial_event=True to detect this event)\n",
            "2844 events found on stim channel Status\n",
            "Event IDs: [65281 65296 65297 65309]\n",
            "Not setting metadata\n",
            "149 matching events found\n",
            "No baseline correction applied\n",
            "0 projection items activated\n",
            "Using data from preloaded Raw for 149 events and 1251 original time points ...\n",
            "0 bad epochs dropped\n",
            "Fitting ICA to data using 32 channels (please be patient, this may take a while)\n"
          ]
        },
        {
          "output_type": "stream",
          "name": "stderr",
          "text": [
            "<ipython-input-25-ceac70ad00ab>:29: RuntimeWarning: The data has not been high-pass filtered. For good ICA performance, it should be high-pass filtered (e.g., with a 1.0 Hz lower bound) before fitting ICA.\n",
            "  ica.fit(epochs)\n"
          ]
        },
        {
          "output_type": "stream",
          "name": "stdout",
          "text": [
            "Selecting by number: 32 components\n",
            "Fitting ICA took 20.5s.\n",
            "Applying ICA to Epochs instance\n",
            "    Transforming to ICA space (32 components)\n",
            "    Zeroing out 0 ICA components\n",
            "    Projecting back using 32 PCA components\n"
          ]
        },
        {
          "output_type": "stream",
          "name": "stderr",
          "text": [
            "<ipython-input-25-ceac70ad00ab>:30: FutureWarning: The current default of copy=False will change to copy=True in 1.7. Set the value of copy explicitly to avoid this warning\n",
            "  features = ica.apply(epochs.copy()).get_data()\n",
            "Processing 2 data: 100%|██████████| 1/1 [01:04<00:00, 64.39s/it]\n",
            "Processing 2 data:   0%|          | 0/1 [00:00<?, ?it/s]"
          ]
        },
        {
          "output_type": "stream",
          "name": "stdout",
          "text": [
            "Extracting EDF parameters from /content/drive/MyDrive/GP/GP-Data/Subjects/S2a_TD1.bdf...\n",
            "BDF file detected\n",
            "Setting channel info structure...\n",
            "Creating raw.info structure...\n",
            "Reading 0 ... 11665407  =      0.000 ...   712.000 secs...\n",
            "Trigger channel Status has a non-zero initial value of {initial_value} (consider using initial_event=True to detect this event)\n",
            "22477 events found on stim channel Status\n",
            "Event IDs: [65281 65282 65284 65295 65296 65297 65301 65304 65305 65309 65311]\n"
          ]
        },
        {
          "output_type": "stream",
          "name": "stderr",
          "text": [
            "<ipython-input-25-ceac70ad00ab>:16: RuntimeWarning: Fiducial point nasion not found, assuming identity unknown to head transformation\n",
            "  raw.set_montage(custom_montage)\n"
          ]
        },
        {
          "output_type": "stream",
          "name": "stdout",
          "text": [
            "Trigger channel Status has a non-zero initial value of {initial_value} (consider using initial_event=True to detect this event)\n",
            "2895 events found on stim channel Status\n",
            "Event IDs: [65281 65296 65297 65305]\n",
            "Not setting metadata\n",
            "145 matching events found\n",
            "No baseline correction applied\n",
            "0 projection items activated\n",
            "Using data from preloaded Raw for 145 events and 1251 original time points ...\n",
            "0 bad epochs dropped\n",
            "Fitting ICA to data using 32 channels (please be patient, this may take a while)\n"
          ]
        },
        {
          "output_type": "stream",
          "name": "stderr",
          "text": [
            "<ipython-input-25-ceac70ad00ab>:29: RuntimeWarning: The data has not been high-pass filtered. For good ICA performance, it should be high-pass filtered (e.g., with a 1.0 Hz lower bound) before fitting ICA.\n",
            "  ica.fit(epochs)\n"
          ]
        },
        {
          "output_type": "stream",
          "name": "stdout",
          "text": [
            "Selecting by number: 32 components\n",
            "Fitting ICA took 25.4s.\n",
            "Applying ICA to Epochs instance\n",
            "    Transforming to ICA space (32 components)\n",
            "    Zeroing out 0 ICA components\n",
            "    Projecting back using 32 PCA components\n"
          ]
        },
        {
          "output_type": "stream",
          "name": "stderr",
          "text": [
            "<ipython-input-25-ceac70ad00ab>:30: FutureWarning: The current default of copy=False will change to copy=True in 1.7. Set the value of copy explicitly to avoid this warning\n",
            "  features = ica.apply(epochs.copy()).get_data()\n",
            "Processing 2 data: 100%|██████████| 1/1 [01:08<00:00, 68.76s/it]\n",
            "Processing 2 data:   0%|          | 0/1 [00:00<?, ?it/s]"
          ]
        },
        {
          "output_type": "stream",
          "name": "stdout",
          "text": [
            "Extracting EDF parameters from /content/drive/MyDrive/GP/GP-Data/Subjects/S1b_TD1.bdf...\n",
            "BDF file detected\n",
            "Setting channel info structure...\n",
            "Creating raw.info structure...\n",
            "Reading 0 ... 12746751  =      0.000 ...   778.000 secs...\n",
            "Trigger channel Status has a non-zero initial value of {initial_value} (consider using initial_event=True to detect this event)\n"
          ]
        },
        {
          "output_type": "stream",
          "name": "stderr",
          "text": [
            "<ipython-input-25-ceac70ad00ab>:16: RuntimeWarning: Fiducial point nasion not found, assuming identity unknown to head transformation\n",
            "  raw.set_montage(custom_montage)\n"
          ]
        },
        {
          "output_type": "stream",
          "name": "stdout",
          "text": [
            "22479 events found on stim channel Status\n",
            "Event IDs: [65281 65284 65296 65297 65301 65304 65305 65309 65311]\n",
            "Trigger channel Status has a non-zero initial value of {initial_value} (consider using initial_event=True to detect this event)\n",
            "2867 events found on stim channel Status\n",
            "Event IDs: [65281 65296 65297 65304 65309]\n",
            "Not setting metadata\n",
            "158 matching events found\n",
            "No baseline correction applied\n",
            "0 projection items activated\n",
            "Using data from preloaded Raw for 158 events and 1251 original time points ...\n",
            "0 bad epochs dropped\n",
            "Fitting ICA to data using 32 channels (please be patient, this may take a while)\n"
          ]
        },
        {
          "output_type": "stream",
          "name": "stderr",
          "text": [
            "<ipython-input-25-ceac70ad00ab>:29: RuntimeWarning: The data has not been high-pass filtered. For good ICA performance, it should be high-pass filtered (e.g., with a 1.0 Hz lower bound) before fitting ICA.\n",
            "  ica.fit(epochs)\n"
          ]
        },
        {
          "output_type": "stream",
          "name": "stdout",
          "text": [
            "Selecting by number: 32 components\n",
            "Fitting ICA took 40.6s.\n",
            "Applying ICA to Epochs instance\n",
            "    Transforming to ICA space (32 components)\n",
            "    Zeroing out 0 ICA components\n",
            "    Projecting back using 32 PCA components\n"
          ]
        },
        {
          "output_type": "stream",
          "name": "stderr",
          "text": [
            "<ipython-input-25-ceac70ad00ab>:30: FutureWarning: The current default of copy=False will change to copy=True in 1.7. Set the value of copy explicitly to avoid this warning\n",
            "  features = ica.apply(epochs.copy()).get_data()\n",
            "Processing 2 data: 100%|██████████| 1/1 [01:26<00:00, 86.43s/it]\n",
            "Processing 2 data:   0%|          | 0/1 [00:00<?, ?it/s]"
          ]
        },
        {
          "output_type": "stream",
          "name": "stdout",
          "text": [
            "Extracting EDF parameters from /content/drive/MyDrive/GP/GP-Data/Subjects/S3a_TD1.bdf...\n",
            "BDF file detected\n",
            "Setting channel info structure...\n",
            "Creating raw.info structure...\n",
            "Reading 0 ... 11665407  =      0.000 ...   712.000 secs...\n"
          ]
        },
        {
          "output_type": "stream",
          "name": "stderr",
          "text": [
            "<ipython-input-25-ceac70ad00ab>:16: RuntimeWarning: Fiducial point nasion not found, assuming identity unknown to head transformation\n",
            "  raw.set_montage(custom_montage)\n"
          ]
        },
        {
          "output_type": "stream",
          "name": "stdout",
          "text": [
            "Trigger channel Status has a non-zero initial value of {initial_value} (consider using initial_event=True to detect this event)\n",
            "22485 events found on stim channel Status\n",
            "Event IDs: [65281 65284 65292 65296 65297 65301 65304 65305 65309 65311]\n",
            "Trigger channel Status has a non-zero initial value of {initial_value} (consider using initial_event=True to detect this event)\n",
            "2802 events found on stim channel Status\n",
            "Event IDs: [65281 65292 65296 65297]\n",
            "Not setting metadata\n",
            "145 matching events found\n",
            "No baseline correction applied\n",
            "0 projection items activated\n",
            "Using data from preloaded Raw for 145 events and 1251 original time points ...\n",
            "0 bad epochs dropped\n",
            "Fitting ICA to data using 32 channels (please be patient, this may take a while)\n"
          ]
        },
        {
          "output_type": "stream",
          "name": "stderr",
          "text": [
            "<ipython-input-25-ceac70ad00ab>:29: RuntimeWarning: The data has not been high-pass filtered. For good ICA performance, it should be high-pass filtered (e.g., with a 1.0 Hz lower bound) before fitting ICA.\n",
            "  ica.fit(epochs)\n"
          ]
        },
        {
          "output_type": "stream",
          "name": "stdout",
          "text": [
            "Selecting by number: 32 components\n",
            "Fitting ICA took 15.6s.\n",
            "Applying ICA to Epochs instance\n",
            "    Transforming to ICA space (32 components)\n",
            "    Zeroing out 0 ICA components\n",
            "    Projecting back using 32 PCA components\n"
          ]
        },
        {
          "output_type": "stream",
          "name": "stderr",
          "text": [
            "<ipython-input-25-ceac70ad00ab>:30: FutureWarning: The current default of copy=False will change to copy=True in 1.7. Set the value of copy explicitly to avoid this warning\n",
            "  features = ica.apply(epochs.copy()).get_data()\n",
            "Processing 2 data: 100%|██████████| 1/1 [01:12<00:00, 72.30s/it]\n",
            "Processing 2 data:   0%|          | 0/1 [00:00<?, ?it/s]"
          ]
        },
        {
          "output_type": "stream",
          "name": "stdout",
          "text": [
            "Extracting EDF parameters from /content/drive/MyDrive/GP/GP-Data/Subjects/S3b_TD1.bdf...\n",
            "BDF file detected\n",
            "Setting channel info structure...\n",
            "Creating raw.info structure...\n",
            "Reading 0 ... 11632639  =      0.000 ...   710.000 secs...\n",
            "Trigger channel Status has a non-zero initial value of {initial_value} (consider using initial_event=True to detect this event)\n",
            "22489 events found on stim channel Status\n",
            "Event IDs: [65281 65282 65284 65296 65297 65301 65304 65305 65309 65311]\n"
          ]
        },
        {
          "output_type": "stream",
          "name": "stderr",
          "text": [
            "<ipython-input-25-ceac70ad00ab>:16: RuntimeWarning: Fiducial point nasion not found, assuming identity unknown to head transformation\n",
            "  raw.set_montage(custom_montage)\n"
          ]
        },
        {
          "output_type": "stream",
          "name": "stdout",
          "text": [
            "Trigger channel Status has a non-zero initial value of {initial_value} (consider using initial_event=True to detect this event)\n",
            "2857 events found on stim channel Status\n",
            "Event IDs: [65281 65296 65297 65309]\n",
            "Not setting metadata\n",
            "144 matching events found\n",
            "No baseline correction applied\n",
            "0 projection items activated\n",
            "Using data from preloaded Raw for 144 events and 1251 original time points ...\n",
            "0 bad epochs dropped\n",
            "Fitting ICA to data using 32 channels (please be patient, this may take a while)\n"
          ]
        },
        {
          "output_type": "stream",
          "name": "stderr",
          "text": [
            "<ipython-input-25-ceac70ad00ab>:29: RuntimeWarning: The data has not been high-pass filtered. For good ICA performance, it should be high-pass filtered (e.g., with a 1.0 Hz lower bound) before fitting ICA.\n",
            "  ica.fit(epochs)\n"
          ]
        },
        {
          "output_type": "stream",
          "name": "stdout",
          "text": [
            "Selecting by number: 32 components\n",
            "Fitting ICA took 17.6s.\n",
            "Applying ICA to Epochs instance\n",
            "    Transforming to ICA space (32 components)\n",
            "    Zeroing out 0 ICA components\n",
            "    Projecting back using 32 PCA components\n"
          ]
        },
        {
          "output_type": "stream",
          "name": "stderr",
          "text": [
            "<ipython-input-25-ceac70ad00ab>:30: FutureWarning: The current default of copy=False will change to copy=True in 1.7. Set the value of copy explicitly to avoid this warning\n",
            "  features = ica.apply(epochs.copy()).get_data()\n",
            "Processing 2 data: 100%|██████████| 1/1 [01:04<00:00, 64.09s/it]\n",
            "Processing 2 data:   0%|          | 0/1 [00:00<?, ?it/s]"
          ]
        },
        {
          "output_type": "stream",
          "name": "stdout",
          "text": [
            "Extracting EDF parameters from /content/drive/MyDrive/GP/GP-Data/Subjects/S4a_TD2.bdf...\n",
            "BDF file detected\n",
            "Setting channel info structure...\n",
            "Creating raw.info structure...\n",
            "Reading 0 ... 11616255  =      0.000 ...   709.000 secs...\n",
            "Trigger channel Status has a non-zero initial value of {initial_value} (consider using initial_event=True to detect this event)\n",
            "22477 events found on stim channel Status\n",
            "Event IDs: [65281 65282 65284 65296 65297 65301 65304 65305 65309 65311]\n"
          ]
        },
        {
          "output_type": "stream",
          "name": "stderr",
          "text": [
            "<ipython-input-25-ceac70ad00ab>:16: RuntimeWarning: Fiducial point nasion not found, assuming identity unknown to head transformation\n",
            "  raw.set_montage(custom_montage)\n"
          ]
        },
        {
          "output_type": "stream",
          "name": "stdout",
          "text": [
            "Trigger channel Status has a non-zero initial value of {initial_value} (consider using initial_event=True to detect this event)\n",
            "2800 events found on stim channel Status\n",
            "Event IDs: [65281 65296 65297 65311]\n",
            "Not setting metadata\n",
            "144 matching events found\n",
            "No baseline correction applied\n",
            "0 projection items activated\n",
            "Using data from preloaded Raw for 144 events and 1251 original time points ...\n",
            "0 bad epochs dropped\n",
            "Fitting ICA to data using 32 channels (please be patient, this may take a while)\n"
          ]
        },
        {
          "output_type": "stream",
          "name": "stderr",
          "text": [
            "<ipython-input-25-ceac70ad00ab>:29: RuntimeWarning: The data has not been high-pass filtered. For good ICA performance, it should be high-pass filtered (e.g., with a 1.0 Hz lower bound) before fitting ICA.\n",
            "  ica.fit(epochs)\n"
          ]
        },
        {
          "output_type": "stream",
          "name": "stdout",
          "text": [
            "Selecting by number: 32 components\n",
            "Fitting ICA took 20.3s.\n",
            "Applying ICA to Epochs instance\n",
            "    Transforming to ICA space (32 components)\n",
            "    Zeroing out 0 ICA components\n",
            "    Projecting back using 32 PCA components\n"
          ]
        },
        {
          "output_type": "stream",
          "name": "stderr",
          "text": [
            "<ipython-input-25-ceac70ad00ab>:30: FutureWarning: The current default of copy=False will change to copy=True in 1.7. Set the value of copy explicitly to avoid this warning\n",
            "  features = ica.apply(epochs.copy()).get_data()\n",
            "Processing 2 data: 100%|██████████| 1/1 [01:05<00:00, 65.81s/it]\n",
            "Processing 2 data:   0%|          | 0/1 [00:00<?, ?it/s]"
          ]
        },
        {
          "output_type": "stream",
          "name": "stdout",
          "text": [
            "Extracting EDF parameters from /content/drive/MyDrive/GP/GP-Data/Subjects/S4b_TD1.bdf...\n",
            "BDF file detected\n",
            "Setting channel info structure...\n",
            "Creating raw.info structure...\n",
            "Reading 0 ... 11747327  =      0.000 ...   717.000 secs...\n"
          ]
        },
        {
          "output_type": "stream",
          "name": "stderr",
          "text": [
            "<ipython-input-25-ceac70ad00ab>:16: RuntimeWarning: Fiducial point nasion not found, assuming identity unknown to head transformation\n",
            "  raw.set_montage(custom_montage)\n"
          ]
        },
        {
          "output_type": "stream",
          "name": "stdout",
          "text": [
            "Trigger channel Status has a non-zero initial value of {initial_value} (consider using initial_event=True to detect this event)\n",
            "22479 events found on stim channel Status\n",
            "Event IDs: [65281 65284 65296 65297 65301 65304 65305 65309 65311]\n",
            "Trigger channel Status has a non-zero initial value of {initial_value} (consider using initial_event=True to detect this event)\n",
            "2874 events found on stim channel Status\n",
            "Event IDs: [65281 65296 65297 65301]\n",
            "Not setting metadata\n",
            "146 matching events found\n",
            "No baseline correction applied\n",
            "0 projection items activated\n",
            "Using data from preloaded Raw for 146 events and 1251 original time points ...\n",
            "0 bad epochs dropped\n",
            "Fitting ICA to data using 32 channels (please be patient, this may take a while)\n"
          ]
        },
        {
          "output_type": "stream",
          "name": "stderr",
          "text": [
            "<ipython-input-25-ceac70ad00ab>:29: RuntimeWarning: The data has not been high-pass filtered. For good ICA performance, it should be high-pass filtered (e.g., with a 1.0 Hz lower bound) before fitting ICA.\n",
            "  ica.fit(epochs)\n"
          ]
        },
        {
          "output_type": "stream",
          "name": "stdout",
          "text": [
            "Selecting by number: 32 components\n",
            "Fitting ICA took 27.3s.\n",
            "Applying ICA to Epochs instance\n",
            "    Transforming to ICA space (32 components)\n",
            "    Zeroing out 0 ICA components\n",
            "    Projecting back using 32 PCA components\n"
          ]
        },
        {
          "output_type": "stream",
          "name": "stderr",
          "text": [
            "<ipython-input-25-ceac70ad00ab>:30: FutureWarning: The current default of copy=False will change to copy=True in 1.7. Set the value of copy explicitly to avoid this warning\n",
            "  features = ica.apply(epochs.copy()).get_data()\n",
            "Processing 2 data: 100%|██████████| 1/1 [01:14<00:00, 74.56s/it]\n",
            "Processing 2 data:   0%|          | 0/1 [00:00<?, ?it/s]"
          ]
        },
        {
          "output_type": "stream",
          "name": "stdout",
          "text": [
            "Extracting EDF parameters from /content/drive/MyDrive/GP/GP-Data/Subjects/S5a_TD1.bdf...\n",
            "BDF file detected\n",
            "Setting channel info structure...\n",
            "Creating raw.info structure...\n",
            "Reading 0 ... 11747327  =      0.000 ...   717.000 secs...\n",
            "Trigger channel Status has a non-zero initial value of {initial_value} (consider using initial_event=True to detect this event)\n",
            "22481 events found on stim channel Status\n",
            "Event IDs: [65281 65284 65296 65297 65301 65304 65305 65309 65311]\n"
          ]
        },
        {
          "output_type": "stream",
          "name": "stderr",
          "text": [
            "<ipython-input-25-ceac70ad00ab>:16: RuntimeWarning: Fiducial point nasion not found, assuming identity unknown to head transformation\n",
            "  raw.set_montage(custom_montage)\n"
          ]
        },
        {
          "output_type": "stream",
          "name": "stdout",
          "text": [
            "Trigger channel Status has a non-zero initial value of {initial_value} (consider using initial_event=True to detect this event)\n",
            "2875 events found on stim channel Status\n",
            "Event IDs: [65281 65296 65297 65309]\n",
            "Not setting metadata\n",
            "146 matching events found\n",
            "No baseline correction applied\n",
            "0 projection items activated\n",
            "Using data from preloaded Raw for 146 events and 1251 original time points ...\n",
            "0 bad epochs dropped\n",
            "Fitting ICA to data using 32 channels (please be patient, this may take a while)\n"
          ]
        },
        {
          "output_type": "stream",
          "name": "stderr",
          "text": [
            "<ipython-input-25-ceac70ad00ab>:29: RuntimeWarning: The data has not been high-pass filtered. For good ICA performance, it should be high-pass filtered (e.g., with a 1.0 Hz lower bound) before fitting ICA.\n",
            "  ica.fit(epochs)\n"
          ]
        },
        {
          "output_type": "stream",
          "name": "stdout",
          "text": [
            "Selecting by number: 32 components\n",
            "Fitting ICA took 22.6s.\n",
            "Applying ICA to Epochs instance\n",
            "    Transforming to ICA space (32 components)\n",
            "    Zeroing out 0 ICA components\n",
            "    Projecting back using 32 PCA components\n"
          ]
        },
        {
          "output_type": "stream",
          "name": "stderr",
          "text": [
            "<ipython-input-25-ceac70ad00ab>:30: FutureWarning: The current default of copy=False will change to copy=True in 1.7. Set the value of copy explicitly to avoid this warning\n",
            "  features = ica.apply(epochs.copy()).get_data()\n",
            "Processing 2 data: 100%|██████████| 1/1 [01:07<00:00, 67.08s/it]\n",
            "Processing 2 data:   0%|          | 0/1 [00:00<?, ?it/s]"
          ]
        },
        {
          "output_type": "stream",
          "name": "stdout",
          "text": [
            "Extracting EDF parameters from /content/drive/MyDrive/GP/GP-Data/Subjects/S5b_TD1.bdf...\n",
            "BDF file detected\n",
            "Setting channel info structure...\n",
            "Creating raw.info structure...\n",
            "Reading 0 ... 11665407  =      0.000 ...   712.000 secs...\n",
            "Trigger channel Status has a non-zero initial value of {initial_value} (consider using initial_event=True to detect this event)\n",
            "22485 events found on stim channel Status\n",
            "Event IDs: [65281 65282 65284 65296 65297 65301 65304 65305 65309 65311]\n"
          ]
        },
        {
          "output_type": "stream",
          "name": "stderr",
          "text": [
            "<ipython-input-25-ceac70ad00ab>:16: RuntimeWarning: Fiducial point nasion not found, assuming identity unknown to head transformation\n",
            "  raw.set_montage(custom_montage)\n"
          ]
        },
        {
          "output_type": "stream",
          "name": "stdout",
          "text": [
            "Trigger channel Status has a non-zero initial value of {initial_value} (consider using initial_event=True to detect this event)\n",
            "2831 events found on stim channel Status\n",
            "Event IDs: [65281 65296 65297 65301 65304]\n",
            "Not setting metadata\n",
            "145 matching events found\n",
            "No baseline correction applied\n",
            "0 projection items activated\n",
            "Using data from preloaded Raw for 145 events and 1251 original time points ...\n",
            "0 bad epochs dropped\n",
            "Fitting ICA to data using 32 channels (please be patient, this may take a while)\n"
          ]
        },
        {
          "output_type": "stream",
          "name": "stderr",
          "text": [
            "<ipython-input-25-ceac70ad00ab>:29: RuntimeWarning: The data has not been high-pass filtered. For good ICA performance, it should be high-pass filtered (e.g., with a 1.0 Hz lower bound) before fitting ICA.\n",
            "  ica.fit(epochs)\n"
          ]
        },
        {
          "output_type": "stream",
          "name": "stdout",
          "text": [
            "Selecting by number: 32 components\n",
            "Fitting ICA took 27.1s.\n",
            "Applying ICA to Epochs instance\n",
            "    Transforming to ICA space (32 components)\n",
            "    Zeroing out 0 ICA components\n",
            "    Projecting back using 32 PCA components\n"
          ]
        },
        {
          "output_type": "stream",
          "name": "stderr",
          "text": [
            "<ipython-input-25-ceac70ad00ab>:30: FutureWarning: The current default of copy=False will change to copy=True in 1.7. Set the value of copy explicitly to avoid this warning\n",
            "  features = ica.apply(epochs.copy()).get_data()\n",
            "Processing 2 data: 100%|██████████| 1/1 [01:09<00:00, 69.56s/it]\n",
            "Processing 2 data:   0%|          | 0/1 [00:00<?, ?it/s]"
          ]
        },
        {
          "output_type": "stream",
          "name": "stdout",
          "text": [
            "Extracting EDF parameters from /content/drive/MyDrive/GP/GP-Data/Subjects/S6a_TD1.bdf...\n",
            "BDF file detected\n",
            "Setting channel info structure...\n",
            "Creating raw.info structure...\n",
            "Reading 0 ... 11714559  =      0.000 ...   715.000 secs...\n",
            "Trigger channel Status has a non-zero initial value of {initial_value} (consider using initial_event=True to detect this event)\n",
            "22477 events found on stim channel Status\n",
            "Event IDs: [65281 65284 65296 65297 65301 65304 65305 65309 65311]\n"
          ]
        },
        {
          "output_type": "stream",
          "name": "stderr",
          "text": [
            "<ipython-input-25-ceac70ad00ab>:16: RuntimeWarning: Fiducial point nasion not found, assuming identity unknown to head transformation\n",
            "  raw.set_montage(custom_montage)\n"
          ]
        },
        {
          "output_type": "stream",
          "name": "stdout",
          "text": [
            "Trigger channel Status has a non-zero initial value of {initial_value} (consider using initial_event=True to detect this event)\n",
            "2870 events found on stim channel Status\n",
            "Event IDs: [65281 65282 65296 65297]\n",
            "Not setting metadata\n",
            "145 matching events found\n",
            "No baseline correction applied\n",
            "0 projection items activated\n",
            "Using data from preloaded Raw for 145 events and 1251 original time points ...\n",
            "0 bad epochs dropped\n",
            "Fitting ICA to data using 32 channels (please be patient, this may take a while)\n"
          ]
        },
        {
          "output_type": "stream",
          "name": "stderr",
          "text": [
            "<ipython-input-25-ceac70ad00ab>:29: RuntimeWarning: The data has not been high-pass filtered. For good ICA performance, it should be high-pass filtered (e.g., with a 1.0 Hz lower bound) before fitting ICA.\n",
            "  ica.fit(epochs)\n"
          ]
        },
        {
          "output_type": "stream",
          "name": "stdout",
          "text": [
            "Selecting by number: 32 components\n",
            "Fitting ICA took 27.6s.\n",
            "Applying ICA to Epochs instance\n",
            "    Transforming to ICA space (32 components)\n",
            "    Zeroing out 0 ICA components\n",
            "    Projecting back using 32 PCA components\n"
          ]
        },
        {
          "output_type": "stream",
          "name": "stderr",
          "text": [
            "<ipython-input-25-ceac70ad00ab>:30: FutureWarning: The current default of copy=False will change to copy=True in 1.7. Set the value of copy explicitly to avoid this warning\n",
            "  features = ica.apply(epochs.copy()).get_data()\n",
            "Processing 2 data: 100%|██████████| 1/1 [01:12<00:00, 72.24s/it]\n",
            "Processing 2 data:   0%|          | 0/1 [00:00<?, ?it/s]"
          ]
        },
        {
          "output_type": "stream",
          "name": "stdout",
          "text": [
            "Extracting EDF parameters from /content/drive/MyDrive/GP/GP-Data/Subjects/S6b_TD1.bdf...\n",
            "BDF file detected\n",
            "Setting channel info structure...\n",
            "Creating raw.info structure...\n",
            "Reading 0 ... 11649023  =      0.000 ...   711.000 secs...\n",
            "Trigger channel Status has a non-zero initial value of {initial_value} (consider using initial_event=True to detect this event)\n",
            "22484 events found on stim channel Status\n",
            "Event IDs: [65281 65284 65289 65296 65297 65301 65304 65305 65309 65311]\n"
          ]
        },
        {
          "output_type": "stream",
          "name": "stderr",
          "text": [
            "<ipython-input-25-ceac70ad00ab>:16: RuntimeWarning: Fiducial point nasion not found, assuming identity unknown to head transformation\n",
            "  raw.set_montage(custom_montage)\n"
          ]
        },
        {
          "output_type": "stream",
          "name": "stdout",
          "text": [
            "Trigger channel Status has a non-zero initial value of {initial_value} (consider using initial_event=True to detect this event)\n",
            "2807 events found on stim channel Status\n",
            "Event IDs: [65281 65296 65297]\n",
            "Not setting metadata\n",
            "145 matching events found\n",
            "No baseline correction applied\n",
            "0 projection items activated\n",
            "Using data from preloaded Raw for 145 events and 1251 original time points ...\n",
            "0 bad epochs dropped\n",
            "Fitting ICA to data using 32 channels (please be patient, this may take a while)\n"
          ]
        },
        {
          "output_type": "stream",
          "name": "stderr",
          "text": [
            "<ipython-input-25-ceac70ad00ab>:29: RuntimeWarning: The data has not been high-pass filtered. For good ICA performance, it should be high-pass filtered (e.g., with a 1.0 Hz lower bound) before fitting ICA.\n",
            "  ica.fit(epochs)\n"
          ]
        },
        {
          "output_type": "stream",
          "name": "stdout",
          "text": [
            "Selecting by number: 32 components\n",
            "Fitting ICA took 23.5s.\n",
            "Applying ICA to Epochs instance\n",
            "    Transforming to ICA space (32 components)\n",
            "    Zeroing out 0 ICA components\n",
            "    Projecting back using 32 PCA components\n"
          ]
        },
        {
          "output_type": "stream",
          "name": "stderr",
          "text": [
            "<ipython-input-25-ceac70ad00ab>:30: FutureWarning: The current default of copy=False will change to copy=True in 1.7. Set the value of copy explicitly to avoid this warning\n",
            "  features = ica.apply(epochs.copy()).get_data()\n",
            "Processing 2 data: 100%|██████████| 1/1 [01:07<00:00, 67.33s/it]\n",
            "Processing 2 data:   0%|          | 0/1 [00:00<?, ?it/s]"
          ]
        },
        {
          "output_type": "stream",
          "name": "stdout",
          "text": [
            "Extracting EDF parameters from /content/drive/MyDrive/GP/GP-Data/Subjects/S7a_TD1.bdf...\n",
            "BDF file detected\n",
            "Setting channel info structure...\n",
            "Creating raw.info structure...\n",
            "Reading 0 ... 11616255  =      0.000 ...   709.000 secs...\n",
            "Trigger channel Status has a non-zero initial value of {initial_value} (consider using initial_event=True to detect this event)\n",
            "22473 events found on stim channel Status\n",
            "Event IDs: [65281 65284 65296 65297 65301 65304 65305 65309 65311]\n"
          ]
        },
        {
          "output_type": "stream",
          "name": "stderr",
          "text": [
            "<ipython-input-25-ceac70ad00ab>:16: RuntimeWarning: Fiducial point nasion not found, assuming identity unknown to head transformation\n",
            "  raw.set_montage(custom_montage)\n"
          ]
        },
        {
          "output_type": "stream",
          "name": "stdout",
          "text": [
            "Trigger channel Status has a non-zero initial value of {initial_value} (consider using initial_event=True to detect this event)\n",
            "2868 events found on stim channel Status\n",
            "Event IDs: [65281 65284 65296 65297]\n",
            "Not setting metadata\n",
            "144 matching events found\n",
            "No baseline correction applied\n",
            "0 projection items activated\n",
            "Using data from preloaded Raw for 144 events and 1251 original time points ...\n",
            "0 bad epochs dropped\n",
            "Fitting ICA to data using 32 channels (please be patient, this may take a while)\n"
          ]
        },
        {
          "output_type": "stream",
          "name": "stderr",
          "text": [
            "<ipython-input-25-ceac70ad00ab>:29: RuntimeWarning: The data has not been high-pass filtered. For good ICA performance, it should be high-pass filtered (e.g., with a 1.0 Hz lower bound) before fitting ICA.\n",
            "  ica.fit(epochs)\n"
          ]
        },
        {
          "output_type": "stream",
          "name": "stdout",
          "text": [
            "Selecting by number: 32 components\n",
            "Fitting ICA took 26.1s.\n",
            "Applying ICA to Epochs instance\n",
            "    Transforming to ICA space (32 components)\n",
            "    Zeroing out 0 ICA components\n",
            "    Projecting back using 32 PCA components\n"
          ]
        },
        {
          "output_type": "stream",
          "name": "stderr",
          "text": [
            "<ipython-input-25-ceac70ad00ab>:30: FutureWarning: The current default of copy=False will change to copy=True in 1.7. Set the value of copy explicitly to avoid this warning\n",
            "  features = ica.apply(epochs.copy()).get_data()\n",
            "Processing 2 data: 100%|██████████| 1/1 [01:10<00:00, 70.07s/it]\n",
            "Processing 2 data:   0%|          | 0/1 [00:00<?, ?it/s]"
          ]
        },
        {
          "output_type": "stream",
          "name": "stdout",
          "text": [
            "Extracting EDF parameters from /content/drive/MyDrive/GP/GP-Data/Subjects/S7b_TD1.bdf...\n",
            "BDF file detected\n",
            "Setting channel info structure...\n",
            "Creating raw.info structure...\n",
            "Reading 0 ... 11649023  =      0.000 ...   711.000 secs...\n"
          ]
        },
        {
          "output_type": "stream",
          "name": "stderr",
          "text": [
            "<ipython-input-25-ceac70ad00ab>:16: RuntimeWarning: Fiducial point nasion not found, assuming identity unknown to head transformation\n",
            "  raw.set_montage(custom_montage)\n"
          ]
        },
        {
          "output_type": "stream",
          "name": "stdout",
          "text": [
            "Trigger channel Status has a non-zero initial value of {initial_value} (consider using initial_event=True to detect this event)\n",
            "22485 events found on stim channel Status\n",
            "Event IDs: [65281 65284 65286 65296 65297 65301 65304 65305 65309 65311]\n",
            "Trigger channel Status has a non-zero initial value of {initial_value} (consider using initial_event=True to detect this event)\n",
            "2883 events found on stim channel Status\n",
            "Event IDs: [65281 65296 65297]\n",
            "Not setting metadata\n",
            "145 matching events found\n",
            "No baseline correction applied\n",
            "0 projection items activated\n",
            "Using data from preloaded Raw for 145 events and 1251 original time points ...\n",
            "0 bad epochs dropped\n",
            "Fitting ICA to data using 32 channels (please be patient, this may take a while)\n"
          ]
        },
        {
          "output_type": "stream",
          "name": "stderr",
          "text": [
            "<ipython-input-25-ceac70ad00ab>:29: RuntimeWarning: The data has not been high-pass filtered. For good ICA performance, it should be high-pass filtered (e.g., with a 1.0 Hz lower bound) before fitting ICA.\n",
            "  ica.fit(epochs)\n"
          ]
        },
        {
          "output_type": "stream",
          "name": "stdout",
          "text": [
            "Selecting by number: 32 components\n",
            "Fitting ICA took 22.0s.\n",
            "Applying ICA to Epochs instance\n",
            "    Transforming to ICA space (32 components)\n",
            "    Zeroing out 0 ICA components\n",
            "    Projecting back using 32 PCA components\n"
          ]
        },
        {
          "output_type": "stream",
          "name": "stderr",
          "text": [
            "<ipython-input-25-ceac70ad00ab>:30: FutureWarning: The current default of copy=False will change to copy=True in 1.7. Set the value of copy explicitly to avoid this warning\n",
            "  features = ica.apply(epochs.copy()).get_data()\n",
            "Processing 2 data: 100%|██████████| 1/1 [01:30<00:00, 90.78s/it]\n",
            "Processing 2 data:   0%|          | 0/1 [00:00<?, ?it/s]"
          ]
        },
        {
          "output_type": "stream",
          "name": "stdout",
          "text": [
            "Extracting EDF parameters from /content/drive/MyDrive/GP/GP-Data/Subjects/S8a_TD1.bdf...\n",
            "BDF file detected\n",
            "Setting channel info structure...\n",
            "Creating raw.info structure...\n",
            "Reading 0 ... 11698175  =      0.000 ...   714.000 secs...\n"
          ]
        },
        {
          "output_type": "stream",
          "name": "stderr",
          "text": [
            "<ipython-input-25-ceac70ad00ab>:16: RuntimeWarning: Fiducial point nasion not found, assuming identity unknown to head transformation\n",
            "  raw.set_montage(custom_montage)\n"
          ]
        },
        {
          "output_type": "stream",
          "name": "stdout",
          "text": [
            "Trigger channel Status has a non-zero initial value of {initial_value} (consider using initial_event=True to detect this event)\n",
            "22477 events found on stim channel Status\n",
            "Event IDs: [65281 65284 65296 65297 65301 65304 65305 65309 65311]\n",
            "Trigger channel Status has a non-zero initial value of {initial_value} (consider using initial_event=True to detect this event)\n",
            "2917 events found on stim channel Status\n",
            "Event IDs: [65281 65282 65296 65297]\n",
            "Not setting metadata\n",
            "145 matching events found\n",
            "No baseline correction applied\n",
            "0 projection items activated\n",
            "Using data from preloaded Raw for 145 events and 1251 original time points ...\n",
            "0 bad epochs dropped\n",
            "Fitting ICA to data using 32 channels (please be patient, this may take a while)\n"
          ]
        },
        {
          "output_type": "stream",
          "name": "stderr",
          "text": [
            "<ipython-input-25-ceac70ad00ab>:29: RuntimeWarning: The data has not been high-pass filtered. For good ICA performance, it should be high-pass filtered (e.g., with a 1.0 Hz lower bound) before fitting ICA.\n",
            "  ica.fit(epochs)\n"
          ]
        },
        {
          "output_type": "stream",
          "name": "stdout",
          "text": [
            "Selecting by number: 32 components\n",
            "Fitting ICA took 16.1s.\n",
            "Applying ICA to Epochs instance\n",
            "    Transforming to ICA space (32 components)\n",
            "    Zeroing out 0 ICA components\n",
            "    Projecting back using 32 PCA components\n"
          ]
        },
        {
          "output_type": "stream",
          "name": "stderr",
          "text": [
            "<ipython-input-25-ceac70ad00ab>:30: FutureWarning: The current default of copy=False will change to copy=True in 1.7. Set the value of copy explicitly to avoid this warning\n",
            "  features = ica.apply(epochs.copy()).get_data()\n",
            "Processing 2 data: 100%|██████████| 1/1 [01:06<00:00, 66.32s/it]\n",
            "Processing 2 data:   0%|          | 0/1 [00:00<?, ?it/s]"
          ]
        },
        {
          "output_type": "stream",
          "name": "stdout",
          "text": [
            "Extracting EDF parameters from /content/drive/MyDrive/GP/GP-Data/Subjects/S8b_TD1.bdf...\n",
            "BDF file detected\n",
            "Setting channel info structure...\n",
            "Creating raw.info structure...\n",
            "Reading 0 ... 11960319  =      0.000 ...   730.000 secs...\n",
            "Trigger channel Status has a non-zero initial value of {initial_value} (consider using initial_event=True to detect this event)\n",
            "22482 events found on stim channel Status\n",
            "Event IDs: [65281 65284 65294 65296 65297 65301 65304 65305 65309 65311]\n"
          ]
        },
        {
          "output_type": "stream",
          "name": "stderr",
          "text": [
            "<ipython-input-25-ceac70ad00ab>:16: RuntimeWarning: Fiducial point nasion not found, assuming identity unknown to head transformation\n",
            "  raw.set_montage(custom_montage)\n"
          ]
        },
        {
          "output_type": "stream",
          "name": "stdout",
          "text": [
            "Trigger channel Status has a non-zero initial value of {initial_value} (consider using initial_event=True to detect this event)\n",
            "2854 events found on stim channel Status\n",
            "Event IDs: [65281 65284 65296 65297 65309]\n",
            "Not setting metadata\n",
            "148 matching events found\n",
            "No baseline correction applied\n",
            "0 projection items activated\n",
            "Using data from preloaded Raw for 148 events and 1251 original time points ...\n",
            "0 bad epochs dropped\n",
            "Fitting ICA to data using 32 channels (please be patient, this may take a while)\n"
          ]
        },
        {
          "output_type": "stream",
          "name": "stderr",
          "text": [
            "<ipython-input-25-ceac70ad00ab>:29: RuntimeWarning: The data has not been high-pass filtered. For good ICA performance, it should be high-pass filtered (e.g., with a 1.0 Hz lower bound) before fitting ICA.\n",
            "  ica.fit(epochs)\n"
          ]
        },
        {
          "output_type": "stream",
          "name": "stdout",
          "text": [
            "Selecting by number: 32 components\n",
            "Fitting ICA took 19.2s.\n",
            "Applying ICA to Epochs instance\n",
            "    Transforming to ICA space (32 components)\n",
            "    Zeroing out 0 ICA components\n",
            "    Projecting back using 32 PCA components\n"
          ]
        },
        {
          "output_type": "stream",
          "name": "stderr",
          "text": [
            "<ipython-input-25-ceac70ad00ab>:30: FutureWarning: The current default of copy=False will change to copy=True in 1.7. Set the value of copy explicitly to avoid this warning\n",
            "  features = ica.apply(epochs.copy()).get_data()\n",
            "Processing 2 data: 100%|██████████| 1/1 [01:05<00:00, 65.62s/it]\n",
            "Processing 2 data:   0%|          | 0/1 [00:00<?, ?it/s]"
          ]
        },
        {
          "output_type": "stream",
          "name": "stdout",
          "text": [
            "Extracting EDF parameters from /content/drive/MyDrive/GP/GP-Data/Subjects/S9a_TD1.bdf...\n",
            "BDF file detected\n",
            "Setting channel info structure...\n",
            "Creating raw.info structure...\n",
            "Reading 0 ... 12419071  =      0.000 ...   758.000 secs...\n"
          ]
        },
        {
          "output_type": "stream",
          "name": "stderr",
          "text": [
            "<ipython-input-25-ceac70ad00ab>:16: RuntimeWarning: Fiducial point nasion not found, assuming identity unknown to head transformation\n",
            "  raw.set_montage(custom_montage)\n"
          ]
        },
        {
          "output_type": "stream",
          "name": "stdout",
          "text": [
            "Trigger channel Status has a non-zero initial value of {initial_value} (consider using initial_event=True to detect this event)\n",
            "22485 events found on stim channel Status\n",
            "Event IDs: [65281 65284 65296 65297 65301 65304 65305 65309 65311]\n",
            "Trigger channel Status has a non-zero initial value of {initial_value} (consider using initial_event=True to detect this event)\n",
            "2867 events found on stim channel Status\n",
            "Event IDs: [65281 65296 65297]\n",
            "Not setting metadata\n",
            "154 matching events found\n",
            "No baseline correction applied\n",
            "0 projection items activated\n",
            "Using data from preloaded Raw for 154 events and 1251 original time points ...\n",
            "0 bad epochs dropped\n",
            "Fitting ICA to data using 32 channels (please be patient, this may take a while)\n"
          ]
        },
        {
          "output_type": "stream",
          "name": "stderr",
          "text": [
            "<ipython-input-25-ceac70ad00ab>:29: RuntimeWarning: The data has not been high-pass filtered. For good ICA performance, it should be high-pass filtered (e.g., with a 1.0 Hz lower bound) before fitting ICA.\n",
            "  ica.fit(epochs)\n"
          ]
        },
        {
          "output_type": "stream",
          "name": "stdout",
          "text": [
            "Selecting by number: 32 components\n",
            "Fitting ICA took 21.4s.\n",
            "Applying ICA to Epochs instance\n",
            "    Transforming to ICA space (32 components)\n",
            "    Zeroing out 0 ICA components\n",
            "    Projecting back using 32 PCA components\n"
          ]
        },
        {
          "output_type": "stream",
          "name": "stderr",
          "text": [
            "<ipython-input-25-ceac70ad00ab>:30: FutureWarning: The current default of copy=False will change to copy=True in 1.7. Set the value of copy explicitly to avoid this warning\n",
            "  features = ica.apply(epochs.copy()).get_data()\n",
            "Processing 2 data: 100%|██████████| 1/1 [01:07<00:00, 67.27s/it]\n",
            "Processing 2 data:   0%|          | 0/1 [00:00<?, ?it/s]"
          ]
        },
        {
          "output_type": "stream",
          "name": "stdout",
          "text": [
            "Extracting EDF parameters from /content/drive/MyDrive/GP/GP-Data/Subjects/S10a_TD1.bdf...\n",
            "BDF file detected\n",
            "Setting channel info structure...\n",
            "Creating raw.info structure...\n",
            "Reading 0 ... 11665407  =      0.000 ...   712.000 secs...\n",
            "Trigger channel Status has a non-zero initial value of {initial_value} (consider using initial_event=True to detect this event)\n",
            "22479 events found on stim channel Status\n",
            "Event IDs: [65281 65284 65296 65297 65301 65304 65305 65309 65311]\n"
          ]
        },
        {
          "output_type": "stream",
          "name": "stderr",
          "text": [
            "<ipython-input-25-ceac70ad00ab>:16: RuntimeWarning: Fiducial point nasion not found, assuming identity unknown to head transformation\n",
            "  raw.set_montage(custom_montage)\n"
          ]
        },
        {
          "output_type": "stream",
          "name": "stdout",
          "text": [
            "Trigger channel Status has a non-zero initial value of {initial_value} (consider using initial_event=True to detect this event)\n",
            "2884 events found on stim channel Status\n",
            "Event IDs: [65281 65296 65297 65311]\n",
            "Not setting metadata\n",
            "145 matching events found\n",
            "No baseline correction applied\n",
            "0 projection items activated\n",
            "Using data from preloaded Raw for 145 events and 1251 original time points ...\n",
            "0 bad epochs dropped\n",
            "Fitting ICA to data using 32 channels (please be patient, this may take a while)\n"
          ]
        },
        {
          "output_type": "stream",
          "name": "stderr",
          "text": [
            "<ipython-input-25-ceac70ad00ab>:29: RuntimeWarning: The data has not been high-pass filtered. For good ICA performance, it should be high-pass filtered (e.g., with a 1.0 Hz lower bound) before fitting ICA.\n",
            "  ica.fit(epochs)\n"
          ]
        },
        {
          "output_type": "stream",
          "name": "stdout",
          "text": [
            "Selecting by number: 32 components\n",
            "Fitting ICA took 15.1s.\n",
            "Applying ICA to Epochs instance\n",
            "    Transforming to ICA space (32 components)\n",
            "    Zeroing out 0 ICA components\n",
            "    Projecting back using 32 PCA components\n"
          ]
        },
        {
          "output_type": "stream",
          "name": "stderr",
          "text": [
            "<ipython-input-25-ceac70ad00ab>:30: FutureWarning: The current default of copy=False will change to copy=True in 1.7. Set the value of copy explicitly to avoid this warning\n",
            "  features = ica.apply(epochs.copy()).get_data()\n",
            "Processing 2 data: 100%|██████████| 1/1 [01:07<00:00, 67.18s/it]\n",
            "Processing 2 data:   0%|          | 0/1 [00:00<?, ?it/s]"
          ]
        },
        {
          "output_type": "stream",
          "name": "stdout",
          "text": [
            "Extracting EDF parameters from /content/drive/MyDrive/GP/GP-Data/Subjects/S9b_TD2.bdf...\n",
            "BDF file detected\n",
            "Setting channel info structure...\n",
            "Creating raw.info structure...\n",
            "Reading 0 ... 12795903  =      0.000 ...   781.000 secs...\n",
            "Trigger channel Status has a non-zero initial value of {initial_value} (consider using initial_event=True to detect this event)\n"
          ]
        },
        {
          "output_type": "stream",
          "name": "stderr",
          "text": [
            "<ipython-input-25-ceac70ad00ab>:16: RuntimeWarning: Fiducial point nasion not found, assuming identity unknown to head transformation\n",
            "  raw.set_montage(custom_montage)\n"
          ]
        },
        {
          "output_type": "stream",
          "name": "stdout",
          "text": [
            "22482 events found on stim channel Status\n",
            "Event IDs: [65281 65284 65295 65296 65297 65301 65304 65305 65309 65311]\n",
            "Trigger channel Status has a non-zero initial value of {initial_value} (consider using initial_event=True to detect this event)\n",
            "2885 events found on stim channel Status\n",
            "Event IDs: [65281 65288 65296 65297 65309]\n",
            "Not setting metadata\n",
            "159 matching events found\n",
            "No baseline correction applied\n",
            "0 projection items activated\n",
            "Using data from preloaded Raw for 159 events and 1251 original time points ...\n",
            "0 bad epochs dropped\n",
            "Fitting ICA to data using 32 channels (please be patient, this may take a while)\n"
          ]
        },
        {
          "output_type": "stream",
          "name": "stderr",
          "text": [
            "<ipython-input-25-ceac70ad00ab>:29: RuntimeWarning: The data has not been high-pass filtered. For good ICA performance, it should be high-pass filtered (e.g., with a 1.0 Hz lower bound) before fitting ICA.\n",
            "  ica.fit(epochs)\n"
          ]
        },
        {
          "output_type": "stream",
          "name": "stdout",
          "text": [
            "Selecting by number: 32 components\n",
            "Fitting ICA took 33.4s.\n",
            "Applying ICA to Epochs instance\n",
            "    Transforming to ICA space (32 components)\n",
            "    Zeroing out 0 ICA components\n",
            "    Projecting back using 32 PCA components\n"
          ]
        },
        {
          "output_type": "stream",
          "name": "stderr",
          "text": [
            "<ipython-input-25-ceac70ad00ab>:30: FutureWarning: The current default of copy=False will change to copy=True in 1.7. Set the value of copy explicitly to avoid this warning\n",
            "  features = ica.apply(epochs.copy()).get_data()\n",
            "Processing 2 data: 100%|██████████| 1/1 [01:18<00:00, 78.99s/it]\n",
            "Processing 2 data:   0%|          | 0/1 [00:00<?, ?it/s]"
          ]
        },
        {
          "output_type": "stream",
          "name": "stdout",
          "text": [
            "Extracting EDF parameters from /content/drive/MyDrive/GP/GP-Data/Subjects/S10b_TD1.bdf...\n",
            "BDF file detected\n",
            "Setting channel info structure...\n",
            "Creating raw.info structure...\n",
            "Reading 0 ... 11599871  =      0.000 ...   708.000 secs...\n",
            "Trigger channel Status has a non-zero initial value of {initial_value} (consider using initial_event=True to detect this event)\n",
            "22489 events found on stim channel Status\n",
            "Event IDs: [65281 65284 65296 65297 65301 65304 65305 65309 65311]\n"
          ]
        },
        {
          "output_type": "stream",
          "name": "stderr",
          "text": [
            "<ipython-input-25-ceac70ad00ab>:16: RuntimeWarning: Fiducial point nasion not found, assuming identity unknown to head transformation\n",
            "  raw.set_montage(custom_montage)\n"
          ]
        },
        {
          "output_type": "stream",
          "name": "stdout",
          "text": [
            "Trigger channel Status has a non-zero initial value of {initial_value} (consider using initial_event=True to detect this event)\n",
            "2920 events found on stim channel Status\n",
            "Event IDs: [65281 65296 65297 65311]\n",
            "Not setting metadata\n",
            "144 matching events found\n",
            "No baseline correction applied\n",
            "0 projection items activated\n",
            "Using data from preloaded Raw for 144 events and 1251 original time points ...\n",
            "0 bad epochs dropped\n",
            "Fitting ICA to data using 32 channels (please be patient, this may take a while)\n"
          ]
        },
        {
          "output_type": "stream",
          "name": "stderr",
          "text": [
            "<ipython-input-25-ceac70ad00ab>:29: RuntimeWarning: The data has not been high-pass filtered. For good ICA performance, it should be high-pass filtered (e.g., with a 1.0 Hz lower bound) before fitting ICA.\n",
            "  ica.fit(epochs)\n"
          ]
        },
        {
          "output_type": "stream",
          "name": "stdout",
          "text": [
            "Selecting by number: 32 components\n",
            "Fitting ICA took 31.2s.\n",
            "Applying ICA to Epochs instance\n",
            "    Transforming to ICA space (32 components)\n",
            "    Zeroing out 0 ICA components\n",
            "    Projecting back using 32 PCA components\n"
          ]
        },
        {
          "output_type": "stream",
          "name": "stderr",
          "text": [
            "<ipython-input-25-ceac70ad00ab>:30: FutureWarning: The current default of copy=False will change to copy=True in 1.7. Set the value of copy explicitly to avoid this warning\n",
            "  features = ica.apply(epochs.copy()).get_data()\n",
            "Processing 2 data: 100%|██████████| 1/1 [01:16<00:00, 76.82s/it]\n"
          ]
        }
      ]
    },
    {
      "cell_type": "code",
      "source": [
        "# # Combine epoch arrays for different classes into a single list\n",
        "data_list = haemorrhage_epochs_array + ischaemia_epochs_array + subject_epochs_array\n",
        "label_list = haemorrhage_epochs_label + ischaemia_epochs_label + subject_epochs_label\n"
      ],
      "metadata": {
        "id": "o0M562gEWQv5"
      },
      "execution_count": null,
      "outputs": []
    },
    {
      "cell_type": "code",
      "source": [
        "# Stack the data, labels, and groups into numpy arrays\n",
        "data_array =  np.array(data_list)\n",
        "label_array = np.hstack(label_list)\n",
        "# group_array = np.hstack(groups_list)\n",
        "\n",
        "# Move the axis to make the data suitable for input into a deep learning model\n",
        "data_array = np.swapaxes(data_array, 1, 2)\n",
        "\n",
        "# Print the shapes of the resulting arrays\n",
        "print(data_array.shape, label_array.shape)"
      ],
      "metadata": {
        "colab": {
          "base_uri": "https://localhost:8080/"
        },
        "id": "cE2_XUotb3vB",
        "outputId": "fd12e287-a5eb-4524-8f24-a5fa06e6f2a4"
      },
      "execution_count": null,
      "outputs": [
        {
          "output_type": "stream",
          "name": "stdout",
          "text": [
            "(45, 32, 32) (45,)\n"
          ]
        }
      ]
    }
  ]
}
