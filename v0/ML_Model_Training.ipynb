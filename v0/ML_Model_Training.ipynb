{
  "cells": [
    {
      "cell_type": "markdown",
      "metadata": {
        "id": "view-in-github",
        "colab_type": "text"
      },
      "source": [
        "<a href=\"https://colab.research.google.com/github/maimonahST/GP/blob/main/ML_Model_Training.ipynb\" target=\"_parent\"><img src=\"https://colab.research.google.com/assets/colab-badge.svg\" alt=\"Open In Colab\"/></a>"
      ]
    },
    {
      "cell_type": "code",
      "source": [
        "from google.colab import drive\n",
        "drive.mount('/content/drive')"
      ],
      "metadata": {
        "colab": {
          "base_uri": "https://localhost:8080/"
        },
        "id": "K1uKM66sFiBM",
        "outputId": "37f89d5f-6f45-4d21-8843-fb782e6ef8c4"
      },
      "execution_count": null,
      "outputs": [
        {
          "output_type": "stream",
          "name": "stdout",
          "text": [
            "Drive already mounted at /content/drive; to attempt to forcibly remount, call drive.mount(\"/content/drive\", force_remount=True).\n"
          ]
        }
      ]
    },
    {
      "cell_type": "code",
      "execution_count": null,
      "metadata": {
        "colab": {
          "base_uri": "https://localhost:8080/"
        },
        "id": "H5z2s-fDJ9UL",
        "outputId": "088b0a27-a422-4ffd-cc73-2f19d16fe561"
      },
      "outputs": [
        {
          "output_type": "stream",
          "name": "stdout",
          "text": [
            "(7150, 1250, 33) (7150,) (7150,)\n"
          ]
        }
      ],
      "source": [
        "import numpy as np\n",
        "data_array = np.load('/content/drive/MyDrive/GP-Data/data_array.npy')\n",
        "label_array = np.load('/content/drive/MyDrive/GP-Data/label_array.npy')\n",
        "group_array = np.load('/content/drive/MyDrive/GP-Data/group_array.npy')\n",
        "\n",
        "\n",
        "print(data_array.shape,label_array.shape,group_array.shape)"
      ]
    },
    {
      "cell_type": "code",
      "execution_count": null,
      "metadata": {
        "id": "xfbFdc04KDSC"
      },
      "outputs": [],
      "source": [
        "# convert the problem from multiclass classification to binary classification\n",
        "# make haemorrhage and schaemia classes as one\n",
        "label_array = label_array.astype('int')\n",
        "label_array[label_array==0] = 1\n",
        "label_array[label_array==2] = 0"
      ]
    },
    {
      "cell_type": "code",
      "execution_count": null,
      "metadata": {
        "id": "hHHcsuxbKoaY"
      },
      "outputs": [],
      "source": [
        "from sklearn.model_selection import GroupKFold,LeaveOneGroupOut\n",
        "from sklearn.preprocessing import StandardScaler\n",
        "gkf=GroupKFold()\n",
        "from sklearn.base import TransformerMixin,BaseEstimator\n",
        "from sklearn.preprocessing import StandardScaler\n",
        "class StandardScaler3D(BaseEstimator,TransformerMixin):\n",
        "    #batch, sequence, channels\n",
        "    def __init__(self):\n",
        "        self.scaler = StandardScaler()\n",
        "\n",
        "    def fit(self,X,y=None):\n",
        "        self.scaler.fit(X.reshape(-1, X.shape[2]))\n",
        "        return self\n",
        "\n",
        "    def transform(self,X):\n",
        "        return self.scaler.transform(X.reshape( -1,X.shape[2])).reshape(X.shape)"
      ]
    },
    {
      "cell_type": "code",
      "execution_count": null,
      "metadata": {
        "id": "iw_FCHwaKsjy"
      },
      "outputs": [],
      "source": [
        "# Split data_array into train and validate\n",
        "train_groups = []\n",
        "for train_index, val_index in gkf.split(data_array, label_array, groups=group_array):\n",
        "    train_features, train_label = data_array[train_index],label_array[train_index]\n",
        "    val_features, val_labels = data_array[val_index],label_array[val_index]\n",
        "    train_groups = group_array[train_index]\n",
        "    scaler=StandardScaler3D()\n",
        "    train_features=scaler.fit_transform(train_features)\n",
        "    val_features=scaler.transform(val_features)\n",
        "    break"
      ]
    },
    {
      "cell_type": "code",
      "execution_count": null,
      "metadata": {
        "id": "b3ZaS0QFKuzo"
      },
      "outputs": [],
      "source": [
        "# Split train_features into train and test\n",
        "for train_index, test_index in gkf.split(train_features, train_label, groups= train_groups):\n",
        "    train_features,train_labels=data_array[train_index],label_array[train_index]\n",
        "    test_features,test_labels=data_array[test_index],label_array[test_index]\n",
        "\n",
        "    break"
      ]
    },
    {
      "cell_type": "code",
      "execution_count": null,
      "metadata": {
        "colab": {
          "base_uri": "https://localhost:8080/"
        },
        "id": "f5SxBTZ8LAZs",
        "outputId": "c0533f8b-24e4-40e3-bbe1-5b0d358aa4a5"
      },
      "outputs": [
        {
          "output_type": "stream",
          "name": "stdout",
          "text": [
            "train_p: 0.6419101731601732, test_p: 0.1672077922077922, val_p: 0.19088203463203463\n",
            "total:  1.0\n"
          ]
        }
      ],
      "source": [
        "# data spliting percentage\n",
        "train_p = train_features.shape[0]/data_array.shape[0]\n",
        "test_p = test_features.shape[0]/data_array.shape[0]\n",
        "val_p = val_features.shape[0]/data_array.shape[0]\n",
        "\n",
        "print(f'train_p: {train_p}, test_p: {test_p}, val_p: {val_p}')\n",
        "\n",
        "print(\"total: \",train_p + test_p + val_p)"
      ]
    },
    {
      "cell_type": "code",
      "source": [
        "# Reshape data for compatibility with classifiers\n",
        "train_features = train_features.reshape(train_features.shape[0], -1)\n",
        "test_features = test_features.reshape(test_features.shape[0], -1)\n",
        "val_features = val_features.reshape(val_features.shape[0], -1)"
      ],
      "metadata": {
        "id": "iD05VHa-vT_6"
      },
      "execution_count": null,
      "outputs": []
    },
    {
      "cell_type": "code",
      "execution_count": null,
      "metadata": {
        "colab": {
          "base_uri": "https://localhost:8080/"
        },
        "id": "K44nQvmwcLry",
        "outputId": "413e1c6c-7f36-4f89-ff5e-e0d79bd15f3c"
      },
      "outputs": [
        {
          "output_type": "stream",
          "name": "stdout",
          "text": [
            "Random Forest Validation Accuracy: 1.0\n",
            "Classification Report (Validation):\n",
            "               precision    recall  f1-score   support\n",
            "\n",
            "           0       1.00      1.00      1.00       435\n",
            "           1       1.00      1.00      1.00       976\n",
            "\n",
            "    accuracy                           1.00      1411\n",
            "   macro avg       1.00      1.00      1.00      1411\n",
            "weighted avg       1.00      1.00      1.00      1411\n",
            "\n",
            "Random Forest Test Accuracy: 0.9878640776699029\n",
            "Classification Report (Test):\n",
            "               precision    recall  f1-score   support\n",
            "\n",
            "           0       1.00      0.97      0.98       435\n",
            "           1       0.98      1.00      0.99       801\n",
            "\n",
            "    accuracy                           0.99      1236\n",
            "   macro avg       0.99      0.98      0.99      1236\n",
            "weighted avg       0.99      0.99      0.99      1236\n",
            "\n"
          ]
        }
      ],
      "source": [
        "from sklearn.ensemble import RandomForestClassifier\n",
        "from sklearn.metrics import accuracy_score, classification_report\n",
        "\n",
        "# Build and train Random Forest Classifier\n",
        "rf_classifier = RandomForestClassifier(n_estimators=100, random_state=42)\n",
        "rf_classifier.fit(train_features, train_labels)\n",
        "\n",
        "# Predictions on the validation set\n",
        "rf_val_predictions = rf_classifier.predict(val_features)\n",
        "rf_val_accuracy = accuracy_score(val_labels, rf_val_predictions)\n",
        "print(\"Random Forest Validation Accuracy:\", rf_val_accuracy)\n",
        "print(\"Classification Report (Validation):\\n\", classification_report(val_labels, rf_val_predictions))\n",
        "\n",
        "# Predictions on the test set\n",
        "rf_test_predictions = rf_classifier.predict(test_features)\n",
        "rf_test_accuracy = accuracy_score(test_labels, rf_test_predictions)\n",
        "print(\"Random Forest Test Accuracy:\", rf_test_accuracy)\n",
        "print(\"Classification Report (Test):\\n\", classification_report(test_labels, rf_test_predictions))"
      ]
    },
    {
      "cell_type": "code",
      "execution_count": null,
      "metadata": {
        "colab": {
          "base_uri": "https://localhost:8080/",
          "height": 564
        },
        "id": "2HMUAUF6gCV6",
        "outputId": "0ec8a24a-9828-48cc-d93c-10a8e7977bf5"
      },
      "outputs": [
        {
          "output_type": "display_data",
          "data": {
            "text/plain": [
              "<Figure size 800x600 with 1 Axes>"
            ],
            "image/png": "[encoded data removed]"
          },
          "metadata": {}
        }
      ],
      "source": [
        "from sklearn.metrics import confusion_matrix\n",
        "import matplotlib.pyplot as plt\n",
        "import seaborn as sns\n",
        "\n",
        "# Compute the confusion matrix\n",
        "cm = confusion_matrix(test_labels, rf_test_predictions)\n",
        "\n",
        "# Plot the confusion matrix\n",
        "plt.figure(figsize=(8, 6))\n",
        "sns.heatmap(cm, annot=True, fmt=\"d\", cmap=\"Blues\", cbar=False)\n",
        "plt.xlabel(\"Predicted Label\")\n",
        "plt.ylabel(\"True Label\")\n",
        "plt.title(\"Confusion Matrix for Random Forest (Test Set)\")\n",
        "plt.show()"
      ]
    },
    {
      "cell_type": "code",
      "execution_count": null,
      "metadata": {
        "id": "efpJ1jVMD1TF",
        "colab": {
          "base_uri": "https://localhost:8080/"
        },
        "outputId": "42fee440-78da-4c17-e80e-b063f998bf57"
      },
      "outputs": [
        {
          "output_type": "execute_result",
          "data": {
            "text/plain": [
              "['/content/drive/MyDrive/GP_Models/RF.joblib']"
            ]
          },
          "metadata": {},
          "execution_count": 13
        }
      ],
      "source": [
        "from joblib import dump, load\n",
        "\n",
        "dump(rf_classifier, '/content/drive/MyDrive/GP_Models/RF.joblib')"
      ]
    },
    {
      "cell_type": "code",
      "execution_count": null,
      "metadata": {
        "colab": {
          "base_uri": "https://localhost:8080/"
        },
        "id": "ggQjfxrWGNwR",
        "outputId": "6074a324-dba7-4c4d-df5a-eb9ea7784cbe"
      },
      "outputs": [
        {
          "output_type": "stream",
          "name": "stdout",
          "text": [
            "Decision Tree Validation Accuracy: 0.7987243090007087\n",
            "Classification Report (Validation):\n",
            "               precision    recall  f1-score   support\n",
            "\n",
            "           0       0.67      0.68      0.68       435\n",
            "           1       0.86      0.85      0.85       976\n",
            "\n",
            "    accuracy                           0.80      1411\n",
            "   macro avg       0.76      0.77      0.77      1411\n",
            "weighted avg       0.80      0.80      0.80      1411\n",
            "\n",
            "Decision Tree Test Accuracy: 0.9838187702265372\n",
            "Classification Report (Test):\n",
            "               precision    recall  f1-score   support\n",
            "\n",
            "           0       1.00      0.96      0.98       435\n",
            "           1       0.98      1.00      0.99       801\n",
            "\n",
            "    accuracy                           0.98      1236\n",
            "   macro avg       0.99      0.98      0.98      1236\n",
            "weighted avg       0.98      0.98      0.98      1236\n",
            "\n"
          ]
        }
      ],
      "source": [
        "from sklearn.tree import DecisionTreeClassifier\n",
        "# Build and train Decision Tree Classifier\n",
        "dt_classifier = DecisionTreeClassifier(random_state=42)\n",
        "dt_classifier.fit(train_features, train_labels)\n",
        "\n",
        "# Predictions on the validation set\n",
        "dt_val_predictions = dt_classifier.predict(val_features)\n",
        "dt_val_accuracy = accuracy_score(val_labels, dt_val_predictions)\n",
        "print(\"Decision Tree Validation Accuracy:\", dt_val_accuracy)\n",
        "print(\"Classification Report (Validation):\\n\", classification_report(val_labels, dt_val_predictions))\n",
        "\n",
        "# Predictions on the test set\n",
        "dt_test_predictions = dt_classifier.predict(test_features)\n",
        "dt_test_accuracy = accuracy_score(test_labels, dt_test_predictions)\n",
        "print(\"Decision Tree Test Accuracy:\", dt_test_accuracy)\n",
        "print(\"Classification Report (Test):\\n\", classification_report(test_labels, dt_test_predictions))"
      ]
    },
    {
      "cell_type": "code",
      "execution_count": null,
      "metadata": {
        "colab": {
          "base_uri": "https://localhost:8080/",
          "height": 564
        },
        "id": "LSyXkzhug2fQ",
        "outputId": "df8c5ce8-98a6-44f7-adcf-7ddd46390895"
      },
      "outputs": [
        {
          "output_type": "display_data",
          "data": {
            "text/plain": [
              "<Figure size 800x600 with 1 Axes>"
            ],
            "image/png": "[encoded data removed]"
          },
          "metadata": {}
        }
      ],
      "source": [
        "# Compute the confusion matrix for the test set\n",
        "cm_test = confusion_matrix(test_labels, dt_test_predictions)\n",
        "\n",
        "# Plot the confusion matrix for the test set\n",
        "plt.figure(figsize=(8, 6))\n",
        "sns.heatmap(cm_test, annot=True, fmt=\"d\", cmap=\"Blues\", cbar=False)\n",
        "plt.xlabel(\"Predicted Label\")\n",
        "plt.ylabel(\"True Label\")\n",
        "plt.title(\"Confusion Matrix for Decision Tree (Test Set)\")\n",
        "plt.show()\n"
      ]
    },
    {
      "cell_type": "code",
      "source": [
        "from joblib import dump, load\n",
        "\n",
        "dump(dt_classifier, '/content/drive/MyDrive/GP_Models/DT.joblib')"
      ],
      "metadata": {
        "colab": {
          "base_uri": "https://localhost:8080/"
        },
        "id": "uY4fCWILS7_0",
        "outputId": "7efbbcb5-882a-4ddd-a925-f884790a511d"
      },
      "execution_count": null,
      "outputs": [
        {
          "output_type": "execute_result",
          "data": {
            "text/plain": [
              "['/content/drive/MyDrive/GP_Models/DT.joblib']"
            ]
          },
          "metadata": {},
          "execution_count": 16
        }
      ]
    },
    {
      "cell_type": "code",
      "source": [
        "from sklearn.ensemble import AdaBoostClassifier\n",
        "\n",
        "# Build and train AdaBoost Classifier\n",
        "adaboost_classifier = AdaBoostClassifier(random_state=42)\n",
        "adaboost_classifier.fit(train_features, train_labels)\n",
        "\n",
        "# Predictions on the validation set\n",
        "adaboost_val_predictions = adaboost_classifier.predict(val_features)\n",
        "adaboost_val_accuracy = accuracy_score(val_labels, adaboost_val_predictions)\n",
        "print(\"AdaBoost Validation Accuracy:\", adaboost_val_accuracy)\n",
        "print(\"Classification Report (Validation):\\n\", classification_report(val_labels, adaboost_val_predictions))\n",
        "\n",
        "# Predictions on the test set\n",
        "adaboost_test_predictions = adaboost_classifier.predict(test_features)\n",
        "adaboost_test_accuracy = accuracy_score(test_labels, adaboost_test_predictions)\n",
        "print(\"AdaBoost Test Accuracy:\", adaboost_test_accuracy)\n",
        "print(\"Classification Report (Test):\\n\", classification_report(test_labels, adaboost_test_predictions))"
      ],
      "metadata": {
        "colab": {
          "base_uri": "https://localhost:8080/"
        },
        "id": "SuPKtWf3TmgG",
        "outputId": "a111905d-7576-477f-c07f-fbae64d46987"
      },
      "execution_count": null,
      "outputs": [
        {
          "output_type": "stream",
          "name": "stdout",
          "text": [
            "AdaBoost Validation Accuracy: 0.703756201275691\n",
            "Classification Report (Validation):\n",
            "               precision    recall  f1-score   support\n",
            "\n",
            "           0       1.00      0.04      0.08       435\n",
            "           1       0.70      1.00      0.82       976\n",
            "\n",
            "    accuracy                           0.70      1411\n",
            "   macro avg       0.85      0.52      0.45      1411\n",
            "weighted avg       0.79      0.70      0.59      1411\n",
            "\n",
            "AdaBoost Test Accuracy: 0.988673139158576\n",
            "Classification Report (Test):\n",
            "               precision    recall  f1-score   support\n",
            "\n",
            "           0       1.00      0.97      0.98       435\n",
            "           1       0.98      1.00      0.99       801\n",
            "\n",
            "    accuracy                           0.99      1236\n",
            "   macro avg       0.99      0.98      0.99      1236\n",
            "weighted avg       0.99      0.99      0.99      1236\n",
            "\n"
          ]
        }
      ]
    },
    {
      "cell_type": "code",
      "source": [
        "from sklearn.metrics import confusion_matrix\n",
        "import matplotlib.pyplot as plt\n",
        "import seaborn as sns\n",
        "\n",
        "# Compute the confusion matrix\n",
        "cm = confusion_matrix(test_labels, adaboost_test_predictions)\n",
        "\n",
        "# Plot the confusion matrix\n",
        "plt.figure(figsize=(8, 6))\n",
        "sns.heatmap(cm, annot=True, fmt=\"d\", cmap=\"Blues\", cbar=False)\n",
        "plt.xlabel(\"Predicted Label\")\n",
        "plt.ylabel(\"True Label\")\n",
        "plt.title(\"Confusion Matrix for Adaboost (Test Set)\")\n",
        "plt.show()"
      ],
      "metadata": {
        "colab": {
          "base_uri": "https://localhost:8080/",
          "height": 564
        },
        "id": "KgTMqFedaQ6y",
        "outputId": "20cbb9cd-306d-463a-b3a6-4fc4dbae0f1e"
      },
      "execution_count": null,
      "outputs": [
        {
          "output_type": "display_data",
          "data": {
            "text/plain": [
              "<Figure size 800x600 with 1 Axes>"
            ],
            "image/png": "[encoded data removed]"
          },
          "metadata": {}
        }
      ]
    },
    {
      "cell_type": "code",
      "source": [
        "from joblib import dump, load\n",
        "\n",
        "dump(adaboost_classifier, '/content/drive/MyDrive/GP_Models/Adaboost.joblib')"
      ],
      "metadata": {
        "colab": {
          "base_uri": "https://localhost:8080/"
        },
        "id": "FQHvMKt5alfD",
        "outputId": "2f48d7ba-8353-43cb-94eb-1fba54b8353f"
      },
      "execution_count": null,
      "outputs": [
        {
          "output_type": "execute_result",
          "data": {
            "text/plain": [
              "['/content/drive/MyDrive/GP_Models/Adaboost.joblib']"
            ]
          },
          "metadata": {},
          "execution_count": 22
        }
      ]
    }
  ],
  "metadata": {
    "accelerator": "GPU",
    "colab": {
      "gpuType": "T4",
      "machine_shape": "hm",
      "provenance": [],
      "mount_file_id": "1WQybM6-MP8fOdiGJYpcscUwU1GYhcywa",
      "authorship_tag": "ABX9TyOL/TbqRvfJwycm096Oyq1W",
      "include_colab_link": true
    },
    "kernelspec": {
      "display_name": "Python 3",
      "name": "python3"
    },
    "language_info": {
      "name": "python"
    }
  },
  "nbformat": 4,
  "nbformat_minor": 0
}
