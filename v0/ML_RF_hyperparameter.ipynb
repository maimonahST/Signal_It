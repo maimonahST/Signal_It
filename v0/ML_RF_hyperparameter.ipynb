{
  "cells": [
    {
      "cell_type": "code",
      "execution_count": 1,
      "metadata": {
        "id": "WLMyImcqaGIo"
      },
      "outputs": [],
      "source": [
        "from sklearn.metrics import confusion_matrix\n",
        "from sklearn.metrics import accuracy_score, classification_report\n",
        "import matplotlib.pyplot as plt\n",
        "import seaborn as sns\n",
        "from glob import glob\n",
        "import scipy.io\n",
        "import torch.nn as nn\n",
        "import torch\n",
        "import numpy as np\n",
        "from sklearn.model_selection import GroupKFold,LeaveOneGroupOut\n",
        "from sklearn.preprocessing import StandardScaler\n",
        "from sklearn.base import TransformerMixin,BaseEstimator\n",
        "from sklearn.metrics import confusion_matrix, ConfusionMatrixDisplay\n",
        "from sklearn.metrics import ConfusionMatrixDisplay"
      ]
    },
    {
      "cell_type": "code",
      "execution_count": 2,
      "metadata": {
        "colab": {
          "base_uri": "https://localhost:8080/"
        },
        "id": "85zZDDBGaOo0",
        "outputId": "f98cbf9a-a9ed-49f4-a47d-bef48a376a83"
      },
      "outputs": [
        {
          "output_type": "stream",
          "name": "stdout",
          "text": [
            "Mounted at /content/drive\n"
          ]
        }
      ],
      "source": [
        "from google.colab import drive\n",
        "drive.mount('/content/drive')"
      ]
    },
    {
      "cell_type": "code",
      "execution_count": 3,
      "metadata": {
        "colab": {
          "base_uri": "https://localhost:8080/"
        },
        "id": "e35wwgOzaROL",
        "outputId": "5179d1d3-5b1b-4e10-bdd6-2c89ed6e212f"
      },
      "outputs": [
        {
          "output_type": "stream",
          "name": "stdout",
          "text": [
            "(7150, 1250, 33) (7150,) (7150,)\n"
          ]
        }
      ],
      "source": [
        "from glob import glob\n",
        "import scipy.io\n",
        "import torch.nn as nn\n",
        "import torch\n",
        "import numpy as np\n",
        "\n",
        "data_array = np.load('/content/drive/MyDrive/Colab Notebooks/data_array.npy')\n",
        "label_array = np.load('/content/drive/MyDrive/Colab Notebooks/label_array.npy')\n",
        "group_array = np.load('/content/drive/MyDrive/Colab Notebooks/group_array.npy')\n",
        "\n",
        "print(data_array.shape,label_array.shape,group_array.shape)"
      ]
    },
    {
      "cell_type": "code",
      "execution_count": 4,
      "metadata": {
        "colab": {
          "base_uri": "https://localhost:8080/"
        },
        "id": "a9iYiX4aaaYZ",
        "outputId": "2d4ba05a-f616-4752-c96f-a6b46b741982"
      },
      "outputs": [
        {
          "output_type": "stream",
          "name": "stdout",
          "text": [
            "group=[ 0  1  2  3  4  5  6  7  8 10 11 12 13 15 16 18 19 20 22 23 25 27 28 29\n",
            " 30 31 34 36 37 38 39 40 41 42 43 44 45 46 47]\n",
            "group=[ 9 14 17 21 24 26 32 33 35]\n"
          ]
        }
      ],
      "source": [
        "gkf=GroupKFold()\n",
        "class StandardScaler3D(BaseEstimator,TransformerMixin):\n",
        "    #batch, sequence, channels\n",
        "    def __init__(self):\n",
        "        self.scaler = StandardScaler()\n",
        "\n",
        "    def fit(self,X,y=None):\n",
        "        self.scaler.fit(X.reshape(-1, X.shape[2]))\n",
        "        return self\n",
        "\n",
        "    def transform(self,X):\n",
        "        return self.scaler.transform(X.reshape( -1,X.shape[2])).reshape(X.shape)\n",
        "\n",
        "\n",
        "def three_splits(data_array , label_array, group_array):\n",
        "\n",
        "  # Split data_array into train and validate\n",
        "  train_groups = []\n",
        "  for train_index, test_index in gkf.split(data_array, label_array, groups=group_array):\n",
        "      train_features, train_label = data_array[train_index],label_array[train_index]\n",
        "      X_test, y_test =data_array[test_index],label_array[test_index]\n",
        "      train_groups = group_array[train_index]\n",
        "\n",
        "      scaler=StandardScaler3D()\n",
        "      train_features=scaler.fit_transform(train_features)\n",
        "      X_test=scaler.transform(X_test)\n",
        "\n",
        "      print(f\"group={np.unique(group_array[train_index])}\")\n",
        "      print(f\"group={np.unique(group_array[test_index])}\")\n",
        "      break\n",
        "\n",
        "  # Split train_features into train and val\n",
        "  for train_index, val_index in gkf.split(train_features, train_label, groups= train_groups):\n",
        "      X_train, y_train =train_features[train_index],train_label[train_index]\n",
        "      X_val, y_val =train_features[val_index],train_label[val_index]\n",
        "\n",
        "      print(f\"group={np.unique(group_array[train_index])}\")\n",
        "      print(f\"group={np.unique(group_array[val_index])}\")\n",
        "\n",
        "      break\n",
        "\n",
        "  return X_train, X_val, X_test, y_train, y_val, y_test\n",
        "\n",
        "\n",
        "\n",
        "\n",
        "def two_splits(data_array , label_array, group_array):\n",
        "\n",
        "  # Split data_array into train and validate\n",
        "  train_groups = []\n",
        "  for train_index, test_index in gkf.split(data_array, label_array, groups=group_array):\n",
        "      X_train, y_train = data_array[train_index],label_array[train_index]\n",
        "      X_test, y_test =data_array[test_index],label_array[test_index]\n",
        "      train_groups = group_array[train_index]\n",
        "\n",
        "      scaler=StandardScaler3D()\n",
        "      X_train=scaler.fit_transform(X_train)\n",
        "      X_test=scaler.transform(X_test)\n",
        "\n",
        "      print(f\"group={np.unique(group_array[train_index])}\")\n",
        "      print(f\"group={np.unique(group_array[test_index])}\")\n",
        "      break\n",
        "\n",
        "  return X_train, X_test, y_train, y_test\n",
        "\n",
        "\n",
        "# X_train, X_val, X_test, y_train, y_val, y_test = three_splits(data_array , label_array, group_array)\n",
        "\n",
        "X_train, X_test, y_train, y_test = two_splits(data_array , label_array, group_array)\n",
        "\n",
        "# convert the problem from multiclass classification to binary classification\n",
        "# make haemorrhage and schaemia classes as one\n",
        "\n",
        "y_train[y_train==0] = 1\n",
        "y_train[y_train==2] = 0\n",
        "\n",
        "# y_val[y_val==0] = 1\n",
        "# y_val[y_val==2] = 0\n",
        "\n",
        "y_test[y_test==0] = 1\n",
        "y_test[y_test==2] = 0"
      ]
    },
    {
      "cell_type": "code",
      "execution_count": 5,
      "metadata": {
        "id": "uNQrF9Ty1gkt"
      },
      "outputs": [],
      "source": [
        "# Flatten the data array for ML models\n",
        "X_train = X_train.reshape(X_train.shape[0], -1)\n",
        "# X_val = X_val.reshape(X_val.shape[0], -1)\n",
        "X_test = X_test.reshape(X_test.shape[0], -1)\n",
        "y_train = y_train.reshape(y_train.shape[0], -1)\n",
        "# y_val = y_val.reshape(y_val.shape[0], -1)\n",
        "y_test = y_test.reshape(y_test.shape[0], -1)\n"
      ]
    },
    {
      "cell_type": "markdown",
      "metadata": {
        "id": "joQx2AQe24YN"
      },
      "source": [
        "**RF with default values**"
      ]
    },
    {
      "cell_type": "code",
      "execution_count": 6,
      "metadata": {
        "id": "6pn4XMi605sp"
      },
      "outputs": [],
      "source": [
        "def fit_and_evaluate(X_train, y_train, X_test, y_test,model):\n",
        "\n",
        "  model.fit(X_train, y_train)\n",
        "\n",
        "  # Predictions on the test set\n",
        "  y_pred = model.predict(X_test)\n",
        "\n",
        "  # Calculate evaluation metrics\n",
        "  accuracy = accuracy_score(y_test, y_pred)\n",
        "  precision = precision_score(y_test, y_pred, average='weighted')\n",
        "  recall = recall_score(y_test, y_pred, average='weighted')\n",
        "  f1 = f1_score(y_test, y_pred, average='weighted')\n",
        "\n",
        "\n",
        "  # Print the results\n",
        "  print(\"Accuracy:\", accuracy)\n",
        "  print(\"Recall:\", recall)\n",
        "  print(\"Precision:\", precision)\n",
        "  print(\"F1-score:\", f1)\n",
        "\n",
        "\n",
        "  print(\"Classification Report (Test):\\n\", classification_report(y_test, y_pred))\n",
        "\n",
        "  # Compute the confusion matrix for the test set\n",
        "  cm_test = confusion_matrix(y_test, y_pred)\n",
        "\n",
        "  # Plot the confusion matrix for the test set\n",
        "  plt.figure(figsize=(8, 6))\n",
        "  sns.heatmap(cm_test, annot=True, fmt=\"d\", cmap=\"Blues\", cbar=False)\n",
        "  plt.xlabel(\"Predicted Label\")\n",
        "  plt.ylabel(\"True Label\")\n",
        "  plt.title(f\"Confusion Matrix for Decision Tree {model.__class__}\")\n",
        "  plt.show()\n",
        "\n",
        "  return model"
      ]
    },
    {
      "cell_type": "code",
      "execution_count": 10,
      "metadata": {
        "colab": {
          "base_uri": "https://localhost:8080/",
          "height": 862
        },
        "id": "Qk43Tzs4ad4a",
        "outputId": "2ed73cd0-cd74-437d-93f6-28efcdc053e5"
      },
      "outputs": [
        {
          "output_type": "stream",
          "name": "stderr",
          "text": [
            "<ipython-input-6-f4c83a58cea2>:3: DataConversionWarning: A column-vector y was passed when a 1d array was expected. Please change the shape of y to (n_samples,), for example using ravel().\n",
            "  model.fit(X_train, y_train)\n"
          ]
        },
        {
          "output_type": "stream",
          "name": "stdout",
          "text": [
            "Accuracy: 0.8669558929862617\n",
            "Recall: 0.8669558929862617\n",
            "Precision: 0.8780885172246653\n",
            "F1-score: 0.8576453434670921\n",
            "Classification Report (Test):\n",
            "               precision    recall  f1-score   support\n",
            "\n",
            "           0       0.95      0.61      0.74       435\n",
            "           1       0.85      0.98      0.91       948\n",
            "\n",
            "    accuracy                           0.87      1383\n",
            "   macro avg       0.90      0.80      0.83      1383\n",
            "weighted avg       0.88      0.87      0.86      1383\n",
            "\n"
          ]
        },
        {
          "output_type": "display_data",
          "data": {
            "text/plain": [
              "<Figure size 800x600 with 1 Axes>"
            ],
            "image/png": "[encoded data removed]"
          },
          "metadata": {}
        }
      ],
      "source": [
        "from sklearn.ensemble import RandomForestClassifier\n",
        "from sklearn.metrics import accuracy_score, classification_report, precision_score, recall_score, f1_score\n",
        "\n",
        "\n",
        "model=fit_and_evaluate(X_train, y_train,X_test , y_test,RandomForestClassifier(n_estimators=25, max_features=\"sqrt\", max_depth=9, max_leaf_nodes = 6))\n"
      ]
    },
    {
      "cell_type": "code",
      "execution_count": 11,
      "metadata": {
        "colab": {
          "base_uri": "https://localhost:8080/"
        },
        "id": "ZRGMoSNeah0F",
        "outputId": "1bc6d825-cd17-49c0-e24c-ac75563ec8f4"
      },
      "outputs": [
        {
          "output_type": "execute_result",
          "data": {
            "text/plain": [
              "['/content/drive/MyDrive/result/rfWithHayperParameter.joblib']"
            ]
          },
          "metadata": {},
          "execution_count": 11
        }
      ],
      "source": [
        "import joblib\n",
        "\n",
        "# Specify the full path including the filename and .joblib extension\n",
        "model_path = '/content/drive/MyDrive/result/rfWithHayperParameter.joblib'\n",
        "\n",
        "# Save your model\n",
        "joblib.dump(model, model_path)"
      ]
    },
    {
      "cell_type": "markdown",
      "metadata": {
        "id": "vvSMLVpok4F9"
      },
      "source": [
        "**RF with GridSearch**"
      ]
    }
  ],
  "metadata": {
    "colab": {
      "provenance": []
    },
    "kernelspec": {
      "display_name": "Python 3",
      "name": "python3"
    },
    "language_info": {
      "codemirror_mode": {
        "name": "ipython",
        "version": 3
      },
      "file_extension": ".py",
      "mimetype": "text/x-python",
      "name": "python",
      "nbconvert_exporter": "python",
      "pygments_lexer": "ipython3",
      "version": "3.11.7"
    },
    "accelerator": "TPU"
  },
  "nbformat": 4,
  "nbformat_minor": 0
}
