{
  "cells": [
    {
      "cell_type": "markdown",
      "metadata": {
        "id": "3R3b0eRWAmnP"
      },
      "source": [
        "# **Read Data**"
      ]
    },
    {
      "cell_type": "code",
      "execution_count": 1,
      "metadata": {
        "id": "Wej2380b-oLF"
      },
      "outputs": [],
      "source": [
        "from sklearn.metrics import confusion_matrix\n",
        "from sklearn.metrics import accuracy_score, classification_report\n",
        "import matplotlib.pyplot as plt\n",
        "import seaborn as sns\n",
        "from glob import glob\n",
        "import scipy.io\n",
        "import torch.nn as nn\n",
        "import torch\n",
        "import numpy as np\n",
        "from sklearn.model_selection import GroupKFold,LeaveOneGroupOut\n",
        "from sklearn.preprocessing import StandardScaler\n",
        "from sklearn.base import TransformerMixin,BaseEstimator\n"
      ]
    },
    {
      "cell_type": "code",
      "execution_count": 2,
      "metadata": {
        "colab": {
          "base_uri": "https://localhost:8080/"
        },
        "id": "U3QBUYLTAjsG",
        "outputId": "f16c3e3b-7e8a-49cb-931a-6472fa53493c"
      },
      "outputs": [
        {
          "output_type": "stream",
          "name": "stdout",
          "text": [
            "Mounted at /content/drive\n"
          ]
        }
      ],
      "source": [
        "from google.colab import drive\n",
        "drive.mount('/content/drive')"
      ]
    },
    {
      "cell_type": "code",
      "execution_count": 3,
      "metadata": {
        "colab": {
          "base_uri": "https://localhost:8080/"
        },
        "id": "9HNXGR42As5T",
        "outputId": "910fc48b-dd41-43e7-fda9-fbddc8f125e1"
      },
      "outputs": [
        {
          "output_type": "stream",
          "name": "stdout",
          "text": [
            "(7150, 1250, 33) (7150,) (7150,)\n"
          ]
        }
      ],
      "source": [
        "from glob import glob\n",
        "import scipy.io\n",
        "import torch.nn as nn\n",
        "import torch\n",
        "import numpy as np\n",
        "\n",
        "data_array = np.load('/content/drive/MyDrive/GP-Data/data_array.npy')\n",
        "label_array = np.load('/content/drive/MyDrive/GP-Data/label_array.npy')\n",
        "group_array = np.load('/content/drive/MyDrive/GP-Data/group_array.npy')\n",
        "\n",
        "print(data_array.shape,label_array.shape,group_array.shape)"
      ]
    },
    {
      "cell_type": "code",
      "execution_count": 4,
      "metadata": {
        "colab": {
          "base_uri": "https://localhost:8080/"
        },
        "id": "8bMRV8l_Avai",
        "outputId": "c2b4fa0a-914c-4a51-9fc3-6cb13f55419d"
      },
      "outputs": [
        {
          "output_type": "stream",
          "name": "stdout",
          "text": [
            "group=[ 0  1  2  3  4  5  6  7  8 10 11 12 13 15 16 18 19 20 22 23 25 27 28 29\n",
            " 30 31 34 36 37 38 39 40 41 42 43 44 45 46 47]\n",
            "group=[ 9 14 17 21 24 26 32 33 35]\n"
          ]
        }
      ],
      "source": [
        "gkf=GroupKFold()\n",
        "class StandardScaler3D(BaseEstimator,TransformerMixin):\n",
        "    #batch, sequence, channels\n",
        "    def __init__(self):\n",
        "        self.scaler = StandardScaler()\n",
        "\n",
        "    def fit(self,X,y=None):\n",
        "        self.scaler.fit(X.reshape(-1, X.shape[2]))\n",
        "        return self\n",
        "\n",
        "    def transform(self,X):\n",
        "        return self.scaler.transform(X.reshape( -1,X.shape[2])).reshape(X.shape)\n",
        "\n",
        "\n",
        "def three_splits(data_array , label_array, group_array):\n",
        "\n",
        "  # Split data_array into train and validate\n",
        "  train_groups = []\n",
        "  for train_index, test_index in gkf.split(data_array, label_array, groups=group_array):\n",
        "      train_features, train_label = data_array[train_index],label_array[train_index]\n",
        "      X_test, y_test =data_array[test_index],label_array[test_index]\n",
        "      train_groups = group_array[train_index]\n",
        "\n",
        "      scaler=StandardScaler3D()\n",
        "      train_features=scaler.fit_transform(train_features)\n",
        "      X_test=scaler.transform(X_test)\n",
        "\n",
        "      print(f\"group={np.unique(group_array[train_index])}\")\n",
        "      print(f\"group={np.unique(group_array[test_index])}\")\n",
        "      break\n",
        "\n",
        "  # Split train_features into train and val\n",
        "  for train_index, val_index in gkf.split(train_features, train_label, groups= train_groups):\n",
        "      X_train, y_train =train_features[train_index],train_label[train_index]\n",
        "      X_val, y_val =train_features[val_index],train_label[val_index]\n",
        "\n",
        "      print(f\"group={np.unique(group_array[train_index])}\")\n",
        "      print(f\"group={np.unique(group_array[val_index])}\")\n",
        "\n",
        "      break\n",
        "\n",
        "  return X_train, X_val, X_test, y_train, y_val, y_test\n",
        "\n",
        "\n",
        "\n",
        "\n",
        "def two_splits(data_array , label_array, group_array):\n",
        "\n",
        "  # Split data_array into train and validate\n",
        "  train_groups = []\n",
        "  for train_index, test_index in gkf.split(data_array, label_array, groups=group_array):\n",
        "      X_train, y_train = data_array[train_index],label_array[train_index]\n",
        "      X_test, y_test =data_array[test_index],label_array[test_index]\n",
        "      train_groups = group_array[train_index]\n",
        "\n",
        "      scaler=StandardScaler3D()\n",
        "      X_train=scaler.fit_transform(X_train)\n",
        "      X_test=scaler.transform(X_test)\n",
        "\n",
        "      print(f\"group={np.unique(group_array[train_index])}\")\n",
        "      print(f\"group={np.unique(group_array[test_index])}\")\n",
        "      break\n",
        "\n",
        "  return X_train, X_test, y_train, y_test\n",
        "\n",
        "\n",
        "# X_train, X_val, X_test, y_train, y_val, y_test = three_splits(data_array , label_array, group_array)\n",
        "\n",
        "X_train, X_test, y_train, y_test = two_splits(data_array , label_array, group_array)\n",
        "\n",
        "# convert the problem from multiclass classification to binary classification\n",
        "# make haemorrhage and schaemia classes as one\n",
        "\n",
        "y_train[y_train==0] = 1\n",
        "y_train[y_train==2] = 0\n",
        "\n",
        "# y_val[y_val==0] = 1\n",
        "# y_val[y_val==2] = 0\n",
        "\n",
        "y_test[y_test==0] = 1\n",
        "y_test[y_test==2] = 0"
      ]
    },
    {
      "cell_type": "code",
      "execution_count": 5,
      "metadata": {
        "id": "gLjB-cSrAx4U"
      },
      "outputs": [],
      "source": [
        "# Reshape data for compatibility with classifiers\n",
        "re_Xtrain = X_train.reshape(X_train.shape[0], -1)\n",
        "# re_Xval = X_val.reshape(X_val.shape[0], -1)\n",
        "re_Xtest = X_test.reshape(X_test.shape[0], -1)"
      ]
    },
    {
      "cell_type": "markdown",
      "source": [
        "# **RF hyper, trail and error**"
      ],
      "metadata": {
        "id": "JZni9EH7Xtdt"
      }
    },
    {
      "cell_type": "code",
      "source": [
        "from sklearn.ensemble import RandomForestClassifier\n",
        "from sklearn.metrics import accuracy_score, precision_score, recall_score, f1_score\n",
        "\n",
        "\n",
        "\n",
        "# Creating the Random Forest model\n",
        "rf_model = RandomForestClassifier(n_estimators=50, max_depth=9,max_leaf_nodes=6 )\n",
        "\n",
        "# Training the model\n",
        "rf_model.fit(re_Xtrain, y_train)\n",
        "\n",
        "# Making predictions\n",
        "y_pred = rf_model.predict(re_Xtest)\n",
        "\n",
        "# Calculate metrics\n",
        "accuracy = accuracy_score(y_test, y_pred)\n",
        "precision = precision_score(y_test, y_pred, average='weighted')\n",
        "recall = recall_score(y_test, y_pred, average='weighted')\n",
        "f1 = f1_score(y_test, y_pred, average='weighted')\n",
        "\n",
        "# Print the metrics\n",
        "print(\"Accuracy:\", accuracy)\n",
        "print(\"Precision:\", precision)\n",
        "print(\"Recall:\", recall)\n",
        "print(\"F1 Score:\", f1)\n"
      ],
      "metadata": {
        "colab": {
          "base_uri": "https://localhost:8080/"
        },
        "id": "9054wTZzilpH",
        "outputId": "79fa4fb6-a728-475b-e04a-cb607620338b"
      },
      "execution_count": null,
      "outputs": [
        {
          "output_type": "stream",
          "name": "stdout",
          "text": [
            "Accuracy: 0.7744034707158352\n",
            "Precision: 0.8302654684433426\n",
            "Recall: 0.7744034707158352\n",
            "F1 Score: 0.7272723585027164\n"
          ]
        }
      ]
    },
    {
      "cell_type": "code",
      "source": [
        "tn, fp, fn, tp = confusion_matrix(y_test, y_pred).ravel()\n",
        "print(\"True Positives:\", tp)\n",
        "print(\"True Negatives:\", tn)\n",
        "print(\"False Positives:\", fp)\n",
        "print(\"False Negatives:\", fn)\n",
        "\n",
        "\n",
        "import matplotlib.pyplot as plt\n",
        "import seaborn as sns\n",
        "from sklearn.metrics import confusion_matrix\n",
        "# Plot confusion matrix\n",
        "cm = confusion_matrix(y_test, y_pred)\n",
        "plt.figure(figsize=(8, 6))\n",
        "sns.heatmap(cm, annot=True, fmt=\"d\", cmap=\"Blues\", cbar=False)\n",
        "plt.xlabel(\"Predicted Label\")\n",
        "plt.ylabel(\"True Label\")\n",
        "plt.title(\"Confusion Matrix for RF without any thing (Test Set)\")\n",
        "plt.show()"
      ],
      "metadata": {
        "id": "mVPnbRxti3aJ",
        "colab": {
          "base_uri": "https://localhost:8080/",
          "height": 632
        },
        "outputId": "56b7e10e-4da1-4505-dc5c-7667af0603fd"
      },
      "execution_count": null,
      "outputs": [
        {
          "output_type": "stream",
          "name": "stdout",
          "text": [
            "True Positives: 948\n",
            "True Negatives: 123\n",
            "False Positives: 312\n",
            "False Negatives: 0\n"
          ]
        },
        {
          "output_type": "display_data",
          "data": {
            "text/plain": [
              "<Figure size 800x600 with 1 Axes>"
            ],
            "image/png": "[encoded data removed]"
          },
          "metadata": {}
        }
      ]
    },
    {
      "cell_type": "code",
      "source": [
        "import joblib\n",
        "\n",
        "# Save the trained model and feature selection step\n",
        "joblib.dump(rf_model, '/content/drive/MyDrive/GP-Trail/RF_model_hyper.pkl')\n",
        "# joblib.dump(feature_selection, '/content/drive/MyDrive/GP-Trail/feature_selection\n"
      ],
      "metadata": {
        "colab": {
          "base_uri": "https://localhost:8080/"
        },
        "id": "lc5E99pzZuTH",
        "outputId": "667a6b35-5372-49ff-a0f9-9b511d69b898"
      },
      "execution_count": null,
      "outputs": [
        {
          "output_type": "execute_result",
          "data": {
            "text/plain": [
              "['/content/drive/MyDrive/GP-Trail/RF_model_hyper.pkl']"
            ]
          },
          "metadata": {},
          "execution_count": 19
        }
      ]
    },
    {
      "cell_type": "code",
      "source": [
        "from sklearn.ensemble import RandomForestClassifier\n",
        "from sklearn.metrics import accuracy_score, precision_score, recall_score, f1_score\n",
        "\n",
        "\n",
        "# param_grid = {'n_estimators': [25, 50, 100, 150],\n",
        "#               'max_depth': [3, 6, 9,11],\n",
        "#               'max_leaf_nodes': [3, 6, 9,11]}\n",
        "\n",
        "\n",
        "# Creating the Random Forest model\n",
        "rf_model = RandomForestClassifier(n_estimators=25, max_depth=9,max_leaf_nodes=6 )\n",
        "\n",
        "# Training the model\n",
        "rf_model.fit(re_Xtrain, y_train)\n",
        "\n",
        "# Making predictions\n",
        "y_pred = rf_model.predict(re_Xtest)\n",
        "\n",
        "# Calculate metrics\n",
        "accuracy = accuracy_score(y_test, y_pred)\n",
        "precision = precision_score(y_test, y_pred, average='weighted')\n",
        "recall = recall_score(y_test, y_pred, average='weighted')\n",
        "f1 = f1_score(y_test, y_pred, average='weighted')\n",
        "\n",
        "# Print the metrics\n",
        "print(\"Accuracy:\", accuracy)\n",
        "print(\"Precision:\", precision)\n",
        "print(\"Recall:\", recall)\n",
        "print(\"F1 Score:\", f1)\n"
      ],
      "metadata": {
        "colab": {
          "base_uri": "https://localhost:8080/"
        },
        "id": "HSRqYL5NaC0k",
        "outputId": "8cf50134-8636-4d16-dd63-3febead73205"
      },
      "execution_count": 6,
      "outputs": [
        {
          "output_type": "stream",
          "name": "stdout",
          "text": [
            "Accuracy: 0.5018076644974693\n",
            "Precision: 0.459609182810777\n",
            "Recall: 0.5018076644974693\n",
            "F1 Score: 0.47863510519610997\n"
          ]
        }
      ]
    },
    {
      "cell_type": "code",
      "source": [
        "tn, fp, fn, tp = confusion_matrix(y_test, y_pred).ravel()\n",
        "print(\"True Positives:\", tp)\n",
        "print(\"True Negatives:\", tn)\n",
        "print(\"False Positives:\", fp)\n",
        "print(\"False Negatives:\", fn)\n",
        "\n",
        "\n",
        "import matplotlib.pyplot as plt\n",
        "import seaborn as sns\n",
        "from sklearn.metrics import confusion_matrix\n",
        "# Plot confusion matrix\n",
        "cm = confusion_matrix(y_test, y_pred)\n",
        "plt.figure(figsize=(8, 6))\n",
        "sns.heatmap(cm, annot=True, fmt=\"d\", cmap=\"Blues\", cbar=False)\n",
        "plt.xlabel(\"Predicted Label\")\n",
        "plt.ylabel(\"True Label\")\n",
        "plt.title(\"Confusion Matrix for RF without any thing (Test Set)\")\n",
        "plt.show()"
      ],
      "metadata": {
        "colab": {
          "base_uri": "https://localhost:8080/",
          "height": 635
        },
        "id": "e1NzG1O3aHOX",
        "outputId": "fe010f25-bbeb-4217-ef37-36d2520cb1db"
      },
      "execution_count": 7,
      "outputs": [
        {
          "output_type": "stream",
          "name": "stdout",
          "text": [
            "True Positives: 660\n",
            "True Negatives: 34\n",
            "False Positives: 401\n",
            "False Negatives: 288\n"
          ]
        },
        {
          "output_type": "display_data",
          "data": {
            "text/plain": [
              "<Figure size 800x600 with 1 Axes>"
            ],
            "image/png": "[encoded data removed]"
          },
          "metadata": {}
        }
      ]
    },
    {
      "cell_type": "code",
      "source": [
        "from sklearn.ensemble import RandomForestClassifier\n",
        "from sklearn.metrics import accuracy_score, precision_score, recall_score, f1_score\n",
        "\n",
        "\n",
        "# param_grid = {'n_estimators': [25, 50, 100, 150],\n",
        "#               'max_depth': [3, 6, 9,11],\n",
        "#               'max_leaf_nodes': [3, 6, 9,11]}\n",
        "\n",
        "\n",
        "# Creating the Random Forest model\n",
        "rf_model = RandomForestClassifier(n_estimators=100, max_depth=9,max_leaf_nodes=6 )\n",
        "\n",
        "# Training the model\n",
        "rf_model.fit(re_Xtrain, y_train)\n",
        "\n",
        "# Making predictions\n",
        "y_pred = rf_model.predict(re_Xtest)\n",
        "\n",
        "# Calculate metrics\n",
        "accuracy = accuracy_score(y_test, y_pred)\n",
        "precision = precision_score(y_test, y_pred, average='weighted')\n",
        "recall = recall_score(y_test, y_pred, average='weighted')\n",
        "f1 = f1_score(y_test, y_pred, average='weighted')\n",
        "\n",
        "# Print the metrics\n",
        "print(\"Accuracy:\", accuracy)\n",
        "print(\"Precision:\", precision)\n",
        "print(\"Recall:\", recall)\n",
        "print(\"F1 Score:\", f1)\n"
      ],
      "metadata": {
        "id": "vHjDW_XufD2e",
        "colab": {
          "base_uri": "https://localhost:8080/"
        },
        "outputId": "8d70ea75-63d9-40ec-a09b-8cf44c51f1e0"
      },
      "execution_count": 8,
      "outputs": [
        {
          "output_type": "stream",
          "name": "stdout",
          "text": [
            "Accuracy: 0.6840202458423716\n",
            "Precision: 0.4695519138729677\n",
            "Recall: 0.6840202458423716\n",
            "F1 Score: 0.5568494573280964\n"
          ]
        }
      ]
    },
    {
      "cell_type": "code",
      "source": [
        "tn, fp, fn, tp = confusion_matrix(y_test, y_pred).ravel()\n",
        "print(\"True Positives:\", tp)\n",
        "print(\"True Negatives:\", tn)\n",
        "print(\"False Positives:\", fp)\n",
        "print(\"False Negatives:\", fn)\n",
        "\n",
        "\n",
        "import matplotlib.pyplot as plt\n",
        "import seaborn as sns\n",
        "from sklearn.metrics import confusion_matrix\n",
        "# Plot confusion matrix\n",
        "cm = confusion_matrix(y_test, y_pred)\n",
        "plt.figure(figsize=(8, 6))\n",
        "sns.heatmap(cm, annot=True, fmt=\"d\", cmap=\"Blues\", cbar=False)\n",
        "plt.xlabel(\"Predicted Label\")\n",
        "plt.ylabel(\"True Label\")\n",
        "plt.title(\"Confusion Matrix for RF without any thing (Test Set)\")\n",
        "plt.show()"
      ],
      "metadata": {
        "colab": {
          "base_uri": "https://localhost:8080/",
          "height": 635
        },
        "id": "IBFSb7lo95AX",
        "outputId": "22c14bb3-89f7-4786-c9a9-ea268fc6c9e5"
      },
      "execution_count": 9,
      "outputs": [
        {
          "output_type": "stream",
          "name": "stdout",
          "text": [
            "True Positives: 946\n",
            "True Negatives: 0\n",
            "False Positives: 435\n",
            "False Negatives: 2\n"
          ]
        },
        {
          "output_type": "display_data",
          "data": {
            "text/plain": [
              "<Figure size 800x600 with 1 Axes>"
            ],
            "image/png": "[encoded data removed]"
          },
          "metadata": {}
        }
      ]
    },
    {
      "cell_type": "code",
      "source": [
        "from sklearn.ensemble import RandomForestClassifier\n",
        "from sklearn.metrics import accuracy_score, precision_score, recall_score, f1_score\n",
        "\n",
        "\n",
        "# param_grid = {'n_estimators': [25, 50, 100, 150],\n",
        "#               'max_depth': [3, 6, 9,11],\n",
        "#               'max_leaf_nodes': [3, 6, 9,11]}\n",
        "\n",
        "\n",
        "# Creating the Random Forest model\n",
        "rf_model = RandomForestClassifier(n_estimators=150, max_depth=9,max_leaf_nodes=6 )\n",
        "\n",
        "# Training the model\n",
        "rf_model.fit(re_Xtrain, y_train)\n",
        "\n",
        "# Making predictions\n",
        "y_pred = rf_model.predict(re_Xtest)\n",
        "\n",
        "# Calculate metrics\n",
        "accuracy = accuracy_score(y_test, y_pred)\n",
        "precision = precision_score(y_test, y_pred, average='weighted')\n",
        "recall = recall_score(y_test, y_pred, average='weighted')\n",
        "f1 = f1_score(y_test, y_pred, average='weighted')\n",
        "\n",
        "# Print the metrics\n",
        "print(\"Accuracy:\", accuracy)\n",
        "print(\"Precision:\", precision)\n",
        "print(\"Recall:\", recall)\n",
        "print(\"F1 Score:\", f1)\n"
      ],
      "metadata": {
        "colab": {
          "base_uri": "https://localhost:8080/"
        },
        "id": "6sZKx2Yi97cT",
        "outputId": "7916a797-6516-4b45-a92a-1199e6616c55"
      },
      "execution_count": 10,
      "outputs": [
        {
          "output_type": "stream",
          "name": "stdout",
          "text": [
            "Accuracy: 0.6854663774403471\n",
            "Precision: 0.46986415460119235\n",
            "Recall: 0.6854663774403471\n",
            "F1 Score: 0.5575479414958807\n"
          ]
        },
        {
          "output_type": "stream",
          "name": "stderr",
          "text": [
            "/usr/local/lib/python3.10/dist-packages/sklearn/metrics/_classification.py:1344: UndefinedMetricWarning: Precision is ill-defined and being set to 0.0 in labels with no predicted samples. Use `zero_division` parameter to control this behavior.\n",
            "  _warn_prf(average, modifier, msg_start, len(result))\n"
          ]
        }
      ]
    },
    {
      "cell_type": "code",
      "source": [
        "tn, fp, fn, tp = confusion_matrix(y_test, y_pred).ravel()\n",
        "print(\"True Positives:\", tp)\n",
        "print(\"True Negatives:\", tn)\n",
        "print(\"False Positives:\", fp)\n",
        "print(\"False Negatives:\", fn)\n",
        "\n",
        "\n",
        "import matplotlib.pyplot as plt\n",
        "import seaborn as sns\n",
        "from sklearn.metrics import confusion_matrix\n",
        "# Plot confusion matrix\n",
        "cm = confusion_matrix(y_test, y_pred)\n",
        "plt.figure(figsize=(8, 6))\n",
        "sns.heatmap(cm, annot=True, fmt=\"d\", cmap=\"Blues\", cbar=False)\n",
        "plt.xlabel(\"Predicted Label\")\n",
        "plt.ylabel(\"True Label\")\n",
        "plt.title(\"Confusion Matrix for RF without any thing (Test Set)\")\n",
        "plt.show()"
      ],
      "metadata": {
        "colab": {
          "base_uri": "https://localhost:8080/",
          "height": 635
        },
        "id": "zC14I7sw9_nh",
        "outputId": "1dc20a53-0dbf-4468-f4d0-b2bfa71feb82"
      },
      "execution_count": 11,
      "outputs": [
        {
          "output_type": "stream",
          "name": "stdout",
          "text": [
            "True Positives: 948\n",
            "True Negatives: 0\n",
            "False Positives: 435\n",
            "False Negatives: 0\n"
          ]
        },
        {
          "output_type": "display_data",
          "data": {
            "text/plain": [
              "<Figure size 800x600 with 1 Axes>"
            ],
            "image/png": "[encoded data removed]"
          },
          "metadata": {}
        }
      ]
    },
    {
      "cell_type": "code",
      "source": [
        "from sklearn.ensemble import RandomForestClassifier\n",
        "from sklearn.metrics import accuracy_score, precision_score, recall_score, f1_score\n",
        "\n",
        "\n",
        "# param_grid = {'n_estimators': [25, 50, 100, 150],\n",
        "#               'max_depth': [3, 6, 9,11],\n",
        "#               'max_leaf_nodes': [3, 6, 9,11]}\n",
        "\n",
        "\n",
        "# Creating the Random Forest model\n",
        "rf_model = RandomForestClassifier(n_estimators=50, max_depth=11,max_leaf_nodes=6 )\n",
        "\n",
        "# Training the model\n",
        "rf_model.fit(re_Xtrain, y_train)\n",
        "\n",
        "# Making predictions\n",
        "y_pred = rf_model.predict(re_Xtest)\n",
        "\n",
        "# Calculate metrics\n",
        "accuracy = accuracy_score(y_test, y_pred)\n",
        "precision = precision_score(y_test, y_pred, average='weighted')\n",
        "recall = recall_score(y_test, y_pred, average='weighted')\n",
        "f1 = f1_score(y_test, y_pred, average='weighted')\n",
        "\n",
        "# Print the metrics\n",
        "print(\"Accuracy:\", accuracy)\n",
        "print(\"Precision:\", precision)\n",
        "print(\"Recall:\", recall)\n",
        "print(\"F1 Score:\", f1)\n"
      ],
      "metadata": {
        "colab": {
          "base_uri": "https://localhost:8080/"
        },
        "id": "xEJDRejc-G3V",
        "outputId": "d834ba91-1eab-4ba0-c1f5-6c4d93b40701"
      },
      "execution_count": 12,
      "outputs": [
        {
          "output_type": "stream",
          "name": "stdout",
          "text": [
            "Accuracy: 0.6992046276211136\n",
            "Precision: 0.7909428057073429\n",
            "Recall: 0.6992046276211136\n",
            "F1 Score: 0.5884564693899409\n"
          ]
        }
      ]
    },
    {
      "cell_type": "code",
      "source": [
        "tn, fp, fn, tp = confusion_matrix(y_test, y_pred).ravel()\n",
        "print(\"True Positives:\", tp)\n",
        "print(\"True Negatives:\", tn)\n",
        "print(\"False Positives:\", fp)\n",
        "print(\"False Negatives:\", fn)\n",
        "\n",
        "\n",
        "import matplotlib.pyplot as plt\n",
        "import seaborn as sns\n",
        "from sklearn.metrics import confusion_matrix\n",
        "# Plot confusion matrix\n",
        "cm = confusion_matrix(y_test, y_pred)\n",
        "plt.figure(figsize=(8, 6))\n",
        "sns.heatmap(cm, annot=True, fmt=\"d\", cmap=\"Blues\", cbar=False)\n",
        "plt.xlabel(\"Predicted Label\")\n",
        "plt.ylabel(\"True Label\")\n",
        "plt.title(\"Confusion Matrix for RF without any thing (Test Set)\")\n",
        "plt.show()"
      ],
      "metadata": {
        "colab": {
          "base_uri": "https://localhost:8080/",
          "height": 635
        },
        "id": "x844871j-M-u",
        "outputId": "d4af397e-af92-4d0e-b4ea-4ce31d2cbaae"
      },
      "execution_count": 13,
      "outputs": [
        {
          "output_type": "stream",
          "name": "stdout",
          "text": [
            "True Positives: 948\n",
            "True Negatives: 19\n",
            "False Positives: 416\n",
            "False Negatives: 0\n"
          ]
        },
        {
          "output_type": "display_data",
          "data": {
            "text/plain": [
              "<Figure size 800x600 with 1 Axes>"
            ],
            "image/png": "[encoded data removed]"
          },
          "metadata": {}
        }
      ]
    },
    {
      "cell_type": "code",
      "source": [
        "from sklearn.ensemble import RandomForestClassifier\n",
        "from sklearn.metrics import accuracy_score, precision_score, recall_score, f1_score\n",
        "\n",
        "\n",
        "# param_grid = {'n_estimators': [25, 50, 100, 150],\n",
        "#               'max_depth': [3, 6, 9,11],\n",
        "#               'max_leaf_nodes': [3, 6, 9,11]}\n",
        "\n",
        "\n",
        "# Creating the Random Forest model\n",
        "rf_model = RandomForestClassifier(n_estimators=50, max_depth=11,max_leaf_nodes=11 )\n",
        "\n",
        "# Training the model\n",
        "rf_model.fit(re_Xtrain, y_train)\n",
        "\n",
        "# Making predictions\n",
        "y_pred = rf_model.predict(re_Xtest)\n",
        "\n",
        "# Calculate metrics\n",
        "accuracy = accuracy_score(y_test, y_pred)\n",
        "precision = precision_score(y_test, y_pred, average='weighted')\n",
        "recall = recall_score(y_test, y_pred, average='weighted')\n",
        "f1 = f1_score(y_test, y_pred, average='weighted')\n",
        "\n",
        "# Print the metrics\n",
        "print(\"Accuracy:\", accuracy)\n",
        "print(\"Precision:\", precision)\n",
        "print(\"Recall:\", recall)\n",
        "print(\"F1 Score:\", f1)\n"
      ],
      "metadata": {
        "colab": {
          "base_uri": "https://localhost:8080/"
        },
        "id": "iT9ybjtg-Nm2",
        "outputId": "3db814f3-7c69-42ce-fef1-cc7e6571d8b0"
      },
      "execution_count": 14,
      "outputs": [
        {
          "output_type": "stream",
          "name": "stdout",
          "text": [
            "Accuracy: 0.5929139551699205\n",
            "Precision: 0.4478744458175973\n",
            "Recall: 0.5929139551699205\n",
            "F1 Score: 0.5102881793019378\n"
          ]
        }
      ]
    },
    {
      "cell_type": "code",
      "source": [
        "tn, fp, fn, tp = confusion_matrix(y_test, y_pred).ravel()\n",
        "print(\"True Positives:\", tp)\n",
        "print(\"True Negatives:\", tn)\n",
        "print(\"False Positives:\", fp)\n",
        "print(\"False Negatives:\", fn)\n",
        "\n",
        "\n",
        "import matplotlib.pyplot as plt\n",
        "import seaborn as sns\n",
        "from sklearn.metrics import confusion_matrix\n",
        "# Plot confusion matrix\n",
        "cm = confusion_matrix(y_test, y_pred)\n",
        "plt.figure(figsize=(8, 6))\n",
        "sns.heatmap(cm, annot=True, fmt=\"d\", cmap=\"Blues\", cbar=False)\n",
        "plt.xlabel(\"Predicted Label\")\n",
        "plt.ylabel(\"True Label\")\n",
        "plt.title(\"Confusion Matrix for RF without any thing (Test Set)\")\n",
        "plt.show()"
      ],
      "metadata": {
        "colab": {
          "base_uri": "https://localhost:8080/",
          "height": 635
        },
        "id": "PkcOm4aC-Q3t",
        "outputId": "d51ce7e7-1b15-499e-da70-4f6f6c1ebe57"
      },
      "execution_count": 15,
      "outputs": [
        {
          "output_type": "stream",
          "name": "stdout",
          "text": [
            "True Positives: 820\n",
            "True Negatives: 0\n",
            "False Positives: 435\n",
            "False Negatives: 128\n"
          ]
        },
        {
          "output_type": "display_data",
          "data": {
            "text/plain": [
              "<Figure size 800x600 with 1 Axes>"
            ],
            "image/png": "[encoded data removed]"
          },
          "metadata": {}
        }
      ]
    },
    {
      "cell_type": "code",
      "source": [
        "from sklearn.ensemble import RandomForestClassifier\n",
        "from sklearn.metrics import accuracy_score, precision_score, recall_score, f1_score\n",
        "\n",
        "\n",
        "# param_grid = {'n_estimators': [25, 50, 100, 150],\n",
        "#               'max_depth': [3, 6, 9,11],\n",
        "#               'max_leaf_nodes': [3, 6, 9,11]}\n",
        "\n",
        "\n",
        "# Creating the Random Forest model\n",
        "rf_model = RandomForestClassifier(n_estimators=50, max_depth=3,max_leaf_nodes=6 )\n",
        "\n",
        "# Training the model\n",
        "rf_model.fit(re_Xtrain, y_train)\n",
        "\n",
        "# Making predictions\n",
        "y_pred = rf_model.predict(re_Xtest)\n",
        "\n",
        "# Calculate metrics\n",
        "accuracy = accuracy_score(y_test, y_pred)\n",
        "precision = precision_score(y_test, y_pred, average='weighted')\n",
        "recall = recall_score(y_test, y_pred, average='weighted')\n",
        "f1 = f1_score(y_test, y_pred, average='weighted')\n",
        "\n",
        "# Print the metrics\n",
        "print(\"Accuracy:\", accuracy)\n",
        "print(\"Precision:\", precision)\n",
        "print(\"Recall:\", recall)\n",
        "print(\"F1 Score:\", f1)\n"
      ],
      "metadata": {
        "colab": {
          "base_uri": "https://localhost:8080/"
        },
        "id": "aOsIpHeg-gdH",
        "outputId": "9da037c0-341a-4dd8-f1f1-0cde7f5086c1"
      },
      "execution_count": 16,
      "outputs": [
        {
          "output_type": "stream",
          "name": "stdout",
          "text": [
            "Accuracy: 0.5885755603759942\n",
            "Precision: 0.45849378361832865\n",
            "Recall: 0.5885755603759942\n",
            "F1 Score: 0.5125583764099846\n"
          ]
        }
      ]
    },
    {
      "cell_type": "code",
      "source": [
        "tn, fp, fn, tp = confusion_matrix(y_test, y_pred).ravel()\n",
        "print(\"True Positives:\", tp)\n",
        "print(\"True Negatives:\", tn)\n",
        "print(\"False Positives:\", fp)\n",
        "print(\"False Negatives:\", fn)\n",
        "\n",
        "\n",
        "import matplotlib.pyplot as plt\n",
        "import seaborn as sns\n",
        "from sklearn.metrics import confusion_matrix\n",
        "# Plot confusion matrix\n",
        "cm = confusion_matrix(y_test, y_pred)\n",
        "plt.figure(figsize=(8, 6))\n",
        "sns.heatmap(cm, annot=True, fmt=\"d\", cmap=\"Blues\", cbar=False)\n",
        "plt.xlabel(\"Predicted Label\")\n",
        "plt.ylabel(\"True Label\")\n",
        "plt.title(\"Confusion Matrix for RF without any thing (Test Set)\")\n",
        "plt.show()"
      ],
      "metadata": {
        "colab": {
          "base_uri": "https://localhost:8080/",
          "height": 635
        },
        "id": "GwWNGCnp-mEw",
        "outputId": "460d1785-11f5-4e69-84f2-b73c02cd4776"
      },
      "execution_count": 17,
      "outputs": [
        {
          "output_type": "stream",
          "name": "stdout",
          "text": [
            "True Positives: 809\n",
            "True Negatives: 5\n",
            "False Positives: 430\n",
            "False Negatives: 139\n"
          ]
        },
        {
          "output_type": "display_data",
          "data": {
            "text/plain": [
              "<Figure size 800x600 with 1 Axes>"
            ],
            "image/png": "[encoded data removed]"
          },
          "metadata": {}
        }
      ]
    },
    {
      "cell_type": "markdown",
      "metadata": {
        "id": "CeyJn6umADWf"
      },
      "source": [
        "# **Grid search KNN**"
      ]
    },
    {
      "cell_type": "code",
      "execution_count": null,
      "metadata": {
        "colab": {
          "base_uri": "https://localhost:8080/"
        },
        "id": "C0wwSQ3FA32Y",
        "outputId": "3b060602-bcc5-4e1b-d216-ac3c604ecf6a"
      },
      "outputs": [
        {
          "name": "stdout",
          "output_type": "stream",
          "text": [
            "Fitting 5 folds for each of 56 candidates, totalling 280 fits\n",
            "{'algorithm': 'auto', 'n_neighbors': 15, 'weights': 'uniform'}\n",
            "              precision    recall  f1-score   support\n",
            "\n",
            "           0       0.44      0.29      0.35       580\n",
            "           1       0.59      0.73      0.65       803\n",
            "\n",
            "    accuracy                           0.55      1383\n",
            "   macro avg       0.52      0.51      0.50      1383\n",
            "weighted avg       0.53      0.55      0.53      1383\n",
            "\n",
            "Test Set Metrics:\n",
            "Accuracy: 0.5480838756326826\n",
            "Precision: 0.5891783567134269\n",
            "Recall: 0.7322540473225405\n",
            "F1-score: 0.6529705719044975\n"
          ]
        }
      ],
      "source": [
        "from sklearn.model_selection import GridSearchCV\n",
        "from sklearn.neighbors import KNeighborsClassifier\n",
        "from sklearn.metrics import accuracy_score, precision_score, recall_score, f1_score\n",
        "\n",
        "param_grid = {'n_neighbors': [3, 5, 7, 9,11,13,15],\n",
        "              'weights':['uniform','distance'],\n",
        "              'algorithm':['auto','ball_tree','kd_tree','brute']}\n",
        "grid = GridSearchCV(KNeighborsClassifier(), param_grid, refit = True, cv=5 ,verbose = 1 ,n_jobs=-1)\n",
        "\n",
        "# fitting the model for grid search\n",
        "grid.fit(re_Xtrain, y_train)\n",
        "\n",
        "# print best parameter after tuning\n",
        "print(grid.best_params_)\n",
        "grid_predictions = grid.predict(re_Xtest)\n",
        "\n",
        "# print classification report\n",
        "print(classification_report(y_test, grid_predictions))\n",
        "\n",
        "\n",
        "# Evaluate the final model on the test set\n",
        "y_test_pred = grid_predictions\n",
        "test_accuracy = accuracy_score(y_test, y_test_pred)\n",
        "test_precision = precision_score(y_test, y_test_pred)\n",
        "test_recall = recall_score(y_test, y_test_pred)\n",
        "test_f1 = f1_score(y_test, y_test_pred)\n",
        "\n",
        "# Print metrics for test set\n",
        "print(\"Test Set Metrics:\")\n",
        "print(\"Accuracy:\", test_accuracy)\n",
        "print(\"Precision:\", test_precision)\n",
        "print(\"Recall:\", test_recall)\n",
        "print(\"F1-score:\", test_f1)\n"
      ]
    },
    {
      "cell_type": "code",
      "execution_count": null,
      "metadata": {
        "colab": {
          "base_uri": "https://localhost:8080/"
        },
        "id": "Cq3NA17ORZwd",
        "outputId": "71e720f9-53ed-4ca8-de73-9f9895c30998"
      },
      "outputs": [
        {
          "name": "stdout",
          "output_type": "stream",
          "text": [
            "True Positives: 588\n",
            "True Negatives: 170\n",
            "False Positives: 410\n",
            "False Negatives: 215\n"
          ]
        }
      ],
      "source": [
        "tn, fp, fn, tp = confusion_matrix(y_test, y_test_pred).ravel()\n",
        "print(\"True Positives:\", tp)\n",
        "print(\"True Negatives:\", tn)\n",
        "print(\"False Positives:\", fp)\n",
        "print(\"False Negatives:\", fn)"
      ]
    },
    {
      "cell_type": "markdown",
      "metadata": {
        "id": "4KYs974oQsxZ"
      },
      "source": [
        "# **DT+Grid**"
      ]
    },
    {
      "cell_type": "code",
      "execution_count": null,
      "metadata": {
        "colab": {
          "base_uri": "https://localhost:8080/"
        },
        "id": "4V4InRsrQvfR",
        "outputId": "8239fb39-afca-428c-8efe-4f1f83e6f246"
      },
      "outputs": [
        {
          "name": "stdout",
          "output_type": "stream",
          "text": [
            "Fitting 5 folds for each of 50 candidates, totalling 250 fits\n",
            "{'criterion': 'gini', 'max_depth': 3, 'min_samples_leaf': 5}\n",
            "              precision    recall  f1-score   support\n",
            "\n",
            "           0       0.99      0.74      0.85       580\n",
            "           1       0.84      0.99      0.91       803\n",
            "\n",
            "    accuracy                           0.89      1383\n",
            "   macro avg       0.92      0.87      0.88      1383\n",
            "weighted avg       0.90      0.89      0.89      1383\n",
            "\n",
            "Test Set Metrics:\n",
            "Accuracy: 0.888647866955893\n",
            "Precision: 0.8426610348468849\n",
            "Recall: 0.9937733499377335\n",
            "F1-score: 0.912\n"
          ]
        }
      ],
      "source": [
        "from sklearn.model_selection import GridSearchCV\n",
        "from sklearn.tree import DecisionTreeClassifier\n",
        "from sklearn.metrics import accuracy_score, precision_score, recall_score, f1_score\n",
        "\n",
        "param_grid = {\n",
        "    'max_depth': [2, 3, 5, 10, 20],\n",
        "    'min_samples_leaf': [5, 10, 20, 50, 100],\n",
        "    'criterion': [\"gini\", \"entropy\"]\n",
        "}\n",
        "grid = GridSearchCV(DecisionTreeClassifier(), param_grid, refit = True, cv=5 ,verbose = 1 ,n_jobs=-1)\n",
        "\n",
        "# fitting the model for grid search\n",
        "grid.fit(re_Xtrain, y_train)\n",
        "\n",
        "# print best parameter after tuning\n",
        "print(grid.best_params_)\n",
        "grid_predictions = grid.predict(re_Xtest)\n",
        "\n",
        "# print classification report\n",
        "print(classification_report(y_test, grid_predictions))\n",
        "\n",
        "\n",
        "# Evaluate the final model on the test set\n",
        "y_test_pred = grid_predictions\n",
        "test_accuracy = accuracy_score(y_test, y_test_pred)\n",
        "test_precision = precision_score(y_test, y_test_pred)\n",
        "test_recall = recall_score(y_test, y_test_pred)\n",
        "test_f1 = f1_score(y_test, y_test_pred)\n",
        "\n",
        "# Print metrics for test set\n",
        "print(\"Test Set Metrics:\")\n",
        "print(\"Accuracy:\", test_accuracy)\n",
        "print(\"Precision:\", test_precision)\n",
        "print(\"Recall:\", test_recall)\n",
        "print(\"F1-score:\", test_f1)\n"
      ]
    },
    {
      "cell_type": "code",
      "execution_count": null,
      "metadata": {
        "colab": {
          "base_uri": "https://localhost:8080/"
        },
        "id": "dRdu6qB6SD5q",
        "outputId": "75f56fc7-8ce8-40ae-b157-3585fa8298fa"
      },
      "outputs": [
        {
          "name": "stdout",
          "output_type": "stream",
          "text": [
            "True Positives: 798\n",
            "True Negatives: 431\n",
            "False Positives: 149\n",
            "False Negatives: 5\n"
          ]
        }
      ],
      "source": [
        "tn, fp, fn, tp = confusion_matrix(y_test, y_test_pred).ravel()\n",
        "print(\"True Positives:\", tp)\n",
        "print(\"True Negatives:\", tn)\n",
        "print(\"False Positives:\", fp)\n",
        "print(\"False Negatives:\", fn)"
      ]
    },
    {
      "cell_type": "code",
      "execution_count": null,
      "metadata": {
        "colab": {
          "base_uri": "https://localhost:8080/",
          "height": 564
        },
        "id": "9BPmBx_gSBcU",
        "outputId": "85d79f3b-f10d-4081-99f3-6d8ff107ca2a"
      },
      "outputs": [
        {
          "data": {
            "image/png": "[encoded data removed]",
            "text/plain": [
              "<Figure size 800x600 with 1 Axes>"
            ]
          },
          "metadata": {},
          "output_type": "display_data"
        }
      ],
      "source": [
        "import matplotlib.pyplot as plt\n",
        "import seaborn as sns\n",
        "from sklearn.metrics import confusion_matrix\n",
        "# Plot confusion matrix\n",
        "cm = confusion_matrix(y_test, y_test_pred)\n",
        "plt.figure(figsize=(8, 6))\n",
        "sns.heatmap(cm, annot=True, fmt=\"d\", cmap=\"Blues\", cbar=False)\n",
        "plt.xlabel(\"Predicted Label\")\n",
        "plt.ylabel(\"True Label\")\n",
        "plt.title(\"Confusion Matrix for DT (Test Set)\")\n",
        "plt.show()"
      ]
    },
    {
      "cell_type": "code",
      "execution_count": null,
      "metadata": {
        "colab": {
          "base_uri": "https://localhost:8080/"
        },
        "id": "vEIlxOhg5Jnp",
        "outputId": "b2998a81-bc38-4b2f-f985-e194dec33cc7"
      },
      "outputs": [
        {
          "data": {
            "text/plain": [
              "['/content/drive/MyDrive/GP-Trail/DT_Grid_model_best.pkl']"
            ]
          },
          "execution_count": 10,
          "metadata": {},
          "output_type": "execute_result"
        }
      ],
      "source": [
        "import joblib\n",
        "\n",
        "# Save the trained model and feature selection step\n",
        "joblib.dump(grid, '/content/drive/MyDrive/GP-Trail/DT_Grid_model_best.pkl')\n"
      ]
    },
    {
      "cell_type": "code",
      "execution_count": null,
      "metadata": {
        "colab": {
          "base_uri": "https://localhost:8080/"
        },
        "id": "5dwyeU2T5cD9",
        "outputId": "ce8e24bf-ec97-4fda-e744-e39b9134175a"
      },
      "outputs": [
        {
          "data": {
            "text/plain": [
              "['/content/drive/MyDrive/GP-Trail/DT_Grid_model_best2.pkl']"
            ]
          },
          "execution_count": 11,
          "metadata": {},
          "output_type": "execute_result"
        }
      ],
      "source": [
        "import joblib\n",
        "\n",
        "# Save the trained model and feature selection step\n",
        "joblib.dump(grid.best_estimator_, '/content/drive/MyDrive/GP-Trail/DT_Grid_model_best2.pkl')\n"
      ]
    }
  ],
  "metadata": {
    "accelerator": "GPU",
    "colab": {
      "gpuType": "T4",
      "machine_shape": "hm",
      "provenance": [],
      "collapsed_sections": [
        "CeyJn6umADWf",
        "rzIZ8rPrQXd5",
        "4KYs974oQsxZ",
        "bURC-EjKeHyT",
        "J2ha2b0h0VeL",
        "0i1mZ-T7LgmF"
      ]
    },
    "kernelspec": {
      "display_name": "Python 3",
      "name": "python3"
    },
    "language_info": {
      "name": "python"
    }
  },
  "nbformat": 4,
  "nbformat_minor": 0
}
