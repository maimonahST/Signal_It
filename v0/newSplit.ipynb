{
  "nbformat": 4,
  "nbformat_minor": 0,
  "metadata": {
    "colab": {
      "provenance": [],
      "machine_shape": "hm",
      "include_colab_link": true
    },
    "kernelspec": {
      "name": "python3",
      "display_name": "Python 3"
    },
    "language_info": {
      "name": "python"
    }
  },
  "cells": [
    {
      "cell_type": "markdown",
      "metadata": {
        "id": "view-in-github",
        "colab_type": "text"
      },
      "source": [
        "<a href=\"https://colab.research.google.com/github/maimonahST/GP/blob/main/newSplit.ipynb\" target=\"_parent\"><img src=\"https://colab.research.google.com/assets/colab-badge.svg\" alt=\"Open In Colab\"/></a>"
      ]
    },
    {
      "cell_type": "code",
      "source": [
        "from glob import glob\n",
        "import scipy.io\n",
        "import torch.nn as nn\n",
        "import torch\n",
        "import numpy as np"
      ],
      "metadata": {
        "id": "ZwGsMV_s5J0u"
      },
      "execution_count": 3,
      "outputs": []
    },
    {
      "cell_type": "code",
      "source": [
        "from google.colab import drive\n",
        "drive.mount('/content/drive')"
      ],
      "metadata": {
        "colab": {
          "base_uri": "https://localhost:8080/"
        },
        "id": "-DFjv9KE8dtY",
        "outputId": "8b228955-0ee7-46e5-8cca-f34caf8c1f8a"
      },
      "execution_count": 1,
      "outputs": [
        {
          "output_type": "stream",
          "name": "stdout",
          "text": [
            "Mounted at /content/drive\n"
          ]
        }
      ]
    },
    {
      "cell_type": "markdown",
      "source": [
        "# Load the dataset"
      ],
      "metadata": {
        "id": "XCtnWmYT41c7"
      }
    },
    {
      "cell_type": "code",
      "source": [
        "import numpy as np\n",
        "data_array = np.load('/content/drive/MyDrive/GP/GP-Data/data_array.npy')\n",
        "label_array = np.load('/content/drive/MyDrive/GP/GP-Data/label_array.npy')\n",
        "group_array = np.load('/content/drive/MyDrive/GP/GP-Data/group_array.npy')\n",
        "\n",
        "\n",
        "print(data_array.shape,label_array.shape,group_array.shape)"
      ],
      "metadata": {
        "id": "lmXHJk0g45Hm",
        "colab": {
          "base_uri": "https://localhost:8080/"
        },
        "outputId": "c9857861-27a1-48d6-84ad-8d5264ee0ac5"
      },
      "execution_count": 68,
      "outputs": [
        {
          "output_type": "stream",
          "name": "stdout",
          "text": [
            "(7150, 1250, 33) (7150,) (7150,)\n"
          ]
        }
      ]
    },
    {
      "cell_type": "markdown",
      "source": [
        "# Prepare the data for traning"
      ],
      "metadata": {
        "id": "6GqhpJ5FueSI"
      }
    },
    {
      "cell_type": "code",
      "source": [
        "# convert the problem from multiclass classification to binary classification\n",
        "# make haemorrhage and schaemia classes as one\n",
        "label_array = label_array.astype('int')\n",
        "label_array[label_array==0] = 1\n",
        "label_array[label_array==2] = 0"
      ],
      "metadata": {
        "id": "3KmPxB1bMtVS"
      },
      "execution_count": 69,
      "outputs": []
    },
    {
      "cell_type": "code",
      "source": [
        "# prompt: remove all 0 in label_array and corsponding in data_array\n",
        "\n",
        "index = []\n",
        "for i in range(len(label_array)):\n",
        "  if label_array[i] == 0:\n",
        "    index.append(i)\n",
        "\n",
        "data_array = np.delete(data_array, index, axis=0)\n",
        "label_array = np.delete(label_array, index)\n",
        "group_array = np.delete(group_array, index)\n",
        "\n"
      ],
      "metadata": {
        "id": "MoE9m_Hbljxj"
      },
      "execution_count": 40,
      "outputs": []
    },
    {
      "cell_type": "code",
      "source": [
        "np.unique(label_array)"
      ],
      "metadata": {
        "colab": {
          "base_uri": "https://localhost:8080/"
        },
        "id": "xbMGTGZSlzjY",
        "outputId": "950ec782-734d-4324-8945-c587e4db44c5"
      },
      "execution_count": 41,
      "outputs": [
        {
          "output_type": "execute_result",
          "data": {
            "text/plain": [
              "array([1, 2])"
            ]
          },
          "metadata": {},
          "execution_count": 41
        }
      ]
    },
    {
      "cell_type": "code",
      "source": [
        "label_array = label_array.astype('int')\n",
        "label_array[label_array==2] = 0"
      ],
      "metadata": {
        "id": "7cNBBYdDl9eu"
      },
      "execution_count": 42,
      "outputs": []
    },
    {
      "cell_type": "code",
      "execution_count": 70,
      "metadata": {
        "id": "AAnzVQfTSJKM"
      },
      "outputs": [],
      "source": [
        "from sklearn.model_selection import GroupKFold,LeaveOneGroupOut\n",
        "from sklearn.preprocessing import StandardScaler\n",
        "gkf=GroupKFold()\n",
        "from sklearn.base import TransformerMixin,BaseEstimator\n",
        "from sklearn.preprocessing import StandardScaler\n",
        "class StandardScaler3D(BaseEstimator,TransformerMixin):\n",
        "    #batch, sequence, channels\n",
        "    def __init__(self):\n",
        "        self.scaler = StandardScaler()\n",
        "\n",
        "    def fit(self,X,y=None):\n",
        "        self.scaler.fit(X.reshape(-1, X.shape[2]))\n",
        "        return self\n",
        "\n",
        "    def transform(self,X):\n",
        "        return self.scaler.transform(X.reshape( -1,X.shape[2])).reshape(X.shape)"
      ]
    },
    {
      "cell_type": "markdown",
      "source": [
        "## Split the data into Training ,Testing and Validation"
      ],
      "metadata": {
        "id": "gHRBU97gup1Y"
      }
    },
    {
      "cell_type": "code",
      "execution_count": 71,
      "metadata": {
        "id": "7e712vJdSO9o"
      },
      "outputs": [],
      "source": [
        "# Split data_array into train and validate\n",
        "train_groups = []\n",
        "for train_index, test_index in gkf.split(data_array, label_array, groups=group_array):\n",
        "    train_features, train_label = data_array[train_index],label_array[train_index]\n",
        "    X_test, y_test =data_array[test_index],label_array[test_index]\n",
        "    train_groups = group_array[train_index]\n",
        "\n",
        "    scaler=StandardScaler3D()\n",
        "    train_features=scaler.fit_transform(train_features)\n",
        "    val_features=scaler.transform(X_test)\n",
        "\n",
        "    print(f\"group={np.unique(group_array[train_index])}\")\n",
        "    print(f\"group={np.unique(group_array[test_index])}\")\n",
        "    break\n",
        "\n"
      ]
    },
    {
      "cell_type": "code",
      "source": [
        "# Split train_features into train and test\n",
        "for train_index, val_index in gkf.split(train_features, train_label, groups= train_groups):\n",
        "    X_train, y_train =train_features[train_index],train_label[train_index]\n",
        "    X_val, y_val =train_features[val_index],train_label[val_index]\n",
        "\n",
        "    # print(f\"group={np.unique(group_array[train_index])}\")\n",
        "    # print(f\"group={np.unique(group_array[val_index])}\")\n",
        "\n",
        "    break"
      ],
      "metadata": {
        "id": "ytvl9ubzlhje"
      },
      "execution_count": 72,
      "outputs": []
    },
    {
      "cell_type": "code",
      "source": [
        "# prompt: count 0 in  y_train\n",
        "\n",
        "print((y_train == 0).sum())\n",
        "print((y_test == 0).sum())\n",
        "print((y_val == 0).sum())\n"
      ],
      "metadata": {
        "colab": {
          "base_uri": "https://localhost:8080/"
        },
        "id": "4nCmmJ-hvXSD",
        "outputId": "215822ae-ba4b-4c69-965f-8d1091a59d1c"
      },
      "execution_count": 78,
      "outputs": [
        {
          "output_type": "stream",
          "name": "stdout",
          "text": [
            "1922\n",
            "435\n",
            "439\n"
          ]
        }
      ]
    },
    {
      "cell_type": "code",
      "source": [
        "print((y_train == 1).sum())\n",
        "print((y_test == 1).sum())\n",
        "print((y_val == 1).sum())"
      ],
      "metadata": {
        "colab": {
          "base_uri": "https://localhost:8080/"
        },
        "id": "-YkczkPHv2Wy",
        "outputId": "48420f3f-79bc-4ac6-cd04-c5890c4a1e17"
      },
      "execution_count": 79,
      "outputs": [
        {
          "output_type": "stream",
          "name": "stdout",
          "text": [
            "2806\n",
            "948\n",
            "600\n"
          ]
        }
      ]
    },
    {
      "cell_type": "code",
      "source": [
        "# data spliting percentage\n",
        "train_p = train_features.shape[0]/data_array.shape[0]\n",
        "test_p = X_test.shape[0]/data_array.shape[0]\n",
        "# val_p = X_val.shape[0]/data_array.shape[0]\n",
        "\n",
        "# print(f'train_p: {train_p}, test_p: {test_p}, val_p: {val_p}')\n",
        "print(f'train_p: {train_p}, test_p: {test_p}')\n",
        "\n",
        "# print(\"total: \",train_p + test_p + val_p)\n",
        "print(\"total: \",train_p + test_p )"
      ],
      "metadata": {
        "colab": {
          "base_uri": "https://localhost:8080/"
        },
        "id": "_DjykmqIwO3Q",
        "outputId": "5e3757f8-7bad-4987-fec2-a0e067ff3627"
      },
      "execution_count": 45,
      "outputs": [
        {
          "output_type": "stream",
          "name": "stdout",
          "text": [
            "train_p: 0.8169449598021027, test_p: 0.18305504019789734\n",
            "total:  1.0\n"
          ]
        }
      ]
    },
    {
      "cell_type": "code",
      "source": [
        "# prompt: Save X_train, y_train, X_test, y_test\n",
        "\n",
        "# np.save('/content/drive/MyDrive/GP/Final Data/X_train.npy', X_train)\n",
        "# np.save('/content/drive/MyDrive/GP/Final Data/y_train.npy', y_train)\n",
        "# np.save('/content/drive/MyDrive/GP/Final Data/X_test.npy', X_test)\n",
        "# np.save('/content/drive/MyDrive/GP/Final Data/y_test.npy', y_test)\n",
        "# np.save('/content/drive/MyDrive/GP/Final Data/X_val.npy', X_val)\n",
        "# np.save('/content/drive/MyDrive/GP/Final Data/y_val.npy', y_val)\n"
      ],
      "metadata": {
        "id": "7zuYcvh-UQ97",
        "colab": {
          "base_uri": "https://localhost:8080/",
          "height": 216
        },
        "outputId": "b99761c5-fce9-4f3b-c24c-ae25c7a06eda"
      },
      "execution_count": null,
      "outputs": [
        {
          "output_type": "error",
          "ename": "NameError",
          "evalue": "name 'X_train' is not defined",
          "traceback": [
            "\u001b[0;31m---------------------------------------------------------------------------\u001b[0m",
            "\u001b[0;31mNameError\u001b[0m                                 Traceback (most recent call last)",
            "\u001b[0;32m<ipython-input-9-548ee02835ab>\u001b[0m in \u001b[0;36m<cell line: 3>\u001b[0;34m()\u001b[0m\n\u001b[1;32m      1\u001b[0m \u001b[0;31m# prompt: Save X_train, y_train, X_test, y_test\u001b[0m\u001b[0;34m\u001b[0m\u001b[0;34m\u001b[0m\u001b[0m\n\u001b[1;32m      2\u001b[0m \u001b[0;34m\u001b[0m\u001b[0m\n\u001b[0;32m----> 3\u001b[0;31m \u001b[0mnp\u001b[0m\u001b[0;34m.\u001b[0m\u001b[0msave\u001b[0m\u001b[0;34m(\u001b[0m\u001b[0;34m'/content/drive/MyDrive/GP/Final Data/X_train.npy'\u001b[0m\u001b[0;34m,\u001b[0m \u001b[0mX_train\u001b[0m\u001b[0;34m)\u001b[0m\u001b[0;34m\u001b[0m\u001b[0;34m\u001b[0m\u001b[0m\n\u001b[0m\u001b[1;32m      4\u001b[0m \u001b[0mnp\u001b[0m\u001b[0;34m.\u001b[0m\u001b[0msave\u001b[0m\u001b[0;34m(\u001b[0m\u001b[0;34m'/content/drive/MyDrive/GP/Final Data/y_train.npy'\u001b[0m\u001b[0;34m,\u001b[0m \u001b[0my_train\u001b[0m\u001b[0;34m)\u001b[0m\u001b[0;34m\u001b[0m\u001b[0;34m\u001b[0m\u001b[0m\n\u001b[1;32m      5\u001b[0m \u001b[0mnp\u001b[0m\u001b[0;34m.\u001b[0m\u001b[0msave\u001b[0m\u001b[0;34m(\u001b[0m\u001b[0;34m'/content/drive/MyDrive/GP/Final Data/X_test.npy'\u001b[0m\u001b[0;34m,\u001b[0m \u001b[0mX_test\u001b[0m\u001b[0;34m)\u001b[0m\u001b[0;34m\u001b[0m\u001b[0;34m\u001b[0m\u001b[0m\n",
            "\u001b[0;31mNameError\u001b[0m: name 'X_train' is not defined"
          ]
        }
      ]
    },
    {
      "cell_type": "markdown",
      "source": [
        "# Load the pretrained models\n"
      ],
      "metadata": {
        "id": "T9e4x-dI6L60"
      }
    },
    {
      "cell_type": "code",
      "source": [
        "# Assuming X_train is image data with shape (num_samples, height, width, channels)\n",
        "x, y , z  = X_train.shape\n",
        "X_train_reshaped = X_train.reshape((x, y * z))\n"
      ],
      "metadata": {
        "id": "ntEPJFSSfJfF",
        "colab": {
          "base_uri": "https://localhost:8080/",
          "height": 180
        },
        "outputId": "584fe58d-f558-408d-e43d-821c1262d4ed"
      },
      "execution_count": 46,
      "outputs": [
        {
          "output_type": "error",
          "ename": "ValueError",
          "evalue": "not enough values to unpack (expected 3, got 2)",
          "traceback": [
            "\u001b[0;31m---------------------------------------------------------------------------\u001b[0m",
            "\u001b[0;31mValueError\u001b[0m                                Traceback (most recent call last)",
            "\u001b[0;32m<ipython-input-46-3d7a4287d041>\u001b[0m in \u001b[0;36m<cell line: 2>\u001b[0;34m()\u001b[0m\n\u001b[1;32m      1\u001b[0m \u001b[0;31m# Assuming X_train is image data with shape (num_samples, height, width, channels)\u001b[0m\u001b[0;34m\u001b[0m\u001b[0;34m\u001b[0m\u001b[0m\n\u001b[0;32m----> 2\u001b[0;31m \u001b[0mx\u001b[0m\u001b[0;34m,\u001b[0m \u001b[0my\u001b[0m \u001b[0;34m,\u001b[0m \u001b[0mz\u001b[0m  \u001b[0;34m=\u001b[0m \u001b[0mX_train\u001b[0m\u001b[0;34m.\u001b[0m\u001b[0mshape\u001b[0m\u001b[0;34m\u001b[0m\u001b[0;34m\u001b[0m\u001b[0m\n\u001b[0m\u001b[1;32m      3\u001b[0m \u001b[0mX_train_reshaped\u001b[0m \u001b[0;34m=\u001b[0m \u001b[0mX_train\u001b[0m\u001b[0;34m.\u001b[0m\u001b[0mreshape\u001b[0m\u001b[0;34m(\u001b[0m\u001b[0;34m(\u001b[0m\u001b[0mx\u001b[0m\u001b[0;34m,\u001b[0m \u001b[0my\u001b[0m \u001b[0;34m*\u001b[0m \u001b[0mz\u001b[0m\u001b[0;34m)\u001b[0m\u001b[0;34m)\u001b[0m\u001b[0;34m\u001b[0m\u001b[0;34m\u001b[0m\u001b[0m\n",
            "\u001b[0;31mValueError\u001b[0m: not enough values to unpack (expected 3, got 2)"
          ]
        }
      ]
    },
    {
      "cell_type": "code",
      "source": [
        "X_train_reshaped.shape\n"
      ],
      "metadata": {
        "colab": {
          "base_uri": "https://localhost:8080/"
        },
        "id": "fzmi07ZDfY7d",
        "outputId": "012cfb95-5569-4e1c-c071-8e31c8d5749d"
      },
      "execution_count": null,
      "outputs": [
        {
          "output_type": "execute_result",
          "data": {
            "text/plain": [
              "(4728, 41250)"
            ]
          },
          "metadata": {},
          "execution_count": 20
        }
      ]
    },
    {
      "cell_type": "code",
      "source": [
        "X_train = train_features\n",
        "y_train = train_label"
      ],
      "metadata": {
        "id": "HooNtYn7SMZt"
      },
      "execution_count": 63,
      "outputs": []
    },
    {
      "cell_type": "code",
      "source": [
        "X_train.shape"
      ],
      "metadata": {
        "colab": {
          "base_uri": "https://localhost:8080/"
        },
        "id": "heUTLZH_SV58",
        "outputId": "53ff2b22-9494-4300-fbf1-6c93f97698f3"
      },
      "execution_count": 25,
      "outputs": [
        {
          "output_type": "execute_result",
          "data": {
            "text/plain": [
              "(5302, 41250)"
            ]
          },
          "metadata": {},
          "execution_count": 25
        }
      ]
    },
    {
      "cell_type": "code",
      "source": [
        "X_train = train_features.reshape(train_features.shape[0], -1)\n",
        "# X_val = X_val.reshape(X_val.shape[0], -1)\n",
        "X_test = X_test.reshape(X_test.shape[0], -1)\n",
        "y_train = train_label.reshape(train_features.shape[0], -1)\n",
        "# y_val = y_val.reshape(y_val.shape[0], -1)\n",
        "y_test = y_test.reshape(y_test.shape[0], -1)"
      ],
      "metadata": {
        "id": "d0InwTGqK2Lx"
      },
      "execution_count": 51,
      "outputs": []
    },
    {
      "cell_type": "code",
      "source": [
        "# prompt: do feature selection for X_train\n",
        "\n",
        "from sklearn.feature_selection import SelectKBest, f_classif\n",
        "\n",
        "k = 10  # number of features to select\n",
        "selector = SelectKBest(f_classif, k=k)\n",
        "X_train_selected = selector.fit_transform(X_train, y_train)\n",
        "X_test_selected = selector.transform(X_test)\n",
        "\n",
        "\n",
        "# Print the selected features\n",
        "print(X_train_selected.shape)\n"
      ],
      "metadata": {
        "colab": {
          "base_uri": "https://localhost:8080/"
        },
        "id": "U4mRwxXSjk3P",
        "outputId": "b35343d5-62ce-4e3d-f243-67b1b4f186e5"
      },
      "execution_count": 52,
      "outputs": [
        {
          "output_type": "stream",
          "name": "stderr",
          "text": [
            "/usr/local/lib/python3.10/dist-packages/sklearn/utils/validation.py:1143: DataConversionWarning: A column-vector y was passed when a 1d array was expected. Please change the shape of y to (n_samples, ), for example using ravel().\n",
            "  y = column_or_1d(y, warn=True)\n"
          ]
        },
        {
          "output_type": "stream",
          "name": "stdout",
          "text": [
            "(3963, 10)\n"
          ]
        }
      ]
    },
    {
      "cell_type": "code",
      "source": [
        "X_train.shape"
      ],
      "metadata": {
        "colab": {
          "base_uri": "https://localhost:8080/"
        },
        "id": "tr_2PpOGSa3n",
        "outputId": "8480e686-a1a7-487f-c7fa-ca48baca53de"
      },
      "execution_count": 53,
      "outputs": [
        {
          "output_type": "execute_result",
          "data": {
            "text/plain": [
              "(3963, 41250)"
            ]
          },
          "metadata": {},
          "execution_count": 53
        }
      ]
    },
    {
      "cell_type": "code",
      "source": [],
      "metadata": {
        "id": "xWANS0HVokA2"
      },
      "execution_count": null,
      "outputs": []
    },
    {
      "cell_type": "markdown",
      "source": [
        "# ML"
      ],
      "metadata": {
        "id": "l_SkiZv0okV9"
      }
    },
    {
      "cell_type": "code",
      "source": [
        "from sklearn.ensemble import RandomForestClassifier\n",
        "from sklearn.metrics import accuracy_score, classification_report\n",
        "\n",
        "# Build and train Random Forest Classifier\n",
        "rf_classifier = RandomForestClassifier(n_estimators=50, random_state=42)\n",
        "rf_classifier.fit(X_train_selected, y_train)\n",
        "\n",
        "# # Predictions on the validation set\n",
        "# rf_val_predictions = rf_classifier.predict(X_val)\n",
        "# rf_val_accuracy = accuracy_score(y_val, rf_val_predictions)\n",
        "# print(\"Random Forest Validation Accuracy:\", rf_val_accuracy)\n",
        "# print(\"Classification Report (Validation):\\n\", classification_report(y_val, rf_val_predictions))\n",
        "\n",
        "# Predictions on the test set\n",
        "rf_test_predictions = rf_classifier.predict(X_test_selected)\n",
        "rf_test_accuracy = accuracy_score(y_test, rf_test_predictions)\n",
        "print(\"Random Forest Test Accuracy:\", rf_test_accuracy)\n",
        "print(\"Classification Report (Test):\\n\", classification_report(y_test, rf_test_predictions))"
      ],
      "metadata": {
        "colab": {
          "base_uri": "https://localhost:8080/"
        },
        "id": "Jqsf2-QcLVMc",
        "outputId": "df69b510-8ae3-4c2c-95ea-85f671c3d836"
      },
      "execution_count": 54,
      "outputs": [
        {
          "output_type": "stream",
          "name": "stderr",
          "text": [
            "<ipython-input-54-58ea3910edc5>:6: DataConversionWarning: A column-vector y was passed when a 1d array was expected. Please change the shape of y to (n_samples,), for example using ravel().\n",
            "  rf_classifier.fit(X_train_selected, y_train)\n"
          ]
        },
        {
          "output_type": "stream",
          "name": "stdout",
          "text": [
            "Random Forest Test Accuracy: 0.6531531531531531\n",
            "Classification Report (Test):\n",
            "               precision    recall  f1-score   support\n",
            "\n",
            "           0       0.65      1.00      0.79       580\n",
            "           1       0.00      0.00      0.00       308\n",
            "\n",
            "    accuracy                           0.65       888\n",
            "   macro avg       0.33      0.50      0.40       888\n",
            "weighted avg       0.43      0.65      0.52       888\n",
            "\n"
          ]
        },
        {
          "output_type": "stream",
          "name": "stderr",
          "text": [
            "/usr/local/lib/python3.10/dist-packages/sklearn/metrics/_classification.py:1344: UndefinedMetricWarning: Precision and F-score are ill-defined and being set to 0.0 in labels with no predicted samples. Use `zero_division` parameter to control this behavior.\n",
            "  _warn_prf(average, modifier, msg_start, len(result))\n",
            "/usr/local/lib/python3.10/dist-packages/sklearn/metrics/_classification.py:1344: UndefinedMetricWarning: Precision and F-score are ill-defined and being set to 0.0 in labels with no predicted samples. Use `zero_division` parameter to control this behavior.\n",
            "  _warn_prf(average, modifier, msg_start, len(result))\n",
            "/usr/local/lib/python3.10/dist-packages/sklearn/metrics/_classification.py:1344: UndefinedMetricWarning: Precision and F-score are ill-defined and being set to 0.0 in labels with no predicted samples. Use `zero_division` parameter to control this behavior.\n",
            "  _warn_prf(average, modifier, msg_start, len(result))\n"
          ]
        }
      ]
    },
    {
      "cell_type": "code",
      "source": [
        "# prompt: write several ML models\n",
        "\n",
        "# Import necessary libraries\n",
        "from sklearn.linear_model import LogisticRegression\n",
        "from sklearn.svm import SVC\n",
        "from sklearn.ensemble import RandomForestClassifier\n",
        "from sklearn.ensemble import GradientBoostingClassifier\n",
        "from sklearn.ensemble import VotingClassifier\n",
        "\n",
        "# Define the list of models\n",
        "models = [\n",
        "    (\"Logistic Regression\", LogisticRegression()),\n",
        "    (\"SVM\", SVC()),\n",
        "    (\"Random Forest\", RandomForestClassifier())\n",
        "]\n",
        "\n",
        "# Create a voting classifier\n",
        "voting_classifier = VotingClassifier(estimators=models)\n",
        "\n",
        "# Train the voting classifier on the training data\n",
        "voting_classifier.fit(X_train_selected, y_train)\n",
        "\n",
        "# Evaluate the voting classifier on the test data\n",
        "voting_test_predictions = voting_classifier.predict(X_test_selected)\n",
        "voting_test_accuracy = accuracy_score(y_test, voting_test_predictions)\n",
        "print(\"voting Test Accuracy:\", voting_test_accuracy)\n",
        "print(\"Classification Report (Test):\\n\", classification_report(y_test, voting_test_predictions))\n",
        "\n"
      ],
      "metadata": {
        "colab": {
          "base_uri": "https://localhost:8080/",
          "height": 617
        },
        "id": "R4FEkjPtQmNz",
        "outputId": "64b782d6-20a9-4368-a41b-b28115dfdeec"
      },
      "execution_count": 55,
      "outputs": [
        {
          "output_type": "stream",
          "name": "stderr",
          "text": [
            "/usr/local/lib/python3.10/dist-packages/sklearn/preprocessing/_label.py:99: DataConversionWarning: A column-vector y was passed when a 1d array was expected. Please change the shape of y to (n_samples, ), for example using ravel().\n",
            "  y = column_or_1d(y, warn=True)\n",
            "/usr/local/lib/python3.10/dist-packages/sklearn/preprocessing/_label.py:134: DataConversionWarning: A column-vector y was passed when a 1d array was expected. Please change the shape of y to (n_samples, ), for example using ravel().\n",
            "  y = column_or_1d(y, dtype=self.classes_.dtype, warn=True)\n",
            "/usr/local/lib/python3.10/dist-packages/sklearn/linear_model/_logistic.py:458: ConvergenceWarning: lbfgs failed to converge (status=1):\n",
            "STOP: TOTAL NO. of ITERATIONS REACHED LIMIT.\n",
            "\n",
            "Increase the number of iterations (max_iter) or scale the data as shown in:\n",
            "    https://scikit-learn.org/stable/modules/preprocessing.html\n",
            "Please also refer to the documentation for alternative solver options:\n",
            "    https://scikit-learn.org/stable/modules/linear_model.html#logistic-regression\n",
            "  n_iter_i = _check_optimize_result(\n"
          ]
        },
        {
          "output_type": "error",
          "ename": "KeyboardInterrupt",
          "evalue": "",
          "traceback": [
            "\u001b[0;31m---------------------------------------------------------------------------\u001b[0m",
            "\u001b[0;31mKeyboardInterrupt\u001b[0m                         Traceback (most recent call last)",
            "\u001b[0;32m<ipython-input-55-4ea3c4c99964>\u001b[0m in \u001b[0;36m<cell line: 21>\u001b[0;34m()\u001b[0m\n\u001b[1;32m     19\u001b[0m \u001b[0;34m\u001b[0m\u001b[0m\n\u001b[1;32m     20\u001b[0m \u001b[0;31m# Train the voting classifier on the training data\u001b[0m\u001b[0;34m\u001b[0m\u001b[0;34m\u001b[0m\u001b[0m\n\u001b[0;32m---> 21\u001b[0;31m \u001b[0mvoting_classifier\u001b[0m\u001b[0;34m.\u001b[0m\u001b[0mfit\u001b[0m\u001b[0;34m(\u001b[0m\u001b[0mX_train\u001b[0m\u001b[0;34m,\u001b[0m \u001b[0my_train\u001b[0m\u001b[0;34m)\u001b[0m\u001b[0;34m\u001b[0m\u001b[0;34m\u001b[0m\u001b[0m\n\u001b[0m\u001b[1;32m     22\u001b[0m \u001b[0;34m\u001b[0m\u001b[0m\n\u001b[1;32m     23\u001b[0m \u001b[0;31m# Evaluate the voting classifier on the test data\u001b[0m\u001b[0;34m\u001b[0m\u001b[0;34m\u001b[0m\u001b[0m\n",
            "\u001b[0;32m/usr/local/lib/python3.10/dist-packages/sklearn/ensemble/_voting.py\u001b[0m in \u001b[0;36mfit\u001b[0;34m(self, X, y, sample_weight)\u001b[0m\n\u001b[1;32m    344\u001b[0m         \u001b[0mtransformed_y\u001b[0m \u001b[0;34m=\u001b[0m \u001b[0mself\u001b[0m\u001b[0;34m.\u001b[0m\u001b[0mle_\u001b[0m\u001b[0;34m.\u001b[0m\u001b[0mtransform\u001b[0m\u001b[0;34m(\u001b[0m\u001b[0my\u001b[0m\u001b[0;34m)\u001b[0m\u001b[0;34m\u001b[0m\u001b[0;34m\u001b[0m\u001b[0m\n\u001b[1;32m    345\u001b[0m \u001b[0;34m\u001b[0m\u001b[0m\n\u001b[0;32m--> 346\u001b[0;31m         \u001b[0;32mreturn\u001b[0m \u001b[0msuper\u001b[0m\u001b[0;34m(\u001b[0m\u001b[0;34m)\u001b[0m\u001b[0;34m.\u001b[0m\u001b[0mfit\u001b[0m\u001b[0;34m(\u001b[0m\u001b[0mX\u001b[0m\u001b[0;34m,\u001b[0m \u001b[0mtransformed_y\u001b[0m\u001b[0;34m,\u001b[0m \u001b[0msample_weight\u001b[0m\u001b[0;34m)\u001b[0m\u001b[0;34m\u001b[0m\u001b[0;34m\u001b[0m\u001b[0m\n\u001b[0m\u001b[1;32m    347\u001b[0m \u001b[0;34m\u001b[0m\u001b[0m\n\u001b[1;32m    348\u001b[0m     \u001b[0;32mdef\u001b[0m \u001b[0mpredict\u001b[0m\u001b[0;34m(\u001b[0m\u001b[0mself\u001b[0m\u001b[0;34m,\u001b[0m \u001b[0mX\u001b[0m\u001b[0;34m)\u001b[0m\u001b[0;34m:\u001b[0m\u001b[0;34m\u001b[0m\u001b[0;34m\u001b[0m\u001b[0m\n",
            "\u001b[0;32m/usr/local/lib/python3.10/dist-packages/sklearn/ensemble/_voting.py\u001b[0m in \u001b[0;36mfit\u001b[0;34m(self, X, y, sample_weight)\u001b[0m\n\u001b[1;32m     79\u001b[0m             )\n\u001b[1;32m     80\u001b[0m \u001b[0;34m\u001b[0m\u001b[0m\n\u001b[0;32m---> 81\u001b[0;31m         self.estimators_ = Parallel(n_jobs=self.n_jobs)(\n\u001b[0m\u001b[1;32m     82\u001b[0m             delayed(_fit_single_estimator)(\n\u001b[1;32m     83\u001b[0m                 \u001b[0mclone\u001b[0m\u001b[0;34m(\u001b[0m\u001b[0mclf\u001b[0m\u001b[0;34m)\u001b[0m\u001b[0;34m,\u001b[0m\u001b[0;34m\u001b[0m\u001b[0;34m\u001b[0m\u001b[0m\n",
            "\u001b[0;32m/usr/local/lib/python3.10/dist-packages/sklearn/utils/parallel.py\u001b[0m in \u001b[0;36m__call__\u001b[0;34m(self, iterable)\u001b[0m\n\u001b[1;32m     61\u001b[0m             \u001b[0;32mfor\u001b[0m \u001b[0mdelayed_func\u001b[0m\u001b[0;34m,\u001b[0m \u001b[0margs\u001b[0m\u001b[0;34m,\u001b[0m \u001b[0mkwargs\u001b[0m \u001b[0;32min\u001b[0m \u001b[0miterable\u001b[0m\u001b[0;34m\u001b[0m\u001b[0;34m\u001b[0m\u001b[0m\n\u001b[1;32m     62\u001b[0m         )\n\u001b[0;32m---> 63\u001b[0;31m         \u001b[0;32mreturn\u001b[0m \u001b[0msuper\u001b[0m\u001b[0;34m(\u001b[0m\u001b[0;34m)\u001b[0m\u001b[0;34m.\u001b[0m\u001b[0m__call__\u001b[0m\u001b[0;34m(\u001b[0m\u001b[0miterable_with_config\u001b[0m\u001b[0;34m)\u001b[0m\u001b[0;34m\u001b[0m\u001b[0;34m\u001b[0m\u001b[0m\n\u001b[0m\u001b[1;32m     64\u001b[0m \u001b[0;34m\u001b[0m\u001b[0m\n\u001b[1;32m     65\u001b[0m \u001b[0;34m\u001b[0m\u001b[0m\n",
            "\u001b[0;32m/usr/local/lib/python3.10/dist-packages/joblib/parallel.py\u001b[0m in \u001b[0;36m__call__\u001b[0;34m(self, iterable)\u001b[0m\n\u001b[1;32m   1861\u001b[0m             \u001b[0moutput\u001b[0m \u001b[0;34m=\u001b[0m \u001b[0mself\u001b[0m\u001b[0;34m.\u001b[0m\u001b[0m_get_sequential_output\u001b[0m\u001b[0;34m(\u001b[0m\u001b[0miterable\u001b[0m\u001b[0;34m)\u001b[0m\u001b[0;34m\u001b[0m\u001b[0;34m\u001b[0m\u001b[0m\n\u001b[1;32m   1862\u001b[0m             \u001b[0mnext\u001b[0m\u001b[0;34m(\u001b[0m\u001b[0moutput\u001b[0m\u001b[0;34m)\u001b[0m\u001b[0;34m\u001b[0m\u001b[0;34m\u001b[0m\u001b[0m\n\u001b[0;32m-> 1863\u001b[0;31m             \u001b[0;32mreturn\u001b[0m \u001b[0moutput\u001b[0m \u001b[0;32mif\u001b[0m \u001b[0mself\u001b[0m\u001b[0;34m.\u001b[0m\u001b[0mreturn_generator\u001b[0m \u001b[0;32melse\u001b[0m \u001b[0mlist\u001b[0m\u001b[0;34m(\u001b[0m\u001b[0moutput\u001b[0m\u001b[0;34m)\u001b[0m\u001b[0;34m\u001b[0m\u001b[0;34m\u001b[0m\u001b[0m\n\u001b[0m\u001b[1;32m   1864\u001b[0m \u001b[0;34m\u001b[0m\u001b[0m\n\u001b[1;32m   1865\u001b[0m         \u001b[0;31m# Let's create an ID that uniquely identifies the current call. If the\u001b[0m\u001b[0;34m\u001b[0m\u001b[0;34m\u001b[0m\u001b[0m\n",
            "\u001b[0;32m/usr/local/lib/python3.10/dist-packages/joblib/parallel.py\u001b[0m in \u001b[0;36m_get_sequential_output\u001b[0;34m(self, iterable)\u001b[0m\n\u001b[1;32m   1790\u001b[0m                 \u001b[0mself\u001b[0m\u001b[0;34m.\u001b[0m\u001b[0mn_dispatched_batches\u001b[0m \u001b[0;34m+=\u001b[0m \u001b[0;36m1\u001b[0m\u001b[0;34m\u001b[0m\u001b[0;34m\u001b[0m\u001b[0m\n\u001b[1;32m   1791\u001b[0m                 \u001b[0mself\u001b[0m\u001b[0;34m.\u001b[0m\u001b[0mn_dispatched_tasks\u001b[0m \u001b[0;34m+=\u001b[0m \u001b[0;36m1\u001b[0m\u001b[0;34m\u001b[0m\u001b[0;34m\u001b[0m\u001b[0m\n\u001b[0;32m-> 1792\u001b[0;31m                 \u001b[0mres\u001b[0m \u001b[0;34m=\u001b[0m \u001b[0mfunc\u001b[0m\u001b[0;34m(\u001b[0m\u001b[0;34m*\u001b[0m\u001b[0margs\u001b[0m\u001b[0;34m,\u001b[0m \u001b[0;34m**\u001b[0m\u001b[0mkwargs\u001b[0m\u001b[0;34m)\u001b[0m\u001b[0;34m\u001b[0m\u001b[0;34m\u001b[0m\u001b[0m\n\u001b[0m\u001b[1;32m   1793\u001b[0m                 \u001b[0mself\u001b[0m\u001b[0;34m.\u001b[0m\u001b[0mn_completed_tasks\u001b[0m \u001b[0;34m+=\u001b[0m \u001b[0;36m1\u001b[0m\u001b[0;34m\u001b[0m\u001b[0;34m\u001b[0m\u001b[0m\n\u001b[1;32m   1794\u001b[0m                 \u001b[0mself\u001b[0m\u001b[0;34m.\u001b[0m\u001b[0mprint_progress\u001b[0m\u001b[0;34m(\u001b[0m\u001b[0;34m)\u001b[0m\u001b[0;34m\u001b[0m\u001b[0;34m\u001b[0m\u001b[0m\n",
            "\u001b[0;32m/usr/local/lib/python3.10/dist-packages/sklearn/utils/parallel.py\u001b[0m in \u001b[0;36m__call__\u001b[0;34m(self, *args, **kwargs)\u001b[0m\n\u001b[1;32m    121\u001b[0m             \u001b[0mconfig\u001b[0m \u001b[0;34m=\u001b[0m \u001b[0;34m{\u001b[0m\u001b[0;34m}\u001b[0m\u001b[0;34m\u001b[0m\u001b[0;34m\u001b[0m\u001b[0m\n\u001b[1;32m    122\u001b[0m         \u001b[0;32mwith\u001b[0m \u001b[0mconfig_context\u001b[0m\u001b[0;34m(\u001b[0m\u001b[0;34m**\u001b[0m\u001b[0mconfig\u001b[0m\u001b[0;34m)\u001b[0m\u001b[0;34m:\u001b[0m\u001b[0;34m\u001b[0m\u001b[0;34m\u001b[0m\u001b[0m\n\u001b[0;32m--> 123\u001b[0;31m             \u001b[0;32mreturn\u001b[0m \u001b[0mself\u001b[0m\u001b[0;34m.\u001b[0m\u001b[0mfunction\u001b[0m\u001b[0;34m(\u001b[0m\u001b[0;34m*\u001b[0m\u001b[0margs\u001b[0m\u001b[0;34m,\u001b[0m \u001b[0;34m**\u001b[0m\u001b[0mkwargs\u001b[0m\u001b[0;34m)\u001b[0m\u001b[0;34m\u001b[0m\u001b[0;34m\u001b[0m\u001b[0m\n\u001b[0m",
            "\u001b[0;32m/usr/local/lib/python3.10/dist-packages/sklearn/ensemble/_base.py\u001b[0m in \u001b[0;36m_fit_single_estimator\u001b[0;34m(estimator, X, y, sample_weight, message_clsname, message)\u001b[0m\n\u001b[1;32m     44\u001b[0m     \u001b[0;32melse\u001b[0m\u001b[0;34m:\u001b[0m\u001b[0;34m\u001b[0m\u001b[0;34m\u001b[0m\u001b[0m\n\u001b[1;32m     45\u001b[0m         \u001b[0;32mwith\u001b[0m \u001b[0m_print_elapsed_time\u001b[0m\u001b[0;34m(\u001b[0m\u001b[0mmessage_clsname\u001b[0m\u001b[0;34m,\u001b[0m \u001b[0mmessage\u001b[0m\u001b[0;34m)\u001b[0m\u001b[0;34m:\u001b[0m\u001b[0;34m\u001b[0m\u001b[0;34m\u001b[0m\u001b[0m\n\u001b[0;32m---> 46\u001b[0;31m             \u001b[0mestimator\u001b[0m\u001b[0;34m.\u001b[0m\u001b[0mfit\u001b[0m\u001b[0;34m(\u001b[0m\u001b[0mX\u001b[0m\u001b[0;34m,\u001b[0m \u001b[0my\u001b[0m\u001b[0;34m)\u001b[0m\u001b[0;34m\u001b[0m\u001b[0;34m\u001b[0m\u001b[0m\n\u001b[0m\u001b[1;32m     47\u001b[0m     \u001b[0;32mreturn\u001b[0m \u001b[0mestimator\u001b[0m\u001b[0;34m\u001b[0m\u001b[0;34m\u001b[0m\u001b[0m\n\u001b[1;32m     48\u001b[0m \u001b[0;34m\u001b[0m\u001b[0m\n",
            "\u001b[0;32m/usr/local/lib/python3.10/dist-packages/sklearn/svm/_base.py\u001b[0m in \u001b[0;36mfit\u001b[0;34m(self, X, y, sample_weight)\u001b[0m\n\u001b[1;32m    250\u001b[0m \u001b[0;34m\u001b[0m\u001b[0m\n\u001b[1;32m    251\u001b[0m         \u001b[0mseed\u001b[0m \u001b[0;34m=\u001b[0m \u001b[0mrnd\u001b[0m\u001b[0;34m.\u001b[0m\u001b[0mrandint\u001b[0m\u001b[0;34m(\u001b[0m\u001b[0mnp\u001b[0m\u001b[0;34m.\u001b[0m\u001b[0miinfo\u001b[0m\u001b[0;34m(\u001b[0m\u001b[0;34m\"i\"\u001b[0m\u001b[0;34m)\u001b[0m\u001b[0;34m.\u001b[0m\u001b[0mmax\u001b[0m\u001b[0;34m)\u001b[0m\u001b[0;34m\u001b[0m\u001b[0;34m\u001b[0m\u001b[0m\n\u001b[0;32m--> 252\u001b[0;31m         \u001b[0mfit\u001b[0m\u001b[0;34m(\u001b[0m\u001b[0mX\u001b[0m\u001b[0;34m,\u001b[0m \u001b[0my\u001b[0m\u001b[0;34m,\u001b[0m \u001b[0msample_weight\u001b[0m\u001b[0;34m,\u001b[0m \u001b[0msolver_type\u001b[0m\u001b[0;34m,\u001b[0m \u001b[0mkernel\u001b[0m\u001b[0;34m,\u001b[0m \u001b[0mrandom_seed\u001b[0m\u001b[0;34m=\u001b[0m\u001b[0mseed\u001b[0m\u001b[0;34m)\u001b[0m\u001b[0;34m\u001b[0m\u001b[0;34m\u001b[0m\u001b[0m\n\u001b[0m\u001b[1;32m    253\u001b[0m         \u001b[0;31m# see comment on the other call to np.iinfo in this file\u001b[0m\u001b[0;34m\u001b[0m\u001b[0;34m\u001b[0m\u001b[0m\n\u001b[1;32m    254\u001b[0m \u001b[0;34m\u001b[0m\u001b[0m\n",
            "\u001b[0;32m/usr/local/lib/python3.10/dist-packages/sklearn/svm/_base.py\u001b[0m in \u001b[0;36m_dense_fit\u001b[0;34m(self, X, y, sample_weight, solver_type, kernel, random_seed)\u001b[0m\n\u001b[1;32m    329\u001b[0m             \u001b[0mself\u001b[0m\u001b[0;34m.\u001b[0m\u001b[0mfit_status_\u001b[0m\u001b[0;34m,\u001b[0m\u001b[0;34m\u001b[0m\u001b[0;34m\u001b[0m\u001b[0m\n\u001b[1;32m    330\u001b[0m             \u001b[0mself\u001b[0m\u001b[0;34m.\u001b[0m\u001b[0m_num_iter\u001b[0m\u001b[0;34m,\u001b[0m\u001b[0;34m\u001b[0m\u001b[0;34m\u001b[0m\u001b[0m\n\u001b[0;32m--> 331\u001b[0;31m         \u001b[0;34m)\u001b[0m \u001b[0;34m=\u001b[0m \u001b[0mlibsvm\u001b[0m\u001b[0;34m.\u001b[0m\u001b[0mfit\u001b[0m\u001b[0;34m(\u001b[0m\u001b[0;34m\u001b[0m\u001b[0;34m\u001b[0m\u001b[0m\n\u001b[0m\u001b[1;32m    332\u001b[0m             \u001b[0mX\u001b[0m\u001b[0;34m,\u001b[0m\u001b[0;34m\u001b[0m\u001b[0;34m\u001b[0m\u001b[0m\n\u001b[1;32m    333\u001b[0m             \u001b[0my\u001b[0m\u001b[0;34m,\u001b[0m\u001b[0;34m\u001b[0m\u001b[0;34m\u001b[0m\u001b[0m\n",
            "\u001b[0;31mKeyboardInterrupt\u001b[0m: "
          ]
        }
      ]
    },
    {
      "cell_type": "markdown",
      "source": [
        "# DL"
      ],
      "metadata": {
        "id": "MLWUZ-SLomog"
      }
    },
    {
      "cell_type": "code",
      "source": [
        "import tensorflow as tf\n",
        "from tensorflow.keras.layers import Input,Dense,concatenate,Flatten,GRU,Conv1D\n",
        "from tensorflow.keras.models import Model\n",
        "from tensorflow.keras.optimizers import Adam\n",
        "from tensorflow.keras.callbacks import EarlyStopping"
      ],
      "metadata": {
        "id": "fGsSxCoLonjY"
      },
      "execution_count": 56,
      "outputs": []
    },
    {
      "cell_type": "code",
      "source": [
        "from tensorflow.keras.layers import Input, Conv1D, concatenate, Dense, MaxPooling1D, Flatten\n",
        "from tensorflow.keras.models import Model\n",
        "from tensorflow.keras.optimizers import Adam\n",
        "from tensorflow.keras.callbacks import EarlyStopping\n",
        "\n",
        "def block(input):\n",
        "    conv1 = Conv1D(32, 2, strides=2, activation='relu', padding=\"same\")(input)\n",
        "    conv2 = Conv1D(32, 4, strides=2, activation='relu', padding=\"causal\")(input)\n",
        "    conv3 = Conv1D(32, 8, strides=2, activation='relu', padding=\"causal\")(input)\n",
        "    x = concatenate([conv1, conv2, conv3], axis=2)\n",
        "    return x\n",
        "\n",
        "# Define the input layer with a shape of (1250, 33)\n",
        "input_layer = Input(shape=(1250, 33))\n",
        "\n",
        "# Create the first block\n",
        "block1 = block(input_layer)\n",
        "\n",
        "# Create the second block using the 'block' function with the output of the first block as input\n",
        "block2 = block(block1)\n",
        "\n",
        "# Create the third block using the 'block' function with the output of the second block as input\n",
        "block3 = block(block2)\n",
        "\n",
        "cnn_out1 = Conv1D(32, 3, activation='relu', padding='same')(block3)\n",
        "cnn_out2 = Conv1D(32, 3, activation='relu', padding='same')(cnn_out1)\n",
        "cnn_out3 = MaxPooling1D(pool_size=2)(cnn_out2)\n",
        "cnn_out4 = Flatten()(cnn_out3)\n",
        "\n",
        "# Create a Dense layer with 1 unit and sigmoid activation for binary classification\n",
        "predictions = Dense(1, activation='sigmoid')(cnn_out4)\n",
        "\n",
        "# Define the model with 'input_layer' as the input and 'predictions' as the output\n",
        "model = Model(inputs=input_layer, outputs=predictions)\n",
        "\n",
        "# Specify the Adam optimizer with a learning rate of 0.0001\n",
        "optimizer = Adam(learning_rate=0.0001)\n",
        "\n",
        "# Compile the model with binary crossentropy loss and accuracy as the evaluation metric\n",
        "model.compile(optimizer=optimizer, loss='binary_crossentropy', metrics=['accuracy'])\n",
        "\n",
        "# Define early stopping callback\n",
        "early_stopping = EarlyStopping(monitor='val_loss', patience=5, restore_best_weights=True)\n",
        "\n",
        "# Train the model using training features and labels\n",
        "hist = model.fit(X_train, y_train, epochs=50, batch_size=132, validation_data=(X_val, y_val), callbacks=[early_stopping])\n"
      ],
      "metadata": {
        "colab": {
          "base_uri": "https://localhost:8080/"
        },
        "id": "lBi-GnpGo6Sr",
        "outputId": "3abd99fd-5a96-4d80-c206-5678f55fc2ca"
      },
      "execution_count": 74,
      "outputs": [
        {
          "output_type": "stream",
          "name": "stdout",
          "text": [
            "Epoch 1/50\n",
            "36/36 [==============================] - 12s 263ms/step - loss: 0.6905 - accuracy: 0.5761 - val_loss: 0.6896 - val_accuracy: 0.5582\n",
            "Epoch 2/50\n",
            "36/36 [==============================] - 9s 251ms/step - loss: 0.6696 - accuracy: 0.5964 - val_loss: 0.6923 - val_accuracy: 0.5746\n",
            "Epoch 3/50\n",
            "36/36 [==============================] - 9s 248ms/step - loss: 0.6541 - accuracy: 0.6172 - val_loss: 0.6964 - val_accuracy: 0.5765\n",
            "Epoch 4/50\n",
            "36/36 [==============================] - 8s 235ms/step - loss: 0.6366 - accuracy: 0.6366 - val_loss: 0.6910 - val_accuracy: 0.5746\n",
            "Epoch 5/50\n",
            "36/36 [==============================] - 9s 246ms/step - loss: 0.6217 - accuracy: 0.6485 - val_loss: 0.6850 - val_accuracy: 0.5688\n",
            "Epoch 6/50\n",
            "36/36 [==============================] - 9s 256ms/step - loss: 0.5985 - accuracy: 0.6880 - val_loss: 0.6819 - val_accuracy: 0.5813\n",
            "Epoch 7/50\n",
            "36/36 [==============================] - 9s 243ms/step - loss: 0.5735 - accuracy: 0.7242 - val_loss: 0.6728 - val_accuracy: 0.5861\n",
            "Epoch 8/50\n",
            "36/36 [==============================] - 9s 245ms/step - loss: 0.5247 - accuracy: 0.7743 - val_loss: 0.6468 - val_accuracy: 0.6169\n",
            "Epoch 9/50\n",
            "36/36 [==============================] - 9s 241ms/step - loss: 0.4578 - accuracy: 0.8253 - val_loss: 0.6043 - val_accuracy: 0.6545\n",
            "Epoch 10/50\n",
            "36/36 [==============================] - 9s 245ms/step - loss: 0.3912 - accuracy: 0.8558 - val_loss: 0.5706 - val_accuracy: 0.7007\n",
            "Epoch 11/50\n",
            "36/36 [==============================] - 9s 240ms/step - loss: 0.3331 - accuracy: 0.8792 - val_loss: 0.5737 - val_accuracy: 0.6910\n",
            "Epoch 12/50\n",
            "36/36 [==============================] - 8s 228ms/step - loss: 0.2961 - accuracy: 0.8892 - val_loss: 0.5311 - val_accuracy: 0.6901\n",
            "Epoch 13/50\n",
            "36/36 [==============================] - 10s 278ms/step - loss: 0.2563 - accuracy: 0.9101 - val_loss: 0.4850 - val_accuracy: 0.7565\n",
            "Epoch 14/50\n",
            "36/36 [==============================] - 10s 278ms/step - loss: 0.2165 - accuracy: 0.9245 - val_loss: 0.4689 - val_accuracy: 0.7594\n",
            "Epoch 15/50\n",
            "36/36 [==============================] - 8s 230ms/step - loss: 0.1825 - accuracy: 0.9412 - val_loss: 0.4608 - val_accuracy: 0.7854\n",
            "Epoch 16/50\n",
            "36/36 [==============================] - 9s 240ms/step - loss: 0.1613 - accuracy: 0.9478 - val_loss: 0.4793 - val_accuracy: 0.7526\n",
            "Epoch 17/50\n",
            "36/36 [==============================] - 8s 235ms/step - loss: 0.1366 - accuracy: 0.9600 - val_loss: 0.4806 - val_accuracy: 0.7767\n",
            "Epoch 18/50\n",
            "36/36 [==============================] - 8s 235ms/step - loss: 0.1117 - accuracy: 0.9695 - val_loss: 0.4676 - val_accuracy: 0.7594\n",
            "Epoch 19/50\n",
            "36/36 [==============================] - 9s 242ms/step - loss: 0.0956 - accuracy: 0.9755 - val_loss: 0.4903 - val_accuracy: 0.7709\n",
            "Epoch 20/50\n",
            "36/36 [==============================] - 8s 231ms/step - loss: 0.0785 - accuracy: 0.9848 - val_loss: 0.4975 - val_accuracy: 0.7796\n"
          ]
        }
      ]
    },
    {
      "cell_type": "code",
      "source": [
        "\n",
        "from sklearn.metrics import accuracy_score, recall_score, precision_score, f1_score\n",
        "\n",
        "# Predict on test data\n",
        "y_pred = hist.model.predict(X_test)\n",
        "\n",
        "# Convert probabilities to binary predictions\n",
        "#y_pred_binary = [int(round(p[0])) for p in y_pred]\n",
        "\n",
        "\n",
        "#y_pred = hist.model.predict(test_features)\n",
        "y_pred_binary = (y_pred > 0.5).astype(int)\n",
        "\n",
        "# Calculate accuracy, recall, precision, and F1-score\n",
        "accuracy = accuracy_score(y_test, y_pred_binary)\n",
        "recall = recall_score(y_test, y_pred_binary)\n",
        "precision = precision_score(y_test, y_pred_binary)\n",
        "f1_score = f1_score(y_test, y_pred_binary)\n",
        "\n",
        "# Print the results\n",
        "print(\"Accuracy:\", accuracy)\n",
        "print(\"Recall:\", recall)\n",
        "print(\"Precision:\", precision)\n",
        "print(\"F1-score:\", f1_score)"
      ],
      "metadata": {
        "colab": {
          "base_uri": "https://localhost:8080/"
        },
        "id": "m26DsbnZo-YV",
        "outputId": "dd6afa7d-d283-424a-97bb-4500f2b012e3"
      },
      "execution_count": 75,
      "outputs": [
        {
          "output_type": "stream",
          "name": "stdout",
          "text": [
            "44/44 [==============================] - 1s 21ms/step\n",
            "Accuracy: 0.660882140274765\n",
            "Recall: 0.7679324894514767\n",
            "Precision: 0.7451381780962129\n",
            "F1-score: 0.7563636363636363\n"
          ]
        }
      ]
    },
    {
      "cell_type": "code",
      "source": [
        "# plot model accuracy and loss of training and validation\n",
        "\n",
        "import matplotlib.pyplot as plt\n",
        "plt.plot(hist.history['accuracy'])\n",
        "plt.plot(hist.history['val_accuracy'])\n",
        "plt.title('Model accuracy')\n",
        "plt.ylabel('Accuracy')\n",
        "plt.xlabel('Epoch')\n",
        "plt.legend(['Train', 'Validation'], loc='upper left')\n",
        "plt.show()\n",
        "\n",
        "plt.plot(hist.history['loss'])\n",
        "plt.plot(hist.history['val_loss'])\n",
        "plt.title('Model loss')\n",
        "plt.ylabel('Loss')\n",
        "plt.xlabel('Epoch')\n",
        "plt.legend(['Train', 'Validation'], loc='upper left')\n",
        "plt.show()"
      ],
      "metadata": {
        "colab": {
          "base_uri": "https://localhost:8080/",
          "height": 927
        },
        "id": "6e5IQgQmo_RR",
        "outputId": "a6346b57-e248-4c34-fc74-25ebdfa32c4f"
      },
      "execution_count": 76,
      "outputs": [
        {
          "output_type": "display_data",
          "data": {
            "text/plain": [
              "<Figure size 640x480 with 1 Axes>"
            ],
            "image/png": "[encoded data removed]"
          },
          "metadata": {}
        },
        {
          "output_type": "display_data",
          "data": {
            "text/plain": [
              "<Figure size 640x480 with 1 Axes>"
            ],
            "image/png": "[encoded data removed]"
          },
          "metadata": {}
        }
      ]
    },
    {
      "cell_type": "code",
      "source": [
        "from sklearn.metrics import confusion_matrix, ConfusionMatrixDisplay\n",
        "import numpy as np\n",
        "import matplotlib.pyplot as plt\n",
        "\n",
        "print(\"Average Confusion Matrix:\")\n",
        "\n",
        "y_pred = model.predict(X_test)\n",
        "y_pred = (y_pred > 0.5).astype(int)\n",
        "cm = confusion_matrix(y_test, y_pred)\n",
        "\n",
        "# Print or use the results as needed\n",
        "# Calculate confusion matrix\n",
        "cm_display = ConfusionMatrixDisplay(confusion_matrix=cm, display_labels=[\"Negative\", \"Positive\"])\n",
        "\n",
        "# Plot confusion matrix\n",
        "plt.figure(figsize=(8, 6))\n",
        "cm_display.plot(cmap='Blues', values_format='.1f')\n",
        "plt.title('Confusion Matrix')\n",
        "plt.xlabel('Predicted Label')\n",
        "plt.ylabel('True Label')\n",
        "plt.show()\n",
        "\n",
        "from sklearn.metrics import classification_report\n",
        "# Generate classification report\n",
        "report = classification_report(y_test.ravel(), y_pred.ravel())\n",
        "\n",
        "# Print the report\n",
        "print(report)"
      ],
      "metadata": {
        "colab": {
          "base_uri": "https://localhost:8080/",
          "height": 686
        },
        "id": "TrpkLRvrpElz",
        "outputId": "a4e5582a-a046-4a16-c414-a3bc0f42bef1"
      },
      "execution_count": 77,
      "outputs": [
        {
          "output_type": "stream",
          "name": "stdout",
          "text": [
            "Average Confusion Matrix:\n",
            "44/44 [==============================] - 1s 23ms/step\n"
          ]
        },
        {
          "output_type": "display_data",
          "data": {
            "text/plain": [
              "<Figure size 800x600 with 0 Axes>"
            ]
          },
          "metadata": {}
        },
        {
          "output_type": "display_data",
          "data": {
            "text/plain": [
              "<Figure size 640x480 with 2 Axes>"
            ],
            "image/png": "[encoded data removed]"
          },
          "metadata": {}
        },
        {
          "output_type": "stream",
          "name": "stdout",
          "text": [
            "              precision    recall  f1-score   support\n",
            "\n",
            "           0       0.46      0.43      0.44       435\n",
            "           1       0.75      0.77      0.76       948\n",
            "\n",
            "    accuracy                           0.66      1383\n",
            "   macro avg       0.60      0.60      0.60      1383\n",
            "weighted avg       0.65      0.66      0.66      1383\n",
            "\n"
          ]
        }
      ]
    },
    {
      "cell_type": "code",
      "source": [],
      "metadata": {
        "id": "HI9xoivnuBGM"
      },
      "execution_count": null,
      "outputs": []
    }
  ]
}
