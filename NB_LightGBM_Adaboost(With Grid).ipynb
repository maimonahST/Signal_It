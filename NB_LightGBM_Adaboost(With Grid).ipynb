{
  "nbformat": 4,
  "nbformat_minor": 0,
  "metadata": {
    "colab": {
      "provenance": [],
      "machine_shape": "hm",
      "gpuType": "T4",
      "authorship_tag": "ABX9TyPbWayMtsn9rOwt7h6xV+L4",
      "include_colab_link": true
    },
    "kernelspec": {
      "name": "python3",
      "display_name": "Python 3"
    },
    "language_info": {
      "name": "python"
    },
    "accelerator": "GPU"
  },
  "cells": [
    {
      "cell_type": "markdown",
      "metadata": {
        "id": "view-in-github",
        "colab_type": "text"
      },
      "source": [
        "<a href=\"https://colab.research.google.com/github/maimonahST/GP/blob/main/NB_LightGBM_Adaboost(With%20Grid).ipynb\" target=\"_parent\"><img src=\"https://colab.research.google.com/assets/colab-badge.svg\" alt=\"Open In Colab\"/></a>"
      ]
    },
    {
      "cell_type": "code",
      "execution_count": null,
      "metadata": {
        "colab": {
          "base_uri": "https://localhost:8080/"
        },
        "id": "Hwrjf26UgYMM",
        "outputId": "d0323be8-6d1d-40de-c416-7e95d06318b4"
      },
      "outputs": [
        {
          "output_type": "stream",
          "name": "stdout",
          "text": [
            "Mounted at /content/drive\n"
          ]
        }
      ],
      "source": [
        "from google.colab import drive\n",
        "drive.mount('/content/drive')"
      ]
    },
    {
      "cell_type": "code",
      "source": [
        "from glob import glob\n",
        "import scipy.io\n",
        "import torch.nn as nn\n",
        "import torch\n",
        "import numpy as np\n",
        "\n",
        "data_array = np.load('/content/drive/MyDrive/GP-Data/data_array.npy')\n",
        "label_array = np.load('/content/drive/MyDrive/GP-Data/label_array.npy')\n",
        "group_array = np.load('/content/drive/MyDrive/GP-Data/group_array.npy')\n",
        "\n",
        "print(data_array.shape,label_array.shape,group_array.shape)"
      ],
      "metadata": {
        "colab": {
          "base_uri": "https://localhost:8080/"
        },
        "id": "awlyX3AbgrDh",
        "outputId": "67e1c803-ba09-41cd-d91f-8b86ea3947b1"
      },
      "execution_count": null,
      "outputs": [
        {
          "output_type": "stream",
          "name": "stdout",
          "text": [
            "(7150, 1250, 33) (7150,) (7150,)\n"
          ]
        }
      ]
    },
    {
      "cell_type": "code",
      "source": [
        "from sklearn.metrics import confusion_matrix\n",
        "from sklearn.metrics import accuracy_score, precision_score, recall_score, f1_score, classification_report\n",
        "import matplotlib.pyplot as plt\n",
        "import seaborn as sns\n",
        "from glob import glob\n",
        "import scipy.io\n",
        "import torch.nn as nn\n",
        "import torch\n",
        "import numpy as np\n",
        "from sklearn.model_selection import GroupKFold,LeaveOneGroupOut\n",
        "from sklearn.preprocessing import StandardScaler\n",
        "from sklearn.base import TransformerMixin,BaseEstimator"
      ],
      "metadata": {
        "id": "ayRLmaQ1gr5J"
      },
      "execution_count": null,
      "outputs": []
    },
    {
      "cell_type": "code",
      "source": [
        "gkf=GroupKFold()\n",
        "class StandardScaler3D(BaseEstimator,TransformerMixin):\n",
        "    #batch, sequence, channels\n",
        "    def __init__(self):\n",
        "        self.scaler = StandardScaler()\n",
        "\n",
        "    def fit(self,X,y=None):\n",
        "        self.scaler.fit(X.reshape(-1, X.shape[2]))\n",
        "        return self\n",
        "\n",
        "    def transform(self,X):\n",
        "        return self.scaler.transform(X.reshape( -1,X.shape[2])).reshape(X.shape)\n",
        "\n",
        "\n",
        "def three_splits(data_array , label_array, group_array):\n",
        "\n",
        "  # Split data_array into train and validate\n",
        "  train_groups = []\n",
        "  for train_index, test_index in gkf.split(data_array, label_array, groups=group_array):\n",
        "      train_features, train_label = data_array[train_index],label_array[train_index]\n",
        "      X_test, y_test =data_array[test_index],label_array[test_index]\n",
        "      train_groups = group_array[train_index]\n",
        "\n",
        "      scaler=StandardScaler3D()\n",
        "      train_features=scaler.fit_transform(train_features)\n",
        "      X_test=scaler.transform(X_test)\n",
        "\n",
        "      print(f\"group={np.unique(group_array[train_index])}\")\n",
        "      print(f\"group={np.unique(group_array[test_index])}\")\n",
        "      break\n",
        "\n",
        "  # Split train_features into train and val\n",
        "  for train_index, val_index in gkf.split(train_features, train_label, groups= train_groups):\n",
        "      X_train, y_train =train_features[train_index],train_label[train_index]\n",
        "      X_val, y_val =train_features[val_index],train_label[val_index]\n",
        "\n",
        "      print(f\"group={np.unique(group_array[train_index])}\")\n",
        "      print(f\"group={np.unique(group_array[val_index])}\")\n",
        "\n",
        "      break\n",
        "\n",
        "  return X_train, X_val, X_test, y_train, y_val, y_test\n",
        "\n",
        "\n",
        "\n",
        "\n",
        "def two_splits(data_array , label_array, group_array):\n",
        "\n",
        "  # Split data_array into train and validate\n",
        "  train_groups = []\n",
        "  for train_index, test_index in gkf.split(data_array, label_array, groups=group_array):\n",
        "      X_train, y_train = data_array[train_index],label_array[train_index]\n",
        "      X_test, y_test =data_array[test_index],label_array[test_index]\n",
        "      train_groups = group_array[train_index]\n",
        "\n",
        "      scaler=StandardScaler3D()\n",
        "      X_train=scaler.fit_transform(X_train)\n",
        "      X_test=scaler.transform(X_test)\n",
        "\n",
        "      print(f\"group={np.unique(group_array[train_index])}\")\n",
        "      print(f\"group={np.unique(group_array[test_index])}\")\n",
        "      break\n",
        "\n",
        "  return X_train, X_test, y_train, y_test\n",
        "\n",
        "\n",
        "# X_train, X_val, X_test, y_train, y_val, y_test = three_splits(data_array , label_array, group_array)\n",
        "\n",
        "X_train, X_test, y_train, y_test = two_splits(data_array , label_array, group_array)\n",
        "\n",
        "# convert the problem from multiclass classification to binary classification\n",
        "# make haemorrhage and schaemia classes as one\n",
        "\n",
        "y_train[y_train==0] = 1\n",
        "y_train[y_train==2] = 0\n",
        "\n",
        "y_test[y_test==0] = 1\n",
        "y_test[y_test==2] = 0"
      ],
      "metadata": {
        "colab": {
          "base_uri": "https://localhost:8080/"
        },
        "id": "f0kHl5RUgy1-",
        "outputId": "3d4c58b4-7414-488f-9e1e-70d658b3f933"
      },
      "execution_count": null,
      "outputs": [
        {
          "output_type": "stream",
          "name": "stdout",
          "text": [
            "group=[ 0  1  2  3  4  5  6  7  8 10 11 12 13 15 16 18 19 20 22 23 25 27 28 29\n",
            " 30 31 34 36 37 38 39 40 41 42 43 44 45 46 47]\n",
            "group=[ 9 14 17 21 24 26 32 33 35]\n"
          ]
        }
      ]
    },
    {
      "cell_type": "code",
      "source": [
        "from sklearn.tree import DecisionTreeClassifier\n",
        "from sklearn.feature_selection import SelectFromModel\n",
        "\n",
        "def select_features_with_decision_tree(model,X_train, y_train, X_test, y_test, threshold=0.1):\n",
        "    tree_params = {'criterion': 'gini', 'max_depth': 3, 'min_samples_leaf': 5}\n",
        "    # Train a Decision Tree Classifier\n",
        "    dt_classifier = DecisionTreeClassifier(**tree_params)\n",
        "\n",
        "    # Train a Decision Tree classifier to select important features\n",
        "    #dt = DecisionTreeClassifier(random_state=42)\n",
        "    dt_classifier.fit(X_train, y_train)\n",
        "\n",
        "    # Select features based on importance using the trained Decision Tree\n",
        "    sfm = SelectFromModel(dt_classifier, threshold=0.1)\n",
        "    sfm.fit(X_train, y_train)\n",
        "\n",
        "    # Transform the training and testing data to include only the selected features\n",
        "    X_train_selected = sfm.transform(X_train)\n",
        "    X_test_selected = sfm.transform(X_test)\n",
        "\n",
        "    print(X_train_selected)\n",
        "    print(X_test_selected)\n",
        "    print(\"-------------------------\")\n",
        "    # Get indices of selected features\n",
        "    selected_feature_indices = sfm.get_support(indices=True)\n",
        "\n",
        "    # Get names of selected features\n",
        "    selected_feature_names = [f\"Feature {i+1}\" for i in selected_feature_indices]\n",
        "\n",
        "    # Print selected features\n",
        "    print(\"Selected Features:\")\n",
        "    for feature in selected_feature_names:\n",
        "        print(feature)\n",
        "\n",
        "    model2=fit_and_evaluate(X_train_selected,y_train,X_test_selected,y_test,model)\n",
        "    return model2"
      ],
      "metadata": {
        "id": "ZNy5hYYH1AdC"
      },
      "execution_count": null,
      "outputs": []
    },
    {
      "cell_type": "code",
      "source": [
        "def fit_and_evaluate(X_train, y_train, X_test, y_test,model):\n",
        "\n",
        "  model.fit(X_train, y_train)\n",
        "\n",
        "  # Predictions on the test set\n",
        "  y_pred = model.predict(X_test)\n",
        "\n",
        "  # Calculate evaluation metrics\n",
        "  accuracy = accuracy_score(y_test, y_pred)\n",
        "  precision = precision_score(y_test, y_pred, average='weighted')\n",
        "  recall = recall_score(y_test, y_pred, average='weighted')\n",
        "  f1 = f1_score(y_test, y_pred, average='weighted')\n",
        "\n",
        "\n",
        "  # Print the results\n",
        "  print(\"Accuracy:\", accuracy)\n",
        "  print(\"Recall:\", recall)\n",
        "  print(\"Precision:\", precision)\n",
        "  print(\"F1-score:\", f1)\n",
        "\n",
        "\n",
        "  print(\"Classification Report (Test):\\n\", classification_report(y_test, y_pred))\n",
        "\n",
        "  # Compute the confusion matrix for the test set\n",
        "  cm_test = confusion_matrix(y_test, y_pred)\n",
        "\n",
        "  # Plot the confusion matrix for the test set\n",
        "  plt.figure(figsize=(8, 6))\n",
        "  sns.heatmap(cm_test, annot=True, fmt=\"d\", cmap=\"Blues\", cbar=False)\n",
        "  plt.xlabel(\"Predicted Label\")\n",
        "  plt.ylabel(\"True Label\")\n",
        "  plt.title(f\"Confusion Matrix for Decision Tree {model.__class__}\")\n",
        "  plt.show()\n",
        "\n",
        "  return model"
      ],
      "metadata": {
        "id": "CO5Gdl7D1J4A"
      },
      "execution_count": null,
      "outputs": []
    },
    {
      "cell_type": "code",
      "source": [
        "# Reshape data for compatibility with classifiers\n",
        "X_train = X_train.reshape(X_train.shape[0], -1)\n",
        "X_test = X_test.reshape(X_test.shape[0], -1)"
      ],
      "metadata": {
        "id": "SHX2s6ofg5Tj"
      },
      "execution_count": null,
      "outputs": []
    },
    {
      "cell_type": "markdown",
      "source": [
        "## Bernoulli Naive Bayes"
      ],
      "metadata": {
        "id": "w3V-kFMJg7fo"
      }
    },
    {
      "cell_type": "code",
      "source": [
        "from sklearn.naive_bayes import BernoulliNB\n",
        "from sklearn.model_selection import GridSearchCV\n",
        "from sklearn.metrics import accuracy_score, precision_score, recall_score, f1_score, classification_report\n",
        "\n",
        "# Create Bernoulli Naive Bayes classifier\n",
        "bnb_classifier = BernoulliNB()\n",
        "\n",
        "# Define the parameter grid for grid search\n",
        "param_grid_bnb = {\n",
        "    'alpha': [0.1, 0.5, 1.0],\n",
        "    'binarize': [0.0, 0.5, 1.0],\n",
        "    'fit_prior': [True, False]\n",
        "}\n",
        "\n",
        "# Create GridSearchCV\n",
        "grid_search_bnb = GridSearchCV(estimator=bnb_classifier, param_grid=param_grid_bnb,\n",
        "                                cv=3, scoring='accuracy', n_jobs=-1)\n",
        "\n",
        "# Fit the grid search to the data\n",
        "grid_search_bnb.fit(X_train, y_train)\n",
        "\n",
        "# Get the best parameters and best estimator for Bernoulli Naive Bayes\n",
        "best_params_bnb = grid_search_bnb.best_params_\n",
        "best_bnb_classifier = grid_search_bnb.best_estimator_\n",
        "\n",
        "# Print the best parameters for Bernoulli Naive Bayes\n",
        "print(\"Best Hyperparameters for Bernoulli Naive Bayes:\", best_params_bnb)"
      ],
      "metadata": {
        "colab": {
          "base_uri": "https://localhost:8080/"
        },
        "id": "MKwmphP32HG2",
        "outputId": "6fa97ca6-1890-428e-ebf3-3fda8728e321"
      },
      "execution_count": null,
      "outputs": [
        {
          "output_type": "stream",
          "name": "stdout",
          "text": [
            "Best Hyperparameters for Bernoulli Naive Bayes: {'alpha': 0.1, 'binarize': 0.0, 'fit_prior': True}\n"
          ]
        }
      ]
    },
    {
      "cell_type": "code",
      "source": [
        "# Predictions on the test set using the best Bernoulli Naive Bayes model\n",
        "best_bnb_test_predictions = best_bnb_classifier.predict(X_test)\n",
        "\n",
        "# Calculate evaluation metrics for Bernoulli Naive Bayes\n",
        "bnb_accuracy = accuracy_score(y_test, best_bnb_test_predictions)\n",
        "bnb_precision = precision_score(y_test, best_bnb_test_predictions, average='weighted')\n",
        "bnb_recall = recall_score(y_test, best_bnb_test_predictions, average='weighted')\n",
        "bnb_f1 = f1_score(y_test, best_bnb_test_predictions, average='weighted')\n",
        "\n",
        "# Print metrics for Bernoulli Naive Bayes\n",
        "print(\"Accuracy:\", bnb_accuracy)\n",
        "print(\"Precision:\", bnb_precision)\n",
        "print(\"Recall:\", bnb_recall)\n",
        "print(\"F1-score:\", bnb_f1)"
      ],
      "metadata": {
        "colab": {
          "base_uri": "https://localhost:8080/"
        },
        "id": "B_XhkbMEg6eW",
        "outputId": "fa3b6fc7-6caa-4255-f7bc-9a1f3250d634"
      },
      "execution_count": null,
      "outputs": [
        {
          "output_type": "stream",
          "name": "stdout",
          "text": [
            "Accuracy: 0.6926970354302241\n",
            "Precision: 0.7617992630108333\n",
            "Recall: 0.6926970354302241\n",
            "F1-score: 0.5753222816395057\n"
          ]
        }
      ]
    },
    {
      "cell_type": "code",
      "source": [
        "# Compute the confusion matrix for the test set\n",
        "cm_test = confusion_matrix(y_test, best_bnb_test_predictions)\n",
        "\n",
        "# Plot the confusion matrix for the test set\n",
        "plt.figure(figsize=(8, 6))\n",
        "sns.heatmap(cm_test, annot=True, fmt=\"d\", cmap=\"Blues\", cbar=False)\n",
        "plt.xlabel(\"Predicted Label\")\n",
        "plt.ylabel(\"True Label\")\n",
        "plt.title(\"Confusion Matrix for Bernoulli Naive Bayes (Test Set)\")\n",
        "plt.show()"
      ],
      "metadata": {
        "colab": {
          "base_uri": "https://localhost:8080/",
          "height": 564
        },
        "id": "x30bVWwZheDe",
        "outputId": "27d4a149-a10c-4148-cc0e-e97bf3a8ee30"
      },
      "execution_count": null,
      "outputs": [
        {
          "output_type": "display_data",
          "data": {
            "text/plain": [
              "<Figure size 800x600 with 1 Axes>"
            ],
            "image/png": "[encoded data removed]"
          },
          "metadata": {}
        }
      ]
    },
    {
      "cell_type": "code",
      "source": [
        "import joblib\n",
        "\n",
        "# Specify the full path including the filename and .joblib extension\n",
        "model_path = '/content/drive/MyDrive/GP-Trail/BNBWithHayperParameter.joblib'\n",
        "\n",
        "# Save your model\n",
        "joblib.dump(best_bnb_classifier, model_path)"
      ],
      "metadata": {
        "colab": {
          "base_uri": "https://localhost:8080/"
        },
        "id": "P3qg34E84pJg",
        "outputId": "d00c7219-e719-4b19-b294-60e9f55ed5ad"
      },
      "execution_count": null,
      "outputs": [
        {
          "output_type": "execute_result",
          "data": {
            "text/plain": [
              "['/content/drive/MyDrive/GP-Trail/BNBWithHayperParameter.joblib']"
            ]
          },
          "metadata": {},
          "execution_count": 19
        }
      ]
    },
    {
      "cell_type": "markdown",
      "source": [
        "### With DT"
      ],
      "metadata": {
        "id": "XT7N_a1B1S2i"
      }
    },
    {
      "cell_type": "code",
      "source": [
        "from sklearn.naive_bayes import BernoulliNB\n",
        "from sklearn.metrics import accuracy_score, precision_score, recall_score, f1_score\n",
        "\n",
        "bnb_model=select_features_with_decision_tree(BernoulliNB(alpha=0.1, binarize=0.0, fit_prior=True),X_train, y_train,X_test , y_test)"
      ],
      "metadata": {
        "colab": {
          "base_uri": "https://localhost:8080/",
          "height": 1000
        },
        "id": "_yqFwxw_1XoX",
        "outputId": "9440e3af-7528-4291-9b3b-a15cf8a3e4a2"
      },
      "execution_count": null,
      "outputs": [
        {
          "output_type": "stream",
          "name": "stdout",
          "text": [
            "[[-3.92122071 -4.19766329 -4.14916175 -4.19766329]\n",
            " [-3.92122071 -4.19766329 -4.14916175 -4.19766329]\n",
            " [-3.92122071  0.18658284  0.1705135   0.18658284]\n",
            " ...\n",
            " [-0.17531763 -0.12309218 -0.08673444 -0.15129016]\n",
            " [-0.17531763 -0.12309218 -0.08673444 -0.15129016]\n",
            " [-0.17531763  8.73954447 -0.08673444 -0.15129016]]\n",
            "[[-1.47669020e-01 -3.20702906e-13 -1.20165967e-01 -8.46864627e-02]\n",
            " [-1.47669020e-01 -3.20702906e-13 -1.20165967e-01 -8.46864627e-02]\n",
            " [-1.47669020e-01 -3.20702906e-13 -1.20165967e-01 -8.46864627e-02]\n",
            " ...\n",
            " [-8.61341994e-02 -1.22234380e-01 -1.95253142e-01 -1.50228465e-01]\n",
            " [-8.61341994e-02 -1.22234380e-01 -1.95253142e-01 -1.50228465e-01]\n",
            " [-8.61341994e-02 -1.22234380e-01 -1.95253142e-01 -1.50228465e-01]]\n",
            "-------------------------\n",
            "Selected Features:\n",
            "Feature 8217\n",
            "Feature 20790\n",
            "Feature 32934\n",
            "Feature 34749\n",
            "Accuracy: 0.6854663774403471\n",
            "Recall: 0.6854663774403471\n",
            "Precision: 0.46986415460119235\n",
            "F1-score: 0.5575479414958807\n",
            "Classification Report (Test):\n",
            "               precision    recall  f1-score   support\n",
            "\n",
            "           0       0.00      0.00      0.00       435\n",
            "           1       0.69      1.00      0.81       948\n",
            "\n",
            "    accuracy                           0.69      1383\n",
            "   macro avg       0.34      0.50      0.41      1383\n",
            "weighted avg       0.47      0.69      0.56      1383\n",
            "\n"
          ]
        },
        {
          "output_type": "stream",
          "name": "stderr",
          "text": [
            "/usr/local/lib/python3.10/dist-packages/sklearn/metrics/_classification.py:1344: UndefinedMetricWarning: Precision is ill-defined and being set to 0.0 in labels with no predicted samples. Use `zero_division` parameter to control this behavior.\n",
            "  _warn_prf(average, modifier, msg_start, len(result))\n",
            "/usr/local/lib/python3.10/dist-packages/sklearn/metrics/_classification.py:1344: UndefinedMetricWarning: Precision and F-score are ill-defined and being set to 0.0 in labels with no predicted samples. Use `zero_division` parameter to control this behavior.\n",
            "  _warn_prf(average, modifier, msg_start, len(result))\n",
            "/usr/local/lib/python3.10/dist-packages/sklearn/metrics/_classification.py:1344: UndefinedMetricWarning: Precision and F-score are ill-defined and being set to 0.0 in labels with no predicted samples. Use `zero_division` parameter to control this behavior.\n",
            "  _warn_prf(average, modifier, msg_start, len(result))\n",
            "/usr/local/lib/python3.10/dist-packages/sklearn/metrics/_classification.py:1344: UndefinedMetricWarning: Precision and F-score are ill-defined and being set to 0.0 in labels with no predicted samples. Use `zero_division` parameter to control this behavior.\n",
            "  _warn_prf(average, modifier, msg_start, len(result))\n"
          ]
        },
        {
          "output_type": "display_data",
          "data": {
            "text/plain": [
              "<Figure size 800x600 with 1 Axes>"
            ],
            "image/png": "[encoded data removed]"
          },
          "metadata": {}
        }
      ]
    },
    {
      "cell_type": "code",
      "source": [
        "import joblib\n",
        "\n",
        "# Specify the full path including the filename and .joblib extension\n",
        "model_path = '/content/drive/MyDrive/GP-Trail/BNBWithHayperParameter_DT.joblib'\n",
        "\n",
        "# Save your model\n",
        "joblib.dump(bnb_model, model_path)"
      ],
      "metadata": {
        "colab": {
          "base_uri": "https://localhost:8080/"
        },
        "id": "soKyx6TZ5PQg",
        "outputId": "c0eadf39-cb82-4021-a73e-af9d2bcb3299"
      },
      "execution_count": null,
      "outputs": [
        {
          "output_type": "execute_result",
          "data": {
            "text/plain": [
              "['/content/drive/MyDrive/GP-Trail/BNBWithHayperParameter_DT.joblib']"
            ]
          },
          "metadata": {},
          "execution_count": 21
        }
      ]
    },
    {
      "cell_type": "markdown",
      "source": [
        "## Gaussian Naive Bayes"
      ],
      "metadata": {
        "id": "cQlFr14wiGXZ"
      }
    },
    {
      "cell_type": "code",
      "source": [
        "from sklearn.naive_bayes import GaussianNB\n",
        "\n",
        "# Create Gaussian Naive Bayes classifier\n",
        "nb_classifier = GaussianNB()\n",
        "\n",
        "# No hyperparameters to tune for Gaussian Naive Bayes, but you can include them if using other types\n",
        "\n",
        "# Fit the model to the data\n",
        "nb_classifier.fit(X_train, y_train)\n",
        "\n",
        "# Predictions on the test set using the Naive Bayes model\n",
        "nb_test_predictions = nb_classifier.predict(X_test)\n",
        "\n",
        "# Calculate evaluation metrics for Naive Bayes\n",
        "nb_accuracy = accuracy_score(y_test, nb_test_predictions)\n",
        "nb_precision = precision_score(y_test, nb_test_predictions, average='weighted')\n",
        "nb_recall = recall_score(y_test, nb_test_predictions, average='weighted')\n",
        "nb_f1 = f1_score(y_test, nb_test_predictions, average='weighted')\n",
        "\n",
        "# Print metrics for Naive Bayes\n",
        "print(\"Accuracy:\", nb_accuracy)\n",
        "print(\"Precision:\", nb_precision)\n",
        "print(\"Recall:\", nb_recall)\n",
        "print(\"F1-score:\", nb_f1)"
      ],
      "metadata": {
        "colab": {
          "base_uri": "https://localhost:8080/"
        },
        "id": "uoTdPNNyiKb4",
        "outputId": "40455ad3-0eb0-4c10-f170-2d8bd7795e6f"
      },
      "execution_count": null,
      "outputs": [
        {
          "output_type": "stream",
          "name": "stdout",
          "text": [
            "Accuracy: 0.4953000723065799\n",
            "Precision: 0.5687892174784692\n",
            "Recall: 0.4953000723065799\n",
            "F1-score: 0.5131117501674459\n"
          ]
        }
      ]
    },
    {
      "cell_type": "code",
      "source": [
        "# Compute the confusion matrix for the test set\n",
        "cm_test = confusion_matrix(y_test, nb_test_predictions)\n",
        "\n",
        "# Plot the confusion matrix for the test set\n",
        "plt.figure(figsize=(8, 6))\n",
        "sns.heatmap(cm_test, annot=True, fmt=\"d\", cmap=\"Blues\", cbar=False)\n",
        "plt.xlabel(\"Predicted Label\")\n",
        "plt.ylabel(\"True Label\")\n",
        "plt.title(\"Confusion Matrix for Gaussian Naive Bayes (Test Set)\")\n",
        "plt.show()"
      ],
      "metadata": {
        "colab": {
          "base_uri": "https://localhost:8080/",
          "height": 564
        },
        "id": "83TKYhOnicus",
        "outputId": "76bb0623-1914-4c17-eda7-7c8ecae7f28b"
      },
      "execution_count": null,
      "outputs": [
        {
          "output_type": "display_data",
          "data": {
            "text/plain": [
              "<Figure size 800x600 with 1 Axes>"
            ],
            "image/png": "[encoded data removed]"
          },
          "metadata": {}
        }
      ]
    },
    {
      "cell_type": "code",
      "source": [
        "import joblib\n",
        "\n",
        "# Specify the full path including the filename and .joblib extension\n",
        "model_path = '/content/drive/MyDrive/GP-Trail/GNBWithHayperParameter.joblib'\n",
        "\n",
        "# Save your model\n",
        "joblib.dump(nb_classifier, model_path)"
      ],
      "metadata": {
        "colab": {
          "base_uri": "https://localhost:8080/"
        },
        "id": "TwKg24uQ5jT4",
        "outputId": "a32feefc-24af-451e-ce49-a8c33f5b6af5"
      },
      "execution_count": null,
      "outputs": [
        {
          "output_type": "execute_result",
          "data": {
            "text/plain": [
              "['/content/drive/MyDrive/GP-Trail/GNBWithHayperParameter.joblib']"
            ]
          },
          "metadata": {},
          "execution_count": 24
        }
      ]
    },
    {
      "cell_type": "markdown",
      "source": [
        "### With DT"
      ],
      "metadata": {
        "id": "-gLcLVTJ394j"
      }
    },
    {
      "cell_type": "code",
      "source": [
        "from sklearn.metrics import accuracy_score, precision_score, recall_score, f1_score\n",
        "\n",
        "gnb_model=select_features_with_decision_tree(GaussianNB(),X_train, y_train,X_test , y_test)"
      ],
      "metadata": {
        "colab": {
          "base_uri": "https://localhost:8080/",
          "height": 1000
        },
        "id": "zsKyhn5g38Wb",
        "outputId": "51cf06c2-b07c-4d5e-c61f-4fa84b4bc78c"
      },
      "execution_count": null,
      "outputs": [
        {
          "output_type": "stream",
          "name": "stdout",
          "text": [
            "[[-3.92122071 -4.19766329 -4.14916175 -4.19766329]\n",
            " [-3.92122071 -4.19766329 -4.14916175 -4.19766329]\n",
            " [-3.92122071  0.18658284  0.1705135   0.18658284]\n",
            " ...\n",
            " [-0.17531763 -0.12309218 -0.08673444 -0.15129016]\n",
            " [-0.17531763 -0.12309218 -0.08673444 -0.15129016]\n",
            " [-0.17531763  8.73954447 -0.08673444 -0.15129016]]\n",
            "[[-1.47669020e-01 -3.20702906e-13 -1.20165967e-01 -8.46864627e-02]\n",
            " [-1.47669020e-01 -3.20702906e-13 -1.20165967e-01 -8.46864627e-02]\n",
            " [-1.47669020e-01 -3.20702906e-13 -1.20165967e-01 -8.46864627e-02]\n",
            " ...\n",
            " [-8.61341994e-02 -1.22234380e-01 -1.95253142e-01 -1.50228465e-01]\n",
            " [-8.61341994e-02 -1.22234380e-01 -1.95253142e-01 -1.50228465e-01]\n",
            " [-8.61341994e-02 -1.22234380e-01 -1.95253142e-01 -1.50228465e-01]]\n",
            "-------------------------\n",
            "Selected Features:\n",
            "Feature 8217\n",
            "Feature 20790\n",
            "Feature 32934\n",
            "Feature 34749\n",
            "Accuracy: 0.6760665220535069\n",
            "Recall: 0.6760665220535069\n",
            "Precision: 0.580339738024803\n",
            "F1-score: 0.5709897885811627\n",
            "Classification Report (Test):\n",
            "               precision    recall  f1-score   support\n",
            "\n",
            "           0       0.35      0.03      0.06       435\n",
            "           1       0.69      0.97      0.80       948\n",
            "\n",
            "    accuracy                           0.68      1383\n",
            "   macro avg       0.52      0.50      0.43      1383\n",
            "weighted avg       0.58      0.68      0.57      1383\n",
            "\n"
          ]
        },
        {
          "output_type": "display_data",
          "data": {
            "text/plain": [
              "<Figure size 800x600 with 1 Axes>"
            ],
            "image/png": "[encoded data removed]"
          },
          "metadata": {}
        }
      ]
    },
    {
      "cell_type": "code",
      "source": [
        "import joblib\n",
        "\n",
        "# Specify the full path including the filename and .joblib extension\n",
        "model_path = '/content/drive/MyDrive/GP-Trail/GNBWithHayperParameter_DT.joblib'\n",
        "\n",
        "# Save your model\n",
        "joblib.dump(gnb_model, model_path)"
      ],
      "metadata": {
        "colab": {
          "base_uri": "https://localhost:8080/"
        },
        "id": "tbLLmjBj55kP",
        "outputId": "39c7d34d-58b9-4c79-e6db-636a57bc94c8"
      },
      "execution_count": null,
      "outputs": [
        {
          "output_type": "execute_result",
          "data": {
            "text/plain": [
              "['/content/drive/MyDrive/GP-Trail/GNBWithHayperParameter_DT.joblib']"
            ]
          },
          "metadata": {},
          "execution_count": 26
        }
      ]
    },
    {
      "cell_type": "markdown",
      "source": [
        "## LightGBM"
      ],
      "metadata": {
        "id": "fbWivB1yiqJi"
      }
    },
    {
      "cell_type": "code",
      "source": [
        "from lightgbm import LGBMClassifier\n",
        "from sklearn.model_selection import GridSearchCV\n",
        "\n",
        "# Define the parameter grid to search for LightGBM\n",
        "lightgbm_param_grid = {\n",
        "    'learning_rate': [0.01, 0.1, 0.2],\n",
        "    'n_estimators': [50, 100, 200],\n",
        "    'subsample': [0.8, 1.0],\n",
        "    'colsample_bytree': [0.8, 1.0],\n",
        "}\n",
        "\n",
        "# Create LGBMClassifier\n",
        "lightgbm_classifier = LGBMClassifier(random_state=42)\n",
        "\n",
        "# Create GridSearchCV for LightGBM\n",
        "lightgbm_grid_search = GridSearchCV(estimator=lightgbm_classifier, param_grid=lightgbm_param_grid,\n",
        "                                    cv=3, scoring='accuracy', n_jobs=-1)\n",
        "\n",
        "# Fit the grid search to the data\n",
        "lightgbm_grid_search.fit(X_train, y_train)\n",
        "\n",
        "# Get the best parameters and best estimator for LightGBM\n",
        "best_lightgbm_params = lightgbm_grid_search.best_params_\n",
        "best_lightgbm_classifier = lightgbm_grid_search.best_estimator_\n",
        "\n",
        "# Print the best parameters for LightGBM\n",
        "print(\"Best Hyperparameters for LightGBM:\", best_lightgbm_params)\n",
        "\n",
        "# Predictions on the test set using the best LightGBM model\n",
        "best_lightgbm_test_predictions = best_lightgbm_classifier.predict(X_test)\n",
        "\n",
        "# Calculate evaluation metrics for LightGBM\n",
        "lightgbm_accuracy = accuracy_score(y_test, best_lightgbm_test_predictions)\n",
        "lightgbm_precision = precision_score(y_test, best_lightgbm_test_predictions, average='weighted')\n",
        "lightgbm_recall = recall_score(y_test, best_lightgbm_test_predictions, average='weighted')\n",
        "lightgbm_f1 = f1_score(y_test, best_lightgbm_test_predictions, average='weighted')\n",
        "\n",
        "# Print metrics for LightGBM\n",
        "print(\"Accuracy:\", lightgbm_accuracy)\n",
        "print(\"Precision:\", lightgbm_precision)\n",
        "print(\"Recall:\", lightgbm_recall)\n",
        "print(\"F1-score:\", lightgbm_f1)"
      ],
      "metadata": {
        "colab": {
          "base_uri": "https://localhost:8080/",
          "height": 408
        },
        "id": "F2X3hazeitEH",
        "outputId": "6c8fc361-084e-4f81-c05e-875ddca1497a"
      },
      "execution_count": null,
      "outputs": [
        {
          "output_type": "error",
          "ename": "TerminatedWorkerError",
          "evalue": "A worker process managed by the executor was unexpectedly terminated. This could be caused by a segmentation fault while calling the function or by an excessive memory usage causing the Operating System to kill the worker.\n\nThe exit codes of the workers are {SIGKILL(-9)}",
          "traceback": [
            "\u001b[0;31m---------------------------------------------------------------------------\u001b[0m",
            "\u001b[0;31mTerminatedWorkerError\u001b[0m                     Traceback (most recent call last)",
            "\u001b[0;32m<ipython-input-11-a22ea24a1bed>\u001b[0m in \u001b[0;36m<cell line: 20>\u001b[0;34m()\u001b[0m\n\u001b[1;32m     18\u001b[0m \u001b[0;34m\u001b[0m\u001b[0m\n\u001b[1;32m     19\u001b[0m \u001b[0;31m# Fit the grid search to the data\u001b[0m\u001b[0;34m\u001b[0m\u001b[0;34m\u001b[0m\u001b[0m\n\u001b[0;32m---> 20\u001b[0;31m \u001b[0mlightgbm_grid_search\u001b[0m\u001b[0;34m.\u001b[0m\u001b[0mfit\u001b[0m\u001b[0;34m(\u001b[0m\u001b[0mX_train\u001b[0m\u001b[0;34m,\u001b[0m \u001b[0my_train\u001b[0m\u001b[0;34m)\u001b[0m\u001b[0;34m\u001b[0m\u001b[0;34m\u001b[0m\u001b[0m\n\u001b[0m\u001b[1;32m     21\u001b[0m \u001b[0;34m\u001b[0m\u001b[0m\n\u001b[1;32m     22\u001b[0m \u001b[0;31m# Get the best parameters and best estimator for LightGBM\u001b[0m\u001b[0;34m\u001b[0m\u001b[0;34m\u001b[0m\u001b[0m\n",
            "\u001b[0;32m/usr/local/lib/python3.10/dist-packages/sklearn/model_selection/_search.py\u001b[0m in \u001b[0;36mfit\u001b[0;34m(self, X, y, groups, **fit_params)\u001b[0m\n\u001b[1;32m    872\u001b[0m                 \u001b[0;32mreturn\u001b[0m \u001b[0mresults\u001b[0m\u001b[0;34m\u001b[0m\u001b[0;34m\u001b[0m\u001b[0m\n\u001b[1;32m    873\u001b[0m \u001b[0;34m\u001b[0m\u001b[0m\n\u001b[0;32m--> 874\u001b[0;31m             \u001b[0mself\u001b[0m\u001b[0;34m.\u001b[0m\u001b[0m_run_search\u001b[0m\u001b[0;34m(\u001b[0m\u001b[0mevaluate_candidates\u001b[0m\u001b[0;34m)\u001b[0m\u001b[0;34m\u001b[0m\u001b[0;34m\u001b[0m\u001b[0m\n\u001b[0m\u001b[1;32m    875\u001b[0m \u001b[0;34m\u001b[0m\u001b[0m\n\u001b[1;32m    876\u001b[0m             \u001b[0;31m# multimetric is determined here because in the case of a callable\u001b[0m\u001b[0;34m\u001b[0m\u001b[0;34m\u001b[0m\u001b[0m\n",
            "\u001b[0;32m/usr/local/lib/python3.10/dist-packages/sklearn/model_selection/_search.py\u001b[0m in \u001b[0;36m_run_search\u001b[0;34m(self, evaluate_candidates)\u001b[0m\n\u001b[1;32m   1386\u001b[0m     \u001b[0;32mdef\u001b[0m \u001b[0m_run_search\u001b[0m\u001b[0;34m(\u001b[0m\u001b[0mself\u001b[0m\u001b[0;34m,\u001b[0m \u001b[0mevaluate_candidates\u001b[0m\u001b[0;34m)\u001b[0m\u001b[0;34m:\u001b[0m\u001b[0;34m\u001b[0m\u001b[0;34m\u001b[0m\u001b[0m\n\u001b[1;32m   1387\u001b[0m         \u001b[0;34m\"\"\"Search all candidates in param_grid\"\"\"\u001b[0m\u001b[0;34m\u001b[0m\u001b[0;34m\u001b[0m\u001b[0m\n\u001b[0;32m-> 1388\u001b[0;31m         \u001b[0mevaluate_candidates\u001b[0m\u001b[0;34m(\u001b[0m\u001b[0mParameterGrid\u001b[0m\u001b[0;34m(\u001b[0m\u001b[0mself\u001b[0m\u001b[0;34m.\u001b[0m\u001b[0mparam_grid\u001b[0m\u001b[0;34m)\u001b[0m\u001b[0;34m)\u001b[0m\u001b[0;34m\u001b[0m\u001b[0;34m\u001b[0m\u001b[0m\n\u001b[0m\u001b[1;32m   1389\u001b[0m \u001b[0;34m\u001b[0m\u001b[0m\n\u001b[1;32m   1390\u001b[0m \u001b[0;34m\u001b[0m\u001b[0m\n",
            "\u001b[0;32m/usr/local/lib/python3.10/dist-packages/sklearn/model_selection/_search.py\u001b[0m in \u001b[0;36mevaluate_candidates\u001b[0;34m(candidate_params, cv, more_results)\u001b[0m\n\u001b[1;32m    819\u001b[0m                     )\n\u001b[1;32m    820\u001b[0m \u001b[0;34m\u001b[0m\u001b[0m\n\u001b[0;32m--> 821\u001b[0;31m                 out = parallel(\n\u001b[0m\u001b[1;32m    822\u001b[0m                     delayed(_fit_and_score)(\n\u001b[1;32m    823\u001b[0m                         \u001b[0mclone\u001b[0m\u001b[0;34m(\u001b[0m\u001b[0mbase_estimator\u001b[0m\u001b[0;34m)\u001b[0m\u001b[0;34m,\u001b[0m\u001b[0;34m\u001b[0m\u001b[0;34m\u001b[0m\u001b[0m\n",
            "\u001b[0;32m/usr/local/lib/python3.10/dist-packages/sklearn/utils/parallel.py\u001b[0m in \u001b[0;36m__call__\u001b[0;34m(self, iterable)\u001b[0m\n\u001b[1;32m     61\u001b[0m             \u001b[0;32mfor\u001b[0m \u001b[0mdelayed_func\u001b[0m\u001b[0;34m,\u001b[0m \u001b[0margs\u001b[0m\u001b[0;34m,\u001b[0m \u001b[0mkwargs\u001b[0m \u001b[0;32min\u001b[0m \u001b[0miterable\u001b[0m\u001b[0;34m\u001b[0m\u001b[0;34m\u001b[0m\u001b[0m\n\u001b[1;32m     62\u001b[0m         )\n\u001b[0;32m---> 63\u001b[0;31m         \u001b[0;32mreturn\u001b[0m \u001b[0msuper\u001b[0m\u001b[0;34m(\u001b[0m\u001b[0;34m)\u001b[0m\u001b[0;34m.\u001b[0m\u001b[0m__call__\u001b[0m\u001b[0;34m(\u001b[0m\u001b[0miterable_with_config\u001b[0m\u001b[0;34m)\u001b[0m\u001b[0;34m\u001b[0m\u001b[0;34m\u001b[0m\u001b[0m\n\u001b[0m\u001b[1;32m     64\u001b[0m \u001b[0;34m\u001b[0m\u001b[0m\n\u001b[1;32m     65\u001b[0m \u001b[0;34m\u001b[0m\u001b[0m\n",
            "\u001b[0;32m/usr/local/lib/python3.10/dist-packages/joblib/parallel.py\u001b[0m in \u001b[0;36m__call__\u001b[0;34m(self, iterable)\u001b[0m\n\u001b[1;32m   1950\u001b[0m         \u001b[0mnext\u001b[0m\u001b[0;34m(\u001b[0m\u001b[0moutput\u001b[0m\u001b[0;34m)\u001b[0m\u001b[0;34m\u001b[0m\u001b[0;34m\u001b[0m\u001b[0m\n\u001b[1;32m   1951\u001b[0m \u001b[0;34m\u001b[0m\u001b[0m\n\u001b[0;32m-> 1952\u001b[0;31m         \u001b[0;32mreturn\u001b[0m \u001b[0moutput\u001b[0m \u001b[0;32mif\u001b[0m \u001b[0mself\u001b[0m\u001b[0;34m.\u001b[0m\u001b[0mreturn_generator\u001b[0m \u001b[0;32melse\u001b[0m \u001b[0mlist\u001b[0m\u001b[0;34m(\u001b[0m\u001b[0moutput\u001b[0m\u001b[0;34m)\u001b[0m\u001b[0;34m\u001b[0m\u001b[0;34m\u001b[0m\u001b[0m\n\u001b[0m\u001b[1;32m   1953\u001b[0m \u001b[0;34m\u001b[0m\u001b[0m\n\u001b[1;32m   1954\u001b[0m     \u001b[0;32mdef\u001b[0m \u001b[0m__repr__\u001b[0m\u001b[0;34m(\u001b[0m\u001b[0mself\u001b[0m\u001b[0;34m)\u001b[0m\u001b[0;34m:\u001b[0m\u001b[0;34m\u001b[0m\u001b[0;34m\u001b[0m\u001b[0m\n",
            "\u001b[0;32m/usr/local/lib/python3.10/dist-packages/joblib/parallel.py\u001b[0m in \u001b[0;36m_get_outputs\u001b[0;34m(self, iterator, pre_dispatch)\u001b[0m\n\u001b[1;32m   1593\u001b[0m \u001b[0;34m\u001b[0m\u001b[0m\n\u001b[1;32m   1594\u001b[0m             \u001b[0;32mwith\u001b[0m \u001b[0mself\u001b[0m\u001b[0;34m.\u001b[0m\u001b[0m_backend\u001b[0m\u001b[0;34m.\u001b[0m\u001b[0mretrieval_context\u001b[0m\u001b[0;34m(\u001b[0m\u001b[0;34m)\u001b[0m\u001b[0;34m:\u001b[0m\u001b[0;34m\u001b[0m\u001b[0;34m\u001b[0m\u001b[0m\n\u001b[0;32m-> 1595\u001b[0;31m                 \u001b[0;32myield\u001b[0m \u001b[0;32mfrom\u001b[0m \u001b[0mself\u001b[0m\u001b[0;34m.\u001b[0m\u001b[0m_retrieve\u001b[0m\u001b[0;34m(\u001b[0m\u001b[0;34m)\u001b[0m\u001b[0;34m\u001b[0m\u001b[0;34m\u001b[0m\u001b[0m\n\u001b[0m\u001b[1;32m   1596\u001b[0m \u001b[0;34m\u001b[0m\u001b[0m\n\u001b[1;32m   1597\u001b[0m         \u001b[0;32mexcept\u001b[0m \u001b[0mGeneratorExit\u001b[0m\u001b[0;34m:\u001b[0m\u001b[0;34m\u001b[0m\u001b[0;34m\u001b[0m\u001b[0m\n",
            "\u001b[0;32m/usr/local/lib/python3.10/dist-packages/joblib/parallel.py\u001b[0m in \u001b[0;36m_retrieve\u001b[0;34m(self)\u001b[0m\n\u001b[1;32m   1697\u001b[0m             \u001b[0;31m# worker traceback.\u001b[0m\u001b[0;34m\u001b[0m\u001b[0;34m\u001b[0m\u001b[0m\n\u001b[1;32m   1698\u001b[0m             \u001b[0;32mif\u001b[0m \u001b[0mself\u001b[0m\u001b[0;34m.\u001b[0m\u001b[0m_aborting\u001b[0m\u001b[0;34m:\u001b[0m\u001b[0;34m\u001b[0m\u001b[0;34m\u001b[0m\u001b[0m\n\u001b[0;32m-> 1699\u001b[0;31m                 \u001b[0mself\u001b[0m\u001b[0;34m.\u001b[0m\u001b[0m_raise_error_fast\u001b[0m\u001b[0;34m(\u001b[0m\u001b[0;34m)\u001b[0m\u001b[0;34m\u001b[0m\u001b[0;34m\u001b[0m\u001b[0m\n\u001b[0m\u001b[1;32m   1700\u001b[0m                 \u001b[0;32mbreak\u001b[0m\u001b[0;34m\u001b[0m\u001b[0;34m\u001b[0m\u001b[0m\n\u001b[1;32m   1701\u001b[0m \u001b[0;34m\u001b[0m\u001b[0m\n",
            "\u001b[0;32m/usr/local/lib/python3.10/dist-packages/joblib/parallel.py\u001b[0m in \u001b[0;36m_raise_error_fast\u001b[0;34m(self)\u001b[0m\n\u001b[1;32m   1732\u001b[0m         \u001b[0;31m# called directly or if the generator is gc'ed.\u001b[0m\u001b[0;34m\u001b[0m\u001b[0;34m\u001b[0m\u001b[0m\n\u001b[1;32m   1733\u001b[0m         \u001b[0;32mif\u001b[0m \u001b[0merror_job\u001b[0m \u001b[0;32mis\u001b[0m \u001b[0;32mnot\u001b[0m \u001b[0;32mNone\u001b[0m\u001b[0;34m:\u001b[0m\u001b[0;34m\u001b[0m\u001b[0;34m\u001b[0m\u001b[0m\n\u001b[0;32m-> 1734\u001b[0;31m             \u001b[0merror_job\u001b[0m\u001b[0;34m.\u001b[0m\u001b[0mget_result\u001b[0m\u001b[0;34m(\u001b[0m\u001b[0mself\u001b[0m\u001b[0;34m.\u001b[0m\u001b[0mtimeout\u001b[0m\u001b[0;34m)\u001b[0m\u001b[0;34m\u001b[0m\u001b[0;34m\u001b[0m\u001b[0m\n\u001b[0m\u001b[1;32m   1735\u001b[0m \u001b[0;34m\u001b[0m\u001b[0m\n\u001b[1;32m   1736\u001b[0m     \u001b[0;32mdef\u001b[0m \u001b[0m_warn_exit_early\u001b[0m\u001b[0;34m(\u001b[0m\u001b[0mself\u001b[0m\u001b[0;34m)\u001b[0m\u001b[0;34m:\u001b[0m\u001b[0;34m\u001b[0m\u001b[0;34m\u001b[0m\u001b[0m\n",
            "\u001b[0;32m/usr/local/lib/python3.10/dist-packages/joblib/parallel.py\u001b[0m in \u001b[0;36mget_result\u001b[0;34m(self, timeout)\u001b[0m\n\u001b[1;32m    734\u001b[0m             \u001b[0;31m# callback thread, and is stored internally. It's just waiting to\u001b[0m\u001b[0;34m\u001b[0m\u001b[0;34m\u001b[0m\u001b[0m\n\u001b[1;32m    735\u001b[0m             \u001b[0;31m# be returned.\u001b[0m\u001b[0;34m\u001b[0m\u001b[0;34m\u001b[0m\u001b[0m\n\u001b[0;32m--> 736\u001b[0;31m             \u001b[0;32mreturn\u001b[0m \u001b[0mself\u001b[0m\u001b[0;34m.\u001b[0m\u001b[0m_return_or_raise\u001b[0m\u001b[0;34m(\u001b[0m\u001b[0;34m)\u001b[0m\u001b[0;34m\u001b[0m\u001b[0;34m\u001b[0m\u001b[0m\n\u001b[0m\u001b[1;32m    737\u001b[0m \u001b[0;34m\u001b[0m\u001b[0m\n\u001b[1;32m    738\u001b[0m         \u001b[0;31m# For other backends, the main thread needs to run the retrieval step.\u001b[0m\u001b[0;34m\u001b[0m\u001b[0;34m\u001b[0m\u001b[0m\n",
            "\u001b[0;32m/usr/local/lib/python3.10/dist-packages/joblib/parallel.py\u001b[0m in \u001b[0;36m_return_or_raise\u001b[0;34m(self)\u001b[0m\n\u001b[1;32m    752\u001b[0m         \u001b[0;32mtry\u001b[0m\u001b[0;34m:\u001b[0m\u001b[0;34m\u001b[0m\u001b[0;34m\u001b[0m\u001b[0m\n\u001b[1;32m    753\u001b[0m             \u001b[0;32mif\u001b[0m \u001b[0mself\u001b[0m\u001b[0;34m.\u001b[0m\u001b[0mstatus\u001b[0m \u001b[0;34m==\u001b[0m \u001b[0mTASK_ERROR\u001b[0m\u001b[0;34m:\u001b[0m\u001b[0;34m\u001b[0m\u001b[0;34m\u001b[0m\u001b[0m\n\u001b[0;32m--> 754\u001b[0;31m                 \u001b[0;32mraise\u001b[0m \u001b[0mself\u001b[0m\u001b[0;34m.\u001b[0m\u001b[0m_result\u001b[0m\u001b[0;34m\u001b[0m\u001b[0;34m\u001b[0m\u001b[0m\n\u001b[0m\u001b[1;32m    755\u001b[0m             \u001b[0;32mreturn\u001b[0m \u001b[0mself\u001b[0m\u001b[0;34m.\u001b[0m\u001b[0m_result\u001b[0m\u001b[0;34m\u001b[0m\u001b[0;34m\u001b[0m\u001b[0m\n\u001b[1;32m    756\u001b[0m         \u001b[0;32mfinally\u001b[0m\u001b[0;34m:\u001b[0m\u001b[0;34m\u001b[0m\u001b[0;34m\u001b[0m\u001b[0m\n",
            "\u001b[0;31mTerminatedWorkerError\u001b[0m: A worker process managed by the executor was unexpectedly terminated. This could be caused by a segmentation fault while calling the function or by an excessive memory usage causing the Operating System to kill the worker.\n\nThe exit codes of the workers are {SIGKILL(-9)}"
          ]
        }
      ]
    },
    {
      "cell_type": "code",
      "source": [
        "from lightgbm import LGBMClassifier\n",
        "from sklearn.metrics import accuracy_score, precision_score, recall_score, f1_score\n",
        "\n",
        "# Define hyperparameters for LightGBM\n",
        "lightgbm_params = {\n",
        "    'learning_rate': 0.1,\n",
        "    'n_estimators': 200,\n",
        "    'max_depth': -1,\n",
        "    'subsample': 0.8,\n",
        "    'colsample_bytree': 0.8\n",
        "}\n",
        "\n",
        "# Create LGBMClassifier with specified hyperparameters\n",
        "lightgbm_classifier = LGBMClassifier(**lightgbm_params, random_state=42)\n",
        "\n",
        "# Fit the model to the training data\n",
        "lightgbm_classifier.fit(X_train, y_train)\n",
        "\n",
        "# Predictions on the test set using the trained LightGBM model\n",
        "lightgbm_test_predictions = lightgbm_classifier.predict(X_test)\n",
        "\n",
        "# Calculate evaluation metrics for LightGBM\n",
        "lightgbm_accuracy = accuracy_score(y_test, lightgbm_test_predictions)\n",
        "lightgbm_precision = precision_score(y_test, lightgbm_test_predictions, average='weighted')\n",
        "lightgbm_recall = recall_score(y_test, lightgbm_test_predictions, average='weighted')\n",
        "lightgbm_f1 = f1_score(y_test, lightgbm_test_predictions, average='weighted')\n",
        "\n",
        "# Print metrics for LightGBM\n",
        "print(\"Accuracy:\", lightgbm_accuracy)\n",
        "print(\"Precision:\", lightgbm_precision)\n",
        "print(\"Recall:\", lightgbm_recall)\n",
        "print(\"F1-score:\", lightgbm_f1)"
      ],
      "metadata": {
        "colab": {
          "base_uri": "https://localhost:8080/"
        },
        "id": "cexUJ3WUkGYT",
        "outputId": "38261f14-52f7-45c9-ff66-25ce58be2db5"
      },
      "execution_count": null,
      "outputs": [
        {
          "output_type": "stream",
          "name": "stdout",
          "text": [
            "[LightGBM] [Info] Number of positive: 3406, number of negative: 2361\n",
            "[LightGBM] [Info] Auto-choosing col-wise multi-threading, the overhead of testing was 3.523138 seconds.\n",
            "You can set `force_col_wise=true` to remove the overhead.\n",
            "[LightGBM] [Info] Total Bins 10272887\n",
            "[LightGBM] [Info] Number of data points in the train set: 5767, number of used features: 41250\n",
            "[LightGBM] [Info] [binary:BoostFromScore]: pavg=0.590602 -> initscore=0.366453\n",
            "[LightGBM] [Info] Start training from score 0.366453\n",
            "[LightGBM] [Warning] No further splits with positive gain, best gain: -inf\n",
            "[LightGBM] [Warning] No further splits with positive gain, best gain: -inf\n",
            "[LightGBM] [Warning] No further splits with positive gain, best gain: -inf\n",
            "[LightGBM] [Warning] No further splits with positive gain, best gain: -inf\n",
            "[LightGBM] [Warning] No further splits with positive gain, best gain: -inf\n",
            "[LightGBM] [Warning] No further splits with positive gain, best gain: -inf\n",
            "[LightGBM] [Warning] No further splits with positive gain, best gain: -inf\n",
            "[LightGBM] [Warning] No further splits with positive gain, best gain: -inf\n",
            "[LightGBM] [Warning] No further splits with positive gain, best gain: -inf\n",
            "[LightGBM] [Warning] No further splits with positive gain, best gain: -inf\n",
            "[LightGBM] [Warning] No further splits with positive gain, best gain: -inf\n",
            "[LightGBM] [Warning] No further splits with positive gain, best gain: -inf\n",
            "[LightGBM] [Warning] No further splits with positive gain, best gain: -inf\n",
            "[LightGBM] [Warning] No further splits with positive gain, best gain: -inf\n",
            "[LightGBM] [Warning] No further splits with positive gain, best gain: -inf\n",
            "[LightGBM] [Warning] No further splits with positive gain, best gain: -inf\n",
            "[LightGBM] [Warning] No further splits with positive gain, best gain: -inf\n",
            "[LightGBM] [Warning] No further splits with positive gain, best gain: -inf\n",
            "[LightGBM] [Warning] No further splits with positive gain, best gain: -inf\n",
            "[LightGBM] [Warning] No further splits with positive gain, best gain: -inf\n",
            "[LightGBM] [Warning] No further splits with positive gain, best gain: -inf\n",
            "[LightGBM] [Warning] No further splits with positive gain, best gain: -inf\n",
            "[LightGBM] [Warning] No further splits with positive gain, best gain: -inf\n",
            "[LightGBM] [Warning] No further splits with positive gain, best gain: -inf\n",
            "[LightGBM] [Warning] No further splits with positive gain, best gain: -inf\n",
            "[LightGBM] [Warning] No further splits with positive gain, best gain: -inf\n",
            "[LightGBM] [Warning] No further splits with positive gain, best gain: -inf\n",
            "[LightGBM] [Warning] No further splits with positive gain, best gain: -inf\n",
            "[LightGBM] [Warning] No further splits with positive gain, best gain: -inf\n",
            "[LightGBM] [Warning] No further splits with positive gain, best gain: -inf\n",
            "[LightGBM] [Warning] No further splits with positive gain, best gain: -inf\n",
            "[LightGBM] [Warning] No further splits with positive gain, best gain: -inf\n",
            "[LightGBM] [Warning] No further splits with positive gain, best gain: -inf\n",
            "[LightGBM] [Warning] No further splits with positive gain, best gain: -inf\n",
            "[LightGBM] [Warning] No further splits with positive gain, best gain: -inf\n",
            "[LightGBM] [Warning] No further splits with positive gain, best gain: -inf\n",
            "[LightGBM] [Warning] No further splits with positive gain, best gain: -inf\n",
            "[LightGBM] [Warning] No further splits with positive gain, best gain: -inf\n",
            "[LightGBM] [Warning] No further splits with positive gain, best gain: -inf\n",
            "[LightGBM] [Warning] No further splits with positive gain, best gain: -inf\n",
            "[LightGBM] [Warning] No further splits with positive gain, best gain: -inf\n",
            "[LightGBM] [Warning] No further splits with positive gain, best gain: -inf\n",
            "[LightGBM] [Warning] No further splits with positive gain, best gain: -inf\n",
            "[LightGBM] [Warning] No further splits with positive gain, best gain: -inf\n",
            "[LightGBM] [Warning] No further splits with positive gain, best gain: -inf\n",
            "[LightGBM] [Warning] No further splits with positive gain, best gain: -inf\n",
            "[LightGBM] [Warning] No further splits with positive gain, best gain: -inf\n",
            "[LightGBM] [Warning] No further splits with positive gain, best gain: -inf\n",
            "[LightGBM] [Warning] No further splits with positive gain, best gain: -inf\n",
            "[LightGBM] [Warning] No further splits with positive gain, best gain: -inf\n",
            "[LightGBM] [Warning] No further splits with positive gain, best gain: -inf\n",
            "[LightGBM] [Warning] No further splits with positive gain, best gain: -inf\n",
            "[LightGBM] [Warning] No further splits with positive gain, best gain: -inf\n",
            "[LightGBM] [Warning] No further splits with positive gain, best gain: -inf\n",
            "[LightGBM] [Warning] No further splits with positive gain, best gain: -inf\n",
            "[LightGBM] [Warning] No further splits with positive gain, best gain: -inf\n",
            "[LightGBM] [Warning] No further splits with positive gain, best gain: -inf\n",
            "[LightGBM] [Warning] No further splits with positive gain, best gain: -inf\n",
            "[LightGBM] [Warning] No further splits with positive gain, best gain: -inf\n",
            "[LightGBM] [Warning] No further splits with positive gain, best gain: -inf\n",
            "[LightGBM] [Warning] No further splits with positive gain, best gain: -inf\n",
            "[LightGBM] [Warning] No further splits with positive gain, best gain: -inf\n",
            "[LightGBM] [Warning] No further splits with positive gain, best gain: -inf\n",
            "[LightGBM] [Warning] No further splits with positive gain, best gain: -inf\n",
            "[LightGBM] [Warning] No further splits with positive gain, best gain: -inf\n",
            "[LightGBM] [Warning] Stopped training because there are no more leaves that meet the split requirements\n",
            "[LightGBM] [Warning] No further splits with positive gain, best gain: -inf\n",
            "[LightGBM] [Warning] Stopped training because there are no more leaves that meet the split requirements\n",
            "[LightGBM] [Warning] No further splits with positive gain, best gain: -inf\n",
            "[LightGBM] [Warning] Stopped training because there are no more leaves that meet the split requirements\n",
            "[LightGBM] [Warning] No further splits with positive gain, best gain: -inf\n",
            "[LightGBM] [Warning] Stopped training because there are no more leaves that meet the split requirements\n",
            "[LightGBM] [Warning] No further splits with positive gain, best gain: -inf\n",
            "[LightGBM] [Warning] Stopped training because there are no more leaves that meet the split requirements\n",
            "[LightGBM] [Warning] No further splits with positive gain, best gain: -inf\n",
            "[LightGBM] [Warning] Stopped training because there are no more leaves that meet the split requirements\n",
            "[LightGBM] [Warning] No further splits with positive gain, best gain: -inf\n",
            "[LightGBM] [Warning] Stopped training because there are no more leaves that meet the split requirements\n",
            "[LightGBM] [Warning] No further splits with positive gain, best gain: -inf\n",
            "[LightGBM] [Warning] Stopped training because there are no more leaves that meet the split requirements\n",
            "[LightGBM] [Warning] No further splits with positive gain, best gain: -inf\n",
            "[LightGBM] [Warning] Stopped training because there are no more leaves that meet the split requirements\n",
            "[LightGBM] [Warning] No further splits with positive gain, best gain: -inf\n",
            "[LightGBM] [Warning] Stopped training because there are no more leaves that meet the split requirements\n",
            "[LightGBM] [Warning] No further splits with positive gain, best gain: -inf\n",
            "[LightGBM] [Warning] Stopped training because there are no more leaves that meet the split requirements\n",
            "[LightGBM] [Warning] No further splits with positive gain, best gain: -inf\n",
            "[LightGBM] [Warning] Stopped training because there are no more leaves that meet the split requirements\n",
            "[LightGBM] [Warning] No further splits with positive gain, best gain: -inf\n",
            "[LightGBM] [Warning] Stopped training because there are no more leaves that meet the split requirements\n",
            "[LightGBM] [Warning] No further splits with positive gain, best gain: -inf\n",
            "[LightGBM] [Warning] Stopped training because there are no more leaves that meet the split requirements\n",
            "[LightGBM] [Warning] No further splits with positive gain, best gain: -inf\n",
            "[LightGBM] [Warning] Stopped training because there are no more leaves that meet the split requirements\n",
            "[LightGBM] [Warning] No further splits with positive gain, best gain: -inf\n",
            "[LightGBM] [Warning] Stopped training because there are no more leaves that meet the split requirements\n",
            "[LightGBM] [Warning] No further splits with positive gain, best gain: -inf\n",
            "[LightGBM] [Warning] Stopped training because there are no more leaves that meet the split requirements\n",
            "[LightGBM] [Warning] No further splits with positive gain, best gain: -inf\n",
            "[LightGBM] [Warning] Stopped training because there are no more leaves that meet the split requirements\n",
            "[LightGBM] [Warning] No further splits with positive gain, best gain: -inf\n",
            "[LightGBM] [Warning] Stopped training because there are no more leaves that meet the split requirements\n",
            "[LightGBM] [Warning] No further splits with positive gain, best gain: -inf\n",
            "[LightGBM] [Warning] Stopped training because there are no more leaves that meet the split requirements\n",
            "[LightGBM] [Warning] No further splits with positive gain, best gain: -inf\n",
            "[LightGBM] [Warning] Stopped training because there are no more leaves that meet the split requirements\n",
            "[LightGBM] [Warning] No further splits with positive gain, best gain: -inf\n",
            "[LightGBM] [Warning] Stopped training because there are no more leaves that meet the split requirements\n",
            "[LightGBM] [Warning] No further splits with positive gain, best gain: -inf\n",
            "[LightGBM] [Warning] Stopped training because there are no more leaves that meet the split requirements\n",
            "Accuracy: 0.3810556760665221\n",
            "Precision: 0.3863000592062\n",
            "Recall: 0.3810556760665221\n",
            "F1-score: 0.38365468804893665\n"
          ]
        }
      ]
    },
    {
      "cell_type": "code",
      "source": [
        "from lightgbm import LGBMClassifier\n",
        "from sklearn.metrics import accuracy_score, precision_score, recall_score, f1_score\n",
        "\n",
        "# Define hyperparameters for LightGBM\n",
        "lightgbm_params = {\n",
        "    'learning_rate': 0.1,\n",
        "    'n_estimators': 200,\n",
        "    'max_depth': 5,\n",
        "    'subsample': 0.8,\n",
        "    'colsample_bytree': 0.8\n",
        "}\n",
        "\n",
        "# Create LGBMClassifier with specified hyperparameters\n",
        "lightgbm_classifier = LGBMClassifier(**lightgbm_params, random_state=42)\n",
        "\n",
        "# Fit the model to the training data\n",
        "lightgbm_classifier.fit(X_train, y_train)\n",
        "\n",
        "# Predictions on the test set using the trained LightGBM model\n",
        "lightgbm_test_predictions = lightgbm_classifier.predict(X_test)\n",
        "\n",
        "# Calculate evaluation metrics for LightGBM\n",
        "lightgbm_accuracy = accuracy_score(y_test, lightgbm_test_predictions)\n",
        "lightgbm_precision = precision_score(y_test, lightgbm_test_predictions, average='weighted')\n",
        "lightgbm_recall = recall_score(y_test, lightgbm_test_predictions, average='weighted')\n",
        "lightgbm_f1 = f1_score(y_test, lightgbm_test_predictions, average='weighted')"
      ],
      "metadata": {
        "id": "n7mOQdxqpdjv"
      },
      "execution_count": null,
      "outputs": []
    },
    {
      "cell_type": "code",
      "source": [
        "from lightgbm import LGBMClassifier\n",
        "from sklearn.metrics import accuracy_score, precision_score, recall_score, f1_score\n",
        "\n",
        "# Define hyperparameters for LightGBM\n",
        "lightgbm_params = {\n",
        "    'learning_rate': 0.01,\n",
        "    'n_estimators': 200,\n",
        "    'max_depth': -1,\n",
        "    'subsample': 0.8,\n",
        "    'colsample_bytree': 0.8\n",
        "}\n",
        "\n",
        "# Create LGBMClassifier with specified hyperparameters\n",
        "lightgbm_classifier = LGBMClassifier(**lightgbm_params, random_state=42)\n",
        "\n",
        "# Fit the model to the training data\n",
        "lightgbm_classifier.fit(X_train, y_train)\n",
        "\n",
        "# Predictions on the test set using the trained LightGBM model\n",
        "lightgbm_test_predictions = lightgbm_classifier.predict(X_test)\n",
        "\n",
        "# Calculate evaluation metrics for LightGBM\n",
        "lightgbm_accuracy = accuracy_score(y_test, lightgbm_test_predictions)\n",
        "lightgbm_precision = precision_score(y_test, lightgbm_test_predictions, average='weighted')\n",
        "lightgbm_recall = recall_score(y_test, lightgbm_test_predictions, average='weighted')\n",
        "lightgbm_f1 = f1_score(y_test, lightgbm_test_predictions, average='weighted')\n",
        "\n",
        "# Print metrics for LightGBM\n",
        "print(\"Accuracy:\", lightgbm_accuracy)\n",
        "print(\"Precision:\", lightgbm_precision)\n",
        "print(\"Recall:\", lightgbm_recall)\n",
        "print(\"F1-score:\", lightgbm_f1)"
      ],
      "metadata": {
        "colab": {
          "base_uri": "https://localhost:8080/"
        },
        "id": "FxFC6OAomQrN",
        "outputId": "684aca03-6f3e-4b59-8f8a-19668a8cd7c5"
      },
      "execution_count": null,
      "outputs": [
        {
          "output_type": "stream",
          "name": "stdout",
          "text": [
            "[LightGBM] [Info] Number of positive: 3406, number of negative: 2361\n",
            "[LightGBM] [Info] Auto-choosing col-wise multi-threading, the overhead of testing was 3.894440 seconds.\n",
            "You can set `force_col_wise=true` to remove the overhead.\n",
            "[LightGBM] [Info] Total Bins 10272887\n",
            "[LightGBM] [Info] Number of data points in the train set: 5767, number of used features: 41250\n",
            "[LightGBM] [Info] [binary:BoostFromScore]: pavg=0.590602 -> initscore=0.366453\n",
            "[LightGBM] [Info] Start training from score 0.366453\n",
            "[LightGBM] [Warning] No further splits with positive gain, best gain: -inf\n",
            "[LightGBM] [Warning] No further splits with positive gain, best gain: -inf\n",
            "Accuracy: 0.6717281272595806\n",
            "Precision: 0.7104022316657997\n",
            "Recall: 0.6717281272595806\n",
            "F1-score: 0.6821591529092444\n"
          ]
        }
      ]
    },
    {
      "cell_type": "code",
      "source": [
        "# Compute the confusion matrix for the test set\n",
        "cm_test = confusion_matrix(y_test, lightgbm_test_predictions)\n",
        "\n",
        "# Plot the confusion matrix for the test set\n",
        "plt.figure(figsize=(8, 6))\n",
        "sns.heatmap(cm_test, annot=True, fmt=\"d\", cmap=\"Blues\", cbar=False)\n",
        "plt.xlabel(\"Predicted Label\")\n",
        "plt.ylabel(\"True Label\")\n",
        "plt.title(\"Confusion Matrix for LightGBM (Test Set)\")\n",
        "plt.show()"
      ],
      "metadata": {
        "colab": {
          "base_uri": "https://localhost:8080/",
          "height": 564
        },
        "id": "yCIejNf1kLGH",
        "outputId": "4b0f8280-c908-462b-9a41-96450da4f3c0"
      },
      "execution_count": null,
      "outputs": [
        {
          "output_type": "display_data",
          "data": {
            "text/plain": [
              "<Figure size 800x600 with 1 Axes>"
            ],
            "image/png": "[encoded data removed]"
          },
          "metadata": {}
        }
      ]
    },
    {
      "cell_type": "code",
      "source": [
        "import joblib\n",
        "\n",
        "# Specify the full path including the filename and .joblib extension\n",
        "model_path = '/content/drive/MyDrive/GP-Trail/LGBMWithHayperParameter.joblib'\n",
        "\n",
        "# Save your model\n",
        "joblib.dump(lightgbm_classifier, model_path)"
      ],
      "metadata": {
        "colab": {
          "base_uri": "https://localhost:8080/"
        },
        "id": "2_QRcEiJ6Y2W",
        "outputId": "98c1b5ae-4c2d-4ba4-a655-cdb4f484dfa2"
      },
      "execution_count": null,
      "outputs": [
        {
          "output_type": "execute_result",
          "data": {
            "text/plain": [
              "['/content/drive/MyDrive/GP-Trail/LGBMWithHayperParameter.joblib']"
            ]
          },
          "metadata": {},
          "execution_count": 29
        }
      ]
    },
    {
      "cell_type": "markdown",
      "source": [
        "### With DT"
      ],
      "metadata": {
        "id": "viz-F0Hf6jU4"
      }
    },
    {
      "cell_type": "code",
      "source": [
        "from lightgbm import LGBMClassifier\n",
        "from sklearn.metrics import accuracy_score, precision_score, recall_score, f1_score\n",
        "\n",
        "# Define hyperparameters for LightGBM\n",
        "lightgbm_params = {\n",
        "    'learning_rate': 0.01,\n",
        "    'n_estimators': 200,\n",
        "    'max_depth': -1,\n",
        "    'subsample': 0.8,\n",
        "    'colsample_bytree': 0.8\n",
        "}\n",
        "\n",
        "lgbm_model=select_features_with_decision_tree(LGBMClassifier(**lightgbm_params, random_state=42),X_train, y_train,X_test , y_test)"
      ],
      "metadata": {
        "colab": {
          "base_uri": "https://localhost:8080/",
          "height": 1000
        },
        "id": "2ozR40Qg6nR9",
        "outputId": "6dcc66d5-304f-472b-b7d6-94674bb67d53"
      },
      "execution_count": null,
      "outputs": [
        {
          "output_type": "stream",
          "name": "stdout",
          "text": [
            "[[-3.92122071 -4.19766329 -4.14916175 -4.19766329]\n",
            " [-3.92122071 -4.19766329 -4.14916175 -4.19766329]\n",
            " [-3.92122071  0.18658284  0.1705135   0.18658284]\n",
            " ...\n",
            " [-0.17531763 -0.12309218 -0.08673444 -0.15129016]\n",
            " [-0.17531763 -0.12309218 -0.08673444 -0.15129016]\n",
            " [-0.17531763  8.73954447 -0.08673444 -0.15129016]]\n",
            "[[-1.47669020e-01 -3.20702906e-13 -1.20165967e-01 -8.46864627e-02]\n",
            " [-1.47669020e-01 -3.20702906e-13 -1.20165967e-01 -8.46864627e-02]\n",
            " [-1.47669020e-01 -3.20702906e-13 -1.20165967e-01 -8.46864627e-02]\n",
            " ...\n",
            " [-8.61341994e-02 -1.22234380e-01 -1.95253142e-01 -1.50228465e-01]\n",
            " [-8.61341994e-02 -1.22234380e-01 -1.95253142e-01 -1.50228465e-01]\n",
            " [-8.61341994e-02 -1.22234380e-01 -1.95253142e-01 -1.50228465e-01]]\n",
            "-------------------------\n",
            "Selected Features:\n",
            "Feature 8217\n",
            "Feature 20790\n",
            "Feature 32934\n",
            "Feature 34749\n",
            "[LightGBM] [Info] Number of positive: 3406, number of negative: 2361\n",
            "[LightGBM] [Info] Auto-choosing col-wise multi-threading, the overhead of testing was 0.000155 seconds.\n",
            "You can set `force_col_wise=true` to remove the overhead.\n",
            "[LightGBM] [Info] Total Bins 230\n",
            "[LightGBM] [Info] Number of data points in the train set: 5767, number of used features: 4\n",
            "[LightGBM] [Info] [binary:BoostFromScore]: pavg=0.590602 -> initscore=0.366453\n",
            "[LightGBM] [Info] Start training from score 0.366453\n",
            "[LightGBM] [Warning] No further splits with positive gain, best gain: -inf\n",
            "[LightGBM] [Warning] No further splits with positive gain, best gain: -inf\n",
            "[LightGBM] [Warning] No further splits with positive gain, best gain: -inf\n",
            "[LightGBM] [Warning] No further splits with positive gain, best gain: -inf\n",
            "Accuracy: 0.6767895878524945\n",
            "Recall: 0.6767895878524945\n",
            "Precision: 0.708961051862347\n",
            "F1-score: 0.6862674157372747\n",
            "Classification Report (Test):\n",
            "               precision    recall  f1-score   support\n",
            "\n",
            "           0       0.49      0.65      0.56       435\n",
            "           1       0.81      0.69      0.75       948\n",
            "\n",
            "    accuracy                           0.68      1383\n",
            "   macro avg       0.65      0.67      0.65      1383\n",
            "weighted avg       0.71      0.68      0.69      1383\n",
            "\n"
          ]
        },
        {
          "output_type": "display_data",
          "data": {
            "text/plain": [
              "<Figure size 800x600 with 1 Axes>"
            ],
            "image/png": "[encoded data removed]"
          },
          "metadata": {}
        }
      ]
    },
    {
      "cell_type": "code",
      "source": [
        "import joblib\n",
        "\n",
        "# Specify the full path including the filename and .joblib extension\n",
        "model_path = '/content/drive/MyDrive/GP-Trail/LGBMWithHayperParameter_DT.joblib'\n",
        "\n",
        "# Save your model\n",
        "joblib.dump(lgbm_model, model_path)"
      ],
      "metadata": {
        "colab": {
          "base_uri": "https://localhost:8080/"
        },
        "id": "TQkelHak7GJl",
        "outputId": "dbddc027-c272-41d4-8511-81ceca7c6ec2"
      },
      "execution_count": null,
      "outputs": [
        {
          "output_type": "execute_result",
          "data": {
            "text/plain": [
              "['/content/drive/MyDrive/GP-Trail/LGBMWithHayperParameter_DT.joblib']"
            ]
          },
          "metadata": {},
          "execution_count": 31
        }
      ]
    },
    {
      "cell_type": "markdown",
      "source": [
        "## Adaboost"
      ],
      "metadata": {
        "id": "5mwLMvNakRMY"
      }
    },
    {
      "cell_type": "code",
      "source": [
        "from sklearn.ensemble import AdaBoostClassifier\n",
        "from sklearn.tree import DecisionTreeClassifier\n",
        "from sklearn.model_selection import GridSearchCV\n",
        "from sklearn.metrics import accuracy_score, precision_score, recall_score, f1_score\n",
        "import joblib\n",
        "\n",
        "# Define the parameter grid to search for AdaBoost\n",
        "adaboost_param_grid = {\n",
        "    'n_estimators': [50, 100, 200],\n",
        "    'learning_rate': [0.1, 0.5, 1.0]\n",
        "}\n",
        "\n",
        "# Create AdaBoostClassifier\n",
        "adaboost_classifier = AdaBoostClassifier(random_state=42)\n",
        "\n",
        "# Create GridSearchCV for AdaBoost\n",
        "adaboost_grid_search = GridSearchCV(estimator=adaboost_classifier, param_grid=adaboost_param_grid,\n",
        "                                     cv=3, scoring='accuracy', n_jobs=-1)\n",
        "\n",
        "# Fit the grid search to the data\n",
        "adaboost_grid_search.fit(X_train, y_train)\n",
        "\n",
        "# Get the best parameters and best estimator for AdaBoost\n",
        "best_adaboost_params = adaboost_grid_search.best_params_\n",
        "best_adaboost_classifier = adaboost_grid_search.best_estimator_\n",
        "\n",
        "# Print the best parameters for AdaBoost\n",
        "print(\"Best Hyperparameters for AdaBoost:\", best_adaboost_params)\n",
        "\n",
        "# Predictions on the test set using the best AdaBoost model\n",
        "best_adaboost_test_predictions = best_adaboost_classifier.predict(X_test)\n",
        "\n",
        "# Calculate evaluation metrics for AdaBoost\n",
        "adaboost_accuracy = accuracy_score(y_test, best_adaboost_test_predictions)\n",
        "adaboost_precision = precision_score(y_test, best_adaboost_test_predictions, average='weighted')\n",
        "adaboost_recall = recall_score(y_test, best_adaboost_test_predictions, average='weighted')\n",
        "adaboost_f1 = f1_score(y_test, best_adaboost_test_predictions, average='weighted')\n",
        "\n",
        "# Print metrics for AdaBoost\n",
        "print(\"Accuracy:\", adaboost_accuracy)\n",
        "print(\"Precision:\", adaboost_precision)\n",
        "print(\"Recall:\", adaboost_recall)\n",
        "print(\"F1-score:\", adaboost_f1)"
      ],
      "metadata": {
        "id": "wT6NDGhGMUDS",
        "colab": {
          "base_uri": "https://localhost:8080/"
        },
        "outputId": "773993e2-2cd6-49b8-d590-a25f75fbc0c7"
      },
      "execution_count": null,
      "outputs": [
        {
          "output_type": "stream",
          "name": "stdout",
          "text": [
            "Best Hyperparameters for AdaBoost: {'learning_rate': 1.0, 'n_estimators': 200}\n",
            "Accuracy: 0.3600867678958785\n",
            "Precision: 0.3658759442286097\n",
            "Recall: 0.3600867678958785\n",
            "F1-score: 0.3629582732220019\n"
          ]
        }
      ]
    },
    {
      "cell_type": "code",
      "source": [
        "# Compute the confusion matrix for the test set\n",
        "cm_test = confusion_matrix(y_test, best_adaboost_test_predictions)\n",
        "\n",
        "# Plot the confusion matrix for the test set\n",
        "plt.figure(figsize=(8, 6))\n",
        "sns.heatmap(cm_test, annot=True, fmt=\"d\", cmap=\"Blues\", cbar=False)\n",
        "plt.xlabel(\"Predicted Label\")\n",
        "plt.ylabel(\"True Label\")\n",
        "plt.title(\"Confusion Matrix for Adaboost (Test Set)\")\n",
        "plt.show()"
      ],
      "metadata": {
        "id": "O1I5WXtDn30t"
      },
      "execution_count": null,
      "outputs": []
    },
    {
      "cell_type": "code",
      "source": [
        "\n",
        "# Specify the full path including the filename and .joblib extension\n",
        "model_path = '/content/drive/MyDrive/GP-Trail/AdaboostWithHayperParameter.joblib'\n",
        "\n",
        "# Save your model\n",
        "joblib.dump(best_adaboost_classifier, model_path)"
      ],
      "metadata": {
        "id": "tsTHrOVXn7rB"
      },
      "execution_count": null,
      "outputs": []
    },
    {
      "cell_type": "code",
      "source": [
        "from sklearn.ensemble import AdaBoostClassifier\n",
        "from sklearn.metrics import accuracy_score, precision_score, recall_score, f1_score\n",
        "\n",
        "# Define hyperparameters for AdaBoost\n",
        "adaboost_params = {\n",
        "    'n_estimators': 200,  # Number of weak learners\n",
        "    'learning_rate': 1.0  # Weighting of weak learners\n",
        "}\n",
        "\n",
        "# Create AdaBoostClassifier with specified hyperparameters\n",
        "adaboost_classifier = AdaBoostClassifier(**adaboost_params, random_state=42)\n",
        "\n",
        "# Fit the model to the training data\n",
        "adaboost_classifier.fit(X_train, y_train)\n",
        "\n",
        "# Predictions on the test set using the trained AdaBoost model\n",
        "adaboost_test_predictions = adaboost_classifier.predict(X_test)\n",
        "\n",
        "# Calculate evaluation metrics for AdaBoost\n",
        "adaboost_accuracy = accuracy_score(y_test, adaboost_test_predictions)\n",
        "adaboost_precision = precision_score(y_test, adaboost_test_predictions, average='weighted')\n",
        "adaboost_recall = recall_score(y_test, adaboost_test_predictions, average='weighted')\n",
        "adaboost_f1 = f1_score(y_test, adaboost_test_predictions, average='weighted')\n",
        "\n",
        "# Print metrics for AdaBoost\n",
        "print(\"Accuracy:\", adaboost_accuracy)\n",
        "print(\"Precision:\", adaboost_precision)\n",
        "print(\"Recall:\", adaboost_recall)\n",
        "print(\"F1-score:\", adaboost_f1)"
      ],
      "metadata": {
        "colab": {
          "base_uri": "https://localhost:8080/"
        },
        "id": "VBff6KZ9lScx",
        "outputId": "1b8d1c65-6fe8-4f3d-c638-494986dc71b0"
      },
      "execution_count": null,
      "outputs": [
        {
          "output_type": "stream",
          "name": "stdout",
          "text": [
            "Accuracy: 0.3600867678958785\n",
            "Precision: 0.3658759442286097\n",
            "Recall: 0.3600867678958785\n",
            "F1-score: 0.3629582732220019\n"
          ]
        }
      ]
    },
    {
      "cell_type": "code",
      "source": [
        "# Compute the confusion matrix for the test set\n",
        "cm_test = confusion_matrix(y_test, adaboost_test_predictions)\n",
        "\n",
        "# Plot the confusion matrix for the test set\n",
        "plt.figure(figsize=(8, 6))\n",
        "sns.heatmap(cm_test, annot=True, fmt=\"d\", cmap=\"Blues\", cbar=False)\n",
        "plt.xlabel(\"Predicted Label\")\n",
        "plt.ylabel(\"True Label\")\n",
        "plt.title(\"Confusion Matrix for Adaboost (Test Set)\")\n",
        "plt.show()"
      ],
      "metadata": {
        "colab": {
          "base_uri": "https://localhost:8080/",
          "height": 564
        },
        "id": "_LH2Aq72_ZMy",
        "outputId": "f9ab5dbd-54db-4f2f-a86d-914662874aa2"
      },
      "execution_count": null,
      "outputs": [
        {
          "output_type": "display_data",
          "data": {
            "text/plain": [
              "<Figure size 800x600 with 1 Axes>"
            ],
            "image/png": "[encoded data removed]"
          },
          "metadata": {}
        }
      ]
    },
    {
      "cell_type": "code",
      "source": [
        "from sklearn.ensemble import AdaBoostClassifier\n",
        "from sklearn.metrics import accuracy_score, precision_score, recall_score, f1_score\n",
        "\n",
        "# Define hyperparameters for AdaBoost\n",
        "adaboost_params = {\n",
        "    'n_estimators': 100,  # Number of weak learners\n",
        "    'learning_rate': 1.0  # Weighting of weak learners\n",
        "}\n",
        "\n",
        "# Create AdaBoostClassifier with specified hyperparameters\n",
        "adaboost_classifier = AdaBoostClassifier(**adaboost_params, random_state=42)\n",
        "\n",
        "# Fit the model to the training data\n",
        "adaboost_classifier.fit(X_train, y_train)\n",
        "\n",
        "# Predictions on the test set using the trained AdaBoost model\n",
        "adaboost_test_predictions = adaboost_classifier.predict(X_test)\n",
        "\n",
        "# Calculate evaluation metrics for AdaBoost\n",
        "adaboost_accuracy = accuracy_score(y_test, adaboost_test_predictions)\n",
        "adaboost_precision = precision_score(y_test, adaboost_test_predictions, average='weighted')\n",
        "adaboost_recall = recall_score(y_test, adaboost_test_predictions, average='weighted')\n",
        "adaboost_f1 = f1_score(y_test, adaboost_test_predictions, average='weighted')\n",
        "\n",
        "# Print metrics for AdaBoost\n",
        "print(\"Accuracy:\", adaboost_accuracy)\n",
        "print(\"Precision:\", adaboost_precision)\n",
        "print(\"Recall:\", adaboost_recall)\n",
        "print(\"F1-score:\", adaboost_f1)"
      ],
      "metadata": {
        "colab": {
          "base_uri": "https://localhost:8080/"
        },
        "id": "DLyxPf1F8zMi",
        "outputId": "7c2705fc-8deb-4875-ebd0-e8ae14753853"
      },
      "execution_count": null,
      "outputs": [
        {
          "output_type": "stream",
          "name": "stdout",
          "text": [
            "Accuracy: 0.3152566883586406\n",
            "Precision: 0.3431266826222633\n",
            "Recall: 0.3152566883586406\n",
            "F1-score: 0.32860180380867654\n"
          ]
        }
      ]
    },
    {
      "cell_type": "code",
      "source": [
        "# Compute the confusion matrix for the test set\n",
        "cm_test = confusion_matrix(y_test, adaboost_test_predictions)\n",
        "\n",
        "# Plot the confusion matrix for the test set\n",
        "plt.figure(figsize=(8, 6))\n",
        "sns.heatmap(cm_test, annot=True, fmt=\"d\", cmap=\"Blues\", cbar=False)\n",
        "plt.xlabel(\"Predicted Label\")\n",
        "plt.ylabel(\"True Label\")\n",
        "plt.title(\"Confusion Matrix for Adaboost (Test Set)\")\n",
        "plt.show()"
      ],
      "metadata": {
        "colab": {
          "base_uri": "https://localhost:8080/",
          "height": 564
        },
        "id": "fj9vPulPlYxQ",
        "outputId": "0b8bc69c-b98d-4477-a1f6-736f7315f314"
      },
      "execution_count": null,
      "outputs": [
        {
          "output_type": "display_data",
          "data": {
            "text/plain": [
              "<Figure size 800x600 with 1 Axes>"
            ],
            "image/png": "[encoded data removed]"
          },
          "metadata": {}
        }
      ]
    },
    {
      "cell_type": "code",
      "source": [
        "from sklearn.ensemble import AdaBoostClassifier\n",
        "from sklearn.metrics import accuracy_score, precision_score, recall_score, f1_score\n",
        "\n",
        "# Define hyperparameters for AdaBoost\n",
        "adaboost_params = {\n",
        "    'n_estimators': 200,  # Number of weak learners\n",
        "    'learning_rate': 0.1  # Weighting of weak learners\n",
        "}\n",
        "\n",
        "# Create AdaBoostClassifier with specified hyperparameters\n",
        "adaboost_classifier = AdaBoostClassifier(**adaboost_params, random_state=42)\n",
        "\n",
        "# Fit the model to the training data\n",
        "adaboost_classifier.fit(X_train, y_train)\n",
        "\n",
        "# Predictions on the test set using the trained AdaBoost model\n",
        "adaboost_test_predictions = adaboost_classifier.predict(X_test)\n",
        "\n",
        "# Calculate evaluation metrics for AdaBoost\n",
        "adaboost_accuracy = accuracy_score(y_test, adaboost_test_predictions)\n",
        "adaboost_precision = precision_score(y_test, adaboost_test_predictions, average='weighted')\n",
        "adaboost_recall = recall_score(y_test, adaboost_test_predictions, average='weighted')\n",
        "adaboost_f1 = f1_score(y_test, adaboost_test_predictions, average='weighted')\n",
        "\n",
        "# Print metrics for AdaBoost\n",
        "print(\"Accuracy:\", adaboost_accuracy)\n",
        "print(\"Precision:\", adaboost_precision)\n",
        "print(\"Recall:\", adaboost_recall)\n",
        "print(\"F1-score:\", adaboost_f1)"
      ],
      "metadata": {
        "colab": {
          "base_uri": "https://localhost:8080/"
        },
        "id": "R0agyOlFqg-p",
        "outputId": "e08860df-7bba-45f8-8645-5a32b079f5e9"
      },
      "execution_count": null,
      "outputs": [
        {
          "output_type": "stream",
          "name": "stdout",
          "text": [
            "Accuracy: 0.32682574114244395\n",
            "Precision: 0.3561482709138597\n",
            "Recall: 0.32682574114244395\n",
            "F1-score: 0.34073113659213494\n"
          ]
        }
      ]
    },
    {
      "cell_type": "code",
      "source": [
        "# Compute the confusion matrix for the test set\n",
        "cm_test = confusion_matrix(y_test, adaboost_test_predictions)\n",
        "\n",
        "# Plot the confusion matrix for the test set\n",
        "plt.figure(figsize=(8, 6))\n",
        "sns.heatmap(cm_test, annot=True, fmt=\"d\", cmap=\"Blues\", cbar=False)\n",
        "plt.xlabel(\"Predicted Label\")\n",
        "plt.ylabel(\"True Label\")\n",
        "plt.title(\"Confusion Matrix for Adaboost (Test Set)\")\n",
        "plt.show()"
      ],
      "metadata": {
        "id": "ZQkW0nMJJHQt"
      },
      "execution_count": null,
      "outputs": []
    },
    {
      "cell_type": "code",
      "source": [
        "from sklearn.ensemble import AdaBoostClassifier\n",
        "from sklearn.metrics import accuracy_score, precision_score, recall_score, f1_score\n",
        "\n",
        "# Define hyperparameters for AdaBoost\n",
        "adaboost_params = {\n",
        "    'n_estimators': 100,  # Number of weak learners\n",
        "    'learning_rate': 0.5  # Weighting of weak learners\n",
        "}\n",
        "\n",
        "# Create AdaBoostClassifier with specified hyperparameters\n",
        "adaboost_classifier = AdaBoostClassifier(**adaboost_params, random_state=42)\n",
        "\n",
        "# Fit the model to the training data\n",
        "adaboost_classifier.fit(X_train, y_train)\n",
        "\n",
        "# Predictions on the test set using the trained AdaBoost model\n",
        "adaboost_test_predictions = adaboost_classifier.predict(X_test)\n",
        "\n",
        "# Calculate evaluation metrics for AdaBoost\n",
        "adaboost_accuracy = accuracy_score(y_test, adaboost_test_predictions)\n",
        "adaboost_precision = precision_score(y_test, adaboost_test_predictions, average='weighted')\n",
        "adaboost_recall = recall_score(y_test, adaboost_test_predictions, average='weighted')\n",
        "adaboost_f1 = f1_score(y_test, adaboost_test_predictions, average='weighted')\n",
        "\n",
        "# Print metrics for AdaBoost\n",
        "print(\"Accuracy:\", adaboost_accuracy)\n",
        "print(\"Precision:\", adaboost_precision)\n",
        "print(\"Recall:\", adaboost_recall)\n",
        "print(\"F1-score:\", adaboost_f1)"
      ],
      "metadata": {
        "colab": {
          "base_uri": "https://localhost:8080/"
        },
        "id": "jMmWhVzNX9xa",
        "outputId": "236dd776-4b0b-4926-bacb-efd768e70138"
      },
      "execution_count": null,
      "outputs": [
        {
          "output_type": "stream",
          "name": "stdout",
          "text": [
            "Accuracy: 0.47360809833694867\n",
            "Precision: 0.42431737211039655\n",
            "Recall: 0.47360809833694867\n",
            "F1-score: 0.4471631718486382\n"
          ]
        }
      ]
    },
    {
      "cell_type": "code",
      "source": [
        "# Compute the confusion matrix for the test set\n",
        "cm_test = confusion_matrix(y_test, adaboost_test_predictions)\n",
        "\n",
        "# Plot the confusion matrix for the test set\n",
        "plt.figure(figsize=(8, 6))\n",
        "sns.heatmap(cm_test, annot=True, fmt=\"d\", cmap=\"Blues\", cbar=False)\n",
        "plt.xlabel(\"Predicted Label\")\n",
        "plt.ylabel(\"True Label\")\n",
        "plt.title(\"Confusion Matrix for Adaboost (Test Set)\")\n",
        "plt.show()"
      ],
      "metadata": {
        "colab": {
          "base_uri": "https://localhost:8080/",
          "height": 564
        },
        "id": "i2gqNJYUYC4F",
        "outputId": "6960dc09-8268-4588-ecd8-0d8d85b88a75"
      },
      "execution_count": null,
      "outputs": [
        {
          "output_type": "display_data",
          "data": {
            "text/plain": [
              "<Figure size 800x600 with 1 Axes>"
            ],
            "image/png": "[encoded data removed]"
          },
          "metadata": {}
        }
      ]
    },
    {
      "cell_type": "code",
      "source": [
        "from sklearn.ensemble import AdaBoostClassifier\n",
        "from sklearn.metrics import accuracy_score, precision_score, recall_score, f1_score\n",
        "\n",
        "# Define hyperparameters for AdaBoost\n",
        "adaboost_params = {\n",
        "    'n_estimators': 200,  # Number of weak learners\n",
        "    'learning_rate': 0.5  # Weighting of weak learners\n",
        "}\n",
        "\n",
        "# Create AdaBoostClassifier with specified hyperparameters\n",
        "adaboost_classifier = AdaBoostClassifier(**adaboost_params, random_state=42)\n",
        "\n",
        "# Fit the model to the training data\n",
        "adaboost_classifier.fit(X_train, y_train)\n",
        "\n",
        "# Predictions on the test set using the trained AdaBoost model\n",
        "adaboost_test_predictions = adaboost_classifier.predict(X_test)\n",
        "\n",
        "# Calculate evaluation metrics for AdaBoost\n",
        "adaboost_accuracy = accuracy_score(y_test, adaboost_test_predictions)\n",
        "adaboost_precision = precision_score(y_test, adaboost_test_predictions, average='weighted')\n",
        "adaboost_recall = recall_score(y_test, adaboost_test_predictions, average='weighted')\n",
        "adaboost_f1 = f1_score(y_test, adaboost_test_predictions, average='weighted')\n",
        "\n",
        "# Print metrics for AdaBoost\n",
        "print(\"Accuracy:\", adaboost_accuracy)\n",
        "print(\"Precision:\", adaboost_precision)\n",
        "print(\"Recall:\", adaboost_recall)\n",
        "print(\"F1-score:\", adaboost_f1)"
      ],
      "metadata": {
        "id": "RlfQErtp9-uT",
        "colab": {
          "base_uri": "https://localhost:8080/"
        },
        "outputId": "93a1ce15-199a-44b4-a215-e9738f84e4cf"
      },
      "execution_count": null,
      "outputs": [
        {
          "output_type": "stream",
          "name": "stdout",
          "text": [
            "Accuracy: 0.4005784526391902\n",
            "Precision: 0.4038781856711347\n",
            "Recall: 0.4005784526391902\n",
            "F1-score: 0.4022177004829958\n"
          ]
        }
      ]
    },
    {
      "cell_type": "code",
      "source": [
        "# Compute the confusion matrix for the test set\n",
        "cm_test = confusion_matrix(y_test, adaboost_test_predictions)\n",
        "\n",
        "# Plot the confusion matrix for the test set\n",
        "plt.figure(figsize=(8, 6))\n",
        "sns.heatmap(cm_test, annot=True, fmt=\"d\", cmap=\"Blues\", cbar=False)\n",
        "plt.xlabel(\"Predicted Label\")\n",
        "plt.ylabel(\"True Label\")\n",
        "plt.title(\"Confusion Matrix for Adaboost (Test Set)\")\n",
        "plt.show()"
      ],
      "metadata": {
        "colab": {
          "base_uri": "https://localhost:8080/",
          "height": 564
        },
        "id": "wi858KlLXvcT",
        "outputId": "e94f6f8d-a8f4-4b5e-d09d-53218a3d1b9f"
      },
      "execution_count": null,
      "outputs": [
        {
          "output_type": "display_data",
          "data": {
            "text/plain": [
              "<Figure size 800x600 with 1 Axes>"
            ],
            "image/png": "[encoded data removed]"
          },
          "metadata": {}
        }
      ]
    },
    {
      "cell_type": "code",
      "source": [
        "import joblib\n",
        "\n",
        "# Specify the full path including the filename and .joblib extension\n",
        "model_path = '/content/drive/MyDrive/GP-Trail/AdaboostWithHayperParameter.joblib'\n",
        "\n",
        "# Save your model\n",
        "joblib.dump(adaboost_classifier, model_path)"
      ],
      "metadata": {
        "id": "t-uMLEJ27ZSj",
        "colab": {
          "base_uri": "https://localhost:8080/"
        },
        "outputId": "1a0737fb-f361-4a53-b2bc-8bb79c343c07"
      },
      "execution_count": null,
      "outputs": [
        {
          "output_type": "execute_result",
          "data": {
            "text/plain": [
              "['/content/drive/MyDrive/GP-Trail/AdaboostWithHayperParameter.joblib']"
            ]
          },
          "metadata": {},
          "execution_count": 13
        }
      ]
    },
    {
      "cell_type": "markdown",
      "source": [
        "### With DT"
      ],
      "metadata": {
        "id": "l5U52UAf7iqU"
      }
    },
    {
      "cell_type": "code",
      "source": [
        "from lightgbm import LGBMClassifier\n",
        "from sklearn.metrics import accuracy_score, precision_score, recall_score, f1_score\n",
        "\n",
        "# Define hyperparameters for AdaBoost\n",
        "adaboost_params = {\n",
        "    'n_estimators': 200,  # Number of weak learners\n",
        "    'learning_rate': 1.0  # Weighting of weak learners\n",
        "}\n",
        "\n",
        "adaboost_model=select_features_with_decision_tree(AdaBoostClassifier(**adaboost_params, random_state=42),X_train, y_train,X_test , y_test)"
      ],
      "metadata": {
        "colab": {
          "base_uri": "https://localhost:8080/",
          "height": 1000
        },
        "id": "nFDPHBq27kxT",
        "outputId": "090e5c9e-164d-4fff-e2ea-8d000f02e606"
      },
      "execution_count": null,
      "outputs": [
        {
          "output_type": "stream",
          "name": "stdout",
          "text": [
            "[[-3.92122071 -4.19766329 -4.14916175 -4.19766329]\n",
            " [-3.92122071 -4.19766329 -4.14916175 -4.19766329]\n",
            " [-3.92122071  0.18658284  0.1705135   0.18658284]\n",
            " ...\n",
            " [-0.17531763 -0.12309218 -0.08673444 -0.15129016]\n",
            " [-0.17531763 -0.12309218 -0.08673444 -0.15129016]\n",
            " [-0.17531763  8.73954447 -0.08673444 -0.15129016]]\n",
            "[[-1.47669020e-01 -3.20702906e-13 -1.20165967e-01 -8.46864627e-02]\n",
            " [-1.47669020e-01 -3.20702906e-13 -1.20165967e-01 -8.46864627e-02]\n",
            " [-1.47669020e-01 -3.20702906e-13 -1.20165967e-01 -8.46864627e-02]\n",
            " ...\n",
            " [-8.61341994e-02 -1.22234380e-01 -1.95253142e-01 -1.50228465e-01]\n",
            " [-8.61341994e-02 -1.22234380e-01 -1.95253142e-01 -1.50228465e-01]\n",
            " [-8.61341994e-02 -1.22234380e-01 -1.95253142e-01 -1.50228465e-01]]\n",
            "-------------------------\n",
            "Selected Features:\n",
            "Feature 8217\n",
            "Feature 20790\n",
            "Feature 32934\n",
            "Feature 34749\n",
            "Accuracy: 0.3767172812725958\n",
            "Recall: 0.3767172812725958\n",
            "Precision: 0.4505986395547928\n",
            "F1-score: 0.3985541399996954\n",
            "Classification Report (Test):\n",
            "               precision    recall  f1-score   support\n",
            "\n",
            "           0       0.20      0.33      0.25       435\n",
            "           1       0.56      0.40      0.47       948\n",
            "\n",
            "    accuracy                           0.38      1383\n",
            "   macro avg       0.38      0.36      0.36      1383\n",
            "weighted avg       0.45      0.38      0.40      1383\n",
            "\n"
          ]
        },
        {
          "output_type": "display_data",
          "data": {
            "text/plain": [
              "<Figure size 800x600 with 1 Axes>"
            ],
            "image/png": "[encoded data removed]"
          },
          "metadata": {}
        }
      ]
    },
    {
      "cell_type": "code",
      "source": [
        "import joblib\n",
        "\n",
        "# Specify the full path including the filename and .joblib extension\n",
        "model_path = '/content/drive/MyDrive/GP-Trail/AdaboostWithHayperParameter_DT.joblib'\n",
        "\n",
        "# Save your model\n",
        "joblib.dump(adaboost_model, model_path)"
      ],
      "metadata": {
        "colab": {
          "base_uri": "https://localhost:8080/"
        },
        "id": "ir3vZr2084UT",
        "outputId": "32aaa4ce-41b7-47f3-99b4-d9990661bc09"
      },
      "execution_count": null,
      "outputs": [
        {
          "output_type": "execute_result",
          "data": {
            "text/plain": [
              "['/content/drive/MyDrive/GP-Trail/AdaboostWithHayperParameter_DT.joblib']"
            ]
          },
          "metadata": {},
          "execution_count": 40
        }
      ]
    }
  ]
}