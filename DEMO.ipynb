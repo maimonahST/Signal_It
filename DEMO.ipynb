{
  "nbformat": 4,
  "nbformat_minor": 0,
  "metadata": {
    "colab": {
      "provenance": [],
      "machine_shape": "hm",
      "gpuType": "T4",
      "mount_file_id": "1y0c6vvxf7m5HOqXqo44QGV4o2uD9xzvK",
      "authorship_tag": "ABX9TyP3LuGfZT48VcGlbfK2Ihi1",
      "include_colab_link": true
    },
    "kernelspec": {
      "name": "python3",
      "display_name": "Python 3"
    },
    "language_info": {
      "name": "python"
    },
    "accelerator": "GPU"
  },
  "cells": [
    {
      "cell_type": "markdown",
      "metadata": {
        "id": "view-in-github",
        "colab_type": "text"
      },
      "source": [
        "<a href=\"https://colab.research.google.com/github/maimonahST/Signal_It/blob/main/DEMO.ipynb\" target=\"_parent\"><img src=\"https://colab.research.google.com/assets/colab-badge.svg\" alt=\"Open In Colab\"/></a>"
      ]
    },
    {
      "cell_type": "markdown",
      "source": [
        "## Define Functions"
      ],
      "metadata": {
        "id": "qPnwwFkJbUub"
      }
    },
    {
      "cell_type": "code",
      "source": [
        "! pip install mne"
      ],
      "metadata": {
        "colab": {
          "base_uri": "https://localhost:8080/"
        },
        "id": "hy20CS8wJahZ",
        "outputId": "75aac25c-1854-4b84-f580-e01c47a73309"
      },
      "execution_count": 1,
      "outputs": [
        {
          "output_type": "stream",
          "name": "stdout",
          "text": [
            "Collecting mne\n",
            "  Downloading mne-1.7.0-py3-none-any.whl (7.4 MB)\n",
            "\u001b[2K     \u001b[90m━━━━━━━━━━━━━━━━━━━━━━━━━━━━━━━━━━━━━━━━\u001b[0m \u001b[32m7.4/7.4 MB\u001b[0m \u001b[31m53.3 MB/s\u001b[0m eta \u001b[36m0:00:00\u001b[0m\n",
            "\u001b[?25hRequirement already satisfied: decorator in /usr/local/lib/python3.10/dist-packages (from mne) (4.4.2)\n",
            "Requirement already satisfied: jinja2 in /usr/local/lib/python3.10/dist-packages (from mne) (3.1.4)\n",
            "Requirement already satisfied: lazy-loader>=0.3 in /usr/local/lib/python3.10/dist-packages (from mne) (0.4)\n",
            "Requirement already satisfied: matplotlib>=3.5.0 in /usr/local/lib/python3.10/dist-packages (from mne) (3.7.1)\n",
            "Requirement already satisfied: numpy>=1.21.2 in /usr/local/lib/python3.10/dist-packages (from mne) (1.25.2)\n",
            "Requirement already satisfied: packaging in /usr/local/lib/python3.10/dist-packages (from mne) (24.0)\n",
            "Requirement already satisfied: pooch>=1.5 in /usr/local/lib/python3.10/dist-packages (from mne) (1.8.1)\n",
            "Requirement already satisfied: scipy>=1.7.1 in /usr/local/lib/python3.10/dist-packages (from mne) (1.11.4)\n",
            "Requirement already satisfied: tqdm in /usr/local/lib/python3.10/dist-packages (from mne) (4.66.4)\n",
            "Requirement already satisfied: contourpy>=1.0.1 in /usr/local/lib/python3.10/dist-packages (from matplotlib>=3.5.0->mne) (1.2.1)\n",
            "Requirement already satisfied: cycler>=0.10 in /usr/local/lib/python3.10/dist-packages (from matplotlib>=3.5.0->mne) (0.12.1)\n",
            "Requirement already satisfied: fonttools>=4.22.0 in /usr/local/lib/python3.10/dist-packages (from matplotlib>=3.5.0->mne) (4.51.0)\n",
            "Requirement already satisfied: kiwisolver>=1.0.1 in /usr/local/lib/python3.10/dist-packages (from matplotlib>=3.5.0->mne) (1.4.5)\n",
            "Requirement already satisfied: pillow>=6.2.0 in /usr/local/lib/python3.10/dist-packages (from matplotlib>=3.5.0->mne) (9.4.0)\n",
            "Requirement already satisfied: pyparsing>=2.3.1 in /usr/local/lib/python3.10/dist-packages (from matplotlib>=3.5.0->mne) (3.1.2)\n",
            "Requirement already satisfied: python-dateutil>=2.7 in /usr/local/lib/python3.10/dist-packages (from matplotlib>=3.5.0->mne) (2.8.2)\n",
            "Requirement already satisfied: platformdirs>=2.5.0 in /usr/local/lib/python3.10/dist-packages (from pooch>=1.5->mne) (4.2.1)\n",
            "Requirement already satisfied: requests>=2.19.0 in /usr/local/lib/python3.10/dist-packages (from pooch>=1.5->mne) (2.31.0)\n",
            "Requirement already satisfied: MarkupSafe>=2.0 in /usr/local/lib/python3.10/dist-packages (from jinja2->mne) (2.1.5)\n",
            "Requirement already satisfied: six>=1.5 in /usr/local/lib/python3.10/dist-packages (from python-dateutil>=2.7->matplotlib>=3.5.0->mne) (1.16.0)\n",
            "Requirement already satisfied: charset-normalizer<4,>=2 in /usr/local/lib/python3.10/dist-packages (from requests>=2.19.0->pooch>=1.5->mne) (3.3.2)\n",
            "Requirement already satisfied: idna<4,>=2.5 in /usr/local/lib/python3.10/dist-packages (from requests>=2.19.0->pooch>=1.5->mne) (3.7)\n",
            "Requirement already satisfied: urllib3<3,>=1.21.1 in /usr/local/lib/python3.10/dist-packages (from requests>=2.19.0->pooch>=1.5->mne) (2.0.7)\n",
            "Requirement already satisfied: certifi>=2017.4.17 in /usr/local/lib/python3.10/dist-packages (from requests>=2.19.0->pooch>=1.5->mne) (2024.2.2)\n",
            "Installing collected packages: mne\n",
            "Successfully installed mne-1.7.0\n"
          ]
        }
      ]
    },
    {
      "cell_type": "code",
      "source": [
        "! pip install PyDrive2"
      ],
      "metadata": {
        "colab": {
          "base_uri": "https://localhost:8080/"
        },
        "id": "CfXgeCu-h_7d",
        "outputId": "76faf36b-6479-4f11-ca3d-10a38963e8b7"
      },
      "execution_count": 22,
      "outputs": [
        {
          "output_type": "stream",
          "name": "stdout",
          "text": [
            "Requirement already satisfied: PyDrive2 in /usr/local/lib/python3.10/dist-packages (1.19.0)\n",
            "Requirement already satisfied: google-api-python-client>=1.12.5 in /usr/local/lib/python3.10/dist-packages (from PyDrive2) (2.84.0)\n",
            "Requirement already satisfied: oauth2client>=4.0.0 in /usr/local/lib/python3.10/dist-packages (from PyDrive2) (4.1.3)\n",
            "Requirement already satisfied: PyYAML>=3.0 in /usr/local/lib/python3.10/dist-packages (from PyDrive2) (6.0.1)\n",
            "Requirement already satisfied: pyOpenSSL>=19.1.0 in /usr/local/lib/python3.10/dist-packages (from PyDrive2) (24.1.0)\n",
            "Requirement already satisfied: httplib2<1dev,>=0.15.0 in /usr/local/lib/python3.10/dist-packages (from google-api-python-client>=1.12.5->PyDrive2) (0.22.0)\n",
            "Requirement already satisfied: google-auth<3.0.0dev,>=1.19.0 in /usr/local/lib/python3.10/dist-packages (from google-api-python-client>=1.12.5->PyDrive2) (2.27.0)\n",
            "Requirement already satisfied: google-auth-httplib2>=0.1.0 in /usr/local/lib/python3.10/dist-packages (from google-api-python-client>=1.12.5->PyDrive2) (0.1.1)\n",
            "Requirement already satisfied: google-api-core!=2.0.*,!=2.1.*,!=2.2.*,!=2.3.0,<3.0.0dev,>=1.31.5 in /usr/local/lib/python3.10/dist-packages (from google-api-python-client>=1.12.5->PyDrive2) (2.11.1)\n",
            "Requirement already satisfied: uritemplate<5,>=3.0.1 in /usr/local/lib/python3.10/dist-packages (from google-api-python-client>=1.12.5->PyDrive2) (4.1.1)\n",
            "Requirement already satisfied: pyasn1>=0.1.7 in /usr/local/lib/python3.10/dist-packages (from oauth2client>=4.0.0->PyDrive2) (0.6.0)\n",
            "Requirement already satisfied: pyasn1-modules>=0.0.5 in /usr/local/lib/python3.10/dist-packages (from oauth2client>=4.0.0->PyDrive2) (0.4.0)\n",
            "Requirement already satisfied: rsa>=3.1.4 in /usr/local/lib/python3.10/dist-packages (from oauth2client>=4.0.0->PyDrive2) (4.9)\n",
            "Requirement already satisfied: six>=1.6.1 in /usr/local/lib/python3.10/dist-packages (from oauth2client>=4.0.0->PyDrive2) (1.16.0)\n",
            "Requirement already satisfied: cryptography<43,>=41.0.5 in /usr/local/lib/python3.10/dist-packages (from pyOpenSSL>=19.1.0->PyDrive2) (42.0.7)\n",
            "Requirement already satisfied: cffi>=1.12 in /usr/local/lib/python3.10/dist-packages (from cryptography<43,>=41.0.5->pyOpenSSL>=19.1.0->PyDrive2) (1.16.0)\n",
            "Requirement already satisfied: googleapis-common-protos<2.0.dev0,>=1.56.2 in /usr/local/lib/python3.10/dist-packages (from google-api-core!=2.0.*,!=2.1.*,!=2.2.*,!=2.3.0,<3.0.0dev,>=1.31.5->google-api-python-client>=1.12.5->PyDrive2) (1.63.0)\n",
            "Requirement already satisfied: protobuf!=3.20.0,!=3.20.1,!=4.21.0,!=4.21.1,!=4.21.2,!=4.21.3,!=4.21.4,!=4.21.5,<5.0.0.dev0,>=3.19.5 in /usr/local/lib/python3.10/dist-packages (from google-api-core!=2.0.*,!=2.1.*,!=2.2.*,!=2.3.0,<3.0.0dev,>=1.31.5->google-api-python-client>=1.12.5->PyDrive2) (3.20.3)\n",
            "Requirement already satisfied: requests<3.0.0.dev0,>=2.18.0 in /usr/local/lib/python3.10/dist-packages (from google-api-core!=2.0.*,!=2.1.*,!=2.2.*,!=2.3.0,<3.0.0dev,>=1.31.5->google-api-python-client>=1.12.5->PyDrive2) (2.31.0)\n",
            "Requirement already satisfied: cachetools<6.0,>=2.0.0 in /usr/local/lib/python3.10/dist-packages (from google-auth<3.0.0dev,>=1.19.0->google-api-python-client>=1.12.5->PyDrive2) (5.3.3)\n",
            "Requirement already satisfied: pyparsing!=3.0.0,!=3.0.1,!=3.0.2,!=3.0.3,<4,>=2.4.2 in /usr/local/lib/python3.10/dist-packages (from httplib2<1dev,>=0.15.0->google-api-python-client>=1.12.5->PyDrive2) (3.1.2)\n",
            "Requirement already satisfied: pycparser in /usr/local/lib/python3.10/dist-packages (from cffi>=1.12->cryptography<43,>=41.0.5->pyOpenSSL>=19.1.0->PyDrive2) (2.22)\n",
            "Requirement already satisfied: charset-normalizer<4,>=2 in /usr/local/lib/python3.10/dist-packages (from requests<3.0.0.dev0,>=2.18.0->google-api-core!=2.0.*,!=2.1.*,!=2.2.*,!=2.3.0,<3.0.0dev,>=1.31.5->google-api-python-client>=1.12.5->PyDrive2) (3.3.2)\n",
            "Requirement already satisfied: idna<4,>=2.5 in /usr/local/lib/python3.10/dist-packages (from requests<3.0.0.dev0,>=2.18.0->google-api-core!=2.0.*,!=2.1.*,!=2.2.*,!=2.3.0,<3.0.0dev,>=1.31.5->google-api-python-client>=1.12.5->PyDrive2) (3.7)\n",
            "Requirement already satisfied: urllib3<3,>=1.21.1 in /usr/local/lib/python3.10/dist-packages (from requests<3.0.0.dev0,>=2.18.0->google-api-core!=2.0.*,!=2.1.*,!=2.2.*,!=2.3.0,<3.0.0dev,>=1.31.5->google-api-python-client>=1.12.5->PyDrive2) (2.0.7)\n",
            "Requirement already satisfied: certifi>=2017.4.17 in /usr/local/lib/python3.10/dist-packages (from requests<3.0.0.dev0,>=2.18.0->google-api-core!=2.0.*,!=2.1.*,!=2.2.*,!=2.3.0,<3.0.0dev,>=1.31.5->google-api-python-client>=1.12.5->PyDrive2) (2024.2.2)\n"
          ]
        }
      ]
    },
    {
      "cell_type": "code",
      "execution_count": 42,
      "metadata": {
        "id": "-9dskWTOHPm7"
      },
      "outputs": [],
      "source": [
        "import numpy as np\n",
        "from keras.models import load_model\n",
        "import joblib\n",
        "import mne\n",
        "from google.colab import drive\n",
        "from google.colab import files\n",
        "import os\n",
        "\n",
        "def Compute_ICA(file_path):\n",
        "   # Set the verbosity level to \"ERROR\" to suppress most messages\n",
        "    mne.set_log_level('ERROR')\n",
        "\n",
        "    # Read the raw file\n",
        "    raw = mne.io.read_raw_bdf(file_path, preload=True)\n",
        "\n",
        "    # Apply ICA to remove artifacts\n",
        "    ica = mne.preprocessing.ICA(n_components=32, random_state=42)\n",
        "    raw.resample(250)\n",
        "    raw.filter(5, 25)\n",
        "    ica.fit(raw)\n",
        "\n",
        "    # Extract features (you may need to customize this step based on your specific needs)\n",
        "    features = ica.get_components()\n",
        "\n",
        "    # flatten\n",
        "    features = features.reshape(1, -1)\n",
        "\n",
        "    # print(features.shape)\n",
        "\n",
        "    return features\n",
        "\n",
        "\n",
        "def Diagnose(test_sample):\n",
        "\n",
        "  # File paths\n",
        "  model_paths = [\n",
        "      '/content/drive/MyDrive/GP/ICA/Adaboost_ica.pkl',\n",
        "      '/content/drive/MyDrive/GP/ICA/BernoulliNB_ica.pkl',\n",
        "      '/content/drive/MyDrive/GP/ICA/RF_ica.pkl',\n",
        "      '/content/drive/MyDrive/GP/ICA/XGBoost_ica.pkl',\n",
        "      '/content/drive/MyDrive/GP/ICA/gaussianNB_ica.pkl',\n",
        "      '/content/drive/MyDrive/GP/ICA/knn_ica.pkl',\n",
        "      '/content/drive/MyDrive/GP/ICA/dt_ica.pkl'\n",
        "  ]\n",
        "\n",
        "  # Load pre-trained models\n",
        "  models = []\n",
        "  for path in model_paths:\n",
        "      try:\n",
        "          model = joblib.load(path)\n",
        "          models.append(model)\n",
        "      except Exception as e:\n",
        "          print(f\"Failed to load model from {path}: {e}\")\n",
        "\n",
        "\n",
        "  # Average the predictions\n",
        "  avg_preds = np.mean([model.predict(test_sample) for model in models], axis=0)\n",
        "\n",
        "  # Calculate final prediction and accuracy\n",
        "  final_pred = (avg_preds > 0.5).astype(int)  # Assuming binary classification\n",
        "  accuracy = np.mean(avg_preds)  # Average confidence for the positive class\n",
        "\n",
        "  diagnosis = \"Healthy\" if final_pred == 0 else \"Stroke\"\n",
        "  accuracy = round(accuracy * 100, 2)  # Convert to percentage and round\n",
        "\n",
        "  # Adjust accuracy for \"Healthy\" diagnosis\n",
        "  if diagnosis == \"Healthy\":\n",
        "      accuracy = 100 - accuracy\n",
        "\n",
        "  return diagnosis, accuracy\n",
        "\n",
        "\n",
        "# # Function to select file from Google Drive\n",
        "def select_file():\n",
        "    uploaded = files.upload()\n",
        "\n",
        "    for fn in uploaded.keys():\n",
        "        print('User selected file \"{name}\" with length {length} bytes'.format(name=fn, length=len(uploaded[fn])))\n",
        "    return list(uploaded.keys())[0]\n",
        "\n",
        "\n",
        "def select_file_from_drive_folder():\n",
        "\n",
        "    folder_path = '/content/drive/MyDrive/GP/GP-Data/Ischaemia'\n",
        "\n",
        "    # Mount Google Drive\n",
        "    drive.mount('/content/drive')\n",
        "\n",
        "    # List files in the specified folder\n",
        "    folder_files = os.listdir(folder_path)\n",
        "    for i, file in enumerate(folder_files):\n",
        "        print(f'{i + 1}: {file}')\n",
        "\n",
        "    # Select a file from the list\n",
        "    index = int(input(\"Enter the file number you want to select: \")) - 1\n",
        "    print(\"*************************************************\")\n",
        "    if 0 <= index < len(folder_files):\n",
        "        selected_file_name = folder_files[index]\n",
        "        final_path = os.path.join(folder_path, selected_file_name)\n",
        "        return final_path\n",
        "    else:\n",
        "        print(\"Invalid selection.\")\n",
        "        return None\n"
      ]
    },
    {
      "cell_type": "markdown",
      "source": [
        "# Demo"
      ],
      "metadata": {
        "id": "DbQMRw_3bbzH"
      }
    },
    {
      "cell_type": "code",
      "source": [
        "# Select file (Stroke)\n",
        "file_path = select_file_from_drive_folder()\n",
        "\n",
        "# Preprocess raw input\n",
        "test_sample = Compute_ICA(file_path)\n",
        "\n",
        "# Diagnose the file\n",
        "diagnosis, accuracy = Diagnose(test_sample)\n",
        "\n",
        "print(\"************* Diagnose Result : ***************\")\n",
        "print(f\"diagnosis is : {diagnosis}\")\n",
        "print(f\"accuracy is : {accuracy}%\")\n",
        "print(\"***********************************************\")"
      ],
      "metadata": {
        "colab": {
          "base_uri": "https://localhost:8080/"
        },
        "id": "dAwzRKY3Jytb",
        "outputId": "ba9b60b8-7bef-41b8-afe4-ba55905a7e90"
      },
      "execution_count": 44,
      "outputs": [
        {
          "output_type": "stream",
          "name": "stdout",
          "text": [
            "Drive already mounted at /content/drive; to attempt to forcibly remount, call drive.mount(\"/content/drive\", force_remount=True).\n",
            "1: P1_TD1.bdf\n",
            "2: P4a_TD1.bdf\n",
            "3: P4b_TD1.bdf\n",
            "4: P9_TD1.bdf\n",
            "5: P12a_TD2.bdf\n",
            "6: P12b_TD1.bdf\n",
            "7: P15_TD1.bdf\n",
            "8: P16_TD1.bdf\n",
            "9: P19a_TD1.bdf\n",
            "10: P18_TD1.bdf\n",
            "11: P19b_TD1.bdf\n",
            "12: P25a_TD1.bdf\n",
            "13: P25b_TD1.bdf\n",
            "14: P26_TD1.bdf\n",
            "Enter the file number you want to select: 1\n",
            "*************************************************\n",
            "************* Diagnose Result : ***************\n",
            "diagnosis is : Stroke\n",
            "accuracy is : 85.71%\n",
            "***********************************************\n"
          ]
        }
      ]
    },
    {
      "cell_type": "code",
      "source": [],
      "metadata": {
        "id": "mPi8V_U2KH8H"
      },
      "execution_count": null,
      "outputs": []
    }
  ]
}