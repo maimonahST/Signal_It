{
  "cells": [
    {
      "cell_type": "markdown",
      "metadata": {
        "id": "view-in-github",
        "colab_type": "text"
      },
      "source": [
        "<a href=\"https://colab.research.google.com/github/maimonahST/GP/blob/main/Final%20Version/ICA.ipynb\" target=\"_parent\"><img src=\"https://colab.research.google.com/assets/colab-badge.svg\" alt=\"Open In Colab\"/></a>"
      ]
    },
    {
      "cell_type": "markdown",
      "metadata": {
        "id": "J22xSyfXRcIP"
      },
      "source": [
        "## Pip"
      ]
    },
    {
      "cell_type": "code",
      "execution_count": null,
      "metadata": {
        "colab": {
          "base_uri": "https://localhost:8080/"
        },
        "id": "h2ZSlaYK8Y9o",
        "outputId": "b41a2c58-b0c0-4a3a-827d-7255704a2890"
      },
      "outputs": [
        {
          "name": "stdout",
          "output_type": "stream",
          "text": [
            "Collecting mne\n",
            "  Downloading mne-1.7.0-py3-none-any.whl (7.4 MB)\n",
            "\u001b[2K     \u001b[90m━━━━━━━━━━━━━━━━━━━━━━━━━━━━━━━━━━━━━━━━\u001b[0m \u001b[32m7.4/7.4 MB\u001b[0m \u001b[31m10.5 MB/s\u001b[0m eta \u001b[36m0:00:00\u001b[0m\n",
            "\u001b[?25hRequirement already satisfied: decorator in /usr/local/lib/python3.10/dist-packages (from mne) (4.4.2)\n",
            "Requirement already satisfied: jinja2 in /usr/local/lib/python3.10/dist-packages (from mne) (3.1.3)\n",
            "Requirement already satisfied: lazy-loader>=0.3 in /usr/local/lib/python3.10/dist-packages (from mne) (0.4)\n",
            "Requirement already satisfied: matplotlib>=3.5.0 in /usr/local/lib/python3.10/dist-packages (from mne) (3.7.1)\n",
            "Requirement already satisfied: numpy>=1.21.2 in /usr/local/lib/python3.10/dist-packages (from mne) (1.25.2)\n",
            "Requirement already satisfied: packaging in /usr/local/lib/python3.10/dist-packages (from mne) (24.0)\n",
            "Requirement already satisfied: pooch>=1.5 in /usr/local/lib/python3.10/dist-packages (from mne) (1.8.1)\n",
            "Requirement already satisfied: scipy>=1.7.1 in /usr/local/lib/python3.10/dist-packages (from mne) (1.11.4)\n",
            "Requirement already satisfied: tqdm in /usr/local/lib/python3.10/dist-packages (from mne) (4.66.2)\n",
            "Requirement already satisfied: contourpy>=1.0.1 in /usr/local/lib/python3.10/dist-packages (from matplotlib>=3.5.0->mne) (1.2.1)\n",
            "Requirement already satisfied: cycler>=0.10 in /usr/local/lib/python3.10/dist-packages (from matplotlib>=3.5.0->mne) (0.12.1)\n",
            "Requirement already satisfied: fonttools>=4.22.0 in /usr/local/lib/python3.10/dist-packages (from matplotlib>=3.5.0->mne) (4.51.0)\n",
            "Requirement already satisfied: kiwisolver>=1.0.1 in /usr/local/lib/python3.10/dist-packages (from matplotlib>=3.5.0->mne) (1.4.5)\n",
            "Requirement already satisfied: pillow>=6.2.0 in /usr/local/lib/python3.10/dist-packages (from matplotlib>=3.5.0->mne) (9.4.0)\n",
            "Requirement already satisfied: pyparsing>=2.3.1 in /usr/local/lib/python3.10/dist-packages (from matplotlib>=3.5.0->mne) (3.1.2)\n",
            "Requirement already satisfied: python-dateutil>=2.7 in /usr/local/lib/python3.10/dist-packages (from matplotlib>=3.5.0->mne) (2.8.2)\n",
            "Requirement already satisfied: platformdirs>=2.5.0 in /usr/local/lib/python3.10/dist-packages (from pooch>=1.5->mne) (4.2.0)\n",
            "Requirement already satisfied: requests>=2.19.0 in /usr/local/lib/python3.10/dist-packages (from pooch>=1.5->mne) (2.31.0)\n",
            "Requirement already satisfied: MarkupSafe>=2.0 in /usr/local/lib/python3.10/dist-packages (from jinja2->mne) (2.1.5)\n",
            "Requirement already satisfied: six>=1.5 in /usr/local/lib/python3.10/dist-packages (from python-dateutil>=2.7->matplotlib>=3.5.0->mne) (1.16.0)\n",
            "Requirement already satisfied: charset-normalizer<4,>=2 in /usr/local/lib/python3.10/dist-packages (from requests>=2.19.0->pooch>=1.5->mne) (3.3.2)\n",
            "Requirement already satisfied: idna<4,>=2.5 in /usr/local/lib/python3.10/dist-packages (from requests>=2.19.0->pooch>=1.5->mne) (3.7)\n",
            "Requirement already satisfied: urllib3<3,>=1.21.1 in /usr/local/lib/python3.10/dist-packages (from requests>=2.19.0->pooch>=1.5->mne) (2.0.7)\n",
            "Requirement already satisfied: certifi>=2017.4.17 in /usr/local/lib/python3.10/dist-packages (from requests>=2.19.0->pooch>=1.5->mne) (2024.2.2)\n",
            "Installing collected packages: mne\n",
            "Successfully installed mne-1.7.0\n"
          ]
        }
      ],
      "source": [
        "! pip install mne"
      ]
    },
    {
      "cell_type": "code",
      "execution_count": null,
      "metadata": {
        "colab": {
          "base_uri": "https://localhost:8080/"
        },
        "id": "_NPMEOMFRulw",
        "outputId": "37e6c11c-842b-48f1-b6c9-11588a3b0c1e"
      },
      "outputs": [
        {
          "name": "stdout",
          "output_type": "stream",
          "text": [
            "Drive already mounted at /content/drive; to attempt to forcibly remount, call drive.mount(\"/content/drive\", force_remount=True).\n"
          ]
        }
      ],
      "source": [
        "from google.colab import drive\n",
        "drive.mount('/content/drive')"
      ]
    },
    {
      "cell_type": "markdown",
      "metadata": {
        "id": "_MYdgGUQRf6H"
      },
      "source": [
        "# Preprocessing"
      ]
    },
    {
      "cell_type": "code",
      "execution_count": null,
      "metadata": {
        "colab": {
          "base_uri": "https://localhost:8080/"
        },
        "id": "bhlLeKFereYX",
        "outputId": "fef745f8-5482-493f-a19f-7afff5f5be34"
      },
      "outputs": [
        {
          "name": "stderr",
          "output_type": "stream",
          "text": [
            "\rProcessing 0 data:   0%|          | 0/1 [00:00<?, ?it/s]"
          ]
        },
        {
          "name": "stdout",
          "output_type": "stream",
          "text": [
            "Extracting EDF parameters from /content/drive/MyDrive/GP/GP-Data/Haemorrhage/P2_TD1.bdf...\n",
            "BDF file detected\n",
            "Setting channel info structure...\n",
            "Creating raw.info structure...\n",
            "Reading 0 ... 12238847  =      0.000 ...   747.000 secs...\n",
            "Trigger channel Status has a non-zero initial value of {initial_value} (consider using initial_event=True to detect this event)\n",
            "22491 events found on stim channel Status\n",
            "Event IDs: [65284 65288 65296 65297 65301 65304 65305 65309 65311 65312 65313 65328\n",
            " 65329 65336]\n"
          ]
        },
        {
          "name": "stderr",
          "output_type": "stream",
          "text": [
            "<ipython-input-25-ceac70ad00ab>:16: RuntimeWarning: Fiducial point nasion not found, assuming identity unknown to head transformation\n",
            "  raw.set_montage(custom_montage)\n"
          ]
        },
        {
          "name": "stdout",
          "output_type": "stream",
          "text": [
            "Trigger channel Status has a non-zero initial value of {initial_value} (consider using initial_event=True to detect this event)\n",
            "2889 events found on stim channel Status\n",
            "Event IDs: [65296 65297 65305 65312 65313 65328 65329]\n",
            "Not setting metadata\n",
            "152 matching events found\n",
            "No baseline correction applied\n",
            "0 projection items activated\n",
            "Using data from preloaded Raw for 152 events and 1251 original time points ...\n",
            "0 bad epochs dropped\n",
            "Fitting ICA to data using 32 channels (please be patient, this may take a while)\n"
          ]
        },
        {
          "name": "stderr",
          "output_type": "stream",
          "text": [
            "<ipython-input-25-ceac70ad00ab>:29: RuntimeWarning: The data has not been high-pass filtered. For good ICA performance, it should be high-pass filtered (e.g., with a 1.0 Hz lower bound) before fitting ICA.\n",
            "  ica.fit(epochs)\n"
          ]
        },
        {
          "name": "stdout",
          "output_type": "stream",
          "text": [
            "Selecting by number: 32 components\n",
            "Fitting ICA took 23.2s.\n",
            "Applying ICA to Epochs instance\n",
            "    Transforming to ICA space (32 components)\n",
            "    Zeroing out 0 ICA components\n",
            "    Projecting back using 32 PCA components\n"
          ]
        },
        {
          "name": "stderr",
          "output_type": "stream",
          "text": [
            "<ipython-input-25-ceac70ad00ab>:30: FutureWarning: The current default of copy=False will change to copy=True in 1.7. Set the value of copy explicitly to avoid this warning\n",
            "  features = ica.apply(epochs.copy()).get_data()\n",
            "Processing 0 data: 100%|██████████| 1/1 [01:07<00:00, 67.92s/it]\n",
            "Processing 0 data:   0%|          | 0/1 [00:00<?, ?it/s]"
          ]
        },
        {
          "name": "stdout",
          "output_type": "stream",
          "text": [
            "Extracting EDF parameters from /content/drive/MyDrive/GP/GP-Data/Haemorrhage/P3_TD1.bdf...\n",
            "BDF file detected\n",
            "Setting channel info structure...\n",
            "Creating raw.info structure...\n",
            "Reading 0 ... 11649023  =      0.000 ...   711.000 secs...\n",
            "Trigger channel Status has a non-zero initial value of {initial_value} (consider using initial_event=True to detect this event)\n",
            "22496 events found on stim channel Status\n",
            "Event IDs: [65281 65284 65296 65297 65301 65304 65305 65309 65311]\n"
          ]
        },
        {
          "name": "stderr",
          "output_type": "stream",
          "text": [
            "<ipython-input-25-ceac70ad00ab>:16: RuntimeWarning: Fiducial point nasion not found, assuming identity unknown to head transformation\n",
            "  raw.set_montage(custom_montage)\n"
          ]
        },
        {
          "name": "stdout",
          "output_type": "stream",
          "text": [
            "Trigger channel Status has a non-zero initial value of {initial_value} (consider using initial_event=True to detect this event)\n",
            "2826 events found on stim channel Status\n",
            "Event IDs: [65281 65296 65297]\n",
            "Not setting metadata\n",
            "145 matching events found\n",
            "No baseline correction applied\n",
            "0 projection items activated\n",
            "Using data from preloaded Raw for 145 events and 1251 original time points ...\n",
            "0 bad epochs dropped\n",
            "Fitting ICA to data using 32 channels (please be patient, this may take a while)\n"
          ]
        },
        {
          "name": "stderr",
          "output_type": "stream",
          "text": [
            "<ipython-input-25-ceac70ad00ab>:29: RuntimeWarning: The data has not been high-pass filtered. For good ICA performance, it should be high-pass filtered (e.g., with a 1.0 Hz lower bound) before fitting ICA.\n",
            "  ica.fit(epochs)\n"
          ]
        },
        {
          "name": "stdout",
          "output_type": "stream",
          "text": [
            "Selecting by number: 32 components\n",
            "Fitting ICA took 31.0s.\n",
            "Applying ICA to Epochs instance\n",
            "    Transforming to ICA space (32 components)\n",
            "    Zeroing out 0 ICA components\n",
            "    Projecting back using 32 PCA components\n"
          ]
        },
        {
          "name": "stderr",
          "output_type": "stream",
          "text": [
            "<ipython-input-25-ceac70ad00ab>:30: FutureWarning: The current default of copy=False will change to copy=True in 1.7. Set the value of copy explicitly to avoid this warning\n",
            "  features = ica.apply(epochs.copy()).get_data()\n",
            "Processing 0 data: 100%|██████████| 1/1 [01:13<00:00, 73.34s/it]\n",
            "Processing 0 data:   0%|          | 0/1 [00:00<?, ?it/s]"
          ]
        },
        {
          "name": "stdout",
          "output_type": "stream",
          "text": [
            "Extracting EDF parameters from /content/drive/MyDrive/GP/GP-Data/Haemorrhage/P5_TD1.bdf...\n",
            "BDF file detected\n",
            "Setting channel info structure...\n",
            "Creating raw.info structure...\n",
            "Reading 0 ... 12058623  =      0.000 ...   736.000 secs...\n",
            "Trigger channel Status has a non-zero initial value of {initial_value} (consider using initial_event=True to detect this event)\n",
            "22486 events found on stim channel Status\n",
            "Event IDs: [65281 65284 65294 65296 65297 65301 65304 65305 65309 65311]\n"
          ]
        },
        {
          "name": "stderr",
          "output_type": "stream",
          "text": [
            "<ipython-input-25-ceac70ad00ab>:16: RuntimeWarning: Fiducial point nasion not found, assuming identity unknown to head transformation\n",
            "  raw.set_montage(custom_montage)\n"
          ]
        },
        {
          "name": "stdout",
          "output_type": "stream",
          "text": [
            "Trigger channel Status has a non-zero initial value of {initial_value} (consider using initial_event=True to detect this event)\n",
            "2902 events found on stim channel Status\n",
            "Event IDs: [65281 65296 65297 65311]\n",
            "Not setting metadata\n",
            "150 matching events found\n",
            "No baseline correction applied\n",
            "0 projection items activated\n",
            "Using data from preloaded Raw for 150 events and 1251 original time points ...\n",
            "0 bad epochs dropped\n",
            "Fitting ICA to data using 32 channels (please be patient, this may take a while)\n"
          ]
        },
        {
          "name": "stderr",
          "output_type": "stream",
          "text": [
            "<ipython-input-25-ceac70ad00ab>:29: RuntimeWarning: The data has not been high-pass filtered. For good ICA performance, it should be high-pass filtered (e.g., with a 1.0 Hz lower bound) before fitting ICA.\n",
            "  ica.fit(epochs)\n"
          ]
        },
        {
          "name": "stdout",
          "output_type": "stream",
          "text": [
            "Selecting by number: 32 components\n",
            "Fitting ICA took 26.0s.\n",
            "Applying ICA to Epochs instance\n",
            "    Transforming to ICA space (32 components)\n",
            "    Zeroing out 0 ICA components\n",
            "    Projecting back using 32 PCA components\n"
          ]
        },
        {
          "name": "stderr",
          "output_type": "stream",
          "text": [
            "<ipython-input-25-ceac70ad00ab>:30: FutureWarning: The current default of copy=False will change to copy=True in 1.7. Set the value of copy explicitly to avoid this warning\n",
            "  features = ica.apply(epochs.copy()).get_data()\n",
            "Processing 0 data: 100%|██████████| 1/1 [01:30<00:00, 90.55s/it]\n",
            "Processing 0 data:   0%|          | 0/1 [00:00<?, ?it/s]"
          ]
        },
        {
          "name": "stdout",
          "output_type": "stream",
          "text": [
            "Extracting EDF parameters from /content/drive/MyDrive/GP/GP-Data/Haemorrhage/P10_TD1.bdf...\n",
            "BDF file detected\n",
            "Setting channel info structure...\n",
            "Creating raw.info structure...\n",
            "Reading 0 ... 11730943  =      0.000 ...   716.000 secs...\n",
            "Trigger channel Status has a non-zero initial value of {initial_value} (consider using initial_event=True to detect this event)\n",
            "22474 events found on stim channel Status\n",
            "Event IDs: [65281 65284 65286 65296 65297 65301 65304 65305 65309 65311]\n"
          ]
        },
        {
          "name": "stderr",
          "output_type": "stream",
          "text": [
            "<ipython-input-25-ceac70ad00ab>:16: RuntimeWarning: Fiducial point nasion not found, assuming identity unknown to head transformation\n",
            "  raw.set_montage(custom_montage)\n"
          ]
        },
        {
          "name": "stdout",
          "output_type": "stream",
          "text": [
            "Trigger channel Status has a non-zero initial value of {initial_value} (consider using initial_event=True to detect this event)\n",
            "2752 events found on stim channel Status\n",
            "Event IDs: [65281 65296 65297]\n",
            "Not setting metadata\n",
            "146 matching events found\n",
            "No baseline correction applied\n",
            "0 projection items activated\n",
            "Using data from preloaded Raw for 146 events and 1251 original time points ...\n",
            "0 bad epochs dropped\n",
            "Fitting ICA to data using 32 channels (please be patient, this may take a while)\n"
          ]
        },
        {
          "name": "stderr",
          "output_type": "stream",
          "text": [
            "<ipython-input-25-ceac70ad00ab>:29: RuntimeWarning: The data has not been high-pass filtered. For good ICA performance, it should be high-pass filtered (e.g., with a 1.0 Hz lower bound) before fitting ICA.\n",
            "  ica.fit(epochs)\n"
          ]
        },
        {
          "name": "stdout",
          "output_type": "stream",
          "text": [
            "Selecting by number: 32 components\n",
            "Fitting ICA took 20.8s.\n",
            "Applying ICA to Epochs instance\n",
            "    Transforming to ICA space (32 components)\n",
            "    Zeroing out 0 ICA components\n",
            "    Projecting back using 32 PCA components\n"
          ]
        },
        {
          "name": "stderr",
          "output_type": "stream",
          "text": [
            "<ipython-input-25-ceac70ad00ab>:30: FutureWarning: The current default of copy=False will change to copy=True in 1.7. Set the value of copy explicitly to avoid this warning\n",
            "  features = ica.apply(epochs.copy()).get_data()\n",
            "Processing 0 data: 100%|██████████| 1/1 [01:08<00:00, 68.28s/it]\n",
            "Processing 0 data:   0%|          | 0/1 [00:00<?, ?it/s]"
          ]
        },
        {
          "name": "stdout",
          "output_type": "stream",
          "text": [
            "Extracting EDF parameters from /content/drive/MyDrive/GP/GP-Data/Haemorrhage/P11_TD1.bdf...\n",
            "BDF file detected\n",
            "Setting channel info structure...\n",
            "Creating raw.info structure...\n",
            "Reading 0 ... 11632639  =      0.000 ...   710.000 secs...\n",
            "Trigger channel Status has a non-zero initial value of {initial_value} (consider using initial_event=True to detect this event)\n",
            "22482 events found on stim channel Status\n",
            "Event IDs: [65281 65284 65296 65297 65301 65304 65305 65309 65311]\n"
          ]
        },
        {
          "name": "stderr",
          "output_type": "stream",
          "text": [
            "<ipython-input-25-ceac70ad00ab>:16: RuntimeWarning: Fiducial point nasion not found, assuming identity unknown to head transformation\n",
            "  raw.set_montage(custom_montage)\n"
          ]
        },
        {
          "name": "stdout",
          "output_type": "stream",
          "text": [
            "Trigger channel Status has a non-zero initial value of {initial_value} (consider using initial_event=True to detect this event)\n",
            "2845 events found on stim channel Status\n",
            "Event IDs: [65281 65296 65297]\n",
            "Not setting metadata\n",
            "144 matching events found\n",
            "No baseline correction applied\n",
            "0 projection items activated\n",
            "Using data from preloaded Raw for 144 events and 1251 original time points ...\n",
            "0 bad epochs dropped\n",
            "Fitting ICA to data using 32 channels (please be patient, this may take a while)\n"
          ]
        },
        {
          "name": "stderr",
          "output_type": "stream",
          "text": [
            "<ipython-input-25-ceac70ad00ab>:29: RuntimeWarning: The data has not been high-pass filtered. For good ICA performance, it should be high-pass filtered (e.g., with a 1.0 Hz lower bound) before fitting ICA.\n",
            "  ica.fit(epochs)\n"
          ]
        },
        {
          "name": "stdout",
          "output_type": "stream",
          "text": [
            "Selecting by number: 32 components\n",
            "Fitting ICA took 17.5s.\n",
            "Applying ICA to Epochs instance\n",
            "    Transforming to ICA space (32 components)\n",
            "    Zeroing out 0 ICA components\n",
            "    Projecting back using 32 PCA components\n"
          ]
        },
        {
          "name": "stderr",
          "output_type": "stream",
          "text": [
            "<ipython-input-25-ceac70ad00ab>:30: FutureWarning: The current default of copy=False will change to copy=True in 1.7. Set the value of copy explicitly to avoid this warning\n",
            "  features = ica.apply(epochs.copy()).get_data()\n",
            "Processing 0 data: 100%|██████████| 1/1 [01:02<00:00, 62.76s/it]\n",
            "Processing 0 data:   0%|          | 0/1 [00:00<?, ?it/s]"
          ]
        },
        {
          "name": "stdout",
          "output_type": "stream",
          "text": [
            "Extracting EDF parameters from /content/drive/MyDrive/GP/GP-Data/Haemorrhage/P14_TD1.bdf...\n",
            "BDF file detected\n",
            "Setting channel info structure...\n",
            "Creating raw.info structure...\n",
            "Reading 0 ... 11649023  =      0.000 ...   711.000 secs...\n",
            "Trigger channel Status has a non-zero initial value of {initial_value} (consider using initial_event=True to detect this event)\n",
            "22483 events found on stim channel Status\n",
            "Event IDs: [65281 65284 65296 65297 65301 65304 65305 65309 65311 65312 65313 65328\n",
            " 65329]\n"
          ]
        },
        {
          "name": "stderr",
          "output_type": "stream",
          "text": [
            "<ipython-input-25-ceac70ad00ab>:16: RuntimeWarning: Fiducial point nasion not found, assuming identity unknown to head transformation\n",
            "  raw.set_montage(custom_montage)\n"
          ]
        },
        {
          "name": "stdout",
          "output_type": "stream",
          "text": [
            "Trigger channel Status has a non-zero initial value of {initial_value} (consider using initial_event=True to detect this event)\n",
            "2787 events found on stim channel Status\n",
            "Event IDs: [65281 65296 65297 65312 65313 65328 65329]\n",
            "Not setting metadata\n",
            "145 matching events found\n",
            "No baseline correction applied\n",
            "0 projection items activated\n",
            "Using data from preloaded Raw for 145 events and 1251 original time points ...\n",
            "0 bad epochs dropped\n",
            "Fitting ICA to data using 32 channels (please be patient, this may take a while)\n"
          ]
        },
        {
          "name": "stderr",
          "output_type": "stream",
          "text": [
            "<ipython-input-25-ceac70ad00ab>:29: RuntimeWarning: The data has not been high-pass filtered. For good ICA performance, it should be high-pass filtered (e.g., with a 1.0 Hz lower bound) before fitting ICA.\n",
            "  ica.fit(epochs)\n"
          ]
        },
        {
          "name": "stdout",
          "output_type": "stream",
          "text": [
            "Selecting by number: 32 components\n",
            "Fitting ICA took 16.8s.\n",
            "Applying ICA to Epochs instance\n",
            "    Transforming to ICA space (32 components)\n",
            "    Zeroing out 0 ICA components\n",
            "    Projecting back using 32 PCA components\n"
          ]
        },
        {
          "name": "stderr",
          "output_type": "stream",
          "text": [
            "<ipython-input-25-ceac70ad00ab>:30: FutureWarning: The current default of copy=False will change to copy=True in 1.7. Set the value of copy explicitly to avoid this warning\n",
            "  features = ica.apply(epochs.copy()).get_data()\n",
            "Processing 0 data: 100%|██████████| 1/1 [01:00<00:00, 60.85s/it]\n",
            "Processing 0 data:   0%|          | 0/1 [00:00<?, ?it/s]"
          ]
        },
        {
          "name": "stdout",
          "output_type": "stream",
          "text": [
            "Extracting EDF parameters from /content/drive/MyDrive/GP/GP-Data/Haemorrhage/P6b_TD2.bdf...\n",
            "BDF file detected\n",
            "Setting channel info structure...\n",
            "Creating raw.info structure...\n",
            "Reading 0 ... 11698175  =      0.000 ...   714.000 secs...\n",
            "Trigger channel Status has a non-zero initial value of {initial_value} (consider using initial_event=True to detect this event)\n",
            "22484 events found on stim channel Status\n",
            "Event IDs: [65281 65284 65296 65297 65301 65304 65305 65309 65311]\n"
          ]
        },
        {
          "name": "stderr",
          "output_type": "stream",
          "text": [
            "<ipython-input-25-ceac70ad00ab>:16: RuntimeWarning: Fiducial point nasion not found, assuming identity unknown to head transformation\n",
            "  raw.set_montage(custom_montage)\n"
          ]
        },
        {
          "name": "stdout",
          "output_type": "stream",
          "text": [
            "Trigger channel Status has a non-zero initial value of {initial_value} (consider using initial_event=True to detect this event)\n",
            "2903 events found on stim channel Status\n",
            "Event IDs: [65281 65296 65297 65311]\n",
            "Not setting metadata\n",
            "145 matching events found\n",
            "No baseline correction applied\n",
            "0 projection items activated\n",
            "Using data from preloaded Raw for 145 events and 1251 original time points ...\n",
            "0 bad epochs dropped\n",
            "Fitting ICA to data using 32 channels (please be patient, this may take a while)\n"
          ]
        },
        {
          "name": "stderr",
          "output_type": "stream",
          "text": [
            "<ipython-input-25-ceac70ad00ab>:29: RuntimeWarning: The data has not been high-pass filtered. For good ICA performance, it should be high-pass filtered (e.g., with a 1.0 Hz lower bound) before fitting ICA.\n",
            "  ica.fit(epochs)\n"
          ]
        },
        {
          "name": "stdout",
          "output_type": "stream",
          "text": [
            "Selecting by number: 32 components\n",
            "Fitting ICA took 26.9s.\n",
            "Applying ICA to Epochs instance\n",
            "    Transforming to ICA space (32 components)\n",
            "    Zeroing out 0 ICA components\n",
            "    Projecting back using 32 PCA components\n"
          ]
        },
        {
          "name": "stderr",
          "output_type": "stream",
          "text": [
            "<ipython-input-25-ceac70ad00ab>:30: FutureWarning: The current default of copy=False will change to copy=True in 1.7. Set the value of copy explicitly to avoid this warning\n",
            "  features = ica.apply(epochs.copy()).get_data()\n",
            "Processing 0 data: 100%|██████████| 1/1 [01:11<00:00, 71.57s/it]\n",
            "Processing 0 data:   0%|          | 0/1 [00:00<?, ?it/s]"
          ]
        },
        {
          "name": "stdout",
          "output_type": "stream",
          "text": [
            "Extracting EDF parameters from /content/drive/MyDrive/GP/GP-Data/Haemorrhage/P17_TD1.bdf...\n",
            "BDF file detected\n",
            "Setting channel info structure...\n",
            "Creating raw.info structure...\n",
            "Reading 0 ... 12189695  =      0.000 ...   744.000 secs...\n",
            "Trigger channel Status has a non-zero initial value of {initial_value} (consider using initial_event=True to detect this event)\n",
            "22483 events found on stim channel Status\n",
            "Event IDs: [65281 65282 65284 65296 65297 65301 65304 65305 65309 65311]\n"
          ]
        },
        {
          "name": "stderr",
          "output_type": "stream",
          "text": [
            "<ipython-input-25-ceac70ad00ab>:16: RuntimeWarning: Fiducial point nasion not found, assuming identity unknown to head transformation\n",
            "  raw.set_montage(custom_montage)\n"
          ]
        },
        {
          "name": "stdout",
          "output_type": "stream",
          "text": [
            "Trigger channel Status has a non-zero initial value of {initial_value} (consider using initial_event=True to detect this event)\n",
            "2799 events found on stim channel Status\n",
            "Event IDs: [65281 65296 65297 65301]\n",
            "Not setting metadata\n",
            "151 matching events found\n",
            "No baseline correction applied\n",
            "0 projection items activated\n",
            "Using data from preloaded Raw for 151 events and 1251 original time points ...\n",
            "0 bad epochs dropped\n",
            "Fitting ICA to data using 32 channels (please be patient, this may take a while)\n"
          ]
        },
        {
          "name": "stderr",
          "output_type": "stream",
          "text": [
            "<ipython-input-25-ceac70ad00ab>:29: RuntimeWarning: The data has not been high-pass filtered. For good ICA performance, it should be high-pass filtered (e.g., with a 1.0 Hz lower bound) before fitting ICA.\n",
            "  ica.fit(epochs)\n"
          ]
        },
        {
          "name": "stdout",
          "output_type": "stream",
          "text": [
            "Selecting by number: 32 components\n",
            "Fitting ICA took 28.3s.\n",
            "Applying ICA to Epochs instance\n",
            "    Transforming to ICA space (32 components)\n",
            "    Zeroing out 0 ICA components\n",
            "    Projecting back using 32 PCA components\n"
          ]
        },
        {
          "name": "stderr",
          "output_type": "stream",
          "text": [
            "<ipython-input-25-ceac70ad00ab>:30: FutureWarning: The current default of copy=False will change to copy=True in 1.7. Set the value of copy explicitly to avoid this warning\n",
            "  features = ica.apply(epochs.copy()).get_data()\n",
            "Processing 0 data: 100%|██████████| 1/1 [01:15<00:00, 75.42s/it]\n",
            "Processing 0 data:   0%|          | 0/1 [00:00<?, ?it/s]"
          ]
        },
        {
          "name": "stdout",
          "output_type": "stream",
          "text": [
            "Extracting EDF parameters from /content/drive/MyDrive/GP/GP-Data/Haemorrhage/P20_TD1.bdf...\n",
            "BDF file detected\n",
            "Setting channel info structure...\n",
            "Creating raw.info structure...\n",
            "Reading 0 ... 11616255  =      0.000 ...   709.000 secs...\n",
            "Trigger channel Status has a non-zero initial value of {initial_value} (consider using initial_event=True to detect this event)\n",
            "22481 events found on stim channel Status\n",
            "Event IDs: [65281 65284 65296 65297 65301 65304 65305 65309 65311]\n"
          ]
        },
        {
          "name": "stderr",
          "output_type": "stream",
          "text": [
            "<ipython-input-25-ceac70ad00ab>:16: RuntimeWarning: Fiducial point nasion not found, assuming identity unknown to head transformation\n",
            "  raw.set_montage(custom_montage)\n"
          ]
        },
        {
          "name": "stdout",
          "output_type": "stream",
          "text": [
            "Trigger channel Status has a non-zero initial value of {initial_value} (consider using initial_event=True to detect this event)\n",
            "2862 events found on stim channel Status\n",
            "Event IDs: [65281 65296 65297 65309]\n",
            "Not setting metadata\n",
            "144 matching events found\n",
            "No baseline correction applied\n",
            "0 projection items activated\n",
            "Using data from preloaded Raw for 144 events and 1251 original time points ...\n",
            "0 bad epochs dropped\n",
            "Fitting ICA to data using 32 channels (please be patient, this may take a while)\n"
          ]
        },
        {
          "name": "stderr",
          "output_type": "stream",
          "text": [
            "<ipython-input-25-ceac70ad00ab>:29: RuntimeWarning: The data has not been high-pass filtered. For good ICA performance, it should be high-pass filtered (e.g., with a 1.0 Hz lower bound) before fitting ICA.\n",
            "  ica.fit(epochs)\n"
          ]
        },
        {
          "name": "stdout",
          "output_type": "stream",
          "text": [
            "Selecting by number: 32 components\n",
            "Fitting ICA took 28.7s.\n",
            "Applying ICA to Epochs instance\n",
            "    Transforming to ICA space (32 components)\n",
            "    Zeroing out 0 ICA components\n",
            "    Projecting back using 32 PCA components\n"
          ]
        },
        {
          "name": "stderr",
          "output_type": "stream",
          "text": [
            "<ipython-input-25-ceac70ad00ab>:30: FutureWarning: The current default of copy=False will change to copy=True in 1.7. Set the value of copy explicitly to avoid this warning\n",
            "  features = ica.apply(epochs.copy()).get_data()\n",
            "Processing 0 data: 100%|██████████| 1/1 [01:11<00:00, 71.29s/it]\n",
            "Processing 0 data:   0%|          | 0/1 [00:00<?, ?it/s]"
          ]
        },
        {
          "name": "stdout",
          "output_type": "stream",
          "text": [
            "Extracting EDF parameters from /content/drive/MyDrive/GP/GP-Data/Haemorrhage/P23a_TD1.bdf...\n",
            "BDF file detected\n",
            "Setting channel info structure...\n",
            "Creating raw.info structure...\n",
            "Reading 0 ... 11681791  =      0.000 ...   713.000 secs...\n",
            "Trigger channel Status has a non-zero initial value of {initial_value} (consider using initial_event=True to detect this event)\n",
            "22490 events found on stim channel Status\n",
            "Event IDs: [65281 65284 65296 65297 65301 65304 65305 65309 65311]\n"
          ]
        },
        {
          "name": "stderr",
          "output_type": "stream",
          "text": [
            "<ipython-input-25-ceac70ad00ab>:16: RuntimeWarning: Fiducial point nasion not found, assuming identity unknown to head transformation\n",
            "  raw.set_montage(custom_montage)\n"
          ]
        },
        {
          "name": "stdout",
          "output_type": "stream",
          "text": [
            "Trigger channel Status has a non-zero initial value of {initial_value} (consider using initial_event=True to detect this event)\n",
            "2821 events found on stim channel Status\n",
            "Event IDs: [65281 65296 65297 65304 65311]\n",
            "Not setting metadata\n",
            "145 matching events found\n",
            "No baseline correction applied\n",
            "0 projection items activated\n",
            "Using data from preloaded Raw for 145 events and 1251 original time points ...\n",
            "0 bad epochs dropped\n",
            "Fitting ICA to data using 32 channels (please be patient, this may take a while)\n"
          ]
        },
        {
          "name": "stderr",
          "output_type": "stream",
          "text": [
            "<ipython-input-25-ceac70ad00ab>:29: RuntimeWarning: The data has not been high-pass filtered. For good ICA performance, it should be high-pass filtered (e.g., with a 1.0 Hz lower bound) before fitting ICA.\n",
            "  ica.fit(epochs)\n"
          ]
        },
        {
          "name": "stdout",
          "output_type": "stream",
          "text": [
            "Selecting by number: 32 components\n",
            "Fitting ICA took 26.3s.\n",
            "Applying ICA to Epochs instance\n",
            "    Transforming to ICA space (32 components)\n",
            "    Zeroing out 0 ICA components\n",
            "    Projecting back using 32 PCA components\n"
          ]
        },
        {
          "name": "stderr",
          "output_type": "stream",
          "text": [
            "<ipython-input-25-ceac70ad00ab>:30: FutureWarning: The current default of copy=False will change to copy=True in 1.7. Set the value of copy explicitly to avoid this warning\n",
            "  features = ica.apply(epochs.copy()).get_data()\n",
            "Processing 0 data: 100%|██████████| 1/1 [01:08<00:00, 68.93s/it]\n",
            "Processing 0 data:   0%|          | 0/1 [00:00<?, ?it/s]"
          ]
        },
        {
          "name": "stdout",
          "output_type": "stream",
          "text": [
            "Extracting EDF parameters from /content/drive/MyDrive/GP/GP-Data/Haemorrhage/P24_TD1.bdf...\n",
            "BDF file detected\n",
            "Setting channel info structure...\n",
            "Creating raw.info structure...\n",
            "Reading 0 ... 11812863  =      0.000 ...   721.000 secs...\n",
            "Trigger channel Status has a non-zero initial value of {initial_value} (consider using initial_event=True to detect this event)\n",
            "22475 events found on stim channel Status\n",
            "Event IDs: [65281 65284 65296 65297 65301 65304 65305 65309 65311]\n"
          ]
        },
        {
          "name": "stderr",
          "output_type": "stream",
          "text": [
            "<ipython-input-25-ceac70ad00ab>:16: RuntimeWarning: Fiducial point nasion not found, assuming identity unknown to head transformation\n",
            "  raw.set_montage(custom_montage)\n"
          ]
        },
        {
          "name": "stdout",
          "output_type": "stream",
          "text": [
            "Trigger channel Status has a non-zero initial value of {initial_value} (consider using initial_event=True to detect this event)\n",
            "2886 events found on stim channel Status\n",
            "Event IDs: [65281 65296 65297 65309]\n",
            "Not setting metadata\n",
            "147 matching events found\n",
            "No baseline correction applied\n",
            "0 projection items activated\n",
            "Using data from preloaded Raw for 147 events and 1251 original time points ...\n",
            "0 bad epochs dropped\n",
            "Fitting ICA to data using 32 channels (please be patient, this may take a while)\n"
          ]
        },
        {
          "name": "stderr",
          "output_type": "stream",
          "text": [
            "<ipython-input-25-ceac70ad00ab>:29: RuntimeWarning: The data has not been high-pass filtered. For good ICA performance, it should be high-pass filtered (e.g., with a 1.0 Hz lower bound) before fitting ICA.\n",
            "  ica.fit(epochs)\n"
          ]
        },
        {
          "name": "stdout",
          "output_type": "stream",
          "text": [
            "Selecting by number: 32 components\n",
            "Fitting ICA took 23.1s.\n",
            "Applying ICA to Epochs instance\n",
            "    Transforming to ICA space (32 components)\n",
            "    Zeroing out 0 ICA components\n",
            "    Projecting back using 32 PCA components\n"
          ]
        },
        {
          "name": "stderr",
          "output_type": "stream",
          "text": [
            "<ipython-input-25-ceac70ad00ab>:30: FutureWarning: The current default of copy=False will change to copy=True in 1.7. Set the value of copy explicitly to avoid this warning\n",
            "  features = ica.apply(epochs.copy()).get_data()\n",
            "Processing 0 data: 100%|██████████| 1/1 [01:07<00:00, 67.02s/it]\n",
            "Processing 0 data:   0%|          | 0/1 [00:00<?, ?it/s]"
          ]
        },
        {
          "name": "stdout",
          "output_type": "stream",
          "text": [
            "Extracting EDF parameters from /content/drive/MyDrive/GP/GP-Data/Haemorrhage/P23b_TD1.bdf...\n",
            "BDF file detected\n",
            "Setting channel info structure...\n",
            "Creating raw.info structure...\n",
            "Reading 0 ... 17498111  =      0.000 ...  1068.000 secs...\n"
          ]
        },
        {
          "name": "stderr",
          "output_type": "stream",
          "text": [
            "<ipython-input-25-ceac70ad00ab>:16: RuntimeWarning: Fiducial point nasion not found, assuming identity unknown to head transformation\n",
            "  raw.set_montage(custom_montage)\n"
          ]
        },
        {
          "name": "stdout",
          "output_type": "stream",
          "text": [
            "Trigger channel Status has a non-zero initial value of {initial_value} (consider using initial_event=True to detect this event)\n",
            "22476 events found on stim channel Status\n",
            "Event IDs: [65281 65284 65296 65297 65301 65304 65305 65309 65311]\n",
            "Trigger channel Status has a non-zero initial value of {initial_value} (consider using initial_event=True to detect this event)\n",
            "2920 events found on stim channel Status\n",
            "Event IDs: [65281 65296 65297 65311]\n",
            "Not setting metadata\n",
            "217 matching events found\n",
            "No baseline correction applied\n",
            "0 projection items activated\n",
            "Using data from preloaded Raw for 217 events and 1251 original time points ...\n",
            "0 bad epochs dropped\n",
            "Fitting ICA to data using 32 channels (please be patient, this may take a while)\n"
          ]
        },
        {
          "name": "stderr",
          "output_type": "stream",
          "text": [
            "<ipython-input-25-ceac70ad00ab>:29: RuntimeWarning: The data has not been high-pass filtered. For good ICA performance, it should be high-pass filtered (e.g., with a 1.0 Hz lower bound) before fitting ICA.\n",
            "  ica.fit(epochs)\n"
          ]
        },
        {
          "name": "stdout",
          "output_type": "stream",
          "text": [
            "Selecting by number: 32 components\n",
            "Fitting ICA took 30.9s.\n",
            "Applying ICA to Epochs instance\n",
            "    Transforming to ICA space (32 components)\n",
            "    Zeroing out 0 ICA components\n",
            "    Projecting back using 32 PCA components\n"
          ]
        },
        {
          "name": "stderr",
          "output_type": "stream",
          "text": [
            "<ipython-input-25-ceac70ad00ab>:30: FutureWarning: The current default of copy=False will change to copy=True in 1.7. Set the value of copy explicitly to avoid this warning\n",
            "  features = ica.apply(epochs.copy()).get_data()\n",
            "Processing 0 data: 100%|██████████| 1/1 [02:12<00:00, 132.59s/it]\n",
            "Processing 1 data:   0%|          | 0/1 [00:00<?, ?it/s]"
          ]
        },
        {
          "name": "stdout",
          "output_type": "stream",
          "text": [
            "Extracting EDF parameters from /content/drive/MyDrive/GP/GP-Data/Ischaemia/P1_TD1.bdf...\n",
            "BDF file detected\n",
            "Setting channel info structure...\n",
            "Creating raw.info structure...\n",
            "Reading 0 ... 11599871  =      0.000 ...   708.000 secs...\n"
          ]
        },
        {
          "name": "stderr",
          "output_type": "stream",
          "text": [
            "<ipython-input-25-ceac70ad00ab>:16: RuntimeWarning: Fiducial point nasion not found, assuming identity unknown to head transformation\n",
            "  raw.set_montage(custom_montage)\n"
          ]
        },
        {
          "name": "stdout",
          "output_type": "stream",
          "text": [
            "Trigger channel Status has a non-zero initial value of {initial_value} (consider using initial_event=True to detect this event)\n",
            "22488 events found on stim channel Status\n",
            "Event IDs: [65281 65284 65296 65297 65301 65304 65305 65309 65311]\n",
            "Trigger channel Status has a non-zero initial value of {initial_value} (consider using initial_event=True to detect this event)\n",
            "2825 events found on stim channel Status\n",
            "Event IDs: [65281 65296 65297 65304 65311]\n",
            "Not setting metadata\n",
            "144 matching events found\n",
            "No baseline correction applied\n",
            "0 projection items activated\n",
            "Using data from preloaded Raw for 144 events and 1251 original time points ...\n",
            "0 bad epochs dropped\n",
            "Fitting ICA to data using 32 channels (please be patient, this may take a while)\n"
          ]
        },
        {
          "name": "stderr",
          "output_type": "stream",
          "text": [
            "<ipython-input-25-ceac70ad00ab>:29: RuntimeWarning: The data has not been high-pass filtered. For good ICA performance, it should be high-pass filtered (e.g., with a 1.0 Hz lower bound) before fitting ICA.\n",
            "  ica.fit(epochs)\n"
          ]
        },
        {
          "name": "stdout",
          "output_type": "stream",
          "text": [
            "Selecting by number: 32 components\n",
            "Fitting ICA took 19.0s.\n",
            "Applying ICA to Epochs instance\n",
            "    Transforming to ICA space (32 components)\n",
            "    Zeroing out 0 ICA components\n",
            "    Projecting back using 32 PCA components\n"
          ]
        },
        {
          "name": "stderr",
          "output_type": "stream",
          "text": [
            "<ipython-input-25-ceac70ad00ab>:30: FutureWarning: The current default of copy=False will change to copy=True in 1.7. Set the value of copy explicitly to avoid this warning\n",
            "  features = ica.apply(epochs.copy()).get_data()\n",
            "Processing 1 data: 100%|██████████| 1/1 [01:06<00:00, 66.65s/it]\n",
            "Processing 1 data:   0%|          | 0/1 [00:00<?, ?it/s]"
          ]
        },
        {
          "name": "stdout",
          "output_type": "stream",
          "text": [
            "Extracting EDF parameters from /content/drive/MyDrive/GP/GP-Data/Ischaemia/P4a_TD1.bdf...\n",
            "BDF file detected\n",
            "Setting channel info structure...\n",
            "Creating raw.info structure...\n",
            "Reading 0 ... 11698175  =      0.000 ...   714.000 secs...\n"
          ]
        },
        {
          "name": "stderr",
          "output_type": "stream",
          "text": [
            "<ipython-input-25-ceac70ad00ab>:16: RuntimeWarning: Fiducial point nasion not found, assuming identity unknown to head transformation\n",
            "  raw.set_montage(custom_montage)\n"
          ]
        },
        {
          "name": "stdout",
          "output_type": "stream",
          "text": [
            "Trigger channel Status has a non-zero initial value of {initial_value} (consider using initial_event=True to detect this event)\n",
            "22490 events found on stim channel Status\n",
            "Event IDs: [65281 65284 65296 65297 65301 65304 65305 65309 65311]\n",
            "Trigger channel Status has a non-zero initial value of {initial_value} (consider using initial_event=True to detect this event)\n",
            "2823 events found on stim channel Status\n",
            "Event IDs: [65281 65296 65297]\n",
            "Not setting metadata\n",
            "145 matching events found\n",
            "No baseline correction applied\n",
            "0 projection items activated\n",
            "Using data from preloaded Raw for 145 events and 1251 original time points ...\n",
            "0 bad epochs dropped\n",
            "Fitting ICA to data using 32 channels (please be patient, this may take a while)\n"
          ]
        },
        {
          "name": "stderr",
          "output_type": "stream",
          "text": [
            "<ipython-input-25-ceac70ad00ab>:29: RuntimeWarning: The data has not been high-pass filtered. For good ICA performance, it should be high-pass filtered (e.g., with a 1.0 Hz lower bound) before fitting ICA.\n",
            "  ica.fit(epochs)\n"
          ]
        },
        {
          "name": "stdout",
          "output_type": "stream",
          "text": [
            "Selecting by number: 32 components\n",
            "Fitting ICA took 18.0s.\n",
            "Applying ICA to Epochs instance\n",
            "    Transforming to ICA space (32 components)\n",
            "    Zeroing out 0 ICA components\n",
            "    Projecting back using 32 PCA components\n"
          ]
        },
        {
          "name": "stderr",
          "output_type": "stream",
          "text": [
            "<ipython-input-25-ceac70ad00ab>:30: FutureWarning: The current default of copy=False will change to copy=True in 1.7. Set the value of copy explicitly to avoid this warning\n",
            "  features = ica.apply(epochs.copy()).get_data()\n",
            "Processing 1 data: 100%|██████████| 1/1 [01:05<00:00, 65.40s/it]\n",
            "Processing 1 data:   0%|          | 0/1 [00:00<?, ?it/s]"
          ]
        },
        {
          "name": "stdout",
          "output_type": "stream",
          "text": [
            "Extracting EDF parameters from /content/drive/MyDrive/GP/GP-Data/Ischaemia/P4b_TD1.bdf...\n",
            "BDF file detected\n",
            "Setting channel info structure...\n",
            "Creating raw.info structure...\n",
            "Reading 0 ... 11665407  =      0.000 ...   712.000 secs...\n",
            "Trigger channel Status has a non-zero initial value of {initial_value} (consider using initial_event=True to detect this event)\n",
            "22478 events found on stim channel Status\n",
            "Event IDs: [65281 65284 65296 65297 65301 65304 65305 65309 65311]\n"
          ]
        },
        {
          "name": "stderr",
          "output_type": "stream",
          "text": [
            "<ipython-input-25-ceac70ad00ab>:16: RuntimeWarning: Fiducial point nasion not found, assuming identity unknown to head transformation\n",
            "  raw.set_montage(custom_montage)\n"
          ]
        },
        {
          "name": "stdout",
          "output_type": "stream",
          "text": [
            "Trigger channel Status has a non-zero initial value of {initial_value} (consider using initial_event=True to detect this event)\n",
            "2866 events found on stim channel Status\n",
            "Event IDs: [65281 65296 65297]\n",
            "Not setting metadata\n",
            "145 matching events found\n",
            "No baseline correction applied\n",
            "0 projection items activated\n",
            "Using data from preloaded Raw for 145 events and 1251 original time points ...\n",
            "0 bad epochs dropped\n",
            "Fitting ICA to data using 32 channels (please be patient, this may take a while)\n"
          ]
        },
        {
          "name": "stderr",
          "output_type": "stream",
          "text": [
            "<ipython-input-25-ceac70ad00ab>:29: RuntimeWarning: The data has not been high-pass filtered. For good ICA performance, it should be high-pass filtered (e.g., with a 1.0 Hz lower bound) before fitting ICA.\n",
            "  ica.fit(epochs)\n"
          ]
        },
        {
          "name": "stdout",
          "output_type": "stream",
          "text": [
            "Selecting by number: 32 components\n",
            "Fitting ICA took 20.3s.\n",
            "Applying ICA to Epochs instance\n",
            "    Transforming to ICA space (32 components)\n",
            "    Zeroing out 0 ICA components\n",
            "    Projecting back using 32 PCA components\n"
          ]
        },
        {
          "name": "stderr",
          "output_type": "stream",
          "text": [
            "<ipython-input-25-ceac70ad00ab>:30: FutureWarning: The current default of copy=False will change to copy=True in 1.7. Set the value of copy explicitly to avoid this warning\n",
            "  features = ica.apply(epochs.copy()).get_data()\n",
            "Processing 1 data: 100%|██████████| 1/1 [01:06<00:00, 66.99s/it]\n",
            "Processing 1 data:   0%|          | 0/1 [00:00<?, ?it/s]"
          ]
        },
        {
          "name": "stdout",
          "output_type": "stream",
          "text": [
            "Extracting EDF parameters from /content/drive/MyDrive/GP/GP-Data/Ischaemia/P9_TD1.bdf...\n",
            "BDF file detected\n",
            "Setting channel info structure...\n",
            "Creating raw.info structure...\n",
            "Reading 0 ... 13107199  =      0.000 ...   800.000 secs...\n",
            "Trigger channel Status has a non-zero initial value of {initial_value} (consider using initial_event=True to detect this event)\n",
            "22477 events found on stim channel Status\n"
          ]
        },
        {
          "name": "stderr",
          "output_type": "stream",
          "text": [
            "<ipython-input-25-ceac70ad00ab>:16: RuntimeWarning: Fiducial point nasion not found, assuming identity unknown to head transformation\n",
            "  raw.set_montage(custom_montage)\n"
          ]
        },
        {
          "name": "stdout",
          "output_type": "stream",
          "text": [
            "Event IDs: [ 65281  65284  65296  65297  65301  65304  65305  65309  65311 130816]\n",
            "Trigger channel Status has a non-zero initial value of {initial_value} (consider using initial_event=True to detect this event)\n",
            "2867 events found on stim channel Status\n",
            "Event IDs: [ 65281  65296  65297  65311 130816]\n",
            "Not setting metadata\n",
            "163 matching events found\n",
            "No baseline correction applied\n",
            "0 projection items activated\n",
            "Using data from preloaded Raw for 163 events and 1251 original time points ...\n",
            "0 bad epochs dropped\n",
            "Fitting ICA to data using 32 channels (please be patient, this may take a while)\n"
          ]
        },
        {
          "name": "stderr",
          "output_type": "stream",
          "text": [
            "<ipython-input-25-ceac70ad00ab>:29: RuntimeWarning: The data has not been high-pass filtered. For good ICA performance, it should be high-pass filtered (e.g., with a 1.0 Hz lower bound) before fitting ICA.\n",
            "  ica.fit(epochs)\n"
          ]
        },
        {
          "name": "stdout",
          "output_type": "stream",
          "text": [
            "Selecting by number: 32 components\n",
            "Fitting ICA took 31.6s.\n",
            "Applying ICA to Epochs instance\n",
            "    Transforming to ICA space (32 components)\n",
            "    Zeroing out 0 ICA components\n",
            "    Projecting back using 32 PCA components\n"
          ]
        },
        {
          "name": "stderr",
          "output_type": "stream",
          "text": [
            "<ipython-input-25-ceac70ad00ab>:30: FutureWarning: The current default of copy=False will change to copy=True in 1.7. Set the value of copy explicitly to avoid this warning\n",
            "  features = ica.apply(epochs.copy()).get_data()\n",
            "Processing 1 data: 100%|██████████| 1/1 [01:18<00:00, 78.03s/it]\n",
            "Processing 1 data:   0%|          | 0/1 [00:00<?, ?it/s]"
          ]
        },
        {
          "name": "stdout",
          "output_type": "stream",
          "text": [
            "Extracting EDF parameters from /content/drive/MyDrive/GP/GP-Data/Ischaemia/P12a_TD2.bdf...\n",
            "BDF file detected\n",
            "Setting channel info structure...\n",
            "Creating raw.info structure...\n",
            "Reading 0 ... 11730943  =      0.000 ...   716.000 secs...\n",
            "Trigger channel Status has a non-zero initial value of {initial_value} (consider using initial_event=True to detect this event)\n",
            "22485 events found on stim channel Status\n",
            "Event IDs: [65281 65284 65296 65297 65301 65304 65305 65309 65311]\n"
          ]
        },
        {
          "name": "stderr",
          "output_type": "stream",
          "text": [
            "<ipython-input-25-ceac70ad00ab>:16: RuntimeWarning: Fiducial point nasion not found, assuming identity unknown to head transformation\n",
            "  raw.set_montage(custom_montage)\n"
          ]
        },
        {
          "name": "stdout",
          "output_type": "stream",
          "text": [
            "Trigger channel Status has a non-zero initial value of {initial_value} (consider using initial_event=True to detect this event)\n",
            "2821 events found on stim channel Status\n",
            "Event IDs: [65281 65282 65296 65297]\n",
            "Not setting metadata\n",
            "146 matching events found\n",
            "No baseline correction applied\n",
            "0 projection items activated\n",
            "Using data from preloaded Raw for 146 events and 1251 original time points ...\n",
            "0 bad epochs dropped\n",
            "Fitting ICA to data using 32 channels (please be patient, this may take a while)\n"
          ]
        },
        {
          "name": "stderr",
          "output_type": "stream",
          "text": [
            "<ipython-input-25-ceac70ad00ab>:29: RuntimeWarning: The data has not been high-pass filtered. For good ICA performance, it should be high-pass filtered (e.g., with a 1.0 Hz lower bound) before fitting ICA.\n",
            "  ica.fit(epochs)\n"
          ]
        },
        {
          "name": "stdout",
          "output_type": "stream",
          "text": [
            "Selecting by number: 32 components\n",
            "Fitting ICA took 20.6s.\n",
            "Applying ICA to Epochs instance\n",
            "    Transforming to ICA space (32 components)\n",
            "    Zeroing out 0 ICA components\n",
            "    Projecting back using 32 PCA components\n"
          ]
        },
        {
          "name": "stderr",
          "output_type": "stream",
          "text": [
            "<ipython-input-25-ceac70ad00ab>:30: FutureWarning: The current default of copy=False will change to copy=True in 1.7. Set the value of copy explicitly to avoid this warning\n",
            "  features = ica.apply(epochs.copy()).get_data()\n",
            "Processing 1 data: 100%|██████████| 1/1 [01:05<00:00, 65.23s/it]\n",
            "Processing 1 data:   0%|          | 0/1 [00:00<?, ?it/s]"
          ]
        },
        {
          "name": "stdout",
          "output_type": "stream",
          "text": [
            "Extracting EDF parameters from /content/drive/MyDrive/GP/GP-Data/Ischaemia/P12b_TD1.bdf...\n",
            "BDF file detected\n",
            "Setting channel info structure...\n",
            "Creating raw.info structure...\n",
            "Reading 0 ... 11763711  =      0.000 ...   718.000 secs...\n",
            "Trigger channel Status has a non-zero initial value of {initial_value} (consider using initial_event=True to detect this event)\n",
            "22486 events found on stim channel Status\n",
            "Event IDs: [65281 65284 65296 65297 65301 65304 65305 65309 65311]\n"
          ]
        },
        {
          "name": "stderr",
          "output_type": "stream",
          "text": [
            "<ipython-input-25-ceac70ad00ab>:16: RuntimeWarning: Fiducial point nasion not found, assuming identity unknown to head transformation\n",
            "  raw.set_montage(custom_montage)\n"
          ]
        },
        {
          "name": "stdout",
          "output_type": "stream",
          "text": [
            "Trigger channel Status has a non-zero initial value of {initial_value} (consider using initial_event=True to detect this event)\n",
            "2828 events found on stim channel Status\n",
            "Event IDs: [65281 65296 65297 65311]\n",
            "Not setting metadata\n",
            "146 matching events found\n",
            "No baseline correction applied\n",
            "0 projection items activated\n",
            "Using data from preloaded Raw for 146 events and 1251 original time points ...\n",
            "0 bad epochs dropped\n",
            "Fitting ICA to data using 32 channels (please be patient, this may take a while)\n"
          ]
        },
        {
          "name": "stderr",
          "output_type": "stream",
          "text": [
            "<ipython-input-25-ceac70ad00ab>:29: RuntimeWarning: The data has not been high-pass filtered. For good ICA performance, it should be high-pass filtered (e.g., with a 1.0 Hz lower bound) before fitting ICA.\n",
            "  ica.fit(epochs)\n"
          ]
        },
        {
          "name": "stdout",
          "output_type": "stream",
          "text": [
            "Selecting by number: 32 components\n",
            "Fitting ICA took 18.7s.\n",
            "Applying ICA to Epochs instance\n",
            "    Transforming to ICA space (32 components)\n",
            "    Zeroing out 0 ICA components\n",
            "    Projecting back using 32 PCA components\n"
          ]
        },
        {
          "name": "stderr",
          "output_type": "stream",
          "text": [
            "<ipython-input-25-ceac70ad00ab>:30: FutureWarning: The current default of copy=False will change to copy=True in 1.7. Set the value of copy explicitly to avoid this warning\n",
            "  features = ica.apply(epochs.copy()).get_data()\n",
            "Processing 1 data: 100%|██████████| 1/1 [01:03<00:00, 63.85s/it]\n",
            "Processing 1 data:   0%|          | 0/1 [00:00<?, ?it/s]"
          ]
        },
        {
          "name": "stdout",
          "output_type": "stream",
          "text": [
            "Extracting EDF parameters from /content/drive/MyDrive/GP/GP-Data/Ischaemia/P15_TD1.bdf...\n",
            "BDF file detected\n",
            "Setting channel info structure...\n",
            "Creating raw.info structure...\n",
            "Reading 0 ... 11632639  =      0.000 ...   710.000 secs...\n",
            "Trigger channel Status has a non-zero initial value of {initial_value} (consider using initial_event=True to detect this event)\n",
            "22480 events found on stim channel Status\n",
            "Event IDs: [65281 65284 65296 65297 65301 65304 65305 65309 65311]\n"
          ]
        },
        {
          "name": "stderr",
          "output_type": "stream",
          "text": [
            "<ipython-input-25-ceac70ad00ab>:16: RuntimeWarning: Fiducial point nasion not found, assuming identity unknown to head transformation\n",
            "  raw.set_montage(custom_montage)\n"
          ]
        },
        {
          "name": "stdout",
          "output_type": "stream",
          "text": [
            "Trigger channel Status has a non-zero initial value of {initial_value} (consider using initial_event=True to detect this event)\n",
            "2803 events found on stim channel Status\n",
            "Event IDs: [65281 65296 65297 65309]\n",
            "Not setting metadata\n",
            "144 matching events found\n",
            "No baseline correction applied\n",
            "0 projection items activated\n",
            "Using data from preloaded Raw for 144 events and 1251 original time points ...\n",
            "0 bad epochs dropped\n",
            "Fitting ICA to data using 32 channels (please be patient, this may take a while)\n"
          ]
        },
        {
          "name": "stderr",
          "output_type": "stream",
          "text": [
            "<ipython-input-25-ceac70ad00ab>:29: RuntimeWarning: The data has not been high-pass filtered. For good ICA performance, it should be high-pass filtered (e.g., with a 1.0 Hz lower bound) before fitting ICA.\n",
            "  ica.fit(epochs)\n"
          ]
        },
        {
          "name": "stdout",
          "output_type": "stream",
          "text": [
            "Selecting by number: 32 components\n",
            "Fitting ICA took 23.7s.\n",
            "Applying ICA to Epochs instance\n",
            "    Transforming to ICA space (32 components)\n",
            "    Zeroing out 0 ICA components\n",
            "    Projecting back using 32 PCA components\n"
          ]
        },
        {
          "name": "stderr",
          "output_type": "stream",
          "text": [
            "<ipython-input-25-ceac70ad00ab>:30: FutureWarning: The current default of copy=False will change to copy=True in 1.7. Set the value of copy explicitly to avoid this warning\n",
            "  features = ica.apply(epochs.copy()).get_data()\n",
            "Processing 1 data: 100%|██████████| 1/1 [01:08<00:00, 68.15s/it]\n",
            "Processing 1 data:   0%|          | 0/1 [00:00<?, ?it/s]"
          ]
        },
        {
          "name": "stdout",
          "output_type": "stream",
          "text": [
            "Extracting EDF parameters from /content/drive/MyDrive/GP/GP-Data/Ischaemia/P16_TD1.bdf...\n",
            "BDF file detected\n",
            "Setting channel info structure...\n",
            "Creating raw.info structure...\n",
            "Reading 0 ... 11698175  =      0.000 ...   714.000 secs...\n",
            "Trigger channel Status has a non-zero initial value of {initial_value} (consider using initial_event=True to detect this event)\n",
            "22482 events found on stim channel Status\n",
            "Event IDs: [65281 65284 65285 65296 65297 65301 65304 65305 65309 65311]\n"
          ]
        },
        {
          "name": "stderr",
          "output_type": "stream",
          "text": [
            "<ipython-input-25-ceac70ad00ab>:16: RuntimeWarning: Fiducial point nasion not found, assuming identity unknown to head transformation\n",
            "  raw.set_montage(custom_montage)\n"
          ]
        },
        {
          "name": "stdout",
          "output_type": "stream",
          "text": [
            "Trigger channel Status has a non-zero initial value of {initial_value} (consider using initial_event=True to detect this event)\n",
            "2884 events found on stim channel Status\n",
            "Event IDs: [65281 65282 65296 65297]\n",
            "Not setting metadata\n",
            "145 matching events found\n",
            "No baseline correction applied\n",
            "0 projection items activated\n",
            "Using data from preloaded Raw for 145 events and 1251 original time points ...\n",
            "0 bad epochs dropped\n",
            "Fitting ICA to data using 32 channels (please be patient, this may take a while)\n"
          ]
        },
        {
          "name": "stderr",
          "output_type": "stream",
          "text": [
            "<ipython-input-25-ceac70ad00ab>:29: RuntimeWarning: The data has not been high-pass filtered. For good ICA performance, it should be high-pass filtered (e.g., with a 1.0 Hz lower bound) before fitting ICA.\n",
            "  ica.fit(epochs)\n"
          ]
        },
        {
          "name": "stdout",
          "output_type": "stream",
          "text": [
            "Selecting by number: 32 components\n",
            "Fitting ICA took 28.2s.\n",
            "Applying ICA to Epochs instance\n",
            "    Transforming to ICA space (32 components)\n",
            "    Zeroing out 0 ICA components\n",
            "    Projecting back using 32 PCA components\n"
          ]
        },
        {
          "name": "stderr",
          "output_type": "stream",
          "text": [
            "<ipython-input-25-ceac70ad00ab>:30: FutureWarning: The current default of copy=False will change to copy=True in 1.7. Set the value of copy explicitly to avoid this warning\n",
            "  features = ica.apply(epochs.copy()).get_data()\n",
            "Processing 1 data: 100%|██████████| 1/1 [01:16<00:00, 76.97s/it]\n",
            "Processing 1 data:   0%|          | 0/1 [00:00<?, ?it/s]"
          ]
        },
        {
          "name": "stdout",
          "output_type": "stream",
          "text": [
            "Extracting EDF parameters from /content/drive/MyDrive/GP/GP-Data/Ischaemia/P19a_TD1.bdf...\n",
            "BDF file detected\n",
            "Setting channel info structure...\n",
            "Creating raw.info structure...\n",
            "Reading 0 ... 11649023  =      0.000 ...   711.000 secs...\n"
          ]
        },
        {
          "name": "stderr",
          "output_type": "stream",
          "text": [
            "<ipython-input-25-ceac70ad00ab>:16: RuntimeWarning: Fiducial point nasion not found, assuming identity unknown to head transformation\n",
            "  raw.set_montage(custom_montage)\n"
          ]
        },
        {
          "name": "stdout",
          "output_type": "stream",
          "text": [
            "Trigger channel Status has a non-zero initial value of {initial_value} (consider using initial_event=True to detect this event)\n",
            "22475 events found on stim channel Status\n",
            "Event IDs: [65281 65284 65296 65297 65301 65304 65305 65309 65311]\n",
            "Trigger channel Status has a non-zero initial value of {initial_value} (consider using initial_event=True to detect this event)\n",
            "2791 events found on stim channel Status\n",
            "Event IDs: [65281 65296 65297]\n",
            "Not setting metadata\n",
            "145 matching events found\n",
            "No baseline correction applied\n",
            "0 projection items activated\n",
            "Using data from preloaded Raw for 145 events and 1251 original time points ...\n",
            "0 bad epochs dropped\n",
            "Fitting ICA to data using 32 channels (please be patient, this may take a while)\n"
          ]
        },
        {
          "name": "stderr",
          "output_type": "stream",
          "text": [
            "<ipython-input-25-ceac70ad00ab>:29: RuntimeWarning: The data has not been high-pass filtered. For good ICA performance, it should be high-pass filtered (e.g., with a 1.0 Hz lower bound) before fitting ICA.\n",
            "  ica.fit(epochs)\n"
          ]
        },
        {
          "name": "stdout",
          "output_type": "stream",
          "text": [
            "Selecting by number: 32 components\n",
            "Fitting ICA took 23.8s.\n",
            "Applying ICA to Epochs instance\n",
            "    Transforming to ICA space (32 components)\n",
            "    Zeroing out 0 ICA components\n",
            "    Projecting back using 32 PCA components\n"
          ]
        },
        {
          "name": "stderr",
          "output_type": "stream",
          "text": [
            "<ipython-input-25-ceac70ad00ab>:30: FutureWarning: The current default of copy=False will change to copy=True in 1.7. Set the value of copy explicitly to avoid this warning\n",
            "  features = ica.apply(epochs.copy()).get_data()\n",
            "Processing 1 data: 100%|██████████| 1/1 [01:13<00:00, 73.80s/it]\n",
            "Processing 1 data:   0%|          | 0/1 [00:00<?, ?it/s]"
          ]
        },
        {
          "name": "stdout",
          "output_type": "stream",
          "text": [
            "Extracting EDF parameters from /content/drive/MyDrive/GP/GP-Data/Ischaemia/P18_TD1.bdf...\n",
            "BDF file detected\n",
            "Setting channel info structure...\n",
            "Creating raw.info structure...\n",
            "Reading 0 ... 11681791  =      0.000 ...   713.000 secs...\n"
          ]
        },
        {
          "name": "stderr",
          "output_type": "stream",
          "text": [
            "<ipython-input-25-ceac70ad00ab>:16: RuntimeWarning: Fiducial point nasion not found, assuming identity unknown to head transformation\n",
            "  raw.set_montage(custom_montage)\n"
          ]
        },
        {
          "name": "stdout",
          "output_type": "stream",
          "text": [
            "Trigger channel Status has a non-zero initial value of {initial_value} (consider using initial_event=True to detect this event)\n",
            "22481 events found on stim channel Status\n",
            "Event IDs: [65281 65284 65296 65297 65301 65304 65305 65309 65311]\n",
            "Trigger channel Status has a non-zero initial value of {initial_value} (consider using initial_event=True to detect this event)\n",
            "2918 events found on stim channel Status\n",
            "Event IDs: [65281 65296 65297 65311]\n",
            "Not setting metadata\n",
            "145 matching events found\n",
            "No baseline correction applied\n",
            "0 projection items activated\n",
            "Using data from preloaded Raw for 145 events and 1251 original time points ...\n",
            "0 bad epochs dropped\n",
            "Fitting ICA to data using 32 channels (please be patient, this may take a while)\n"
          ]
        },
        {
          "name": "stderr",
          "output_type": "stream",
          "text": [
            "<ipython-input-25-ceac70ad00ab>:29: RuntimeWarning: The data has not been high-pass filtered. For good ICA performance, it should be high-pass filtered (e.g., with a 1.0 Hz lower bound) before fitting ICA.\n",
            "  ica.fit(epochs)\n"
          ]
        },
        {
          "name": "stdout",
          "output_type": "stream",
          "text": [
            "Selecting by number: 32 components\n",
            "Fitting ICA took 18.8s.\n",
            "Applying ICA to Epochs instance\n",
            "    Transforming to ICA space (32 components)\n",
            "    Zeroing out 0 ICA components\n",
            "    Projecting back using 32 PCA components\n"
          ]
        },
        {
          "name": "stderr",
          "output_type": "stream",
          "text": [
            "<ipython-input-25-ceac70ad00ab>:30: FutureWarning: The current default of copy=False will change to copy=True in 1.7. Set the value of copy explicitly to avoid this warning\n",
            "  features = ica.apply(epochs.copy()).get_data()\n",
            "Processing 1 data: 100%|██████████| 1/1 [01:04<00:00, 64.87s/it]\n",
            "Processing 1 data:   0%|          | 0/1 [00:00<?, ?it/s]"
          ]
        },
        {
          "name": "stdout",
          "output_type": "stream",
          "text": [
            "Extracting EDF parameters from /content/drive/MyDrive/GP/GP-Data/Ischaemia/P19b_TD1.bdf...\n",
            "BDF file detected\n",
            "Setting channel info structure...\n",
            "Creating raw.info structure...\n",
            "Reading 0 ... 11616255  =      0.000 ...   709.000 secs...\n",
            "Trigger channel Status has a non-zero initial value of {initial_value} (consider using initial_event=True to detect this event)\n",
            "22497 events found on stim channel Status\n",
            "Event IDs: [65281 65284 65292 65296 65297 65301 65304 65305 65309 65311]\n"
          ]
        },
        {
          "name": "stderr",
          "output_type": "stream",
          "text": [
            "<ipython-input-25-ceac70ad00ab>:16: RuntimeWarning: Fiducial point nasion not found, assuming identity unknown to head transformation\n",
            "  raw.set_montage(custom_montage)\n"
          ]
        },
        {
          "name": "stdout",
          "output_type": "stream",
          "text": [
            "Trigger channel Status has a non-zero initial value of {initial_value} (consider using initial_event=True to detect this event)\n",
            "2932 events found on stim channel Status\n",
            "Event IDs: [65281 65296 65297 65309]\n",
            "Not setting metadata\n",
            "144 matching events found\n",
            "No baseline correction applied\n",
            "0 projection items activated\n",
            "Using data from preloaded Raw for 144 events and 1251 original time points ...\n",
            "0 bad epochs dropped\n",
            "Fitting ICA to data using 32 channels (please be patient, this may take a while)\n"
          ]
        },
        {
          "name": "stderr",
          "output_type": "stream",
          "text": [
            "<ipython-input-25-ceac70ad00ab>:29: RuntimeWarning: The data has not been high-pass filtered. For good ICA performance, it should be high-pass filtered (e.g., with a 1.0 Hz lower bound) before fitting ICA.\n",
            "  ica.fit(epochs)\n"
          ]
        },
        {
          "name": "stdout",
          "output_type": "stream",
          "text": [
            "Selecting by number: 32 components\n",
            "Fitting ICA took 16.9s.\n",
            "Applying ICA to Epochs instance\n",
            "    Transforming to ICA space (32 components)\n",
            "    Zeroing out 0 ICA components\n",
            "    Projecting back using 32 PCA components\n"
          ]
        },
        {
          "name": "stderr",
          "output_type": "stream",
          "text": [
            "<ipython-input-25-ceac70ad00ab>:30: FutureWarning: The current default of copy=False will change to copy=True in 1.7. Set the value of copy explicitly to avoid this warning\n",
            "  features = ica.apply(epochs.copy()).get_data()\n",
            "Processing 1 data: 100%|██████████| 1/1 [00:59<00:00, 59.74s/it]\n",
            "Processing 1 data:   0%|          | 0/1 [00:00<?, ?it/s]"
          ]
        },
        {
          "name": "stdout",
          "output_type": "stream",
          "text": [
            "Extracting EDF parameters from /content/drive/MyDrive/GP/GP-Data/Ischaemia/P25a_TD1.bdf...\n",
            "BDF file detected\n",
            "Setting channel info structure...\n",
            "Creating raw.info structure...\n",
            "Reading 0 ... 11747327  =      0.000 ...   717.000 secs...\n",
            "Trigger channel Status has a non-zero initial value of {initial_value} (consider using initial_event=True to detect this event)\n",
            "22479 events found on stim channel Status\n",
            "Event IDs: [65281 65284 65296 65297 65301 65304 65305 65309 65311]\n"
          ]
        },
        {
          "name": "stderr",
          "output_type": "stream",
          "text": [
            "<ipython-input-25-ceac70ad00ab>:16: RuntimeWarning: Fiducial point nasion not found, assuming identity unknown to head transformation\n",
            "  raw.set_montage(custom_montage)\n"
          ]
        },
        {
          "name": "stdout",
          "output_type": "stream",
          "text": [
            "Trigger channel Status has a non-zero initial value of {initial_value} (consider using initial_event=True to detect this event)\n",
            "2848 events found on stim channel Status\n",
            "Event IDs: [65281 65282 65296 65297]\n",
            "Not setting metadata\n",
            "146 matching events found\n",
            "No baseline correction applied\n",
            "0 projection items activated\n",
            "Using data from preloaded Raw for 146 events and 1251 original time points ...\n",
            "0 bad epochs dropped\n",
            "Fitting ICA to data using 32 channels (please be patient, this may take a while)\n"
          ]
        },
        {
          "name": "stderr",
          "output_type": "stream",
          "text": [
            "<ipython-input-25-ceac70ad00ab>:29: RuntimeWarning: The data has not been high-pass filtered. For good ICA performance, it should be high-pass filtered (e.g., with a 1.0 Hz lower bound) before fitting ICA.\n",
            "  ica.fit(epochs)\n"
          ]
        },
        {
          "name": "stdout",
          "output_type": "stream",
          "text": [
            "Selecting by number: 32 components\n",
            "Fitting ICA took 20.1s.\n",
            "Applying ICA to Epochs instance\n",
            "    Transforming to ICA space (32 components)\n",
            "    Zeroing out 0 ICA components\n",
            "    Projecting back using 32 PCA components\n"
          ]
        },
        {
          "name": "stderr",
          "output_type": "stream",
          "text": [
            "<ipython-input-25-ceac70ad00ab>:30: FutureWarning: The current default of copy=False will change to copy=True in 1.7. Set the value of copy explicitly to avoid this warning\n",
            "  features = ica.apply(epochs.copy()).get_data()\n",
            "Processing 1 data: 100%|██████████| 1/1 [01:03<00:00, 63.56s/it]\n",
            "Processing 1 data:   0%|          | 0/1 [00:00<?, ?it/s]"
          ]
        },
        {
          "name": "stdout",
          "output_type": "stream",
          "text": [
            "Extracting EDF parameters from /content/drive/MyDrive/GP/GP-Data/Ischaemia/P25b_TD1.bdf...\n",
            "BDF file detected\n",
            "Setting channel info structure...\n",
            "Creating raw.info structure...\n",
            "Reading 0 ... 11649023  =      0.000 ...   711.000 secs...\n"
          ]
        },
        {
          "name": "stderr",
          "output_type": "stream",
          "text": [
            "<ipython-input-25-ceac70ad00ab>:16: RuntimeWarning: Fiducial point nasion not found, assuming identity unknown to head transformation\n",
            "  raw.set_montage(custom_montage)\n"
          ]
        },
        {
          "name": "stdout",
          "output_type": "stream",
          "text": [
            "Trigger channel Status has a non-zero initial value of {initial_value} (consider using initial_event=True to detect this event)\n",
            "22486 events found on stim channel Status\n",
            "Event IDs: [65281 65284 65296 65297 65301 65304 65305 65309 65311]\n",
            "Trigger channel Status has a non-zero initial value of {initial_value} (consider using initial_event=True to detect this event)\n",
            "2876 events found on stim channel Status\n",
            "Event IDs: [65281 65296 65297]\n",
            "Not setting metadata\n",
            "145 matching events found\n",
            "No baseline correction applied\n",
            "0 projection items activated\n",
            "Using data from preloaded Raw for 145 events and 1251 original time points ...\n",
            "0 bad epochs dropped\n",
            "Fitting ICA to data using 32 channels (please be patient, this may take a while)\n"
          ]
        },
        {
          "name": "stderr",
          "output_type": "stream",
          "text": [
            "<ipython-input-25-ceac70ad00ab>:29: RuntimeWarning: The data has not been high-pass filtered. For good ICA performance, it should be high-pass filtered (e.g., with a 1.0 Hz lower bound) before fitting ICA.\n",
            "  ica.fit(epochs)\n"
          ]
        },
        {
          "name": "stdout",
          "output_type": "stream",
          "text": [
            "Selecting by number: 32 components\n",
            "Fitting ICA took 23.4s.\n",
            "Applying ICA to Epochs instance\n",
            "    Transforming to ICA space (32 components)\n",
            "    Zeroing out 0 ICA components\n",
            "    Projecting back using 32 PCA components\n"
          ]
        },
        {
          "name": "stderr",
          "output_type": "stream",
          "text": [
            "<ipython-input-25-ceac70ad00ab>:30: FutureWarning: The current default of copy=False will change to copy=True in 1.7. Set the value of copy explicitly to avoid this warning\n",
            "  features = ica.apply(epochs.copy()).get_data()\n",
            "Processing 1 data: 100%|██████████| 1/1 [01:07<00:00, 67.80s/it]\n",
            "Processing 1 data:   0%|          | 0/1 [00:00<?, ?it/s]"
          ]
        },
        {
          "name": "stdout",
          "output_type": "stream",
          "text": [
            "Extracting EDF parameters from /content/drive/MyDrive/GP/GP-Data/Ischaemia/P26_TD1.bdf...\n",
            "BDF file detected\n",
            "Setting channel info structure...\n",
            "Creating raw.info structure...\n",
            "Reading 0 ... 12206079  =      0.000 ...   745.000 secs...\n",
            "Trigger channel Status has a non-zero initial value of {initial_value} (consider using initial_event=True to detect this event)\n",
            "22481 events found on stim channel Status\n"
          ]
        },
        {
          "name": "stderr",
          "output_type": "stream",
          "text": [
            "<ipython-input-25-ceac70ad00ab>:16: RuntimeWarning: Fiducial point nasion not found, assuming identity unknown to head transformation\n",
            "  raw.set_montage(custom_montage)\n"
          ]
        },
        {
          "name": "stdout",
          "output_type": "stream",
          "text": [
            "Event IDs: [65281 65282 65284 65296 65297 65301 65304 65305 65309 65311]\n",
            "Trigger channel Status has a non-zero initial value of {initial_value} (consider using initial_event=True to detect this event)\n",
            "2864 events found on stim channel Status\n",
            "Event IDs: [65281 65296 65297 65309]\n",
            "Not setting metadata\n",
            "152 matching events found\n",
            "No baseline correction applied\n",
            "0 projection items activated\n",
            "Using data from preloaded Raw for 152 events and 1251 original time points ...\n",
            "0 bad epochs dropped\n",
            "Fitting ICA to data using 32 channels (please be patient, this may take a while)\n"
          ]
        },
        {
          "name": "stderr",
          "output_type": "stream",
          "text": [
            "<ipython-input-25-ceac70ad00ab>:29: RuntimeWarning: The data has not been high-pass filtered. For good ICA performance, it should be high-pass filtered (e.g., with a 1.0 Hz lower bound) before fitting ICA.\n",
            "  ica.fit(epochs)\n"
          ]
        },
        {
          "name": "stdout",
          "output_type": "stream",
          "text": [
            "Selecting by number: 32 components\n",
            "Fitting ICA took 16.6s.\n",
            "Applying ICA to Epochs instance\n",
            "    Transforming to ICA space (32 components)\n",
            "    Zeroing out 0 ICA components\n",
            "    Projecting back using 32 PCA components\n"
          ]
        },
        {
          "name": "stderr",
          "output_type": "stream",
          "text": [
            "<ipython-input-25-ceac70ad00ab>:30: FutureWarning: The current default of copy=False will change to copy=True in 1.7. Set the value of copy explicitly to avoid this warning\n",
            "  features = ica.apply(epochs.copy()).get_data()\n",
            "Processing 1 data: 100%|██████████| 1/1 [01:02<00:00, 62.08s/it]\n",
            "Processing 2 data:   0%|          | 0/1 [00:00<?, ?it/s]"
          ]
        },
        {
          "name": "stdout",
          "output_type": "stream",
          "text": [
            "Extracting EDF parameters from /content/drive/MyDrive/GP/GP-Data/Subjects/S1a_TD1.bdf...\n",
            "BDF file detected\n",
            "Setting channel info structure...\n",
            "Creating raw.info structure...\n",
            "Reading 0 ... 12042239  =      0.000 ...   735.000 secs...\n",
            "Trigger channel Status has a non-zero initial value of {initial_value} (consider using initial_event=True to detect this event)\n",
            "22474 events found on stim channel Status\n",
            "Event IDs: [65281 65284 65296 65297 65301 65304 65305 65309 65311]\n"
          ]
        },
        {
          "name": "stderr",
          "output_type": "stream",
          "text": [
            "<ipython-input-25-ceac70ad00ab>:16: RuntimeWarning: Fiducial point nasion not found, assuming identity unknown to head transformation\n",
            "  raw.set_montage(custom_montage)\n"
          ]
        },
        {
          "name": "stdout",
          "output_type": "stream",
          "text": [
            "Trigger channel Status has a non-zero initial value of {initial_value} (consider using initial_event=True to detect this event)\n",
            "2844 events found on stim channel Status\n",
            "Event IDs: [65281 65296 65297 65309]\n",
            "Not setting metadata\n",
            "149 matching events found\n",
            "No baseline correction applied\n",
            "0 projection items activated\n",
            "Using data from preloaded Raw for 149 events and 1251 original time points ...\n",
            "0 bad epochs dropped\n",
            "Fitting ICA to data using 32 channels (please be patient, this may take a while)\n"
          ]
        },
        {
          "name": "stderr",
          "output_type": "stream",
          "text": [
            "<ipython-input-25-ceac70ad00ab>:29: RuntimeWarning: The data has not been high-pass filtered. For good ICA performance, it should be high-pass filtered (e.g., with a 1.0 Hz lower bound) before fitting ICA.\n",
            "  ica.fit(epochs)\n"
          ]
        },
        {
          "name": "stdout",
          "output_type": "stream",
          "text": [
            "Selecting by number: 32 components\n",
            "Fitting ICA took 20.5s.\n",
            "Applying ICA to Epochs instance\n",
            "    Transforming to ICA space (32 components)\n",
            "    Zeroing out 0 ICA components\n",
            "    Projecting back using 32 PCA components\n"
          ]
        },
        {
          "name": "stderr",
          "output_type": "stream",
          "text": [
            "<ipython-input-25-ceac70ad00ab>:30: FutureWarning: The current default of copy=False will change to copy=True in 1.7. Set the value of copy explicitly to avoid this warning\n",
            "  features = ica.apply(epochs.copy()).get_data()\n",
            "Processing 2 data: 100%|██████████| 1/1 [01:04<00:00, 64.39s/it]\n",
            "Processing 2 data:   0%|          | 0/1 [00:00<?, ?it/s]"
          ]
        },
        {
          "name": "stdout",
          "output_type": "stream",
          "text": [
            "Extracting EDF parameters from /content/drive/MyDrive/GP/GP-Data/Subjects/S2a_TD1.bdf...\n",
            "BDF file detected\n",
            "Setting channel info structure...\n",
            "Creating raw.info structure...\n",
            "Reading 0 ... 11665407  =      0.000 ...   712.000 secs...\n",
            "Trigger channel Status has a non-zero initial value of {initial_value} (consider using initial_event=True to detect this event)\n",
            "22477 events found on stim channel Status\n",
            "Event IDs: [65281 65282 65284 65295 65296 65297 65301 65304 65305 65309 65311]\n"
          ]
        },
        {
          "name": "stderr",
          "output_type": "stream",
          "text": [
            "<ipython-input-25-ceac70ad00ab>:16: RuntimeWarning: Fiducial point nasion not found, assuming identity unknown to head transformation\n",
            "  raw.set_montage(custom_montage)\n"
          ]
        },
        {
          "name": "stdout",
          "output_type": "stream",
          "text": [
            "Trigger channel Status has a non-zero initial value of {initial_value} (consider using initial_event=True to detect this event)\n",
            "2895 events found on stim channel Status\n",
            "Event IDs: [65281 65296 65297 65305]\n",
            "Not setting metadata\n",
            "145 matching events found\n",
            "No baseline correction applied\n",
            "0 projection items activated\n",
            "Using data from preloaded Raw for 145 events and 1251 original time points ...\n",
            "0 bad epochs dropped\n",
            "Fitting ICA to data using 32 channels (please be patient, this may take a while)\n"
          ]
        },
        {
          "name": "stderr",
          "output_type": "stream",
          "text": [
            "<ipython-input-25-ceac70ad00ab>:29: RuntimeWarning: The data has not been high-pass filtered. For good ICA performance, it should be high-pass filtered (e.g., with a 1.0 Hz lower bound) before fitting ICA.\n",
            "  ica.fit(epochs)\n"
          ]
        },
        {
          "name": "stdout",
          "output_type": "stream",
          "text": [
            "Selecting by number: 32 components\n",
            "Fitting ICA took 25.4s.\n",
            "Applying ICA to Epochs instance\n",
            "    Transforming to ICA space (32 components)\n",
            "    Zeroing out 0 ICA components\n",
            "    Projecting back using 32 PCA components\n"
          ]
        },
        {
          "name": "stderr",
          "output_type": "stream",
          "text": [
            "<ipython-input-25-ceac70ad00ab>:30: FutureWarning: The current default of copy=False will change to copy=True in 1.7. Set the value of copy explicitly to avoid this warning\n",
            "  features = ica.apply(epochs.copy()).get_data()\n",
            "Processing 2 data: 100%|██████████| 1/1 [01:08<00:00, 68.76s/it]\n",
            "Processing 2 data:   0%|          | 0/1 [00:00<?, ?it/s]"
          ]
        },
        {
          "name": "stdout",
          "output_type": "stream",
          "text": [
            "Extracting EDF parameters from /content/drive/MyDrive/GP/GP-Data/Subjects/S1b_TD1.bdf...\n",
            "BDF file detected\n",
            "Setting channel info structure...\n",
            "Creating raw.info structure...\n",
            "Reading 0 ... 12746751  =      0.000 ...   778.000 secs...\n",
            "Trigger channel Status has a non-zero initial value of {initial_value} (consider using initial_event=True to detect this event)\n"
          ]
        },
        {
          "name": "stderr",
          "output_type": "stream",
          "text": [
            "<ipython-input-25-ceac70ad00ab>:16: RuntimeWarning: Fiducial point nasion not found, assuming identity unknown to head transformation\n",
            "  raw.set_montage(custom_montage)\n"
          ]
        },
        {
          "name": "stdout",
          "output_type": "stream",
          "text": [
            "22479 events found on stim channel Status\n",
            "Event IDs: [65281 65284 65296 65297 65301 65304 65305 65309 65311]\n",
            "Trigger channel Status has a non-zero initial value of {initial_value} (consider using initial_event=True to detect this event)\n",
            "2867 events found on stim channel Status\n",
            "Event IDs: [65281 65296 65297 65304 65309]\n",
            "Not setting metadata\n",
            "158 matching events found\n",
            "No baseline correction applied\n",
            "0 projection items activated\n",
            "Using data from preloaded Raw for 158 events and 1251 original time points ...\n",
            "0 bad epochs dropped\n",
            "Fitting ICA to data using 32 channels (please be patient, this may take a while)\n"
          ]
        },
        {
          "name": "stderr",
          "output_type": "stream",
          "text": [
            "<ipython-input-25-ceac70ad00ab>:29: RuntimeWarning: The data has not been high-pass filtered. For good ICA performance, it should be high-pass filtered (e.g., with a 1.0 Hz lower bound) before fitting ICA.\n",
            "  ica.fit(epochs)\n"
          ]
        },
        {
          "name": "stdout",
          "output_type": "stream",
          "text": [
            "Selecting by number: 32 components\n",
            "Fitting ICA took 40.6s.\n",
            "Applying ICA to Epochs instance\n",
            "    Transforming to ICA space (32 components)\n",
            "    Zeroing out 0 ICA components\n",
            "    Projecting back using 32 PCA components\n"
          ]
        },
        {
          "name": "stderr",
          "output_type": "stream",
          "text": [
            "<ipython-input-25-ceac70ad00ab>:30: FutureWarning: The current default of copy=False will change to copy=True in 1.7. Set the value of copy explicitly to avoid this warning\n",
            "  features = ica.apply(epochs.copy()).get_data()\n",
            "Processing 2 data: 100%|██████████| 1/1 [01:26<00:00, 86.43s/it]\n",
            "Processing 2 data:   0%|          | 0/1 [00:00<?, ?it/s]"
          ]
        },
        {
          "name": "stdout",
          "output_type": "stream",
          "text": [
            "Extracting EDF parameters from /content/drive/MyDrive/GP/GP-Data/Subjects/S3a_TD1.bdf...\n",
            "BDF file detected\n",
            "Setting channel info structure...\n",
            "Creating raw.info structure...\n",
            "Reading 0 ... 11665407  =      0.000 ...   712.000 secs...\n"
          ]
        },
        {
          "name": "stderr",
          "output_type": "stream",
          "text": [
            "<ipython-input-25-ceac70ad00ab>:16: RuntimeWarning: Fiducial point nasion not found, assuming identity unknown to head transformation\n",
            "  raw.set_montage(custom_montage)\n"
          ]
        },
        {
          "name": "stdout",
          "output_type": "stream",
          "text": [
            "Trigger channel Status has a non-zero initial value of {initial_value} (consider using initial_event=True to detect this event)\n",
            "22485 events found on stim channel Status\n",
            "Event IDs: [65281 65284 65292 65296 65297 65301 65304 65305 65309 65311]\n",
            "Trigger channel Status has a non-zero initial value of {initial_value} (consider using initial_event=True to detect this event)\n",
            "2802 events found on stim channel Status\n",
            "Event IDs: [65281 65292 65296 65297]\n",
            "Not setting metadata\n",
            "145 matching events found\n",
            "No baseline correction applied\n",
            "0 projection items activated\n",
            "Using data from preloaded Raw for 145 events and 1251 original time points ...\n",
            "0 bad epochs dropped\n",
            "Fitting ICA to data using 32 channels (please be patient, this may take a while)\n"
          ]
        },
        {
          "name": "stderr",
          "output_type": "stream",
          "text": [
            "<ipython-input-25-ceac70ad00ab>:29: RuntimeWarning: The data has not been high-pass filtered. For good ICA performance, it should be high-pass filtered (e.g., with a 1.0 Hz lower bound) before fitting ICA.\n",
            "  ica.fit(epochs)\n"
          ]
        },
        {
          "name": "stdout",
          "output_type": "stream",
          "text": [
            "Selecting by number: 32 components\n",
            "Fitting ICA took 15.6s.\n",
            "Applying ICA to Epochs instance\n",
            "    Transforming to ICA space (32 components)\n",
            "    Zeroing out 0 ICA components\n",
            "    Projecting back using 32 PCA components\n"
          ]
        },
        {
          "name": "stderr",
          "output_type": "stream",
          "text": [
            "<ipython-input-25-ceac70ad00ab>:30: FutureWarning: The current default of copy=False will change to copy=True in 1.7. Set the value of copy explicitly to avoid this warning\n",
            "  features = ica.apply(epochs.copy()).get_data()\n",
            "Processing 2 data: 100%|██████████| 1/1 [01:12<00:00, 72.30s/it]\n",
            "Processing 2 data:   0%|          | 0/1 [00:00<?, ?it/s]"
          ]
        },
        {
          "name": "stdout",
          "output_type": "stream",
          "text": [
            "Extracting EDF parameters from /content/drive/MyDrive/GP/GP-Data/Subjects/S3b_TD1.bdf...\n",
            "BDF file detected\n",
            "Setting channel info structure...\n",
            "Creating raw.info structure...\n",
            "Reading 0 ... 11632639  =      0.000 ...   710.000 secs...\n",
            "Trigger channel Status has a non-zero initial value of {initial_value} (consider using initial_event=True to detect this event)\n",
            "22489 events found on stim channel Status\n",
            "Event IDs: [65281 65282 65284 65296 65297 65301 65304 65305 65309 65311]\n"
          ]
        },
        {
          "name": "stderr",
          "output_type": "stream",
          "text": [
            "<ipython-input-25-ceac70ad00ab>:16: RuntimeWarning: Fiducial point nasion not found, assuming identity unknown to head transformation\n",
            "  raw.set_montage(custom_montage)\n"
          ]
        },
        {
          "name": "stdout",
          "output_type": "stream",
          "text": [
            "Trigger channel Status has a non-zero initial value of {initial_value} (consider using initial_event=True to detect this event)\n",
            "2857 events found on stim channel Status\n",
            "Event IDs: [65281 65296 65297 65309]\n",
            "Not setting metadata\n",
            "144 matching events found\n",
            "No baseline correction applied\n",
            "0 projection items activated\n",
            "Using data from preloaded Raw for 144 events and 1251 original time points ...\n",
            "0 bad epochs dropped\n",
            "Fitting ICA to data using 32 channels (please be patient, this may take a while)\n"
          ]
        },
        {
          "name": "stderr",
          "output_type": "stream",
          "text": [
            "<ipython-input-25-ceac70ad00ab>:29: RuntimeWarning: The data has not been high-pass filtered. For good ICA performance, it should be high-pass filtered (e.g., with a 1.0 Hz lower bound) before fitting ICA.\n",
            "  ica.fit(epochs)\n"
          ]
        },
        {
          "name": "stdout",
          "output_type": "stream",
          "text": [
            "Selecting by number: 32 components\n",
            "Fitting ICA took 17.6s.\n",
            "Applying ICA to Epochs instance\n",
            "    Transforming to ICA space (32 components)\n",
            "    Zeroing out 0 ICA components\n",
            "    Projecting back using 32 PCA components\n"
          ]
        },
        {
          "name": "stderr",
          "output_type": "stream",
          "text": [
            "<ipython-input-25-ceac70ad00ab>:30: FutureWarning: The current default of copy=False will change to copy=True in 1.7. Set the value of copy explicitly to avoid this warning\n",
            "  features = ica.apply(epochs.copy()).get_data()\n",
            "Processing 2 data: 100%|██████████| 1/1 [01:04<00:00, 64.09s/it]\n",
            "Processing 2 data:   0%|          | 0/1 [00:00<?, ?it/s]"
          ]
        },
        {
          "name": "stdout",
          "output_type": "stream",
          "text": [
            "Extracting EDF parameters from /content/drive/MyDrive/GP/GP-Data/Subjects/S4a_TD2.bdf...\n",
            "BDF file detected\n",
            "Setting channel info structure...\n",
            "Creating raw.info structure...\n",
            "Reading 0 ... 11616255  =      0.000 ...   709.000 secs...\n",
            "Trigger channel Status has a non-zero initial value of {initial_value} (consider using initial_event=True to detect this event)\n",
            "22477 events found on stim channel Status\n",
            "Event IDs: [65281 65282 65284 65296 65297 65301 65304 65305 65309 65311]\n"
          ]
        },
        {
          "name": "stderr",
          "output_type": "stream",
          "text": [
            "<ipython-input-25-ceac70ad00ab>:16: RuntimeWarning: Fiducial point nasion not found, assuming identity unknown to head transformation\n",
            "  raw.set_montage(custom_montage)\n"
          ]
        },
        {
          "name": "stdout",
          "output_type": "stream",
          "text": [
            "Trigger channel Status has a non-zero initial value of {initial_value} (consider using initial_event=True to detect this event)\n",
            "2800 events found on stim channel Status\n",
            "Event IDs: [65281 65296 65297 65311]\n",
            "Not setting metadata\n",
            "144 matching events found\n",
            "No baseline correction applied\n",
            "0 projection items activated\n",
            "Using data from preloaded Raw for 144 events and 1251 original time points ...\n",
            "0 bad epochs dropped\n",
            "Fitting ICA to data using 32 channels (please be patient, this may take a while)\n"
          ]
        },
        {
          "name": "stderr",
          "output_type": "stream",
          "text": [
            "<ipython-input-25-ceac70ad00ab>:29: RuntimeWarning: The data has not been high-pass filtered. For good ICA performance, it should be high-pass filtered (e.g., with a 1.0 Hz lower bound) before fitting ICA.\n",
            "  ica.fit(epochs)\n"
          ]
        },
        {
          "name": "stdout",
          "output_type": "stream",
          "text": [
            "Selecting by number: 32 components\n",
            "Fitting ICA took 20.3s.\n",
            "Applying ICA to Epochs instance\n",
            "    Transforming to ICA space (32 components)\n",
            "    Zeroing out 0 ICA components\n",
            "    Projecting back using 32 PCA components\n"
          ]
        },
        {
          "name": "stderr",
          "output_type": "stream",
          "text": [
            "<ipython-input-25-ceac70ad00ab>:30: FutureWarning: The current default of copy=False will change to copy=True in 1.7. Set the value of copy explicitly to avoid this warning\n",
            "  features = ica.apply(epochs.copy()).get_data()\n",
            "Processing 2 data: 100%|██████████| 1/1 [01:05<00:00, 65.81s/it]\n",
            "Processing 2 data:   0%|          | 0/1 [00:00<?, ?it/s]"
          ]
        },
        {
          "name": "stdout",
          "output_type": "stream",
          "text": [
            "Extracting EDF parameters from /content/drive/MyDrive/GP/GP-Data/Subjects/S4b_TD1.bdf...\n",
            "BDF file detected\n",
            "Setting channel info structure...\n",
            "Creating raw.info structure...\n",
            "Reading 0 ... 11747327  =      0.000 ...   717.000 secs...\n"
          ]
        },
        {
          "name": "stderr",
          "output_type": "stream",
          "text": [
            "<ipython-input-25-ceac70ad00ab>:16: RuntimeWarning: Fiducial point nasion not found, assuming identity unknown to head transformation\n",
            "  raw.set_montage(custom_montage)\n"
          ]
        },
        {
          "name": "stdout",
          "output_type": "stream",
          "text": [
            "Trigger channel Status has a non-zero initial value of {initial_value} (consider using initial_event=True to detect this event)\n",
            "22479 events found on stim channel Status\n",
            "Event IDs: [65281 65284 65296 65297 65301 65304 65305 65309 65311]\n",
            "Trigger channel Status has a non-zero initial value of {initial_value} (consider using initial_event=True to detect this event)\n",
            "2874 events found on stim channel Status\n",
            "Event IDs: [65281 65296 65297 65301]\n",
            "Not setting metadata\n",
            "146 matching events found\n",
            "No baseline correction applied\n",
            "0 projection items activated\n",
            "Using data from preloaded Raw for 146 events and 1251 original time points ...\n",
            "0 bad epochs dropped\n",
            "Fitting ICA to data using 32 channels (please be patient, this may take a while)\n"
          ]
        },
        {
          "name": "stderr",
          "output_type": "stream",
          "text": [
            "<ipython-input-25-ceac70ad00ab>:29: RuntimeWarning: The data has not been high-pass filtered. For good ICA performance, it should be high-pass filtered (e.g., with a 1.0 Hz lower bound) before fitting ICA.\n",
            "  ica.fit(epochs)\n"
          ]
        },
        {
          "name": "stdout",
          "output_type": "stream",
          "text": [
            "Selecting by number: 32 components\n",
            "Fitting ICA took 27.3s.\n",
            "Applying ICA to Epochs instance\n",
            "    Transforming to ICA space (32 components)\n",
            "    Zeroing out 0 ICA components\n",
            "    Projecting back using 32 PCA components\n"
          ]
        },
        {
          "name": "stderr",
          "output_type": "stream",
          "text": [
            "<ipython-input-25-ceac70ad00ab>:30: FutureWarning: The current default of copy=False will change to copy=True in 1.7. Set the value of copy explicitly to avoid this warning\n",
            "  features = ica.apply(epochs.copy()).get_data()\n",
            "Processing 2 data: 100%|██████████| 1/1 [01:14<00:00, 74.56s/it]\n",
            "Processing 2 data:   0%|          | 0/1 [00:00<?, ?it/s]"
          ]
        },
        {
          "name": "stdout",
          "output_type": "stream",
          "text": [
            "Extracting EDF parameters from /content/drive/MyDrive/GP/GP-Data/Subjects/S5a_TD1.bdf...\n",
            "BDF file detected\n",
            "Setting channel info structure...\n",
            "Creating raw.info structure...\n",
            "Reading 0 ... 11747327  =      0.000 ...   717.000 secs...\n",
            "Trigger channel Status has a non-zero initial value of {initial_value} (consider using initial_event=True to detect this event)\n",
            "22481 events found on stim channel Status\n",
            "Event IDs: [65281 65284 65296 65297 65301 65304 65305 65309 65311]\n"
          ]
        },
        {
          "name": "stderr",
          "output_type": "stream",
          "text": [
            "<ipython-input-25-ceac70ad00ab>:16: RuntimeWarning: Fiducial point nasion not found, assuming identity unknown to head transformation\n",
            "  raw.set_montage(custom_montage)\n"
          ]
        },
        {
          "name": "stdout",
          "output_type": "stream",
          "text": [
            "Trigger channel Status has a non-zero initial value of {initial_value} (consider using initial_event=True to detect this event)\n",
            "2875 events found on stim channel Status\n",
            "Event IDs: [65281 65296 65297 65309]\n",
            "Not setting metadata\n",
            "146 matching events found\n",
            "No baseline correction applied\n",
            "0 projection items activated\n",
            "Using data from preloaded Raw for 146 events and 1251 original time points ...\n",
            "0 bad epochs dropped\n",
            "Fitting ICA to data using 32 channels (please be patient, this may take a while)\n"
          ]
        },
        {
          "name": "stderr",
          "output_type": "stream",
          "text": [
            "<ipython-input-25-ceac70ad00ab>:29: RuntimeWarning: The data has not been high-pass filtered. For good ICA performance, it should be high-pass filtered (e.g., with a 1.0 Hz lower bound) before fitting ICA.\n",
            "  ica.fit(epochs)\n"
          ]
        },
        {
          "name": "stdout",
          "output_type": "stream",
          "text": [
            "Selecting by number: 32 components\n",
            "Fitting ICA took 22.6s.\n",
            "Applying ICA to Epochs instance\n",
            "    Transforming to ICA space (32 components)\n",
            "    Zeroing out 0 ICA components\n",
            "    Projecting back using 32 PCA components\n"
          ]
        },
        {
          "name": "stderr",
          "output_type": "stream",
          "text": [
            "<ipython-input-25-ceac70ad00ab>:30: FutureWarning: The current default of copy=False will change to copy=True in 1.7. Set the value of copy explicitly to avoid this warning\n",
            "  features = ica.apply(epochs.copy()).get_data()\n",
            "Processing 2 data: 100%|██████████| 1/1 [01:07<00:00, 67.08s/it]\n",
            "Processing 2 data:   0%|          | 0/1 [00:00<?, ?it/s]"
          ]
        },
        {
          "name": "stdout",
          "output_type": "stream",
          "text": [
            "Extracting EDF parameters from /content/drive/MyDrive/GP/GP-Data/Subjects/S5b_TD1.bdf...\n",
            "BDF file detected\n",
            "Setting channel info structure...\n",
            "Creating raw.info structure...\n",
            "Reading 0 ... 11665407  =      0.000 ...   712.000 secs...\n",
            "Trigger channel Status has a non-zero initial value of {initial_value} (consider using initial_event=True to detect this event)\n",
            "22485 events found on stim channel Status\n",
            "Event IDs: [65281 65282 65284 65296 65297 65301 65304 65305 65309 65311]\n"
          ]
        },
        {
          "name": "stderr",
          "output_type": "stream",
          "text": [
            "<ipython-input-25-ceac70ad00ab>:16: RuntimeWarning: Fiducial point nasion not found, assuming identity unknown to head transformation\n",
            "  raw.set_montage(custom_montage)\n"
          ]
        },
        {
          "name": "stdout",
          "output_type": "stream",
          "text": [
            "Trigger channel Status has a non-zero initial value of {initial_value} (consider using initial_event=True to detect this event)\n",
            "2831 events found on stim channel Status\n",
            "Event IDs: [65281 65296 65297 65301 65304]\n",
            "Not setting metadata\n",
            "145 matching events found\n",
            "No baseline correction applied\n",
            "0 projection items activated\n",
            "Using data from preloaded Raw for 145 events and 1251 original time points ...\n",
            "0 bad epochs dropped\n",
            "Fitting ICA to data using 32 channels (please be patient, this may take a while)\n"
          ]
        },
        {
          "name": "stderr",
          "output_type": "stream",
          "text": [
            "<ipython-input-25-ceac70ad00ab>:29: RuntimeWarning: The data has not been high-pass filtered. For good ICA performance, it should be high-pass filtered (e.g., with a 1.0 Hz lower bound) before fitting ICA.\n",
            "  ica.fit(epochs)\n"
          ]
        },
        {
          "name": "stdout",
          "output_type": "stream",
          "text": [
            "Selecting by number: 32 components\n",
            "Fitting ICA took 27.1s.\n",
            "Applying ICA to Epochs instance\n",
            "    Transforming to ICA space (32 components)\n",
            "    Zeroing out 0 ICA components\n",
            "    Projecting back using 32 PCA components\n"
          ]
        },
        {
          "name": "stderr",
          "output_type": "stream",
          "text": [
            "<ipython-input-25-ceac70ad00ab>:30: FutureWarning: The current default of copy=False will change to copy=True in 1.7. Set the value of copy explicitly to avoid this warning\n",
            "  features = ica.apply(epochs.copy()).get_data()\n",
            "Processing 2 data: 100%|██████████| 1/1 [01:09<00:00, 69.56s/it]\n",
            "Processing 2 data:   0%|          | 0/1 [00:00<?, ?it/s]"
          ]
        },
        {
          "name": "stdout",
          "output_type": "stream",
          "text": [
            "Extracting EDF parameters from /content/drive/MyDrive/GP/GP-Data/Subjects/S6a_TD1.bdf...\n",
            "BDF file detected\n",
            "Setting channel info structure...\n",
            "Creating raw.info structure...\n",
            "Reading 0 ... 11714559  =      0.000 ...   715.000 secs...\n",
            "Trigger channel Status has a non-zero initial value of {initial_value} (consider using initial_event=True to detect this event)\n",
            "22477 events found on stim channel Status\n",
            "Event IDs: [65281 65284 65296 65297 65301 65304 65305 65309 65311]\n"
          ]
        },
        {
          "name": "stderr",
          "output_type": "stream",
          "text": [
            "<ipython-input-25-ceac70ad00ab>:16: RuntimeWarning: Fiducial point nasion not found, assuming identity unknown to head transformation\n",
            "  raw.set_montage(custom_montage)\n"
          ]
        },
        {
          "name": "stdout",
          "output_type": "stream",
          "text": [
            "Trigger channel Status has a non-zero initial value of {initial_value} (consider using initial_event=True to detect this event)\n",
            "2870 events found on stim channel Status\n",
            "Event IDs: [65281 65282 65296 65297]\n",
            "Not setting metadata\n",
            "145 matching events found\n",
            "No baseline correction applied\n",
            "0 projection items activated\n",
            "Using data from preloaded Raw for 145 events and 1251 original time points ...\n",
            "0 bad epochs dropped\n",
            "Fitting ICA to data using 32 channels (please be patient, this may take a while)\n"
          ]
        },
        {
          "name": "stderr",
          "output_type": "stream",
          "text": [
            "<ipython-input-25-ceac70ad00ab>:29: RuntimeWarning: The data has not been high-pass filtered. For good ICA performance, it should be high-pass filtered (e.g., with a 1.0 Hz lower bound) before fitting ICA.\n",
            "  ica.fit(epochs)\n"
          ]
        },
        {
          "name": "stdout",
          "output_type": "stream",
          "text": [
            "Selecting by number: 32 components\n",
            "Fitting ICA took 27.6s.\n",
            "Applying ICA to Epochs instance\n",
            "    Transforming to ICA space (32 components)\n",
            "    Zeroing out 0 ICA components\n",
            "    Projecting back using 32 PCA components\n"
          ]
        },
        {
          "name": "stderr",
          "output_type": "stream",
          "text": [
            "<ipython-input-25-ceac70ad00ab>:30: FutureWarning: The current default of copy=False will change to copy=True in 1.7. Set the value of copy explicitly to avoid this warning\n",
            "  features = ica.apply(epochs.copy()).get_data()\n",
            "Processing 2 data: 100%|██████████| 1/1 [01:12<00:00, 72.24s/it]\n",
            "Processing 2 data:   0%|          | 0/1 [00:00<?, ?it/s]"
          ]
        },
        {
          "name": "stdout",
          "output_type": "stream",
          "text": [
            "Extracting EDF parameters from /content/drive/MyDrive/GP/GP-Data/Subjects/S6b_TD1.bdf...\n",
            "BDF file detected\n",
            "Setting channel info structure...\n",
            "Creating raw.info structure...\n",
            "Reading 0 ... 11649023  =      0.000 ...   711.000 secs...\n",
            "Trigger channel Status has a non-zero initial value of {initial_value} (consider using initial_event=True to detect this event)\n",
            "22484 events found on stim channel Status\n",
            "Event IDs: [65281 65284 65289 65296 65297 65301 65304 65305 65309 65311]\n"
          ]
        },
        {
          "name": "stderr",
          "output_type": "stream",
          "text": [
            "<ipython-input-25-ceac70ad00ab>:16: RuntimeWarning: Fiducial point nasion not found, assuming identity unknown to head transformation\n",
            "  raw.set_montage(custom_montage)\n"
          ]
        },
        {
          "name": "stdout",
          "output_type": "stream",
          "text": [
            "Trigger channel Status has a non-zero initial value of {initial_value} (consider using initial_event=True to detect this event)\n",
            "2807 events found on stim channel Status\n",
            "Event IDs: [65281 65296 65297]\n",
            "Not setting metadata\n",
            "145 matching events found\n",
            "No baseline correction applied\n",
            "0 projection items activated\n",
            "Using data from preloaded Raw for 145 events and 1251 original time points ...\n",
            "0 bad epochs dropped\n",
            "Fitting ICA to data using 32 channels (please be patient, this may take a while)\n"
          ]
        },
        {
          "name": "stderr",
          "output_type": "stream",
          "text": [
            "<ipython-input-25-ceac70ad00ab>:29: RuntimeWarning: The data has not been high-pass filtered. For good ICA performance, it should be high-pass filtered (e.g., with a 1.0 Hz lower bound) before fitting ICA.\n",
            "  ica.fit(epochs)\n"
          ]
        },
        {
          "name": "stdout",
          "output_type": "stream",
          "text": [
            "Selecting by number: 32 components\n",
            "Fitting ICA took 23.5s.\n",
            "Applying ICA to Epochs instance\n",
            "    Transforming to ICA space (32 components)\n",
            "    Zeroing out 0 ICA components\n",
            "    Projecting back using 32 PCA components\n"
          ]
        },
        {
          "name": "stderr",
          "output_type": "stream",
          "text": [
            "<ipython-input-25-ceac70ad00ab>:30: FutureWarning: The current default of copy=False will change to copy=True in 1.7. Set the value of copy explicitly to avoid this warning\n",
            "  features = ica.apply(epochs.copy()).get_data()\n",
            "Processing 2 data: 100%|██████████| 1/1 [01:07<00:00, 67.33s/it]\n",
            "Processing 2 data:   0%|          | 0/1 [00:00<?, ?it/s]"
          ]
        },
        {
          "name": "stdout",
          "output_type": "stream",
          "text": [
            "Extracting EDF parameters from /content/drive/MyDrive/GP/GP-Data/Subjects/S7a_TD1.bdf...\n",
            "BDF file detected\n",
            "Setting channel info structure...\n",
            "Creating raw.info structure...\n",
            "Reading 0 ... 11616255  =      0.000 ...   709.000 secs...\n",
            "Trigger channel Status has a non-zero initial value of {initial_value} (consider using initial_event=True to detect this event)\n",
            "22473 events found on stim channel Status\n",
            "Event IDs: [65281 65284 65296 65297 65301 65304 65305 65309 65311]\n"
          ]
        },
        {
          "name": "stderr",
          "output_type": "stream",
          "text": [
            "<ipython-input-25-ceac70ad00ab>:16: RuntimeWarning: Fiducial point nasion not found, assuming identity unknown to head transformation\n",
            "  raw.set_montage(custom_montage)\n"
          ]
        },
        {
          "name": "stdout",
          "output_type": "stream",
          "text": [
            "Trigger channel Status has a non-zero initial value of {initial_value} (consider using initial_event=True to detect this event)\n",
            "2868 events found on stim channel Status\n",
            "Event IDs: [65281 65284 65296 65297]\n",
            "Not setting metadata\n",
            "144 matching events found\n",
            "No baseline correction applied\n",
            "0 projection items activated\n",
            "Using data from preloaded Raw for 144 events and 1251 original time points ...\n",
            "0 bad epochs dropped\n",
            "Fitting ICA to data using 32 channels (please be patient, this may take a while)\n"
          ]
        },
        {
          "name": "stderr",
          "output_type": "stream",
          "text": [
            "<ipython-input-25-ceac70ad00ab>:29: RuntimeWarning: The data has not been high-pass filtered. For good ICA performance, it should be high-pass filtered (e.g., with a 1.0 Hz lower bound) before fitting ICA.\n",
            "  ica.fit(epochs)\n"
          ]
        },
        {
          "name": "stdout",
          "output_type": "stream",
          "text": [
            "Selecting by number: 32 components\n",
            "Fitting ICA took 26.1s.\n",
            "Applying ICA to Epochs instance\n",
            "    Transforming to ICA space (32 components)\n",
            "    Zeroing out 0 ICA components\n",
            "    Projecting back using 32 PCA components\n"
          ]
        },
        {
          "name": "stderr",
          "output_type": "stream",
          "text": [
            "<ipython-input-25-ceac70ad00ab>:30: FutureWarning: The current default of copy=False will change to copy=True in 1.7. Set the value of copy explicitly to avoid this warning\n",
            "  features = ica.apply(epochs.copy()).get_data()\n",
            "Processing 2 data: 100%|██████████| 1/1 [01:10<00:00, 70.07s/it]\n",
            "Processing 2 data:   0%|          | 0/1 [00:00<?, ?it/s]"
          ]
        },
        {
          "name": "stdout",
          "output_type": "stream",
          "text": [
            "Extracting EDF parameters from /content/drive/MyDrive/GP/GP-Data/Subjects/S7b_TD1.bdf...\n",
            "BDF file detected\n",
            "Setting channel info structure...\n",
            "Creating raw.info structure...\n",
            "Reading 0 ... 11649023  =      0.000 ...   711.000 secs...\n"
          ]
        },
        {
          "name": "stderr",
          "output_type": "stream",
          "text": [
            "<ipython-input-25-ceac70ad00ab>:16: RuntimeWarning: Fiducial point nasion not found, assuming identity unknown to head transformation\n",
            "  raw.set_montage(custom_montage)\n"
          ]
        },
        {
          "name": "stdout",
          "output_type": "stream",
          "text": [
            "Trigger channel Status has a non-zero initial value of {initial_value} (consider using initial_event=True to detect this event)\n",
            "22485 events found on stim channel Status\n",
            "Event IDs: [65281 65284 65286 65296 65297 65301 65304 65305 65309 65311]\n",
            "Trigger channel Status has a non-zero initial value of {initial_value} (consider using initial_event=True to detect this event)\n",
            "2883 events found on stim channel Status\n",
            "Event IDs: [65281 65296 65297]\n",
            "Not setting metadata\n",
            "145 matching events found\n",
            "No baseline correction applied\n",
            "0 projection items activated\n",
            "Using data from preloaded Raw for 145 events and 1251 original time points ...\n",
            "0 bad epochs dropped\n",
            "Fitting ICA to data using 32 channels (please be patient, this may take a while)\n"
          ]
        },
        {
          "name": "stderr",
          "output_type": "stream",
          "text": [
            "<ipython-input-25-ceac70ad00ab>:29: RuntimeWarning: The data has not been high-pass filtered. For good ICA performance, it should be high-pass filtered (e.g., with a 1.0 Hz lower bound) before fitting ICA.\n",
            "  ica.fit(epochs)\n"
          ]
        },
        {
          "name": "stdout",
          "output_type": "stream",
          "text": [
            "Selecting by number: 32 components\n",
            "Fitting ICA took 22.0s.\n",
            "Applying ICA to Epochs instance\n",
            "    Transforming to ICA space (32 components)\n",
            "    Zeroing out 0 ICA components\n",
            "    Projecting back using 32 PCA components\n"
          ]
        },
        {
          "name": "stderr",
          "output_type": "stream",
          "text": [
            "<ipython-input-25-ceac70ad00ab>:30: FutureWarning: The current default of copy=False will change to copy=True in 1.7. Set the value of copy explicitly to avoid this warning\n",
            "  features = ica.apply(epochs.copy()).get_data()\n",
            "Processing 2 data: 100%|██████████| 1/1 [01:30<00:00, 90.78s/it]\n",
            "Processing 2 data:   0%|          | 0/1 [00:00<?, ?it/s]"
          ]
        },
        {
          "name": "stdout",
          "output_type": "stream",
          "text": [
            "Extracting EDF parameters from /content/drive/MyDrive/GP/GP-Data/Subjects/S8a_TD1.bdf...\n",
            "BDF file detected\n",
            "Setting channel info structure...\n",
            "Creating raw.info structure...\n",
            "Reading 0 ... 11698175  =      0.000 ...   714.000 secs...\n"
          ]
        },
        {
          "name": "stderr",
          "output_type": "stream",
          "text": [
            "<ipython-input-25-ceac70ad00ab>:16: RuntimeWarning: Fiducial point nasion not found, assuming identity unknown to head transformation\n",
            "  raw.set_montage(custom_montage)\n"
          ]
        },
        {
          "name": "stdout",
          "output_type": "stream",
          "text": [
            "Trigger channel Status has a non-zero initial value of {initial_value} (consider using initial_event=True to detect this event)\n",
            "22477 events found on stim channel Status\n",
            "Event IDs: [65281 65284 65296 65297 65301 65304 65305 65309 65311]\n",
            "Trigger channel Status has a non-zero initial value of {initial_value} (consider using initial_event=True to detect this event)\n",
            "2917 events found on stim channel Status\n",
            "Event IDs: [65281 65282 65296 65297]\n",
            "Not setting metadata\n",
            "145 matching events found\n",
            "No baseline correction applied\n",
            "0 projection items activated\n",
            "Using data from preloaded Raw for 145 events and 1251 original time points ...\n",
            "0 bad epochs dropped\n",
            "Fitting ICA to data using 32 channels (please be patient, this may take a while)\n"
          ]
        },
        {
          "name": "stderr",
          "output_type": "stream",
          "text": [
            "<ipython-input-25-ceac70ad00ab>:29: RuntimeWarning: The data has not been high-pass filtered. For good ICA performance, it should be high-pass filtered (e.g., with a 1.0 Hz lower bound) before fitting ICA.\n",
            "  ica.fit(epochs)\n"
          ]
        },
        {
          "name": "stdout",
          "output_type": "stream",
          "text": [
            "Selecting by number: 32 components\n",
            "Fitting ICA took 16.1s.\n",
            "Applying ICA to Epochs instance\n",
            "    Transforming to ICA space (32 components)\n",
            "    Zeroing out 0 ICA components\n",
            "    Projecting back using 32 PCA components\n"
          ]
        },
        {
          "name": "stderr",
          "output_type": "stream",
          "text": [
            "<ipython-input-25-ceac70ad00ab>:30: FutureWarning: The current default of copy=False will change to copy=True in 1.7. Set the value of copy explicitly to avoid this warning\n",
            "  features = ica.apply(epochs.copy()).get_data()\n",
            "Processing 2 data: 100%|██████████| 1/1 [01:06<00:00, 66.32s/it]\n",
            "Processing 2 data:   0%|          | 0/1 [00:00<?, ?it/s]"
          ]
        },
        {
          "name": "stdout",
          "output_type": "stream",
          "text": [
            "Extracting EDF parameters from /content/drive/MyDrive/GP/GP-Data/Subjects/S8b_TD1.bdf...\n",
            "BDF file detected\n",
            "Setting channel info structure...\n",
            "Creating raw.info structure...\n",
            "Reading 0 ... 11960319  =      0.000 ...   730.000 secs...\n",
            "Trigger channel Status has a non-zero initial value of {initial_value} (consider using initial_event=True to detect this event)\n",
            "22482 events found on stim channel Status\n",
            "Event IDs: [65281 65284 65294 65296 65297 65301 65304 65305 65309 65311]\n"
          ]
        },
        {
          "name": "stderr",
          "output_type": "stream",
          "text": [
            "<ipython-input-25-ceac70ad00ab>:16: RuntimeWarning: Fiducial point nasion not found, assuming identity unknown to head transformation\n",
            "  raw.set_montage(custom_montage)\n"
          ]
        },
        {
          "name": "stdout",
          "output_type": "stream",
          "text": [
            "Trigger channel Status has a non-zero initial value of {initial_value} (consider using initial_event=True to detect this event)\n",
            "2854 events found on stim channel Status\n",
            "Event IDs: [65281 65284 65296 65297 65309]\n",
            "Not setting metadata\n",
            "148 matching events found\n",
            "No baseline correction applied\n",
            "0 projection items activated\n",
            "Using data from preloaded Raw for 148 events and 1251 original time points ...\n",
            "0 bad epochs dropped\n",
            "Fitting ICA to data using 32 channels (please be patient, this may take a while)\n"
          ]
        },
        {
          "name": "stderr",
          "output_type": "stream",
          "text": [
            "<ipython-input-25-ceac70ad00ab>:29: RuntimeWarning: The data has not been high-pass filtered. For good ICA performance, it should be high-pass filtered (e.g., with a 1.0 Hz lower bound) before fitting ICA.\n",
            "  ica.fit(epochs)\n"
          ]
        },
        {
          "name": "stdout",
          "output_type": "stream",
          "text": [
            "Selecting by number: 32 components\n",
            "Fitting ICA took 19.2s.\n",
            "Applying ICA to Epochs instance\n",
            "    Transforming to ICA space (32 components)\n",
            "    Zeroing out 0 ICA components\n",
            "    Projecting back using 32 PCA components\n"
          ]
        },
        {
          "name": "stderr",
          "output_type": "stream",
          "text": [
            "<ipython-input-25-ceac70ad00ab>:30: FutureWarning: The current default of copy=False will change to copy=True in 1.7. Set the value of copy explicitly to avoid this warning\n",
            "  features = ica.apply(epochs.copy()).get_data()\n",
            "Processing 2 data: 100%|██████████| 1/1 [01:05<00:00, 65.62s/it]\n",
            "Processing 2 data:   0%|          | 0/1 [00:00<?, ?it/s]"
          ]
        },
        {
          "name": "stdout",
          "output_type": "stream",
          "text": [
            "Extracting EDF parameters from /content/drive/MyDrive/GP/GP-Data/Subjects/S9a_TD1.bdf...\n",
            "BDF file detected\n",
            "Setting channel info structure...\n",
            "Creating raw.info structure...\n",
            "Reading 0 ... 12419071  =      0.000 ...   758.000 secs...\n"
          ]
        },
        {
          "name": "stderr",
          "output_type": "stream",
          "text": [
            "<ipython-input-25-ceac70ad00ab>:16: RuntimeWarning: Fiducial point nasion not found, assuming identity unknown to head transformation\n",
            "  raw.set_montage(custom_montage)\n"
          ]
        },
        {
          "name": "stdout",
          "output_type": "stream",
          "text": [
            "Trigger channel Status has a non-zero initial value of {initial_value} (consider using initial_event=True to detect this event)\n",
            "22485 events found on stim channel Status\n",
            "Event IDs: [65281 65284 65296 65297 65301 65304 65305 65309 65311]\n",
            "Trigger channel Status has a non-zero initial value of {initial_value} (consider using initial_event=True to detect this event)\n",
            "2867 events found on stim channel Status\n",
            "Event IDs: [65281 65296 65297]\n",
            "Not setting metadata\n",
            "154 matching events found\n",
            "No baseline correction applied\n",
            "0 projection items activated\n",
            "Using data from preloaded Raw for 154 events and 1251 original time points ...\n",
            "0 bad epochs dropped\n",
            "Fitting ICA to data using 32 channels (please be patient, this may take a while)\n"
          ]
        },
        {
          "name": "stderr",
          "output_type": "stream",
          "text": [
            "<ipython-input-25-ceac70ad00ab>:29: RuntimeWarning: The data has not been high-pass filtered. For good ICA performance, it should be high-pass filtered (e.g., with a 1.0 Hz lower bound) before fitting ICA.\n",
            "  ica.fit(epochs)\n"
          ]
        },
        {
          "name": "stdout",
          "output_type": "stream",
          "text": [
            "Selecting by number: 32 components\n",
            "Fitting ICA took 21.4s.\n",
            "Applying ICA to Epochs instance\n",
            "    Transforming to ICA space (32 components)\n",
            "    Zeroing out 0 ICA components\n",
            "    Projecting back using 32 PCA components\n"
          ]
        },
        {
          "name": "stderr",
          "output_type": "stream",
          "text": [
            "<ipython-input-25-ceac70ad00ab>:30: FutureWarning: The current default of copy=False will change to copy=True in 1.7. Set the value of copy explicitly to avoid this warning\n",
            "  features = ica.apply(epochs.copy()).get_data()\n",
            "Processing 2 data: 100%|██████████| 1/1 [01:07<00:00, 67.27s/it]\n",
            "Processing 2 data:   0%|          | 0/1 [00:00<?, ?it/s]"
          ]
        },
        {
          "name": "stdout",
          "output_type": "stream",
          "text": [
            "Extracting EDF parameters from /content/drive/MyDrive/GP/GP-Data/Subjects/S10a_TD1.bdf...\n",
            "BDF file detected\n",
            "Setting channel info structure...\n",
            "Creating raw.info structure...\n",
            "Reading 0 ... 11665407  =      0.000 ...   712.000 secs...\n",
            "Trigger channel Status has a non-zero initial value of {initial_value} (consider using initial_event=True to detect this event)\n",
            "22479 events found on stim channel Status\n",
            "Event IDs: [65281 65284 65296 65297 65301 65304 65305 65309 65311]\n"
          ]
        },
        {
          "name": "stderr",
          "output_type": "stream",
          "text": [
            "<ipython-input-25-ceac70ad00ab>:16: RuntimeWarning: Fiducial point nasion not found, assuming identity unknown to head transformation\n",
            "  raw.set_montage(custom_montage)\n"
          ]
        },
        {
          "name": "stdout",
          "output_type": "stream",
          "text": [
            "Trigger channel Status has a non-zero initial value of {initial_value} (consider using initial_event=True to detect this event)\n",
            "2884 events found on stim channel Status\n",
            "Event IDs: [65281 65296 65297 65311]\n",
            "Not setting metadata\n",
            "145 matching events found\n",
            "No baseline correction applied\n",
            "0 projection items activated\n",
            "Using data from preloaded Raw for 145 events and 1251 original time points ...\n",
            "0 bad epochs dropped\n",
            "Fitting ICA to data using 32 channels (please be patient, this may take a while)\n"
          ]
        },
        {
          "name": "stderr",
          "output_type": "stream",
          "text": [
            "<ipython-input-25-ceac70ad00ab>:29: RuntimeWarning: The data has not been high-pass filtered. For good ICA performance, it should be high-pass filtered (e.g., with a 1.0 Hz lower bound) before fitting ICA.\n",
            "  ica.fit(epochs)\n"
          ]
        },
        {
          "name": "stdout",
          "output_type": "stream",
          "text": [
            "Selecting by number: 32 components\n",
            "Fitting ICA took 15.1s.\n",
            "Applying ICA to Epochs instance\n",
            "    Transforming to ICA space (32 components)\n",
            "    Zeroing out 0 ICA components\n",
            "    Projecting back using 32 PCA components\n"
          ]
        },
        {
          "name": "stderr",
          "output_type": "stream",
          "text": [
            "<ipython-input-25-ceac70ad00ab>:30: FutureWarning: The current default of copy=False will change to copy=True in 1.7. Set the value of copy explicitly to avoid this warning\n",
            "  features = ica.apply(epochs.copy()).get_data()\n",
            "Processing 2 data: 100%|██████████| 1/1 [01:07<00:00, 67.18s/it]\n",
            "Processing 2 data:   0%|          | 0/1 [00:00<?, ?it/s]"
          ]
        },
        {
          "name": "stdout",
          "output_type": "stream",
          "text": [
            "Extracting EDF parameters from /content/drive/MyDrive/GP/GP-Data/Subjects/S9b_TD2.bdf...\n",
            "BDF file detected\n",
            "Setting channel info structure...\n",
            "Creating raw.info structure...\n",
            "Reading 0 ... 12795903  =      0.000 ...   781.000 secs...\n",
            "Trigger channel Status has a non-zero initial value of {initial_value} (consider using initial_event=True to detect this event)\n"
          ]
        },
        {
          "name": "stderr",
          "output_type": "stream",
          "text": [
            "<ipython-input-25-ceac70ad00ab>:16: RuntimeWarning: Fiducial point nasion not found, assuming identity unknown to head transformation\n",
            "  raw.set_montage(custom_montage)\n"
          ]
        },
        {
          "name": "stdout",
          "output_type": "stream",
          "text": [
            "22482 events found on stim channel Status\n",
            "Event IDs: [65281 65284 65295 65296 65297 65301 65304 65305 65309 65311]\n",
            "Trigger channel Status has a non-zero initial value of {initial_value} (consider using initial_event=True to detect this event)\n",
            "2885 events found on stim channel Status\n",
            "Event IDs: [65281 65288 65296 65297 65309]\n",
            "Not setting metadata\n",
            "159 matching events found\n",
            "No baseline correction applied\n",
            "0 projection items activated\n",
            "Using data from preloaded Raw for 159 events and 1251 original time points ...\n",
            "0 bad epochs dropped\n",
            "Fitting ICA to data using 32 channels (please be patient, this may take a while)\n"
          ]
        },
        {
          "name": "stderr",
          "output_type": "stream",
          "text": [
            "<ipython-input-25-ceac70ad00ab>:29: RuntimeWarning: The data has not been high-pass filtered. For good ICA performance, it should be high-pass filtered (e.g., with a 1.0 Hz lower bound) before fitting ICA.\n",
            "  ica.fit(epochs)\n"
          ]
        },
        {
          "name": "stdout",
          "output_type": "stream",
          "text": [
            "Selecting by number: 32 components\n",
            "Fitting ICA took 33.4s.\n",
            "Applying ICA to Epochs instance\n",
            "    Transforming to ICA space (32 components)\n",
            "    Zeroing out 0 ICA components\n",
            "    Projecting back using 32 PCA components\n"
          ]
        },
        {
          "name": "stderr",
          "output_type": "stream",
          "text": [
            "<ipython-input-25-ceac70ad00ab>:30: FutureWarning: The current default of copy=False will change to copy=True in 1.7. Set the value of copy explicitly to avoid this warning\n",
            "  features = ica.apply(epochs.copy()).get_data()\n",
            "Processing 2 data: 100%|██████████| 1/1 [01:18<00:00, 78.99s/it]\n",
            "Processing 2 data:   0%|          | 0/1 [00:00<?, ?it/s]"
          ]
        },
        {
          "name": "stdout",
          "output_type": "stream",
          "text": [
            "Extracting EDF parameters from /content/drive/MyDrive/GP/GP-Data/Subjects/S10b_TD1.bdf...\n",
            "BDF file detected\n",
            "Setting channel info structure...\n",
            "Creating raw.info structure...\n",
            "Reading 0 ... 11599871  =      0.000 ...   708.000 secs...\n",
            "Trigger channel Status has a non-zero initial value of {initial_value} (consider using initial_event=True to detect this event)\n",
            "22489 events found on stim channel Status\n",
            "Event IDs: [65281 65284 65296 65297 65301 65304 65305 65309 65311]\n"
          ]
        },
        {
          "name": "stderr",
          "output_type": "stream",
          "text": [
            "<ipython-input-25-ceac70ad00ab>:16: RuntimeWarning: Fiducial point nasion not found, assuming identity unknown to head transformation\n",
            "  raw.set_montage(custom_montage)\n"
          ]
        },
        {
          "name": "stdout",
          "output_type": "stream",
          "text": [
            "Trigger channel Status has a non-zero initial value of {initial_value} (consider using initial_event=True to detect this event)\n",
            "2920 events found on stim channel Status\n",
            "Event IDs: [65281 65296 65297 65311]\n",
            "Not setting metadata\n",
            "144 matching events found\n",
            "No baseline correction applied\n",
            "0 projection items activated\n",
            "Using data from preloaded Raw for 144 events and 1251 original time points ...\n",
            "0 bad epochs dropped\n",
            "Fitting ICA to data using 32 channels (please be patient, this may take a while)\n"
          ]
        },
        {
          "name": "stderr",
          "output_type": "stream",
          "text": [
            "<ipython-input-25-ceac70ad00ab>:29: RuntimeWarning: The data has not been high-pass filtered. For good ICA performance, it should be high-pass filtered (e.g., with a 1.0 Hz lower bound) before fitting ICA.\n",
            "  ica.fit(epochs)\n"
          ]
        },
        {
          "name": "stdout",
          "output_type": "stream",
          "text": [
            "Selecting by number: 32 components\n",
            "Fitting ICA took 31.2s.\n",
            "Applying ICA to Epochs instance\n",
            "    Transforming to ICA space (32 components)\n",
            "    Zeroing out 0 ICA components\n",
            "    Projecting back using 32 PCA components\n"
          ]
        },
        {
          "name": "stderr",
          "output_type": "stream",
          "text": [
            "<ipython-input-25-ceac70ad00ab>:30: FutureWarning: The current default of copy=False will change to copy=True in 1.7. Set the value of copy explicitly to avoid this warning\n",
            "  features = ica.apply(epochs.copy()).get_data()\n",
            "Processing 2 data: 100%|██████████| 1/1 [01:16<00:00, 76.82s/it]\n"
          ]
        }
      ],
      "source": [
        "from glob import glob\n",
        "import mne\n",
        "import numpy as np\n",
        "from scipy import stats\n",
        "from tqdm import tqdm\n",
        "from sklearn.preprocessing import StandardScaler\n",
        "\n",
        "\n",
        "def process_data(file_path):\n",
        "    raw = mne.io.read_raw_bdf(file_path, preload=True)\n",
        "\n",
        "    # Apply ICA to remove artifacts\n",
        "    ica = mne.preprocessing.ICA(n_components=32, random_state=42)\n",
        "    raw.resample(250)\n",
        "    raw.filter(5, 25)\n",
        "    ica.fit(raw)\n",
        "    # cleaned_data = ica.apply(raw)\n",
        "\n",
        "    # # Create epochs from the cleaned data\n",
        "    # events = mne.make_fixed_length_events(cleaned_data, duration=5)\n",
        "    # epochs = mne.Epochs(cleaned_data, events, tmin=0, tmax=5, baseline=None, detrend=1, preload=True)\n",
        "\n",
        "    # Extract features (you may need to customize this step based on your specific needs)\n",
        "    features = ica.get_components()\n",
        "\n",
        "    return features\n",
        "\n",
        "def read_data(filepaths, label):\n",
        "    epochs_array = []\n",
        "    epochs_label = []\n",
        "\n",
        "\n",
        "    for file_path in tqdm(filepaths, desc=f\"Processing {label} data\"):\n",
        "\n",
        "        array = process_data(file_path)\n",
        "        epochs_array.append(array)\n",
        "        epochs_label.append(label*len(array))\n",
        "\n",
        "\n",
        "    return epochs_array, epochs_label\n",
        "\n",
        "\n",
        "# Filepaths\n",
        "haemorrhage_filepaths = glob('/content/drive/MyDrive/GP/GP-Data/Haemorrhage/*.bdf')\n",
        "ischaemia_filepaths = glob('/content/drive/MyDrive/GP/GP-Data/Ischaemia/*.bdf')\n",
        "subject_filepaths = glob('/content/drive/MyDrive/GP/GP-Data/Subjects/*.bdf')\n",
        "\n",
        "# Process data in chunks\n",
        "haemorrhage_epochs_array, haemorrhage_epochs_label = read_data(haemorrhage_filepaths, label=0)\n",
        "ischaemia_epochs_array, ischaemia_epochs_label = read_data(ischaemia_filepaths, label=1)\n",
        "subject_epochs_array, subject_epochs_label = read_data(subject_filepaths, label=2)\n"
      ]
    },
    {
      "cell_type": "code",
      "execution_count": null,
      "metadata": {
        "id": "o0M562gEWQv5"
      },
      "outputs": [],
      "source": [
        "# Combine epoch arrays for different classes into a single list\n",
        "data_list = haemorrhage_epochs_array + ischaemia_epochs_array + subject_epochs_array\n",
        "label_list = haemorrhage_epochs_label + ischaemia_epochs_label + subject_epochs_label\n"
      ]
    },
    {
      "cell_type": "code",
      "execution_count": null,
      "metadata": {
        "colab": {
          "base_uri": "https://localhost:8080/"
        },
        "id": "cE2_XUotb3vB",
        "outputId": "fd12e287-a5eb-4524-8f24-a5fa06e6f2a4"
      },
      "outputs": [
        {
          "name": "stdout",
          "output_type": "stream",
          "text": [
            "(45, 32, 32) (45,)\n"
          ]
        }
      ],
      "source": [
        "# Stack the data, labels, and groups into numpy arrays\n",
        "data_array =  np.array(data_list)\n",
        "label_array = np.hstack(label_list)\n",
        "\n",
        "# Move the axis to make the data suitable for input into a deep learning model\n",
        "data_array = np.swapaxes(data_array, 1, 2)\n",
        "\n",
        "# Print the shapes of the resulting arrays\n",
        "print(data_array.shape, label_array.shape)"
      ]
    },
    {
      "cell_type": "code",
      "execution_count": null,
      "metadata": {
        "id": "gmDXD00URRzi"
      },
      "outputs": [],
      "source": [
        "# save scaled data\n",
        "np.save('/content/drive/MyDrive/GP/GP-Data/X_ica2.npy', data_array)\n",
        "np.save('/content/drive/MyDrive/GP/GP-Data/y_ica2.npy', label_array)"
      ]
    },
    {
      "cell_type": "markdown",
      "metadata": {
        "id": "PxVhKK8ycBgy"
      },
      "source": [
        "# Models Training\n",
        "\n"
      ]
    },
    {
      "cell_type": "markdown",
      "metadata": {
        "id": "ALjAVPpJdR-U"
      },
      "source": [
        "## Define Functions/Classes"
      ]
    },
    {
      "cell_type": "code",
      "execution_count": 117,
      "metadata": {
        "id": "3QaZ_540dbxg"
      },
      "outputs": [],
      "source": [
        "from sklearn.model_selection import GroupKFold,LeaveOneGroupOut\n",
        "from sklearn.base import TransformerMixin,BaseEstimator\n",
        "from sklearn.preprocessing import StandardScaler\n",
        "import numpy as np\n",
        "\n",
        "gkf=GroupKFold()\n",
        "# This function to standerd scale 3D data\n",
        "class StandardScaler3D(BaseEstimator,TransformerMixin):\n",
        "    #batch, sequence, channels\n",
        "    def __init__(self):\n",
        "        self.scaler = StandardScaler()\n",
        "\n",
        "    def fit(self,X,y=None):\n",
        "        self.scaler.fit(X.reshape(-1, X.shape[2]))\n",
        "        return self\n",
        "\n",
        "    def transform(self,X):\n",
        "        return self.scaler.transform(X.reshape( -1,X.shape[2])).reshape(X.shape)\n",
        "\n",
        "\n",
        "\n",
        "def three_splits(data_array , label_array, group_array):\n",
        "\n",
        "  # Split data_array into train and validate\n",
        "  train_groups = []\n",
        "  for train_index, test_index in gkf.split(data_array, label_array, groups=group_array):\n",
        "      train_features, train_label = data_array[train_index],label_array[train_index]\n",
        "      X_test, y_test =data_array[test_index],label_array[test_index]\n",
        "      train_groups = group_array[train_index]\n",
        "\n",
        "      scaler=StandardScaler3D()\n",
        "      train_features=scaler.fit_transform(train_features)\n",
        "      X_test=scaler.transform(X_test)\n",
        "\n",
        "      print(f\"group={np.unique(group_array[train_index])}\")\n",
        "      print(f\"group={np.unique(group_array[test_index])}\")\n",
        "      break\n",
        "\n",
        "  # Split train_features into train and val\n",
        "  for train_index, val_index in gkf.split(train_features, train_label, groups= train_groups):\n",
        "      X_train, y_train =train_features[train_index],train_label[train_index]\n",
        "      X_val, y_val =train_features[val_index],train_label[val_index]\n",
        "\n",
        "      print(f\"group={np.unique(group_array[train_index])}\")\n",
        "      print(f\"group={np.unique(group_array[val_index])}\")\n",
        "\n",
        "      break\n",
        "\n",
        "  return X_train, X_val, X_test, y_train, y_val, y_test\n",
        "\n",
        "\n",
        "\n",
        "\n",
        "def two_splits(data_array , label_array, group_array):\n",
        "\n",
        "  # Split data_array into train and validate\n",
        "  train_groups = []\n",
        "  for train_index, test_index in gkf.split(data_array, label_array, groups=group_array):\n",
        "      X_train, y_train = data_array[train_index],label_array[train_index]\n",
        "      X_test, y_test =data_array[test_index],label_array[test_index]\n",
        "      train_groups = group_array[train_index]\n",
        "\n",
        "      scaler=StandardScaler3D()\n",
        "      X_train=scaler.fit_transform(X_train)\n",
        "      X_test=scaler.transform(X_test)\n",
        "\n",
        "      print(f\"group={np.unique(group_array[train_index])}\")\n",
        "      print(f\"group={np.unique(group_array[test_index])}\")\n",
        "      break\n",
        "\n",
        "  return X_train, X_test, y_train, y_test, train_groups\n"
      ]
    },
    {
      "cell_type": "code",
      "execution_count": 118,
      "metadata": {
        "id": "htgjn-oggTpy"
      },
      "outputs": [],
      "source": [
        "from sklearn.metrics import accuracy_score, precision_score, recall_score, f1_score\n",
        "from sklearn.metrics import confusion_matrix\n",
        "from sklearn.metrics import classification_report\n",
        "import matplotlib.pyplot as plt\n",
        "import seaborn as sns\n",
        "\n",
        "\n",
        "\n",
        "def fit_and_evaluate(X_train, y_train, X_test, y_test,model):\n",
        "\n",
        "  model.fit(X_train, y_train)\n",
        "\n",
        "  # Predictions on the test set\n",
        "  y_pred = model.predict(X_test)\n",
        "\n",
        "  # Calculate evaluation metrics\n",
        "  accuracy = accuracy_score(y_test, y_pred)\n",
        "  precision = precision_score(y_test, y_pred, average='weighted')\n",
        "  recall = recall_score(y_test, y_pred, average='weighted')\n",
        "  f1 = f1_score(y_test, y_pred, average='weighted')\n",
        "\n",
        "\n",
        "  # Print the results\n",
        "  print(\"Accuracy:\", accuracy)\n",
        "  print(\"Recall:\", recall)\n",
        "  print(\"Precision:\", precision)\n",
        "  print(\"F1-score:\", f1)\n",
        "\n",
        "\n",
        "  print(\"Classification Report (Test):\\n\", classification_report(y_test, y_pred))\n",
        "\n",
        "  # Compute the confusion matrix for the test set\n",
        "  cm_test = confusion_matrix(y_test, y_pred)\n",
        "\n",
        "  # Plot the confusion matrix for the test set\n",
        "  plt.figure(figsize=(8, 6))\n",
        "  sns.heatmap(cm_test, annot=True, fmt=\"d\", cmap=\"Blues\", cbar=False)\n",
        "  plt.xlabel(\"Predicted Label\")\n",
        "  plt.ylabel(\"True Label\")\n",
        "  plt.title(f\"Confusion Matrix for Decision Tree {model.__class__}\")\n",
        "  plt.show()\n",
        "\n",
        "  return model\n",
        "\n",
        "\n",
        "\n",
        "\n",
        "def evaluate(model, X_test, y_test):\n",
        "\n",
        "  # Predictions on the test set\n",
        "  y_pred = model.predict(X_test)\n",
        "  y_pred = (y_pred > 0.5).astype(int)\n",
        "\n",
        "  # Calculate evaluation metrics\n",
        "  accuracy = accuracy_score(y_test, y_pred)\n",
        "  precision = precision_score(y_test, y_pred, average='weighted')\n",
        "  recall = recall_score(y_test, y_pred, average='weighted')\n",
        "  f1 = f1_score(y_test, y_pred, average='weighted')\n",
        "\n",
        "\n",
        "  # Print the results\n",
        "  print(\"Accuracy:\", accuracy)\n",
        "  print(\"Recall:\", recall)\n",
        "  print(\"Precision:\", precision)\n",
        "  print(\"F1-score:\", f1)\n",
        "\n",
        "\n",
        "  print(\"Classification Report (Test):\\n\", classification_report(y_test, y_pred))\n",
        "\n",
        "  # Compute the confusion matrix for the test set\n",
        "  cm_test = confusion_matrix(y_test, y_pred)\n",
        "\n",
        "  # Plot the confusion matrix for the test set\n",
        "  plt.figure(figsize=(8, 6))\n",
        "  sns.heatmap(cm_test, annot=True, fmt=\"d\", cmap=\"Blues\", cbar=False)\n",
        "  plt.xlabel(\"Predicted Label\")\n",
        "  plt.ylabel(\"True Label\")\n",
        "  plt.title(f\"Confusion Matrix for Decision Tree {model.__class__}\")\n",
        "  plt.show()\n",
        "\n",
        "  return\n",
        "\n",
        "\n",
        "\n",
        "def plot_history(hist):\n",
        "  plt.plot(hist.history['accuracy'])\n",
        "  plt.plot(hist.history['val_accuracy'])\n",
        "  plt.title('Model accuracy')\n",
        "  plt.ylabel('Accuracy')\n",
        "  plt.xlabel('Epoch')\n",
        "  plt.legend(['Train', 'Validation'], loc='upper left')\n",
        "  plt.show()\n",
        "\n",
        "  plt.plot(hist.history['loss'])\n",
        "  plt.plot(hist.history['val_loss'])\n",
        "  plt.title('Model loss')\n",
        "  plt.ylabel('Loss')\n",
        "  plt.xlabel('Epoch')\n",
        "  plt.legend(['Train', 'Validation'], loc='upper left')\n",
        "  plt.show()"
      ]
    },
    {
      "cell_type": "markdown",
      "metadata": {
        "id": "tk3LuzKodYjx"
      },
      "source": [
        "## Prepare the data"
      ]
    },
    {
      "cell_type": "code",
      "execution_count": 119,
      "metadata": {
        "colab": {
          "base_uri": "https://localhost:8080/"
        },
        "id": "86h2k2DacXbX",
        "outputId": "c00eed1d-112c-4a19-871c-9770137f9418"
      },
      "outputs": [
        {
          "output_type": "stream",
          "name": "stdout",
          "text": [
            "(45, 32, 32) (45,)\n"
          ]
        }
      ],
      "source": [
        "from sklearn.model_selection import train_test_split\n",
        "import numpy as np\n",
        "\n",
        "\n",
        "# Step 1: Load the data\n",
        "X = np.load('/content/drive/MyDrive/GP/GP-Data/X_ica2.npy')\n",
        "y = np.load('/content/drive/MyDrive/GP/GP-Data/y_ica2.npy')\n",
        "\n",
        "y = y.astype('int')\n",
        "\n",
        "print(X.shape, y.shape)\n",
        "\n",
        "# Step 2: Convert multicalss to binary\n",
        "y[y==0] = 1 #Stroke\n",
        "y[y==2] = 0 #Healthy\n",
        "\n",
        "\n",
        "# Step 3: Split the data into train and test\n",
        "X_train, X_test, y_train, y_test = train_test_split(X, y, test_size=0.2, random_state=101)\n",
        "\n",
        "\n",
        "# Step 4: normalize the data using standerd scale\n",
        "# scaler  = StandardScaler3D()\n",
        "# X_train = scaler.fit_transform(X_train)\n",
        "# X_test  = scaler.transform(X_test)\n"
      ]
    },
    {
      "cell_type": "code",
      "execution_count": null,
      "metadata": {
        "id": "HZXbcdpVYWcl"
      },
      "outputs": [],
      "source": []
    },
    {
      "cell_type": "markdown",
      "metadata": {
        "id": "MYwjNOC8cIz6"
      },
      "source": [
        "## ML Models\n"
      ]
    },
    {
      "cell_type": "code",
      "execution_count": 120,
      "metadata": {
        "colab": {
          "base_uri": "https://localhost:8080/"
        },
        "id": "H8Ilz_yyexaV",
        "outputId": "a44cb2b4-54f4-4dee-940f-586ea75f9e39"
      },
      "outputs": [
        {
          "output_type": "execute_result",
          "data": {
            "text/plain": [
              "((36, 1024), (9, 1024), (36, 1), (9, 1))"
            ]
          },
          "metadata": {},
          "execution_count": 120
        }
      ],
      "source": [
        "# Flatten the data array for ML models\n",
        "X_train_ml = X_train.reshape(X_train.shape[0], -1)\n",
        "X_test_ml = X_test.reshape(X_test.shape[0], -1)\n",
        "\n",
        "\n",
        "y_train_ml = y_train.reshape(y_train.shape[0], -1)\n",
        "y_test_ml = y_test.reshape(y_test.shape[0], -1)\n",
        "\n",
        "\n",
        "X_train_ml.shape, X_test_ml.shape, y_train_ml.shape, y_test_ml.shape"
      ]
    },
    {
      "cell_type": "code",
      "execution_count": null,
      "metadata": {
        "colab": {
          "base_uri": "https://localhost:8080/",
          "height": 870
        },
        "id": "rnmgYPKOcF5m",
        "outputId": "11d6082c-319f-45c2-b9ae-cdf4acfe0e0e"
      },
      "outputs": [
        {
          "name": "stderr",
          "output_type": "stream",
          "text": [
            "/usr/local/lib/python3.10/dist-packages/sklearn/neighbors/_classification.py:215: DataConversionWarning: A column-vector y was passed when a 1d array was expected. Please change the shape of y to (n_samples,), for example using ravel().\n",
            "  return self._fit(X, y)\n"
          ]
        },
        {
          "name": "stdout",
          "output_type": "stream",
          "text": [
            "Accuracy: 0.6666666666666666\n",
            "Recall: 0.6666666666666666\n",
            "Precision: 0.6428571428571428\n",
            "F1-score: 0.6461538461538461\n",
            "Classification Report (Test):\n",
            "               precision    recall  f1-score   support\n",
            "\n",
            "           0       0.50      0.33      0.40         3\n",
            "           1       0.71      0.83      0.77         6\n",
            "\n",
            "    accuracy                           0.67         9\n",
            "   macro avg       0.61      0.58      0.58         9\n",
            "weighted avg       0.64      0.67      0.65         9\n",
            "\n"
          ]
        },
        {
          "data": {
            "image/png": "[encoded data removed]",
            "text/plain": [
              "<Figure size 800x600 with 1 Axes>"
            ]
          },
          "metadata": {},
          "output_type": "display_data"
        }
      ],
      "source": [
        "# KNN\n",
        "\n",
        "from sklearn.neighbors import KNeighborsClassifier\n",
        "model=fit_and_evaluate(X_train_ml, y_train_ml, X_test_ml , y_test_ml,\n",
        "                       KNeighborsClassifier(algorithm='auto', n_neighbors = 5, weights='uniform'))\n"
      ]
    },
    {
      "cell_type": "code",
      "execution_count": null,
      "metadata": {
        "colab": {
          "base_uri": "https://localhost:8080/",
          "height": 870
        },
        "id": "_Y-nN4hpcHcg",
        "outputId": "5bbbc8a8-0a52-4b3c-b8f0-e06acb291407"
      },
      "outputs": [
        {
          "name": "stderr",
          "output_type": "stream",
          "text": [
            "<ipython-input-9-20cbfc4e131b>:11: DataConversionWarning: A column-vector y was passed when a 1d array was expected. Please change the shape of y to (n_samples,), for example using ravel().\n",
            "  model.fit(X_train, y_train)\n"
          ]
        },
        {
          "name": "stdout",
          "output_type": "stream",
          "text": [
            "Accuracy: 0.7777777777777778\n",
            "Recall: 0.7777777777777778\n",
            "Precision: 0.8333333333333334\n",
            "F1-score: 0.738095238095238\n",
            "Classification Report (Test):\n",
            "               precision    recall  f1-score   support\n",
            "\n",
            "           0       1.00      0.33      0.50         3\n",
            "           1       0.75      1.00      0.86         6\n",
            "\n",
            "    accuracy                           0.78         9\n",
            "   macro avg       0.88      0.67      0.68         9\n",
            "weighted avg       0.83      0.78      0.74         9\n",
            "\n"
          ]
        },
        {
          "data": {
            "image/png": "[encoded data removed]",
            "text/plain": [
              "<Figure size 800x600 with 1 Axes>"
            ]
          },
          "metadata": {},
          "output_type": "display_data"
        }
      ],
      "source": [
        "# RF\n",
        "\n",
        "from sklearn.ensemble import RandomForestClassifier\n",
        "model=fit_and_evaluate(X_train_ml, y_train_ml,X_test_ml , y_test_ml,\n",
        "                       RandomForestClassifier(n_estimators=200, max_depth=9, max_leaf_nodes = 6))"
      ]
    },
    {
      "cell_type": "code",
      "execution_count": null,
      "metadata": {
        "colab": {
          "base_uri": "https://localhost:8080/",
          "height": 814
        },
        "id": "4HeB_mqJhgrZ",
        "outputId": "1b654cba-213a-47b3-ccae-be78c1a67fd4"
      },
      "outputs": [
        {
          "name": "stdout",
          "output_type": "stream",
          "text": [
            "Accuracy: 0.7777777777777778\n",
            "Recall: 0.7777777777777778\n",
            "Precision: 0.8666666666666667\n",
            "F1-score: 0.7833333333333334\n",
            "Classification Report (Test):\n",
            "               precision    recall  f1-score   support\n",
            "\n",
            "           0       0.60      1.00      0.75         3\n",
            "           1       1.00      0.67      0.80         6\n",
            "\n",
            "    accuracy                           0.78         9\n",
            "   macro avg       0.80      0.83      0.77         9\n",
            "weighted avg       0.87      0.78      0.78         9\n",
            "\n"
          ]
        },
        {
          "data": {
            "image/png": "[encoded data removed]",
            "text/plain": [
              "<Figure size 800x600 with 1 Axes>"
            ]
          },
          "metadata": {},
          "output_type": "display_data"
        }
      ],
      "source": [
        "# DT\n",
        "\n",
        "from sklearn.tree import DecisionTreeClassifier\n",
        "model=fit_and_evaluate(X_train_ml, y_train_ml,X_test_ml , y_test_ml,\n",
        "                       DecisionTreeClassifier(criterion = 'gini', max_depth=10, min_samples_leaf = 5))"
      ]
    },
    {
      "cell_type": "code",
      "execution_count": null,
      "metadata": {
        "colab": {
          "base_uri": "https://localhost:8080/",
          "height": 814
        },
        "id": "Hj8Bt4Ajhjg6",
        "outputId": "5d2f6b4c-348c-4ea7-9192-bbc449b6a2cd"
      },
      "outputs": [
        {
          "name": "stdout",
          "output_type": "stream",
          "text": [
            "Accuracy: 0.8888888888888888\n",
            "Recall: 0.8888888888888888\n",
            "Precision: 0.9047619047619047\n",
            "F1-score: 0.882051282051282\n",
            "Classification Report (Test):\n",
            "               precision    recall  f1-score   support\n",
            "\n",
            "           0       1.00      0.67      0.80         3\n",
            "           1       0.86      1.00      0.92         6\n",
            "\n",
            "    accuracy                           0.89         9\n",
            "   macro avg       0.93      0.83      0.86         9\n",
            "weighted avg       0.90      0.89      0.88         9\n",
            "\n"
          ]
        },
        {
          "data": {
            "image/png": "[encoded data removed]",
            "text/plain": [
              "<Figure size 800x600 with 1 Axes>"
            ]
          },
          "metadata": {},
          "output_type": "display_data"
        }
      ],
      "source": [
        "# XGBoost\n",
        "\n",
        "from xgboost import XGBClassifier\n",
        "model=fit_and_evaluate(X_train_ml, y_train_ml,X_test_ml , y_test_ml,\n",
        "                       XGBClassifier(n_estimators=200, max_depth=9, learning_rate = 0.01))"
      ]
    },
    {
      "cell_type": "code",
      "execution_count": null,
      "metadata": {
        "colab": {
          "base_uri": "https://localhost:8080/",
          "height": 870
        },
        "id": "SvmMMUYdhvF2",
        "outputId": "59c5f260-4925-49da-e89c-ac4536cb1897"
      },
      "outputs": [
        {
          "name": "stderr",
          "output_type": "stream",
          "text": [
            "/usr/local/lib/python3.10/dist-packages/sklearn/utils/validation.py:1143: DataConversionWarning: A column-vector y was passed when a 1d array was expected. Please change the shape of y to (n_samples, ), for example using ravel().\n",
            "  y = column_or_1d(y, warn=True)\n"
          ]
        },
        {
          "name": "stdout",
          "output_type": "stream",
          "text": [
            "Accuracy: 0.7777777777777778\n",
            "Recall: 0.7777777777777778\n",
            "Precision: 0.7777777777777778\n",
            "F1-score: 0.7777777777777778\n",
            "Classification Report (Test):\n",
            "               precision    recall  f1-score   support\n",
            "\n",
            "           0       0.67      0.67      0.67         3\n",
            "           1       0.83      0.83      0.83         6\n",
            "\n",
            "    accuracy                           0.78         9\n",
            "   macro avg       0.75      0.75      0.75         9\n",
            "weighted avg       0.78      0.78      0.78         9\n",
            "\n"
          ]
        },
        {
          "data": {
            "image/png": "[encoded data removed]",
            "text/plain": [
              "<Figure size 800x600 with 1 Axes>"
            ]
          },
          "metadata": {},
          "output_type": "display_data"
        }
      ],
      "source": [
        "# Adaboost\n",
        "\n",
        "from sklearn.ensemble import AdaBoostClassifier\n",
        "model=fit_and_evaluate(X_train_ml, y_train_ml, X_test_ml, y_test_ml,\n",
        "                       AdaBoostClassifier(n_estimators=200, learning_rate = 1))"
      ]
    },
    {
      "cell_type": "code",
      "execution_count": null,
      "metadata": {
        "colab": {
          "base_uri": "https://localhost:8080/",
          "height": 1000
        },
        "id": "E3XKA6GChz3Q",
        "outputId": "e743474b-6b8e-4618-a7d1-ee302ce14887"
      },
      "outputs": [
        {
          "name": "stderr",
          "output_type": "stream",
          "text": [
            "/usr/local/lib/python3.10/dist-packages/sklearn/preprocessing/_label.py:99: DataConversionWarning: A column-vector y was passed when a 1d array was expected. Please change the shape of y to (n_samples, ), for example using ravel().\n",
            "  y = column_or_1d(y, warn=True)\n",
            "/usr/local/lib/python3.10/dist-packages/sklearn/preprocessing/_label.py:134: DataConversionWarning: A column-vector y was passed when a 1d array was expected. Please change the shape of y to (n_samples, ), for example using ravel().\n",
            "  y = column_or_1d(y, dtype=self.classes_.dtype, warn=True)\n",
            "/usr/local/lib/python3.10/dist-packages/sklearn/metrics/_classification.py:1344: UndefinedMetricWarning: Precision is ill-defined and being set to 0.0 in labels with no predicted samples. Use `zero_division` parameter to control this behavior.\n",
            "  _warn_prf(average, modifier, msg_start, len(result))\n",
            "/usr/local/lib/python3.10/dist-packages/sklearn/metrics/_classification.py:1344: UndefinedMetricWarning: Precision and F-score are ill-defined and being set to 0.0 in labels with no predicted samples. Use `zero_division` parameter to control this behavior.\n",
            "  _warn_prf(average, modifier, msg_start, len(result))\n",
            "/usr/local/lib/python3.10/dist-packages/sklearn/metrics/_classification.py:1344: UndefinedMetricWarning: Precision and F-score are ill-defined and being set to 0.0 in labels with no predicted samples. Use `zero_division` parameter to control this behavior.\n",
            "  _warn_prf(average, modifier, msg_start, len(result))\n",
            "/usr/local/lib/python3.10/dist-packages/sklearn/metrics/_classification.py:1344: UndefinedMetricWarning: Precision and F-score are ill-defined and being set to 0.0 in labels with no predicted samples. Use `zero_division` parameter to control this behavior.\n",
            "  _warn_prf(average, modifier, msg_start, len(result))\n"
          ]
        },
        {
          "name": "stdout",
          "output_type": "stream",
          "text": [
            "[LightGBM] [Warning] There are no meaningful features which satisfy the provided configuration. Decreasing Dataset parameters min_data_in_bin or min_data_in_leaf and re-constructing Dataset might resolve this warning.\n",
            "[LightGBM] [Info] Number of positive: 20, number of negative: 16\n",
            "[LightGBM] [Info] Total Bins 0\n",
            "[LightGBM] [Info] Number of data points in the train set: 36, number of used features: 0\n",
            "[LightGBM] [Info] [binary:BoostFromScore]: pavg=0.555556 -> initscore=0.223144\n",
            "[LightGBM] [Info] Start training from score 0.223144\n",
            "[LightGBM] [Warning] Stopped training because there are no more leaves that meet the split requirements\n",
            "[LightGBM] [Warning] Stopped training because there are no more leaves that meet the split requirements\n",
            "[LightGBM] [Warning] Stopped training because there are no more leaves that meet the split requirements\n",
            "[LightGBM] [Warning] Stopped training because there are no more leaves that meet the split requirements\n",
            "[LightGBM] [Warning] Stopped training because there are no more leaves that meet the split requirements\n",
            "[LightGBM] [Warning] Stopped training because there are no more leaves that meet the split requirements\n",
            "[LightGBM] [Warning] Stopped training because there are no more leaves that meet the split requirements\n",
            "[LightGBM] [Warning] Stopped training because there are no more leaves that meet the split requirements\n",
            "[LightGBM] [Warning] Stopped training because there are no more leaves that meet the split requirements\n",
            "[LightGBM] [Warning] Stopped training because there are no more leaves that meet the split requirements\n",
            "[LightGBM] [Warning] Stopped training because there are no more leaves that meet the split requirements\n",
            "[LightGBM] [Warning] Stopped training because there are no more leaves that meet the split requirements\n",
            "[LightGBM] [Warning] Stopped training because there are no more leaves that meet the split requirements\n",
            "[LightGBM] [Warning] Stopped training because there are no more leaves that meet the split requirements\n",
            "[LightGBM] [Warning] Stopped training because there are no more leaves that meet the split requirements\n",
            "[LightGBM] [Warning] Stopped training because there are no more leaves that meet the split requirements\n",
            "[LightGBM] [Warning] Stopped training because there are no more leaves that meet the split requirements\n",
            "[LightGBM] [Warning] Stopped training because there are no more leaves that meet the split requirements\n",
            "[LightGBM] [Warning] Stopped training because there are no more leaves that meet the split requirements\n",
            "[LightGBM] [Warning] Stopped training because there are no more leaves that meet the split requirements\n",
            "[LightGBM] [Warning] Stopped training because there are no more leaves that meet the split requirements\n",
            "[LightGBM] [Warning] Stopped training because there are no more leaves that meet the split requirements\n",
            "[LightGBM] [Warning] Stopped training because there are no more leaves that meet the split requirements\n",
            "[LightGBM] [Warning] Stopped training because there are no more leaves that meet the split requirements\n",
            "[LightGBM] [Warning] Stopped training because there are no more leaves that meet the split requirements\n",
            "[LightGBM] [Warning] Stopped training because there are no more leaves that meet the split requirements\n",
            "[LightGBM] [Warning] Stopped training because there are no more leaves that meet the split requirements\n",
            "[LightGBM] [Warning] Stopped training because there are no more leaves that meet the split requirements\n",
            "[LightGBM] [Warning] Stopped training because there are no more leaves that meet the split requirements\n",
            "[LightGBM] [Warning] Stopped training because there are no more leaves that meet the split requirements\n",
            "[LightGBM] [Warning] Stopped training because there are no more leaves that meet the split requirements\n",
            "[LightGBM] [Warning] Stopped training because there are no more leaves that meet the split requirements\n",
            "[LightGBM] [Warning] Stopped training because there are no more leaves that meet the split requirements\n",
            "[LightGBM] [Warning] Stopped training because there are no more leaves that meet the split requirements\n",
            "[LightGBM] [Warning] Stopped training because there are no more leaves that meet the split requirements\n",
            "[LightGBM] [Warning] Stopped training because there are no more leaves that meet the split requirements\n",
            "[LightGBM] [Warning] Stopped training because there are no more leaves that meet the split requirements\n",
            "[LightGBM] [Warning] Stopped training because there are no more leaves that meet the split requirements\n",
            "[LightGBM] [Warning] Stopped training because there are no more leaves that meet the split requirements\n",
            "[LightGBM] [Warning] Stopped training because there are no more leaves that meet the split requirements\n",
            "[LightGBM] [Warning] Stopped training because there are no more leaves that meet the split requirements\n",
            "[LightGBM] [Warning] Stopped training because there are no more leaves that meet the split requirements\n",
            "[LightGBM] [Warning] Stopped training because there are no more leaves that meet the split requirements\n",
            "[LightGBM] [Warning] Stopped training because there are no more leaves that meet the split requirements\n",
            "[LightGBM] [Warning] Stopped training because there are no more leaves that meet the split requirements\n",
            "[LightGBM] [Warning] Stopped training because there are no more leaves that meet the split requirements\n",
            "[LightGBM] [Warning] Stopped training because there are no more leaves that meet the split requirements\n",
            "[LightGBM] [Warning] Stopped training because there are no more leaves that meet the split requirements\n",
            "[LightGBM] [Warning] Stopped training because there are no more leaves that meet the split requirements\n",
            "[LightGBM] [Warning] Stopped training because there are no more leaves that meet the split requirements\n",
            "[LightGBM] [Warning] Stopped training because there are no more leaves that meet the split requirements\n",
            "[LightGBM] [Warning] Stopped training because there are no more leaves that meet the split requirements\n",
            "[LightGBM] [Warning] Stopped training because there are no more leaves that meet the split requirements\n",
            "[LightGBM] [Warning] Stopped training because there are no more leaves that meet the split requirements\n",
            "[LightGBM] [Warning] Stopped training because there are no more leaves that meet the split requirements\n",
            "[LightGBM] [Warning] Stopped training because there are no more leaves that meet the split requirements\n",
            "[LightGBM] [Warning] Stopped training because there are no more leaves that meet the split requirements\n",
            "[LightGBM] [Warning] Stopped training because there are no more leaves that meet the split requirements\n",
            "[LightGBM] [Warning] Stopped training because there are no more leaves that meet the split requirements\n",
            "[LightGBM] [Warning] Stopped training because there are no more leaves that meet the split requirements\n",
            "[LightGBM] [Warning] Stopped training because there are no more leaves that meet the split requirements\n",
            "[LightGBM] [Warning] Stopped training because there are no more leaves that meet the split requirements\n",
            "[LightGBM] [Warning] Stopped training because there are no more leaves that meet the split requirements\n",
            "[LightGBM] [Warning] Stopped training because there are no more leaves that meet the split requirements\n",
            "[LightGBM] [Warning] Stopped training because there are no more leaves that meet the split requirements\n",
            "[LightGBM] [Warning] Stopped training because there are no more leaves that meet the split requirements\n",
            "[LightGBM] [Warning] Stopped training because there are no more leaves that meet the split requirements\n",
            "[LightGBM] [Warning] Stopped training because there are no more leaves that meet the split requirements\n",
            "[LightGBM] [Warning] Stopped training because there are no more leaves that meet the split requirements\n",
            "[LightGBM] [Warning] Stopped training because there are no more leaves that meet the split requirements\n",
            "[LightGBM] [Warning] Stopped training because there are no more leaves that meet the split requirements\n",
            "[LightGBM] [Warning] Stopped training because there are no more leaves that meet the split requirements\n",
            "[LightGBM] [Warning] Stopped training because there are no more leaves that meet the split requirements\n",
            "[LightGBM] [Warning] Stopped training because there are no more leaves that meet the split requirements\n",
            "[LightGBM] [Warning] Stopped training because there are no more leaves that meet the split requirements\n",
            "[LightGBM] [Warning] Stopped training because there are no more leaves that meet the split requirements\n",
            "[LightGBM] [Warning] Stopped training because there are no more leaves that meet the split requirements\n",
            "[LightGBM] [Warning] Stopped training because there are no more leaves that meet the split requirements\n",
            "[LightGBM] [Warning] Stopped training because there are no more leaves that meet the split requirements\n",
            "[LightGBM] [Warning] Stopped training because there are no more leaves that meet the split requirements\n",
            "[LightGBM] [Warning] Stopped training because there are no more leaves that meet the split requirements\n",
            "[LightGBM] [Warning] Stopped training because there are no more leaves that meet the split requirements\n",
            "[LightGBM] [Warning] Stopped training because there are no more leaves that meet the split requirements\n",
            "[LightGBM] [Warning] Stopped training because there are no more leaves that meet the split requirements\n",
            "[LightGBM] [Warning] Stopped training because there are no more leaves that meet the split requirements\n",
            "[LightGBM] [Warning] Stopped training because there are no more leaves that meet the split requirements\n",
            "[LightGBM] [Warning] Stopped training because there are no more leaves that meet the split requirements\n",
            "[LightGBM] [Warning] Stopped training because there are no more leaves that meet the split requirements\n",
            "[LightGBM] [Warning] Stopped training because there are no more leaves that meet the split requirements\n",
            "[LightGBM] [Warning] Stopped training because there are no more leaves that meet the split requirements\n",
            "[LightGBM] [Warning] Stopped training because there are no more leaves that meet the split requirements\n",
            "[LightGBM] [Warning] Stopped training because there are no more leaves that meet the split requirements\n",
            "[LightGBM] [Warning] Stopped training because there are no more leaves that meet the split requirements\n",
            "[LightGBM] [Warning] Stopped training because there are no more leaves that meet the split requirements\n",
            "[LightGBM] [Warning] Stopped training because there are no more leaves that meet the split requirements\n",
            "[LightGBM] [Warning] Stopped training because there are no more leaves that meet the split requirements\n",
            "[LightGBM] [Warning] Stopped training because there are no more leaves that meet the split requirements\n",
            "[LightGBM] [Warning] Stopped training because there are no more leaves that meet the split requirements\n",
            "[LightGBM] [Warning] Stopped training because there are no more leaves that meet the split requirements\n",
            "[LightGBM] [Warning] Stopped training because there are no more leaves that meet the split requirements\n",
            "[LightGBM] [Warning] Stopped training because there are no more leaves that meet the split requirements\n",
            "[LightGBM] [Warning] Stopped training because there are no more leaves that meet the split requirements\n",
            "[LightGBM] [Warning] Stopped training because there are no more leaves that meet the split requirements\n",
            "[LightGBM] [Warning] Stopped training because there are no more leaves that meet the split requirements\n",
            "[LightGBM] [Warning] Stopped training because there are no more leaves that meet the split requirements\n",
            "[LightGBM] [Warning] Stopped training because there are no more leaves that meet the split requirements\n",
            "[LightGBM] [Warning] Stopped training because there are no more leaves that meet the split requirements\n",
            "[LightGBM] [Warning] Stopped training because there are no more leaves that meet the split requirements\n",
            "[LightGBM] [Warning] Stopped training because there are no more leaves that meet the split requirements\n",
            "[LightGBM] [Warning] Stopped training because there are no more leaves that meet the split requirements\n",
            "[LightGBM] [Warning] Stopped training because there are no more leaves that meet the split requirements\n",
            "[LightGBM] [Warning] Stopped training because there are no more leaves that meet the split requirements\n",
            "[LightGBM] [Warning] Stopped training because there are no more leaves that meet the split requirements\n",
            "[LightGBM] [Warning] Stopped training because there are no more leaves that meet the split requirements\n",
            "[LightGBM] [Warning] Stopped training because there are no more leaves that meet the split requirements\n",
            "[LightGBM] [Warning] Stopped training because there are no more leaves that meet the split requirements\n",
            "[LightGBM] [Warning] Stopped training because there are no more leaves that meet the split requirements\n",
            "[LightGBM] [Warning] Stopped training because there are no more leaves that meet the split requirements\n",
            "[LightGBM] [Warning] Stopped training because there are no more leaves that meet the split requirements\n",
            "[LightGBM] [Warning] Stopped training because there are no more leaves that meet the split requirements\n",
            "[LightGBM] [Warning] Stopped training because there are no more leaves that meet the split requirements\n",
            "[LightGBM] [Warning] Stopped training because there are no more leaves that meet the split requirements\n",
            "[LightGBM] [Warning] Stopped training because there are no more leaves that meet the split requirements\n",
            "[LightGBM] [Warning] Stopped training because there are no more leaves that meet the split requirements\n",
            "[LightGBM] [Warning] Stopped training because there are no more leaves that meet the split requirements\n",
            "[LightGBM] [Warning] Stopped training because there are no more leaves that meet the split requirements\n",
            "[LightGBM] [Warning] Stopped training because there are no more leaves that meet the split requirements\n",
            "[LightGBM] [Warning] Stopped training because there are no more leaves that meet the split requirements\n",
            "[LightGBM] [Warning] Stopped training because there are no more leaves that meet the split requirements\n",
            "[LightGBM] [Warning] Stopped training because there are no more leaves that meet the split requirements\n",
            "[LightGBM] [Warning] Stopped training because there are no more leaves that meet the split requirements\n",
            "[LightGBM] [Warning] Stopped training because there are no more leaves that meet the split requirements\n",
            "[LightGBM] [Warning] Stopped training because there are no more leaves that meet the split requirements\n",
            "[LightGBM] [Warning] Stopped training because there are no more leaves that meet the split requirements\n",
            "[LightGBM] [Warning] Stopped training because there are no more leaves that meet the split requirements\n",
            "[LightGBM] [Warning] Stopped training because there are no more leaves that meet the split requirements\n",
            "[LightGBM] [Warning] Stopped training because there are no more leaves that meet the split requirements\n",
            "[LightGBM] [Warning] Stopped training because there are no more leaves that meet the split requirements\n",
            "[LightGBM] [Warning] Stopped training because there are no more leaves that meet the split requirements\n",
            "[LightGBM] [Warning] Stopped training because there are no more leaves that meet the split requirements\n",
            "[LightGBM] [Warning] Stopped training because there are no more leaves that meet the split requirements\n",
            "[LightGBM] [Warning] Stopped training because there are no more leaves that meet the split requirements\n",
            "[LightGBM] [Warning] Stopped training because there are no more leaves that meet the split requirements\n",
            "[LightGBM] [Warning] Stopped training because there are no more leaves that meet the split requirements\n",
            "[LightGBM] [Warning] Stopped training because there are no more leaves that meet the split requirements\n",
            "[LightGBM] [Warning] Stopped training because there are no more leaves that meet the split requirements\n",
            "[LightGBM] [Warning] Stopped training because there are no more leaves that meet the split requirements\n",
            "[LightGBM] [Warning] Stopped training because there are no more leaves that meet the split requirements\n",
            "[LightGBM] [Warning] Stopped training because there are no more leaves that meet the split requirements\n",
            "[LightGBM] [Warning] Stopped training because there are no more leaves that meet the split requirements\n",
            "[LightGBM] [Warning] Stopped training because there are no more leaves that meet the split requirements\n",
            "[LightGBM] [Warning] Stopped training because there are no more leaves that meet the split requirements\n",
            "[LightGBM] [Warning] Stopped training because there are no more leaves that meet the split requirements\n",
            "[LightGBM] [Warning] Stopped training because there are no more leaves that meet the split requirements\n",
            "[LightGBM] [Warning] Stopped training because there are no more leaves that meet the split requirements\n",
            "[LightGBM] [Warning] Stopped training because there are no more leaves that meet the split requirements\n",
            "[LightGBM] [Warning] Stopped training because there are no more leaves that meet the split requirements\n",
            "[LightGBM] [Warning] Stopped training because there are no more leaves that meet the split requirements\n",
            "[LightGBM] [Warning] Stopped training because there are no more leaves that meet the split requirements\n",
            "[LightGBM] [Warning] Stopped training because there are no more leaves that meet the split requirements\n",
            "[LightGBM] [Warning] Stopped training because there are no more leaves that meet the split requirements\n",
            "[LightGBM] [Warning] Stopped training because there are no more leaves that meet the split requirements\n",
            "[LightGBM] [Warning] Stopped training because there are no more leaves that meet the split requirements\n",
            "[LightGBM] [Warning] Stopped training because there are no more leaves that meet the split requirements\n",
            "[LightGBM] [Warning] Stopped training because there are no more leaves that meet the split requirements\n",
            "[LightGBM] [Warning] Stopped training because there are no more leaves that meet the split requirements\n",
            "[LightGBM] [Warning] Stopped training because there are no more leaves that meet the split requirements\n",
            "[LightGBM] [Warning] Stopped training because there are no more leaves that meet the split requirements\n",
            "[LightGBM] [Warning] Stopped training because there are no more leaves that meet the split requirements\n",
            "[LightGBM] [Warning] Stopped training because there are no more leaves that meet the split requirements\n",
            "[LightGBM] [Warning] Stopped training because there are no more leaves that meet the split requirements\n",
            "[LightGBM] [Warning] Stopped training because there are no more leaves that meet the split requirements\n",
            "[LightGBM] [Warning] Stopped training because there are no more leaves that meet the split requirements\n",
            "[LightGBM] [Warning] Stopped training because there are no more leaves that meet the split requirements\n",
            "[LightGBM] [Warning] Stopped training because there are no more leaves that meet the split requirements\n",
            "[LightGBM] [Warning] Stopped training because there are no more leaves that meet the split requirements\n",
            "[LightGBM] [Warning] Stopped training because there are no more leaves that meet the split requirements\n",
            "[LightGBM] [Warning] Stopped training because there are no more leaves that meet the split requirements\n",
            "[LightGBM] [Warning] Stopped training because there are no more leaves that meet the split requirements\n",
            "[LightGBM] [Warning] Stopped training because there are no more leaves that meet the split requirements\n",
            "[LightGBM] [Warning] Stopped training because there are no more leaves that meet the split requirements\n",
            "[LightGBM] [Warning] Stopped training because there are no more leaves that meet the split requirements\n",
            "[LightGBM] [Warning] Stopped training because there are no more leaves that meet the split requirements\n",
            "[LightGBM] [Warning] Stopped training because there are no more leaves that meet the split requirements\n",
            "[LightGBM] [Warning] Stopped training because there are no more leaves that meet the split requirements\n",
            "[LightGBM] [Warning] Stopped training because there are no more leaves that meet the split requirements\n",
            "[LightGBM] [Warning] Stopped training because there are no more leaves that meet the split requirements\n",
            "[LightGBM] [Warning] Stopped training because there are no more leaves that meet the split requirements\n",
            "[LightGBM] [Warning] Stopped training because there are no more leaves that meet the split requirements\n",
            "[LightGBM] [Warning] Stopped training because there are no more leaves that meet the split requirements\n",
            "[LightGBM] [Warning] Stopped training because there are no more leaves that meet the split requirements\n",
            "[LightGBM] [Warning] Stopped training because there are no more leaves that meet the split requirements\n",
            "[LightGBM] [Warning] Stopped training because there are no more leaves that meet the split requirements\n",
            "[LightGBM] [Warning] Stopped training because there are no more leaves that meet the split requirements\n",
            "[LightGBM] [Warning] Stopped training because there are no more leaves that meet the split requirements\n",
            "[LightGBM] [Warning] Stopped training because there are no more leaves that meet the split requirements\n",
            "[LightGBM] [Warning] Stopped training because there are no more leaves that meet the split requirements\n",
            "[LightGBM] [Warning] Stopped training because there are no more leaves that meet the split requirements\n",
            "[LightGBM] [Warning] Stopped training because there are no more leaves that meet the split requirements\n",
            "[LightGBM] [Warning] Stopped training because there are no more leaves that meet the split requirements\n",
            "Accuracy: 0.6666666666666666\n",
            "Recall: 0.6666666666666666\n",
            "Precision: 0.4444444444444444\n",
            "F1-score: 0.5333333333333334\n",
            "Classification Report (Test):\n",
            "               precision    recall  f1-score   support\n",
            "\n",
            "           0       0.00      0.00      0.00         3\n",
            "           1       0.67      1.00      0.80         6\n",
            "\n",
            "    accuracy                           0.67         9\n",
            "   macro avg       0.33      0.50      0.40         9\n",
            "weighted avg       0.44      0.67      0.53         9\n",
            "\n"
          ]
        },
        {
          "data": {
            "image/png": "[encoded data removed]",
            "text/plain": [
              "<Figure size 800x600 with 1 Axes>"
            ]
          },
          "metadata": {},
          "output_type": "display_data"
        }
      ],
      "source": [
        "# LightGBM\n",
        "\n",
        "from lightgbm import LGBMClassifier\n",
        "model=fit_and_evaluate(X_train_ml, y_train_ml, X_test_ml, y_test_ml,\n",
        "                       LGBMClassifier(learning_rate = 0.01, n_estimators = 200,\n",
        "                                      max_depth = -1, subsample = 0.8, colsample_bytree = 0.8))"
      ]
    },
    {
      "cell_type": "code",
      "execution_count": null,
      "metadata": {
        "colab": {
          "base_uri": "https://localhost:8080/",
          "height": 870
        },
        "id": "1JvIeJKAh7y5",
        "outputId": "4363a0f1-3f81-41cc-df28-121c4f6ab8e1"
      },
      "outputs": [
        {
          "name": "stderr",
          "output_type": "stream",
          "text": [
            "/usr/local/lib/python3.10/dist-packages/sklearn/utils/validation.py:1143: DataConversionWarning: A column-vector y was passed when a 1d array was expected. Please change the shape of y to (n_samples, ), for example using ravel().\n",
            "  y = column_or_1d(y, warn=True)\n"
          ]
        },
        {
          "name": "stdout",
          "output_type": "stream",
          "text": [
            "Accuracy: 0.7777777777777778\n",
            "Recall: 0.7777777777777778\n",
            "Precision: 0.7777777777777778\n",
            "F1-score: 0.7777777777777778\n",
            "Classification Report (Test):\n",
            "               precision    recall  f1-score   support\n",
            "\n",
            "           0       0.67      0.67      0.67         3\n",
            "           1       0.83      0.83      0.83         6\n",
            "\n",
            "    accuracy                           0.78         9\n",
            "   macro avg       0.75      0.75      0.75         9\n",
            "weighted avg       0.78      0.78      0.78         9\n",
            "\n"
          ]
        },
        {
          "data": {
            "image/png": "[encoded data removed]",
            "text/plain": [
              "<Figure size 800x600 with 1 Axes>"
            ]
          },
          "metadata": {},
          "output_type": "display_data"
        }
      ],
      "source": [
        "# Bernoulli NB\n",
        "\n",
        "from sklearn.naive_bayes import BernoulliNB\n",
        "model=fit_and_evaluate(X_train_ml, y_train_ml, X_test_ml, y_test_ml,\n",
        "                       BernoulliNB(alpha = 0.1, binarize = 0.0, fit_prior = True))"
      ]
    },
    {
      "cell_type": "code",
      "execution_count": null,
      "metadata": {
        "colab": {
          "base_uri": "https://localhost:8080/",
          "height": 870
        },
        "id": "97OAH0JziASN",
        "outputId": "b6b15f15-5941-44f9-d464-6a58db733d97"
      },
      "outputs": [
        {
          "name": "stdout",
          "output_type": "stream",
          "text": [
            "Accuracy: 0.2222222222222222\n",
            "Recall: 0.2222222222222222\n",
            "Precision: 0.2777777777777778\n",
            "F1-score: 0.2222222222222222\n",
            "Classification Report (Test):\n",
            "               precision    recall  f1-score   support\n",
            "\n",
            "           0       0.17      0.33      0.22         3\n",
            "           1       0.33      0.17      0.22         6\n",
            "\n",
            "    accuracy                           0.22         9\n",
            "   macro avg       0.25      0.25      0.22         9\n",
            "weighted avg       0.28      0.22      0.22         9\n",
            "\n"
          ]
        },
        {
          "name": "stderr",
          "output_type": "stream",
          "text": [
            "/usr/local/lib/python3.10/dist-packages/sklearn/utils/validation.py:1143: DataConversionWarning: A column-vector y was passed when a 1d array was expected. Please change the shape of y to (n_samples, ), for example using ravel().\n",
            "  y = column_or_1d(y, warn=True)\n"
          ]
        },
        {
          "data": {
            "image/png": "[encoded data removed]",
            "text/plain": [
              "<Figure size 800x600 with 1 Axes>"
            ]
          },
          "metadata": {},
          "output_type": "display_data"
        }
      ],
      "source": [
        "# Gaussian NB\n",
        "\n",
        "from sklearn.naive_bayes import GaussianNB\n",
        "model=fit_and_evaluate(X_train_ml, y_train_ml, X_test_ml, y_test_ml,\n",
        "                       GaussianNB())"
      ]
    },
    {
      "cell_type": "markdown",
      "metadata": {
        "id": "PEAwi_x4cLPr"
      },
      "source": [
        "## DL Models"
      ]
    },
    {
      "cell_type": "code",
      "execution_count": 121,
      "metadata": {
        "colab": {
          "base_uri": "https://localhost:8080/"
        },
        "id": "nCQEjSPGe__M",
        "outputId": "bafb6a7d-e7e0-4c5b-b2aa-54b66f8cdf9a"
      },
      "outputs": [
        {
          "output_type": "execute_result",
          "data": {
            "text/plain": [
              "((28, 32, 32), (8, 32, 32), (28,), (9,))"
            ]
          },
          "metadata": {},
          "execution_count": 121
        }
      ],
      "source": [
        "X_train_dl, X_val, y_train_dl, y_val = train_test_split(X_train, y_train, test_size=0.2, random_state=42)\n",
        "\n",
        "X_train_dl.shape, X_val.shape, y_train_dl.shape, y_test.shape"
      ]
    },
    {
      "cell_type": "code",
      "execution_count": 122,
      "metadata": {
        "id": "e3g7b-mHcCTV"
      },
      "outputs": [],
      "source": [
        "scalar = StandardScaler3D()\n",
        "\n",
        "X_train_dl = scalar.fit_transform(X_train_dl)\n",
        "X_val = scalar.transform(X_val)\n",
        "X_test_dl = scalar.transform(X_test)\n"
      ]
    },
    {
      "cell_type": "markdown",
      "metadata": {
        "id": "C5krCH3GeNxr"
      },
      "source": [
        "### CNN"
      ]
    },
    {
      "cell_type": "code",
      "execution_count": 125,
      "metadata": {
        "colab": {
          "base_uri": "https://localhost:8080/",
          "height": 1000
        },
        "id": "8uwQbVnZcOY3",
        "outputId": "72391898-ab7a-46ae-abdc-865bde4ffedf"
      },
      "outputs": [
        {
          "output_type": "stream",
          "name": "stdout",
          "text": [
            "Epoch 1/70\n",
            "1/1 [==============================] - 7s 7s/step - loss: 0.6857 - accuracy: 0.5357 - val_loss: 0.7208 - val_accuracy: 0.5000\n",
            "Epoch 2/70\n",
            "1/1 [==============================] - 0s 125ms/step - loss: 0.5063 - accuracy: 0.8214 - val_loss: 0.8121 - val_accuracy: 0.3750\n",
            "Epoch 3/70\n",
            "1/1 [==============================] - 0s 134ms/step - loss: 0.4042 - accuracy: 0.9286 - val_loss: 0.8328 - val_accuracy: 0.3750\n",
            "Epoch 4/70\n",
            "1/1 [==============================] - 0s 167ms/step - loss: 0.3042 - accuracy: 1.0000 - val_loss: 0.8050 - val_accuracy: 0.3750\n",
            "Epoch 5/70\n",
            "1/1 [==============================] - 0s 148ms/step - loss: 0.2203 - accuracy: 1.0000 - val_loss: 0.7762 - val_accuracy: 0.3750\n",
            "Epoch 6/70\n",
            "1/1 [==============================] - 0s 137ms/step - loss: 0.1552 - accuracy: 1.0000 - val_loss: 0.7787 - val_accuracy: 0.3750\n",
            "1/1 [==============================] - 1s 702ms/step\n",
            "Accuracy: 0.7777777777777778\n",
            "Recall: 0.7777777777777778\n",
            "Precision: 0.8333333333333334\n",
            "F1-score: 0.738095238095238\n",
            "Classification Report (Test):\n",
            "               precision    recall  f1-score   support\n",
            "\n",
            "           0       1.00      0.33      0.50         3\n",
            "           1       0.75      1.00      0.86         6\n",
            "\n",
            "    accuracy                           0.78         9\n",
            "   macro avg       0.88      0.67      0.68         9\n",
            "weighted avg       0.83      0.78      0.74         9\n",
            "\n"
          ]
        },
        {
          "output_type": "display_data",
          "data": {
            "text/plain": [
              "<Figure size 800x600 with 1 Axes>"
            ],
            "image/png": "[encoded data removed]"
          },
          "metadata": {}
        },
        {
          "output_type": "display_data",
          "data": {
            "text/plain": [
              "<Figure size 640x480 with 1 Axes>"
            ],
            "image/png": "[encoded data removed]"
          },
          "metadata": {}
        },
        {
          "output_type": "display_data",
          "data": {
            "text/plain": [
              "<Figure size 640x480 with 1 Axes>"
            ],
            "image/png": "[encoded data removed]"
          },
          "metadata": {}
        }
      ],
      "source": [
        "import tensorflow as tf\n",
        "from tensorflow.keras.layers import Input,Dense,concatenate,Flatten,GRU,Conv1D, MaxPooling1D\n",
        "from tensorflow.keras.models import Model\n",
        "from tensorflow.keras.optimizers import Adam,SGD\n",
        "from tensorflow.keras.callbacks import EarlyStopping\n",
        "\n",
        "def block(input):\n",
        "    conv1 = Conv1D(32, 2, strides=2, activation='relu', padding=\"same\")(input)\n",
        "    conv2 = Conv1D(32, 4, strides=2, activation='relu', padding=\"causal\")(input)\n",
        "    conv3 = Conv1D(32, 8, strides=2, activation='relu', padding=\"causal\")(input)\n",
        "    x = concatenate([conv1, conv2, conv3], axis=2)\n",
        "    return x\n",
        "\n",
        "# Define the input layer with a shape of (32, 32)\n",
        "input_layer = Input(shape=(32, 32))\n",
        "\n",
        "# Create the first block\n",
        "block1 = block(input_layer)\n",
        "\n",
        "# Create the second block using the 'block' function with the output of the first block as input\n",
        "block2 = block(block1)\n",
        "\n",
        "# Create the third block using the 'block' function with the output of the second block as input\n",
        "block3 = block(block2)\n",
        "\n",
        "cnn_out1 = Conv1D(32, 3, activation='relu', padding='same')(block3)\n",
        "cnn_out2 = Conv1D(32, 3, activation='relu', padding='same')(cnn_out1)\n",
        "cnn_out3 = MaxPooling1D(pool_size=2)(cnn_out2)\n",
        "cnn_out4 = Flatten()(cnn_out3)\n",
        "\n",
        "# Create a Dense layer with 1 unit and sigmoid activation for binary classification\n",
        "predictions = Dense(1, activation='sigmoid')(cnn_out4)\n",
        "\n",
        "# Define the model with 'input_layer' as the input and 'predictions' as the output\n",
        "model = Model(inputs=input_layer, outputs=predictions)\n",
        "\n",
        "# Specify the Adam optimizer with a learning rate of 0.0001\n",
        "optimizer = Adam(learning_rate=0.001)\n",
        "\n",
        "# Compile the model with binary crossentropy loss and accuracy as the evaluation metric\n",
        "model.compile(optimizer=optimizer, loss='binary_crossentropy', metrics=['accuracy'])\n",
        "\n",
        "# Define early stopping callback\n",
        "early_stopping = EarlyStopping(monitor='val_loss', patience=5, restore_best_weights=True)\n",
        "\n",
        "# Train the model using training features and labels\n",
        "hist = model.fit(X_train_dl, y_train_dl, epochs=70, batch_size=64,\n",
        "                 validation_data=(X_val, y_val), callbacks=[early_stopping])\n",
        "\n",
        "# evaluate the model\n",
        "evaluate(model, X_test_dl, y_test)\n",
        "\n",
        "\n",
        "# plot model accuracy and loss of training and validation\n",
        "plot_history(hist)"
      ]
    },
    {
      "cell_type": "markdown",
      "metadata": {
        "id": "QzmhVqtEgTDN"
      },
      "source": [
        "### LSTM"
      ]
    },
    {
      "cell_type": "code",
      "execution_count": 130,
      "metadata": {
        "colab": {
          "base_uri": "https://localhost:8080/",
          "height": 1000
        },
        "id": "lH8xYRK9gUNS",
        "outputId": "2ffbf21d-69e4-405d-a7b6-f1d6998f2ff0"
      },
      "outputs": [
        {
          "output_type": "stream",
          "name": "stdout",
          "text": [
            "Epoch 1/30\n",
            "1/1 [==============================] - 12s 12s/step - loss: 0.6886 - accuracy: 0.5357 - val_loss: 0.7102 - val_accuracy: 0.2500\n",
            "Epoch 2/30\n",
            "1/1 [==============================] - 0s 121ms/step - loss: 0.6872 - accuracy: 0.6071 - val_loss: 0.7133 - val_accuracy: 0.2500\n",
            "Epoch 3/30\n",
            "1/1 [==============================] - 0s 145ms/step - loss: 0.6803 - accuracy: 0.5000 - val_loss: 0.7172 - val_accuracy: 0.2500\n",
            "Epoch 4/30\n",
            "1/1 [==============================] - 0s 147ms/step - loss: 0.6684 - accuracy: 0.6786 - val_loss: 0.7214 - val_accuracy: 0.3750\n",
            "Epoch 5/30\n",
            "1/1 [==============================] - 0s 261ms/step - loss: 0.6624 - accuracy: 0.6786 - val_loss: 0.7260 - val_accuracy: 0.3750\n",
            "Epoch 6/30\n",
            "1/1 [==============================] - 0s 240ms/step - loss: 0.6742 - accuracy: 0.5714 - val_loss: 0.7312 - val_accuracy: 0.3750\n",
            "1/1 [==============================] - 2s 2s/step\n",
            "Accuracy: 0.7777777777777778\n",
            "Recall: 0.7777777777777778\n",
            "Precision: 0.8333333333333334\n",
            "F1-score: 0.738095238095238\n",
            "Classification Report (Test):\n",
            "               precision    recall  f1-score   support\n",
            "\n",
            "           0       1.00      0.33      0.50         3\n",
            "           1       0.75      1.00      0.86         6\n",
            "\n",
            "    accuracy                           0.78         9\n",
            "   macro avg       0.88      0.67      0.68         9\n",
            "weighted avg       0.83      0.78      0.74         9\n",
            "\n"
          ]
        },
        {
          "output_type": "display_data",
          "data": {
            "text/plain": [
              "<Figure size 800x600 with 1 Axes>"
            ],
            "image/png": "[encoded data removed]"
          },
          "metadata": {}
        },
        {
          "output_type": "display_data",
          "data": {
            "text/plain": [
              "<Figure size 640x480 with 1 Axes>"
            ],
            "image/png": "[encoded data removed]"
          },
          "metadata": {}
        },
        {
          "output_type": "display_data",
          "data": {
            "text/plain": [
              "<Figure size 640x480 with 1 Axes>"
            ],
            "image/png": "[encoded data removed]"
          },
          "metadata": {}
        }
      ],
      "source": [
        "from tensorflow.keras.models import Sequential\n",
        "from tensorflow.keras.layers import LSTM, Dense, Dropout\n",
        "from tensorflow.keras.callbacks import EarlyStopping\n",
        "from tensorflow.keras.optimizers import SGD, Adam\n",
        "\n",
        "model = Sequential()\n",
        "model.add(LSTM(units = 50, return_sequences = True, input_shape = (32, 32)))\n",
        "model.add(Dropout(0.2))\n",
        "model.add(LSTM(units = 25))\n",
        "model.add(Dropout(0.2))\n",
        "model.add(Dense(units = 1, activation = 'sigmoid'))\n",
        "optimizer = Adam(learning_rate=0.001)\n",
        "model.compile(optimizer = optimizer, loss = 'binary_crossentropy', metrics = ['accuracy'])\n",
        "\n",
        "# Define early stopping callback\n",
        "early_stopping = EarlyStopping(monitor='val_loss', patience=5, restore_best_weights=True)\n",
        "\n",
        "hist = model.fit(X_train_dl, y_train_dl, epochs=30, batch_size=128, validation_data=(X_val, y_val), callbacks=[early_stopping])\n",
        "\n",
        "# Evaluate the model\n",
        "evaluate(model, X_test_dl, y_test)\n",
        "\n",
        "# Plot the history\n",
        "plot_history(hist)"
      ]
    },
    {
      "cell_type": "markdown",
      "metadata": {
        "id": "i4W2EZbdivLd"
      },
      "source": [
        "### CNN+LSTM"
      ]
    },
    {
      "cell_type": "code",
      "execution_count": 135,
      "metadata": {
        "colab": {
          "base_uri": "https://localhost:8080/",
          "height": 1000
        },
        "id": "jJOU9IP3itWn",
        "outputId": "99de9a11-d3b6-45d1-9e20-a0deb0b3e8b6"
      },
      "outputs": [
        {
          "output_type": "stream",
          "name": "stdout",
          "text": [
            "Epoch 1/70\n",
            "1/1 [==============================] - 7s 7s/step - loss: 0.7000 - accuracy: 0.4286 - val_loss: 0.7260 - val_accuracy: 0.3750\n",
            "Epoch 2/70\n",
            "1/1 [==============================] - 0s 102ms/step - loss: 0.6671 - accuracy: 0.6071 - val_loss: 0.7551 - val_accuracy: 0.3750\n",
            "Epoch 3/70\n",
            "1/1 [==============================] - 0s 88ms/step - loss: 0.6448 - accuracy: 0.6071 - val_loss: 0.7801 - val_accuracy: 0.3750\n",
            "Epoch 4/70\n",
            "1/1 [==============================] - 0s 100ms/step - loss: 0.6274 - accuracy: 0.6071 - val_loss: 0.7958 - val_accuracy: 0.3750\n",
            "Epoch 5/70\n",
            "1/1 [==============================] - 0s 99ms/step - loss: 0.6096 - accuracy: 0.6071 - val_loss: 0.8005 - val_accuracy: 0.3750\n",
            "Epoch 6/70\n",
            "1/1 [==============================] - 0s 130ms/step - loss: 0.5885 - accuracy: 0.6429 - val_loss: 0.7956 - val_accuracy: 0.3750\n",
            "1/1 [==============================] - 2s 2s/step\n",
            "Accuracy: 0.7777777777777778\n",
            "Recall: 0.7777777777777778\n",
            "Precision: 0.8333333333333334\n",
            "F1-score: 0.738095238095238\n",
            "Classification Report (Test):\n",
            "               precision    recall  f1-score   support\n",
            "\n",
            "           0       1.00      0.33      0.50         3\n",
            "           1       0.75      1.00      0.86         6\n",
            "\n",
            "    accuracy                           0.78         9\n",
            "   macro avg       0.88      0.67      0.68         9\n",
            "weighted avg       0.83      0.78      0.74         9\n",
            "\n"
          ]
        },
        {
          "output_type": "display_data",
          "data": {
            "text/plain": [
              "<Figure size 800x600 with 1 Axes>"
            ],
            "image/png": "[encoded data removed]"
          },
          "metadata": {}
        },
        {
          "output_type": "display_data",
          "data": {
            "text/plain": [
              "<Figure size 640x480 with 1 Axes>"
            ],
            "image/png": "[encoded data removed]"
          },
          "metadata": {}
        },
        {
          "output_type": "display_data",
          "data": {
            "text/plain": [
              "<Figure size 640x480 with 1 Axes>"
            ],
            "image/png": "[encoded data removed]"
          },
          "metadata": {}
        }
      ],
      "source": [
        "from tensorflow.keras.layers import Input, Conv1D, concatenate, Dense, MaxPooling1D, Flatten, LSTM\n",
        "from tensorflow.keras.models import Model\n",
        "from tensorflow.keras.optimizers import Adam, SGD\n",
        "from tensorflow.keras.callbacks import EarlyStopping\n",
        "\n",
        "# Define the input layer with a shape of (32, 32)\n",
        "input_layer = Input(shape=(32, 32))\n",
        "\n",
        "# Convolutional Block\n",
        "conv1 = Conv1D(32, 2, strides=2, activation='relu', padding=\"same\")(input_layer)\n",
        "conv2 = Conv1D(32, 4, strides=2, activation='relu', padding=\"causal\")(input_layer)\n",
        "conv3 = Conv1D(32, 8, strides=2, activation='relu', padding=\"causal\")(input_layer)\n",
        "cnn_output = concatenate([conv1, conv2, conv3], axis=2)\n",
        "\n",
        "# LSTM Layer\n",
        "lstm_layer = LSTM(60)(cnn_output)\n",
        "\n",
        "# Fully Connected Layers\n",
        "dense1 = Dense(32, activation='tanh')(lstm_layer)\n",
        "\n",
        "# Output Layer\n",
        "predictions = Dense(1, activation='sigmoid')(dense1)\n",
        "\n",
        "# Create the model\n",
        "model = Model(inputs=input_layer, outputs=predictions)\n",
        "\n",
        "# Compile the model\n",
        "optimizer = Adam(learning_rate=0.001)\n",
        "model.compile(optimizer=optimizer, loss='binary_crossentropy', metrics=['accuracy'])\n",
        "\n",
        "# Define early stopping callback\n",
        "early_stopping = EarlyStopping(monitor='val_loss', patience=5, restore_best_weights=True)\n",
        "\n",
        "\n",
        "hist = model.fit(X_train_dl, y_train_dl, epochs=70,\n",
        "                 batch_size=64, validation_data=(X_val, y_val), callbacks=[early_stopping])\n",
        "\n",
        "# Evaluate the model\n",
        "evaluate(model, X_test_dl, y_test)\n",
        "\n",
        "# Plot the history\n",
        "plot_history(hist)"
      ]
    },
    {
      "cell_type": "markdown",
      "metadata": {
        "id": "8lMKldsajDco"
      },
      "source": [
        "### CNN+GRU"
      ]
    },
    {
      "cell_type": "code",
      "execution_count": 147,
      "metadata": {
        "colab": {
          "base_uri": "https://localhost:8080/",
          "height": 1000
        },
        "id": "3bUIrJkHjItT",
        "outputId": "9579e153-44a9-495d-ef33-a380187ac551"
      },
      "outputs": [
        {
          "output_type": "stream",
          "name": "stdout",
          "text": [
            "Epoch 1/70\n",
            "1/1 [==============================] - 15s 15s/step - loss: 0.6854 - accuracy: 0.6071 - val_loss: 0.7836 - val_accuracy: 0.3750\n",
            "Epoch 2/70\n",
            "1/1 [==============================] - 0s 77ms/step - loss: 0.6180 - accuracy: 0.6071 - val_loss: 0.7806 - val_accuracy: 0.3750\n",
            "Epoch 3/70\n",
            "1/1 [==============================] - 0s 69ms/step - loss: 0.5557 - accuracy: 0.6071 - val_loss: 0.7430 - val_accuracy: 0.3750\n",
            "Epoch 4/70\n",
            "1/1 [==============================] - 0s 84ms/step - loss: 0.4851 - accuracy: 0.7857 - val_loss: 0.7067 - val_accuracy: 0.3750\n",
            "Epoch 5/70\n",
            "1/1 [==============================] - 0s 84ms/step - loss: 0.4142 - accuracy: 1.0000 - val_loss: 0.6985 - val_accuracy: 0.3750\n",
            "Epoch 6/70\n",
            "1/1 [==============================] - 0s 64ms/step - loss: 0.3376 - accuracy: 1.0000 - val_loss: 0.7257 - val_accuracy: 0.3750\n",
            "Epoch 7/70\n",
            "1/1 [==============================] - 0s 78ms/step - loss: 0.2613 - accuracy: 1.0000 - val_loss: 0.7712 - val_accuracy: 0.3750\n",
            "Epoch 8/70\n",
            "1/1 [==============================] - 0s 63ms/step - loss: 0.1944 - accuracy: 1.0000 - val_loss: 0.8058 - val_accuracy: 0.3750\n",
            "Epoch 9/70\n",
            "1/1 [==============================] - 0s 79ms/step - loss: 0.1388 - accuracy: 1.0000 - val_loss: 0.8081 - val_accuracy: 0.3750\n",
            "Epoch 10/70\n",
            "1/1 [==============================] - 0s 94ms/step - loss: 0.0963 - accuracy: 1.0000 - val_loss: 0.7950 - val_accuracy: 0.3750\n",
            "1/1 [==============================] - 2s 2s/step\n",
            "Accuracy: 0.7777777777777778\n",
            "Recall: 0.7777777777777778\n",
            "Precision: 0.8333333333333334\n",
            "F1-score: 0.738095238095238\n",
            "Classification Report (Test):\n",
            "               precision    recall  f1-score   support\n",
            "\n",
            "           0       1.00      0.33      0.50         3\n",
            "           1       0.75      1.00      0.86         6\n",
            "\n",
            "    accuracy                           0.78         9\n",
            "   macro avg       0.88      0.67      0.68         9\n",
            "weighted avg       0.83      0.78      0.74         9\n",
            "\n"
          ]
        },
        {
          "output_type": "display_data",
          "data": {
            "text/plain": [
              "<Figure size 800x600 with 1 Axes>"
            ],
            "image/png": "[encoded data removed]"
          },
          "metadata": {}
        },
        {
          "output_type": "display_data",
          "data": {
            "text/plain": [
              "<Figure size 640x480 with 1 Axes>"
            ],
            "image/png": "[encoded data removed]"
          },
          "metadata": {}
        },
        {
          "output_type": "display_data",
          "data": {
            "text/plain": [
              "<Figure size 640x480 with 1 Axes>"
            ],
            "image/png": "[encoded data removed]"
          },
          "metadata": {}
        }
      ],
      "source": [
        "import tensorflow as tf\n",
        "from tensorflow.keras.layers import Input,Dense,concatenate,Flatten,GRU,Conv1D\n",
        "from tensorflow.keras.models import Model\n",
        "from tensorflow.keras.optimizers import Adam\n",
        "from tensorflow.keras.callbacks import EarlyStopping\n",
        "\n",
        "#resource:https://github.com/dll-ncai/eeg_pre-diagnostic_screening/blob/master/code/chrononet/chrono.py\n",
        "\n",
        "def block(input):\n",
        "\n",
        "  \"\"\"\n",
        "    Create a block consisting of three parallel convolutional layers followed by concatenation.\n",
        "\n",
        "    Parameters:\n",
        "    - input: Input tensor.\n",
        "\n",
        "    Returns:\n",
        "    - Concatenated tensor resulting from the parallel convolutional layers.\n",
        "    \"\"\"\n",
        "\n",
        "  conv1 = Conv1D(32, 2, strides=2,activation='relu',padding=\"same\")(input)\n",
        "  conv2 = Conv1D(32, 4, strides=2,activation='relu',padding=\"causal\")(input)\n",
        "  conv3 = Conv1D(32, 8, strides=2,activation='relu',padding=\"causal\")(input)\n",
        "  x = concatenate([conv1,conv2,conv3],axis=2)\n",
        "  return x\n",
        "\n",
        "# Define the input layer with a shape of (32, 32)\n",
        "input = Input(shape=(32, 32))\n",
        "\n",
        "# Create the first block\n",
        "block1 = block(input)\n",
        "\n",
        "# Create the second block using the 'block' function with the output of the first block as input\n",
        "block2 = block(block1)\n",
        "\n",
        "# Create the third block using the 'block' function with the output of the second block as input\n",
        "block3 = block(block2)\n",
        "\n",
        "gru_out1 = GRU(32,activation='tanh',return_sequences=True)(block3)\n",
        "gru_out2 = GRU(32,activation='tanh',return_sequences=True)(gru_out1)\n",
        "gru_out = concatenate([gru_out1,gru_out2],axis=2)\n",
        "gru_out3 = GRU(32,activation='tanh',return_sequences=True)(gru_out)\n",
        "gru_out = concatenate([gru_out1,gru_out2,gru_out3])\n",
        "gru_out4 = GRU(32,activation='tanh')(gru_out)\n",
        "\n",
        "# Create a Dense layer with 1 unit and sigmoid activation for binary classification\n",
        "predictions = Dense(1, activation='sigmoid')(gru_out4)\n",
        "\n",
        "# Define the model with 'input' as the input and 'predictions' as the output\n",
        "model = Model(inputs=input, outputs=predictions)\n",
        "\n",
        "# Specify the Adam optimizer with a learning rate of 0.0001\n",
        "optimizer = Adam(learning_rate=0.001)\n",
        "\n",
        "# Compile the model with binary crossentropy loss and accuracy as the evaluation metric\n",
        "model.compile(optimizer=optimizer, loss='binary_crossentropy', metrics=['accuracy'])\n",
        "\n",
        "# Define early stopping callback\n",
        "early_stopping = EarlyStopping(monitor='val_loss', patience=5, restore_best_weights=True)\n",
        "\n",
        "hist = model.fit(X_train_dl, y_train_dl, epochs = 70, batch_size = 32,\n",
        "                 validation_data=(X_val, y_val), callbacks=[early_stopping])\n",
        "\n",
        "# Evaluate the model\n",
        "evaluate(model, X_test_dl, y_test)\n",
        "\n",
        "# Plot the history\n",
        "plot_history(hist)"
      ]
    },
    {
      "cell_type": "markdown",
      "metadata": {
        "id": "UWH7JxJVjSKR"
      },
      "source": [
        "### RNN"
      ]
    },
    {
      "cell_type": "code",
      "execution_count": null,
      "metadata": {
        "colab": {
          "base_uri": "https://localhost:8080/",
          "height": 1000
        },
        "id": "el8IX9XujWpb",
        "outputId": "6ea84710-6d6f-42a2-daa3-b3a50eede978"
      },
      "outputs": [
        {
          "name": "stdout",
          "output_type": "stream",
          "text": [
            "Epoch 1/70\n",
            "1/1 [==============================] - 6s 6s/step - loss: 0.6635 - accuracy: 0.5357 - val_loss: 0.7521 - val_accuracy: 0.5000\n",
            "Epoch 2/70\n",
            "1/1 [==============================] - 0s 201ms/step - loss: 0.4138 - accuracy: 0.8929 - val_loss: 0.7720 - val_accuracy: 0.5000\n",
            "Epoch 3/70\n",
            "1/1 [==============================] - 0s 223ms/step - loss: 0.2690 - accuracy: 1.0000 - val_loss: 0.7972 - val_accuracy: 0.5000\n",
            "Epoch 4/70\n",
            "1/1 [==============================] - 0s 159ms/step - loss: 0.1824 - accuracy: 1.0000 - val_loss: 0.8206 - val_accuracy: 0.5000\n",
            "1/1 [==============================] - 1s 789ms/step\n",
            "Accuracy: 0.7777777777777778\n",
            "Recall: 0.7777777777777778\n",
            "Precision: 0.8666666666666667\n",
            "F1-score: 0.7833333333333334\n",
            "Classification Report (Test):\n",
            "               precision    recall  f1-score   support\n",
            "\n",
            "           0       0.60      1.00      0.75         3\n",
            "           1       1.00      0.67      0.80         6\n",
            "\n",
            "    accuracy                           0.78         9\n",
            "   macro avg       0.80      0.83      0.77         9\n",
            "weighted avg       0.87      0.78      0.78         9\n",
            "\n"
          ]
        },
        {
          "data": {
            "image/png": "[encoded data removed]",
            "text/plain": [
              "<Figure size 800x600 with 1 Axes>"
            ]
          },
          "metadata": {},
          "output_type": "display_data"
        },
        {
          "data": {
            "image/png": "[encoded data removed]",
            "text/plain": [
              "<Figure size 640x480 with 1 Axes>"
            ]
          },
          "metadata": {},
          "output_type": "display_data"
        },
        {
          "data": {
            "image/png": "[encoded data removed]",
            "text/plain": [
              "<Figure size 640x480 with 1 Axes>"
            ]
          },
          "metadata": {},
          "output_type": "display_data"
        }
      ],
      "source": [
        "from tensorflow.keras.layers import Input\n",
        "from tensorflow.keras.models import Sequential\n",
        "from tensorflow.keras.layers import SimpleRNN, Dense\n",
        "from tensorflow.keras.callbacks import EarlyStopping\n",
        "from tensorflow.keras.optimizers import Adam\n",
        "import tensorflow as tf\n",
        "\n",
        "input_shape = (32, 32)  # Define input shape as a tuple\n",
        "\n",
        "def create_model(input_shape):\n",
        "    model = Sequential()\n",
        "    model.add(SimpleRNN(128, input_shape=input_shape, return_sequences=True))  # RNN layer with 128 units and return sequences\n",
        "    model.add(SimpleRNN(128))  # Additional RNN layer with 128 units\n",
        "    model.add(Dense(64, activation='relu'))  # Dense layer with 64 units and ReLU activation\n",
        "    model.add(Dense(1, activation='sigmoid'))  # Output layer with sigmoid activation\n",
        "\n",
        "    return model\n",
        "\n",
        "# Pass input shape tuple to the create_model function\n",
        "model = create_model(input_shape)\n",
        "\n",
        "optimizer = tf.keras.optimizers.Adam(learning_rate=0.001)\n",
        "model.compile(loss='binary_crossentropy', optimizer=optimizer, metrics=['accuracy'])\n",
        "\n",
        "early_stopping = EarlyStopping(monitor='val_loss', patience=3, restore_best_weights=True)\n",
        "\n",
        "hist = model.fit(X_train_dl, y_train_dl, epochs=70, batch_size=64, validation_data=(X_val, y_val), callbacks=[early_stopping])\n",
        "\n",
        "# Evaluate the model\n",
        "evaluate(model, X_test_dl, y_test)\n",
        "\n",
        "# Plot the history\n",
        "plot_history(hist)"
      ]
    },
    {
      "cell_type": "code",
      "execution_count": null,
      "metadata": {
        "id": "CqGiTSdqhLX4"
      },
      "outputs": [],
      "source": []
    }
  ],
  "metadata": {
    "colab": {
      "provenance": [],
      "collapsed_sections": [
        "J22xSyfXRcIP",
        "_MYdgGUQRf6H",
        "ALjAVPpJdR-U"
      ],
      "include_colab_link": true
    },
    "kernelspec": {
      "display_name": "Python 3",
      "name": "python3"
    },
    "language_info": {
      "name": "python"
    }
  },
  "nbformat": 4,
  "nbformat_minor": 0
}